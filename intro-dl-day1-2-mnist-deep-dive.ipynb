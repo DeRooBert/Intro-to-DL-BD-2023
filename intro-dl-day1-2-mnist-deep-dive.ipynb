{
 "cells": [
  {
   "cell_type": "markdown",
   "id": "29b2b844",
   "metadata": {
    "id": "vuoajNPM3V0V",
    "papermill": {
     "duration": 0.177277,
     "end_time": "2022-04-27T16:06:34.038766",
     "exception": false,
     "start_time": "2022-04-27T16:06:33.861489",
     "status": "completed"
    },
    "tags": []
   },
   "source": [
    "# Introduction to Deep Learning Training 1.2\n",
    "## MNIST Deep dive"
   ]
  },
  {
   "cell_type": "markdown",
   "id": "064bad8d",
   "metadata": {
    "papermill": {
     "duration": 0.162763,
     "end_time": "2022-04-27T16:06:34.370453",
     "exception": false,
     "start_time": "2022-04-27T16:06:34.207690",
     "status": "completed"
    },
    "tags": []
   },
   "source": [
    "In this notebook we will deep dive on how a CNN works using a classical dataset in DL: MNIST (remember the handwritten digit classifier from Yann LeCun in 1998: [LeNet 5](http://yann.lecun.com/exdb/lenet/))?\n",
    "\n",
    "Sidenote: **You won't need any GPU for this notebook, you can keep just a CPU it will be fine ;)**"
   ]
  },
  {
   "cell_type": "markdown",
   "id": "b6f165aa",
   "metadata": {
    "id": "-Na41gNm3V0a",
    "papermill": {
     "duration": 0.162898,
     "end_time": "2022-04-27T16:06:34.698732",
     "exception": false,
     "start_time": "2022-04-27T16:06:34.535834",
     "status": "completed"
    },
    "tags": []
   },
   "source": [
    "### About The Data"
   ]
  },
  {
   "cell_type": "markdown",
   "id": "9d63c329",
   "metadata": {
    "id": "X5WnQvN43V0c",
    "papermill": {
     "duration": 0.167006,
     "end_time": "2022-04-27T16:06:35.030954",
     "exception": false,
     "start_time": "2022-04-27T16:06:34.863948",
     "status": "completed"
    },
    "tags": []
   },
   "source": [
    "In this lesson, we will be working with ***MNIST***, a classic data set of hand-written digits.  Solutions to this problem are for instance used by banks to automatically recognize the amounts on checks, and by the postal service to automatically recognize zip codes on mail."
   ]
  },
  {
   "cell_type": "markdown",
   "id": "4b774691",
   "metadata": {
    "id": "QecfMSLY3V0f",
    "papermill": {
     "duration": 0.163864,
     "end_time": "2022-04-27T16:06:35.377618",
     "exception": false,
     "start_time": "2022-04-27T16:06:35.213754",
     "status": "completed"
    },
    "tags": []
   },
   "source": [
    "A image can be represented by a matrix, by creating a grid where each entry corresponds to a different pixel.\n",
    "\n",
    "<img src=\"https://s15.postimg.cc/9c81y146z/digit.gif\" alt=\"digit\" style=\"width: 55%\"/>\n",
    "  \n",
    "(Source of image: [Adam Geitgey](https://medium.com/@ageitgey/machine-learning-is-fun-part-3-deep-learning-and-convolutional-neural-networks-f40359318721) )\n",
    "\n",
    "In this case we are using black & white images, so you have enough with one number per pixel to specify the color. However if you are working with color images, the principle is the same, except that you have 3 numbers per pixel: RGB = Red Green Blue => 3 input channels, but it works in the same way."
   ]
  },
  {
   "cell_type": "markdown",
   "id": "7a00962e",
   "metadata": {
    "id": "9tHX5hnC3V0g",
    "papermill": {
     "duration": 0.166131,
     "end_time": "2022-04-27T16:06:35.707759",
     "exception": false,
     "start_time": "2022-04-27T16:06:35.541628",
     "status": "completed"
    },
    "tags": []
   },
   "source": [
    "## Imports and data"
   ]
  },
  {
   "cell_type": "markdown",
   "id": "197fd100",
   "metadata": {
    "id": "7S2N1Yno3V0h",
    "papermill": {
     "duration": 0.163151,
     "end_time": "2022-04-27T16:06:36.033968",
     "exception": false,
     "start_time": "2022-04-27T16:06:35.870817",
     "status": "completed"
    },
    "tags": []
   },
   "source": [
    "We will be using the fastai library, in which we can find the data as well."
   ]
  },
  {
   "cell_type": "code",
   "execution_count": 1,
   "id": "3337b0d7",
   "metadata": {
    "execution": {
     "iopub.execute_input": "2022-04-27T16:06:36.375964Z",
     "iopub.status.busy": "2022-04-27T16:06:36.375192Z",
     "iopub.status.idle": "2022-04-27T16:06:38.889117Z",
     "shell.execute_reply": "2022-04-27T16:06:38.887917Z",
     "shell.execute_reply.started": "2022-04-27T16:01:42.421322Z"
    },
    "id": "_j8mK5P93V0o",
    "papermill": {
     "duration": 2.689908,
     "end_time": "2022-04-27T16:06:38.889292",
     "exception": false,
     "start_time": "2022-04-27T16:06:36.199384",
     "status": "completed"
    },
    "tags": []
   },
   "outputs": [],
   "source": [
    "from fastai.vision.all import *\n",
    "\n",
    "matplotlib.rc('image', cmap='Greys')"
   ]
  },
  {
   "cell_type": "markdown",
   "id": "2fded652",
   "metadata": {
    "id": "nIHbu4yo3V0w",
    "papermill": {
     "duration": 0.165811,
     "end_time": "2022-04-27T16:06:39.215558",
     "exception": false,
     "start_time": "2022-04-27T16:06:39.049747",
     "status": "completed"
    },
    "tags": []
   },
   "source": [
    "For this initial tutorial we are just going to try to create a model that can classify any image as a 3 or a 7. So let's download a sample of MNIST that contains images of just these digits:"
   ]
  },
  {
   "cell_type": "code",
   "execution_count": 2,
   "id": "35a74582",
   "metadata": {
    "execution": {
     "iopub.execute_input": "2022-04-27T16:06:39.544478Z",
     "iopub.status.busy": "2022-04-27T16:06:39.543881Z",
     "iopub.status.idle": "2022-04-27T16:06:45.367319Z",
     "shell.execute_reply": "2022-04-27T16:06:45.366568Z",
     "shell.execute_reply.started": "2022-04-27T16:01:45.393040Z"
    },
    "id": "dpwDCpJa3V0x",
    "outputId": "a1c53a11-7b26-4927-9ce7-af05570cccbb",
    "papermill": {
     "duration": 5.988855,
     "end_time": "2022-04-27T16:06:45.367464",
     "exception": false,
     "start_time": "2022-04-27T16:06:39.378609",
     "status": "completed"
    },
    "tags": []
   },
   "outputs": [
    {
     "data": {
      "text/html": [
       "\n",
       "<style>\n",
       "    /* Turns off some styling */\n",
       "    progress {\n",
       "        /* gets rid of default border in Firefox and Opera. */\n",
       "        border: none;\n",
       "        /* Needs to be in here for Safari polyfill so background images work as expected. */\n",
       "        background-size: auto;\n",
       "    }\n",
       "    .progress-bar-interrupted, .progress-bar-interrupted::-webkit-progress-bar {\n",
       "        background: #F44336;\n",
       "    }\n",
       "</style>\n"
      ],
      "text/plain": [
       "<IPython.core.display.HTML object>"
      ]
     },
     "metadata": {},
     "output_type": "display_data"
    },
    {
     "data": {
      "text/html": [
       "\n",
       "    <div>\n",
       "      <progress value='3219456' class='' max='3214948' style='width:300px; height:20px; vertical-align: middle;'></progress>\n",
       "      100.14% [3219456/3214948 00:01<00:00]\n",
       "    </div>\n",
       "    "
      ],
      "text/plain": [
       "<IPython.core.display.HTML object>"
      ]
     },
     "metadata": {},
     "output_type": "display_data"
    }
   ],
   "source": [
    "path = untar_data(URLs.MNIST_SAMPLE)"
   ]
  },
  {
   "cell_type": "markdown",
   "id": "370a344f",
   "metadata": {
    "papermill": {
     "duration": 0.166349,
     "end_time": "2022-04-27T16:06:45.700792",
     "exception": false,
     "start_time": "2022-04-27T16:06:45.534443",
     "status": "completed"
    },
    "tags": []
   },
   "source": [
    "We can see what's in this directory by using `ls`, a method added by fastai. This method returns an object of a special fastai class called `L`, which has all the same functionality of Python's built-in `list`, plus a lot more. One of its handy features is that, when printed, it displays the count of items, before listing the items themselves (if there are more than 10 items, it just shows the first few):"
   ]
  },
  {
   "cell_type": "code",
   "execution_count": 3,
   "id": "70c555fc",
   "metadata": {
    "execution": {
     "iopub.execute_input": "2022-04-27T16:06:46.040844Z",
     "iopub.status.busy": "2022-04-27T16:06:46.039834Z",
     "iopub.status.idle": "2022-04-27T16:06:46.044881Z",
     "shell.execute_reply": "2022-04-27T16:06:46.044255Z",
     "shell.execute_reply.started": "2022-04-27T16:01:49.811916Z"
    },
    "id": "bCjOGY1I3V00",
    "outputId": "524e553e-71a3-444c-bd4a-9b1fdc5356b2",
    "papermill": {
     "duration": 0.177679,
     "end_time": "2022-04-27T16:06:46.045013",
     "exception": false,
     "start_time": "2022-04-27T16:06:45.867334",
     "status": "completed"
    },
    "tags": []
   },
   "outputs": [
    {
     "data": {
      "text/plain": [
       "(#3) [Path('/root/.fastai/data/mnist_sample/valid'),Path('/root/.fastai/data/mnist_sample/labels.csv'),Path('/root/.fastai/data/mnist_sample/train')]"
      ]
     },
     "execution_count": 3,
     "metadata": {},
     "output_type": "execute_result"
    }
   ],
   "source": [
    "path.ls()"
   ]
  },
  {
   "cell_type": "markdown",
   "id": "cca0a783",
   "metadata": {
    "papermill": {
     "duration": 0.165752,
     "end_time": "2022-04-27T16:06:46.401731",
     "exception": false,
     "start_time": "2022-04-27T16:06:46.235979",
     "status": "completed"
    },
    "tags": []
   },
   "source": [
    "The MNIST dataset follows a common layout for machine learning datasets: separate folders for the training set and the validation set (and/or test set). Let's see what's inside the training set:"
   ]
  },
  {
   "cell_type": "code",
   "execution_count": 4,
   "id": "c82ce0d4",
   "metadata": {
    "execution": {
     "iopub.execute_input": "2022-04-27T16:06:46.737830Z",
     "iopub.status.busy": "2022-04-27T16:06:46.737124Z",
     "iopub.status.idle": "2022-04-27T16:06:46.739769Z",
     "shell.execute_reply": "2022-04-27T16:06:46.740332Z",
     "shell.execute_reply.started": "2022-04-27T16:01:49.820457Z"
    },
    "papermill": {
     "duration": 0.174176,
     "end_time": "2022-04-27T16:06:46.740500",
     "exception": false,
     "start_time": "2022-04-27T16:06:46.566324",
     "status": "completed"
    },
    "tags": []
   },
   "outputs": [
    {
     "data": {
      "text/plain": [
       "(#2) [Path('/root/.fastai/data/mnist_sample/train/7'),Path('/root/.fastai/data/mnist_sample/train/3')]"
      ]
     },
     "execution_count": 4,
     "metadata": {},
     "output_type": "execute_result"
    }
   ],
   "source": [
    "(path/'train').ls()"
   ]
  },
  {
   "cell_type": "markdown",
   "id": "b278e264",
   "metadata": {
    "papermill": {
     "duration": 0.166015,
     "end_time": "2022-04-27T16:06:47.074214",
     "exception": false,
     "start_time": "2022-04-27T16:06:46.908199",
     "status": "completed"
    },
    "tags": []
   },
   "source": [
    "There's a folder of 3s, and a folder of 7s. In machine learning parlance, we say that \"3\" and \"7\" are the *labels* (or targets) in this dataset. Let's take a look in one of these folders (using `sorted` to ensure we all get the same order of files):"
   ]
  },
  {
   "cell_type": "code",
   "execution_count": 5,
   "id": "2f34bf92",
   "metadata": {
    "execution": {
     "iopub.execute_input": "2022-04-27T16:06:47.413857Z",
     "iopub.status.busy": "2022-04-27T16:06:47.413188Z",
     "iopub.status.idle": "2022-04-27T16:06:47.560901Z",
     "shell.execute_reply": "2022-04-27T16:06:47.561487Z",
     "shell.execute_reply.started": "2022-04-27T16:01:49.891695Z"
    },
    "papermill": {
     "duration": 0.317937,
     "end_time": "2022-04-27T16:06:47.561681",
     "exception": false,
     "start_time": "2022-04-27T16:06:47.243744",
     "status": "completed"
    },
    "tags": []
   },
   "outputs": [
    {
     "data": {
      "text/plain": [
       "(#6131) [Path('/root/.fastai/data/mnist_sample/train/3/10.png'),Path('/root/.fastai/data/mnist_sample/train/3/10000.png'),Path('/root/.fastai/data/mnist_sample/train/3/10011.png'),Path('/root/.fastai/data/mnist_sample/train/3/10031.png'),Path('/root/.fastai/data/mnist_sample/train/3/10034.png'),Path('/root/.fastai/data/mnist_sample/train/3/10042.png'),Path('/root/.fastai/data/mnist_sample/train/3/10052.png'),Path('/root/.fastai/data/mnist_sample/train/3/1007.png'),Path('/root/.fastai/data/mnist_sample/train/3/10074.png'),Path('/root/.fastai/data/mnist_sample/train/3/10091.png')...]"
      ]
     },
     "execution_count": 5,
     "metadata": {},
     "output_type": "execute_result"
    }
   ],
   "source": [
    "threes = (path/'train'/'3').ls().sorted()\n",
    "sevens = (path/'train'/'7').ls().sorted()\n",
    "threes"
   ]
  },
  {
   "cell_type": "markdown",
   "id": "6a1852d8",
   "metadata": {
    "papermill": {
     "duration": 0.16731,
     "end_time": "2022-04-27T16:06:47.897908",
     "exception": false,
     "start_time": "2022-04-27T16:06:47.730598",
     "status": "completed"
    },
    "tags": []
   },
   "source": [
    "As we might expect, it's full of image files. Let’s take a look at one now. Here’s an image of a handwritten number 3, taken from the famous MNIST dataset of handwritten numbers:"
   ]
  },
  {
   "cell_type": "code",
   "execution_count": 6,
   "id": "830f76fb",
   "metadata": {
    "execution": {
     "iopub.execute_input": "2022-04-27T16:06:48.237794Z",
     "iopub.status.busy": "2022-04-27T16:06:48.237168Z",
     "iopub.status.idle": "2022-04-27T16:06:48.253189Z",
     "shell.execute_reply": "2022-04-27T16:06:48.252580Z",
     "shell.execute_reply.started": "2022-04-27T16:01:50.048890Z"
    },
    "papermill": {
     "duration": 0.187942,
     "end_time": "2022-04-27T16:06:48.253330",
     "exception": false,
     "start_time": "2022-04-27T16:06:48.065388",
     "status": "completed"
    },
    "tags": []
   },
   "outputs": [
    {
     "data": {
      "image/png": "[encoded data removed]",
      "text/plain": [
       "<PIL.PngImagePlugin.PngImageFile image mode=L size=28x28 at 0x7F8B0A32BF90>"
      ]
     },
     "execution_count": 6,
     "metadata": {},
     "output_type": "execute_result"
    }
   ],
   "source": [
    "im3_path = threes[1]\n",
    "im3 = Image.open(im3_path)\n",
    "im3"
   ]
  },
  {
   "cell_type": "markdown",
   "id": "4cc03712",
   "metadata": {
    "papermill": {
     "duration": 0.165353,
     "end_time": "2022-04-27T16:06:48.586001",
     "exception": false,
     "start_time": "2022-04-27T16:06:48.420648",
     "status": "completed"
    },
    "tags": []
   },
   "source": [
    "Here we are using the `Image` class from the *Python Imaging Library* (PIL), which is the most widely used Python package for opening, manipulating, and viewing images. Jupyter knows about PIL images, so it displays the image for us automatically.\n",
    "\n",
    "In a computer, everything is represented as a number. To view the numbers that make up this image, we have to convert it to a *NumPy array* or a *PyTorch tensor*. For instance, here's what a section of the image looks like, converted to a NumPy array:"
   ]
  },
  {
   "cell_type": "code",
   "execution_count": 7,
   "id": "3775e04e",
   "metadata": {
    "execution": {
     "iopub.execute_input": "2022-04-27T16:06:48.926174Z",
     "iopub.status.busy": "2022-04-27T16:06:48.925186Z",
     "iopub.status.idle": "2022-04-27T16:06:48.932605Z",
     "shell.execute_reply": "2022-04-27T16:06:48.933071Z",
     "shell.execute_reply.started": "2022-04-27T16:01:50.069603Z"
    },
    "papermill": {
     "duration": 0.180274,
     "end_time": "2022-04-27T16:06:48.933254",
     "exception": false,
     "start_time": "2022-04-27T16:06:48.752980",
     "status": "completed"
    },
    "tags": []
   },
   "outputs": [
    {
     "data": {
      "text/plain": [
       "array([[  0,   0,   0,   0,   0,   0],\n",
       "       [  0,   0,   0,   0,   0,  29],\n",
       "       [  0,   0,   0,  48, 166, 224],\n",
       "       [  0,  93, 244, 249, 253, 187],\n",
       "       [  0, 107, 253, 253, 230,  48],\n",
       "       [  0,   3,  20,  20,  15,   0]], dtype=uint8)"
      ]
     },
     "execution_count": 7,
     "metadata": {},
     "output_type": "execute_result"
    }
   ],
   "source": [
    "array(im3)[4:10,4:10]"
   ]
  },
  {
   "cell_type": "markdown",
   "id": "3d7bf027",
   "metadata": {
    "papermill": {
     "duration": 0.168402,
     "end_time": "2022-04-27T16:06:49.277561",
     "exception": false,
     "start_time": "2022-04-27T16:06:49.109159",
     "status": "completed"
    },
    "tags": []
   },
   "source": [
    "The `4:10` indicates we requested the rows from index 4 (included) to 10 (not included) and the same for the columns. NumPy indexes from top to bottom and left to right, so this section is located in the top-left corner of the image. Here's the same thing as a PyTorch tensor:"
   ]
  },
  {
   "cell_type": "code",
   "execution_count": 8,
   "id": "a6ac7050",
   "metadata": {
    "execution": {
     "iopub.execute_input": "2022-04-27T16:06:49.615365Z",
     "iopub.status.busy": "2022-04-27T16:06:49.614750Z",
     "iopub.status.idle": "2022-04-27T16:06:49.658500Z",
     "shell.execute_reply": "2022-04-27T16:06:49.659055Z",
     "shell.execute_reply.started": "2022-04-27T16:01:50.079942Z"
    },
    "papermill": {
     "duration": 0.215149,
     "end_time": "2022-04-27T16:06:49.659219",
     "exception": false,
     "start_time": "2022-04-27T16:06:49.444070",
     "status": "completed"
    },
    "tags": []
   },
   "outputs": [
    {
     "data": {
      "text/plain": [
       "tensor([[  0,   0,   0,   0,   0,   0],\n",
       "        [  0,   0,   0,   0,   0,  29],\n",
       "        [  0,   0,   0,  48, 166, 224],\n",
       "        [  0,  93, 244, 249, 253, 187],\n",
       "        [  0, 107, 253, 253, 230,  48],\n",
       "        [  0,   3,  20,  20,  15,   0]], dtype=torch.uint8)"
      ]
     },
     "execution_count": 8,
     "metadata": {},
     "output_type": "execute_result"
    }
   ],
   "source": [
    "tensor(im3)[4:10,4:10]"
   ]
  },
  {
   "cell_type": "markdown",
   "id": "c5d47495",
   "metadata": {
    "papermill": {
     "duration": 0.165222,
     "end_time": "2022-04-27T16:06:49.990285",
     "exception": false,
     "start_time": "2022-04-27T16:06:49.825063",
     "status": "completed"
    },
    "tags": []
   },
   "source": [
    "You can see they are nearly the same, but the big difference is that a PyTorch tensor can be speed up on a GPU\n",
    "\n",
    "We can slice the array to pick just the part with the top of the digit in it, and then use a Pandas DataFrame to color-code the values using a gradient, which shows us clearly how the image is created from the pixel values:"
   ]
  },
  {
   "cell_type": "code",
   "execution_count": 9,
   "id": "431dea75",
   "metadata": {
    "execution": {
     "iopub.execute_input": "2022-04-27T16:06:50.331117Z",
     "iopub.status.busy": "2022-04-27T16:06:50.330439Z",
     "iopub.status.idle": "2022-04-27T16:06:50.470183Z",
     "shell.execute_reply": "2022-04-27T16:06:50.469551Z",
     "shell.execute_reply.started": "2022-04-27T16:01:50.136633Z"
    },
    "papermill": {
     "duration": 0.312738,
     "end_time": "2022-04-27T16:06:50.470318",
     "exception": false,
     "start_time": "2022-04-27T16:06:50.157580",
     "status": "completed"
    },
    "tags": []
   },
   "outputs": [
    {
     "data": {
      "text/html": [
       "<style type=\"text/css\">\n",
       "#T_e52f4_row0_col0, #T_e52f4_row0_col1, #T_e52f4_row0_col2, #T_e52f4_row0_col3, #T_e52f4_row0_col4, #T_e52f4_row0_col5, #T_e52f4_row0_col6, #T_e52f4_row0_col7, #T_e52f4_row0_col8, #T_e52f4_row0_col9, #T_e52f4_row0_col10, #T_e52f4_row0_col11, #T_e52f4_row0_col12, #T_e52f4_row0_col13, #T_e52f4_row0_col14, #T_e52f4_row0_col15, #T_e52f4_row0_col16, #T_e52f4_row0_col17, #T_e52f4_row1_col0, #T_e52f4_row1_col1, #T_e52f4_row1_col2, #T_e52f4_row1_col3, #T_e52f4_row1_col4, #T_e52f4_row1_col15, #T_e52f4_row1_col16, #T_e52f4_row1_col17, #T_e52f4_row2_col0, #T_e52f4_row2_col1, #T_e52f4_row2_col2, #T_e52f4_row2_col15, #T_e52f4_row2_col16, #T_e52f4_row2_col17, #T_e52f4_row3_col0, #T_e52f4_row3_col15, #T_e52f4_row3_col16, #T_e52f4_row3_col17, #T_e52f4_row4_col0, #T_e52f4_row4_col6, #T_e52f4_row4_col7, #T_e52f4_row4_col8, #T_e52f4_row4_col9, #T_e52f4_row4_col10, #T_e52f4_row4_col15, #T_e52f4_row4_col16, #T_e52f4_row4_col17, #T_e52f4_row5_col0, #T_e52f4_row5_col5, #T_e52f4_row5_col6, #T_e52f4_row5_col7, #T_e52f4_row5_col8, #T_e52f4_row5_col9, #T_e52f4_row5_col15, #T_e52f4_row5_col16, #T_e52f4_row5_col17, #T_e52f4_row6_col0, #T_e52f4_row6_col1, #T_e52f4_row6_col2, #T_e52f4_row6_col3, #T_e52f4_row6_col4, #T_e52f4_row6_col5, #T_e52f4_row6_col6, #T_e52f4_row6_col7, #T_e52f4_row6_col8, #T_e52f4_row6_col9, #T_e52f4_row6_col14, #T_e52f4_row6_col15, #T_e52f4_row6_col16, #T_e52f4_row6_col17, #T_e52f4_row7_col0, #T_e52f4_row7_col1, #T_e52f4_row7_col2, #T_e52f4_row7_col3, #T_e52f4_row7_col4, #T_e52f4_row7_col5, #T_e52f4_row7_col6, #T_e52f4_row7_col13, #T_e52f4_row7_col14, #T_e52f4_row7_col15, #T_e52f4_row7_col16, #T_e52f4_row7_col17, #T_e52f4_row8_col0, #T_e52f4_row8_col1, #T_e52f4_row8_col2, #T_e52f4_row8_col3, #T_e52f4_row8_col4, #T_e52f4_row8_col13, #T_e52f4_row8_col14, #T_e52f4_row8_col15, #T_e52f4_row8_col16, #T_e52f4_row8_col17, #T_e52f4_row9_col0, #T_e52f4_row9_col1, #T_e52f4_row9_col2, #T_e52f4_row9_col3, #T_e52f4_row9_col4, #T_e52f4_row9_col16, #T_e52f4_row9_col17, #T_e52f4_row10_col0, #T_e52f4_row10_col1, #T_e52f4_row10_col2, #T_e52f4_row10_col3, #T_e52f4_row10_col4, #T_e52f4_row10_col5, #T_e52f4_row10_col6, #T_e52f4_row10_col17 {\n",
       "  font-size: 6pt;\n",
       "  background-color: #ffffff;\n",
       "  color: #000000;\n",
       "}\n",
       "#T_e52f4_row1_col5 {\n",
       "  font-size: 6pt;\n",
       "  background-color: #efefef;\n",
       "  color: #000000;\n",
       "}\n",
       "#T_e52f4_row1_col6, #T_e52f4_row1_col13 {\n",
       "  font-size: 6pt;\n",
       "  background-color: #7c7c7c;\n",
       "  color: #f1f1f1;\n",
       "}\n",
       "#T_e52f4_row1_col7 {\n",
       "  font-size: 6pt;\n",
       "  background-color: #4a4a4a;\n",
       "  color: #f1f1f1;\n",
       "}\n",
       "#T_e52f4_row1_col8, #T_e52f4_row1_col9, #T_e52f4_row1_col10, #T_e52f4_row2_col5, #T_e52f4_row2_col6, #T_e52f4_row2_col7, #T_e52f4_row2_col11, #T_e52f4_row2_col12, #T_e52f4_row2_col13, #T_e52f4_row3_col4, #T_e52f4_row3_col12, #T_e52f4_row3_col13, #T_e52f4_row4_col1, #T_e52f4_row4_col2, #T_e52f4_row4_col3, #T_e52f4_row4_col12, #T_e52f4_row4_col13, #T_e52f4_row5_col12, #T_e52f4_row6_col11, #T_e52f4_row9_col11, #T_e52f4_row10_col11, #T_e52f4_row10_col12, #T_e52f4_row10_col13, #T_e52f4_row10_col14, #T_e52f4_row10_col15, #T_e52f4_row10_col16 {\n",
       "  font-size: 6pt;\n",
       "  background-color: #000000;\n",
       "  color: #f1f1f1;\n",
       "}\n",
       "#T_e52f4_row1_col11 {\n",
       "  font-size: 6pt;\n",
       "  background-color: #606060;\n",
       "  color: #f1f1f1;\n",
       "}\n",
       "#T_e52f4_row1_col12 {\n",
       "  font-size: 6pt;\n",
       "  background-color: #4d4d4d;\n",
       "  color: #f1f1f1;\n",
       "}\n",
       "#T_e52f4_row1_col14 {\n",
       "  font-size: 6pt;\n",
       "  background-color: #bbbbbb;\n",
       "  color: #000000;\n",
       "}\n",
       "#T_e52f4_row2_col3 {\n",
       "  font-size: 6pt;\n",
       "  background-color: #e4e4e4;\n",
       "  color: #000000;\n",
       "}\n",
       "#T_e52f4_row2_col4, #T_e52f4_row8_col6 {\n",
       "  font-size: 6pt;\n",
       "  background-color: #6b6b6b;\n",
       "  color: #f1f1f1;\n",
       "}\n",
       "#T_e52f4_row2_col8, #T_e52f4_row2_col14, #T_e52f4_row3_col14 {\n",
       "  font-size: 6pt;\n",
       "  background-color: #171717;\n",
       "  color: #f1f1f1;\n",
       "}\n",
       "#T_e52f4_row2_col9, #T_e52f4_row3_col11 {\n",
       "  font-size: 6pt;\n",
       "  background-color: #4b4b4b;\n",
       "  color: #f1f1f1;\n",
       "}\n",
       "#T_e52f4_row2_col10, #T_e52f4_row7_col10, #T_e52f4_row8_col8, #T_e52f4_row8_col10, #T_e52f4_row9_col8, #T_e52f4_row9_col10 {\n",
       "  font-size: 6pt;\n",
       "  background-color: #010101;\n",
       "  color: #f1f1f1;\n",
       "}\n",
       "#T_e52f4_row3_col1 {\n",
       "  font-size: 6pt;\n",
       "  background-color: #272727;\n",
       "  color: #f1f1f1;\n",
       "}\n",
       "#T_e52f4_row3_col2 {\n",
       "  font-size: 6pt;\n",
       "  background-color: #0a0a0a;\n",
       "  color: #f1f1f1;\n",
       "}\n",
       "#T_e52f4_row3_col3 {\n",
       "  font-size: 6pt;\n",
       "  background-color: #050505;\n",
       "  color: #f1f1f1;\n",
       "}\n",
       "#T_e52f4_row3_col5 {\n",
       "  font-size: 6pt;\n",
       "  background-color: #333333;\n",
       "  color: #f1f1f1;\n",
       "}\n",
       "#T_e52f4_row3_col6 {\n",
       "  font-size: 6pt;\n",
       "  background-color: #e6e6e6;\n",
       "  color: #000000;\n",
       "}\n",
       "#T_e52f4_row3_col7, #T_e52f4_row3_col10 {\n",
       "  font-size: 6pt;\n",
       "  background-color: #fafafa;\n",
       "  color: #000000;\n",
       "}\n",
       "#T_e52f4_row3_col8 {\n",
       "  font-size: 6pt;\n",
       "  background-color: #fbfbfb;\n",
       "  color: #000000;\n",
       "}\n",
       "#T_e52f4_row3_col9 {\n",
       "  font-size: 6pt;\n",
       "  background-color: #fdfdfd;\n",
       "  color: #000000;\n",
       "}\n",
       "#T_e52f4_row4_col4 {\n",
       "  font-size: 6pt;\n",
       "  background-color: #1b1b1b;\n",
       "  color: #f1f1f1;\n",
       "}\n",
       "#T_e52f4_row4_col5 {\n",
       "  font-size: 6pt;\n",
       "  background-color: #e0e0e0;\n",
       "  color: #000000;\n",
       "}\n",
       "#T_e52f4_row4_col11 {\n",
       "  font-size: 6pt;\n",
       "  background-color: #4e4e4e;\n",
       "  color: #f1f1f1;\n",
       "}\n",
       "#T_e52f4_row4_col14 {\n",
       "  font-size: 6pt;\n",
       "  background-color: #767676;\n",
       "  color: #f1f1f1;\n",
       "}\n",
       "#T_e52f4_row5_col1 {\n",
       "  font-size: 6pt;\n",
       "  background-color: #fcfcfc;\n",
       "  color: #000000;\n",
       "}\n",
       "#T_e52f4_row5_col2, #T_e52f4_row5_col3 {\n",
       "  font-size: 6pt;\n",
       "  background-color: #f6f6f6;\n",
       "  color: #000000;\n",
       "}\n",
       "#T_e52f4_row5_col4, #T_e52f4_row7_col7 {\n",
       "  font-size: 6pt;\n",
       "  background-color: #f8f8f8;\n",
       "  color: #000000;\n",
       "}\n",
       "#T_e52f4_row5_col10, #T_e52f4_row10_col7 {\n",
       "  font-size: 6pt;\n",
       "  background-color: #e8e8e8;\n",
       "  color: #000000;\n",
       "}\n",
       "#T_e52f4_row5_col11 {\n",
       "  font-size: 6pt;\n",
       "  background-color: #222222;\n",
       "  color: #f1f1f1;\n",
       "}\n",
       "#T_e52f4_row5_col13, #T_e52f4_row6_col12 {\n",
       "  font-size: 6pt;\n",
       "  background-color: #090909;\n",
       "  color: #f1f1f1;\n",
       "}\n",
       "#T_e52f4_row5_col14 {\n",
       "  font-size: 6pt;\n",
       "  background-color: #d0d0d0;\n",
       "  color: #000000;\n",
       "}\n",
       "#T_e52f4_row6_col10, #T_e52f4_row7_col11, #T_e52f4_row9_col6 {\n",
       "  font-size: 6pt;\n",
       "  background-color: #060606;\n",
       "  color: #f1f1f1;\n",
       "}\n",
       "#T_e52f4_row6_col13 {\n",
       "  font-size: 6pt;\n",
       "  background-color: #979797;\n",
       "  color: #f1f1f1;\n",
       "}\n",
       "#T_e52f4_row7_col8 {\n",
       "  font-size: 6pt;\n",
       "  background-color: #b6b6b6;\n",
       "  color: #000000;\n",
       "}\n",
       "#T_e52f4_row7_col9 {\n",
       "  font-size: 6pt;\n",
       "  background-color: #252525;\n",
       "  color: #f1f1f1;\n",
       "}\n",
       "#T_e52f4_row7_col12 {\n",
       "  font-size: 6pt;\n",
       "  background-color: #999999;\n",
       "  color: #f1f1f1;\n",
       "}\n",
       "#T_e52f4_row8_col5 {\n",
       "  font-size: 6pt;\n",
       "  background-color: #f9f9f9;\n",
       "  color: #000000;\n",
       "}\n",
       "#T_e52f4_row8_col7 {\n",
       "  font-size: 6pt;\n",
       "  background-color: #101010;\n",
       "  color: #f1f1f1;\n",
       "}\n",
       "#T_e52f4_row8_col9, #T_e52f4_row9_col9 {\n",
       "  font-size: 6pt;\n",
       "  background-color: #020202;\n",
       "  color: #f1f1f1;\n",
       "}\n",
       "#T_e52f4_row8_col11 {\n",
       "  font-size: 6pt;\n",
       "  background-color: #545454;\n",
       "  color: #f1f1f1;\n",
       "}\n",
       "#T_e52f4_row8_col12 {\n",
       "  font-size: 6pt;\n",
       "  background-color: #f1f1f1;\n",
       "  color: #000000;\n",
       "}\n",
       "#T_e52f4_row9_col5 {\n",
       "  font-size: 6pt;\n",
       "  background-color: #f7f7f7;\n",
       "  color: #000000;\n",
       "}\n",
       "#T_e52f4_row9_col7 {\n",
       "  font-size: 6pt;\n",
       "  background-color: #030303;\n",
       "  color: #f1f1f1;\n",
       "}\n",
       "#T_e52f4_row9_col12 {\n",
       "  font-size: 6pt;\n",
       "  background-color: #181818;\n",
       "  color: #f1f1f1;\n",
       "}\n",
       "#T_e52f4_row9_col13 {\n",
       "  font-size: 6pt;\n",
       "  background-color: #303030;\n",
       "  color: #f1f1f1;\n",
       "}\n",
       "#T_e52f4_row9_col14 {\n",
       "  font-size: 6pt;\n",
       "  background-color: #a9a9a9;\n",
       "  color: #f1f1f1;\n",
       "}\n",
       "#T_e52f4_row9_col15 {\n",
       "  font-size: 6pt;\n",
       "  background-color: #fefefe;\n",
       "  color: #000000;\n",
       "}\n",
       "#T_e52f4_row10_col8, #T_e52f4_row10_col9 {\n",
       "  font-size: 6pt;\n",
       "  background-color: #bababa;\n",
       "  color: #000000;\n",
       "}\n",
       "#T_e52f4_row10_col10 {\n",
       "  font-size: 6pt;\n",
       "  background-color: #393939;\n",
       "  color: #f1f1f1;\n",
       "}\n",
       "</style>\n",
       "<table id=\"T_e52f4_\">\n",
       "  <thead>\n",
       "    <tr>\n",
       "      <th class=\"blank level0\" >&nbsp;</th>\n",
       "      <th class=\"col_heading level0 col0\" >0</th>\n",
       "      <th class=\"col_heading level0 col1\" >1</th>\n",
       "      <th class=\"col_heading level0 col2\" >2</th>\n",
       "      <th class=\"col_heading level0 col3\" >3</th>\n",
       "      <th class=\"col_heading level0 col4\" >4</th>\n",
       "      <th class=\"col_heading level0 col5\" >5</th>\n",
       "      <th class=\"col_heading level0 col6\" >6</th>\n",
       "      <th class=\"col_heading level0 col7\" >7</th>\n",
       "      <th class=\"col_heading level0 col8\" >8</th>\n",
       "      <th class=\"col_heading level0 col9\" >9</th>\n",
       "      <th class=\"col_heading level0 col10\" >10</th>\n",
       "      <th class=\"col_heading level0 col11\" >11</th>\n",
       "      <th class=\"col_heading level0 col12\" >12</th>\n",
       "      <th class=\"col_heading level0 col13\" >13</th>\n",
       "      <th class=\"col_heading level0 col14\" >14</th>\n",
       "      <th class=\"col_heading level0 col15\" >15</th>\n",
       "      <th class=\"col_heading level0 col16\" >16</th>\n",
       "      <th class=\"col_heading level0 col17\" >17</th>\n",
       "    </tr>\n",
       "  </thead>\n",
       "  <tbody>\n",
       "    <tr>\n",
       "      <th id=\"T_e52f4_level0_row0\" class=\"row_heading level0 row0\" >0</th>\n",
       "      <td id=\"T_e52f4_row0_col0\" class=\"data row0 col0\" >0</td>\n",
       "      <td id=\"T_e52f4_row0_col1\" class=\"data row0 col1\" >0</td>\n",
       "      <td id=\"T_e52f4_row0_col2\" class=\"data row0 col2\" >0</td>\n",
       "      <td id=\"T_e52f4_row0_col3\" class=\"data row0 col3\" >0</td>\n",
       "      <td id=\"T_e52f4_row0_col4\" class=\"data row0 col4\" >0</td>\n",
       "      <td id=\"T_e52f4_row0_col5\" class=\"data row0 col5\" >0</td>\n",
       "      <td id=\"T_e52f4_row0_col6\" class=\"data row0 col6\" >0</td>\n",
       "      <td id=\"T_e52f4_row0_col7\" class=\"data row0 col7\" >0</td>\n",
       "      <td id=\"T_e52f4_row0_col8\" class=\"data row0 col8\" >0</td>\n",
       "      <td id=\"T_e52f4_row0_col9\" class=\"data row0 col9\" >0</td>\n",
       "      <td id=\"T_e52f4_row0_col10\" class=\"data row0 col10\" >0</td>\n",
       "      <td id=\"T_e52f4_row0_col11\" class=\"data row0 col11\" >0</td>\n",
       "      <td id=\"T_e52f4_row0_col12\" class=\"data row0 col12\" >0</td>\n",
       "      <td id=\"T_e52f4_row0_col13\" class=\"data row0 col13\" >0</td>\n",
       "      <td id=\"T_e52f4_row0_col14\" class=\"data row0 col14\" >0</td>\n",
       "      <td id=\"T_e52f4_row0_col15\" class=\"data row0 col15\" >0</td>\n",
       "      <td id=\"T_e52f4_row0_col16\" class=\"data row0 col16\" >0</td>\n",
       "      <td id=\"T_e52f4_row0_col17\" class=\"data row0 col17\" >0</td>\n",
       "    </tr>\n",
       "    <tr>\n",
       "      <th id=\"T_e52f4_level0_row1\" class=\"row_heading level0 row1\" >1</th>\n",
       "      <td id=\"T_e52f4_row1_col0\" class=\"data row1 col0\" >0</td>\n",
       "      <td id=\"T_e52f4_row1_col1\" class=\"data row1 col1\" >0</td>\n",
       "      <td id=\"T_e52f4_row1_col2\" class=\"data row1 col2\" >0</td>\n",
       "      <td id=\"T_e52f4_row1_col3\" class=\"data row1 col3\" >0</td>\n",
       "      <td id=\"T_e52f4_row1_col4\" class=\"data row1 col4\" >0</td>\n",
       "      <td id=\"T_e52f4_row1_col5\" class=\"data row1 col5\" >29</td>\n",
       "      <td id=\"T_e52f4_row1_col6\" class=\"data row1 col6\" >150</td>\n",
       "      <td id=\"T_e52f4_row1_col7\" class=\"data row1 col7\" >195</td>\n",
       "      <td id=\"T_e52f4_row1_col8\" class=\"data row1 col8\" >254</td>\n",
       "      <td id=\"T_e52f4_row1_col9\" class=\"data row1 col9\" >255</td>\n",
       "      <td id=\"T_e52f4_row1_col10\" class=\"data row1 col10\" >254</td>\n",
       "      <td id=\"T_e52f4_row1_col11\" class=\"data row1 col11\" >176</td>\n",
       "      <td id=\"T_e52f4_row1_col12\" class=\"data row1 col12\" >193</td>\n",
       "      <td id=\"T_e52f4_row1_col13\" class=\"data row1 col13\" >150</td>\n",
       "      <td id=\"T_e52f4_row1_col14\" class=\"data row1 col14\" >96</td>\n",
       "      <td id=\"T_e52f4_row1_col15\" class=\"data row1 col15\" >0</td>\n",
       "      <td id=\"T_e52f4_row1_col16\" class=\"data row1 col16\" >0</td>\n",
       "      <td id=\"T_e52f4_row1_col17\" class=\"data row1 col17\" >0</td>\n",
       "    </tr>\n",
       "    <tr>\n",
       "      <th id=\"T_e52f4_level0_row2\" class=\"row_heading level0 row2\" >2</th>\n",
       "      <td id=\"T_e52f4_row2_col0\" class=\"data row2 col0\" >0</td>\n",
       "      <td id=\"T_e52f4_row2_col1\" class=\"data row2 col1\" >0</td>\n",
       "      <td id=\"T_e52f4_row2_col2\" class=\"data row2 col2\" >0</td>\n",
       "      <td id=\"T_e52f4_row2_col3\" class=\"data row2 col3\" >48</td>\n",
       "      <td id=\"T_e52f4_row2_col4\" class=\"data row2 col4\" >166</td>\n",
       "      <td id=\"T_e52f4_row2_col5\" class=\"data row2 col5\" >224</td>\n",
       "      <td id=\"T_e52f4_row2_col6\" class=\"data row2 col6\" >253</td>\n",
       "      <td id=\"T_e52f4_row2_col7\" class=\"data row2 col7\" >253</td>\n",
       "      <td id=\"T_e52f4_row2_col8\" class=\"data row2 col8\" >234</td>\n",
       "      <td id=\"T_e52f4_row2_col9\" class=\"data row2 col9\" >196</td>\n",
       "      <td id=\"T_e52f4_row2_col10\" class=\"data row2 col10\" >253</td>\n",
       "      <td id=\"T_e52f4_row2_col11\" class=\"data row2 col11\" >253</td>\n",
       "      <td id=\"T_e52f4_row2_col12\" class=\"data row2 col12\" >253</td>\n",
       "      <td id=\"T_e52f4_row2_col13\" class=\"data row2 col13\" >253</td>\n",
       "      <td id=\"T_e52f4_row2_col14\" class=\"data row2 col14\" >233</td>\n",
       "      <td id=\"T_e52f4_row2_col15\" class=\"data row2 col15\" >0</td>\n",
       "      <td id=\"T_e52f4_row2_col16\" class=\"data row2 col16\" >0</td>\n",
       "      <td id=\"T_e52f4_row2_col17\" class=\"data row2 col17\" >0</td>\n",
       "    </tr>\n",
       "    <tr>\n",
       "      <th id=\"T_e52f4_level0_row3\" class=\"row_heading level0 row3\" >3</th>\n",
       "      <td id=\"T_e52f4_row3_col0\" class=\"data row3 col0\" >0</td>\n",
       "      <td id=\"T_e52f4_row3_col1\" class=\"data row3 col1\" >93</td>\n",
       "      <td id=\"T_e52f4_row3_col2\" class=\"data row3 col2\" >244</td>\n",
       "      <td id=\"T_e52f4_row3_col3\" class=\"data row3 col3\" >249</td>\n",
       "      <td id=\"T_e52f4_row3_col4\" class=\"data row3 col4\" >253</td>\n",
       "      <td id=\"T_e52f4_row3_col5\" class=\"data row3 col5\" >187</td>\n",
       "      <td id=\"T_e52f4_row3_col6\" class=\"data row3 col6\" >46</td>\n",
       "      <td id=\"T_e52f4_row3_col7\" class=\"data row3 col7\" >10</td>\n",
       "      <td id=\"T_e52f4_row3_col8\" class=\"data row3 col8\" >8</td>\n",
       "      <td id=\"T_e52f4_row3_col9\" class=\"data row3 col9\" >4</td>\n",
       "      <td id=\"T_e52f4_row3_col10\" class=\"data row3 col10\" >10</td>\n",
       "      <td id=\"T_e52f4_row3_col11\" class=\"data row3 col11\" >194</td>\n",
       "      <td id=\"T_e52f4_row3_col12\" class=\"data row3 col12\" >253</td>\n",
       "      <td id=\"T_e52f4_row3_col13\" class=\"data row3 col13\" >253</td>\n",
       "      <td id=\"T_e52f4_row3_col14\" class=\"data row3 col14\" >233</td>\n",
       "      <td id=\"T_e52f4_row3_col15\" class=\"data row3 col15\" >0</td>\n",
       "      <td id=\"T_e52f4_row3_col16\" class=\"data row3 col16\" >0</td>\n",
       "      <td id=\"T_e52f4_row3_col17\" class=\"data row3 col17\" >0</td>\n",
       "    </tr>\n",
       "    <tr>\n",
       "      <th id=\"T_e52f4_level0_row4\" class=\"row_heading level0 row4\" >4</th>\n",
       "      <td id=\"T_e52f4_row4_col0\" class=\"data row4 col0\" >0</td>\n",
       "      <td id=\"T_e52f4_row4_col1\" class=\"data row4 col1\" >107</td>\n",
       "      <td id=\"T_e52f4_row4_col2\" class=\"data row4 col2\" >253</td>\n",
       "      <td id=\"T_e52f4_row4_col3\" class=\"data row4 col3\" >253</td>\n",
       "      <td id=\"T_e52f4_row4_col4\" class=\"data row4 col4\" >230</td>\n",
       "      <td id=\"T_e52f4_row4_col5\" class=\"data row4 col5\" >48</td>\n",
       "      <td id=\"T_e52f4_row4_col6\" class=\"data row4 col6\" >0</td>\n",
       "      <td id=\"T_e52f4_row4_col7\" class=\"data row4 col7\" >0</td>\n",
       "      <td id=\"T_e52f4_row4_col8\" class=\"data row4 col8\" >0</td>\n",
       "      <td id=\"T_e52f4_row4_col9\" class=\"data row4 col9\" >0</td>\n",
       "      <td id=\"T_e52f4_row4_col10\" class=\"data row4 col10\" >0</td>\n",
       "      <td id=\"T_e52f4_row4_col11\" class=\"data row4 col11\" >192</td>\n",
       "      <td id=\"T_e52f4_row4_col12\" class=\"data row4 col12\" >253</td>\n",
       "      <td id=\"T_e52f4_row4_col13\" class=\"data row4 col13\" >253</td>\n",
       "      <td id=\"T_e52f4_row4_col14\" class=\"data row4 col14\" >156</td>\n",
       "      <td id=\"T_e52f4_row4_col15\" class=\"data row4 col15\" >0</td>\n",
       "      <td id=\"T_e52f4_row4_col16\" class=\"data row4 col16\" >0</td>\n",
       "      <td id=\"T_e52f4_row4_col17\" class=\"data row4 col17\" >0</td>\n",
       "    </tr>\n",
       "    <tr>\n",
       "      <th id=\"T_e52f4_level0_row5\" class=\"row_heading level0 row5\" >5</th>\n",
       "      <td id=\"T_e52f4_row5_col0\" class=\"data row5 col0\" >0</td>\n",
       "      <td id=\"T_e52f4_row5_col1\" class=\"data row5 col1\" >3</td>\n",
       "      <td id=\"T_e52f4_row5_col2\" class=\"data row5 col2\" >20</td>\n",
       "      <td id=\"T_e52f4_row5_col3\" class=\"data row5 col3\" >20</td>\n",
       "      <td id=\"T_e52f4_row5_col4\" class=\"data row5 col4\" >15</td>\n",
       "      <td id=\"T_e52f4_row5_col5\" class=\"data row5 col5\" >0</td>\n",
       "      <td id=\"T_e52f4_row5_col6\" class=\"data row5 col6\" >0</td>\n",
       "      <td id=\"T_e52f4_row5_col7\" class=\"data row5 col7\" >0</td>\n",
       "      <td id=\"T_e52f4_row5_col8\" class=\"data row5 col8\" >0</td>\n",
       "      <td id=\"T_e52f4_row5_col9\" class=\"data row5 col9\" >0</td>\n",
       "      <td id=\"T_e52f4_row5_col10\" class=\"data row5 col10\" >43</td>\n",
       "      <td id=\"T_e52f4_row5_col11\" class=\"data row5 col11\" >224</td>\n",
       "      <td id=\"T_e52f4_row5_col12\" class=\"data row5 col12\" >253</td>\n",
       "      <td id=\"T_e52f4_row5_col13\" class=\"data row5 col13\" >245</td>\n",
       "      <td id=\"T_e52f4_row5_col14\" class=\"data row5 col14\" >74</td>\n",
       "      <td id=\"T_e52f4_row5_col15\" class=\"data row5 col15\" >0</td>\n",
       "      <td id=\"T_e52f4_row5_col16\" class=\"data row5 col16\" >0</td>\n",
       "      <td id=\"T_e52f4_row5_col17\" class=\"data row5 col17\" >0</td>\n",
       "    </tr>\n",
       "    <tr>\n",
       "      <th id=\"T_e52f4_level0_row6\" class=\"row_heading level0 row6\" >6</th>\n",
       "      <td id=\"T_e52f4_row6_col0\" class=\"data row6 col0\" >0</td>\n",
       "      <td id=\"T_e52f4_row6_col1\" class=\"data row6 col1\" >0</td>\n",
       "      <td id=\"T_e52f4_row6_col2\" class=\"data row6 col2\" >0</td>\n",
       "      <td id=\"T_e52f4_row6_col3\" class=\"data row6 col3\" >0</td>\n",
       "      <td id=\"T_e52f4_row6_col4\" class=\"data row6 col4\" >0</td>\n",
       "      <td id=\"T_e52f4_row6_col5\" class=\"data row6 col5\" >0</td>\n",
       "      <td id=\"T_e52f4_row6_col6\" class=\"data row6 col6\" >0</td>\n",
       "      <td id=\"T_e52f4_row6_col7\" class=\"data row6 col7\" >0</td>\n",
       "      <td id=\"T_e52f4_row6_col8\" class=\"data row6 col8\" >0</td>\n",
       "      <td id=\"T_e52f4_row6_col9\" class=\"data row6 col9\" >0</td>\n",
       "      <td id=\"T_e52f4_row6_col10\" class=\"data row6 col10\" >249</td>\n",
       "      <td id=\"T_e52f4_row6_col11\" class=\"data row6 col11\" >253</td>\n",
       "      <td id=\"T_e52f4_row6_col12\" class=\"data row6 col12\" >245</td>\n",
       "      <td id=\"T_e52f4_row6_col13\" class=\"data row6 col13\" >126</td>\n",
       "      <td id=\"T_e52f4_row6_col14\" class=\"data row6 col14\" >0</td>\n",
       "      <td id=\"T_e52f4_row6_col15\" class=\"data row6 col15\" >0</td>\n",
       "      <td id=\"T_e52f4_row6_col16\" class=\"data row6 col16\" >0</td>\n",
       "      <td id=\"T_e52f4_row6_col17\" class=\"data row6 col17\" >0</td>\n",
       "    </tr>\n",
       "    <tr>\n",
       "      <th id=\"T_e52f4_level0_row7\" class=\"row_heading level0 row7\" >7</th>\n",
       "      <td id=\"T_e52f4_row7_col0\" class=\"data row7 col0\" >0</td>\n",
       "      <td id=\"T_e52f4_row7_col1\" class=\"data row7 col1\" >0</td>\n",
       "      <td id=\"T_e52f4_row7_col2\" class=\"data row7 col2\" >0</td>\n",
       "      <td id=\"T_e52f4_row7_col3\" class=\"data row7 col3\" >0</td>\n",
       "      <td id=\"T_e52f4_row7_col4\" class=\"data row7 col4\" >0</td>\n",
       "      <td id=\"T_e52f4_row7_col5\" class=\"data row7 col5\" >0</td>\n",
       "      <td id=\"T_e52f4_row7_col6\" class=\"data row7 col6\" >0</td>\n",
       "      <td id=\"T_e52f4_row7_col7\" class=\"data row7 col7\" >14</td>\n",
       "      <td id=\"T_e52f4_row7_col8\" class=\"data row7 col8\" >101</td>\n",
       "      <td id=\"T_e52f4_row7_col9\" class=\"data row7 col9\" >223</td>\n",
       "      <td id=\"T_e52f4_row7_col10\" class=\"data row7 col10\" >253</td>\n",
       "      <td id=\"T_e52f4_row7_col11\" class=\"data row7 col11\" >248</td>\n",
       "      <td id=\"T_e52f4_row7_col12\" class=\"data row7 col12\" >124</td>\n",
       "      <td id=\"T_e52f4_row7_col13\" class=\"data row7 col13\" >0</td>\n",
       "      <td id=\"T_e52f4_row7_col14\" class=\"data row7 col14\" >0</td>\n",
       "      <td id=\"T_e52f4_row7_col15\" class=\"data row7 col15\" >0</td>\n",
       "      <td id=\"T_e52f4_row7_col16\" class=\"data row7 col16\" >0</td>\n",
       "      <td id=\"T_e52f4_row7_col17\" class=\"data row7 col17\" >0</td>\n",
       "    </tr>\n",
       "    <tr>\n",
       "      <th id=\"T_e52f4_level0_row8\" class=\"row_heading level0 row8\" >8</th>\n",
       "      <td id=\"T_e52f4_row8_col0\" class=\"data row8 col0\" >0</td>\n",
       "      <td id=\"T_e52f4_row8_col1\" class=\"data row8 col1\" >0</td>\n",
       "      <td id=\"T_e52f4_row8_col2\" class=\"data row8 col2\" >0</td>\n",
       "      <td id=\"T_e52f4_row8_col3\" class=\"data row8 col3\" >0</td>\n",
       "      <td id=\"T_e52f4_row8_col4\" class=\"data row8 col4\" >0</td>\n",
       "      <td id=\"T_e52f4_row8_col5\" class=\"data row8 col5\" >11</td>\n",
       "      <td id=\"T_e52f4_row8_col6\" class=\"data row8 col6\" >166</td>\n",
       "      <td id=\"T_e52f4_row8_col7\" class=\"data row8 col7\" >239</td>\n",
       "      <td id=\"T_e52f4_row8_col8\" class=\"data row8 col8\" >253</td>\n",
       "      <td id=\"T_e52f4_row8_col9\" class=\"data row8 col9\" >253</td>\n",
       "      <td id=\"T_e52f4_row8_col10\" class=\"data row8 col10\" >253</td>\n",
       "      <td id=\"T_e52f4_row8_col11\" class=\"data row8 col11\" >187</td>\n",
       "      <td id=\"T_e52f4_row8_col12\" class=\"data row8 col12\" >30</td>\n",
       "      <td id=\"T_e52f4_row8_col13\" class=\"data row8 col13\" >0</td>\n",
       "      <td id=\"T_e52f4_row8_col14\" class=\"data row8 col14\" >0</td>\n",
       "      <td id=\"T_e52f4_row8_col15\" class=\"data row8 col15\" >0</td>\n",
       "      <td id=\"T_e52f4_row8_col16\" class=\"data row8 col16\" >0</td>\n",
       "      <td id=\"T_e52f4_row8_col17\" class=\"data row8 col17\" >0</td>\n",
       "    </tr>\n",
       "    <tr>\n",
       "      <th id=\"T_e52f4_level0_row9\" class=\"row_heading level0 row9\" >9</th>\n",
       "      <td id=\"T_e52f4_row9_col0\" class=\"data row9 col0\" >0</td>\n",
       "      <td id=\"T_e52f4_row9_col1\" class=\"data row9 col1\" >0</td>\n",
       "      <td id=\"T_e52f4_row9_col2\" class=\"data row9 col2\" >0</td>\n",
       "      <td id=\"T_e52f4_row9_col3\" class=\"data row9 col3\" >0</td>\n",
       "      <td id=\"T_e52f4_row9_col4\" class=\"data row9 col4\" >0</td>\n",
       "      <td id=\"T_e52f4_row9_col5\" class=\"data row9 col5\" >16</td>\n",
       "      <td id=\"T_e52f4_row9_col6\" class=\"data row9 col6\" >248</td>\n",
       "      <td id=\"T_e52f4_row9_col7\" class=\"data row9 col7\" >250</td>\n",
       "      <td id=\"T_e52f4_row9_col8\" class=\"data row9 col8\" >253</td>\n",
       "      <td id=\"T_e52f4_row9_col9\" class=\"data row9 col9\" >253</td>\n",
       "      <td id=\"T_e52f4_row9_col10\" class=\"data row9 col10\" >253</td>\n",
       "      <td id=\"T_e52f4_row9_col11\" class=\"data row9 col11\" >253</td>\n",
       "      <td id=\"T_e52f4_row9_col12\" class=\"data row9 col12\" >232</td>\n",
       "      <td id=\"T_e52f4_row9_col13\" class=\"data row9 col13\" >213</td>\n",
       "      <td id=\"T_e52f4_row9_col14\" class=\"data row9 col14\" >111</td>\n",
       "      <td id=\"T_e52f4_row9_col15\" class=\"data row9 col15\" >2</td>\n",
       "      <td id=\"T_e52f4_row9_col16\" class=\"data row9 col16\" >0</td>\n",
       "      <td id=\"T_e52f4_row9_col17\" class=\"data row9 col17\" >0</td>\n",
       "    </tr>\n",
       "    <tr>\n",
       "      <th id=\"T_e52f4_level0_row10\" class=\"row_heading level0 row10\" >10</th>\n",
       "      <td id=\"T_e52f4_row10_col0\" class=\"data row10 col0\" >0</td>\n",
       "      <td id=\"T_e52f4_row10_col1\" class=\"data row10 col1\" >0</td>\n",
       "      <td id=\"T_e52f4_row10_col2\" class=\"data row10 col2\" >0</td>\n",
       "      <td id=\"T_e52f4_row10_col3\" class=\"data row10 col3\" >0</td>\n",
       "      <td id=\"T_e52f4_row10_col4\" class=\"data row10 col4\" >0</td>\n",
       "      <td id=\"T_e52f4_row10_col5\" class=\"data row10 col5\" >0</td>\n",
       "      <td id=\"T_e52f4_row10_col6\" class=\"data row10 col6\" >0</td>\n",
       "      <td id=\"T_e52f4_row10_col7\" class=\"data row10 col7\" >43</td>\n",
       "      <td id=\"T_e52f4_row10_col8\" class=\"data row10 col8\" >98</td>\n",
       "      <td id=\"T_e52f4_row10_col9\" class=\"data row10 col9\" >98</td>\n",
       "      <td id=\"T_e52f4_row10_col10\" class=\"data row10 col10\" >208</td>\n",
       "      <td id=\"T_e52f4_row10_col11\" class=\"data row10 col11\" >253</td>\n",
       "      <td id=\"T_e52f4_row10_col12\" class=\"data row10 col12\" >253</td>\n",
       "      <td id=\"T_e52f4_row10_col13\" class=\"data row10 col13\" >253</td>\n",
       "      <td id=\"T_e52f4_row10_col14\" class=\"data row10 col14\" >253</td>\n",
       "      <td id=\"T_e52f4_row10_col15\" class=\"data row10 col15\" >187</td>\n",
       "      <td id=\"T_e52f4_row10_col16\" class=\"data row10 col16\" >22</td>\n",
       "      <td id=\"T_e52f4_row10_col17\" class=\"data row10 col17\" >0</td>\n",
       "    </tr>\n",
       "  </tbody>\n",
       "</table>\n"
      ],
      "text/plain": [
       "<pandas.io.formats.style.Styler at 0x7f8b0a2f2d10>"
      ]
     },
     "execution_count": 9,
     "metadata": {},
     "output_type": "execute_result"
    }
   ],
   "source": [
    "im3_t = tensor(im3)\n",
    "df = pd.DataFrame(im3_t[4:15,4:22])\n",
    "df.style.set_properties(**{'font-size':'6pt'}).background_gradient('Greys')"
   ]
  },
  {
   "cell_type": "markdown",
   "id": "4ee0a4b3",
   "metadata": {
    "papermill": {
     "duration": 0.168311,
     "end_time": "2022-04-27T16:06:50.811360",
     "exception": false,
     "start_time": "2022-04-27T16:06:50.643049",
     "status": "completed"
    },
    "tags": []
   },
   "source": [
    "You can see that the background white pixels are stored as the number 0, black is the number 255, and shades of gray are between the two. The entire image contains 28 pixels across and 28 pixels down, for a total of 784 pixels. (This is much smaller than an image that you would get from a phone camera, which has millions of pixels, but is a convenient size for our initial learning and experiments. We will build up to bigger, full-color images soon.)\n",
    "\n",
    "So, now you've seen what an image looks like to a computer, let's recall our goal: create a model that can recognize 3s and 7s. How might you go about getting a computer to do that?\n",
    "\n",
    "## Stochastic Gradient Descent (SGD)\n",
    "\n",
    "Do you remember the way that Arthur Samuel described machine learning, which we quoted in the intro?\n",
    "\n",
    "> Suppose we arrange for some automatic means of testing the effectiveness of any current weight assignment in terms of actual performance and provide a mechanism for altering the weight assignment so as to maximize the performance. We need not go into the details of such a procedure to see that it could be made entirely automatic and to see that a machine so programmed would \"learn\" from its experience.\n",
    "\n",
    "As we discussed, this is the key to allowing us to have a model that can get better and better—that can learn. In order to take advantage of the power of deep learning, we will first have to represent our task in the way that Arthur Samuel described it.\n",
    "\n",
    "We could look at each individual pixel and come up with a set of weights for each one, such that the highest weights are associated with those pixels most likely to be black for a particular category. For instance, pixels toward the bottom right are not very likely to be activated for a 7, so they should have a low weight for a 7, but they are likely to be activated for an 8, so they should have a high weight for an 8. This can be represented as a function and set of weight values for each possible category—for instance the probability of being the number 8:\n",
    "\n",
    "```\n",
    "def pr_eight(x,w): return (x*w).sum()\n",
    "```\n",
    "Here we are assuming that `x` is the image, represented as a vector—in other words, with all of the rows stacked up end to end into a single long line. And we are assuming that the weights are a vector `w`. If we have this function, then we just need some way to update the weights to make them a little bit better. With such an approach, we can repeat that step a number of times, making the weights better and better, until they are as good as we can make them.\n",
    "\n",
    "We want to find the specific values for the vector `w` that causes the result of our function to be high for those images that are actually 8s, and low for those images that are not. Searching for the best vector `w` is a way to search for the best function for recognising 8s. (Because we are not yet using a deep neural network, we are limited by what our function can actually do—we are going to fix that constraint later in this chapter.) \n",
    "\n",
    "To be more specific, here are the steps that we are going to require, to turn this function into a machine learning classifier:\n",
    "\n",
    "1. *Initialize* the weights.\n",
    "1. For each image, use these weights to *predict* whether it appears to be a 3 or a 7.\n",
    "1. Based on these predictions, calculate how good the model is (its *loss*).\n",
    "1. Calculate the *gradient*, which measures for each weight, how changing that weight would change the loss\n",
    "1. *Step* (that is, change) all the weights based on that calculation.\n",
    "1. Go back to the step 2, and *repeat* the process.\n",
    "1. Iterate until you decide to *stop* the training process (for instance, because the model is good enough or you don't want to wait any longer).\n",
    "\n",
    "These seven steps, illustrated below, are the key to the training of all deep learning models. That deep learning turns out to rely entirely on these steps is extremely surprising and counterintuitive. It's amazing that this process can solve such complex problems. But, as you'll see, it really does!"
   ]
  },
  {
   "cell_type": "markdown",
   "id": "a6180fed",
   "metadata": {
    "papermill": {
     "duration": 0.17034,
     "end_time": "2022-04-27T16:06:51.150534",
     "exception": false,
     "start_time": "2022-04-27T16:06:50.980194",
     "status": "completed"
    },
    "tags": []
   },
   "source": [
    "<img alt=\"diagram\" src=\"https://i.ibb.co/xggfm4k/Screenshot-2022-04-27-175251.png\"/>"
   ]
  },
  {
   "cell_type": "markdown",
   "id": "b9180bce",
   "metadata": {
    "papermill": {
     "duration": 0.170145,
     "end_time": "2022-04-27T16:06:51.491202",
     "exception": false,
     "start_time": "2022-04-27T16:06:51.321057",
     "status": "completed"
    },
    "tags": []
   },
   "source": [
    "There are many different ways to do each of these seven steps, and we will be learning about them throughout the rest of this class. These are the details that make a big difference for deep learning practitioners, but it turns out that the general approach to each one generally follows some basic principles. Here are a few guidelines:\n",
    "\n",
    "- Initialize: We initialize the parameters to random values. This may sound surprising. There are certainly other choices we could make, such as initializing them to the percentage of times that pixel is activated for that category—but since we already know that we have a routine to improve these weights, it turns out that just starting with random weights works perfectly well.\n",
    "- Loss: This is what Samuel referred to when he spoke of *testing the effectiveness of any current weight assignment in terms of actual performance*. We need some function that will return a number that is small if the performance of the model is good (the standard approach is to treat a small loss as good, and a large loss as bad, although this is just a convention).\n",
    "- Step: A simple way to figure out whether a weight should be increased a bit, or decreased a bit, would be just to try it: increase the weight by a small amount, and see if the loss goes up or down. Once you find the correct direction, you could then change that amount by a bit more, and a bit less, until you find an amount that works well. However, this is slow! As we will see, the magic of calculus allows us to directly figure out in which direction, and by roughly how much, to change each weight, without having to try all these small changes. The way to do this is by calculating *gradients*. This is just a performance optimization, we would get exactly the same results by using the slower manual process as well.\n",
    "- Stop: Once we've decided how many epochs to train the model for (a few suggestions for this were given in the earlier list), we apply that decision. This is where that decision is applied. For our digit classifier, we would keep training until the accuracy of the model started getting worse, or we ran out of time."
   ]
  },
  {
   "cell_type": "markdown",
   "id": "87172337",
   "metadata": {
    "papermill": {
     "duration": 0.169214,
     "end_time": "2022-04-27T16:06:51.830371",
     "exception": false,
     "start_time": "2022-04-27T16:06:51.661157",
     "status": "completed"
    },
    "tags": []
   },
   "source": [
    "Before applying these steps to our image classification problem, let's illustrate what they look like in a simpler case. First we will define a very simple function, the quadratic—let's pretend that this is our loss function, and `x` is a weight parameter of the function:"
   ]
  },
  {
   "cell_type": "code",
   "execution_count": 10,
   "id": "04a603b8",
   "metadata": {
    "execution": {
     "iopub.execute_input": "2022-04-27T16:06:52.175866Z",
     "iopub.status.busy": "2022-04-27T16:06:52.175246Z",
     "iopub.status.idle": "2022-04-27T16:06:52.178372Z",
     "shell.execute_reply": "2022-04-27T16:06:52.177862Z",
     "shell.execute_reply.started": "2022-04-27T16:01:50.283709Z"
    },
    "papermill": {
     "duration": 0.176216,
     "end_time": "2022-04-27T16:06:52.178499",
     "exception": false,
     "start_time": "2022-04-27T16:06:52.002283",
     "status": "completed"
    },
    "tags": []
   },
   "outputs": [],
   "source": [
    "def f(x): \n",
    "    return x**2"
   ]
  },
  {
   "cell_type": "code",
   "execution_count": 11,
   "id": "8ea99ccf",
   "metadata": {
    "execution": {
     "iopub.execute_input": "2022-04-27T16:06:52.524781Z",
     "iopub.status.busy": "2022-04-27T16:06:52.523828Z",
     "iopub.status.idle": "2022-04-27T16:06:52.529789Z",
     "shell.execute_reply": "2022-04-27T16:06:52.530304Z",
     "shell.execute_reply.started": "2022-04-27T16:04:37.266940Z"
    },
    "papermill": {
     "duration": 0.179846,
     "end_time": "2022-04-27T16:06:52.530456",
     "exception": false,
     "start_time": "2022-04-27T16:06:52.350610",
     "status": "completed"
    },
    "tags": []
   },
   "outputs": [],
   "source": [
    "def plot_function(f, tx=None, ty=None, title=None, min=-2, max=2, figsize=(6,4)):\n",
    "    x = torch.linspace(min,max)\n",
    "    fig,ax = plt.subplots(figsize=figsize)\n",
    "    ax.plot(x,f(x))\n",
    "    if tx is not None: ax.set_xlabel(tx)\n",
    "    if ty is not None: ax.set_ylabel(ty)\n",
    "    if title is not None: ax.set_title(title)"
   ]
  },
  {
   "cell_type": "code",
   "execution_count": 12,
   "id": "e7e5f04a",
   "metadata": {
    "execution": {
     "iopub.execute_input": "2022-04-27T16:06:52.873499Z",
     "iopub.status.busy": "2022-04-27T16:06:52.872618Z",
     "iopub.status.idle": "2022-04-27T16:06:53.120754Z",
     "shell.execute_reply": "2022-04-27T16:06:53.120242Z",
     "shell.execute_reply.started": "2022-04-27T16:04:38.004472Z"
    },
    "papermill": {
     "duration": 0.422635,
     "end_time": "2022-04-27T16:06:53.120894",
     "exception": false,
     "start_time": "2022-04-27T16:06:52.698259",
     "status": "completed"
    },
    "tags": []
   },
   "outputs": [
    {
     "name": "stderr",
     "output_type": "stream",
     "text": [
      "/opt/conda/lib/python3.7/site-packages/ipykernel_launcher.py:2: UserWarning: Not providing a value for linspace's steps is deprecated and will throw a runtime error in a future release. This warning will appear only once per process. (Triggered internally at  ../aten/src/ATen/native/RangeFactories.cpp:25.)\n",
      "  \n"
     ]
    },
    {
     "data": {
      "image/png": "[encoded data removed]",
      "text/plain": [
       "<Figure size 432x288 with 1 Axes>"
      ]
     },
     "metadata": {
      "needs_background": "light"
     },
     "output_type": "display_data"
    }
   ],
   "source": [
    "# Here is a graph of that function:\n",
    "plot_function(f, 'x', 'x**2')"
   ]
  },
  {
   "cell_type": "markdown",
   "id": "bf2d2ba6",
   "metadata": {
    "papermill": {
     "duration": 0.171353,
     "end_time": "2022-04-27T16:06:53.463171",
     "exception": false,
     "start_time": "2022-04-27T16:06:53.291818",
     "status": "completed"
    },
    "tags": []
   },
   "source": [
    "The sequence of steps we described earlier starts by picking some random value for a parameter, and calculating the value of the loss:"
   ]
  },
  {
   "cell_type": "code",
   "execution_count": 13,
   "id": "3da502bf",
   "metadata": {
    "execution": {
     "iopub.execute_input": "2022-04-27T16:06:53.812145Z",
     "iopub.status.busy": "2022-04-27T16:06:53.811141Z",
     "iopub.status.idle": "2022-04-27T16:06:54.073303Z",
     "shell.execute_reply": "2022-04-27T16:06:54.074316Z",
     "shell.execute_reply.started": "2022-04-27T16:04:39.215001Z"
    },
    "papermill": {
     "duration": 0.437013,
     "end_time": "2022-04-27T16:06:54.074560",
     "exception": false,
     "start_time": "2022-04-27T16:06:53.637547",
     "status": "completed"
    },
    "tags": []
   },
   "outputs": [
    {
     "data": {
      "image/png": "[encoded data removed]",
      "text/plain": [
       "<Figure size 432x288 with 1 Axes>"
      ]
     },
     "metadata": {
      "needs_background": "light"
     },
     "output_type": "display_data"
    }
   ],
   "source": [
    "plot_function(f, 'x', 'x**2')\n",
    "plt.scatter(-1.5, f(-1.5), color='red');"
   ]
  },
  {
   "cell_type": "markdown",
   "id": "375caad4",
   "metadata": {
    "papermill": {
     "duration": 0.213621,
     "end_time": "2022-04-27T16:06:54.523890",
     "exception": false,
     "start_time": "2022-04-27T16:06:54.310269",
     "status": "completed"
    },
    "tags": []
   },
   "source": [
    "Now we look to see what would happen if we increased or decreased our parameter by a little bit—the *adjustment*. This is simply the slope at a particular point:\n",
    "\n",
    "<img alt=\"A graph showing the squared function with the slope at one point\" width=\"400\" src=\"https://raw.githubusercontent.com/fastai/fastbook/master/images/grad_illustration.svg\"/>\n",
    "\n",
    "We can change our weight by a little in the direction of the slope, calculate our loss and adjustment again, and repeat this a few times. Eventually, we will get to the lowest point on our curve:\n",
    "\n",
    "<img alt=\"An illustration of gradient descent\" width=\"400\" src=\"https://raw.githubusercontent.com/fastai/fastbook/master/images/chapter2_perfect.svg\"/>\n",
    "\n",
    "This basic idea goes all the way back to Isaac Newton, who pointed out that we can optimize arbitrary functions in this way. Regardless of how complicated our functions become, this basic approach of gradient descent will not significantly change. The only minor changes we will see later in this book are some handy ways we can make it faster, by finding better steps."
   ]
  },
  {
   "cell_type": "markdown",
   "id": "54262976",
   "metadata": {
    "papermill": {
     "duration": 0.172176,
     "end_time": "2022-04-27T16:06:54.869115",
     "exception": false,
     "start_time": "2022-04-27T16:06:54.696939",
     "status": "completed"
    },
    "tags": []
   },
   "source": [
    "### Calculating Gradients\n",
    "The one magic step is the bit where we calculate the gradients. As we mentioned, we use calculus as a performance optimization; it allows us to more quickly calculate whether our loss will go up or down when we adjust our parameters up or down. In other words, the gradients will tell us how much we have to change each weight to make our model better.\n",
    "\n",
    "You may remember from your high school calculus class that the *derivative* of a function tells you how much a change in its parameters will change its result.\n",
    "\n",
    "The key point about a derivative is this: for any function, such as the quadratic function we saw in the previous section, we can calculate its derivative. The derivative is another function. It calculates the change, rather than the value. For instance, the derivative of the quadratic function at the value 3 tells us how rapidly the function changes at the value 3. More specifically, you may recall that gradient is defined as *rise/run*, that is, the change in the value of the function, divided by the change in the value of the parameter. When we know how our function will change, then we know what we need to do to make it smaller. This is the key to machine learning: having a way to change the parameters of a function to make it smaller. Calculus provides us with a computational shortcut, the derivative, which lets us directly calculate the gradients of our functions.\n",
    "\n",
    "One important thing to be aware of is that our function has lots of weights that we need to adjust, so when we calculate the derivative we won't get back one number, but lots of them—a gradient for every weight. But there is nothing mathematically tricky here; you can calculate the derivative with respect to one weight, and treat all the other ones as constant, then repeat that for each other weight. This is how all of the gradients are calculated, for every weight.\n",
    "\n",
    "We mentioned just now that you won't have to calculate any gradients yourself. How can that be? Amazingly enough, PyTorch is able to automatically compute the derivative of nearly any function! What's more, it does it very fast. Most of the time, it will be at least as fast as any derivative function that you can create by hand. Let's see an example.\n",
    "\n",
    "First, let's pick a tensor value which we want gradients at:"
   ]
  },
  {
   "cell_type": "code",
   "execution_count": 14,
   "id": "605c2b65",
   "metadata": {
    "execution": {
     "iopub.execute_input": "2022-04-27T16:06:55.218714Z",
     "iopub.status.busy": "2022-04-27T16:06:55.218078Z",
     "iopub.status.idle": "2022-04-27T16:06:55.222841Z",
     "shell.execute_reply": "2022-04-27T16:06:55.223399Z",
     "shell.execute_reply.started": "2022-04-27T16:04:39.827803Z"
    },
    "papermill": {
     "duration": 0.177695,
     "end_time": "2022-04-27T16:06:55.223548",
     "exception": false,
     "start_time": "2022-04-27T16:06:55.045853",
     "status": "completed"
    },
    "tags": []
   },
   "outputs": [],
   "source": [
    "xt = tensor(3.).requires_grad_()"
   ]
  },
  {
   "cell_type": "code",
   "execution_count": 15,
   "id": "a72d3f16",
   "metadata": {
    "execution": {
     "iopub.execute_input": "2022-04-27T16:06:55.569441Z",
     "iopub.status.busy": "2022-04-27T16:06:55.568424Z",
     "iopub.status.idle": "2022-04-27T16:06:55.612784Z",
     "shell.execute_reply": "2022-04-27T16:06:55.613362Z",
     "shell.execute_reply.started": "2022-04-27T16:04:39.999804Z"
    },
    "papermill": {
     "duration": 0.218205,
     "end_time": "2022-04-27T16:06:55.613519",
     "exception": false,
     "start_time": "2022-04-27T16:06:55.395314",
     "status": "completed"
    },
    "tags": []
   },
   "outputs": [
    {
     "data": {
      "text/plain": [
       "tensor(3., requires_grad=True)"
      ]
     },
     "execution_count": 15,
     "metadata": {},
     "output_type": "execute_result"
    }
   ],
   "source": [
    "xt"
   ]
  },
  {
   "cell_type": "markdown",
   "id": "43cc8862",
   "metadata": {
    "papermill": {
     "duration": 0.174179,
     "end_time": "2022-04-27T16:06:55.958902",
     "exception": false,
     "start_time": "2022-04-27T16:06:55.784723",
     "status": "completed"
    },
    "tags": []
   },
   "source": [
    "Notice the special method `requires_grad_`? That's the magical incantation we use to tell PyTorch that we want to calculate gradients with respect to that variable at that value. It is essentially tagging the variable, so PyTorch will remember to keep track of how to compute gradients of the other, direct calculations on it that you will ask for.\n",
    "\n",
    "> This API might throw you off if you're coming from math or physics. In those contexts the \"gradient\" of a function is just another function (i.e., its derivative), so you might expect gradient-related APIs to give you a new function. But in deep learning, \"gradients\" usually means the _value_ of a function's derivative at a particular argument value. The PyTorch API also puts the focus on the argument, not the function you're actually computing the gradients of. It may feel backwards at first, but it's just a different perspective.\n",
    "\n",
    "Now we calculate our function with that value. Notice how PyTorch prints not just the value calculated, but also a note that it has a gradient function it'll be using to calculate our gradients when needed:"
   ]
  },
  {
   "cell_type": "code",
   "execution_count": 16,
   "id": "36d4f77e",
   "metadata": {
    "execution": {
     "iopub.execute_input": "2022-04-27T16:06:56.306103Z",
     "iopub.status.busy": "2022-04-27T16:06:56.305242Z",
     "iopub.status.idle": "2022-04-27T16:06:56.312214Z",
     "shell.execute_reply": "2022-04-27T16:06:56.312801Z",
     "shell.execute_reply.started": "2022-04-27T16:04:40.389598Z"
    },
    "papermill": {
     "duration": 0.181339,
     "end_time": "2022-04-27T16:06:56.312961",
     "exception": false,
     "start_time": "2022-04-27T16:06:56.131622",
     "status": "completed"
    },
    "tags": []
   },
   "outputs": [
    {
     "data": {
      "text/plain": [
       "tensor(9., grad_fn=<PowBackward0>)"
      ]
     },
     "execution_count": 16,
     "metadata": {},
     "output_type": "execute_result"
    }
   ],
   "source": [
    "yt = f(xt)\n",
    "yt"
   ]
  },
  {
   "cell_type": "markdown",
   "id": "1c8648db",
   "metadata": {
    "papermill": {
     "duration": 0.257766,
     "end_time": "2022-04-27T16:06:56.779847",
     "exception": false,
     "start_time": "2022-04-27T16:06:56.522081",
     "status": "completed"
    },
    "tags": []
   },
   "source": [
    "Finally, we tell PyTorch to calculate the gradients for us:"
   ]
  },
  {
   "cell_type": "code",
   "execution_count": 17,
   "id": "f45eea05",
   "metadata": {
    "execution": {
     "iopub.execute_input": "2022-04-27T16:06:57.281977Z",
     "iopub.status.busy": "2022-04-27T16:06:57.281284Z",
     "iopub.status.idle": "2022-04-27T16:06:57.294600Z",
     "shell.execute_reply": "2022-04-27T16:06:57.295198Z",
     "shell.execute_reply.started": "2022-04-27T16:04:40.743836Z"
    },
    "papermill": {
     "duration": 0.262566,
     "end_time": "2022-04-27T16:06:57.295381",
     "exception": false,
     "start_time": "2022-04-27T16:06:57.032815",
     "status": "completed"
    },
    "tags": []
   },
   "outputs": [],
   "source": [
    "yt.backward()"
   ]
  },
  {
   "cell_type": "markdown",
   "id": "13c13145",
   "metadata": {
    "papermill": {
     "duration": 0.176087,
     "end_time": "2022-04-27T16:06:57.648668",
     "exception": false,
     "start_time": "2022-04-27T16:06:57.472581",
     "status": "completed"
    },
    "tags": []
   },
   "source": [
    "The \"backward\" here refers to *backpropagation*, which is the name given to the process of calculating the derivative of each layer. This is called the \"backward pass\" of the network, as opposed to the \"forward pass,\" which is where the activations are calculated. Life would probably be easier if `backward` was just called `calculate_grad`, but deep learning folks really do like to add jargon everywhere they can!\n",
    "\n",
    "We can now view the gradients by checking the `grad` attribute of our tensor:"
   ]
  },
  {
   "cell_type": "code",
   "execution_count": 18,
   "id": "03080c46",
   "metadata": {
    "execution": {
     "iopub.execute_input": "2022-04-27T16:06:58.017607Z",
     "iopub.status.busy": "2022-04-27T16:06:58.016995Z",
     "iopub.status.idle": "2022-04-27T16:06:58.022433Z",
     "shell.execute_reply": "2022-04-27T16:06:58.023024Z",
     "shell.execute_reply.started": "2022-04-27T16:04:41.063767Z"
    },
    "papermill": {
     "duration": 0.183377,
     "end_time": "2022-04-27T16:06:58.023216",
     "exception": false,
     "start_time": "2022-04-27T16:06:57.839839",
     "status": "completed"
    },
    "tags": []
   },
   "outputs": [
    {
     "data": {
      "text/plain": [
       "tensor(6.)"
      ]
     },
     "execution_count": 18,
     "metadata": {},
     "output_type": "execute_result"
    }
   ],
   "source": [
    "xt.grad"
   ]
  },
  {
   "cell_type": "markdown",
   "id": "d39966c9",
   "metadata": {
    "papermill": {
     "duration": 0.173468,
     "end_time": "2022-04-27T16:06:58.369803",
     "exception": false,
     "start_time": "2022-04-27T16:06:58.196335",
     "status": "completed"
    },
    "tags": []
   },
   "source": [
    "If you remember your high school calculus rules, the derivative of `x**2` is `2*x`, and we have `x=3`, so the gradients should be `2*3=6`, which is what PyTorch calculated for us!\n",
    "\n",
    "\n",
    "Now we'll repeat the preceding steps, but with a vector argument for our function:"
   ]
  },
  {
   "cell_type": "code",
   "execution_count": 19,
   "id": "a4a2851a",
   "metadata": {
    "execution": {
     "iopub.execute_input": "2022-04-27T16:06:58.775195Z",
     "iopub.status.busy": "2022-04-27T16:06:58.774538Z",
     "iopub.status.idle": "2022-04-27T16:06:58.780142Z",
     "shell.execute_reply": "2022-04-27T16:06:58.780723Z",
     "shell.execute_reply.started": "2022-04-27T16:04:41.358246Z"
    },
    "papermill": {
     "duration": 0.180029,
     "end_time": "2022-04-27T16:06:58.780876",
     "exception": false,
     "start_time": "2022-04-27T16:06:58.600847",
     "status": "completed"
    },
    "tags": []
   },
   "outputs": [
    {
     "data": {
      "text/plain": [
       "tensor([ 3.,  4., 10.], requires_grad=True)"
      ]
     },
     "execution_count": 19,
     "metadata": {},
     "output_type": "execute_result"
    }
   ],
   "source": [
    "xt = tensor([3.,4.,10.]).requires_grad_()\n",
    "xt"
   ]
  },
  {
   "cell_type": "markdown",
   "id": "5402a872",
   "metadata": {
    "papermill": {
     "duration": 0.176966,
     "end_time": "2022-04-27T16:06:59.132074",
     "exception": false,
     "start_time": "2022-04-27T16:06:58.955108",
     "status": "completed"
    },
    "tags": []
   },
   "source": [
    "And we'll add `sum` to our function so it can take a vector (i.e., a rank-1 tensor), and return a scalar (i.e., a rank-0 tensor):"
   ]
  },
  {
   "cell_type": "code",
   "execution_count": 20,
   "id": "7e5c0b71",
   "metadata": {
    "execution": {
     "iopub.execute_input": "2022-04-27T16:06:59.489516Z",
     "iopub.status.busy": "2022-04-27T16:06:59.488882Z",
     "iopub.status.idle": "2022-04-27T16:06:59.496456Z",
     "shell.execute_reply": "2022-04-27T16:06:59.497045Z",
     "shell.execute_reply.started": "2022-04-27T16:04:41.823409Z"
    },
    "papermill": {
     "duration": 0.187131,
     "end_time": "2022-04-27T16:06:59.497216",
     "exception": false,
     "start_time": "2022-04-27T16:06:59.310085",
     "status": "completed"
    },
    "tags": []
   },
   "outputs": [
    {
     "data": {
      "text/plain": [
       "tensor(125., grad_fn=<SumBackward0>)"
      ]
     },
     "execution_count": 20,
     "metadata": {},
     "output_type": "execute_result"
    }
   ],
   "source": [
    "def f(x): \n",
    "    return (x**2).sum()\n",
    "\n",
    "yt = f(xt)\n",
    "yt"
   ]
  },
  {
   "cell_type": "markdown",
   "id": "fbcbd9bd",
   "metadata": {
    "papermill": {
     "duration": 0.174422,
     "end_time": "2022-04-27T16:06:59.846774",
     "exception": false,
     "start_time": "2022-04-27T16:06:59.672352",
     "status": "completed"
    },
    "tags": []
   },
   "source": [
    "Our gradients are `2*xt`, as we'd expect!"
   ]
  },
  {
   "cell_type": "code",
   "execution_count": 21,
   "id": "527c0f3f",
   "metadata": {
    "execution": {
     "iopub.execute_input": "2022-04-27T16:07:00.201830Z",
     "iopub.status.busy": "2022-04-27T16:07:00.200767Z",
     "iopub.status.idle": "2022-04-27T16:07:00.208334Z",
     "shell.execute_reply": "2022-04-27T16:07:00.208892Z",
     "shell.execute_reply.started": "2022-04-27T16:04:42.441239Z"
    },
    "papermill": {
     "duration": 0.185643,
     "end_time": "2022-04-27T16:07:00.209064",
     "exception": false,
     "start_time": "2022-04-27T16:07:00.023421",
     "status": "completed"
    },
    "tags": []
   },
   "outputs": [
    {
     "data": {
      "text/plain": [
       "tensor([ 6.,  8., 20.])"
      ]
     },
     "execution_count": 21,
     "metadata": {},
     "output_type": "execute_result"
    }
   ],
   "source": [
    "yt.backward()\n",
    "xt.grad"
   ]
  },
  {
   "cell_type": "markdown",
   "id": "f2aa780a",
   "metadata": {
    "papermill": {
     "duration": 0.174016,
     "end_time": "2022-04-27T16:07:00.563269",
     "exception": false,
     "start_time": "2022-04-27T16:07:00.389253",
     "status": "completed"
    },
    "tags": []
   },
   "source": [
    "The gradients only tell us the slope of our function, they don't actually tell us exactly how far to adjust the parameters. But it gives us some idea of how far; if the slope is very large, then that may suggest that we have more adjustments to do, whereas if the slope is very small, that may suggest that we are close to the optimal value.\n",
    "\n",
    "### Stepping With a Learning Rate\n",
    "\n",
    "Deciding how to change our parameters based on the values of the gradients is an important part of the deep learning process. Nearly all approaches start with the basic idea of multiplying the gradient by some small number, called the *learning rate* (LR). The learning rate is often a number between 0.001 and 0.1, although it could be anything. Often, people select a learning rate just by trying a few, and finding which results in the best model after training (we'll show you a better approach later, called the *learning rate finder*). Once you've picked a learning rate, you can adjust your parameters using this simple function:\n",
    "\n",
    "```\n",
    "w -= gradient(w) * lr\n",
    "```\n",
    "\n",
    "This is known as *stepping* your parameters, using an *optimizer step*. Notice how we _subtract_ the `gradient * lr` from the parameter to update it.  This allows us to adjust the parameter in the direction of the slope by increasing the parameter when the slope is negative and decreasing the parameter when the slope is positive.  We want to adjust our parameters in the direction of the slope because our goal in deep learning is to _minimize_ the loss.\n",
    "\n",
    "If you pick a learning rate that's too low, it can mean having to do a lot of steps. The figure below illustrates that.\n",
    "\n",
    "<img alt=\"An illustration of gradient descent with a LR too low\" width=\"400\" caption=\"Gradient descent with low LR\" src=\"https://raw.githubusercontent.com/fastai/fastbook/master/images/chapter2_small.svg\" id=\"descent_small\"/>\n",
    "\n",
    "But picking a learning rate that's too high is even worse—it can actually result in the loss getting *worse*, as we see below\n",
    "\n",
    "<img alt=\"An illustration of gradient descent with a LR too high\" width=\"400\" caption=\"Gradient descent with high LR\" src=\"https://raw.githubusercontent.com/fastai/fastbook/master/images/chapter2_div.svg\" id=\"descent_div\"/>\n",
    "\n",
    "If the learning rate is too high, it may also \"bounce\" around, rather than actually diverging; The image below shows how this has the result of taking many steps to train successfully.\n",
    "\n",
    "<img alt=\"An illustation of gradient descent with a bouncy LR\" width=\"400\" caption=\"Gradient descent with bouncy LR\" src=\"https://raw.githubusercontent.com/fastai/fastbook/master/images/chapter2_bouncy.svg\" id=\"descent_bouncy\"/>\n",
    "\n",
    "Now let's apply all of this in an end-to-end example."
   ]
  },
  {
   "cell_type": "markdown",
   "id": "be58944a",
   "metadata": {
    "papermill": {
     "duration": 0.174831,
     "end_time": "2022-04-27T16:07:00.913562",
     "exception": false,
     "start_time": "2022-04-27T16:07:00.738731",
     "status": "completed"
    },
    "tags": []
   },
   "source": [
    "### An End-to-End SGD Example\n",
    "\n",
    "We've seen how to use gradients to find a minimum. Now it's time to look at an SGD example and see how finding a minimum can be used to train a model to fit data better.\n",
    "\n",
    "Let's start with a simple, synthetic, example model. Imagine you were measuring the speed of a roller coaster as it went over the top of a hump. It would start fast, and then get slower as it went up the hill; it would be slowest at the top, and it would then speed up again as it went downhill. You want to build a model of how the speed changes over time. If you were measuring the speed manually every second for 20 seconds, it might look something like this:"
   ]
  },
  {
   "cell_type": "code",
   "execution_count": 22,
   "id": "f60109bd",
   "metadata": {
    "execution": {
     "iopub.execute_input": "2022-04-27T16:07:01.272202Z",
     "iopub.status.busy": "2022-04-27T16:07:01.271190Z",
     "iopub.status.idle": "2022-04-27T16:07:01.277333Z",
     "shell.execute_reply": "2022-04-27T16:07:01.276728Z",
     "shell.execute_reply.started": "2022-04-27T16:04:43.002656Z"
    },
    "papermill": {
     "duration": 0.184665,
     "end_time": "2022-04-27T16:07:01.277467",
     "exception": false,
     "start_time": "2022-04-27T16:07:01.092802",
     "status": "completed"
    },
    "tags": []
   },
   "outputs": [
    {
     "data": {
      "text/plain": [
       "tensor([ 0.,  1.,  2.,  3.,  4.,  5.,  6.,  7.,  8.,  9., 10., 11., 12., 13.,\n",
       "        14., 15., 16., 17., 18., 19.])"
      ]
     },
     "execution_count": 22,
     "metadata": {},
     "output_type": "execute_result"
    }
   ],
   "source": [
    "time = torch.arange(0,20).float(); time"
   ]
  },
  {
   "cell_type": "code",
   "execution_count": 23,
   "id": "cc884523",
   "metadata": {
    "execution": {
     "iopub.execute_input": "2022-04-27T16:07:01.636538Z",
     "iopub.status.busy": "2022-04-27T16:07:01.635941Z",
     "iopub.status.idle": "2022-04-27T16:07:01.851087Z",
     "shell.execute_reply": "2022-04-27T16:07:01.851640Z",
     "shell.execute_reply.started": "2022-04-27T16:04:43.185756Z"
    },
    "papermill": {
     "duration": 0.397616,
     "end_time": "2022-04-27T16:07:01.851825",
     "exception": false,
     "start_time": "2022-04-27T16:07:01.454209",
     "status": "completed"
    },
    "tags": []
   },
   "outputs": [
    {
     "data": {
      "image/png": "[encoded data removed]",
      "text/plain": [
       "<Figure size 432x288 with 1 Axes>"
      ]
     },
     "metadata": {
      "needs_background": "light"
     },
     "output_type": "display_data"
    }
   ],
   "source": [
    "speed = torch.randn(20)*3 + 0.75*(time-9.5)**2 + 1\n",
    "plt.scatter(time,speed);"
   ]
  },
  {
   "cell_type": "markdown",
   "id": "ef94b149",
   "metadata": {
    "papermill": {
     "duration": 0.176657,
     "end_time": "2022-04-27T16:07:02.204585",
     "exception": false,
     "start_time": "2022-04-27T16:07:02.027928",
     "status": "completed"
    },
    "tags": []
   },
   "source": [
    "We've added a bit of random noise, since measuring things manually isn't precise. This means it's not that easy to answer the question: what was the roller coaster's speed? Using SGD we can try to find a function that matches our observations. We can't consider every possible function, so let's use a guess that it will be quadratic; i.e., a function of the form `a*(time**2)+(b*time)+c`.\n",
    "\n",
    "We want to distinguish clearly between the function's input (the time when we are measuring the coaster's speed) and its parameters (the values that define *which* quadratic we're trying). So, let's collect the parameters in one argument and thus separate the input, `t`, and the parameters, `params`, in the function's signature: "
   ]
  },
  {
   "cell_type": "code",
   "execution_count": 24,
   "id": "71b60e9e",
   "metadata": {
    "execution": {
     "iopub.execute_input": "2022-04-27T16:07:02.560563Z",
     "iopub.status.busy": "2022-04-27T16:07:02.559563Z",
     "iopub.status.idle": "2022-04-27T16:07:02.563736Z",
     "shell.execute_reply": "2022-04-27T16:07:02.564277Z",
     "shell.execute_reply.started": "2022-04-27T16:04:43.524692Z"
    },
    "papermill": {
     "duration": 0.183453,
     "end_time": "2022-04-27T16:07:02.564439",
     "exception": false,
     "start_time": "2022-04-27T16:07:02.380986",
     "status": "completed"
    },
    "tags": []
   },
   "outputs": [],
   "source": [
    "def f(t, params):\n",
    "    a,b,c = params\n",
    "    return a*(t**2) + (b*t) + c"
   ]
  },
  {
   "cell_type": "markdown",
   "id": "0d5cabee",
   "metadata": {
    "papermill": {
     "duration": 0.176172,
     "end_time": "2022-04-27T16:07:02.916085",
     "exception": false,
     "start_time": "2022-04-27T16:07:02.739913",
     "status": "completed"
    },
    "tags": []
   },
   "source": [
    "In other words, we've restricted the problem of finding the best imaginable function that fits the data, to finding the best *quadratic* function. This greatly simplifies the problem, since every quadratic function is fully defined by the three parameters `a`, `b`, and `c`. Thus, to find the best quadratic function, we only need to find the best values for `a`, `b`, and `c`.\n",
    "\n",
    "If we can solve this problem for the three parameters of a quadratic function, we'll be able to apply the same approach for other, more complex functions with more parameters—such as a neural net. Let's find the parameters for `f` first, and then we'll come back and do the same thing for the MNIST dataset with a neural net.\n",
    "\n",
    "We need to define first what we mean by \"best.\" We define this precisely by choosing a *loss function*, which will return a value based on a prediction and a target, where lower values of the function correspond to \"better\" predictions. It is important for loss functions to return _lower_ values when predictions are more accurate, as the SGD procedure we defined earlier will try to _minimize_ this loss. For continuous data, it's common to use *mean squared error*:"
   ]
  },
  {
   "cell_type": "code",
   "execution_count": 25,
   "id": "28c643f0",
   "metadata": {
    "execution": {
     "iopub.execute_input": "2022-04-27T16:07:03.275146Z",
     "iopub.status.busy": "2022-04-27T16:07:03.274180Z",
     "iopub.status.idle": "2022-04-27T16:07:03.278141Z",
     "shell.execute_reply": "2022-04-27T16:07:03.278739Z",
     "shell.execute_reply.started": "2022-04-27T16:04:44.087744Z"
    },
    "papermill": {
     "duration": 0.184383,
     "end_time": "2022-04-27T16:07:03.278903",
     "exception": false,
     "start_time": "2022-04-27T16:07:03.094520",
     "status": "completed"
    },
    "tags": []
   },
   "outputs": [],
   "source": [
    "def mse(preds, targets): \n",
    "    return ((preds-targets)**2).mean()"
   ]
  },
  {
   "cell_type": "markdown",
   "id": "e6458e3b",
   "metadata": {
    "papermill": {
     "duration": 0.178239,
     "end_time": "2022-04-27T16:07:03.634812",
     "exception": false,
     "start_time": "2022-04-27T16:07:03.456573",
     "status": "completed"
    },
    "tags": []
   },
   "source": [
    "Now, let's work through our 7 step process.\n",
    "\n",
    "#### Step 1: Initialize the parameters\n",
    "\n",
    "First, we initialize the parameters to random values, and tell PyTorch that we want to track their gradients, using `requires_grad_`:"
   ]
  },
  {
   "cell_type": "code",
   "execution_count": 26,
   "id": "5a3bc682",
   "metadata": {
    "execution": {
     "iopub.execute_input": "2022-04-27T16:07:03.992966Z",
     "iopub.status.busy": "2022-04-27T16:07:03.992003Z",
     "iopub.status.idle": "2022-04-27T16:07:03.995736Z",
     "shell.execute_reply": "2022-04-27T16:07:03.996316Z",
     "shell.execute_reply.started": "2022-04-27T16:04:44.533724Z"
    },
    "papermill": {
     "duration": 0.184315,
     "end_time": "2022-04-27T16:07:03.996477",
     "exception": false,
     "start_time": "2022-04-27T16:07:03.812162",
     "status": "completed"
    },
    "tags": []
   },
   "outputs": [],
   "source": [
    "params = torch.randn(3).requires_grad_()"
   ]
  },
  {
   "cell_type": "code",
   "execution_count": 27,
   "id": "3001f360",
   "metadata": {
    "execution": {
     "iopub.execute_input": "2022-04-27T16:07:04.353363Z",
     "iopub.status.busy": "2022-04-27T16:07:04.352405Z",
     "iopub.status.idle": "2022-04-27T16:07:04.356058Z",
     "shell.execute_reply": "2022-04-27T16:07:04.356674Z",
     "shell.execute_reply.started": "2022-04-27T16:04:44.709691Z"
    },
    "papermill": {
     "duration": 0.183673,
     "end_time": "2022-04-27T16:07:04.356835",
     "exception": false,
     "start_time": "2022-04-27T16:07:04.173162",
     "status": "completed"
    },
    "tags": []
   },
   "outputs": [],
   "source": [
    "# saving the params to make a plot later, you can ignore this\n",
    "orig_params = params.clone()"
   ]
  },
  {
   "cell_type": "markdown",
   "id": "f9ff3f13",
   "metadata": {
    "papermill": {
     "duration": 0.176013,
     "end_time": "2022-04-27T16:07:04.711214",
     "exception": false,
     "start_time": "2022-04-27T16:07:04.535201",
     "status": "completed"
    },
    "tags": []
   },
   "source": [
    "#### Step 2: Calculate the predictions\n",
    "Next, we calculate the predictions:"
   ]
  },
  {
   "cell_type": "code",
   "execution_count": 28,
   "id": "1a3b9a53",
   "metadata": {
    "execution": {
     "iopub.execute_input": "2022-04-27T16:07:05.068970Z",
     "iopub.status.busy": "2022-04-27T16:07:05.067980Z",
     "iopub.status.idle": "2022-04-27T16:07:05.071737Z",
     "shell.execute_reply": "2022-04-27T16:07:05.072267Z",
     "shell.execute_reply.started": "2022-04-27T16:04:45.092592Z"
    },
    "papermill": {
     "duration": 0.186178,
     "end_time": "2022-04-27T16:07:05.072431",
     "exception": false,
     "start_time": "2022-04-27T16:07:04.886253",
     "status": "completed"
    },
    "tags": []
   },
   "outputs": [],
   "source": [
    "preds = f(time, params)"
   ]
  },
  {
   "cell_type": "markdown",
   "id": "e1d0a2af",
   "metadata": {
    "papermill": {
     "duration": 0.17697,
     "end_time": "2022-04-27T16:07:05.425410",
     "exception": false,
     "start_time": "2022-04-27T16:07:05.248440",
     "status": "completed"
    },
    "tags": []
   },
   "source": [
    "Let's create a little function to see how close our predictions are to our targets, and take a look:"
   ]
  },
  {
   "cell_type": "code",
   "execution_count": 29,
   "id": "e55e0ad5",
   "metadata": {
    "execution": {
     "iopub.execute_input": "2022-04-27T16:07:05.783169Z",
     "iopub.status.busy": "2022-04-27T16:07:05.782194Z",
     "iopub.status.idle": "2022-04-27T16:07:05.787250Z",
     "shell.execute_reply": "2022-04-27T16:07:05.787853Z",
     "shell.execute_reply.started": "2022-04-27T16:04:45.455140Z"
    },
    "papermill": {
     "duration": 0.186646,
     "end_time": "2022-04-27T16:07:05.788017",
     "exception": false,
     "start_time": "2022-04-27T16:07:05.601371",
     "status": "completed"
    },
    "tags": []
   },
   "outputs": [],
   "source": [
    "def show_preds(preds, ax=None):\n",
    "    if ax is None: ax=plt.subplots()[1]\n",
    "    ax.scatter(time, speed)\n",
    "    ax.scatter(time, to_np(preds), color='red')\n",
    "    ax.set_ylim(-300,100)"
   ]
  },
  {
   "cell_type": "code",
   "execution_count": 30,
   "id": "7b44381e",
   "metadata": {
    "execution": {
     "iopub.execute_input": "2022-04-27T16:07:06.149772Z",
     "iopub.status.busy": "2022-04-27T16:07:06.148827Z",
     "iopub.status.idle": "2022-04-27T16:07:06.376112Z",
     "shell.execute_reply": "2022-04-27T16:07:06.376567Z",
     "shell.execute_reply.started": "2022-04-27T16:04:45.654206Z"
    },
    "papermill": {
     "duration": 0.411567,
     "end_time": "2022-04-27T16:07:06.376755",
     "exception": false,
     "start_time": "2022-04-27T16:07:05.965188",
     "status": "completed"
    },
    "tags": []
   },
   "outputs": [
    {
     "data": {
      "image/png": "[encoded data removed]",
      "text/plain": [
       "<Figure size 432x288 with 1 Axes>"
      ]
     },
     "metadata": {
      "needs_background": "light"
     },
     "output_type": "display_data"
    }
   ],
   "source": [
    "show_preds(preds)"
   ]
  },
  {
   "cell_type": "markdown",
   "id": "bc630b94",
   "metadata": {
    "papermill": {
     "duration": 0.176332,
     "end_time": "2022-04-27T16:07:06.731457",
     "exception": false,
     "start_time": "2022-04-27T16:07:06.555125",
     "status": "completed"
    },
    "tags": []
   },
   "source": [
    "This doesn't look very close—our random parameters suggest that the roller coaster will end up going backwards, since we have negative speeds!\n",
    "\n",
    "#### Step 3: Calculate the loss\n",
    "We calculate the loss as follows:"
   ]
  },
  {
   "cell_type": "code",
   "execution_count": 31,
   "id": "ef842bf7",
   "metadata": {
    "execution": {
     "iopub.execute_input": "2022-04-27T16:07:07.096069Z",
     "iopub.status.busy": "2022-04-27T16:07:07.095095Z",
     "iopub.status.idle": "2022-04-27T16:07:07.105561Z",
     "shell.execute_reply": "2022-04-27T16:07:07.106220Z",
     "shell.execute_reply.started": "2022-04-27T16:04:46.043823Z"
    },
    "papermill": {
     "duration": 0.196414,
     "end_time": "2022-04-27T16:07:07.106401",
     "exception": false,
     "start_time": "2022-04-27T16:07:06.909987",
     "status": "completed"
    },
    "tags": []
   },
   "outputs": [
    {
     "data": {
      "text/plain": [
       "tensor(8080.6499, grad_fn=<MeanBackward0>)"
      ]
     },
     "execution_count": 31,
     "metadata": {},
     "output_type": "execute_result"
    }
   ],
   "source": [
    "loss = mse(preds, speed)\n",
    "loss"
   ]
  },
  {
   "cell_type": "markdown",
   "id": "99ca2caa",
   "metadata": {
    "papermill": {
     "duration": 0.177354,
     "end_time": "2022-04-27T16:07:07.463050",
     "exception": false,
     "start_time": "2022-04-27T16:07:07.285696",
     "status": "completed"
    },
    "tags": []
   },
   "source": [
    "Our goal is now to improve this. To do that, we'll need to know the gradients.\n",
    "#### Step 4: Calculate the gradients\n",
    "The next step is to calculate the gradients. In other words, calculate an approximation of how the parameters need to change:"
   ]
  },
  {
   "cell_type": "code",
   "execution_count": 32,
   "id": "4d96b504",
   "metadata": {
    "execution": {
     "iopub.execute_input": "2022-04-27T16:07:07.822277Z",
     "iopub.status.busy": "2022-04-27T16:07:07.821354Z",
     "iopub.status.idle": "2022-04-27T16:07:07.829607Z",
     "shell.execute_reply": "2022-04-27T16:07:07.830157Z",
     "shell.execute_reply.started": "2022-04-27T16:04:46.415870Z"
    },
    "papermill": {
     "duration": 0.189487,
     "end_time": "2022-04-27T16:07:07.830320",
     "exception": false,
     "start_time": "2022-04-27T16:07:07.640833",
     "status": "completed"
    },
    "tags": []
   },
   "outputs": [
    {
     "data": {
      "text/plain": [
       "tensor([-28968.5938,  -1852.4731,   -144.0905])"
      ]
     },
     "execution_count": 32,
     "metadata": {},
     "output_type": "execute_result"
    }
   ],
   "source": [
    "loss.backward()\n",
    "params.grad"
   ]
  },
  {
   "cell_type": "markdown",
   "id": "fe0a7211",
   "metadata": {
    "papermill": {
     "duration": 0.202083,
     "end_time": "2022-04-27T16:07:08.214827",
     "exception": false,
     "start_time": "2022-04-27T16:07:08.012744",
     "status": "completed"
    },
    "tags": []
   },
   "source": [
    "We can use these gradients to improve our parameters. We'll need to pick a learning rate (we'll discuss how to do that in practice in the next chapter; for now we'll just use 1e-5, or 0.00001):"
   ]
  },
  {
   "cell_type": "code",
   "execution_count": 33,
   "id": "f0dad4f5",
   "metadata": {
    "execution": {
     "iopub.execute_input": "2022-04-27T16:07:08.574376Z",
     "iopub.status.busy": "2022-04-27T16:07:08.573395Z",
     "iopub.status.idle": "2022-04-27T16:07:08.579312Z",
     "shell.execute_reply": "2022-04-27T16:07:08.579917Z",
     "shell.execute_reply.started": "2022-04-27T16:04:46.960343Z"
    },
    "papermill": {
     "duration": 0.187579,
     "end_time": "2022-04-27T16:07:08.580079",
     "exception": false,
     "start_time": "2022-04-27T16:07:08.392500",
     "status": "completed"
    },
    "tags": []
   },
   "outputs": [
    {
     "data": {
      "text/plain": [
       "tensor([-0.2897, -0.0185, -0.0014])"
      ]
     },
     "execution_count": 33,
     "metadata": {},
     "output_type": "execute_result"
    }
   ],
   "source": [
    "params.grad * 1e-5"
   ]
  },
  {
   "cell_type": "code",
   "execution_count": 34,
   "id": "b5be17d0",
   "metadata": {
    "execution": {
     "iopub.execute_input": "2022-04-27T16:07:08.942877Z",
     "iopub.status.busy": "2022-04-27T16:07:08.941937Z",
     "iopub.status.idle": "2022-04-27T16:07:08.947497Z",
     "shell.execute_reply": "2022-04-27T16:07:08.948092Z",
     "shell.execute_reply.started": "2022-04-27T16:04:47.182524Z"
    },
    "papermill": {
     "duration": 0.189237,
     "end_time": "2022-04-27T16:07:08.948265",
     "exception": false,
     "start_time": "2022-04-27T16:07:08.759028",
     "status": "completed"
    },
    "tags": []
   },
   "outputs": [
    {
     "data": {
      "text/plain": [
       "tensor([-0.3989,  0.3281, -0.1130], requires_grad=True)"
      ]
     },
     "execution_count": 34,
     "metadata": {},
     "output_type": "execute_result"
    }
   ],
   "source": [
    "params"
   ]
  },
  {
   "cell_type": "markdown",
   "id": "a4f21be4",
   "metadata": {
    "papermill": {
     "duration": 0.178993,
     "end_time": "2022-04-27T16:07:09.306734",
     "exception": false,
     "start_time": "2022-04-27T16:07:09.127741",
     "status": "completed"
    },
    "tags": []
   },
   "source": [
    "#### Step 5: Step the weights.\n",
    "\n",
    "Now we need to update the parameters based on the gradients we just calculated:\n"
   ]
  },
  {
   "cell_type": "code",
   "execution_count": 35,
   "id": "2605dfbb",
   "metadata": {
    "execution": {
     "iopub.execute_input": "2022-04-27T16:07:09.672966Z",
     "iopub.status.busy": "2022-04-27T16:07:09.671992Z",
     "iopub.status.idle": "2022-04-27T16:07:09.676184Z",
     "shell.execute_reply": "2022-04-27T16:07:09.676781Z",
     "shell.execute_reply.started": "2022-04-27T16:04:47.559242Z"
    },
    "papermill": {
     "duration": 0.188389,
     "end_time": "2022-04-27T16:07:09.676941",
     "exception": false,
     "start_time": "2022-04-27T16:07:09.488552",
     "status": "completed"
    },
    "tags": []
   },
   "outputs": [],
   "source": [
    "lr = 1e-5\n",
    "params.data -= lr * params.grad.data\n",
    "params.grad = None"
   ]
  },
  {
   "cell_type": "markdown",
   "id": "734a0a52",
   "metadata": {
    "papermill": {
     "duration": 0.183639,
     "end_time": "2022-04-27T16:07:10.041610",
     "exception": false,
     "start_time": "2022-04-27T16:07:09.857971",
     "status": "completed"
    },
    "tags": []
   },
   "source": [
    "So now we compute the new parameters as the actual parameters minus the learning rate times the gradient. Here we added a special part: `.data`, which if you use it the gradient is not calculated. We don't want to calculate the gradient of the actual step that we do, we only want to compute it on the function `f`. After that delete the gradients that we already have (to be able to compute new for the next step).\n",
    "\n",
    "Understanding this bit depends on remembering recent history. To calculate the gradients we call `backward` on the `loss`. But this `loss` was itself calculated by `mse`, which in turn took `preds` as an input, which was calculated using `f` taking as an input `params`, which was the object on which we originally called `required_grads_`—which is the original call that now allows us to call `backward` on `loss`. This chain of function calls represents the mathematical composition of functions, which enables PyTorch to use calculus's chain rule under the hood to calculate these gradients.\n",
    "\n",
    "Let's see if the loss has improved:"
   ]
  },
  {
   "cell_type": "code",
   "execution_count": 36,
   "id": "b7090534",
   "metadata": {
    "execution": {
     "iopub.execute_input": "2022-04-27T16:07:10.406905Z",
     "iopub.status.busy": "2022-04-27T16:07:10.405975Z",
     "iopub.status.idle": "2022-04-27T16:07:10.410959Z",
     "shell.execute_reply": "2022-04-27T16:07:10.411432Z",
     "shell.execute_reply.started": "2022-04-27T16:04:47.936654Z"
    },
    "papermill": {
     "duration": 0.188168,
     "end_time": "2022-04-27T16:07:10.411583",
     "exception": false,
     "start_time": "2022-04-27T16:07:10.223415",
     "status": "completed"
    },
    "tags": []
   },
   "outputs": [
    {
     "data": {
      "text/plain": [
       "tensor(2034.7380, grad_fn=<MeanBackward0>)"
      ]
     },
     "execution_count": 36,
     "metadata": {},
     "output_type": "execute_result"
    }
   ],
   "source": [
    "preds = f(time,params)\n",
    "mse(preds, speed)"
   ]
  },
  {
   "cell_type": "markdown",
   "id": "3be1f43a",
   "metadata": {
    "papermill": {
     "duration": 0.178843,
     "end_time": "2022-04-27T16:07:10.769668",
     "exception": false,
     "start_time": "2022-04-27T16:07:10.590825",
     "status": "completed"
    },
    "tags": []
   },
   "source": [
    "And take a look at the plot:"
   ]
  },
  {
   "cell_type": "code",
   "execution_count": 37,
   "id": "9fc2d8b1",
   "metadata": {
    "execution": {
     "iopub.execute_input": "2022-04-27T16:07:11.132945Z",
     "iopub.status.busy": "2022-04-27T16:07:11.131902Z",
     "iopub.status.idle": "2022-04-27T16:07:11.317110Z",
     "shell.execute_reply": "2022-04-27T16:07:11.317595Z",
     "shell.execute_reply.started": "2022-04-27T16:04:48.329474Z"
    },
    "papermill": {
     "duration": 0.369427,
     "end_time": "2022-04-27T16:07:11.317783",
     "exception": false,
     "start_time": "2022-04-27T16:07:10.948356",
     "status": "completed"
    },
    "tags": []
   },
   "outputs": [
    {
     "data": {
      "image/png": "[encoded data removed]",
      "text/plain": [
       "<Figure size 432x288 with 1 Axes>"
      ]
     },
     "metadata": {
      "needs_background": "light"
     },
     "output_type": "display_data"
    }
   ],
   "source": [
    "show_preds(preds)"
   ]
  },
  {
   "cell_type": "markdown",
   "id": "c2f56c5b",
   "metadata": {
    "papermill": {
     "duration": 0.18134,
     "end_time": "2022-04-27T16:07:11.680185",
     "exception": false,
     "start_time": "2022-04-27T16:07:11.498845",
     "status": "completed"
    },
    "tags": []
   },
   "source": [
    "We need to repeat this a few times, so we'll create a function to apply one step:"
   ]
  },
  {
   "cell_type": "code",
   "execution_count": 38,
   "id": "bb9c24cc",
   "metadata": {
    "execution": {
     "iopub.execute_input": "2022-04-27T16:07:12.050188Z",
     "iopub.status.busy": "2022-04-27T16:07:12.049180Z",
     "iopub.status.idle": "2022-04-27T16:07:12.051834Z",
     "shell.execute_reply": "2022-04-27T16:07:12.051311Z",
     "shell.execute_reply.started": "2022-04-27T16:04:48.732693Z"
    },
    "papermill": {
     "duration": 0.19065,
     "end_time": "2022-04-27T16:07:12.051980",
     "exception": false,
     "start_time": "2022-04-27T16:07:11.861330",
     "status": "completed"
    },
    "tags": []
   },
   "outputs": [],
   "source": [
    "def apply_step(params, prn=True):\n",
    "    preds = f(time, params)\n",
    "    loss = mse(preds, speed)\n",
    "    loss.backward()\n",
    "    params.data -= lr * params.grad.data\n",
    "    params.grad = None\n",
    "    if prn: print(loss.item())\n",
    "    return preds"
   ]
  },
  {
   "cell_type": "markdown",
   "id": "a19d63d8",
   "metadata": {
    "papermill": {
     "duration": 0.179637,
     "end_time": "2022-04-27T16:07:12.412894",
     "exception": false,
     "start_time": "2022-04-27T16:07:12.233257",
     "status": "completed"
    },
    "tags": []
   },
   "source": [
    "#### Step 6: Repeat the process \n",
    "\n",
    "Now we iterate. By looping and performing many improvements, we hope to reach a good result:"
   ]
  },
  {
   "cell_type": "code",
   "execution_count": 39,
   "id": "aa8eaad4",
   "metadata": {
    "execution": {
     "iopub.execute_input": "2022-04-27T16:07:12.780604Z",
     "iopub.status.busy": "2022-04-27T16:07:12.779573Z",
     "iopub.status.idle": "2022-04-27T16:07:12.787382Z",
     "shell.execute_reply": "2022-04-27T16:07:12.786806Z",
     "shell.execute_reply.started": "2022-04-27T16:04:49.155783Z"
    },
    "papermill": {
     "duration": 0.191932,
     "end_time": "2022-04-27T16:07:12.787514",
     "exception": false,
     "start_time": "2022-04-27T16:07:12.595582",
     "status": "completed"
    },
    "tags": []
   },
   "outputs": [
    {
     "name": "stdout",
     "output_type": "stream",
     "text": [
      "2034.738037109375\n",
      "890.6641845703125\n",
      "674.1678466796875\n",
      "633.1974487304688\n",
      "625.4419555664062\n",
      "623.9716796875\n",
      "623.6907958984375\n",
      "623.6350708007812\n",
      "623.621826171875\n",
      "623.6165771484375\n"
     ]
    }
   ],
   "source": [
    "for i in range(10): apply_step(params)"
   ]
  },
  {
   "cell_type": "code",
   "execution_count": 40,
   "id": "667768e3",
   "metadata": {
    "execution": {
     "iopub.execute_input": "2022-04-27T16:07:13.155455Z",
     "iopub.status.busy": "2022-04-27T16:07:13.154833Z",
     "iopub.status.idle": "2022-04-27T16:07:13.157701Z",
     "shell.execute_reply": "2022-04-27T16:07:13.157133Z",
     "shell.execute_reply.started": "2022-04-27T16:04:49.411962Z"
    },
    "papermill": {
     "duration": 0.190056,
     "end_time": "2022-04-27T16:07:13.157830",
     "exception": false,
     "start_time": "2022-04-27T16:07:12.967774",
     "status": "completed"
    },
    "tags": []
   },
   "outputs": [],
   "source": [
    "params = orig_params.detach().requires_grad_()"
   ]
  },
  {
   "cell_type": "markdown",
   "id": "50e038ea",
   "metadata": {
    "papermill": {
     "duration": 0.179982,
     "end_time": "2022-04-27T16:07:13.520105",
     "exception": false,
     "start_time": "2022-04-27T16:07:13.340123",
     "status": "completed"
    },
    "tags": []
   },
   "source": [
    "The loss is going down, just as we hoped! But looking only at these loss numbers disguises the fact that each iteration represents an entirely different quadratic function being tried, on the way to finding the best possible quadratic function. We can see this process visually if, instead of printing out the loss function, we plot the function at every step. Then we can see how the shape is approaching the best possible quadratic function for our data:"
   ]
  },
  {
   "cell_type": "code",
   "execution_count": 41,
   "id": "81e20c3a",
   "metadata": {
    "execution": {
     "iopub.execute_input": "2022-04-27T16:07:13.887474Z",
     "iopub.status.busy": "2022-04-27T16:07:13.886861Z",
     "iopub.status.idle": "2022-04-27T16:07:14.488828Z",
     "shell.execute_reply": "2022-04-27T16:07:14.488131Z",
     "shell.execute_reply.started": "2022-04-27T16:04:49.841986Z"
    },
    "papermill": {
     "duration": 0.786813,
     "end_time": "2022-04-27T16:07:14.488980",
     "exception": false,
     "start_time": "2022-04-27T16:07:13.702167",
     "status": "completed"
    },
    "tags": []
   },
   "outputs": [
    {
     "data": {
      "image/png": "[encoded data removed]",
      "text/plain": [
       "<Figure size 864x216 with 4 Axes>"
      ]
     },
     "metadata": {
      "needs_background": "light"
     },
     "output_type": "display_data"
    }
   ],
   "source": [
    "_,axs = plt.subplots(1,4,figsize=(12,3))\n",
    "for ax in axs: show_preds(apply_step(params, False), ax)\n",
    "plt.tight_layout()"
   ]
  },
  {
   "cell_type": "markdown",
   "id": "e24a6bb3",
   "metadata": {
    "papermill": {
     "duration": 0.182286,
     "end_time": "2022-04-27T16:07:14.855313",
     "exception": false,
     "start_time": "2022-04-27T16:07:14.673027",
     "status": "completed"
    },
    "tags": []
   },
   "source": [
    "#### Step 7: stop\n",
    "We just decided to stop after 10 epochs arbitrarily. In practice, we would watch the training and validation losses and our metrics to decide when to stop, as we've discussed."
   ]
  },
  {
   "cell_type": "markdown",
   "id": "66af0c02",
   "metadata": {
    "papermill": {
     "duration": 0.183757,
     "end_time": "2022-04-27T16:07:15.220815",
     "exception": false,
     "start_time": "2022-04-27T16:07:15.037058",
     "status": "completed"
    },
    "tags": []
   },
   "source": [
    "### Summarizing Gradient Descent\n",
    "To summarize, at the beginning, the weights of our model can be random (training *from scratch*) or come from a pretrained model (*transfer learning*). In the first case, the output we will get from our inputs won't have anything to do with what we want, and even in the second case, it's very likely the pretrained model won't be very good at the specific task we are targeting. So the model will need to *learn* better weights.\n",
    "\n",
    "We begin by comparing the outputs the model gives us with our targets (we have labeled data, so we know what result the model should give) using a *loss function*, which returns a number that we want to make as low as possible by improving our weights. To do this, we take a few data items (such as images) from the training set and feed them to our model. We compare the corresponding targets using our loss function, and the score we get tells us how wrong our predictions were. We then change the weights a little bit to make it slightly better.\n",
    "\n",
    "To find how to change the weights to make the loss a bit better, we use calculus to calculate the *gradients*. (Actually, we let PyTorch do it for us!) Let's consider an analogy. Imagine you are lost in the mountains with your car parked at the lowest point. To find your way back to it, you might wander in a random direction, but that probably wouldn't help much. Since you know your vehicle is at the lowest point, you would be better off going downhill. By always taking a step in the direction of the steepest downward slope, you should eventually arrive at your destination. We use the magnitude of the gradient (i.e., the steepness of the slope) to tell us how big a step to take; specifically, we multiply the gradient by a number we choose called the *learning rate* to decide on the step size. We then *iterate* until we have reached the lowest point, which will be our parking lot, then we can *stop*.\n",
    "\n",
    "All of that we just saw can be transposed directly to the MNIST dataset, except for the loss function. Let's now see how we can define a good training objective. \n",
    "\n",
    "## The MNIST Loss Function\n",
    "\n",
    "We already have our independent variables `x`—these are the images themselves. We first need to tranform them into tensors and stack them to be able to perform computations on them all together. To do this we first combine all the images in this list into a single three-dimensional tensor. We already know how to create a tensor containing a single image. To create a tensor containing all the images in a directory, we will first use a Python list comprehension to create a plain list of the single image tensors."
   ]
  },
  {
   "cell_type": "code",
   "execution_count": 42,
   "id": "b5527468",
   "metadata": {
    "execution": {
     "iopub.execute_input": "2022-04-27T16:07:15.596717Z",
     "iopub.status.busy": "2022-04-27T16:07:15.596020Z",
     "iopub.status.idle": "2022-04-27T16:07:18.704276Z",
     "shell.execute_reply": "2022-04-27T16:07:18.703689Z",
     "shell.execute_reply.started": "2022-04-27T16:04:51.006961Z"
    },
    "papermill": {
     "duration": 3.297758,
     "end_time": "2022-04-27T16:07:18.704416",
     "exception": false,
     "start_time": "2022-04-27T16:07:15.406658",
     "status": "completed"
    },
    "tags": []
   },
   "outputs": [
    {
     "data": {
      "text/plain": [
       "(6131, 6265)"
      ]
     },
     "execution_count": 42,
     "metadata": {},
     "output_type": "execute_result"
    }
   ],
   "source": [
    "seven_tensors = [tensor(Image.open(o)) for o in sevens]\n",
    "three_tensors = [tensor(Image.open(o)) for o in threes]\n",
    "len(three_tensors),len(seven_tensors)"
   ]
  },
  {
   "cell_type": "markdown",
   "id": "6e7cc275",
   "metadata": {
    "papermill": {
     "duration": 0.184998,
     "end_time": "2022-04-27T16:07:19.072406",
     "exception": false,
     "start_time": "2022-04-27T16:07:18.887408",
     "status": "completed"
    },
    "tags": []
   },
   "source": [
    "The most common way to describe such a tensor is to call it a *rank-3 tensor*. We often need to stack up individual tensors in a collection into a single tensor. Unsurprisingly, PyTorch comes with a function called `stack` that we can use for this purpose.\n",
    "\n",
    "Some operations in PyTorch, such as taking a mean, require us to *cast* our integer types to float types. Since we'll be needing this later, we'll also cast our stacked tensor to `float` now. Casting in PyTorch is as simple as typing the name of the type you wish to cast to, and treating it as a method.\n",
    "\n",
    "Generally when images are floats, the pixel values are expected to be between 0 and 1, so we will also divide by 255 here:"
   ]
  },
  {
   "cell_type": "code",
   "execution_count": 43,
   "id": "e297fb19",
   "metadata": {
    "execution": {
     "iopub.execute_input": "2022-04-27T16:07:19.458027Z",
     "iopub.status.busy": "2022-04-27T16:07:19.457162Z",
     "iopub.status.idle": "2022-04-27T16:07:19.526034Z",
     "shell.execute_reply": "2022-04-27T16:07:19.526685Z",
     "shell.execute_reply.started": "2022-04-27T16:04:54.401698Z"
    },
    "papermill": {
     "duration": 0.254487,
     "end_time": "2022-04-27T16:07:19.526854",
     "exception": false,
     "start_time": "2022-04-27T16:07:19.272367",
     "status": "completed"
    },
    "tags": []
   },
   "outputs": [
    {
     "data": {
      "text/plain": [
       "torch.Size([6131, 28, 28])"
      ]
     },
     "execution_count": 43,
     "metadata": {},
     "output_type": "execute_result"
    }
   ],
   "source": [
    "stacked_sevens = torch.stack(seven_tensors).float()/255\n",
    "stacked_threes = torch.stack(three_tensors).float()/255\n",
    "stacked_threes.shape"
   ]
  },
  {
   "cell_type": "markdown",
   "id": "b7198730",
   "metadata": {
    "papermill": {
     "duration": 0.184465,
     "end_time": "2022-04-27T16:07:19.898975",
     "exception": false,
     "start_time": "2022-04-27T16:07:19.714510",
     "status": "completed"
    },
    "tags": []
   },
   "source": [
    "Perhaps the most important attribute of a tensor is its *shape*. This tells you the length of each axis. In this case, we can see that we have 6,131 images, each of size 28×28 pixels. There is nothing specifically about this tensor that says that the first axis is the number of images, the second is the height, and the third is the width—the semantics of a tensor are entirely up to us, and how we construct it. As far as PyTorch is concerned, it is just a bunch of numbers in memory.\n",
    "\n",
    "The *length* of a tensor's shape is its rank:"
   ]
  },
  {
   "cell_type": "code",
   "execution_count": 44,
   "id": "0624a8ed",
   "metadata": {
    "execution": {
     "iopub.execute_input": "2022-04-27T16:07:20.266933Z",
     "iopub.status.busy": "2022-04-27T16:07:20.266212Z",
     "iopub.status.idle": "2022-04-27T16:07:20.270979Z",
     "shell.execute_reply": "2022-04-27T16:07:20.271481Z",
     "shell.execute_reply.started": "2022-04-27T16:04:54.802267Z"
    },
    "papermill": {
     "duration": 0.189634,
     "end_time": "2022-04-27T16:07:20.271661",
     "exception": false,
     "start_time": "2022-04-27T16:07:20.082027",
     "status": "completed"
    },
    "tags": []
   },
   "outputs": [
    {
     "data": {
      "text/plain": [
       "3"
      ]
     },
     "execution_count": 44,
     "metadata": {},
     "output_type": "execute_result"
    }
   ],
   "source": [
    "len(stacked_threes.shape)"
   ]
  },
  {
   "cell_type": "markdown",
   "id": "1378bdd9",
   "metadata": {
    "papermill": {
     "duration": 0.183235,
     "end_time": "2022-04-27T16:07:20.645561",
     "exception": false,
     "start_time": "2022-04-27T16:07:20.462326",
     "status": "completed"
    },
    "tags": []
   },
   "source": [
    "We'll concatenate them all into a single tensor, and also change them from a list of matrices (a rank-3 tensor) to a list of vectors (a rank-2 tensor). We can do this using `view`, which is a PyTorch method that changes the shape of a tensor without changing its contents. `-1` is a special parameter to `view` that means \"make this axis as big as necessary to fit all the data\" (i.e. to be able to fit all the rows):"
   ]
  },
  {
   "cell_type": "code",
   "execution_count": 45,
   "id": "252b2dff",
   "metadata": {
    "execution": {
     "iopub.execute_input": "2022-04-27T16:07:21.020785Z",
     "iopub.status.busy": "2022-04-27T16:07:21.020062Z",
     "iopub.status.idle": "2022-04-27T16:07:21.042819Z",
     "shell.execute_reply": "2022-04-27T16:07:21.043790Z",
     "shell.execute_reply.started": "2022-04-27T16:04:55.191949Z"
    },
    "papermill": {
     "duration": 0.214115,
     "end_time": "2022-04-27T16:07:21.043972",
     "exception": false,
     "start_time": "2022-04-27T16:07:20.829857",
     "status": "completed"
    },
    "tags": []
   },
   "outputs": [],
   "source": [
    "train_x = torch.cat([stacked_threes, stacked_sevens]).view(-1, 28*28)"
   ]
  },
  {
   "cell_type": "markdown",
   "id": "650b1969",
   "metadata": {
    "papermill": {
     "duration": 0.182259,
     "end_time": "2022-04-27T16:07:21.411680",
     "exception": false,
     "start_time": "2022-04-27T16:07:21.229421",
     "status": "completed"
    },
    "tags": []
   },
   "source": [
    "We need a label for each image. We'll use `1` for 3s and `0` for 7s. We add the `unsqueeze` bit here as it needs a matrix in pytorch, and the unsqueeze is just going to add an additional unit dimension at the position asked to make it from a vector to a matrix with 1 column:"
   ]
  },
  {
   "cell_type": "code",
   "execution_count": 46,
   "id": "61550517",
   "metadata": {
    "execution": {
     "iopub.execute_input": "2022-04-27T16:07:21.785826Z",
     "iopub.status.busy": "2022-04-27T16:07:21.785209Z",
     "iopub.status.idle": "2022-04-27T16:07:21.788599Z",
     "shell.execute_reply": "2022-04-27T16:07:21.789214Z",
     "shell.execute_reply.started": "2022-04-27T16:04:55.564909Z"
    },
    "papermill": {
     "duration": 0.1919,
     "end_time": "2022-04-27T16:07:21.789381",
     "exception": false,
     "start_time": "2022-04-27T16:07:21.597481",
     "status": "completed"
    },
    "tags": []
   },
   "outputs": [
    {
     "data": {
      "text/plain": [
       "(torch.Size([12396, 784]), torch.Size([12396, 1]))"
      ]
     },
     "execution_count": 46,
     "metadata": {},
     "output_type": "execute_result"
    }
   ],
   "source": [
    "train_y = tensor([1]*len(threes) + [0]*len(sevens)).unsqueeze(1)\n",
    "train_x.shape,train_y.shape"
   ]
  },
  {
   "cell_type": "markdown",
   "id": "309e98ee",
   "metadata": {
    "papermill": {
     "duration": 0.183593,
     "end_time": "2022-04-27T16:07:22.155410",
     "exception": false,
     "start_time": "2022-04-27T16:07:21.971817",
     "status": "completed"
    },
    "tags": []
   },
   "source": [
    "A `Dataset` in PyTorch is required to return a tuple of `(x,y)` when indexed. Python provides a `zip` function which, when combined with `list`, provides a simple way to get this functionality:"
   ]
  },
  {
   "cell_type": "code",
   "execution_count": 47,
   "id": "00282896",
   "metadata": {
    "execution": {
     "iopub.execute_input": "2022-04-27T16:07:22.522844Z",
     "iopub.status.busy": "2022-04-27T16:07:22.522249Z",
     "iopub.status.idle": "2022-04-27T16:07:22.551839Z",
     "shell.execute_reply": "2022-04-27T16:07:22.552382Z",
     "shell.execute_reply.started": "2022-04-27T16:04:55.924459Z"
    },
    "papermill": {
     "duration": 0.214698,
     "end_time": "2022-04-27T16:07:22.552554",
     "exception": false,
     "start_time": "2022-04-27T16:07:22.337856",
     "status": "completed"
    },
    "tags": []
   },
   "outputs": [
    {
     "data": {
      "text/plain": [
       "(torch.Size([784]), tensor([1]))"
      ]
     },
     "execution_count": 47,
     "metadata": {},
     "output_type": "execute_result"
    }
   ],
   "source": [
    "dset = list(zip(train_x,train_y))\n",
    "x,y = dset[0]\n",
    "x.shape, y"
   ]
  },
  {
   "cell_type": "code",
   "execution_count": 48,
   "id": "9d6e756f",
   "metadata": {
    "execution": {
     "iopub.execute_input": "2022-04-27T16:07:22.922470Z",
     "iopub.status.busy": "2022-04-27T16:07:22.921736Z",
     "iopub.status.idle": "2022-04-27T16:07:23.413964Z",
     "shell.execute_reply": "2022-04-27T16:07:23.414564Z",
     "shell.execute_reply.started": "2022-04-27T16:04:56.092173Z"
    },
    "papermill": {
     "duration": 0.677537,
     "end_time": "2022-04-27T16:07:23.414762",
     "exception": false,
     "start_time": "2022-04-27T16:07:22.737225",
     "status": "completed"
    },
    "tags": []
   },
   "outputs": [
    {
     "data": {
      "text/plain": [
       "(torch.Size([1010, 28, 28]), torch.Size([1028, 28, 28]))"
      ]
     },
     "execution_count": 48,
     "metadata": {},
     "output_type": "execute_result"
    }
   ],
   "source": [
    "# do the same on the validation set\n",
    "valid_3_tens = torch.stack([tensor(Image.open(o)) \n",
    "                            for o in (path/'valid'/'3').ls()])\n",
    "valid_3_tens = valid_3_tens.float()/255\n",
    "valid_7_tens = torch.stack([tensor(Image.open(o)) \n",
    "                            for o in (path/'valid'/'7').ls()])\n",
    "valid_7_tens = valid_7_tens.float()/255\n",
    "valid_3_tens.shape,valid_7_tens.shape"
   ]
  },
  {
   "cell_type": "code",
   "execution_count": 49,
   "id": "ec50c7e4",
   "metadata": {
    "execution": {
     "iopub.execute_input": "2022-04-27T16:07:23.786534Z",
     "iopub.status.busy": "2022-04-27T16:07:23.785868Z",
     "iopub.status.idle": "2022-04-27T16:07:23.799926Z",
     "shell.execute_reply": "2022-04-27T16:07:23.800523Z",
     "shell.execute_reply.started": "2022-04-27T16:04:56.597086Z"
    },
    "papermill": {
     "duration": 0.201188,
     "end_time": "2022-04-27T16:07:23.800748",
     "exception": false,
     "start_time": "2022-04-27T16:07:23.599560",
     "status": "completed"
    },
    "tags": []
   },
   "outputs": [],
   "source": [
    "# do the same on the validation set\n",
    "valid_x = torch.cat([valid_3_tens, valid_7_tens]).view(-1, 28*28)\n",
    "valid_y = tensor([1]*len(valid_3_tens) + [0]*len(valid_7_tens)).unsqueeze(1)\n",
    "valid_dset = list(zip(valid_x,valid_y))"
   ]
  },
  {
   "cell_type": "markdown",
   "id": "1cc805b6",
   "metadata": {
    "papermill": {
     "duration": 0.184917,
     "end_time": "2022-04-27T16:07:24.170857",
     "exception": false,
     "start_time": "2022-04-27T16:07:23.985940",
     "status": "completed"
    },
    "tags": []
   },
   "source": [
    "Now we need an (initially random) weight for every pixel (this is the *initialize* step in our seven-step process):"
   ]
  },
  {
   "cell_type": "code",
   "execution_count": 50,
   "id": "9da52582",
   "metadata": {
    "execution": {
     "iopub.execute_input": "2022-04-27T16:07:24.540205Z",
     "iopub.status.busy": "2022-04-27T16:07:24.539571Z",
     "iopub.status.idle": "2022-04-27T16:07:24.546262Z",
     "shell.execute_reply": "2022-04-27T16:07:24.546777Z",
     "shell.execute_reply.started": "2022-04-27T16:04:56.667168Z"
    },
    "papermill": {
     "duration": 0.192705,
     "end_time": "2022-04-27T16:07:24.546943",
     "exception": false,
     "start_time": "2022-04-27T16:07:24.354238",
     "status": "completed"
    },
    "scrolled": true,
    "tags": []
   },
   "outputs": [
    {
     "data": {
      "text/plain": [
       "tensor([[-0.2453],\n",
       "        [ 0.7839],\n",
       "        [-2.1785],\n",
       "        [ 0.0784],\n",
       "        [ 0.2277]], grad_fn=<SliceBackward>)"
      ]
     },
     "execution_count": 50,
     "metadata": {},
     "output_type": "execute_result"
    }
   ],
   "source": [
    "def init_params(size, std=1.0): \n",
    "    return (torch.randn(size)*std).requires_grad_()\n",
    "\n",
    "weights = init_params((28*28,1))\n",
    "weights[:5]"
   ]
  },
  {
   "cell_type": "markdown",
   "id": "0353a356",
   "metadata": {
    "papermill": {
     "duration": 0.183128,
     "end_time": "2022-04-27T16:07:24.919467",
     "exception": false,
     "start_time": "2022-04-27T16:07:24.736339",
     "status": "completed"
    },
    "tags": []
   },
   "source": [
    "The function `weights*pixels` won't be flexible enough—it is always equal to 0 when the pixels are equal to 0 (i.e., its *intercept* is 0). You might remember from high school math that the formula for a line is `y=w*x+b`; we still need the `b`. We'll initialize it to a random number too:"
   ]
  },
  {
   "cell_type": "code",
   "execution_count": 51,
   "id": "795751ed",
   "metadata": {
    "execution": {
     "iopub.execute_input": "2022-04-27T16:07:25.295379Z",
     "iopub.status.busy": "2022-04-27T16:07:25.294772Z",
     "iopub.status.idle": "2022-04-27T16:07:25.300175Z",
     "shell.execute_reply": "2022-04-27T16:07:25.301052Z",
     "shell.execute_reply.started": "2022-04-27T16:04:57.776541Z"
    },
    "papermill": {
     "duration": 0.192555,
     "end_time": "2022-04-27T16:07:25.301256",
     "exception": false,
     "start_time": "2022-04-27T16:07:25.108701",
     "status": "completed"
    },
    "tags": []
   },
   "outputs": [
    {
     "data": {
      "text/plain": [
       "tensor([0.0298], requires_grad=True)"
      ]
     },
     "execution_count": 51,
     "metadata": {},
     "output_type": "execute_result"
    }
   ],
   "source": [
    "bias = init_params(1)\n",
    "bias"
   ]
  },
  {
   "cell_type": "markdown",
   "id": "506735e3",
   "metadata": {
    "papermill": {
     "duration": 0.185767,
     "end_time": "2022-04-27T16:07:25.672117",
     "exception": false,
     "start_time": "2022-04-27T16:07:25.486350",
     "status": "completed"
    },
    "tags": []
   },
   "source": [
    "In neural networks, the `w` in the equation `y=w*x+b` is called the *weights*, and the `b` is called the *bias*. Together, the weights and bias make up the *parameters*.\n",
    "\n",
    "We can now calculate a prediction for one image:"
   ]
  },
  {
   "cell_type": "code",
   "execution_count": 52,
   "id": "834be3a4",
   "metadata": {
    "execution": {
     "iopub.execute_input": "2022-04-27T16:07:26.047358Z",
     "iopub.status.busy": "2022-04-27T16:07:26.046718Z",
     "iopub.status.idle": "2022-04-27T16:07:26.052439Z",
     "shell.execute_reply": "2022-04-27T16:07:26.053014Z",
     "shell.execute_reply.started": "2022-04-27T16:04:58.267921Z"
    },
    "papermill": {
     "duration": 0.194902,
     "end_time": "2022-04-27T16:07:26.053179",
     "exception": false,
     "start_time": "2022-04-27T16:07:25.858277",
     "status": "completed"
    },
    "tags": []
   },
   "outputs": [
    {
     "data": {
      "text/plain": [
       "tensor([17.4497], grad_fn=<AddBackward0>)"
      ]
     },
     "execution_count": 52,
     "metadata": {},
     "output_type": "execute_result"
    }
   ],
   "source": [
    "(train_x[0]*weights.T).sum() + bias"
   ]
  },
  {
   "cell_type": "markdown",
   "id": "4fe78206",
   "metadata": {
    "papermill": {
     "duration": 0.184735,
     "end_time": "2022-04-27T16:07:26.424827",
     "exception": false,
     "start_time": "2022-04-27T16:07:26.240092",
     "status": "completed"
    },
    "tags": []
   },
   "source": [
    "While we could use a Python `for` loop to calculate the prediction for each image, that would be very slow. Because Python loops don't run on the GPU, and because Python is a slow language for loops in general, we need to represent as much of the computation in a model as possible using higher-level functions.\n",
    "\n",
    "In this case, there's an extremely convenient mathematical operation that calculates `w*x` for every row of a matrix—it's called *matrix multiplication*. The image below shows what matrix multiplication looks like.\n",
    "    \n",
    "<img alt=\"Matrix multiplication\" width=\"400\" caption=\"Matrix multiplication\" src=\"https://raw.githubusercontent.com/fastai/fastbook/master/images/matmul2.svg\" id=\"matmul\"/>\n",
    "\n",
    "This image shows two matrices, `A` and `B`, being multiplied together. Each item of the result, which we'll call `AB`, contains each item of its corresponding row of `A` multiplied by each item of its corresponding column of `B`, added together. For instance, row 1, column 2 (the orange dot with a red border) is calculated as $a_{1,1} * b_{1,2} + a_{1,2} * b_{2,2}$. If you need a refresher on matrix multiplication, we suggest you take a look at the [Intro to Matrix Multiplication](https://youtu.be/kT4Mp9EdVqs) on *Khan Academy* or look at this [visual illustration](http://matrixmultiplication.xyz/), since this is the most important mathematical operation in deep learning.\n",
    "\n",
    "In Python, matrix multiplication is represented with the `@` operator. Let's try it:"
   ]
  },
  {
   "cell_type": "code",
   "execution_count": 53,
   "id": "363b894a",
   "metadata": {
    "execution": {
     "iopub.execute_input": "2022-04-27T16:07:26.804534Z",
     "iopub.status.busy": "2022-04-27T16:07:26.803790Z",
     "iopub.status.idle": "2022-04-27T16:07:26.819125Z",
     "shell.execute_reply": "2022-04-27T16:07:26.819782Z",
     "shell.execute_reply.started": "2022-04-27T16:04:59.078464Z"
    },
    "papermill": {
     "duration": 0.20923,
     "end_time": "2022-04-27T16:07:26.819971",
     "exception": false,
     "start_time": "2022-04-27T16:07:26.610741",
     "status": "completed"
    },
    "tags": []
   },
   "outputs": [
    {
     "data": {
      "text/plain": [
       "tensor([[17.4497],\n",
       "        [21.5071],\n",
       "        [18.2835],\n",
       "        ...,\n",
       "        [10.3764],\n",
       "        [14.7433],\n",
       "        [ 9.2027]], grad_fn=<AddBackward0>)"
      ]
     },
     "execution_count": 53,
     "metadata": {},
     "output_type": "execute_result"
    }
   ],
   "source": [
    "def linear1(xb): \n",
    "    return xb@weights + bias\n",
    "preds = linear1(train_x)\n",
    "preds"
   ]
  },
  {
   "cell_type": "markdown",
   "id": "298ef6c2",
   "metadata": {
    "papermill": {
     "duration": 0.199616,
     "end_time": "2022-04-27T16:07:27.207317",
     "exception": false,
     "start_time": "2022-04-27T16:07:27.007701",
     "status": "completed"
    },
    "tags": []
   },
   "source": [
    "The first element is the same as we calculated before, as we'd expect. This equation, `batch@weights + bias`, is one of the two fundamental equations of any neural network (the other one is the *activation function*, which we'll see in a moment).\n",
    "\n",
    "Let's check our accuracy. To decide if an output represents a 3 or a 7, we can just check whether it's greater than 0.5, so our accuracy for each item can be calculated.\n",
    "#### Broadcasting\n",
    "This can be calculated using broadcasting, instead of loops! The magic trick is that PyTorch, when it tries to perform a simple subtraction operation between two tensors of different ranks, will use *broadcasting*. That is, it will automatically expand the tensor with the smaller rank to have the same size as the one with the larger rank. Broadcasting is an important capability that makes tensor code much easier to write.\n",
    "\n",
    "After broadcasting so the two argument tensors have the same rank, PyTorch applies its usual logic for two tensors of the same rank: it performs the operation on each corresponding element of the two tensors, and returns the tensor result. For instance:"
   ]
  },
  {
   "cell_type": "code",
   "execution_count": 54,
   "id": "0f294bfa",
   "metadata": {
    "execution": {
     "iopub.execute_input": "2022-04-27T16:07:27.622035Z",
     "iopub.status.busy": "2022-04-27T16:07:27.619123Z",
     "iopub.status.idle": "2022-04-27T16:07:27.626914Z",
     "shell.execute_reply": "2022-04-27T16:07:27.627382Z",
     "shell.execute_reply.started": "2022-04-27T16:04:59.624871Z"
    },
    "papermill": {
     "duration": 0.213147,
     "end_time": "2022-04-27T16:07:27.627568",
     "exception": false,
     "start_time": "2022-04-27T16:07:27.414421",
     "status": "completed"
    },
    "tags": []
   },
   "outputs": [
    {
     "data": {
      "text/plain": [
       "tensor([2, 3, 4])"
      ]
     },
     "execution_count": 54,
     "metadata": {},
     "output_type": "execute_result"
    }
   ],
   "source": [
    "tensor([1,2,3]) + tensor(1)"
   ]
  },
  {
   "cell_type": "markdown",
   "id": "3014cc10",
   "metadata": {
    "papermill": {
     "duration": 0.203509,
     "end_time": "2022-04-27T16:07:28.083823",
     "exception": false,
     "start_time": "2022-04-27T16:07:27.880314",
     "status": "completed"
    },
    "tags": []
   },
   "source": [
    "In our case we want to compare our prediction with `0.5`. To decide if an output represents a 3 or a 7, we can just check whether it's greater than `0.5`, so our accuracy for each item can be calculated."
   ]
  },
  {
   "cell_type": "code",
   "execution_count": 55,
   "id": "77107711",
   "metadata": {
    "execution": {
     "iopub.execute_input": "2022-04-27T16:07:28.487980Z",
     "iopub.status.busy": "2022-04-27T16:07:28.486956Z",
     "iopub.status.idle": "2022-04-27T16:07:28.492554Z",
     "shell.execute_reply": "2022-04-27T16:07:28.491902Z",
     "shell.execute_reply.started": "2022-04-27T16:05:00.022462Z"
    },
    "papermill": {
     "duration": 0.209,
     "end_time": "2022-04-27T16:07:28.492723",
     "exception": false,
     "start_time": "2022-04-27T16:07:28.283723",
     "status": "completed"
    },
    "tags": []
   },
   "outputs": [
    {
     "data": {
      "text/plain": [
       "tensor([[ True],\n",
       "        [ True],\n",
       "        [ True],\n",
       "        ...,\n",
       "        [False],\n",
       "        [False],\n",
       "        [False]])"
      ]
     },
     "execution_count": 55,
     "metadata": {},
     "output_type": "execute_result"
    }
   ],
   "source": [
    "corrects = (preds>0.5).float() == train_y\n",
    "corrects"
   ]
  },
  {
   "cell_type": "code",
   "execution_count": 56,
   "id": "329e596c",
   "metadata": {
    "execution": {
     "iopub.execute_input": "2022-04-27T16:07:28.897725Z",
     "iopub.status.busy": "2022-04-27T16:07:28.896758Z",
     "iopub.status.idle": "2022-04-27T16:07:28.902046Z",
     "shell.execute_reply": "2022-04-27T16:07:28.901389Z",
     "shell.execute_reply.started": "2022-04-27T16:05:00.207120Z"
    },
    "papermill": {
     "duration": 0.209805,
     "end_time": "2022-04-27T16:07:28.902188",
     "exception": false,
     "start_time": "2022-04-27T16:07:28.692383",
     "status": "completed"
    },
    "tags": []
   },
   "outputs": [
    {
     "data": {
      "text/plain": [
       "0.4947563707828522"
      ]
     },
     "execution_count": 56,
     "metadata": {},
     "output_type": "execute_result"
    }
   ],
   "source": [
    "# check our accuracy\n",
    "corrects.float().mean().item()"
   ]
  },
  {
   "cell_type": "markdown",
   "id": "6cb4440e",
   "metadata": {
    "papermill": {
     "duration": 0.198695,
     "end_time": "2022-04-27T16:07:29.300852",
     "exception": false,
     "start_time": "2022-04-27T16:07:29.102157",
     "status": "completed"
    },
    "tags": []
   },
   "source": [
    "Now let's see what the change in accuracy is for a small change in one of the weights:"
   ]
  },
  {
   "cell_type": "code",
   "execution_count": 57,
   "id": "ac2046d9",
   "metadata": {
    "execution": {
     "iopub.execute_input": "2022-04-27T16:07:29.705763Z",
     "iopub.status.busy": "2022-04-27T16:07:29.704870Z",
     "iopub.status.idle": "2022-04-27T16:07:29.707818Z",
     "shell.execute_reply": "2022-04-27T16:07:29.707293Z",
     "shell.execute_reply.started": "2022-04-27T16:05:00.557601Z"
    },
    "papermill": {
     "duration": 0.208521,
     "end_time": "2022-04-27T16:07:29.707958",
     "exception": false,
     "start_time": "2022-04-27T16:07:29.499437",
     "status": "completed"
    },
    "tags": []
   },
   "outputs": [],
   "source": [
    "weights.data[0] *= 1.0001"
   ]
  },
  {
   "cell_type": "code",
   "execution_count": 58,
   "id": "b062aeb0",
   "metadata": {
    "execution": {
     "iopub.execute_input": "2022-04-27T16:07:30.122170Z",
     "iopub.status.busy": "2022-04-27T16:07:30.121168Z",
     "iopub.status.idle": "2022-04-27T16:07:30.134956Z",
     "shell.execute_reply": "2022-04-27T16:07:30.135572Z",
     "shell.execute_reply.started": "2022-04-27T16:05:00.741313Z"
    },
    "papermill": {
     "duration": 0.229528,
     "end_time": "2022-04-27T16:07:30.135788",
     "exception": false,
     "start_time": "2022-04-27T16:07:29.906260",
     "status": "completed"
    },
    "tags": []
   },
   "outputs": [
    {
     "data": {
      "text/plain": [
       "0.4945143461227417"
      ]
     },
     "execution_count": 58,
     "metadata": {},
     "output_type": "execute_result"
    }
   ],
   "source": [
    "preds = linear1(train_x)\n",
    "((preds>0.0).float() == train_y).float().mean().item()"
   ]
  },
  {
   "cell_type": "markdown",
   "id": "2a0bd199",
   "metadata": {
    "papermill": {
     "duration": 0.20181,
     "end_time": "2022-04-27T16:07:30.548017",
     "exception": false,
     "start_time": "2022-04-27T16:07:30.346207",
     "status": "completed"
    },
    "tags": []
   },
   "source": [
    "As we've seen, we need gradients in order to improve our model using SGD, and in order to calculate gradients we need some *loss function* that represents how good our model is. That is because the gradients are a measure of how that loss function changes with small tweaks to the weights.\n",
    "\n",
    "So, we need to choose a loss function. The obvious approach would be to use accuracy, which is our metric, as our loss function as well. In this case, we would calculate our prediction for each image, collect these values to calculate an overall accuracy, and then calculate the gradients of each weight with respect to that overall accuracy.\n",
    "\n",
    "Unfortunately, we have a significant technical problem here. The gradient of a function is its *slope*, or its steepness, which can be defined as *rise over run*—that is, how much the value of the function goes up or down, divided by how much we changed the input. We can write this in mathematically as: `(y_new - y_old) / (x_new - x_old)`. This gives us a good approximation of the gradient when `x_new` is very similar to `x_old`, meaning that their difference is very small. But accuracy only changes at all when a prediction changes from a 3 to a 7, or vice versa. The problem is that a small change in weights from `x_old` to `x_new` isn't likely to cause any prediction to change, so `(y_new - y_old)` will almost always be 0. In other words, the gradient is 0 almost everywhere.\n",
    "\n",
    "A very small change in the value of a weight will often not actually change the accuracy at all. This means it is not useful to use accuracy as a loss function—if we do, most of the time our gradients will actually be 0, and the model will not be able to learn from that number.\n",
    "\n",
    "> In mathematical terms, accuracy is a function that is constant almost everywhere (except at the threshold, 0.5), so its derivative is nil almost everywhere (and infinity at the threshold). This then gives gradients that are 0 or infinite, which are useless for updating the model.\n",
    "\n",
    "Instead, we need a loss function which, when our weights result in slightly better predictions, gives us a slightly better loss. So what does a \"slightly better prediction\" look like, exactly? Well, in this case, it means that if the correct answer is a 3 the score is a little higher, or if the correct answer is a 7 the score is a little lower.\n",
    "\n",
    "Let's write such a function now. What form does it take?\n",
    "\n",
    "The loss function receives not the images themselves, but the predictions from the model. Let's make one argument, `prds`, of values between 0 and 1, where each value is the prediction that an image is a 3. It is a vector (i.e., a rank-1 tensor), indexed over the images.\n",
    "\n",
    "The purpose of the loss function is to measure the difference between predicted values and the true values — that is, the targets (aka labels). Let's make another argument, `trgts`, with values of 0 or 1 which tells whether an image actually is a 3 or not. It is also a vector (i.e., another rank-1 tensor), indexed over the images.\n",
    "\n",
    "So, for instance, suppose we had three images which we knew were a 3, a 7, and a 3. And suppose our model predicted with high confidence (`0.9`) that the first was a 3, with slight confidence (`0.4`) that the second was a 7, and with fair confidence (`0.2`), but incorrectly, that the last was a 7. This would mean our loss function would receive these values as its inputs:"
   ]
  },
  {
   "cell_type": "code",
   "execution_count": 59,
   "id": "59db9c7e",
   "metadata": {
    "execution": {
     "iopub.execute_input": "2022-04-27T16:07:30.961773Z",
     "iopub.status.busy": "2022-04-27T16:07:30.961051Z",
     "iopub.status.idle": "2022-04-27T16:07:30.964191Z",
     "shell.execute_reply": "2022-04-27T16:07:30.963514Z",
     "shell.execute_reply.started": "2022-04-27T16:05:01.099987Z"
    },
    "papermill": {
     "duration": 0.21263,
     "end_time": "2022-04-27T16:07:30.964342",
     "exception": false,
     "start_time": "2022-04-27T16:07:30.751712",
     "status": "completed"
    },
    "tags": []
   },
   "outputs": [],
   "source": [
    "trgts  = tensor([1,0,1])\n",
    "prds   = tensor([0.9, 0.4, 0.2])"
   ]
  },
  {
   "cell_type": "markdown",
   "id": "b9b95b6e",
   "metadata": {
    "papermill": {
     "duration": 0.196905,
     "end_time": "2022-04-27T16:07:31.361119",
     "exception": false,
     "start_time": "2022-04-27T16:07:31.164214",
     "status": "completed"
    },
    "tags": []
   },
   "source": [
    "Here's a first try at a loss function that measures the distance between `predictions` and `targets`:"
   ]
  },
  {
   "cell_type": "code",
   "execution_count": 60,
   "id": "3e8f94c6",
   "metadata": {
    "execution": {
     "iopub.execute_input": "2022-04-27T16:07:31.769404Z",
     "iopub.status.busy": "2022-04-27T16:07:31.768390Z",
     "iopub.status.idle": "2022-04-27T16:07:31.772824Z",
     "shell.execute_reply": "2022-04-27T16:07:31.773404Z",
     "shell.execute_reply.started": "2022-04-27T16:05:01.441400Z"
    },
    "papermill": {
     "duration": 0.206164,
     "end_time": "2022-04-27T16:07:31.773565",
     "exception": false,
     "start_time": "2022-04-27T16:07:31.567401",
     "status": "completed"
    },
    "tags": []
   },
   "outputs": [],
   "source": [
    "def mnist_loss(predictions, targets):\n",
    "    return torch.where(targets==1, 1-predictions, predictions).mean()"
   ]
  },
  {
   "cell_type": "markdown",
   "id": "b085d259",
   "metadata": {
    "papermill": {
     "duration": 0.18839,
     "end_time": "2022-04-27T16:07:32.151855",
     "exception": false,
     "start_time": "2022-04-27T16:07:31.963465",
     "status": "completed"
    },
    "tags": []
   },
   "source": [
    "We're using a new function, `torch.where(a,b,c)`. This is the same as running the list comprehension `[b[i] if a[i] else c[i] for i in range(len(a))]`, except it works on tensors, at C/CUDA speed. In plain English, this function will measure how distant each prediction is from 1 if it should be 1, and how distant it is from 0 if it should be 0, and then it will take the mean of all those distances.\n",
    "\n",
    "> It's important to learn about PyTorch functions like this, because looping over tensors in Python performs at Python speed, not C/CUDA speed! Try running `help(torch.where)` now to read the docs for this function, or, better still, look it up on the PyTorch documentation site."
   ]
  },
  {
   "cell_type": "code",
   "execution_count": 61,
   "id": "e6169be2",
   "metadata": {
    "execution": {
     "iopub.execute_input": "2022-04-27T16:07:32.530308Z",
     "iopub.status.busy": "2022-04-27T16:07:32.529341Z",
     "iopub.status.idle": "2022-04-27T16:07:32.534954Z",
     "shell.execute_reply": "2022-04-27T16:07:32.535476Z",
     "shell.execute_reply.started": "2022-04-27T16:05:01.913897Z"
    },
    "papermill": {
     "duration": 0.19621,
     "end_time": "2022-04-27T16:07:32.535658",
     "exception": false,
     "start_time": "2022-04-27T16:07:32.339448",
     "status": "completed"
    },
    "tags": []
   },
   "outputs": [
    {
     "name": "stdout",
     "output_type": "stream",
     "text": [
      "Help on built-in function where:\n",
      "\n",
      "where(...)\n",
      "    where(condition, x, y) -> Tensor\n",
      "    \n",
      "    Return a tensor of elements selected from either :attr:`x` or :attr:`y`, depending on :attr:`condition`.\n",
      "    \n",
      "    The operation is defined as:\n",
      "    \n",
      "    .. math::\n",
      "        \\text{out}_i = \\begin{cases}\n",
      "            \\text{x}_i & \\text{if } \\text{condition}_i \\\\\n",
      "            \\text{y}_i & \\text{otherwise} \\\\\n",
      "        \\end{cases}\n",
      "    \n",
      "    .. note::\n",
      "        The tensors :attr:`condition`, :attr:`x`, :attr:`y` must be :ref:`broadcastable <broadcasting-semantics>`.\n",
      "    \n",
      "    .. note::\n",
      "        Currently valid scalar and tensor combination are\n",
      "        1. Scalar of floating dtype and torch.double\n",
      "        2. Scalar of integral dtype and torch.long\n",
      "        3. Scalar of complex dtype and torch.complex128\n",
      "    \n",
      "    Arguments:\n",
      "        condition (BoolTensor): When True (nonzero), yield x, otherwise yield y\n",
      "        x (Tensor or Scalar): value (if :attr:x is a scalar) or values selected at indices\n",
      "                              where :attr:`condition` is ``True``\n",
      "        y (Tensor or Scalar): value (if :attr:x is a scalar) or values selected at indices\n",
      "                              where :attr:`condition` is ``False``\n",
      "    \n",
      "    Returns:\n",
      "        Tensor: A tensor of shape equal to the broadcasted shape of :attr:`condition`, :attr:`x`, :attr:`y`\n",
      "    \n",
      "    Example::\n",
      "    \n",
      "        >>> x = torch.randn(3, 2)\n",
      "        >>> y = torch.ones(3, 2)\n",
      "        >>> x\n",
      "        tensor([[-0.4620,  0.3139],\n",
      "                [ 0.3898, -0.7197],\n",
      "                [ 0.0478, -0.1657]])\n",
      "        >>> torch.where(x > 0, x, y)\n",
      "        tensor([[ 1.0000,  0.3139],\n",
      "                [ 0.3898,  1.0000],\n",
      "                [ 0.0478,  1.0000]])\n",
      "        >>> x = torch.randn(2, 2, dtype=torch.double)\n",
      "        >>> x\n",
      "        tensor([[ 1.0779,  0.0383],\n",
      "                [-0.8785, -1.1089]], dtype=torch.float64)\n",
      "        >>> torch.where(x > 0, x, 0.)\n",
      "        tensor([[1.0779, 0.0383],\n",
      "                [0.0000, 0.0000]], dtype=torch.float64)\n",
      "    \n",
      "    .. function:: where(condition) -> tuple of LongTensor\n",
      "    \n",
      "    ``torch.where(condition)`` is identical to\n",
      "    ``torch.nonzero(condition, as_tuple=True)``.\n",
      "    \n",
      "    .. note::\n",
      "        See also :func:`torch.nonzero`.\n",
      "\n"
     ]
    }
   ],
   "source": [
    "help(torch.where)"
   ]
  },
  {
   "cell_type": "markdown",
   "id": "117d4b2c",
   "metadata": {
    "papermill": {
     "duration": 0.190577,
     "end_time": "2022-04-27T16:07:32.914727",
     "exception": false,
     "start_time": "2022-04-27T16:07:32.724150",
     "status": "completed"
    },
    "tags": []
   },
   "source": [
    "Let's try it on our `prds` and `trgts`:"
   ]
  },
  {
   "cell_type": "code",
   "execution_count": 62,
   "id": "d389b8f1",
   "metadata": {
    "execution": {
     "iopub.execute_input": "2022-04-27T16:07:33.298112Z",
     "iopub.status.busy": "2022-04-27T16:07:33.297163Z",
     "iopub.status.idle": "2022-04-27T16:07:33.306141Z",
     "shell.execute_reply": "2022-04-27T16:07:33.306650Z",
     "shell.execute_reply.started": "2022-04-27T16:05:02.326096Z"
    },
    "papermill": {
     "duration": 0.199604,
     "end_time": "2022-04-27T16:07:33.306828",
     "exception": false,
     "start_time": "2022-04-27T16:07:33.107224",
     "status": "completed"
    },
    "tags": []
   },
   "outputs": [
    {
     "data": {
      "text/plain": [
       "tensor([0.1000, 0.4000, 0.8000])"
      ]
     },
     "execution_count": 62,
     "metadata": {},
     "output_type": "execute_result"
    }
   ],
   "source": [
    "torch.where(trgts==1, 1-prds, prds)"
   ]
  },
  {
   "cell_type": "markdown",
   "id": "44fe059b",
   "metadata": {
    "papermill": {
     "duration": 0.187998,
     "end_time": "2022-04-27T16:07:33.684372",
     "exception": false,
     "start_time": "2022-04-27T16:07:33.496374",
     "status": "completed"
    },
    "tags": []
   },
   "source": [
    "You can see that this function returns a lower number when predictions are more accurate, when accurate predictions are more confident (higher absolute values), and when inaccurate predictions are less confident. In PyTorch, we always assume that a lower value of a loss function is better. Since we need a scalar for the final loss, `mnist_loss` takes the mean of the previous tensor:"
   ]
  },
  {
   "cell_type": "code",
   "execution_count": 63,
   "id": "3bf40078",
   "metadata": {
    "execution": {
     "iopub.execute_input": "2022-04-27T16:07:34.067512Z",
     "iopub.status.busy": "2022-04-27T16:07:34.066871Z",
     "iopub.status.idle": "2022-04-27T16:07:34.071873Z",
     "shell.execute_reply": "2022-04-27T16:07:34.072361Z",
     "shell.execute_reply.started": "2022-04-27T16:05:02.680702Z"
    },
    "papermill": {
     "duration": 0.199956,
     "end_time": "2022-04-27T16:07:34.072523",
     "exception": false,
     "start_time": "2022-04-27T16:07:33.872567",
     "status": "completed"
    },
    "tags": []
   },
   "outputs": [
    {
     "data": {
      "text/plain": [
       "tensor(0.4333)"
      ]
     },
     "execution_count": 63,
     "metadata": {},
     "output_type": "execute_result"
    }
   ],
   "source": [
    "mnist_loss(prds,trgts)"
   ]
  },
  {
   "cell_type": "markdown",
   "id": "b39199d8",
   "metadata": {
    "papermill": {
     "duration": 0.188995,
     "end_time": "2022-04-27T16:07:34.452152",
     "exception": false,
     "start_time": "2022-04-27T16:07:34.263157",
     "status": "completed"
    },
    "tags": []
   },
   "source": [
    "For instance, if we change our prediction for the one \"false\" target from `0.2` to `0.8` the loss will go down, indicating that this is a better prediction:"
   ]
  },
  {
   "cell_type": "code",
   "execution_count": 64,
   "id": "fa76e7a6",
   "metadata": {
    "execution": {
     "iopub.execute_input": "2022-04-27T16:07:34.836072Z",
     "iopub.status.busy": "2022-04-27T16:07:34.834982Z",
     "iopub.status.idle": "2022-04-27T16:07:34.840307Z",
     "shell.execute_reply": "2022-04-27T16:07:34.840964Z",
     "shell.execute_reply.started": "2022-04-27T16:05:03.069795Z"
    },
    "papermill": {
     "duration": 0.200279,
     "end_time": "2022-04-27T16:07:34.841144",
     "exception": false,
     "start_time": "2022-04-27T16:07:34.640865",
     "status": "completed"
    },
    "tags": []
   },
   "outputs": [
    {
     "data": {
      "text/plain": [
       "tensor(0.2333)"
      ]
     },
     "execution_count": 64,
     "metadata": {},
     "output_type": "execute_result"
    }
   ],
   "source": [
    "mnist_loss(tensor([0.9, 0.4, 0.8]),trgts)"
   ]
  },
  {
   "cell_type": "markdown",
   "id": "9b67a308",
   "metadata": {
    "papermill": {
     "duration": 0.188033,
     "end_time": "2022-04-27T16:07:35.220995",
     "exception": false,
     "start_time": "2022-04-27T16:07:35.032962",
     "status": "completed"
    },
    "tags": []
   },
   "source": [
    "One problem with `mnist_loss` as currently defined is that it assumes that predictions are always between 0 and 1. We need to ensure, then, that this is actually the case! As it happens, there is a function that does exactly that—let's take a look.\n",
    "\n",
    "### Sigmoid\n",
    "\n",
    "The `sigmoid` function always outputs a number between 0 and 1. It's defined as follows:"
   ]
  },
  {
   "cell_type": "code",
   "execution_count": 65,
   "id": "79f85494",
   "metadata": {
    "execution": {
     "iopub.execute_input": "2022-04-27T16:07:35.603571Z",
     "iopub.status.busy": "2022-04-27T16:07:35.602628Z",
     "iopub.status.idle": "2022-04-27T16:07:35.606389Z",
     "shell.execute_reply": "2022-04-27T16:07:35.606976Z",
     "shell.execute_reply.started": "2022-04-27T16:05:03.446785Z"
    },
    "papermill": {
     "duration": 0.195809,
     "end_time": "2022-04-27T16:07:35.607140",
     "exception": false,
     "start_time": "2022-04-27T16:07:35.411331",
     "status": "completed"
    },
    "tags": []
   },
   "outputs": [],
   "source": [
    "def sigmoid(x): \n",
    "    return 1/(1+torch.exp(-x))"
   ]
  },
  {
   "cell_type": "markdown",
   "id": "f5f58359",
   "metadata": {
    "papermill": {
     "duration": 0.187776,
     "end_time": "2022-04-27T16:07:35.984499",
     "exception": false,
     "start_time": "2022-04-27T16:07:35.796723",
     "status": "completed"
    },
    "tags": []
   },
   "source": [
    "Pytorch defines an accelerated version for us, so we don’t really need our own. This is an important function in deep learning, since we often want to ensure values are between 0 and 1. This is what it looks like:"
   ]
  },
  {
   "cell_type": "code",
   "execution_count": 66,
   "id": "e78371d2",
   "metadata": {
    "execution": {
     "iopub.execute_input": "2022-04-27T16:07:36.364664Z",
     "iopub.status.busy": "2022-04-27T16:07:36.363655Z",
     "iopub.status.idle": "2022-04-27T16:07:36.523169Z",
     "shell.execute_reply": "2022-04-27T16:07:36.523694Z",
     "shell.execute_reply.started": "2022-04-27T16:05:03.870577Z"
    },
    "papermill": {
     "duration": 0.350781,
     "end_time": "2022-04-27T16:07:36.523875",
     "exception": false,
     "start_time": "2022-04-27T16:07:36.173094",
     "status": "completed"
    },
    "tags": []
   },
   "outputs": [
    {
     "data": {
      "image/png": "[encoded data removed]",
      "text/plain": [
       "<Figure size 432x288 with 1 Axes>"
      ]
     },
     "metadata": {
      "needs_background": "light"
     },
     "output_type": "display_data"
    }
   ],
   "source": [
    "plot_function(torch.sigmoid, title='Sigmoid', min=-4, max=4)"
   ]
  },
  {
   "cell_type": "markdown",
   "id": "83517254",
   "metadata": {
    "papermill": {
     "duration": 0.189643,
     "end_time": "2022-04-27T16:07:36.902535",
     "exception": false,
     "start_time": "2022-04-27T16:07:36.712892",
     "status": "completed"
    },
    "tags": []
   },
   "source": [
    "As you can see, it takes any input value, positive or negative, and smooshes it onto an output value between 0 and 1. It's also a smooth curve that only goes up, which makes it easier for SGD to find meaningful gradients. \n",
    "\n",
    "Let's update `mnist_loss` to first apply `sigmoid` to the inputs:"
   ]
  },
  {
   "cell_type": "code",
   "execution_count": 67,
   "id": "45099b0b",
   "metadata": {
    "execution": {
     "iopub.execute_input": "2022-04-27T16:07:37.288514Z",
     "iopub.status.busy": "2022-04-27T16:07:37.287510Z",
     "iopub.status.idle": "2022-04-27T16:07:37.289823Z",
     "shell.execute_reply": "2022-04-27T16:07:37.290317Z",
     "shell.execute_reply.started": "2022-04-27T16:05:04.268635Z"
    },
    "papermill": {
     "duration": 0.196753,
     "end_time": "2022-04-27T16:07:37.290482",
     "exception": false,
     "start_time": "2022-04-27T16:07:37.093729",
     "status": "completed"
    },
    "tags": []
   },
   "outputs": [],
   "source": [
    "def mnist_loss(predictions, targets):\n",
    "    predictions = predictions.sigmoid()\n",
    "    return torch.where(targets==1, 1-predictions, predictions).mean()"
   ]
  },
  {
   "cell_type": "markdown",
   "id": "05d73649",
   "metadata": {
    "papermill": {
     "duration": 0.188468,
     "end_time": "2022-04-27T16:07:37.667419",
     "exception": false,
     "start_time": "2022-04-27T16:07:37.478951",
     "status": "completed"
    },
    "tags": []
   },
   "source": [
    "Now we can be confident our loss function will work, even if the predictions are not between 0 and 1. All that is required is that a higher prediction corresponds to higher confidence an image is a 3.\n",
    "\n",
    "Having defined a loss function, now is a good moment to recapitulate why we did this. After all, we already had a metric, which was overall accuracy. So why did we define a loss?\n",
    "\n",
    "The key difference is that the metric is to drive human understanding and the loss is to drive automated learning. To drive automated learning, the loss must be a function that has a meaningful derivative. It can't have big flat sections and large jumps, but instead must be reasonably smooth. This is why we designed a loss function that would respond to small changes in confidence level. This requirement means that sometimes it does not really reflect exactly what we are trying to achieve, but is rather a compromise between our real goal, and a function that can be optimized using its gradient. The loss function is calculated for each item in our dataset, and then at the end of an epoch the loss values are all averaged and the overall mean is reported for the epoch.\n",
    "\n",
    "Metrics, on the other hand, are the numbers that we really care about. These are the values that are printed at the end of each epoch that tell us how our model is really doing. It is important that we learn to focus on these metrics, rather than the loss, when judging the performance of a model.\n",
    "\n",
    "### SGD and Mini-Batches\n",
    "\n",
    "Now that we have a loss function that is suitable for driving SGD, we can consider some of the details involved in the next phase of the learning process, which is to change or update the weights based on the gradients. This is called an *optimization step*.\n",
    "\n",
    "In order to take an optimization step we need to calculate the loss over one or more data items. How many should we use? We could calculate it for the whole dataset, and take the average, or we could calculate it for a single data item. But neither of these is ideal. Calculating it for the whole dataset would take a very long time. Calculating it for a single item would not use much information, so it would result in a very imprecise and unstable gradient. That is, you'd be going to the trouble of updating the weights, but taking into account only how that would improve the model's performance on that single item.\n",
    "\n",
    "So instead we take a compromise between the two: we calculate the average loss for a few data items at a time. This is called a *mini-batch*. The number of data items in the mini-batch is called the *batch size*. A larger batch size means that you will get a more accurate and stable estimate of your dataset's gradients from the loss function, but it will take longer, and you will process fewer mini-batches per epoch. Choosing a good batch size is one of the decisions you need to make as a deep learning practitioner to train your model quickly and accurately. We will talk about how to make this choice throughout this book.\n",
    "\n",
    "Another good reason for using mini-batches rather than calculating the gradient on individual data items is that, in practice, we nearly always do our training on an accelerator such as a GPU. These accelerators only perform well if they have lots of work to do at a time, so it's helpful if we can give them lots of data items to work on. Using mini-batches is one of the best ways to do this. However, if you give them too much data to work on at once, they run out of memory—making GPUs happy is also tricky!\n",
    "\n",
    "As we will see in the next lesson in our discussion of data augmentation, we get better generalization if we can vary things during training. One simple and effective thing we can vary is what data items we put in each mini-batch. Rather than simply enumerating our dataset in order for every epoch, instead what we normally do is randomly shuffle it on every epoch, before we create mini-batches. PyTorch and fastai provide a class that will do the shuffling and mini-batch collation for you, called `DataLoader`.\n",
    "\n",
    "A `DataLoader` can take any Python collection and turn it into an iterator over many batches, like so:"
   ]
  },
  {
   "cell_type": "code",
   "execution_count": 68,
   "id": "2e896f0e",
   "metadata": {
    "execution": {
     "iopub.execute_input": "2022-04-27T16:07:38.049259Z",
     "iopub.status.busy": "2022-04-27T16:07:38.048228Z",
     "iopub.status.idle": "2022-04-27T16:07:38.059287Z",
     "shell.execute_reply": "2022-04-27T16:07:38.059750Z",
     "shell.execute_reply.started": "2022-04-27T16:05:04.633865Z"
    },
    "papermill": {
     "duration": 0.202983,
     "end_time": "2022-04-27T16:07:38.059917",
     "exception": false,
     "start_time": "2022-04-27T16:07:37.856934",
     "status": "completed"
    },
    "tags": []
   },
   "outputs": [
    {
     "data": {
      "text/plain": [
       "[tensor([ 5,  8,  3,  2, 13]),\n",
       " tensor([10, 14,  0,  6,  7]),\n",
       " tensor([ 1,  9, 11, 12,  4])]"
      ]
     },
     "execution_count": 68,
     "metadata": {},
     "output_type": "execute_result"
    }
   ],
   "source": [
    "coll = range(15)\n",
    "dl = DataLoader(coll, batch_size=5, shuffle=True)\n",
    "list(dl)"
   ]
  },
  {
   "cell_type": "markdown",
   "id": "65e1b5bd",
   "metadata": {
    "papermill": {
     "duration": 0.190418,
     "end_time": "2022-04-27T16:07:38.443727",
     "exception": false,
     "start_time": "2022-04-27T16:07:38.253309",
     "status": "completed"
    },
    "tags": []
   },
   "source": [
    "For training a model, we don't just want any Python collection, but a collection containing independent and dependent variables (that is, the inputs and targets of the model). A collection that contains tuples of independent and dependent variables is known in PyTorch as a `Dataset`. Here's an example of an extremely simple `Dataset`:"
   ]
  },
  {
   "cell_type": "code",
   "execution_count": 69,
   "id": "2419c530",
   "metadata": {
    "execution": {
     "iopub.execute_input": "2022-04-27T16:07:38.829726Z",
     "iopub.status.busy": "2022-04-27T16:07:38.828983Z",
     "iopub.status.idle": "2022-04-27T16:07:38.831708Z",
     "shell.execute_reply": "2022-04-27T16:07:38.832422Z",
     "shell.execute_reply.started": "2022-04-27T16:05:05.328009Z"
    },
    "papermill": {
     "duration": 0.199834,
     "end_time": "2022-04-27T16:07:38.832600",
     "exception": false,
     "start_time": "2022-04-27T16:07:38.632766",
     "status": "completed"
    },
    "tags": []
   },
   "outputs": [
    {
     "data": {
      "text/plain": [
       "(#26) [(0, 'a'),(1, 'b'),(2, 'c'),(3, 'd'),(4, 'e'),(5, 'f'),(6, 'g'),(7, 'h'),(8, 'i'),(9, 'j')...]"
      ]
     },
     "execution_count": 69,
     "metadata": {},
     "output_type": "execute_result"
    }
   ],
   "source": [
    "ds = L(enumerate(string.ascii_lowercase))\n",
    "ds"
   ]
  },
  {
   "cell_type": "markdown",
   "id": "f6d93332",
   "metadata": {
    "papermill": {
     "duration": 0.189495,
     "end_time": "2022-04-27T16:07:39.215261",
     "exception": false,
     "start_time": "2022-04-27T16:07:39.025766",
     "status": "completed"
    },
    "tags": []
   },
   "source": [
    "When we pass a `Dataset` to a `DataLoader` we will get back many batches which are themselves tuples of tensors representing batches of independent and dependent variables:"
   ]
  },
  {
   "cell_type": "code",
   "execution_count": 70,
   "id": "edad0ced",
   "metadata": {
    "execution": {
     "iopub.execute_input": "2022-04-27T16:07:39.598392Z",
     "iopub.status.busy": "2022-04-27T16:07:39.597766Z",
     "iopub.status.idle": "2022-04-27T16:07:39.605665Z",
     "shell.execute_reply": "2022-04-27T16:07:39.606202Z",
     "shell.execute_reply.started": "2022-04-27T16:05:05.742088Z"
    },
    "papermill": {
     "duration": 0.201466,
     "end_time": "2022-04-27T16:07:39.606363",
     "exception": false,
     "start_time": "2022-04-27T16:07:39.404897",
     "status": "completed"
    },
    "tags": []
   },
   "outputs": [
    {
     "data": {
      "text/plain": [
       "[(tensor([15, 19, 13,  2,  3,  4]), ('p', 't', 'n', 'c', 'd', 'e')),\n",
       " (tensor([18,  0,  1, 14,  9, 10]), ('s', 'a', 'b', 'o', 'j', 'k')),\n",
       " (tensor([25,  6, 21, 23, 24, 12]), ('z', 'g', 'v', 'x', 'y', 'm')),\n",
       " (tensor([16,  7, 11, 22, 17,  8]), ('q', 'h', 'l', 'w', 'r', 'i')),\n",
       " (tensor([ 5, 20]), ('f', 'u'))]"
      ]
     },
     "execution_count": 70,
     "metadata": {},
     "output_type": "execute_result"
    }
   ],
   "source": [
    "dl = DataLoader(ds, batch_size=6, shuffle=True)\n",
    "list(dl)"
   ]
  },
  {
   "cell_type": "markdown",
   "id": "c70cd7ee",
   "metadata": {
    "papermill": {
     "duration": 0.191869,
     "end_time": "2022-04-27T16:07:39.989710",
     "exception": false,
     "start_time": "2022-04-27T16:07:39.797841",
     "status": "completed"
    },
    "tags": []
   },
   "source": [
    "We are now ready to write our first training loop for a model using SGD!\n",
    "\n",
    "## Putting It All Together\n",
    "\n",
    "It's time to implement the process we saw in SGD. In code, our process will be implemented something like this for each epoch:\n",
    "\n",
    "```python\n",
    "for x,y in dl:\n",
    "    pred = model(x)\n",
    "    loss = loss_func(pred, y)\n",
    "    loss.backward()\n",
    "    parameters -= parameters.grad * lr\n",
    "```\n",
    "First, let's re-initialize our parameters:"
   ]
  },
  {
   "cell_type": "code",
   "execution_count": 71,
   "id": "fa6a6602",
   "metadata": {
    "execution": {
     "iopub.execute_input": "2022-04-27T16:07:40.378017Z",
     "iopub.status.busy": "2022-04-27T16:07:40.377313Z",
     "iopub.status.idle": "2022-04-27T16:07:40.379206Z",
     "shell.execute_reply": "2022-04-27T16:07:40.379794Z",
     "shell.execute_reply.started": "2022-04-27T16:05:06.170127Z"
    },
    "papermill": {
     "duration": 0.197097,
     "end_time": "2022-04-27T16:07:40.379955",
     "exception": false,
     "start_time": "2022-04-27T16:07:40.182858",
     "status": "completed"
    },
    "tags": []
   },
   "outputs": [],
   "source": [
    "weights = init_params((28*28,1))\n",
    "bias = init_params(1)"
   ]
  },
  {
   "cell_type": "markdown",
   "id": "e84c0cf7",
   "metadata": {
    "papermill": {
     "duration": 0.190041,
     "end_time": "2022-04-27T16:07:40.760506",
     "exception": false,
     "start_time": "2022-04-27T16:07:40.570465",
     "status": "completed"
    },
    "tags": []
   },
   "source": [
    "A `DataLoader` can be created from a `Dataset`:"
   ]
  },
  {
   "cell_type": "code",
   "execution_count": 72,
   "id": "b7753794",
   "metadata": {
    "execution": {
     "iopub.execute_input": "2022-04-27T16:07:41.173791Z",
     "iopub.status.busy": "2022-04-27T16:07:41.172943Z",
     "iopub.status.idle": "2022-04-27T16:07:41.180524Z",
     "shell.execute_reply": "2022-04-27T16:07:41.181063Z",
     "shell.execute_reply.started": "2022-04-27T16:05:06.635323Z"
    },
    "papermill": {
     "duration": 0.227691,
     "end_time": "2022-04-27T16:07:41.181255",
     "exception": false,
     "start_time": "2022-04-27T16:07:40.953564",
     "status": "completed"
    },
    "tags": []
   },
   "outputs": [
    {
     "data": {
      "text/plain": [
       "(torch.Size([256, 784]), torch.Size([256, 1]))"
      ]
     },
     "execution_count": 72,
     "metadata": {},
     "output_type": "execute_result"
    }
   ],
   "source": [
    "dl = DataLoader(dset, batch_size=256)\n",
    "xb,yb = first(dl)\n",
    "xb.shape,yb.shape"
   ]
  },
  {
   "cell_type": "markdown",
   "id": "ab07ceed",
   "metadata": {
    "papermill": {
     "duration": 0.190459,
     "end_time": "2022-04-27T16:07:41.563659",
     "exception": false,
     "start_time": "2022-04-27T16:07:41.373200",
     "status": "completed"
    },
    "tags": []
   },
   "source": [
    "We'll do the same for the validation set:"
   ]
  },
  {
   "cell_type": "code",
   "execution_count": 73,
   "id": "37417b87",
   "metadata": {
    "execution": {
     "iopub.execute_input": "2022-04-27T16:07:41.951518Z",
     "iopub.status.busy": "2022-04-27T16:07:41.950449Z",
     "iopub.status.idle": "2022-04-27T16:07:41.953100Z",
     "shell.execute_reply": "2022-04-27T16:07:41.952435Z",
     "shell.execute_reply.started": "2022-04-27T16:05:07.261224Z"
    },
    "papermill": {
     "duration": 0.199323,
     "end_time": "2022-04-27T16:07:41.953269",
     "exception": false,
     "start_time": "2022-04-27T16:07:41.753946",
     "status": "completed"
    },
    "tags": []
   },
   "outputs": [],
   "source": [
    "valid_dl = DataLoader(valid_dset, batch_size=256)"
   ]
  },
  {
   "cell_type": "markdown",
   "id": "fa5686fa",
   "metadata": {
    "papermill": {
     "duration": 0.191412,
     "end_time": "2022-04-27T16:07:42.337381",
     "exception": false,
     "start_time": "2022-04-27T16:07:42.145969",
     "status": "completed"
    },
    "tags": []
   },
   "source": [
    "Let's create a mini-batch of size 4 for testing:"
   ]
  },
  {
   "cell_type": "code",
   "execution_count": 74,
   "id": "ee872c56",
   "metadata": {
    "execution": {
     "iopub.execute_input": "2022-04-27T16:07:42.726622Z",
     "iopub.status.busy": "2022-04-27T16:07:42.725749Z",
     "iopub.status.idle": "2022-04-27T16:07:42.728657Z",
     "shell.execute_reply": "2022-04-27T16:07:42.729191Z",
     "shell.execute_reply.started": "2022-04-27T16:05:07.643140Z"
    },
    "papermill": {
     "duration": 0.200214,
     "end_time": "2022-04-27T16:07:42.729360",
     "exception": false,
     "start_time": "2022-04-27T16:07:42.529146",
     "status": "completed"
    },
    "tags": []
   },
   "outputs": [
    {
     "data": {
      "text/plain": [
       "torch.Size([4, 784])"
      ]
     },
     "execution_count": 74,
     "metadata": {},
     "output_type": "execute_result"
    }
   ],
   "source": [
    "batch = train_x[:4]\n",
    "batch.shape"
   ]
  },
  {
   "cell_type": "code",
   "execution_count": 75,
   "id": "d6ed937b",
   "metadata": {
    "execution": {
     "iopub.execute_input": "2022-04-27T16:07:43.117524Z",
     "iopub.status.busy": "2022-04-27T16:07:43.116870Z",
     "iopub.status.idle": "2022-04-27T16:07:43.120083Z",
     "shell.execute_reply": "2022-04-27T16:07:43.120713Z",
     "shell.execute_reply.started": "2022-04-27T16:05:07.893131Z"
    },
    "papermill": {
     "duration": 0.199197,
     "end_time": "2022-04-27T16:07:43.120876",
     "exception": false,
     "start_time": "2022-04-27T16:07:42.921679",
     "status": "completed"
    },
    "tags": []
   },
   "outputs": [
    {
     "data": {
      "text/plain": [
       "tensor([[ 1.1149],\n",
       "        [ 2.9111],\n",
       "        [ 4.5749],\n",
       "        [-0.0058]], grad_fn=<AddBackward0>)"
      ]
     },
     "execution_count": 75,
     "metadata": {},
     "output_type": "execute_result"
    }
   ],
   "source": [
    "preds = linear1(batch)\n",
    "preds"
   ]
  },
  {
   "cell_type": "code",
   "execution_count": 76,
   "id": "afe1793f",
   "metadata": {
    "execution": {
     "iopub.execute_input": "2022-04-27T16:07:43.503791Z",
     "iopub.status.busy": "2022-04-27T16:07:43.503183Z",
     "iopub.status.idle": "2022-04-27T16:07:43.508450Z",
     "shell.execute_reply": "2022-04-27T16:07:43.509029Z",
     "shell.execute_reply.started": "2022-04-27T16:05:08.062030Z"
    },
    "papermill": {
     "duration": 0.198402,
     "end_time": "2022-04-27T16:07:43.509190",
     "exception": false,
     "start_time": "2022-04-27T16:07:43.310788",
     "status": "completed"
    },
    "tags": []
   },
   "outputs": [
    {
     "data": {
      "text/plain": [
       "tensor(0.2026, grad_fn=<MeanBackward0>)"
      ]
     },
     "execution_count": 76,
     "metadata": {},
     "output_type": "execute_result"
    }
   ],
   "source": [
    "loss = mnist_loss(preds, train_y[:4])\n",
    "loss"
   ]
  },
  {
   "cell_type": "markdown",
   "id": "cbd728e7",
   "metadata": {
    "papermill": {
     "duration": 0.196318,
     "end_time": "2022-04-27T16:07:43.897158",
     "exception": false,
     "start_time": "2022-04-27T16:07:43.700840",
     "status": "completed"
    },
    "tags": []
   },
   "source": [
    "Now we can calculate the gradients:"
   ]
  },
  {
   "cell_type": "code",
   "execution_count": 77,
   "id": "efe666ab",
   "metadata": {
    "execution": {
     "iopub.execute_input": "2022-04-27T16:07:44.285111Z",
     "iopub.status.busy": "2022-04-27T16:07:44.284479Z",
     "iopub.status.idle": "2022-04-27T16:07:44.294450Z",
     "shell.execute_reply": "2022-04-27T16:07:44.294991Z",
     "shell.execute_reply.started": "2022-04-27T16:05:08.467767Z"
    },
    "papermill": {
     "duration": 0.20483,
     "end_time": "2022-04-27T16:07:44.295161",
     "exception": false,
     "start_time": "2022-04-27T16:07:44.090331",
     "status": "completed"
    },
    "tags": []
   },
   "outputs": [
    {
     "data": {
      "text/plain": [
       "(torch.Size([784, 1]), tensor(-0.0197), tensor([-0.1238]))"
      ]
     },
     "execution_count": 77,
     "metadata": {},
     "output_type": "execute_result"
    }
   ],
   "source": [
    "loss.backward()\n",
    "weights.grad.shape, weights.grad.mean(), bias.grad"
   ]
  },
  {
   "cell_type": "markdown",
   "id": "bf0cd0e7",
   "metadata": {
    "papermill": {
     "duration": 0.19559,
     "end_time": "2022-04-27T16:07:44.683753",
     "exception": false,
     "start_time": "2022-04-27T16:07:44.488163",
     "status": "completed"
    },
    "tags": []
   },
   "source": [
    "The gradients are 784 by 1, so a column where every row is the gradient of the weight and the bias gradient is just a single number.\n",
    "\n",
    "Let's put that all in a function:"
   ]
  },
  {
   "cell_type": "code",
   "execution_count": 78,
   "id": "05e28f18",
   "metadata": {
    "execution": {
     "iopub.execute_input": "2022-04-27T16:07:45.076364Z",
     "iopub.status.busy": "2022-04-27T16:07:45.075716Z",
     "iopub.status.idle": "2022-04-27T16:07:45.077564Z",
     "shell.execute_reply": "2022-04-27T16:07:45.076994Z",
     "shell.execute_reply.started": "2022-04-27T16:05:08.877187Z"
    },
    "papermill": {
     "duration": 0.199226,
     "end_time": "2022-04-27T16:07:45.077717",
     "exception": false,
     "start_time": "2022-04-27T16:07:44.878491",
     "status": "completed"
    },
    "tags": []
   },
   "outputs": [],
   "source": [
    "def calc_grad(xb, yb, model):\n",
    "    preds = model(xb)\n",
    "    loss = mnist_loss(preds, yb)\n",
    "    loss.backward()"
   ]
  },
  {
   "cell_type": "markdown",
   "id": "978577ee",
   "metadata": {
    "papermill": {
     "duration": 0.192657,
     "end_time": "2022-04-27T16:07:45.463867",
     "exception": false,
     "start_time": "2022-04-27T16:07:45.271210",
     "status": "completed"
    },
    "tags": []
   },
   "source": [
    "and test it:"
   ]
  },
  {
   "cell_type": "code",
   "execution_count": 79,
   "id": "bfb545eb",
   "metadata": {
    "execution": {
     "iopub.execute_input": "2022-04-27T16:07:45.853223Z",
     "iopub.status.busy": "2022-04-27T16:07:45.852591Z",
     "iopub.status.idle": "2022-04-27T16:07:45.860977Z",
     "shell.execute_reply": "2022-04-27T16:07:45.861442Z",
     "shell.execute_reply.started": "2022-04-27T16:05:09.299827Z"
    },
    "papermill": {
     "duration": 0.204476,
     "end_time": "2022-04-27T16:07:45.861699",
     "exception": false,
     "start_time": "2022-04-27T16:07:45.657223",
     "status": "completed"
    },
    "tags": []
   },
   "outputs": [
    {
     "data": {
      "text/plain": [
       "(tensor(-0.0395), tensor([-0.2475]))"
      ]
     },
     "execution_count": 79,
     "metadata": {},
     "output_type": "execute_result"
    }
   ],
   "source": [
    "calc_grad(batch, train_y[:4], linear1)\n",
    "weights.grad.mean(), bias.grad"
   ]
  },
  {
   "cell_type": "markdown",
   "id": "21a7f0a6",
   "metadata": {
    "papermill": {
     "duration": 0.193186,
     "end_time": "2022-04-27T16:07:46.251345",
     "exception": false,
     "start_time": "2022-04-27T16:07:46.058159",
     "status": "completed"
    },
    "tags": []
   },
   "source": [
    "But look what happens if we call it twice:"
   ]
  },
  {
   "cell_type": "code",
   "execution_count": 80,
   "id": "e49f03f5",
   "metadata": {
    "execution": {
     "iopub.execute_input": "2022-04-27T16:07:46.641113Z",
     "iopub.status.busy": "2022-04-27T16:07:46.640389Z",
     "iopub.status.idle": "2022-04-27T16:07:46.645536Z",
     "shell.execute_reply": "2022-04-27T16:07:46.646056Z",
     "shell.execute_reply.started": "2022-04-27T16:05:09.958984Z"
    },
    "papermill": {
     "duration": 0.202124,
     "end_time": "2022-04-27T16:07:46.646230",
     "exception": false,
     "start_time": "2022-04-27T16:07:46.444106",
     "status": "completed"
    },
    "tags": []
   },
   "outputs": [
    {
     "data": {
      "text/plain": [
       "(tensor(-0.0592), tensor([-0.3713]))"
      ]
     },
     "execution_count": 80,
     "metadata": {},
     "output_type": "execute_result"
    }
   ],
   "source": [
    "calc_grad(batch, train_y[:4], linear1)\n",
    "weights.grad.mean(), bias.grad"
   ]
  },
  {
   "cell_type": "markdown",
   "id": "fb741e08",
   "metadata": {
    "papermill": {
     "duration": 0.194954,
     "end_time": "2022-04-27T16:07:47.037435",
     "exception": false,
     "start_time": "2022-04-27T16:07:46.842481",
     "status": "completed"
    },
    "tags": []
   },
   "source": [
    "The gradients have changed! The reason for this is that `loss.backward` actually *adds* the gradients of `loss` to any gradients that are currently stored. So, we have to set the current gradients to 0 first:"
   ]
  },
  {
   "cell_type": "code",
   "execution_count": 81,
   "id": "8db022e4",
   "metadata": {
    "execution": {
     "iopub.execute_input": "2022-04-27T16:07:47.429837Z",
     "iopub.status.busy": "2022-04-27T16:07:47.429134Z",
     "iopub.status.idle": "2022-04-27T16:07:47.431900Z",
     "shell.execute_reply": "2022-04-27T16:07:47.431399Z",
     "shell.execute_reply.started": "2022-04-27T16:05:10.445620Z"
    },
    "papermill": {
     "duration": 0.200348,
     "end_time": "2022-04-27T16:07:47.432034",
     "exception": false,
     "start_time": "2022-04-27T16:07:47.231686",
     "status": "completed"
    },
    "tags": []
   },
   "outputs": [],
   "source": [
    "weights.grad.zero_()\n",
    "bias.grad.zero_();"
   ]
  },
  {
   "cell_type": "markdown",
   "id": "8bd6cd34",
   "metadata": {
    "papermill": {
     "duration": 0.193406,
     "end_time": "2022-04-27T16:07:47.820557",
     "exception": false,
     "start_time": "2022-04-27T16:07:47.627151",
     "status": "completed"
    },
    "tags": []
   },
   "source": [
    "> note: Inplace Operations: Methods in PyTorch whose names end in an underscore modify their objects _in place_. For instance, `bias.zero_()` sets all elements of the tensor `bias` to 0.\n",
    "\n",
    "Our only remaining step is to update the weights and biases based on the gradient and learning rate. When we do so, we have to tell PyTorch not to take the gradient of this step too—otherwise things will get very confusing when we try to compute the derivative at the next batch! If we assign to the `data` attribute of a tensor then PyTorch will not take the gradient of that step. Here's our basic training loop for an epoch:"
   ]
  },
  {
   "cell_type": "code",
   "execution_count": 82,
   "id": "32dae404",
   "metadata": {
    "execution": {
     "iopub.execute_input": "2022-04-27T16:07:48.210283Z",
     "iopub.status.busy": "2022-04-27T16:07:48.209599Z",
     "iopub.status.idle": "2022-04-27T16:07:48.215133Z",
     "shell.execute_reply": "2022-04-27T16:07:48.214599Z",
     "shell.execute_reply.started": "2022-04-27T16:05:10.846977Z"
    },
    "papermill": {
     "duration": 0.201363,
     "end_time": "2022-04-27T16:07:48.215273",
     "exception": false,
     "start_time": "2022-04-27T16:07:48.013910",
     "status": "completed"
    },
    "tags": []
   },
   "outputs": [],
   "source": [
    "def train_epoch(model, lr, params):\n",
    "    for xb,yb in dl:\n",
    "        calc_grad(xb, yb, model)\n",
    "        for p in params:\n",
    "            p.data -= p.grad*lr\n",
    "            p.grad.zero_()"
   ]
  },
  {
   "cell_type": "markdown",
   "id": "6a47d047",
   "metadata": {
    "papermill": {
     "duration": 0.19283,
     "end_time": "2022-04-27T16:07:48.604002",
     "exception": false,
     "start_time": "2022-04-27T16:07:48.411172",
     "status": "completed"
    },
    "tags": []
   },
   "source": [
    "We also want to check how we're doing, by looking at the accuracy of the validation set. To decide if an output represents a 3 or a 7, we can just check whether it's greater than 0. So our accuracy for each item can be calculated with:"
   ]
  },
  {
   "cell_type": "code",
   "execution_count": 83,
   "id": "d0b3f654",
   "metadata": {
    "execution": {
     "iopub.execute_input": "2022-04-27T16:07:48.996660Z",
     "iopub.status.busy": "2022-04-27T16:07:48.995237Z",
     "iopub.status.idle": "2022-04-27T16:07:49.001511Z",
     "shell.execute_reply": "2022-04-27T16:07:49.002100Z",
     "shell.execute_reply.started": "2022-04-27T16:05:11.238703Z"
    },
    "papermill": {
     "duration": 0.205046,
     "end_time": "2022-04-27T16:07:49.002268",
     "exception": false,
     "start_time": "2022-04-27T16:07:48.797222",
     "status": "completed"
    },
    "tags": []
   },
   "outputs": [
    {
     "data": {
      "text/plain": [
       "tensor([[ True],\n",
       "        [ True],\n",
       "        [ True],\n",
       "        [False]])"
      ]
     },
     "execution_count": 83,
     "metadata": {},
     "output_type": "execute_result"
    }
   ],
   "source": [
    "(preds>0.0).float() == train_y[:4]"
   ]
  },
  {
   "cell_type": "markdown",
   "id": "1f919b4b",
   "metadata": {
    "papermill": {
     "duration": 0.19348,
     "end_time": "2022-04-27T16:07:49.390415",
     "exception": false,
     "start_time": "2022-04-27T16:07:49.196935",
     "status": "completed"
    },
    "tags": []
   },
   "source": [
    "That gives us this function to calculate our validation accuracy:"
   ]
  },
  {
   "cell_type": "code",
   "execution_count": 84,
   "id": "aa320802",
   "metadata": {
    "execution": {
     "iopub.execute_input": "2022-04-27T16:07:49.781093Z",
     "iopub.status.busy": "2022-04-27T16:07:49.780152Z",
     "iopub.status.idle": "2022-04-27T16:07:49.784479Z",
     "shell.execute_reply": "2022-04-27T16:07:49.785081Z",
     "shell.execute_reply.started": "2022-04-27T16:05:11.637999Z"
    },
    "papermill": {
     "duration": 0.20089,
     "end_time": "2022-04-27T16:07:49.785242",
     "exception": false,
     "start_time": "2022-04-27T16:07:49.584352",
     "status": "completed"
    },
    "tags": []
   },
   "outputs": [],
   "source": [
    "def batch_accuracy(xb, yb):\n",
    "    preds = xb.sigmoid()\n",
    "    correct = (preds>0.5) == yb\n",
    "    return correct.float().mean()"
   ]
  },
  {
   "cell_type": "markdown",
   "id": "df290fde",
   "metadata": {
    "papermill": {
     "duration": 0.19374,
     "end_time": "2022-04-27T16:07:50.172715",
     "exception": false,
     "start_time": "2022-04-27T16:07:49.978975",
     "status": "completed"
    },
    "tags": []
   },
   "source": [
    "We can check it works:"
   ]
  },
  {
   "cell_type": "code",
   "execution_count": 85,
   "id": "84c0e9df",
   "metadata": {
    "execution": {
     "iopub.execute_input": "2022-04-27T16:07:50.562202Z",
     "iopub.status.busy": "2022-04-27T16:07:50.561247Z",
     "iopub.status.idle": "2022-04-27T16:07:50.569399Z",
     "shell.execute_reply": "2022-04-27T16:07:50.568750Z",
     "shell.execute_reply.started": "2022-04-27T16:05:12.035107Z"
    },
    "papermill": {
     "duration": 0.204249,
     "end_time": "2022-04-27T16:07:50.569531",
     "exception": false,
     "start_time": "2022-04-27T16:07:50.365282",
     "status": "completed"
    },
    "tags": []
   },
   "outputs": [
    {
     "data": {
      "text/plain": [
       "tensor(0.7500)"
      ]
     },
     "execution_count": 85,
     "metadata": {},
     "output_type": "execute_result"
    }
   ],
   "source": [
    "batch_accuracy(linear1(batch), train_y[:4])"
   ]
  },
  {
   "cell_type": "markdown",
   "id": "f05197d1",
   "metadata": {
    "papermill": {
     "duration": 0.193495,
     "end_time": "2022-04-27T16:07:50.957332",
     "exception": false,
     "start_time": "2022-04-27T16:07:50.763837",
     "status": "completed"
    },
    "tags": []
   },
   "source": [
    "and then put the batches together (i.e. compute the accuracy on all our batches in the validation set):"
   ]
  },
  {
   "cell_type": "code",
   "execution_count": 86,
   "id": "7c34f356",
   "metadata": {
    "execution": {
     "iopub.execute_input": "2022-04-27T16:07:51.350688Z",
     "iopub.status.busy": "2022-04-27T16:07:51.349727Z",
     "iopub.status.idle": "2022-04-27T16:07:51.354463Z",
     "shell.execute_reply": "2022-04-27T16:07:51.355101Z",
     "shell.execute_reply.started": "2022-04-27T16:05:12.431852Z"
    },
    "papermill": {
     "duration": 0.20181,
     "end_time": "2022-04-27T16:07:51.355277",
     "exception": false,
     "start_time": "2022-04-27T16:07:51.153467",
     "status": "completed"
    },
    "tags": []
   },
   "outputs": [],
   "source": [
    "def validate_epoch(model):\n",
    "    accs = [batch_accuracy(model(xb), yb) for xb,yb in valid_dl]\n",
    "    return round(torch.stack(accs).mean().item(), 4)"
   ]
  },
  {
   "cell_type": "code",
   "execution_count": 87,
   "id": "7d683d9d",
   "metadata": {
    "execution": {
     "iopub.execute_input": "2022-04-27T16:07:51.755140Z",
     "iopub.status.busy": "2022-04-27T16:07:51.754422Z",
     "iopub.status.idle": "2022-04-27T16:07:51.771838Z",
     "shell.execute_reply": "2022-04-27T16:07:51.772376Z",
     "shell.execute_reply.started": "2022-04-27T16:05:12.628108Z"
    },
    "papermill": {
     "duration": 0.217016,
     "end_time": "2022-04-27T16:07:51.772542",
     "exception": false,
     "start_time": "2022-04-27T16:07:51.555526",
     "status": "completed"
    },
    "tags": []
   },
   "outputs": [
    {
     "data": {
      "text/plain": [
       "0.6734"
      ]
     },
     "execution_count": 87,
     "metadata": {},
     "output_type": "execute_result"
    }
   ],
   "source": [
    "validate_epoch(linear1)"
   ]
  },
  {
   "cell_type": "markdown",
   "id": "54231f0f",
   "metadata": {
    "papermill": {
     "duration": 0.214425,
     "end_time": "2022-04-27T16:07:52.185046",
     "exception": false,
     "start_time": "2022-04-27T16:07:51.970621",
     "status": "completed"
    },
    "tags": []
   },
   "source": [
    "That's our starting point. Let's train for one epoch, and see if the accuracy improves:"
   ]
  },
  {
   "cell_type": "code",
   "execution_count": 88,
   "id": "0f3e4cf4",
   "metadata": {
    "execution": {
     "iopub.execute_input": "2022-04-27T16:07:52.578465Z",
     "iopub.status.busy": "2022-04-27T16:07:52.577438Z",
     "iopub.status.idle": "2022-04-27T16:07:52.665033Z",
     "shell.execute_reply": "2022-04-27T16:07:52.665578Z",
     "shell.execute_reply.started": "2022-04-27T16:05:13.021074Z"
    },
    "papermill": {
     "duration": 0.28753,
     "end_time": "2022-04-27T16:07:52.665764",
     "exception": false,
     "start_time": "2022-04-27T16:07:52.378234",
     "status": "completed"
    },
    "tags": []
   },
   "outputs": [
    {
     "data": {
      "text/plain": [
       "0.7103"
      ]
     },
     "execution_count": 88,
     "metadata": {},
     "output_type": "execute_result"
    }
   ],
   "source": [
    "lr = 1.\n",
    "params = weights,bias\n",
    "train_epoch(linear1, lr, params)\n",
    "validate_epoch(linear1)"
   ]
  },
  {
   "cell_type": "markdown",
   "id": "b285708c",
   "metadata": {
    "papermill": {
     "duration": 0.191993,
     "end_time": "2022-04-27T16:07:53.051214",
     "exception": false,
     "start_time": "2022-04-27T16:07:52.859221",
     "status": "completed"
    },
    "tags": []
   },
   "source": [
    "Then do a few more:"
   ]
  },
  {
   "cell_type": "code",
   "execution_count": 89,
   "id": "6de4fbe2",
   "metadata": {
    "execution": {
     "iopub.execute_input": "2022-04-27T16:07:53.452417Z",
     "iopub.status.busy": "2022-04-27T16:07:53.451420Z",
     "iopub.status.idle": "2022-04-27T16:07:55.160455Z",
     "shell.execute_reply": "2022-04-27T16:07:55.159951Z",
     "shell.execute_reply.started": "2022-04-27T16:05:13.414465Z"
    },
    "papermill": {
     "duration": 1.908787,
     "end_time": "2022-04-27T16:07:55.160605",
     "exception": false,
     "start_time": "2022-04-27T16:07:53.251818",
     "status": "completed"
    },
    "tags": []
   },
   "outputs": [
    {
     "name": "stdout",
     "output_type": "stream",
     "text": [
      "0.8588 0.9086 0.928 0.9378 0.9461 0.9505 0.9535 0.9564 0.9608 0.9622 0.9632 0.9632 0.9637 0.9637 0.9642 0.9647 0.9666 0.9661 0.9666 0.9671 "
     ]
    }
   ],
   "source": [
    "for i in range(20):\n",
    "    train_epoch(linear1, lr, params)\n",
    "    print(validate_epoch(linear1), end=' ')"
   ]
  },
  {
   "cell_type": "markdown",
   "id": "41c086cd",
   "metadata": {
    "papermill": {
     "duration": 0.197109,
     "end_time": "2022-04-27T16:07:55.556077",
     "exception": false,
     "start_time": "2022-04-27T16:07:55.358968",
     "status": "completed"
    },
    "tags": []
   },
   "source": [
    "Looking good! We're already at a good accuracy, and we've created a general-purpose foundation we can build on. Our next step will be to create an object that will handle the SGD step for us. In PyTorch, it's called an *optimizer*.\n",
    "\n",
    "### Creating an Optimizer\n",
    "\n",
    "Because this is such a general foundation, PyTorch provides some useful classes to make it easier to implement. The first thing we can do is replace our `linear1` function with PyTorch's `nn.Linear` module. A *module* is an object of a class that inherits from the PyTorch `nn.Module` class. Objects of this class behave identically to standard Python functions, in that you can call them using parentheses and they will return the activations of a model.\n",
    "\n",
    "`nn.Linear` does the same thing as our `init_params` and `linear` together. It contains both the *weights* and *biases* in a single class. Here's how we replicate our model from the previous section:"
   ]
  },
  {
   "cell_type": "code",
   "execution_count": 90,
   "id": "4afa6ea1",
   "metadata": {
    "execution": {
     "iopub.execute_input": "2022-04-27T16:07:55.962108Z",
     "iopub.status.busy": "2022-04-27T16:07:55.961152Z",
     "iopub.status.idle": "2022-04-27T16:07:55.965275Z",
     "shell.execute_reply": "2022-04-27T16:07:55.965870Z",
     "shell.execute_reply.started": "2022-04-27T16:05:15.186026Z"
    },
    "papermill": {
     "duration": 0.209248,
     "end_time": "2022-04-27T16:07:55.966035",
     "exception": false,
     "start_time": "2022-04-27T16:07:55.756787",
     "status": "completed"
    },
    "tags": []
   },
   "outputs": [],
   "source": [
    "linear_model = nn.Linear(28*28,1)"
   ]
  },
  {
   "cell_type": "markdown",
   "id": "23d09c38",
   "metadata": {
    "papermill": {
     "duration": 0.19565,
     "end_time": "2022-04-27T16:07:56.360796",
     "exception": false,
     "start_time": "2022-04-27T16:07:56.165146",
     "status": "completed"
    },
    "tags": []
   },
   "source": [
    "Every PyTorch module knows what parameters it has that can be trained; they are available through the `parameters` method:"
   ]
  },
  {
   "cell_type": "code",
   "execution_count": 91,
   "id": "5b81a694",
   "metadata": {
    "execution": {
     "iopub.execute_input": "2022-04-27T16:07:56.756973Z",
     "iopub.status.busy": "2022-04-27T16:07:56.756025Z",
     "iopub.status.idle": "2022-04-27T16:07:56.761502Z",
     "shell.execute_reply": "2022-04-27T16:07:56.762077Z",
     "shell.execute_reply.started": "2022-04-27T16:05:15.192386Z"
    },
    "papermill": {
     "duration": 0.205283,
     "end_time": "2022-04-27T16:07:56.762237",
     "exception": false,
     "start_time": "2022-04-27T16:07:56.556954",
     "status": "completed"
    },
    "tags": []
   },
   "outputs": [
    {
     "data": {
      "text/plain": [
       "(torch.Size([1, 784]), torch.Size([1]))"
      ]
     },
     "execution_count": 91,
     "metadata": {},
     "output_type": "execute_result"
    }
   ],
   "source": [
    "w,b = linear_model.parameters()\n",
    "w.shape,b.shape"
   ]
  },
  {
   "cell_type": "markdown",
   "id": "75a49a62",
   "metadata": {
    "papermill": {
     "duration": 0.197106,
     "end_time": "2022-04-27T16:07:57.159331",
     "exception": false,
     "start_time": "2022-04-27T16:07:56.962225",
     "status": "completed"
    },
    "tags": []
   },
   "source": [
    "We can use this information to create an optimizer:"
   ]
  },
  {
   "cell_type": "code",
   "execution_count": 92,
   "id": "af92ed75",
   "metadata": {
    "execution": {
     "iopub.execute_input": "2022-04-27T16:07:57.557133Z",
     "iopub.status.busy": "2022-04-27T16:07:57.556176Z",
     "iopub.status.idle": "2022-04-27T16:07:57.562796Z",
     "shell.execute_reply": "2022-04-27T16:07:57.562180Z",
     "shell.execute_reply.started": "2022-04-27T16:05:15.707559Z"
    },
    "papermill": {
     "duration": 0.20653,
     "end_time": "2022-04-27T16:07:57.562922",
     "exception": false,
     "start_time": "2022-04-27T16:07:57.356392",
     "status": "completed"
    },
    "tags": []
   },
   "outputs": [],
   "source": [
    "class BasicOptim:\n",
    "    def __init__(self,params,lr): \n",
    "        self.params,self.lr = list(params),lr\n",
    "\n",
    "    def step(self, *args, **kwargs):\n",
    "        for p in self.params: \n",
    "            p.data -= p.grad.data * self.lr\n",
    "\n",
    "    def zero_grad(self, *args, **kwargs):\n",
    "        for p in self.params: \n",
    "            p.grad = None"
   ]
  },
  {
   "cell_type": "markdown",
   "id": "0f089d32",
   "metadata": {
    "papermill": {
     "duration": 0.195433,
     "end_time": "2022-04-27T16:07:57.955138",
     "exception": false,
     "start_time": "2022-04-27T16:07:57.759705",
     "status": "completed"
    },
    "tags": []
   },
   "source": [
    "We can create our optimizer by passing in the model's parameters:"
   ]
  },
  {
   "cell_type": "code",
   "execution_count": 93,
   "id": "c58ca978",
   "metadata": {
    "execution": {
     "iopub.execute_input": "2022-04-27T16:07:58.351418Z",
     "iopub.status.busy": "2022-04-27T16:07:58.350448Z",
     "iopub.status.idle": "2022-04-27T16:07:58.354266Z",
     "shell.execute_reply": "2022-04-27T16:07:58.354852Z",
     "shell.execute_reply.started": "2022-04-27T16:05:16.299809Z"
    },
    "papermill": {
     "duration": 0.202711,
     "end_time": "2022-04-27T16:07:58.355010",
     "exception": false,
     "start_time": "2022-04-27T16:07:58.152299",
     "status": "completed"
    },
    "tags": []
   },
   "outputs": [],
   "source": [
    "opt = BasicOptim(linear_model.parameters(), lr)"
   ]
  },
  {
   "cell_type": "markdown",
   "id": "813d4a86",
   "metadata": {
    "papermill": {
     "duration": 0.195351,
     "end_time": "2022-04-27T16:07:58.748302",
     "exception": false,
     "start_time": "2022-04-27T16:07:58.552951",
     "status": "completed"
    },
    "tags": []
   },
   "source": [
    "Our training loop can now be simplified to:"
   ]
  },
  {
   "cell_type": "code",
   "execution_count": 94,
   "id": "ab978c79",
   "metadata": {
    "execution": {
     "iopub.execute_input": "2022-04-27T16:07:59.150052Z",
     "iopub.status.busy": "2022-04-27T16:07:59.149098Z",
     "iopub.status.idle": "2022-04-27T16:07:59.153212Z",
     "shell.execute_reply": "2022-04-27T16:07:59.153797Z",
     "shell.execute_reply.started": "2022-04-27T16:05:16.755323Z"
    },
    "papermill": {
     "duration": 0.205934,
     "end_time": "2022-04-27T16:07:59.153965",
     "exception": false,
     "start_time": "2022-04-27T16:07:58.948031",
     "status": "completed"
    },
    "tags": []
   },
   "outputs": [],
   "source": [
    "def train_epoch(model):\n",
    "    for xb,yb in dl:\n",
    "        calc_grad(xb, yb, model)\n",
    "        opt.step()\n",
    "        opt.zero_grad()"
   ]
  },
  {
   "cell_type": "markdown",
   "id": "dd40a2dd",
   "metadata": {
    "papermill": {
     "duration": 0.196187,
     "end_time": "2022-04-27T16:07:59.546389",
     "exception": false,
     "start_time": "2022-04-27T16:07:59.350202",
     "status": "completed"
    },
    "tags": []
   },
   "source": [
    "Our validation function doesn't need to change at all:"
   ]
  },
  {
   "cell_type": "code",
   "execution_count": 95,
   "id": "7cc94b27",
   "metadata": {
    "execution": {
     "iopub.execute_input": "2022-04-27T16:07:59.942727Z",
     "iopub.status.busy": "2022-04-27T16:07:59.941802Z",
     "iopub.status.idle": "2022-04-27T16:07:59.962961Z",
     "shell.execute_reply": "2022-04-27T16:07:59.963451Z",
     "shell.execute_reply.started": "2022-04-27T16:05:17.162633Z"
    },
    "papermill": {
     "duration": 0.22062,
     "end_time": "2022-04-27T16:07:59.963619",
     "exception": false,
     "start_time": "2022-04-27T16:07:59.742999",
     "status": "completed"
    },
    "tags": []
   },
   "outputs": [
    {
     "data": {
      "text/plain": [
       "0.6284"
      ]
     },
     "execution_count": 95,
     "metadata": {},
     "output_type": "execute_result"
    }
   ],
   "source": [
    "validate_epoch(linear_model)"
   ]
  },
  {
   "cell_type": "markdown",
   "id": "fdff4611",
   "metadata": {
    "papermill": {
     "duration": 0.197112,
     "end_time": "2022-04-27T16:08:00.361032",
     "exception": false,
     "start_time": "2022-04-27T16:08:00.163920",
     "status": "completed"
    },
    "tags": []
   },
   "source": [
    "Let's put our little training loop in a function, to make things simpler:"
   ]
  },
  {
   "cell_type": "code",
   "execution_count": 96,
   "id": "72bf66c3",
   "metadata": {
    "execution": {
     "iopub.execute_input": "2022-04-27T16:08:00.801111Z",
     "iopub.status.busy": "2022-04-27T16:08:00.798071Z",
     "iopub.status.idle": "2022-04-27T16:08:00.803605Z",
     "shell.execute_reply": "2022-04-27T16:08:00.804277Z",
     "shell.execute_reply.started": "2022-04-27T16:05:17.505305Z"
    },
    "papermill": {
     "duration": 0.246251,
     "end_time": "2022-04-27T16:08:00.804487",
     "exception": false,
     "start_time": "2022-04-27T16:08:00.558236",
     "status": "completed"
    },
    "tags": []
   },
   "outputs": [],
   "source": [
    "def train_model(model, epochs):\n",
    "    for i in range(epochs):\n",
    "        train_epoch(model)\n",
    "        print(validate_epoch(model), end=' ')"
   ]
  },
  {
   "cell_type": "markdown",
   "id": "5e55d278",
   "metadata": {
    "papermill": {
     "duration": 0.20446,
     "end_time": "2022-04-27T16:08:01.243856",
     "exception": false,
     "start_time": "2022-04-27T16:08:01.039396",
     "status": "completed"
    },
    "tags": []
   },
   "source": [
    "The results are the same as in the previous section:"
   ]
  },
  {
   "cell_type": "code",
   "execution_count": 97,
   "id": "64c180f6",
   "metadata": {
    "execution": {
     "iopub.execute_input": "2022-04-27T16:08:01.653781Z",
     "iopub.status.busy": "2022-04-27T16:08:01.652662Z",
     "iopub.status.idle": "2022-04-27T16:08:03.441752Z",
     "shell.execute_reply": "2022-04-27T16:08:03.442363Z",
     "shell.execute_reply.started": "2022-04-27T16:05:17.872217Z"
    },
    "papermill": {
     "duration": 1.996367,
     "end_time": "2022-04-27T16:08:03.442537",
     "exception": false,
     "start_time": "2022-04-27T16:08:01.446170",
     "status": "completed"
    },
    "tags": []
   },
   "outputs": [
    {
     "name": "stdout",
     "output_type": "stream",
     "text": [
      "0.4932 0.8598 0.833 0.9121 0.9336 0.9472 0.956 0.9623 0.9658 0.9672 0.9687 0.9702 0.9731 0.9745 0.976 0.9765 0.9775 0.9775 0.978 0.9785 "
     ]
    }
   ],
   "source": [
    "train_model(linear_model, 20)"
   ]
  },
  {
   "cell_type": "markdown",
   "id": "83d76e64",
   "metadata": {
    "papermill": {
     "duration": 0.214423,
     "end_time": "2022-04-27T16:08:03.869486",
     "exception": false,
     "start_time": "2022-04-27T16:08:03.655063",
     "status": "completed"
    },
    "tags": []
   },
   "source": [
    "fastai provides the `SGD` class which, by default, does the same thing as our `BasicOptim`:"
   ]
  },
  {
   "cell_type": "code",
   "execution_count": 98,
   "id": "79f3f80b",
   "metadata": {
    "execution": {
     "iopub.execute_input": "2022-04-27T16:08:04.302553Z",
     "iopub.status.busy": "2022-04-27T16:08:04.301606Z",
     "iopub.status.idle": "2022-04-27T16:08:06.225049Z",
     "shell.execute_reply": "2022-04-27T16:08:06.225935Z",
     "shell.execute_reply.started": "2022-04-27T16:05:19.718163Z"
    },
    "papermill": {
     "duration": 2.138995,
     "end_time": "2022-04-27T16:08:06.226121",
     "exception": false,
     "start_time": "2022-04-27T16:08:04.087126",
     "status": "completed"
    },
    "tags": []
   },
   "outputs": [
    {
     "name": "stdout",
     "output_type": "stream",
     "text": [
      "0.4932 0.8842 0.8173 0.9062 0.9316 0.9453 0.955 0.9623 0.9653 0.9667 0.9687 0.9706 0.9731 0.9745 0.9755 0.9765 0.9775 0.9775 0.9785 0.9785 "
     ]
    }
   ],
   "source": [
    "linear_model = nn.Linear(28*28,1)\n",
    "opt = SGD(linear_model.parameters(), lr)\n",
    "train_model(linear_model, 20)"
   ]
  },
  {
   "cell_type": "markdown",
   "id": "c694ac22",
   "metadata": {
    "papermill": {
     "duration": 0.202283,
     "end_time": "2022-04-27T16:08:06.631851",
     "exception": false,
     "start_time": "2022-04-27T16:08:06.429568",
     "status": "completed"
    },
    "tags": []
   },
   "source": [
    "fastai also provides `Learner.fit`, which we can use instead of `train_model`. To create a `Learner` we first need to create a `DataLoaders`, by passing in our training and validation `DataLoader`s:"
   ]
  },
  {
   "cell_type": "code",
   "execution_count": 99,
   "id": "5cc42560",
   "metadata": {
    "execution": {
     "iopub.execute_input": "2022-04-27T16:08:07.044751Z",
     "iopub.status.busy": "2022-04-27T16:08:07.044089Z",
     "iopub.status.idle": "2022-04-27T16:08:07.047130Z",
     "shell.execute_reply": "2022-04-27T16:08:07.047611Z",
     "shell.execute_reply.started": "2022-04-27T16:05:21.810382Z"
    },
    "papermill": {
     "duration": 0.211727,
     "end_time": "2022-04-27T16:08:07.047827",
     "exception": false,
     "start_time": "2022-04-27T16:08:06.836100",
     "status": "completed"
    },
    "tags": []
   },
   "outputs": [],
   "source": [
    "dls = DataLoaders(dl, valid_dl)"
   ]
  },
  {
   "cell_type": "markdown",
   "id": "59b0ad4a",
   "metadata": {
    "papermill": {
     "duration": 0.202945,
     "end_time": "2022-04-27T16:08:07.456935",
     "exception": false,
     "start_time": "2022-04-27T16:08:07.253990",
     "status": "completed"
    },
    "tags": []
   },
   "source": [
    "To create a `Learner` without using an application (such as `cnn_learner`) we need to pass in all the elements that we've created in this chapter: the `DataLoaders`, the model, the optimization function (which will be passed the parameters), the loss function, and optionally any metrics to print:"
   ]
  },
  {
   "cell_type": "code",
   "execution_count": 100,
   "id": "98a98574",
   "metadata": {
    "execution": {
     "iopub.execute_input": "2022-04-27T16:08:07.871073Z",
     "iopub.status.busy": "2022-04-27T16:08:07.867581Z",
     "iopub.status.idle": "2022-04-27T16:08:07.873860Z",
     "shell.execute_reply": "2022-04-27T16:08:07.874442Z",
     "shell.execute_reply.started": "2022-04-27T16:05:21.818874Z"
    },
    "papermill": {
     "duration": 0.213941,
     "end_time": "2022-04-27T16:08:07.874621",
     "exception": false,
     "start_time": "2022-04-27T16:08:07.660680",
     "status": "completed"
    },
    "tags": []
   },
   "outputs": [],
   "source": [
    "learn = Learner(dls, nn.Linear(28*28,1), opt_func=SGD,\n",
    "                loss_func=mnist_loss, metrics=batch_accuracy)"
   ]
  },
  {
   "cell_type": "markdown",
   "id": "644b2ba8",
   "metadata": {
    "papermill": {
     "duration": 0.203857,
     "end_time": "2022-04-27T16:08:08.287863",
     "exception": false,
     "start_time": "2022-04-27T16:08:08.084006",
     "status": "completed"
    },
    "tags": []
   },
   "source": [
    "Now we can call `fit`:"
   ]
  },
  {
   "cell_type": "code",
   "execution_count": 101,
   "id": "0fdb831b",
   "metadata": {
    "execution": {
     "iopub.execute_input": "2022-04-27T16:08:08.697279Z",
     "iopub.status.busy": "2022-04-27T16:08:08.696583Z",
     "iopub.status.idle": "2022-04-27T16:08:10.386315Z",
     "shell.execute_reply": "2022-04-27T16:08:10.385689Z",
     "shell.execute_reply.started": "2022-04-27T16:05:21.832848Z"
    },
    "papermill": {
     "duration": 1.895873,
     "end_time": "2022-04-27T16:08:10.386467",
     "exception": false,
     "start_time": "2022-04-27T16:08:08.490594",
     "status": "completed"
    },
    "tags": []
   },
   "outputs": [
    {
     "data": {
      "text/html": [
       "\n",
       "<style>\n",
       "    /* Turns off some styling */\n",
       "    progress {\n",
       "        /* gets rid of default border in Firefox and Opera. */\n",
       "        border: none;\n",
       "        /* Needs to be in here for Safari polyfill so background images work as expected. */\n",
       "        background-size: auto;\n",
       "    }\n",
       "    .progress-bar-interrupted, .progress-bar-interrupted::-webkit-progress-bar {\n",
       "        background: #F44336;\n",
       "    }\n",
       "</style>\n"
      ],
      "text/plain": [
       "<IPython.core.display.HTML object>"
      ]
     },
     "metadata": {},
     "output_type": "display_data"
    },
    {
     "data": {
      "text/html": [
       "<table border=\"1\" class=\"dataframe\">\n",
       "  <thead>\n",
       "    <tr style=\"text-align: left;\">\n",
       "      <th>epoch</th>\n",
       "      <th>train_loss</th>\n",
       "      <th>valid_loss</th>\n",
       "      <th>batch_accuracy</th>\n",
       "      <th>time</th>\n",
       "    </tr>\n",
       "  </thead>\n",
       "  <tbody>\n",
       "    <tr>\n",
       "      <td>0</td>\n",
       "      <td>0.636957</td>\n",
       "      <td>0.503431</td>\n",
       "      <td>0.495584</td>\n",
       "      <td>00:00</td>\n",
       "    </tr>\n",
       "    <tr>\n",
       "      <td>1</td>\n",
       "      <td>0.505036</td>\n",
       "      <td>0.199496</td>\n",
       "      <td>0.827772</td>\n",
       "      <td>00:00</td>\n",
       "    </tr>\n",
       "    <tr>\n",
       "      <td>2</td>\n",
       "      <td>0.185953</td>\n",
       "      <td>0.170363</td>\n",
       "      <td>0.849362</td>\n",
       "      <td>00:00</td>\n",
       "    </tr>\n",
       "    <tr>\n",
       "      <td>3</td>\n",
       "      <td>0.081666</td>\n",
       "      <td>0.103173</td>\n",
       "      <td>0.914622</td>\n",
       "      <td>00:00</td>\n",
       "    </tr>\n",
       "    <tr>\n",
       "      <td>4</td>\n",
       "      <td>0.043332</td>\n",
       "      <td>0.076159</td>\n",
       "      <td>0.933759</td>\n",
       "      <td>00:00</td>\n",
       "    </tr>\n",
       "    <tr>\n",
       "      <td>5</td>\n",
       "      <td>0.028395</td>\n",
       "      <td>0.061357</td>\n",
       "      <td>0.947988</td>\n",
       "      <td>00:00</td>\n",
       "    </tr>\n",
       "    <tr>\n",
       "      <td>6</td>\n",
       "      <td>0.022266</td>\n",
       "      <td>0.052078</td>\n",
       "      <td>0.955348</td>\n",
       "      <td>00:00</td>\n",
       "    </tr>\n",
       "    <tr>\n",
       "      <td>7</td>\n",
       "      <td>0.019545</td>\n",
       "      <td>0.045869</td>\n",
       "      <td>0.961727</td>\n",
       "      <td>00:00</td>\n",
       "    </tr>\n",
       "    <tr>\n",
       "      <td>8</td>\n",
       "      <td>0.018169</td>\n",
       "      <td>0.041481</td>\n",
       "      <td>0.965653</td>\n",
       "      <td>00:00</td>\n",
       "    </tr>\n",
       "    <tr>\n",
       "      <td>9</td>\n",
       "      <td>0.017347</td>\n",
       "      <td>0.038234</td>\n",
       "      <td>0.967615</td>\n",
       "      <td>00:00</td>\n",
       "    </tr>\n",
       "  </tbody>\n",
       "</table>"
      ],
      "text/plain": [
       "<IPython.core.display.HTML object>"
      ]
     },
     "metadata": {},
     "output_type": "display_data"
    }
   ],
   "source": [
    "learn.fit(10, lr=lr)"
   ]
  },
  {
   "cell_type": "markdown",
   "id": "c9d3abe7",
   "metadata": {
    "papermill": {
     "duration": 0.203088,
     "end_time": "2022-04-27T16:08:10.795484",
     "exception": false,
     "start_time": "2022-04-27T16:08:10.592396",
     "status": "completed"
    },
    "tags": []
   },
   "source": [
    "As you can see, there's nothing magic about the PyTorch and fastai classes. They are just convenient pre-packaged pieces that make your life a bit easier! (They also provide a lot of extra functionality we'll be using in future lessons.)\n",
    "\n",
    "With these classes, we can now replace our linear model with a neural network.\n",
    "\n",
    "## Adding a Nonlinearity\n",
    "\n",
    "So far we have a general procedure for optimizing the parameters of a function, and we have tried it out on a very boring function: a simple linear classifier. A linear classifier is very constrained in terms of what it can do. To make it a bit more complex (and able to handle more tasks), we need to add something nonlinear between two linear classifiers—this is what gives us a neural network.\n",
    "\n",
    "Here is the entire definition of a basic neural network:"
   ]
  },
  {
   "cell_type": "code",
   "execution_count": 102,
   "id": "0501cf75",
   "metadata": {
    "execution": {
     "iopub.execute_input": "2022-04-27T16:08:11.209721Z",
     "iopub.status.busy": "2022-04-27T16:08:11.209070Z",
     "iopub.status.idle": "2022-04-27T16:08:11.212225Z",
     "shell.execute_reply": "2022-04-27T16:08:11.211709Z",
     "shell.execute_reply.started": "2022-04-27T16:05:23.789307Z"
    },
    "papermill": {
     "duration": 0.213623,
     "end_time": "2022-04-27T16:08:11.212392",
     "exception": false,
     "start_time": "2022-04-27T16:08:10.998769",
     "status": "completed"
    },
    "tags": []
   },
   "outputs": [],
   "source": [
    "def simple_net(xb): \n",
    "    res = xb@w1 + b1\n",
    "    res = res.max(tensor(0.0))\n",
    "    res = res@w2 + b2\n",
    "    return res"
   ]
  },
  {
   "cell_type": "markdown",
   "id": "53bbb53d",
   "metadata": {
    "papermill": {
     "duration": 0.204437,
     "end_time": "2022-04-27T16:08:11.628676",
     "exception": false,
     "start_time": "2022-04-27T16:08:11.424239",
     "status": "completed"
    },
    "tags": []
   },
   "source": [
    "That's it! All we have in `simple_net` is two linear classifiers with a `max` function between them.\n",
    "\n",
    "Here, `w1` and `w2` are weight tensors, and `b1` and `b2` are bias tensors; that is, parameters that are initially randomly initialized, just like we did in the previous section:"
   ]
  },
  {
   "cell_type": "code",
   "execution_count": 103,
   "id": "7cef80ec",
   "metadata": {
    "execution": {
     "iopub.execute_input": "2022-04-27T16:08:12.048191Z",
     "iopub.status.busy": "2022-04-27T16:08:12.047455Z",
     "iopub.status.idle": "2022-04-27T16:08:12.050567Z",
     "shell.execute_reply": "2022-04-27T16:08:12.049937Z",
     "shell.execute_reply.started": "2022-04-27T16:05:23.796705Z"
    },
    "papermill": {
     "duration": 0.212974,
     "end_time": "2022-04-27T16:08:12.050723",
     "exception": false,
     "start_time": "2022-04-27T16:08:11.837749",
     "status": "completed"
    },
    "tags": []
   },
   "outputs": [],
   "source": [
    "w1 = init_params((28*28,30))\n",
    "b1 = init_params(30)\n",
    "w2 = init_params((30,1))\n",
    "b2 = init_params(1)"
   ]
  },
  {
   "cell_type": "markdown",
   "id": "eb70d2e9",
   "metadata": {
    "papermill": {
     "duration": 0.203835,
     "end_time": "2022-04-27T16:08:12.460593",
     "exception": false,
     "start_time": "2022-04-27T16:08:12.256758",
     "status": "completed"
    },
    "tags": []
   },
   "source": [
    "The key point about this is that `w1` has 30 output activations (which means that `w2` must have 30 input activations, so they match). That means that the first layer can construct 30 different features, each representing some different mix of pixels. You can change that `30` to anything you like, to make the model more or less complex.\n",
    "\n",
    "That little function `res.max(tensor(0.0))` is called a *rectified linear unit*, also known as *ReLU*. We think we can all agree that *rectified linear unit* sounds pretty fancy and complicated... But actually, there's nothing more to it than `res.max(tensor(0.0))`—in other words, replace every negative number with a zero. This tiny function is also available in PyTorch as `F.relu`:"
   ]
  },
  {
   "cell_type": "code",
   "execution_count": 104,
   "id": "0b180a55",
   "metadata": {
    "execution": {
     "iopub.execute_input": "2022-04-27T16:08:12.891185Z",
     "iopub.status.busy": "2022-04-27T16:08:12.890464Z",
     "iopub.status.idle": "2022-04-27T16:08:13.042534Z",
     "shell.execute_reply": "2022-04-27T16:08:13.041873Z",
     "shell.execute_reply.started": "2022-04-27T16:05:23.813722Z"
    },
    "papermill": {
     "duration": 0.37832,
     "end_time": "2022-04-27T16:08:13.042717",
     "exception": false,
     "start_time": "2022-04-27T16:08:12.664397",
     "status": "completed"
    },
    "tags": []
   },
   "outputs": [
    {
     "data": {
      "image/png": "[encoded data removed]",
      "text/plain": [
       "<Figure size 432x288 with 1 Axes>"
      ]
     },
     "metadata": {
      "needs_background": "light"
     },
     "output_type": "display_data"
    }
   ],
   "source": [
    "plot_function(F.relu)"
   ]
  },
  {
   "cell_type": "markdown",
   "id": "478ca15d",
   "metadata": {
    "papermill": {
     "duration": 0.20464,
     "end_time": "2022-04-27T16:08:13.469462",
     "exception": false,
     "start_time": "2022-04-27T16:08:13.264822",
     "status": "completed"
    },
    "tags": []
   },
   "source": [
    "> There is an enormous amount of jargon in deep learning, including terms like _rectified linear unit_. The vast vast majority of this jargon is no more complicated than can be implemented in a short line of code, as we saw in this example. The reality is that for academics to get their papers published they need to make them sound as impressive and sophisticated as possible. One of the ways that they do that is to introduce jargon. Unfortunately, this has the result that the field ends up becoming far more intimidating and difficult to get into than it should be. You do have to learn the jargon, because otherwise papers and tutorials are not going to mean much to you. But that doesn't mean you have to find the jargon intimidating. Just remember, when you come across a word or phrase that you haven't seen before, it will almost certainly turn out to be referring to a very simple concept.\n",
    "\n",
    "The basic idea is that by using more linear layers, we can have our model do more computation, and therefore model more complex functions. But there's no point just putting one linear layer directly after another one, because when we multiply things together and then add them up multiple times, that could be replaced by multiplying different things together and adding them up just once! That is to say, a series of any number of linear layers in a row can be replaced with a single linear layer with a different set of parameters.\n",
    "\n",
    "But if we put a nonlinear function between them, such as `max`, then this is no longer true. Now each linear layer is actually somewhat decoupled from the other ones, and can do its own useful work. The `max` function is particularly interesting, because it operates as a simple `if` statement.\n",
    "\n",
    "> Mathematically, we say the composition of two linear functions is another linear function. So, we can stack as many linear classifiers as we want on top of each other, and without nonlinear functions between them, it will just be the same as one linear classifier.\n",
    "\n",
    "Amazingly enough, it can be mathematically proven that this little function can solve any computable problem to an arbitrarily high level of accuracy, if you can find the right parameters for `w1` and `w2` and if you make these matrices big enough. For any arbitrarily wiggly function, we can approximate it as a bunch of lines joined together; to make it closer to the wiggly function, we just have to use shorter lines. This is known as the *universal approximation theorem*. The three lines of code that we have here are known as *layers*. The first and third are known as *linear layers*, and the second line of code is known variously as a *nonlinearity*, or *activation function*.\n",
    "\n",
    "Just like in the previous section, we can replace this code with something a bit simpler, by taking advantage of PyTorch:"
   ]
  },
  {
   "cell_type": "code",
   "execution_count": 105,
   "id": "dcdb3739",
   "metadata": {
    "execution": {
     "iopub.execute_input": "2022-04-27T16:08:13.882611Z",
     "iopub.status.busy": "2022-04-27T16:08:13.881953Z",
     "iopub.status.idle": "2022-04-27T16:08:13.884154Z",
     "shell.execute_reply": "2022-04-27T16:08:13.884755Z",
     "shell.execute_reply.started": "2022-04-27T16:05:24.047466Z"
    },
    "papermill": {
     "duration": 0.210861,
     "end_time": "2022-04-27T16:08:13.884912",
     "exception": false,
     "start_time": "2022-04-27T16:08:13.674051",
     "status": "completed"
    },
    "tags": []
   },
   "outputs": [],
   "source": [
    "simple_net = nn.Sequential(\n",
    "    nn.Linear(28*28,30),\n",
    "    nn.ReLU(),\n",
    "    nn.Linear(30,1)\n",
    ")"
   ]
  },
  {
   "cell_type": "markdown",
   "id": "e9d187ac",
   "metadata": {
    "papermill": {
     "duration": 0.225276,
     "end_time": "2022-04-27T16:08:14.321118",
     "exception": false,
     "start_time": "2022-04-27T16:08:14.095842",
     "status": "completed"
    },
    "tags": []
   },
   "source": [
    "`nn.Sequential` creates a module that will call each of the listed layers or functions in turn.\n",
    "\n",
    "`nn.ReLU` is a PyTorch module that does exactly the same thing as the `F.relu` function. Most functions that can appear in a model also have identical forms that are modules. Generally, it's just a case of replacing `F` with `nn` and changing the capitalization. When using `nn.Sequential`, PyTorch requires us to use the module version. Since modules are classes, we have to instantiate them, which is why you see `nn.ReLU()` in this example. \n",
    "\n",
    "Because `nn.Sequential` is a module, we can get its parameters, which will return a list of all the parameters of all the modules it contains. Let's try it out! As this is a deeper model, we'll use a lower learning rate and a few more epochs."
   ]
  },
  {
   "cell_type": "code",
   "execution_count": 106,
   "id": "fc173d20",
   "metadata": {
    "execution": {
     "iopub.execute_input": "2022-04-27T16:08:14.733098Z",
     "iopub.status.busy": "2022-04-27T16:08:14.732480Z",
     "iopub.status.idle": "2022-04-27T16:08:14.736219Z",
     "shell.execute_reply": "2022-04-27T16:08:14.736776Z",
     "shell.execute_reply.started": "2022-04-27T16:05:24.054704Z"
    },
    "papermill": {
     "duration": 0.21032,
     "end_time": "2022-04-27T16:08:14.736924",
     "exception": false,
     "start_time": "2022-04-27T16:08:14.526604",
     "status": "completed"
    },
    "tags": []
   },
   "outputs": [],
   "source": [
    "learn = Learner(dls, simple_net, opt_func=SGD,\n",
    "                loss_func=mnist_loss, metrics=batch_accuracy)"
   ]
  },
  {
   "cell_type": "code",
   "execution_count": 107,
   "id": "6d930dce",
   "metadata": {
    "execution": {
     "iopub.execute_input": "2022-04-27T16:08:15.149936Z",
     "iopub.status.busy": "2022-04-27T16:08:15.149272Z",
     "iopub.status.idle": "2022-04-27T16:08:23.272103Z",
     "shell.execute_reply": "2022-04-27T16:08:23.271501Z",
     "shell.execute_reply.started": "2022-04-27T16:05:24.069084Z"
    },
    "papermill": {
     "duration": 8.331502,
     "end_time": "2022-04-27T16:08:23.272258",
     "exception": false,
     "start_time": "2022-04-27T16:08:14.940756",
     "status": "completed"
    },
    "scrolled": true,
    "tags": []
   },
   "outputs": [
    {
     "data": {
      "text/html": [
       "\n",
       "<style>\n",
       "    /* Turns off some styling */\n",
       "    progress {\n",
       "        /* gets rid of default border in Firefox and Opera. */\n",
       "        border: none;\n",
       "        /* Needs to be in here for Safari polyfill so background images work as expected. */\n",
       "        background-size: auto;\n",
       "    }\n",
       "    .progress-bar-interrupted, .progress-bar-interrupted::-webkit-progress-bar {\n",
       "        background: #F44336;\n",
       "    }\n",
       "</style>\n"
      ],
      "text/plain": [
       "<IPython.core.display.HTML object>"
      ]
     },
     "metadata": {},
     "output_type": "display_data"
    },
    {
     "data": {
      "text/html": [
       "<table border=\"1\" class=\"dataframe\">\n",
       "  <thead>\n",
       "    <tr style=\"text-align: left;\">\n",
       "      <th>epoch</th>\n",
       "      <th>train_loss</th>\n",
       "      <th>valid_loss</th>\n",
       "      <th>batch_accuracy</th>\n",
       "      <th>time</th>\n",
       "    </tr>\n",
       "  </thead>\n",
       "  <tbody>\n",
       "    <tr>\n",
       "      <td>0</td>\n",
       "      <td>0.339404</td>\n",
       "      <td>0.401294</td>\n",
       "      <td>0.506869</td>\n",
       "      <td>00:00</td>\n",
       "    </tr>\n",
       "    <tr>\n",
       "      <td>1</td>\n",
       "      <td>0.156504</td>\n",
       "      <td>0.236980</td>\n",
       "      <td>0.793425</td>\n",
       "      <td>00:00</td>\n",
       "    </tr>\n",
       "    <tr>\n",
       "      <td>2</td>\n",
       "      <td>0.085476</td>\n",
       "      <td>0.117934</td>\n",
       "      <td>0.910206</td>\n",
       "      <td>00:00</td>\n",
       "    </tr>\n",
       "    <tr>\n",
       "      <td>3</td>\n",
       "      <td>0.055229</td>\n",
       "      <td>0.078914</td>\n",
       "      <td>0.940628</td>\n",
       "      <td>00:00</td>\n",
       "    </tr>\n",
       "    <tr>\n",
       "      <td>4</td>\n",
       "      <td>0.041290</td>\n",
       "      <td>0.061361</td>\n",
       "      <td>0.956330</td>\n",
       "      <td>00:00</td>\n",
       "    </tr>\n",
       "    <tr>\n",
       "      <td>5</td>\n",
       "      <td>0.034248</td>\n",
       "      <td>0.051602</td>\n",
       "      <td>0.962218</td>\n",
       "      <td>00:00</td>\n",
       "    </tr>\n",
       "    <tr>\n",
       "      <td>6</td>\n",
       "      <td>0.030264</td>\n",
       "      <td>0.045479</td>\n",
       "      <td>0.964671</td>\n",
       "      <td>00:00</td>\n",
       "    </tr>\n",
       "    <tr>\n",
       "      <td>7</td>\n",
       "      <td>0.027715</td>\n",
       "      <td>0.041309</td>\n",
       "      <td>0.967615</td>\n",
       "      <td>00:00</td>\n",
       "    </tr>\n",
       "    <tr>\n",
       "      <td>8</td>\n",
       "      <td>0.025898</td>\n",
       "      <td>0.038284</td>\n",
       "      <td>0.968597</td>\n",
       "      <td>00:00</td>\n",
       "    </tr>\n",
       "    <tr>\n",
       "      <td>9</td>\n",
       "      <td>0.024500</td>\n",
       "      <td>0.035977</td>\n",
       "      <td>0.970069</td>\n",
       "      <td>00:00</td>\n",
       "    </tr>\n",
       "    <tr>\n",
       "      <td>10</td>\n",
       "      <td>0.023371</td>\n",
       "      <td>0.034151</td>\n",
       "      <td>0.971050</td>\n",
       "      <td>00:00</td>\n",
       "    </tr>\n",
       "    <tr>\n",
       "      <td>11</td>\n",
       "      <td>0.022431</td>\n",
       "      <td>0.032657</td>\n",
       "      <td>0.972031</td>\n",
       "      <td>00:00</td>\n",
       "    </tr>\n",
       "    <tr>\n",
       "      <td>12</td>\n",
       "      <td>0.021632</td>\n",
       "      <td>0.031400</td>\n",
       "      <td>0.973503</td>\n",
       "      <td>00:00</td>\n",
       "    </tr>\n",
       "    <tr>\n",
       "      <td>13</td>\n",
       "      <td>0.020941</td>\n",
       "      <td>0.030323</td>\n",
       "      <td>0.974485</td>\n",
       "      <td>00:00</td>\n",
       "    </tr>\n",
       "    <tr>\n",
       "      <td>14</td>\n",
       "      <td>0.020337</td>\n",
       "      <td>0.029382</td>\n",
       "      <td>0.975957</td>\n",
       "      <td>00:00</td>\n",
       "    </tr>\n",
       "    <tr>\n",
       "      <td>15</td>\n",
       "      <td>0.019802</td>\n",
       "      <td>0.028549</td>\n",
       "      <td>0.975957</td>\n",
       "      <td>00:00</td>\n",
       "    </tr>\n",
       "    <tr>\n",
       "      <td>16</td>\n",
       "      <td>0.019325</td>\n",
       "      <td>0.027807</td>\n",
       "      <td>0.977429</td>\n",
       "      <td>00:00</td>\n",
       "    </tr>\n",
       "    <tr>\n",
       "      <td>17</td>\n",
       "      <td>0.018896</td>\n",
       "      <td>0.027138</td>\n",
       "      <td>0.978410</td>\n",
       "      <td>00:00</td>\n",
       "    </tr>\n",
       "    <tr>\n",
       "      <td>18</td>\n",
       "      <td>0.018506</td>\n",
       "      <td>0.026532</td>\n",
       "      <td>0.978901</td>\n",
       "      <td>00:00</td>\n",
       "    </tr>\n",
       "    <tr>\n",
       "      <td>19</td>\n",
       "      <td>0.018151</td>\n",
       "      <td>0.025982</td>\n",
       "      <td>0.979392</td>\n",
       "      <td>00:00</td>\n",
       "    </tr>\n",
       "    <tr>\n",
       "      <td>20</td>\n",
       "      <td>0.017825</td>\n",
       "      <td>0.025480</td>\n",
       "      <td>0.979392</td>\n",
       "      <td>00:00</td>\n",
       "    </tr>\n",
       "    <tr>\n",
       "      <td>21</td>\n",
       "      <td>0.017524</td>\n",
       "      <td>0.025020</td>\n",
       "      <td>0.979392</td>\n",
       "      <td>00:00</td>\n",
       "    </tr>\n",
       "    <tr>\n",
       "      <td>22</td>\n",
       "      <td>0.017245</td>\n",
       "      <td>0.024597</td>\n",
       "      <td>0.979392</td>\n",
       "      <td>00:00</td>\n",
       "    </tr>\n",
       "    <tr>\n",
       "      <td>23</td>\n",
       "      <td>0.016984</td>\n",
       "      <td>0.024207</td>\n",
       "      <td>0.979882</td>\n",
       "      <td>00:00</td>\n",
       "    </tr>\n",
       "    <tr>\n",
       "      <td>24</td>\n",
       "      <td>0.016740</td>\n",
       "      <td>0.023847</td>\n",
       "      <td>0.980373</td>\n",
       "      <td>00:00</td>\n",
       "    </tr>\n",
       "    <tr>\n",
       "      <td>25</td>\n",
       "      <td>0.016511</td>\n",
       "      <td>0.023513</td>\n",
       "      <td>0.980864</td>\n",
       "      <td>00:00</td>\n",
       "    </tr>\n",
       "    <tr>\n",
       "      <td>26</td>\n",
       "      <td>0.016296</td>\n",
       "      <td>0.023204</td>\n",
       "      <td>0.981354</td>\n",
       "      <td>00:00</td>\n",
       "    </tr>\n",
       "    <tr>\n",
       "      <td>27</td>\n",
       "      <td>0.016091</td>\n",
       "      <td>0.022916</td>\n",
       "      <td>0.981354</td>\n",
       "      <td>00:00</td>\n",
       "    </tr>\n",
       "    <tr>\n",
       "      <td>28</td>\n",
       "      <td>0.015898</td>\n",
       "      <td>0.022649</td>\n",
       "      <td>0.981354</td>\n",
       "      <td>00:00</td>\n",
       "    </tr>\n",
       "    <tr>\n",
       "      <td>29</td>\n",
       "      <td>0.015714</td>\n",
       "      <td>0.022399</td>\n",
       "      <td>0.981845</td>\n",
       "      <td>00:00</td>\n",
       "    </tr>\n",
       "    <tr>\n",
       "      <td>30</td>\n",
       "      <td>0.015538</td>\n",
       "      <td>0.022167</td>\n",
       "      <td>0.982336</td>\n",
       "      <td>00:00</td>\n",
       "    </tr>\n",
       "    <tr>\n",
       "      <td>31</td>\n",
       "      <td>0.015371</td>\n",
       "      <td>0.021950</td>\n",
       "      <td>0.982336</td>\n",
       "      <td>00:00</td>\n",
       "    </tr>\n",
       "    <tr>\n",
       "      <td>32</td>\n",
       "      <td>0.015212</td>\n",
       "      <td>0.021746</td>\n",
       "      <td>0.982336</td>\n",
       "      <td>00:00</td>\n",
       "    </tr>\n",
       "    <tr>\n",
       "      <td>33</td>\n",
       "      <td>0.015059</td>\n",
       "      <td>0.021556</td>\n",
       "      <td>0.981845</td>\n",
       "      <td>00:00</td>\n",
       "    </tr>\n",
       "    <tr>\n",
       "      <td>34</td>\n",
       "      <td>0.014913</td>\n",
       "      <td>0.021376</td>\n",
       "      <td>0.981845</td>\n",
       "      <td>00:00</td>\n",
       "    </tr>\n",
       "    <tr>\n",
       "      <td>35</td>\n",
       "      <td>0.014772</td>\n",
       "      <td>0.021208</td>\n",
       "      <td>0.981845</td>\n",
       "      <td>00:00</td>\n",
       "    </tr>\n",
       "    <tr>\n",
       "      <td>36</td>\n",
       "      <td>0.014637</td>\n",
       "      <td>0.021049</td>\n",
       "      <td>0.982336</td>\n",
       "      <td>00:00</td>\n",
       "    </tr>\n",
       "    <tr>\n",
       "      <td>37</td>\n",
       "      <td>0.014507</td>\n",
       "      <td>0.020899</td>\n",
       "      <td>0.982336</td>\n",
       "      <td>00:00</td>\n",
       "    </tr>\n",
       "    <tr>\n",
       "      <td>38</td>\n",
       "      <td>0.014382</td>\n",
       "      <td>0.020757</td>\n",
       "      <td>0.982336</td>\n",
       "      <td>00:00</td>\n",
       "    </tr>\n",
       "    <tr>\n",
       "      <td>39</td>\n",
       "      <td>0.014261</td>\n",
       "      <td>0.020623</td>\n",
       "      <td>0.982336</td>\n",
       "      <td>00:00</td>\n",
       "    </tr>\n",
       "  </tbody>\n",
       "</table>"
      ],
      "text/plain": [
       "<IPython.core.display.HTML object>"
      ]
     },
     "metadata": {},
     "output_type": "display_data"
    }
   ],
   "source": [
    "learn.fit(40, 0.1)"
   ]
  },
  {
   "cell_type": "markdown",
   "id": "e971f86c",
   "metadata": {
    "papermill": {
     "duration": 0.206578,
     "end_time": "2022-04-27T16:08:23.684947",
     "exception": false,
     "start_time": "2022-04-27T16:08:23.478369",
     "status": "completed"
    },
    "tags": []
   },
   "source": [
    "the training process is recorded in `learn.recorder`, with the table of output stored in the `values` attribute, so we can plot the accuracy over training as:"
   ]
  },
  {
   "cell_type": "code",
   "execution_count": 108,
   "id": "96b5906b",
   "metadata": {
    "execution": {
     "iopub.execute_input": "2022-04-27T16:08:24.130868Z",
     "iopub.status.busy": "2022-04-27T16:08:24.120562Z",
     "iopub.status.idle": "2022-04-27T16:08:24.258383Z",
     "shell.execute_reply": "2022-04-27T16:08:24.257746Z",
     "shell.execute_reply.started": "2022-04-27T16:05:32.798861Z"
    },
    "papermill": {
     "duration": 0.366654,
     "end_time": "2022-04-27T16:08:24.258518",
     "exception": false,
     "start_time": "2022-04-27T16:08:23.891864",
     "status": "completed"
    },
    "tags": []
   },
   "outputs": [
    {
     "data": {
      "image/png": "[encoded data removed]",
      "text/plain": [
       "<Figure size 432x288 with 1 Axes>"
      ]
     },
     "metadata": {
      "needs_background": "light"
     },
     "output_type": "display_data"
    }
   ],
   "source": [
    "plt.plot(L(learn.recorder.values).itemgot(2));"
   ]
  },
  {
   "cell_type": "markdown",
   "id": "e5179721",
   "metadata": {
    "papermill": {
     "duration": 0.205552,
     "end_time": "2022-04-27T16:08:24.671399",
     "exception": false,
     "start_time": "2022-04-27T16:08:24.465847",
     "status": "completed"
    },
    "tags": []
   },
   "source": [
    "And we can view the final accuracy:"
   ]
  },
  {
   "cell_type": "code",
   "execution_count": 109,
   "id": "44b9df45",
   "metadata": {
    "execution": {
     "iopub.execute_input": "2022-04-27T16:08:25.091015Z",
     "iopub.status.busy": "2022-04-27T16:08:25.090051Z",
     "iopub.status.idle": "2022-04-27T16:08:25.093393Z",
     "shell.execute_reply": "2022-04-27T16:08:25.093920Z",
     "shell.execute_reply.started": "2022-04-27T16:05:33.012644Z"
    },
    "papermill": {
     "duration": 0.217984,
     "end_time": "2022-04-27T16:08:25.094092",
     "exception": false,
     "start_time": "2022-04-27T16:08:24.876108",
     "status": "completed"
    },
    "tags": []
   },
   "outputs": [
    {
     "data": {
      "text/plain": [
       "0.98233562707901"
      ]
     },
     "execution_count": 109,
     "metadata": {},
     "output_type": "execute_result"
    }
   ],
   "source": [
    "learn.recorder.values[-1][2]"
   ]
  },
  {
   "cell_type": "markdown",
   "id": "176cc3fd",
   "metadata": {
    "papermill": {
     "duration": 0.207423,
     "end_time": "2022-04-27T16:08:25.530705",
     "exception": false,
     "start_time": "2022-04-27T16:08:25.323282",
     "status": "completed"
    },
    "tags": []
   },
   "source": [
    "At this point we have something that is rather magical:\n",
    "\n",
    "1. A function that can solve any problem to any level of accuracy (the neural network) given the correct set of parameters\n",
    "1. A way to find the best set of parameters for any function (stochastic gradient descent)\n",
    "\n",
    "This is why deep learning can do things which seem rather magical, such fantastic things. Believing that this combination of simple techniques can really solve any problem is one of the biggest steps that we find many students have to take. It seems too good to be true—surely things should be more difficult and complicated than this? Our recommendation: try it out! We just tried it on the MNIST dataset and you have seen the results. And since we are doing everything from scratch ourselves (except for calculating the gradients) you know that there is no special magic hiding behind the scenes."
   ]
  },
  {
   "cell_type": "markdown",
   "id": "fcc78377",
   "metadata": {
    "papermill": {
     "duration": 0.207896,
     "end_time": "2022-04-27T16:08:25.946165",
     "exception": false,
     "start_time": "2022-04-27T16:08:25.738269",
     "status": "completed"
    },
    "tags": []
   },
   "source": [
    "# Excercises\n",
    "\n",
    "Retry to do the \"An End-to-End SGD Example\" but using a smaller and a bigger learning rate and see what happens"
   ]
  },
  {
   "cell_type": "code",
   "execution_count": null,
   "id": "31d3ce7b",
   "metadata": {
    "papermill": {
     "duration": 0.207348,
     "end_time": "2022-04-27T16:08:26.364914",
     "exception": false,
     "start_time": "2022-04-27T16:08:26.157566",
     "status": "completed"
    },
    "tags": []
   },
   "outputs": [],
   "source": []
  }
 ],
 "metadata": {
  "kernelspec": {
   "display_name": "Python 3",
   "language": "python",
   "name": "python3"
  },
  "language_info": {
   "codemirror_mode": {
    "name": "ipython",
    "version": 3
   },
   "file_extension": ".py",
   "mimetype": "text/x-python",
   "name": "python",
   "nbconvert_exporter": "python",
   "pygments_lexer": "ipython3",
   "version": "3.7.12"
  },
  "papermill": {
   "default_parameters": {},
   "duration": 123.056912,
   "end_time": "2022-04-27T16:08:27.483368",
   "environment_variables": {},
   "exception": null,
   "input_path": "__notebook__.ipynb",
   "output_path": "__notebook__.ipynb",
   "parameters": {},
   "start_time": "2022-04-27T16:06:24.426456",
   "version": "2.3.3"
  }
 },
 "nbformat": 4,
 "nbformat_minor": 5
}
