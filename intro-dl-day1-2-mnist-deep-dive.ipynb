{
 "cells": [
  {
   "cell_type": "markdown",
   "id": "6b5602c0",
   "metadata": {
    "id": "vuoajNPM3V0V",
    "papermill": {
     "duration": 0.037251,
     "end_time": "2023-03-15T09:28:15.586903",
     "exception": false,
     "start_time": "2023-03-15T09:28:15.549652",
     "status": "completed"
    },
    "tags": []
   },
   "source": [
    "# Introduction to Deep Learning Training 1.2\n",
    "## MNIST Deep dive"
   ]
  },
  {
   "cell_type": "markdown",
   "id": "d67354d4",
   "metadata": {
    "papermill": {
     "duration": 0.036663,
     "end_time": "2023-03-15T09:28:15.665992",
     "exception": false,
     "start_time": "2023-03-15T09:28:15.629329",
     "status": "completed"
    },
    "tags": []
   },
   "source": [
    "In this notebook we will deep dive on how a CNN works using a classical dataset in DL: MNIST (remember the handwritten digit classifier from Yann LeCun in 1998: [LeNet 5](http://yann.lecun.com/exdb/lenet/))?\n",
    "\n",
    "Sidenote: **You won't need any GPU for this notebook, you can keep just a CPU it will be fine ;)**"
   ]
  },
  {
   "cell_type": "markdown",
   "id": "cda75005",
   "metadata": {
    "id": "-Na41gNm3V0a",
    "papermill": {
     "duration": 0.036301,
     "end_time": "2023-03-15T09:28:15.738035",
     "exception": false,
     "start_time": "2023-03-15T09:28:15.701734",
     "status": "completed"
    },
    "tags": []
   },
   "source": [
    "### About The Data"
   ]
  },
  {
   "cell_type": "markdown",
   "id": "39886ace",
   "metadata": {
    "id": "X5WnQvN43V0c",
    "papermill": {
     "duration": 0.03543,
     "end_time": "2023-03-15T09:28:15.808794",
     "exception": false,
     "start_time": "2023-03-15T09:28:15.773364",
     "status": "completed"
    },
    "tags": []
   },
   "source": [
    "In this lesson, we will be working with ***MNIST***, a classic data set of hand-written digits.  Solutions to this problem are for instance used by banks to automatically recognize the amounts on checks, and by the postal service to automatically recognize zip codes on mail."
   ]
  },
  {
   "cell_type": "markdown",
   "id": "1ea95c54",
   "metadata": {
    "id": "QecfMSLY3V0f",
    "papermill": {
     "duration": 0.035445,
     "end_time": "2023-03-15T09:28:15.879886",
     "exception": false,
     "start_time": "2023-03-15T09:28:15.844441",
     "status": "completed"
    },
    "tags": []
   },
   "source": [
    "A image can be represented by a matrix, by creating a grid where each entry corresponds to a different pixel.\n",
    "\n",
    "<img src=\"https://s15.postimg.cc/9c81y146z/digit.gif\" alt=\"digit\" style=\"width: 55%\"/>\n",
    "  \n",
    "(Source of image: [Adam Geitgey](https://medium.com/@ageitgey/machine-learning-is-fun-part-3-deep-learning-and-convolutional-neural-networks-f40359318721) )\n",
    "\n",
    "In this case we are using black & white images, so you have enough with one number per pixel to specify the color. However if you are working with color images, the principle is the same, except that you have 3 numbers per pixel: RGB = Red Green Blue => 3 input channels, but it works in the same way."
   ]
  },
  {
   "cell_type": "markdown",
   "id": "2512ec61",
   "metadata": {
    "id": "9tHX5hnC3V0g",
    "papermill": {
     "duration": 0.038996,
     "end_time": "2023-03-15T09:28:15.954573",
     "exception": false,
     "start_time": "2023-03-15T09:28:15.915577",
     "status": "completed"
    },
    "tags": []
   },
   "source": [
    "## Imports and data"
   ]
  },
  {
   "cell_type": "markdown",
   "id": "82a11530",
   "metadata": {
    "id": "7S2N1Yno3V0h",
    "papermill": {
     "duration": 0.037246,
     "end_time": "2023-03-15T09:28:16.039244",
     "exception": false,
     "start_time": "2023-03-15T09:28:16.001998",
     "status": "completed"
    },
    "tags": []
   },
   "source": [
    "We will be using the fastai library, in which we can find the data as well."
   ]
  },
  {
   "cell_type": "code",
   "execution_count": 1,
   "id": "3418ed3c",
   "metadata": {
    "execution": {
     "iopub.execute_input": "2023-03-15T09:28:16.113291Z",
     "iopub.status.busy": "2023-03-15T09:28:16.112840Z",
     "iopub.status.idle": "2023-03-15T09:28:20.950783Z",
     "shell.execute_reply": "2023-03-15T09:28:20.949220Z"
    },
    "id": "_j8mK5P93V0o",
    "papermill": {
     "duration": 4.878724,
     "end_time": "2023-03-15T09:28:20.954262",
     "exception": false,
     "start_time": "2023-03-15T09:28:16.075538",
     "status": "completed"
    },
    "tags": []
   },
   "outputs": [],
   "source": [
    "from fastai.vision.all import *\n",
    "\n",
    "matplotlib.rc('image', cmap='Greys')"
   ]
  },
  {
   "cell_type": "markdown",
   "id": "b695d73b",
   "metadata": {
    "id": "nIHbu4yo3V0w",
    "papermill": {
     "duration": 0.035797,
     "end_time": "2023-03-15T09:28:21.026906",
     "exception": false,
     "start_time": "2023-03-15T09:28:20.991109",
     "status": "completed"
    },
    "tags": []
   },
   "source": [
    "For this initial tutorial we are just going to try to create a model that can classify any image as a 3 or a 7. So let's download a sample of MNIST that contains images of just these digits:"
   ]
  },
  {
   "cell_type": "code",
   "execution_count": 2,
   "id": "4e7395d2",
   "metadata": {
    "execution": {
     "iopub.execute_input": "2023-03-15T09:28:21.101784Z",
     "iopub.status.busy": "2023-03-15T09:28:21.101374Z",
     "iopub.status.idle": "2023-03-15T09:28:25.091352Z",
     "shell.execute_reply": "2023-03-15T09:28:25.089934Z"
    },
    "id": "dpwDCpJa3V0x",
    "outputId": "a1c53a11-7b26-4927-9ce7-af05570cccbb",
    "papermill": {
     "duration": 4.031331,
     "end_time": "2023-03-15T09:28:25.093861",
     "exception": false,
     "start_time": "2023-03-15T09:28:21.062530",
     "status": "completed"
    },
    "tags": []
   },
   "outputs": [
    {
     "data": {
      "text/html": [
       "\n",
       "<style>\n",
       "    /* Turns off some styling */\n",
       "    progress {\n",
       "        /* gets rid of default border in Firefox and Opera. */\n",
       "        border: none;\n",
       "        /* Needs to be in here for Safari polyfill so background images work as expected. */\n",
       "        background-size: auto;\n",
       "    }\n",
       "    progress:not([value]), progress:not([value])::-webkit-progress-bar {\n",
       "        background: repeating-linear-gradient(45deg, #7e7e7e, #7e7e7e 10px, #5c5c5c 10px, #5c5c5c 20px);\n",
       "    }\n",
       "    .progress-bar-interrupted, .progress-bar-interrupted::-webkit-progress-bar {\n",
       "        background: #F44336;\n",
       "    }\n",
       "</style>\n"
      ],
      "text/plain": [
       "<IPython.core.display.HTML object>"
      ]
     },
     "metadata": {},
     "output_type": "display_data"
    },
    {
     "data": {
      "text/html": [
       "\n",
       "    <div>\n",
       "      <progress value='3219456' class='' max='3214948' style='width:300px; height:20px; vertical-align: middle;'></progress>\n",
       "      100.14% [3219456/3214948 00:00&lt;00:00]\n",
       "    </div>\n",
       "    "
      ],
      "text/plain": [
       "<IPython.core.display.HTML object>"
      ]
     },
     "metadata": {},
     "output_type": "display_data"
    }
   ],
   "source": [
    "path = untar_data(URLs.MNIST_SAMPLE)"
   ]
  },
  {
   "cell_type": "markdown",
   "id": "7a4bd252",
   "metadata": {
    "papermill": {
     "duration": 0.036913,
     "end_time": "2023-03-15T09:28:25.166655",
     "exception": false,
     "start_time": "2023-03-15T09:28:25.129742",
     "status": "completed"
    },
    "tags": []
   },
   "source": [
    "We can see what's in this directory by using `ls`, a method added by fastai. This method returns an object of a special fastai class called `L`, which has all the same functionality of Python's built-in `list`, plus a lot more. One of its handy features is that, when printed, it displays the count of items, before listing the items themselves (if there are more than 10 items, it just shows the first few):"
   ]
  },
  {
   "cell_type": "code",
   "execution_count": 3,
   "id": "77de582d",
   "metadata": {
    "execution": {
     "iopub.execute_input": "2023-03-15T09:28:25.244391Z",
     "iopub.status.busy": "2023-03-15T09:28:25.243675Z",
     "iopub.status.idle": "2023-03-15T09:28:25.249762Z",
     "shell.execute_reply": "2023-03-15T09:28:25.249063Z"
    },
    "id": "bCjOGY1I3V00",
    "outputId": "524e553e-71a3-444c-bd4a-9b1fdc5356b2",
    "papermill": {
     "duration": 0.048613,
     "end_time": "2023-03-15T09:28:25.251530",
     "exception": false,
     "start_time": "2023-03-15T09:28:25.202917",
     "status": "completed"
    },
    "tags": []
   },
   "outputs": [
    {
     "data": {
      "text/plain": [
       "(#3) [Path('/root/.fastai/data/mnist_sample/valid'),Path('/root/.fastai/data/mnist_sample/labels.csv'),Path('/root/.fastai/data/mnist_sample/train')]"
      ]
     },
     "execution_count": 3,
     "metadata": {},
     "output_type": "execute_result"
    }
   ],
   "source": [
    "path.ls()"
   ]
  },
  {
   "cell_type": "markdown",
   "id": "57bf60a4",
   "metadata": {
    "papermill": {
     "duration": 0.035554,
     "end_time": "2023-03-15T09:28:25.323549",
     "exception": false,
     "start_time": "2023-03-15T09:28:25.287995",
     "status": "completed"
    },
    "tags": []
   },
   "source": [
    "The MNIST dataset follows a common layout for machine learning datasets: separate folders for the training set and the validation set (and/or test set). Let's see what's inside the training set:"
   ]
  },
  {
   "cell_type": "code",
   "execution_count": 4,
   "id": "674953ef",
   "metadata": {
    "execution": {
     "iopub.execute_input": "2023-03-15T09:28:25.398235Z",
     "iopub.status.busy": "2023-03-15T09:28:25.397863Z",
     "iopub.status.idle": "2023-03-15T09:28:25.405490Z",
     "shell.execute_reply": "2023-03-15T09:28:25.404207Z"
    },
    "papermill": {
     "duration": 0.04801,
     "end_time": "2023-03-15T09:28:25.407956",
     "exception": false,
     "start_time": "2023-03-15T09:28:25.359946",
     "status": "completed"
    },
    "tags": []
   },
   "outputs": [
    {
     "data": {
      "text/plain": [
       "(#2) [Path('/root/.fastai/data/mnist_sample/train/7'),Path('/root/.fastai/data/mnist_sample/train/3')]"
      ]
     },
     "execution_count": 4,
     "metadata": {},
     "output_type": "execute_result"
    }
   ],
   "source": [
    "(path/'train').ls()"
   ]
  },
  {
   "cell_type": "markdown",
   "id": "edbaf8c5",
   "metadata": {
    "papermill": {
     "duration": 0.036341,
     "end_time": "2023-03-15T09:28:25.482224",
     "exception": false,
     "start_time": "2023-03-15T09:28:25.445883",
     "status": "completed"
    },
    "tags": []
   },
   "source": [
    "There's a folder of 3s, and a folder of 7s. In machine learning parlance, we say that \"3\" and \"7\" are the *labels* (or targets) in this dataset. Let's take a look in one of these folders (using `sorted` to ensure we all get the same order of files):"
   ]
  },
  {
   "cell_type": "code",
   "execution_count": 5,
   "id": "cc82a3bc",
   "metadata": {
    "execution": {
     "iopub.execute_input": "2023-03-15T09:28:25.556545Z",
     "iopub.status.busy": "2023-03-15T09:28:25.556176Z",
     "iopub.status.idle": "2023-03-15T09:28:25.675817Z",
     "shell.execute_reply": "2023-03-15T09:28:25.674116Z"
    },
    "papermill": {
     "duration": 0.159922,
     "end_time": "2023-03-15T09:28:25.678674",
     "exception": false,
     "start_time": "2023-03-15T09:28:25.518752",
     "status": "completed"
    },
    "tags": []
   },
   "outputs": [
    {
     "data": {
      "text/plain": [
       "(#6131) [Path('/root/.fastai/data/mnist_sample/train/3/10.png'),Path('/root/.fastai/data/mnist_sample/train/3/10000.png'),Path('/root/.fastai/data/mnist_sample/train/3/10011.png'),Path('/root/.fastai/data/mnist_sample/train/3/10031.png'),Path('/root/.fastai/data/mnist_sample/train/3/10034.png'),Path('/root/.fastai/data/mnist_sample/train/3/10042.png'),Path('/root/.fastai/data/mnist_sample/train/3/10052.png'),Path('/root/.fastai/data/mnist_sample/train/3/1007.png'),Path('/root/.fastai/data/mnist_sample/train/3/10074.png'),Path('/root/.fastai/data/mnist_sample/train/3/10091.png')...]"
      ]
     },
     "execution_count": 5,
     "metadata": {},
     "output_type": "execute_result"
    }
   ],
   "source": [
    "threes = (path/'train'/'3').ls().sorted()\n",
    "sevens = (path/'train'/'7').ls().sorted()\n",
    "threes"
   ]
  },
  {
   "cell_type": "markdown",
   "id": "f93ff6e4",
   "metadata": {
    "papermill": {
     "duration": 0.036091,
     "end_time": "2023-03-15T09:28:25.751287",
     "exception": false,
     "start_time": "2023-03-15T09:28:25.715196",
     "status": "completed"
    },
    "tags": []
   },
   "source": [
    "As we might expect, it's full of image files. Let’s take a look at one now. Here’s an image of a handwritten number 3, taken from the famous MNIST dataset of handwritten numbers:"
   ]
  },
  {
   "cell_type": "code",
   "execution_count": 6,
   "id": "e11bb28d",
   "metadata": {
    "execution": {
     "iopub.execute_input": "2023-03-15T09:28:25.826368Z",
     "iopub.status.busy": "2023-03-15T09:28:25.826011Z",
     "iopub.status.idle": "2023-03-15T09:28:25.844991Z",
     "shell.execute_reply": "2023-03-15T09:28:25.843946Z"
    },
    "papermill": {
     "duration": 0.059674,
     "end_time": "2023-03-15T09:28:25.847537",
     "exception": false,
     "start_time": "2023-03-15T09:28:25.787863",
     "status": "completed"
    },
    "tags": []
   },
   "outputs": [
    {
     "data": {
      "image/png": "[encoded data removed]",
      "text/plain": [
       "<PIL.PngImagePlugin.PngImageFile image mode=L size=28x28>"
      ]
     },
     "execution_count": 6,
     "metadata": {},
     "output_type": "execute_result"
    }
   ],
   "source": [
    "im3_path = threes[1]\n",
    "im3 = Image.open(im3_path)\n",
    "im3"
   ]
  },
  {
   "cell_type": "markdown",
   "id": "9fc305d3",
   "metadata": {
    "papermill": {
     "duration": 0.035647,
     "end_time": "2023-03-15T09:28:25.919323",
     "exception": false,
     "start_time": "2023-03-15T09:28:25.883676",
     "status": "completed"
    },
    "tags": []
   },
   "source": [
    "Here we are using the `Image` class from the *Python Imaging Library* (PIL), which is the most widely used Python package for opening, manipulating, and viewing images. Jupyter knows about PIL images, so it displays the image for us automatically.\n",
    "\n",
    "In a computer, everything is represented as a number. To view the numbers that make up this image, we have to convert it to a *NumPy array* or a *PyTorch tensor*. For instance, here's what a section of the image looks like, converted to a NumPy array:"
   ]
  },
  {
   "cell_type": "code",
   "execution_count": 7,
   "id": "3ff026f2",
   "metadata": {
    "execution": {
     "iopub.execute_input": "2023-03-15T09:28:25.994452Z",
     "iopub.status.busy": "2023-03-15T09:28:25.994040Z",
     "iopub.status.idle": "2023-03-15T09:28:26.003586Z",
     "shell.execute_reply": "2023-03-15T09:28:26.002313Z"
    },
    "papermill": {
     "duration": 0.050634,
     "end_time": "2023-03-15T09:28:26.006479",
     "exception": false,
     "start_time": "2023-03-15T09:28:25.955845",
     "status": "completed"
    },
    "tags": []
   },
   "outputs": [
    {
     "data": {
      "text/plain": [
       "array([[  0,   0,   0,   0,   0,   0],\n",
       "       [  0,   0,   0,   0,   0,  29],\n",
       "       [  0,   0,   0,  48, 166, 224],\n",
       "       [  0,  93, 244, 249, 253, 187],\n",
       "       [  0, 107, 253, 253, 230,  48],\n",
       "       [  0,   3,  20,  20,  15,   0]], dtype=uint8)"
      ]
     },
     "execution_count": 7,
     "metadata": {},
     "output_type": "execute_result"
    }
   ],
   "source": [
    "array(im3)[4:10,4:10]"
   ]
  },
  {
   "cell_type": "markdown",
   "id": "639e5f01",
   "metadata": {
    "papermill": {
     "duration": 0.03617,
     "end_time": "2023-03-15T09:28:26.079101",
     "exception": false,
     "start_time": "2023-03-15T09:28:26.042931",
     "status": "completed"
    },
    "tags": []
   },
   "source": [
    "The `4:10` indicates we requested the rows from index 4 (included) to 10 (not included) and the same for the columns. NumPy indexes from top to bottom and left to right, so this section is located in the top-left corner of the image. Here's the same thing as a PyTorch tensor:"
   ]
  },
  {
   "cell_type": "code",
   "execution_count": 8,
   "id": "75f36684",
   "metadata": {
    "execution": {
     "iopub.execute_input": "2023-03-15T09:28:26.153923Z",
     "iopub.status.busy": "2023-03-15T09:28:26.153514Z",
     "iopub.status.idle": "2023-03-15T09:28:26.217542Z",
     "shell.execute_reply": "2023-03-15T09:28:26.216846Z"
    },
    "papermill": {
     "duration": 0.10354,
     "end_time": "2023-03-15T09:28:26.219410",
     "exception": false,
     "start_time": "2023-03-15T09:28:26.115870",
     "status": "completed"
    },
    "tags": []
   },
   "outputs": [
    {
     "data": {
      "text/plain": [
       "tensor([[  0,   0,   0,   0,   0,   0],\n",
       "        [  0,   0,   0,   0,   0,  29],\n",
       "        [  0,   0,   0,  48, 166, 224],\n",
       "        [  0,  93, 244, 249, 253, 187],\n",
       "        [  0, 107, 253, 253, 230,  48],\n",
       "        [  0,   3,  20,  20,  15,   0]], dtype=torch.uint8)"
      ]
     },
     "execution_count": 8,
     "metadata": {},
     "output_type": "execute_result"
    }
   ],
   "source": [
    "tensor(im3)[4:10,4:10]"
   ]
  },
  {
   "cell_type": "markdown",
   "id": "9fdde9e4",
   "metadata": {
    "papermill": {
     "duration": 0.035086,
     "end_time": "2023-03-15T09:28:26.291471",
     "exception": false,
     "start_time": "2023-03-15T09:28:26.256385",
     "status": "completed"
    },
    "tags": []
   },
   "source": [
    "You can see they are nearly the same, but the big difference is that a PyTorch tensor can be speed up on a GPU\n",
    "\n",
    "We can slice the array to pick just the part with the top of the digit in it, and then use a Pandas DataFrame to color-code the values using a gradient, which shows us clearly how the image is created from the pixel values:"
   ]
  },
  {
   "cell_type": "code",
   "execution_count": 9,
   "id": "527693fe",
   "metadata": {
    "execution": {
     "iopub.execute_input": "2023-03-15T09:28:26.363977Z",
     "iopub.status.busy": "2023-03-15T09:28:26.363632Z",
     "iopub.status.idle": "2023-03-15T09:28:26.496490Z",
     "shell.execute_reply": "2023-03-15T09:28:26.495270Z"
    },
    "papermill": {
     "duration": 0.172576,
     "end_time": "2023-03-15T09:28:26.499337",
     "exception": false,
     "start_time": "2023-03-15T09:28:26.326761",
     "status": "completed"
    },
    "tags": []
   },
   "outputs": [
    {
     "data": {
      "text/html": [
       "<style type=\"text/css\">\n",
       "#T_6f597_row0_col0, #T_6f597_row0_col1, #T_6f597_row0_col2, #T_6f597_row0_col3, #T_6f597_row0_col4, #T_6f597_row0_col5, #T_6f597_row0_col6, #T_6f597_row0_col7, #T_6f597_row0_col8, #T_6f597_row0_col9, #T_6f597_row0_col10, #T_6f597_row0_col11, #T_6f597_row0_col12, #T_6f597_row0_col13, #T_6f597_row0_col14, #T_6f597_row0_col15, #T_6f597_row0_col16, #T_6f597_row0_col17, #T_6f597_row1_col0, #T_6f597_row1_col1, #T_6f597_row1_col2, #T_6f597_row1_col3, #T_6f597_row1_col4, #T_6f597_row1_col15, #T_6f597_row1_col16, #T_6f597_row1_col17, #T_6f597_row2_col0, #T_6f597_row2_col1, #T_6f597_row2_col2, #T_6f597_row2_col15, #T_6f597_row2_col16, #T_6f597_row2_col17, #T_6f597_row3_col0, #T_6f597_row3_col15, #T_6f597_row3_col16, #T_6f597_row3_col17, #T_6f597_row4_col0, #T_6f597_row4_col6, #T_6f597_row4_col7, #T_6f597_row4_col8, #T_6f597_row4_col9, #T_6f597_row4_col10, #T_6f597_row4_col15, #T_6f597_row4_col16, #T_6f597_row4_col17, #T_6f597_row5_col0, #T_6f597_row5_col5, #T_6f597_row5_col6, #T_6f597_row5_col7, #T_6f597_row5_col8, #T_6f597_row5_col9, #T_6f597_row5_col15, #T_6f597_row5_col16, #T_6f597_row5_col17, #T_6f597_row6_col0, #T_6f597_row6_col1, #T_6f597_row6_col2, #T_6f597_row6_col3, #T_6f597_row6_col4, #T_6f597_row6_col5, #T_6f597_row6_col6, #T_6f597_row6_col7, #T_6f597_row6_col8, #T_6f597_row6_col9, #T_6f597_row6_col14, #T_6f597_row6_col15, #T_6f597_row6_col16, #T_6f597_row6_col17, #T_6f597_row7_col0, #T_6f597_row7_col1, #T_6f597_row7_col2, #T_6f597_row7_col3, #T_6f597_row7_col4, #T_6f597_row7_col5, #T_6f597_row7_col6, #T_6f597_row7_col13, #T_6f597_row7_col14, #T_6f597_row7_col15, #T_6f597_row7_col16, #T_6f597_row7_col17, #T_6f597_row8_col0, #T_6f597_row8_col1, #T_6f597_row8_col2, #T_6f597_row8_col3, #T_6f597_row8_col4, #T_6f597_row8_col13, #T_6f597_row8_col14, #T_6f597_row8_col15, #T_6f597_row8_col16, #T_6f597_row8_col17, #T_6f597_row9_col0, #T_6f597_row9_col1, #T_6f597_row9_col2, #T_6f597_row9_col3, #T_6f597_row9_col4, #T_6f597_row9_col16, #T_6f597_row9_col17, #T_6f597_row10_col0, #T_6f597_row10_col1, #T_6f597_row10_col2, #T_6f597_row10_col3, #T_6f597_row10_col4, #T_6f597_row10_col5, #T_6f597_row10_col6, #T_6f597_row10_col17 {\n",
       "  font-size: 6pt;\n",
       "  background-color: #ffffff;\n",
       "  color: #000000;\n",
       "}\n",
       "#T_6f597_row1_col5 {\n",
       "  font-size: 6pt;\n",
       "  background-color: #efefef;\n",
       "  color: #000000;\n",
       "}\n",
       "#T_6f597_row1_col6, #T_6f597_row1_col13 {\n",
       "  font-size: 6pt;\n",
       "  background-color: #7c7c7c;\n",
       "  color: #f1f1f1;\n",
       "}\n",
       "#T_6f597_row1_col7 {\n",
       "  font-size: 6pt;\n",
       "  background-color: #4a4a4a;\n",
       "  color: #f1f1f1;\n",
       "}\n",
       "#T_6f597_row1_col8, #T_6f597_row1_col9, #T_6f597_row1_col10, #T_6f597_row2_col5, #T_6f597_row2_col6, #T_6f597_row2_col7, #T_6f597_row2_col11, #T_6f597_row2_col12, #T_6f597_row2_col13, #T_6f597_row3_col4, #T_6f597_row3_col12, #T_6f597_row3_col13, #T_6f597_row4_col1, #T_6f597_row4_col2, #T_6f597_row4_col3, #T_6f597_row4_col12, #T_6f597_row4_col13, #T_6f597_row5_col12, #T_6f597_row6_col11, #T_6f597_row9_col11, #T_6f597_row10_col11, #T_6f597_row10_col12, #T_6f597_row10_col13, #T_6f597_row10_col14, #T_6f597_row10_col15, #T_6f597_row10_col16 {\n",
       "  font-size: 6pt;\n",
       "  background-color: #000000;\n",
       "  color: #f1f1f1;\n",
       "}\n",
       "#T_6f597_row1_col11 {\n",
       "  font-size: 6pt;\n",
       "  background-color: #606060;\n",
       "  color: #f1f1f1;\n",
       "}\n",
       "#T_6f597_row1_col12 {\n",
       "  font-size: 6pt;\n",
       "  background-color: #4d4d4d;\n",
       "  color: #f1f1f1;\n",
       "}\n",
       "#T_6f597_row1_col14 {\n",
       "  font-size: 6pt;\n",
       "  background-color: #bbbbbb;\n",
       "  color: #000000;\n",
       "}\n",
       "#T_6f597_row2_col3 {\n",
       "  font-size: 6pt;\n",
       "  background-color: #e4e4e4;\n",
       "  color: #000000;\n",
       "}\n",
       "#T_6f597_row2_col4, #T_6f597_row8_col6 {\n",
       "  font-size: 6pt;\n",
       "  background-color: #6b6b6b;\n",
       "  color: #f1f1f1;\n",
       "}\n",
       "#T_6f597_row2_col8, #T_6f597_row2_col14, #T_6f597_row3_col14 {\n",
       "  font-size: 6pt;\n",
       "  background-color: #171717;\n",
       "  color: #f1f1f1;\n",
       "}\n",
       "#T_6f597_row2_col9, #T_6f597_row3_col11 {\n",
       "  font-size: 6pt;\n",
       "  background-color: #4b4b4b;\n",
       "  color: #f1f1f1;\n",
       "}\n",
       "#T_6f597_row2_col10, #T_6f597_row7_col10, #T_6f597_row8_col8, #T_6f597_row8_col10, #T_6f597_row9_col8, #T_6f597_row9_col10 {\n",
       "  font-size: 6pt;\n",
       "  background-color: #010101;\n",
       "  color: #f1f1f1;\n",
       "}\n",
       "#T_6f597_row3_col1 {\n",
       "  font-size: 6pt;\n",
       "  background-color: #272727;\n",
       "  color: #f1f1f1;\n",
       "}\n",
       "#T_6f597_row3_col2 {\n",
       "  font-size: 6pt;\n",
       "  background-color: #0a0a0a;\n",
       "  color: #f1f1f1;\n",
       "}\n",
       "#T_6f597_row3_col3 {\n",
       "  font-size: 6pt;\n",
       "  background-color: #050505;\n",
       "  color: #f1f1f1;\n",
       "}\n",
       "#T_6f597_row3_col5 {\n",
       "  font-size: 6pt;\n",
       "  background-color: #333333;\n",
       "  color: #f1f1f1;\n",
       "}\n",
       "#T_6f597_row3_col6 {\n",
       "  font-size: 6pt;\n",
       "  background-color: #e6e6e6;\n",
       "  color: #000000;\n",
       "}\n",
       "#T_6f597_row3_col7, #T_6f597_row3_col10 {\n",
       "  font-size: 6pt;\n",
       "  background-color: #fafafa;\n",
       "  color: #000000;\n",
       "}\n",
       "#T_6f597_row3_col8 {\n",
       "  font-size: 6pt;\n",
       "  background-color: #fbfbfb;\n",
       "  color: #000000;\n",
       "}\n",
       "#T_6f597_row3_col9 {\n",
       "  font-size: 6pt;\n",
       "  background-color: #fdfdfd;\n",
       "  color: #000000;\n",
       "}\n",
       "#T_6f597_row4_col4 {\n",
       "  font-size: 6pt;\n",
       "  background-color: #1b1b1b;\n",
       "  color: #f1f1f1;\n",
       "}\n",
       "#T_6f597_row4_col5 {\n",
       "  font-size: 6pt;\n",
       "  background-color: #e0e0e0;\n",
       "  color: #000000;\n",
       "}\n",
       "#T_6f597_row4_col11 {\n",
       "  font-size: 6pt;\n",
       "  background-color: #4e4e4e;\n",
       "  color: #f1f1f1;\n",
       "}\n",
       "#T_6f597_row4_col14 {\n",
       "  font-size: 6pt;\n",
       "  background-color: #767676;\n",
       "  color: #f1f1f1;\n",
       "}\n",
       "#T_6f597_row5_col1 {\n",
       "  font-size: 6pt;\n",
       "  background-color: #fcfcfc;\n",
       "  color: #000000;\n",
       "}\n",
       "#T_6f597_row5_col2, #T_6f597_row5_col3 {\n",
       "  font-size: 6pt;\n",
       "  background-color: #f6f6f6;\n",
       "  color: #000000;\n",
       "}\n",
       "#T_6f597_row5_col4, #T_6f597_row7_col7 {\n",
       "  font-size: 6pt;\n",
       "  background-color: #f8f8f8;\n",
       "  color: #000000;\n",
       "}\n",
       "#T_6f597_row5_col10, #T_6f597_row10_col7 {\n",
       "  font-size: 6pt;\n",
       "  background-color: #e8e8e8;\n",
       "  color: #000000;\n",
       "}\n",
       "#T_6f597_row5_col11 {\n",
       "  font-size: 6pt;\n",
       "  background-color: #222222;\n",
       "  color: #f1f1f1;\n",
       "}\n",
       "#T_6f597_row5_col13, #T_6f597_row6_col12 {\n",
       "  font-size: 6pt;\n",
       "  background-color: #090909;\n",
       "  color: #f1f1f1;\n",
       "}\n",
       "#T_6f597_row5_col14 {\n",
       "  font-size: 6pt;\n",
       "  background-color: #d0d0d0;\n",
       "  color: #000000;\n",
       "}\n",
       "#T_6f597_row6_col10, #T_6f597_row7_col11, #T_6f597_row9_col6 {\n",
       "  font-size: 6pt;\n",
       "  background-color: #060606;\n",
       "  color: #f1f1f1;\n",
       "}\n",
       "#T_6f597_row6_col13 {\n",
       "  font-size: 6pt;\n",
       "  background-color: #979797;\n",
       "  color: #f1f1f1;\n",
       "}\n",
       "#T_6f597_row7_col8 {\n",
       "  font-size: 6pt;\n",
       "  background-color: #b6b6b6;\n",
       "  color: #000000;\n",
       "}\n",
       "#T_6f597_row7_col9 {\n",
       "  font-size: 6pt;\n",
       "  background-color: #252525;\n",
       "  color: #f1f1f1;\n",
       "}\n",
       "#T_6f597_row7_col12 {\n",
       "  font-size: 6pt;\n",
       "  background-color: #999999;\n",
       "  color: #f1f1f1;\n",
       "}\n",
       "#T_6f597_row8_col5 {\n",
       "  font-size: 6pt;\n",
       "  background-color: #f9f9f9;\n",
       "  color: #000000;\n",
       "}\n",
       "#T_6f597_row8_col7 {\n",
       "  font-size: 6pt;\n",
       "  background-color: #101010;\n",
       "  color: #f1f1f1;\n",
       "}\n",
       "#T_6f597_row8_col9, #T_6f597_row9_col9 {\n",
       "  font-size: 6pt;\n",
       "  background-color: #020202;\n",
       "  color: #f1f1f1;\n",
       "}\n",
       "#T_6f597_row8_col11 {\n",
       "  font-size: 6pt;\n",
       "  background-color: #545454;\n",
       "  color: #f1f1f1;\n",
       "}\n",
       "#T_6f597_row8_col12 {\n",
       "  font-size: 6pt;\n",
       "  background-color: #f1f1f1;\n",
       "  color: #000000;\n",
       "}\n",
       "#T_6f597_row9_col5 {\n",
       "  font-size: 6pt;\n",
       "  background-color: #f7f7f7;\n",
       "  color: #000000;\n",
       "}\n",
       "#T_6f597_row9_col7 {\n",
       "  font-size: 6pt;\n",
       "  background-color: #030303;\n",
       "  color: #f1f1f1;\n",
       "}\n",
       "#T_6f597_row9_col12 {\n",
       "  font-size: 6pt;\n",
       "  background-color: #181818;\n",
       "  color: #f1f1f1;\n",
       "}\n",
       "#T_6f597_row9_col13 {\n",
       "  font-size: 6pt;\n",
       "  background-color: #303030;\n",
       "  color: #f1f1f1;\n",
       "}\n",
       "#T_6f597_row9_col14 {\n",
       "  font-size: 6pt;\n",
       "  background-color: #a9a9a9;\n",
       "  color: #f1f1f1;\n",
       "}\n",
       "#T_6f597_row9_col15 {\n",
       "  font-size: 6pt;\n",
       "  background-color: #fefefe;\n",
       "  color: #000000;\n",
       "}\n",
       "#T_6f597_row10_col8, #T_6f597_row10_col9 {\n",
       "  font-size: 6pt;\n",
       "  background-color: #bababa;\n",
       "  color: #000000;\n",
       "}\n",
       "#T_6f597_row10_col10 {\n",
       "  font-size: 6pt;\n",
       "  background-color: #393939;\n",
       "  color: #f1f1f1;\n",
       "}\n",
       "</style>\n",
       "<table id=\"T_6f597_\">\n",
       "  <thead>\n",
       "    <tr>\n",
       "      <th class=\"blank level0\" >&nbsp;</th>\n",
       "      <th class=\"col_heading level0 col0\" >0</th>\n",
       "      <th class=\"col_heading level0 col1\" >1</th>\n",
       "      <th class=\"col_heading level0 col2\" >2</th>\n",
       "      <th class=\"col_heading level0 col3\" >3</th>\n",
       "      <th class=\"col_heading level0 col4\" >4</th>\n",
       "      <th class=\"col_heading level0 col5\" >5</th>\n",
       "      <th class=\"col_heading level0 col6\" >6</th>\n",
       "      <th class=\"col_heading level0 col7\" >7</th>\n",
       "      <th class=\"col_heading level0 col8\" >8</th>\n",
       "      <th class=\"col_heading level0 col9\" >9</th>\n",
       "      <th class=\"col_heading level0 col10\" >10</th>\n",
       "      <th class=\"col_heading level0 col11\" >11</th>\n",
       "      <th class=\"col_heading level0 col12\" >12</th>\n",
       "      <th class=\"col_heading level0 col13\" >13</th>\n",
       "      <th class=\"col_heading level0 col14\" >14</th>\n",
       "      <th class=\"col_heading level0 col15\" >15</th>\n",
       "      <th class=\"col_heading level0 col16\" >16</th>\n",
       "      <th class=\"col_heading level0 col17\" >17</th>\n",
       "    </tr>\n",
       "  </thead>\n",
       "  <tbody>\n",
       "    <tr>\n",
       "      <th id=\"T_6f597_level0_row0\" class=\"row_heading level0 row0\" >0</th>\n",
       "      <td id=\"T_6f597_row0_col0\" class=\"data row0 col0\" >0</td>\n",
       "      <td id=\"T_6f597_row0_col1\" class=\"data row0 col1\" >0</td>\n",
       "      <td id=\"T_6f597_row0_col2\" class=\"data row0 col2\" >0</td>\n",
       "      <td id=\"T_6f597_row0_col3\" class=\"data row0 col3\" >0</td>\n",
       "      <td id=\"T_6f597_row0_col4\" class=\"data row0 col4\" >0</td>\n",
       "      <td id=\"T_6f597_row0_col5\" class=\"data row0 col5\" >0</td>\n",
       "      <td id=\"T_6f597_row0_col6\" class=\"data row0 col6\" >0</td>\n",
       "      <td id=\"T_6f597_row0_col7\" class=\"data row0 col7\" >0</td>\n",
       "      <td id=\"T_6f597_row0_col8\" class=\"data row0 col8\" >0</td>\n",
       "      <td id=\"T_6f597_row0_col9\" class=\"data row0 col9\" >0</td>\n",
       "      <td id=\"T_6f597_row0_col10\" class=\"data row0 col10\" >0</td>\n",
       "      <td id=\"T_6f597_row0_col11\" class=\"data row0 col11\" >0</td>\n",
       "      <td id=\"T_6f597_row0_col12\" class=\"data row0 col12\" >0</td>\n",
       "      <td id=\"T_6f597_row0_col13\" class=\"data row0 col13\" >0</td>\n",
       "      <td id=\"T_6f597_row0_col14\" class=\"data row0 col14\" >0</td>\n",
       "      <td id=\"T_6f597_row0_col15\" class=\"data row0 col15\" >0</td>\n",
       "      <td id=\"T_6f597_row0_col16\" class=\"data row0 col16\" >0</td>\n",
       "      <td id=\"T_6f597_row0_col17\" class=\"data row0 col17\" >0</td>\n",
       "    </tr>\n",
       "    <tr>\n",
       "      <th id=\"T_6f597_level0_row1\" class=\"row_heading level0 row1\" >1</th>\n",
       "      <td id=\"T_6f597_row1_col0\" class=\"data row1 col0\" >0</td>\n",
       "      <td id=\"T_6f597_row1_col1\" class=\"data row1 col1\" >0</td>\n",
       "      <td id=\"T_6f597_row1_col2\" class=\"data row1 col2\" >0</td>\n",
       "      <td id=\"T_6f597_row1_col3\" class=\"data row1 col3\" >0</td>\n",
       "      <td id=\"T_6f597_row1_col4\" class=\"data row1 col4\" >0</td>\n",
       "      <td id=\"T_6f597_row1_col5\" class=\"data row1 col5\" >29</td>\n",
       "      <td id=\"T_6f597_row1_col6\" class=\"data row1 col6\" >150</td>\n",
       "      <td id=\"T_6f597_row1_col7\" class=\"data row1 col7\" >195</td>\n",
       "      <td id=\"T_6f597_row1_col8\" class=\"data row1 col8\" >254</td>\n",
       "      <td id=\"T_6f597_row1_col9\" class=\"data row1 col9\" >255</td>\n",
       "      <td id=\"T_6f597_row1_col10\" class=\"data row1 col10\" >254</td>\n",
       "      <td id=\"T_6f597_row1_col11\" class=\"data row1 col11\" >176</td>\n",
       "      <td id=\"T_6f597_row1_col12\" class=\"data row1 col12\" >193</td>\n",
       "      <td id=\"T_6f597_row1_col13\" class=\"data row1 col13\" >150</td>\n",
       "      <td id=\"T_6f597_row1_col14\" class=\"data row1 col14\" >96</td>\n",
       "      <td id=\"T_6f597_row1_col15\" class=\"data row1 col15\" >0</td>\n",
       "      <td id=\"T_6f597_row1_col16\" class=\"data row1 col16\" >0</td>\n",
       "      <td id=\"T_6f597_row1_col17\" class=\"data row1 col17\" >0</td>\n",
       "    </tr>\n",
       "    <tr>\n",
       "      <th id=\"T_6f597_level0_row2\" class=\"row_heading level0 row2\" >2</th>\n",
       "      <td id=\"T_6f597_row2_col0\" class=\"data row2 col0\" >0</td>\n",
       "      <td id=\"T_6f597_row2_col1\" class=\"data row2 col1\" >0</td>\n",
       "      <td id=\"T_6f597_row2_col2\" class=\"data row2 col2\" >0</td>\n",
       "      <td id=\"T_6f597_row2_col3\" class=\"data row2 col3\" >48</td>\n",
       "      <td id=\"T_6f597_row2_col4\" class=\"data row2 col4\" >166</td>\n",
       "      <td id=\"T_6f597_row2_col5\" class=\"data row2 col5\" >224</td>\n",
       "      <td id=\"T_6f597_row2_col6\" class=\"data row2 col6\" >253</td>\n",
       "      <td id=\"T_6f597_row2_col7\" class=\"data row2 col7\" >253</td>\n",
       "      <td id=\"T_6f597_row2_col8\" class=\"data row2 col8\" >234</td>\n",
       "      <td id=\"T_6f597_row2_col9\" class=\"data row2 col9\" >196</td>\n",
       "      <td id=\"T_6f597_row2_col10\" class=\"data row2 col10\" >253</td>\n",
       "      <td id=\"T_6f597_row2_col11\" class=\"data row2 col11\" >253</td>\n",
       "      <td id=\"T_6f597_row2_col12\" class=\"data row2 col12\" >253</td>\n",
       "      <td id=\"T_6f597_row2_col13\" class=\"data row2 col13\" >253</td>\n",
       "      <td id=\"T_6f597_row2_col14\" class=\"data row2 col14\" >233</td>\n",
       "      <td id=\"T_6f597_row2_col15\" class=\"data row2 col15\" >0</td>\n",
       "      <td id=\"T_6f597_row2_col16\" class=\"data row2 col16\" >0</td>\n",
       "      <td id=\"T_6f597_row2_col17\" class=\"data row2 col17\" >0</td>\n",
       "    </tr>\n",
       "    <tr>\n",
       "      <th id=\"T_6f597_level0_row3\" class=\"row_heading level0 row3\" >3</th>\n",
       "      <td id=\"T_6f597_row3_col0\" class=\"data row3 col0\" >0</td>\n",
       "      <td id=\"T_6f597_row3_col1\" class=\"data row3 col1\" >93</td>\n",
       "      <td id=\"T_6f597_row3_col2\" class=\"data row3 col2\" >244</td>\n",
       "      <td id=\"T_6f597_row3_col3\" class=\"data row3 col3\" >249</td>\n",
       "      <td id=\"T_6f597_row3_col4\" class=\"data row3 col4\" >253</td>\n",
       "      <td id=\"T_6f597_row3_col5\" class=\"data row3 col5\" >187</td>\n",
       "      <td id=\"T_6f597_row3_col6\" class=\"data row3 col6\" >46</td>\n",
       "      <td id=\"T_6f597_row3_col7\" class=\"data row3 col7\" >10</td>\n",
       "      <td id=\"T_6f597_row3_col8\" class=\"data row3 col8\" >8</td>\n",
       "      <td id=\"T_6f597_row3_col9\" class=\"data row3 col9\" >4</td>\n",
       "      <td id=\"T_6f597_row3_col10\" class=\"data row3 col10\" >10</td>\n",
       "      <td id=\"T_6f597_row3_col11\" class=\"data row3 col11\" >194</td>\n",
       "      <td id=\"T_6f597_row3_col12\" class=\"data row3 col12\" >253</td>\n",
       "      <td id=\"T_6f597_row3_col13\" class=\"data row3 col13\" >253</td>\n",
       "      <td id=\"T_6f597_row3_col14\" class=\"data row3 col14\" >233</td>\n",
       "      <td id=\"T_6f597_row3_col15\" class=\"data row3 col15\" >0</td>\n",
       "      <td id=\"T_6f597_row3_col16\" class=\"data row3 col16\" >0</td>\n",
       "      <td id=\"T_6f597_row3_col17\" class=\"data row3 col17\" >0</td>\n",
       "    </tr>\n",
       "    <tr>\n",
       "      <th id=\"T_6f597_level0_row4\" class=\"row_heading level0 row4\" >4</th>\n",
       "      <td id=\"T_6f597_row4_col0\" class=\"data row4 col0\" >0</td>\n",
       "      <td id=\"T_6f597_row4_col1\" class=\"data row4 col1\" >107</td>\n",
       "      <td id=\"T_6f597_row4_col2\" class=\"data row4 col2\" >253</td>\n",
       "      <td id=\"T_6f597_row4_col3\" class=\"data row4 col3\" >253</td>\n",
       "      <td id=\"T_6f597_row4_col4\" class=\"data row4 col4\" >230</td>\n",
       "      <td id=\"T_6f597_row4_col5\" class=\"data row4 col5\" >48</td>\n",
       "      <td id=\"T_6f597_row4_col6\" class=\"data row4 col6\" >0</td>\n",
       "      <td id=\"T_6f597_row4_col7\" class=\"data row4 col7\" >0</td>\n",
       "      <td id=\"T_6f597_row4_col8\" class=\"data row4 col8\" >0</td>\n",
       "      <td id=\"T_6f597_row4_col9\" class=\"data row4 col9\" >0</td>\n",
       "      <td id=\"T_6f597_row4_col10\" class=\"data row4 col10\" >0</td>\n",
       "      <td id=\"T_6f597_row4_col11\" class=\"data row4 col11\" >192</td>\n",
       "      <td id=\"T_6f597_row4_col12\" class=\"data row4 col12\" >253</td>\n",
       "      <td id=\"T_6f597_row4_col13\" class=\"data row4 col13\" >253</td>\n",
       "      <td id=\"T_6f597_row4_col14\" class=\"data row4 col14\" >156</td>\n",
       "      <td id=\"T_6f597_row4_col15\" class=\"data row4 col15\" >0</td>\n",
       "      <td id=\"T_6f597_row4_col16\" class=\"data row4 col16\" >0</td>\n",
       "      <td id=\"T_6f597_row4_col17\" class=\"data row4 col17\" >0</td>\n",
       "    </tr>\n",
       "    <tr>\n",
       "      <th id=\"T_6f597_level0_row5\" class=\"row_heading level0 row5\" >5</th>\n",
       "      <td id=\"T_6f597_row5_col0\" class=\"data row5 col0\" >0</td>\n",
       "      <td id=\"T_6f597_row5_col1\" class=\"data row5 col1\" >3</td>\n",
       "      <td id=\"T_6f597_row5_col2\" class=\"data row5 col2\" >20</td>\n",
       "      <td id=\"T_6f597_row5_col3\" class=\"data row5 col3\" >20</td>\n",
       "      <td id=\"T_6f597_row5_col4\" class=\"data row5 col4\" >15</td>\n",
       "      <td id=\"T_6f597_row5_col5\" class=\"data row5 col5\" >0</td>\n",
       "      <td id=\"T_6f597_row5_col6\" class=\"data row5 col6\" >0</td>\n",
       "      <td id=\"T_6f597_row5_col7\" class=\"data row5 col7\" >0</td>\n",
       "      <td id=\"T_6f597_row5_col8\" class=\"data row5 col8\" >0</td>\n",
       "      <td id=\"T_6f597_row5_col9\" class=\"data row5 col9\" >0</td>\n",
       "      <td id=\"T_6f597_row5_col10\" class=\"data row5 col10\" >43</td>\n",
       "      <td id=\"T_6f597_row5_col11\" class=\"data row5 col11\" >224</td>\n",
       "      <td id=\"T_6f597_row5_col12\" class=\"data row5 col12\" >253</td>\n",
       "      <td id=\"T_6f597_row5_col13\" class=\"data row5 col13\" >245</td>\n",
       "      <td id=\"T_6f597_row5_col14\" class=\"data row5 col14\" >74</td>\n",
       "      <td id=\"T_6f597_row5_col15\" class=\"data row5 col15\" >0</td>\n",
       "      <td id=\"T_6f597_row5_col16\" class=\"data row5 col16\" >0</td>\n",
       "      <td id=\"T_6f597_row5_col17\" class=\"data row5 col17\" >0</td>\n",
       "    </tr>\n",
       "    <tr>\n",
       "      <th id=\"T_6f597_level0_row6\" class=\"row_heading level0 row6\" >6</th>\n",
       "      <td id=\"T_6f597_row6_col0\" class=\"data row6 col0\" >0</td>\n",
       "      <td id=\"T_6f597_row6_col1\" class=\"data row6 col1\" >0</td>\n",
       "      <td id=\"T_6f597_row6_col2\" class=\"data row6 col2\" >0</td>\n",
       "      <td id=\"T_6f597_row6_col3\" class=\"data row6 col3\" >0</td>\n",
       "      <td id=\"T_6f597_row6_col4\" class=\"data row6 col4\" >0</td>\n",
       "      <td id=\"T_6f597_row6_col5\" class=\"data row6 col5\" >0</td>\n",
       "      <td id=\"T_6f597_row6_col6\" class=\"data row6 col6\" >0</td>\n",
       "      <td id=\"T_6f597_row6_col7\" class=\"data row6 col7\" >0</td>\n",
       "      <td id=\"T_6f597_row6_col8\" class=\"data row6 col8\" >0</td>\n",
       "      <td id=\"T_6f597_row6_col9\" class=\"data row6 col9\" >0</td>\n",
       "      <td id=\"T_6f597_row6_col10\" class=\"data row6 col10\" >249</td>\n",
       "      <td id=\"T_6f597_row6_col11\" class=\"data row6 col11\" >253</td>\n",
       "      <td id=\"T_6f597_row6_col12\" class=\"data row6 col12\" >245</td>\n",
       "      <td id=\"T_6f597_row6_col13\" class=\"data row6 col13\" >126</td>\n",
       "      <td id=\"T_6f597_row6_col14\" class=\"data row6 col14\" >0</td>\n",
       "      <td id=\"T_6f597_row6_col15\" class=\"data row6 col15\" >0</td>\n",
       "      <td id=\"T_6f597_row6_col16\" class=\"data row6 col16\" >0</td>\n",
       "      <td id=\"T_6f597_row6_col17\" class=\"data row6 col17\" >0</td>\n",
       "    </tr>\n",
       "    <tr>\n",
       "      <th id=\"T_6f597_level0_row7\" class=\"row_heading level0 row7\" >7</th>\n",
       "      <td id=\"T_6f597_row7_col0\" class=\"data row7 col0\" >0</td>\n",
       "      <td id=\"T_6f597_row7_col1\" class=\"data row7 col1\" >0</td>\n",
       "      <td id=\"T_6f597_row7_col2\" class=\"data row7 col2\" >0</td>\n",
       "      <td id=\"T_6f597_row7_col3\" class=\"data row7 col3\" >0</td>\n",
       "      <td id=\"T_6f597_row7_col4\" class=\"data row7 col4\" >0</td>\n",
       "      <td id=\"T_6f597_row7_col5\" class=\"data row7 col5\" >0</td>\n",
       "      <td id=\"T_6f597_row7_col6\" class=\"data row7 col6\" >0</td>\n",
       "      <td id=\"T_6f597_row7_col7\" class=\"data row7 col7\" >14</td>\n",
       "      <td id=\"T_6f597_row7_col8\" class=\"data row7 col8\" >101</td>\n",
       "      <td id=\"T_6f597_row7_col9\" class=\"data row7 col9\" >223</td>\n",
       "      <td id=\"T_6f597_row7_col10\" class=\"data row7 col10\" >253</td>\n",
       "      <td id=\"T_6f597_row7_col11\" class=\"data row7 col11\" >248</td>\n",
       "      <td id=\"T_6f597_row7_col12\" class=\"data row7 col12\" >124</td>\n",
       "      <td id=\"T_6f597_row7_col13\" class=\"data row7 col13\" >0</td>\n",
       "      <td id=\"T_6f597_row7_col14\" class=\"data row7 col14\" >0</td>\n",
       "      <td id=\"T_6f597_row7_col15\" class=\"data row7 col15\" >0</td>\n",
       "      <td id=\"T_6f597_row7_col16\" class=\"data row7 col16\" >0</td>\n",
       "      <td id=\"T_6f597_row7_col17\" class=\"data row7 col17\" >0</td>\n",
       "    </tr>\n",
       "    <tr>\n",
       "      <th id=\"T_6f597_level0_row8\" class=\"row_heading level0 row8\" >8</th>\n",
       "      <td id=\"T_6f597_row8_col0\" class=\"data row8 col0\" >0</td>\n",
       "      <td id=\"T_6f597_row8_col1\" class=\"data row8 col1\" >0</td>\n",
       "      <td id=\"T_6f597_row8_col2\" class=\"data row8 col2\" >0</td>\n",
       "      <td id=\"T_6f597_row8_col3\" class=\"data row8 col3\" >0</td>\n",
       "      <td id=\"T_6f597_row8_col4\" class=\"data row8 col4\" >0</td>\n",
       "      <td id=\"T_6f597_row8_col5\" class=\"data row8 col5\" >11</td>\n",
       "      <td id=\"T_6f597_row8_col6\" class=\"data row8 col6\" >166</td>\n",
       "      <td id=\"T_6f597_row8_col7\" class=\"data row8 col7\" >239</td>\n",
       "      <td id=\"T_6f597_row8_col8\" class=\"data row8 col8\" >253</td>\n",
       "      <td id=\"T_6f597_row8_col9\" class=\"data row8 col9\" >253</td>\n",
       "      <td id=\"T_6f597_row8_col10\" class=\"data row8 col10\" >253</td>\n",
       "      <td id=\"T_6f597_row8_col11\" class=\"data row8 col11\" >187</td>\n",
       "      <td id=\"T_6f597_row8_col12\" class=\"data row8 col12\" >30</td>\n",
       "      <td id=\"T_6f597_row8_col13\" class=\"data row8 col13\" >0</td>\n",
       "      <td id=\"T_6f597_row8_col14\" class=\"data row8 col14\" >0</td>\n",
       "      <td id=\"T_6f597_row8_col15\" class=\"data row8 col15\" >0</td>\n",
       "      <td id=\"T_6f597_row8_col16\" class=\"data row8 col16\" >0</td>\n",
       "      <td id=\"T_6f597_row8_col17\" class=\"data row8 col17\" >0</td>\n",
       "    </tr>\n",
       "    <tr>\n",
       "      <th id=\"T_6f597_level0_row9\" class=\"row_heading level0 row9\" >9</th>\n",
       "      <td id=\"T_6f597_row9_col0\" class=\"data row9 col0\" >0</td>\n",
       "      <td id=\"T_6f597_row9_col1\" class=\"data row9 col1\" >0</td>\n",
       "      <td id=\"T_6f597_row9_col2\" class=\"data row9 col2\" >0</td>\n",
       "      <td id=\"T_6f597_row9_col3\" class=\"data row9 col3\" >0</td>\n",
       "      <td id=\"T_6f597_row9_col4\" class=\"data row9 col4\" >0</td>\n",
       "      <td id=\"T_6f597_row9_col5\" class=\"data row9 col5\" >16</td>\n",
       "      <td id=\"T_6f597_row9_col6\" class=\"data row9 col6\" >248</td>\n",
       "      <td id=\"T_6f597_row9_col7\" class=\"data row9 col7\" >250</td>\n",
       "      <td id=\"T_6f597_row9_col8\" class=\"data row9 col8\" >253</td>\n",
       "      <td id=\"T_6f597_row9_col9\" class=\"data row9 col9\" >253</td>\n",
       "      <td id=\"T_6f597_row9_col10\" class=\"data row9 col10\" >253</td>\n",
       "      <td id=\"T_6f597_row9_col11\" class=\"data row9 col11\" >253</td>\n",
       "      <td id=\"T_6f597_row9_col12\" class=\"data row9 col12\" >232</td>\n",
       "      <td id=\"T_6f597_row9_col13\" class=\"data row9 col13\" >213</td>\n",
       "      <td id=\"T_6f597_row9_col14\" class=\"data row9 col14\" >111</td>\n",
       "      <td id=\"T_6f597_row9_col15\" class=\"data row9 col15\" >2</td>\n",
       "      <td id=\"T_6f597_row9_col16\" class=\"data row9 col16\" >0</td>\n",
       "      <td id=\"T_6f597_row9_col17\" class=\"data row9 col17\" >0</td>\n",
       "    </tr>\n",
       "    <tr>\n",
       "      <th id=\"T_6f597_level0_row10\" class=\"row_heading level0 row10\" >10</th>\n",
       "      <td id=\"T_6f597_row10_col0\" class=\"data row10 col0\" >0</td>\n",
       "      <td id=\"T_6f597_row10_col1\" class=\"data row10 col1\" >0</td>\n",
       "      <td id=\"T_6f597_row10_col2\" class=\"data row10 col2\" >0</td>\n",
       "      <td id=\"T_6f597_row10_col3\" class=\"data row10 col3\" >0</td>\n",
       "      <td id=\"T_6f597_row10_col4\" class=\"data row10 col4\" >0</td>\n",
       "      <td id=\"T_6f597_row10_col5\" class=\"data row10 col5\" >0</td>\n",
       "      <td id=\"T_6f597_row10_col6\" class=\"data row10 col6\" >0</td>\n",
       "      <td id=\"T_6f597_row10_col7\" class=\"data row10 col7\" >43</td>\n",
       "      <td id=\"T_6f597_row10_col8\" class=\"data row10 col8\" >98</td>\n",
       "      <td id=\"T_6f597_row10_col9\" class=\"data row10 col9\" >98</td>\n",
       "      <td id=\"T_6f597_row10_col10\" class=\"data row10 col10\" >208</td>\n",
       "      <td id=\"T_6f597_row10_col11\" class=\"data row10 col11\" >253</td>\n",
       "      <td id=\"T_6f597_row10_col12\" class=\"data row10 col12\" >253</td>\n",
       "      <td id=\"T_6f597_row10_col13\" class=\"data row10 col13\" >253</td>\n",
       "      <td id=\"T_6f597_row10_col14\" class=\"data row10 col14\" >253</td>\n",
       "      <td id=\"T_6f597_row10_col15\" class=\"data row10 col15\" >187</td>\n",
       "      <td id=\"T_6f597_row10_col16\" class=\"data row10 col16\" >22</td>\n",
       "      <td id=\"T_6f597_row10_col17\" class=\"data row10 col17\" >0</td>\n",
       "    </tr>\n",
       "  </tbody>\n",
       "</table>\n"
      ],
      "text/plain": [
       "<pandas.io.formats.style.Styler at 0x7f1e1bf4f550>"
      ]
     },
     "execution_count": 9,
     "metadata": {},
     "output_type": "execute_result"
    }
   ],
   "source": [
    "im3_t = tensor(im3)\n",
    "df = pd.DataFrame(im3_t[4:15,4:22])\n",
    "df.style.set_properties(**{'font-size':'6pt'}).background_gradient('Greys')"
   ]
  },
  {
   "cell_type": "markdown",
   "id": "9fac9a35",
   "metadata": {
    "papermill": {
     "duration": 0.038295,
     "end_time": "2023-03-15T09:28:26.575011",
     "exception": false,
     "start_time": "2023-03-15T09:28:26.536716",
     "status": "completed"
    },
    "tags": []
   },
   "source": [
    "You can see that the background white pixels are stored as the number 0, black is the number 255, and shades of gray are between the two. The entire image contains 28 pixels across and 28 pixels down, for a total of 784 pixels. (This is much smaller than an image that you would get from a phone camera, which has millions of pixels, but is a convenient size for our initial learning and experiments. We will build up to bigger, full-color images soon.)\n",
    "\n",
    "So, now you've seen what an image looks like to a computer, let's recall our goal: create a model that can recognize 3s and 7s. How might you go about getting a computer to do that?\n",
    "\n",
    "## Stochastic Gradient Descent (SGD)\n",
    "\n",
    "Do you remember the way that Arthur Samuel described machine learning, which we quoted in the intro?\n",
    "\n",
    "> Suppose we arrange for some automatic means of testing the effectiveness of any current weight assignment in terms of actual performance and provide a mechanism for altering the weight assignment so as to maximize the performance. We need not go into the details of such a procedure to see that it could be made entirely automatic and to see that a machine so programmed would \"learn\" from its experience.\n",
    "\n",
    "As we discussed, this is the key to allowing us to have a model that can get better and better—that can learn. In order to take advantage of the power of deep learning, we will first have to represent our task in the way that Arthur Samuel described it.\n",
    "\n",
    "We could look at each individual pixel and come up with a set of weights for each one, such that the highest weights are associated with those pixels most likely to be black for a particular category. For instance, pixels toward the bottom right are not very likely to be activated for a 7, so they should have a low weight for a 7, but they are likely to be activated for an 8, so they should have a high weight for an 8. This can be represented as a function and set of weight values for each possible category—for instance the probability of being the number 8:\n",
    "\n",
    "```\n",
    "def pr_eight(x,w): return (x*w).sum()\n",
    "```\n",
    "Here we are assuming that `x` is the image, represented as a vector—in other words, with all of the rows stacked up end to end into a single long line. And we are assuming that the weights are a vector `w`. If we have this function, then we just need some way to update the weights to make them a little bit better. With such an approach, we can repeat that step a number of times, making the weights better and better, until they are as good as we can make them.\n",
    "\n",
    "We want to find the specific values for the vector `w` that causes the result of our function to be high for those images that are actually 8s, and low for those images that are not. Searching for the best vector `w` is a way to search for the best function for recognising 8s. (Because we are not yet using a deep neural network, we are limited by what our function can actually do—we are going to fix that constraint later in this chapter.) \n",
    "\n",
    "To be more specific, here are the steps that we are going to require, to turn this function into a machine learning classifier:\n",
    "\n",
    "1. *Initialize* the weights.\n",
    "1. For each image, use these weights to *predict* whether it appears to be a 3 or a 7.\n",
    "1. Based on these predictions, calculate how good the model is (its *loss*).\n",
    "1. Calculate the *gradient*, which measures for each weight, how changing that weight would change the loss\n",
    "1. *Step* (that is, change) all the weights based on that calculation.\n",
    "1. Go back to the step 2, and *repeat* the process.\n",
    "1. Iterate until you decide to *stop* the training process (for instance, because the model is good enough or you don't want to wait any longer).\n",
    "\n",
    "These seven steps, illustrated below, are the key to the training of all deep learning models. That deep learning turns out to rely entirely on these steps is extremely surprising and counterintuitive. It's amazing that this process can solve such complex problems. But, as you'll see, it really does!"
   ]
  },
  {
   "cell_type": "markdown",
   "id": "0b348871",
   "metadata": {
    "papermill": {
     "duration": 0.037883,
     "end_time": "2023-03-15T09:28:26.650629",
     "exception": false,
     "start_time": "2023-03-15T09:28:26.612746",
     "status": "completed"
    },
    "tags": []
   },
   "source": [
    "<img alt=\"diagram\" src=\"https://i.ibb.co/y52JWJv/Screenshot-2023-03-15-101619.png\"/>"
   ]
  },
  {
   "cell_type": "markdown",
   "id": "0e153d5e",
   "metadata": {
    "papermill": {
     "duration": 0.037513,
     "end_time": "2023-03-15T09:28:26.726872",
     "exception": false,
     "start_time": "2023-03-15T09:28:26.689359",
     "status": "completed"
    },
    "tags": []
   },
   "source": [
    "There are many different ways to do each of these seven steps, and we will be learning about them throughout the rest of this class. These are the details that make a big difference for deep learning practitioners, but it turns out that the general approach to each one generally follows some basic principles. Here are a few guidelines:\n",
    "\n",
    "- Initialize: We initialize the parameters to random values. This may sound surprising. There are certainly other choices we could make, such as initializing them to the percentage of times that pixel is activated for that category—but since we already know that we have a routine to improve these weights, it turns out that just starting with random weights works perfectly well.\n",
    "- Loss: This is what Samuel referred to when he spoke of *testing the effectiveness of any current weight assignment in terms of actual performance*. We need some function that will return a number that is small if the performance of the model is good (the standard approach is to treat a small loss as good, and a large loss as bad, although this is just a convention).\n",
    "- Step: A simple way to figure out whether a weight should be increased a bit, or decreased a bit, would be just to try it: increase the weight by a small amount, and see if the loss goes up or down. Once you find the correct direction, you could then change that amount by a bit more, and a bit less, until you find an amount that works well. However, this is slow! As we will see, the magic of calculus allows us to directly figure out in which direction, and by roughly how much, to change each weight, without having to try all these small changes. The way to do this is by calculating *gradients*. This is just a performance optimization, we would get exactly the same results by using the slower manual process as well.\n",
    "- Stop: Once we've decided how many epochs to train the model for (a few suggestions for this were given in the earlier list), we apply that decision. This is where that decision is applied. For our digit classifier, we would keep training until the accuracy of the model started getting worse, or we ran out of time."
   ]
  },
  {
   "cell_type": "markdown",
   "id": "7480b5b8",
   "metadata": {
    "papermill": {
     "duration": 0.036548,
     "end_time": "2023-03-15T09:28:26.800481",
     "exception": false,
     "start_time": "2023-03-15T09:28:26.763933",
     "status": "completed"
    },
    "tags": []
   },
   "source": [
    "Before applying these steps to our image classification problem, let's illustrate what they look like in a simpler case. First we will define a very simple function, the quadratic—let's pretend that this is our loss function, and `x` is a weight parameter of the function:"
   ]
  },
  {
   "cell_type": "code",
   "execution_count": 10,
   "id": "3d1c709b",
   "metadata": {
    "execution": {
     "iopub.execute_input": "2023-03-15T09:28:26.875495Z",
     "iopub.status.busy": "2023-03-15T09:28:26.875124Z",
     "iopub.status.idle": "2023-03-15T09:28:26.879394Z",
     "shell.execute_reply": "2023-03-15T09:28:26.878188Z"
    },
    "papermill": {
     "duration": 0.04446,
     "end_time": "2023-03-15T09:28:26.881827",
     "exception": false,
     "start_time": "2023-03-15T09:28:26.837367",
     "status": "completed"
    },
    "tags": []
   },
   "outputs": [],
   "source": [
    "def f(x): \n",
    "    return x**2"
   ]
  },
  {
   "cell_type": "code",
   "execution_count": 11,
   "id": "aa00eae9",
   "metadata": {
    "execution": {
     "iopub.execute_input": "2023-03-15T09:28:26.957225Z",
     "iopub.status.busy": "2023-03-15T09:28:26.956647Z",
     "iopub.status.idle": "2023-03-15T09:28:26.962193Z",
     "shell.execute_reply": "2023-03-15T09:28:26.961444Z"
    },
    "papermill": {
     "duration": 0.04607,
     "end_time": "2023-03-15T09:28:26.964281",
     "exception": false,
     "start_time": "2023-03-15T09:28:26.918211",
     "status": "completed"
    },
    "tags": []
   },
   "outputs": [],
   "source": [
    "def plot_function(f, tx=None, ty=None, title=None, min_=-2, max_=2, figsize=(6,4)):\n",
    "    x = torch.linspace(min_,max_,steps=100)\n",
    "    fig,ax = plt.subplots(figsize=figsize)\n",
    "    ax.plot(x,f(x))\n",
    "    if tx is not None: ax.set_xlabel(tx)\n",
    "    if ty is not None: ax.set_ylabel(ty)\n",
    "    if title is not None: ax.set_title(title)"
   ]
  },
  {
   "cell_type": "code",
   "execution_count": 12,
   "id": "87e836e3",
   "metadata": {
    "execution": {
     "iopub.execute_input": "2023-03-15T09:28:27.040350Z",
     "iopub.status.busy": "2023-03-15T09:28:27.039997Z",
     "iopub.status.idle": "2023-03-15T09:28:27.249827Z",
     "shell.execute_reply": "2023-03-15T09:28:27.248883Z"
    },
    "papermill": {
     "duration": 0.250829,
     "end_time": "2023-03-15T09:28:27.251905",
     "exception": false,
     "start_time": "2023-03-15T09:28:27.001076",
     "status": "completed"
    },
    "tags": []
   },
   "outputs": [
    {
     "data": {
      "image/png": "[encoded data removed]",
      "text/plain": [
       "<Figure size 600x400 with 1 Axes>"
      ]
     },
     "metadata": {},
     "output_type": "display_data"
    }
   ],
   "source": [
    "# Here is a graph of that function:\n",
    "plot_function(f, 'x', 'x**2')"
   ]
  },
  {
   "cell_type": "markdown",
   "id": "c1c601ae",
   "metadata": {
    "papermill": {
     "duration": 0.037977,
     "end_time": "2023-03-15T09:28:27.327670",
     "exception": false,
     "start_time": "2023-03-15T09:28:27.289693",
     "status": "completed"
    },
    "tags": []
   },
   "source": [
    "The sequence of steps we described earlier starts by picking some random value for a parameter, and calculating the value of the loss:"
   ]
  },
  {
   "cell_type": "code",
   "execution_count": 13,
   "id": "11608b18",
   "metadata": {
    "execution": {
     "iopub.execute_input": "2023-03-15T09:28:27.404868Z",
     "iopub.status.busy": "2023-03-15T09:28:27.403613Z",
     "iopub.status.idle": "2023-03-15T09:28:27.601504Z",
     "shell.execute_reply": "2023-03-15T09:28:27.600694Z"
    },
    "papermill": {
     "duration": 0.239057,
     "end_time": "2023-03-15T09:28:27.603873",
     "exception": false,
     "start_time": "2023-03-15T09:28:27.364816",
     "status": "completed"
    },
    "tags": []
   },
   "outputs": [
    {
     "data": {
      "image/png": "[encoded data removed]",
      "text/plain": [
       "<Figure size 600x400 with 1 Axes>"
      ]
     },
     "metadata": {},
     "output_type": "display_data"
    }
   ],
   "source": [
    "plot_function(f, 'x', 'x**2')\n",
    "plt.scatter(-1.5, f(-1.5), color='red');"
   ]
  },
  {
   "cell_type": "markdown",
   "id": "0eb6c579",
   "metadata": {
    "papermill": {
     "duration": 0.038215,
     "end_time": "2023-03-15T09:28:27.680321",
     "exception": false,
     "start_time": "2023-03-15T09:28:27.642106",
     "status": "completed"
    },
    "tags": []
   },
   "source": [
    "Now we look to see what would happen if we increased or decreased our parameter by a little bit—the *adjustment*. This is simply the slope at a particular point:\n",
    "\n",
    "<img alt=\"A graph showing the squared function with the slope at one point\" width=\"400\" src=\"https://raw.githubusercontent.com/fastai/fastbook/master/images/grad_illustration.svg\"/>\n",
    "\n",
    "We can change our weight by a little in the direction of the slope, calculate our loss and adjustment again, and repeat this a few times. Eventually, we will get to the lowest point on our curve:\n",
    "\n",
    "<img alt=\"An illustration of gradient descent\" width=\"400\" src=\"https://raw.githubusercontent.com/fastai/fastbook/master/images/chapter2_perfect.svg\"/>\n",
    "\n",
    "This basic idea goes all the way back to Isaac Newton, who pointed out that we can optimize arbitrary functions in this way. Regardless of how complicated our functions become, this basic approach of gradient descent will not significantly change. The only minor changes we will see later in this book are some handy ways we can make it faster, by finding better steps."
   ]
  },
  {
   "cell_type": "markdown",
   "id": "d46f4d2b",
   "metadata": {
    "papermill": {
     "duration": 0.03765,
     "end_time": "2023-03-15T09:28:27.758293",
     "exception": false,
     "start_time": "2023-03-15T09:28:27.720643",
     "status": "completed"
    },
    "tags": []
   },
   "source": [
    "### Calculating Gradients\n",
    "The one magic step is the bit where we calculate the gradients. As we mentioned, we use calculus as a performance optimization; it allows us to more quickly calculate whether our loss will go up or down when we adjust our parameters up or down. In other words, the gradients will tell us how much we have to change each weight to make our model better.\n",
    "\n",
    "You may remember from your high school calculus class that the *derivative* of a function tells you how much a change in its parameters will change its result.\n",
    "\n",
    "The key point about a derivative is this: for any function, such as the quadratic function we saw in the previous section, we can calculate its derivative. The derivative is another function. It calculates the change, rather than the value. For instance, the derivative of the quadratic function at the value 3 tells us how rapidly the function changes at the value 3. More specifically, you may recall that gradient is defined as *rise/run*, that is, the change in the value of the function, divided by the change in the value of the parameter. When we know how our function will change, then we know what we need to do to make it smaller. This is the key to machine learning: having a way to change the parameters of a function to make it smaller. Calculus provides us with a computational shortcut, the derivative, which lets us directly calculate the gradients of our functions.\n",
    "\n",
    "One important thing to be aware of is that our function has lots of weights that we need to adjust, so when we calculate the derivative we won't get back one number, but lots of them—a gradient for every weight. But there is nothing mathematically tricky here; you can calculate the derivative with respect to one weight, and treat all the other ones as constant, then repeat that for each other weight. This is how all of the gradients are calculated, for every weight.\n",
    "\n",
    "We mentioned just now that you won't have to calculate any gradients yourself. How can that be? Amazingly enough, PyTorch is able to automatically compute the derivative of nearly any function! What's more, it does it very fast. Most of the time, it will be at least as fast as any derivative function that you can create by hand. Let's see an example.\n",
    "\n",
    "First, let's pick a tensor value which we want gradients at:"
   ]
  },
  {
   "cell_type": "code",
   "execution_count": 14,
   "id": "81f185b0",
   "metadata": {
    "execution": {
     "iopub.execute_input": "2023-03-15T09:28:27.837628Z",
     "iopub.status.busy": "2023-03-15T09:28:27.836331Z",
     "iopub.status.idle": "2023-03-15T09:28:27.841588Z",
     "shell.execute_reply": "2023-03-15T09:28:27.840793Z"
    },
    "papermill": {
     "duration": 0.047291,
     "end_time": "2023-03-15T09:28:27.843496",
     "exception": false,
     "start_time": "2023-03-15T09:28:27.796205",
     "status": "completed"
    },
    "tags": []
   },
   "outputs": [],
   "source": [
    "xt = tensor(3.).requires_grad_()"
   ]
  },
  {
   "cell_type": "code",
   "execution_count": 15,
   "id": "35d98142",
   "metadata": {
    "execution": {
     "iopub.execute_input": "2023-03-15T09:28:27.921547Z",
     "iopub.status.busy": "2023-03-15T09:28:27.921183Z",
     "iopub.status.idle": "2023-03-15T09:28:27.966131Z",
     "shell.execute_reply": "2023-03-15T09:28:27.964903Z"
    },
    "papermill": {
     "duration": 0.086593,
     "end_time": "2023-03-15T09:28:27.968123",
     "exception": false,
     "start_time": "2023-03-15T09:28:27.881530",
     "status": "completed"
    },
    "tags": []
   },
   "outputs": [
    {
     "data": {
      "text/plain": [
       "tensor(3., requires_grad=True)"
      ]
     },
     "execution_count": 15,
     "metadata": {},
     "output_type": "execute_result"
    }
   ],
   "source": [
    "xt"
   ]
  },
  {
   "cell_type": "markdown",
   "id": "ef795ec2",
   "metadata": {
    "papermill": {
     "duration": 0.038525,
     "end_time": "2023-03-15T09:28:28.045153",
     "exception": false,
     "start_time": "2023-03-15T09:28:28.006628",
     "status": "completed"
    },
    "tags": []
   },
   "source": [
    "Notice the special method `requires_grad_`? That's the magical incantation we use to tell PyTorch that we want to calculate gradients with respect to that variable at that value. It is essentially tagging the variable, so PyTorch will remember to keep track of how to compute gradients of the other, direct calculations on it that you will ask for.\n",
    "\n",
    "> This API might throw you off if you're coming from math or physics. In those contexts the \"gradient\" of a function is just another function (i.e., its derivative), so you might expect gradient-related APIs to give you a new function. But in deep learning, \"gradients\" usually means the _value_ of a function's derivative at a particular argument value. The PyTorch API also puts the focus on the argument, not the function you're actually computing the gradients of. It may feel backwards at first, but it's just a different perspective.\n",
    "\n",
    "Now we calculate our function with that value. Notice how PyTorch prints not just the value calculated, but also a note that it has a gradient function it'll be using to calculate our gradients when needed:"
   ]
  },
  {
   "cell_type": "code",
   "execution_count": 16,
   "id": "b8dc7603",
   "metadata": {
    "execution": {
     "iopub.execute_input": "2023-03-15T09:28:28.125403Z",
     "iopub.status.busy": "2023-03-15T09:28:28.124737Z",
     "iopub.status.idle": "2023-03-15T09:28:28.136388Z",
     "shell.execute_reply": "2023-03-15T09:28:28.134651Z"
    },
    "papermill": {
     "duration": 0.055541,
     "end_time": "2023-03-15T09:28:28.138949",
     "exception": false,
     "start_time": "2023-03-15T09:28:28.083408",
     "status": "completed"
    },
    "tags": []
   },
   "outputs": [
    {
     "data": {
      "text/plain": [
       "tensor(9., grad_fn=<PowBackward0>)"
      ]
     },
     "execution_count": 16,
     "metadata": {},
     "output_type": "execute_result"
    }
   ],
   "source": [
    "yt = f(xt)\n",
    "yt"
   ]
  },
  {
   "cell_type": "markdown",
   "id": "54686e70",
   "metadata": {
    "papermill": {
     "duration": 0.03813,
     "end_time": "2023-03-15T09:28:28.215971",
     "exception": false,
     "start_time": "2023-03-15T09:28:28.177841",
     "status": "completed"
    },
    "tags": []
   },
   "source": [
    "Finally, we tell PyTorch to calculate the gradients for us:"
   ]
  },
  {
   "cell_type": "code",
   "execution_count": 17,
   "id": "66040916",
   "metadata": {
    "execution": {
     "iopub.execute_input": "2023-03-15T09:28:28.310656Z",
     "iopub.status.busy": "2023-03-15T09:28:28.310273Z",
     "iopub.status.idle": "2023-03-15T09:28:28.321620Z",
     "shell.execute_reply": "2023-03-15T09:28:28.320828Z"
    },
    "papermill": {
     "duration": 0.060803,
     "end_time": "2023-03-15T09:28:28.324070",
     "exception": false,
     "start_time": "2023-03-15T09:28:28.263267",
     "status": "completed"
    },
    "tags": []
   },
   "outputs": [],
   "source": [
    "yt.backward()"
   ]
  },
  {
   "cell_type": "markdown",
   "id": "af58835f",
   "metadata": {
    "papermill": {
     "duration": 0.037078,
     "end_time": "2023-03-15T09:28:28.398877",
     "exception": false,
     "start_time": "2023-03-15T09:28:28.361799",
     "status": "completed"
    },
    "tags": []
   },
   "source": [
    "The \"backward\" here refers to *backpropagation*, which is the name given to the process of calculating the derivative of each layer. This is called the \"backward pass\" of the network, as opposed to the \"forward pass,\" which is where the activations are calculated. Life would probably be easier if `backward` was just called `calculate_grad`, but deep learning folks really do like to add jargon everywhere they can!\n",
    "\n",
    "We can now view the gradients by checking the `grad` attribute of our tensor:"
   ]
  },
  {
   "cell_type": "code",
   "execution_count": 18,
   "id": "a710b7b3",
   "metadata": {
    "execution": {
     "iopub.execute_input": "2023-03-15T09:28:28.477043Z",
     "iopub.status.busy": "2023-03-15T09:28:28.476586Z",
     "iopub.status.idle": "2023-03-15T09:28:28.484178Z",
     "shell.execute_reply": "2023-03-15T09:28:28.483400Z"
    },
    "papermill": {
     "duration": 0.049614,
     "end_time": "2023-03-15T09:28:28.486449",
     "exception": false,
     "start_time": "2023-03-15T09:28:28.436835",
     "status": "completed"
    },
    "tags": []
   },
   "outputs": [
    {
     "data": {
      "text/plain": [
       "tensor(6.)"
      ]
     },
     "execution_count": 18,
     "metadata": {},
     "output_type": "execute_result"
    }
   ],
   "source": [
    "xt.grad"
   ]
  },
  {
   "cell_type": "markdown",
   "id": "572b74a9",
   "metadata": {
    "papermill": {
     "duration": 0.037954,
     "end_time": "2023-03-15T09:28:28.562676",
     "exception": false,
     "start_time": "2023-03-15T09:28:28.524722",
     "status": "completed"
    },
    "tags": []
   },
   "source": [
    "If you remember your high school calculus rules, the derivative of `x**2` is `2*x`, and we have `x=3`, so the gradients should be `2*3=6`, which is what PyTorch calculated for us!\n",
    "\n",
    "\n",
    "Now we'll repeat the preceding steps, but with a vector argument for our function:"
   ]
  },
  {
   "cell_type": "code",
   "execution_count": 19,
   "id": "d27df85b",
   "metadata": {
    "execution": {
     "iopub.execute_input": "2023-03-15T09:28:28.641282Z",
     "iopub.status.busy": "2023-03-15T09:28:28.640888Z",
     "iopub.status.idle": "2023-03-15T09:28:28.649732Z",
     "shell.execute_reply": "2023-03-15T09:28:28.648525Z"
    },
    "papermill": {
     "duration": 0.051469,
     "end_time": "2023-03-15T09:28:28.652584",
     "exception": false,
     "start_time": "2023-03-15T09:28:28.601115",
     "status": "completed"
    },
    "tags": []
   },
   "outputs": [
    {
     "data": {
      "text/plain": [
       "tensor([ 3.,  4., 10.], requires_grad=True)"
      ]
     },
     "execution_count": 19,
     "metadata": {},
     "output_type": "execute_result"
    }
   ],
   "source": [
    "xt = tensor([3.,4.,10.]).requires_grad_()\n",
    "xt"
   ]
  },
  {
   "cell_type": "markdown",
   "id": "7ba6f5e0",
   "metadata": {
    "papermill": {
     "duration": 0.038704,
     "end_time": "2023-03-15T09:28:28.731041",
     "exception": false,
     "start_time": "2023-03-15T09:28:28.692337",
     "status": "completed"
    },
    "tags": []
   },
   "source": [
    "And we'll add `sum` to our function so it can take a vector (i.e., a rank-1 tensor), and return a scalar (i.e., a rank-0 tensor):"
   ]
  },
  {
   "cell_type": "code",
   "execution_count": 20,
   "id": "9feaf09b",
   "metadata": {
    "execution": {
     "iopub.execute_input": "2023-03-15T09:28:28.810325Z",
     "iopub.status.busy": "2023-03-15T09:28:28.809944Z",
     "iopub.status.idle": "2023-03-15T09:28:28.817496Z",
     "shell.execute_reply": "2023-03-15T09:28:28.816691Z"
    },
    "papermill": {
     "duration": 0.04972,
     "end_time": "2023-03-15T09:28:28.819485",
     "exception": false,
     "start_time": "2023-03-15T09:28:28.769765",
     "status": "completed"
    },
    "tags": []
   },
   "outputs": [
    {
     "data": {
      "text/plain": [
       "tensor(125., grad_fn=<SumBackward0>)"
      ]
     },
     "execution_count": 20,
     "metadata": {},
     "output_type": "execute_result"
    }
   ],
   "source": [
    "def f(x): \n",
    "    return (x**2).sum()\n",
    "\n",
    "yt = f(xt)\n",
    "yt"
   ]
  },
  {
   "cell_type": "markdown",
   "id": "2d01122b",
   "metadata": {
    "papermill": {
     "duration": 0.036942,
     "end_time": "2023-03-15T09:28:28.894154",
     "exception": false,
     "start_time": "2023-03-15T09:28:28.857212",
     "status": "completed"
    },
    "tags": []
   },
   "source": [
    "Our gradients are `2*xt`, as we'd expect!"
   ]
  },
  {
   "cell_type": "code",
   "execution_count": 21,
   "id": "6412e7e8",
   "metadata": {
    "execution": {
     "iopub.execute_input": "2023-03-15T09:28:28.971227Z",
     "iopub.status.busy": "2023-03-15T09:28:28.970507Z",
     "iopub.status.idle": "2023-03-15T09:28:28.978323Z",
     "shell.execute_reply": "2023-03-15T09:28:28.977631Z"
    },
    "papermill": {
     "duration": 0.048904,
     "end_time": "2023-03-15T09:28:28.980410",
     "exception": false,
     "start_time": "2023-03-15T09:28:28.931506",
     "status": "completed"
    },
    "tags": []
   },
   "outputs": [
    {
     "data": {
      "text/plain": [
       "tensor([ 6.,  8., 20.])"
      ]
     },
     "execution_count": 21,
     "metadata": {},
     "output_type": "execute_result"
    }
   ],
   "source": [
    "yt.backward()\n",
    "xt.grad"
   ]
  },
  {
   "cell_type": "markdown",
   "id": "784f993b",
   "metadata": {
    "papermill": {
     "duration": 0.039138,
     "end_time": "2023-03-15T09:28:29.057857",
     "exception": false,
     "start_time": "2023-03-15T09:28:29.018719",
     "status": "completed"
    },
    "tags": []
   },
   "source": [
    "The gradients only tell us the slope of our function, they don't actually tell us exactly how far to adjust the parameters. But it gives us some idea of how far; if the slope is very large, then that may suggest that we have more adjustments to do, whereas if the slope is very small, that may suggest that we are close to the optimal value.\n",
    "\n",
    "### Stepping With a Learning Rate\n",
    "\n",
    "Deciding how to change our parameters based on the values of the gradients is an important part of the deep learning process. Nearly all approaches start with the basic idea of multiplying the gradient by some small number, called the *learning rate* (LR). The learning rate is often a number between 0.001 and 0.1, although it could be anything. Often, people select a learning rate just by trying a few, and finding which results in the best model after training (we'll show you a better approach later, called the *learning rate finder*). Once you've picked a learning rate, you can adjust your parameters using this simple function:\n",
    "\n",
    "```\n",
    "w -= gradient(w) * lr\n",
    "```\n",
    "\n",
    "This is known as *stepping* your parameters, using an *optimizer step*. Notice how we _subtract_ the `gradient * lr` from the parameter to update it.  This allows us to adjust the parameter in the direction of the slope by increasing the parameter when the slope is negative and decreasing the parameter when the slope is positive.  We want to adjust our parameters in the direction of the slope because our goal in deep learning is to _minimize_ the loss.\n",
    "\n",
    "If you pick a learning rate that's too low, it can mean having to do a lot of steps. The figure below illustrates that.\n",
    "\n",
    "<img alt=\"An illustration of gradient descent with a LR too low\" width=\"400\" caption=\"Gradient descent with low LR\" src=\"https://raw.githubusercontent.com/fastai/fastbook/master/images/chapter2_small.svg\" id=\"descent_small\"/>\n",
    "\n",
    "But picking a learning rate that's too high is even worse—it can actually result in the loss getting *worse*, as we see below\n",
    "\n",
    "<img alt=\"An illustration of gradient descent with a LR too high\" width=\"400\" caption=\"Gradient descent with high LR\" src=\"https://raw.githubusercontent.com/fastai/fastbook/master/images/chapter2_div.svg\" id=\"descent_div\"/>\n",
    "\n",
    "If the learning rate is too high, it may also \"bounce\" around, rather than actually diverging; The image below shows how this has the result of taking many steps to train successfully.\n",
    "\n",
    "<img alt=\"An illustation of gradient descent with a bouncy LR\" width=\"400\" caption=\"Gradient descent with bouncy LR\" src=\"https://raw.githubusercontent.com/fastai/fastbook/master/images/chapter2_bouncy.svg\" id=\"descent_bouncy\"/>\n",
    "\n",
    "Now let's apply all of this in an end-to-end example."
   ]
  },
  {
   "cell_type": "markdown",
   "id": "77066c12",
   "metadata": {
    "papermill": {
     "duration": 0.039497,
     "end_time": "2023-03-15T09:28:29.136232",
     "exception": false,
     "start_time": "2023-03-15T09:28:29.096735",
     "status": "completed"
    },
    "tags": []
   },
   "source": [
    "### An End-to-End SGD Example\n",
    "\n",
    "We've seen how to use gradients to find a minimum. Now it's time to look at an SGD example and see how finding a minimum can be used to train a model to fit data better.\n",
    "\n",
    "Let's start with a simple, synthetic, example model. Imagine you were measuring the speed of a roller coaster as it went over the top of a hump. It would start fast, and then get slower as it went up the hill; it would be slowest at the top, and it would then speed up again as it went downhill. You want to build a model of how the speed changes over time. If you were measuring the speed manually every second for 20 seconds, it might look something like this:"
   ]
  },
  {
   "cell_type": "code",
   "execution_count": 22,
   "id": "7c94d34c",
   "metadata": {
    "execution": {
     "iopub.execute_input": "2023-03-15T09:28:29.216573Z",
     "iopub.status.busy": "2023-03-15T09:28:29.216128Z",
     "iopub.status.idle": "2023-03-15T09:28:29.228525Z",
     "shell.execute_reply": "2023-03-15T09:28:29.227261Z"
    },
    "papermill": {
     "duration": 0.056591,
     "end_time": "2023-03-15T09:28:29.231926",
     "exception": false,
     "start_time": "2023-03-15T09:28:29.175335",
     "status": "completed"
    },
    "tags": []
   },
   "outputs": [
    {
     "data": {
      "text/plain": [
       "tensor([ 0.,  1.,  2.,  3.,  4.,  5.,  6.,  7.,  8.,  9., 10., 11., 12., 13.,\n",
       "        14., 15., 16., 17., 18., 19.])"
      ]
     },
     "execution_count": 22,
     "metadata": {},
     "output_type": "execute_result"
    }
   ],
   "source": [
    "time = torch.arange(0,20).float(); time"
   ]
  },
  {
   "cell_type": "code",
   "execution_count": 23,
   "id": "337ce030",
   "metadata": {
    "execution": {
     "iopub.execute_input": "2023-03-15T09:28:29.315662Z",
     "iopub.status.busy": "2023-03-15T09:28:29.314875Z",
     "iopub.status.idle": "2023-03-15T09:28:29.497118Z",
     "shell.execute_reply": "2023-03-15T09:28:29.495724Z"
    },
    "papermill": {
     "duration": 0.225,
     "end_time": "2023-03-15T09:28:29.499687",
     "exception": false,
     "start_time": "2023-03-15T09:28:29.274687",
     "status": "completed"
    },
    "tags": []
   },
   "outputs": [
    {
     "data": {
      "image/png": "[encoded data removed]",
      "text/plain": [
       "<Figure size 640x480 with 1 Axes>"
      ]
     },
     "metadata": {},
     "output_type": "display_data"
    }
   ],
   "source": [
    "speed = torch.randn(20)*3 + 0.75*(time-9.5)**2 + 1\n",
    "plt.scatter(time,speed);"
   ]
  },
  {
   "cell_type": "markdown",
   "id": "50d96284",
   "metadata": {
    "papermill": {
     "duration": 0.039256,
     "end_time": "2023-03-15T09:28:29.577746",
     "exception": false,
     "start_time": "2023-03-15T09:28:29.538490",
     "status": "completed"
    },
    "tags": []
   },
   "source": [
    "We've added a bit of random noise, since measuring things manually isn't precise. This means it's not that easy to answer the question: what was the roller coaster's speed? Using SGD we can try to find a function that matches our observations. We can't consider every possible function, so let's use a guess that it will be quadratic; i.e., a function of the form `a*(time**2)+(b*time)+c`.\n",
    "\n",
    "We want to distinguish clearly between the function's input (the time when we are measuring the coaster's speed) and its parameters (the values that define *which* quadratic we're trying). So, let's collect the parameters in one argument and thus separate the input, `t`, and the parameters, `params`, in the function's signature: "
   ]
  },
  {
   "cell_type": "code",
   "execution_count": 24,
   "id": "2924a44c",
   "metadata": {
    "execution": {
     "iopub.execute_input": "2023-03-15T09:28:29.658455Z",
     "iopub.status.busy": "2023-03-15T09:28:29.657762Z",
     "iopub.status.idle": "2023-03-15T09:28:29.662423Z",
     "shell.execute_reply": "2023-03-15T09:28:29.661642Z"
    },
    "papermill": {
     "duration": 0.048048,
     "end_time": "2023-03-15T09:28:29.664805",
     "exception": false,
     "start_time": "2023-03-15T09:28:29.616757",
     "status": "completed"
    },
    "tags": []
   },
   "outputs": [],
   "source": [
    "def f(t, params):\n",
    "    a,b,c = params\n",
    "    return a*(t**2) + (b*t) + c"
   ]
  },
  {
   "cell_type": "markdown",
   "id": "e8188c52",
   "metadata": {
    "papermill": {
     "duration": 0.038692,
     "end_time": "2023-03-15T09:28:29.743043",
     "exception": false,
     "start_time": "2023-03-15T09:28:29.704351",
     "status": "completed"
    },
    "tags": []
   },
   "source": [
    "In other words, we've restricted the problem of finding the best imaginable function that fits the data, to finding the best *quadratic* function. This greatly simplifies the problem, since every quadratic function is fully defined by the three parameters `a`, `b`, and `c`. Thus, to find the best quadratic function, we only need to find the best values for `a`, `b`, and `c`.\n",
    "\n",
    "If we can solve this problem for the three parameters of a quadratic function, we'll be able to apply the same approach for other, more complex functions with more parameters—such as a neural net. Let's find the parameters for `f` first, and then we'll come back and do the same thing for the MNIST dataset with a neural net.\n",
    "\n",
    "We need to define first what we mean by \"best.\" We define this precisely by choosing a *loss function*, which will return a value based on a prediction and a target, where lower values of the function correspond to \"better\" predictions. It is important for loss functions to return _lower_ values when predictions are more accurate, as the SGD procedure we defined earlier will try to _minimize_ this loss. For continuous data, it's common to use *mean squared error*:"
   ]
  },
  {
   "cell_type": "code",
   "execution_count": 25,
   "id": "b2b942b8",
   "metadata": {
    "execution": {
     "iopub.execute_input": "2023-03-15T09:28:29.823302Z",
     "iopub.status.busy": "2023-03-15T09:28:29.822626Z",
     "iopub.status.idle": "2023-03-15T09:28:29.826929Z",
     "shell.execute_reply": "2023-03-15T09:28:29.826141Z"
    },
    "papermill": {
     "duration": 0.047155,
     "end_time": "2023-03-15T09:28:29.829051",
     "exception": false,
     "start_time": "2023-03-15T09:28:29.781896",
     "status": "completed"
    },
    "tags": []
   },
   "outputs": [],
   "source": [
    "def mse(preds, targets): \n",
    "    return ((preds-targets)**2).mean()"
   ]
  },
  {
   "cell_type": "markdown",
   "id": "55a4da8a",
   "metadata": {
    "papermill": {
     "duration": 0.038454,
     "end_time": "2023-03-15T09:28:29.906302",
     "exception": false,
     "start_time": "2023-03-15T09:28:29.867848",
     "status": "completed"
    },
    "tags": []
   },
   "source": [
    "Now, let's work through our 7 step process.\n",
    "\n",
    "#### Step 1: Initialize the parameters\n",
    "\n",
    "First, we initialize the parameters to random values, and tell PyTorch that we want to track their gradients, using `requires_grad_`:"
   ]
  },
  {
   "cell_type": "code",
   "execution_count": 26,
   "id": "14ca584e",
   "metadata": {
    "execution": {
     "iopub.execute_input": "2023-03-15T09:28:29.986866Z",
     "iopub.status.busy": "2023-03-15T09:28:29.986240Z",
     "iopub.status.idle": "2023-03-15T09:28:29.991287Z",
     "shell.execute_reply": "2023-03-15T09:28:29.990655Z"
    },
    "papermill": {
     "duration": 0.047786,
     "end_time": "2023-03-15T09:28:29.993068",
     "exception": false,
     "start_time": "2023-03-15T09:28:29.945282",
     "status": "completed"
    },
    "tags": []
   },
   "outputs": [],
   "source": [
    "params = torch.randn(3).requires_grad_()"
   ]
  },
  {
   "cell_type": "code",
   "execution_count": 27,
   "id": "aac55af2",
   "metadata": {
    "execution": {
     "iopub.execute_input": "2023-03-15T09:28:30.130142Z",
     "iopub.status.busy": "2023-03-15T09:28:30.129804Z",
     "iopub.status.idle": "2023-03-15T09:28:30.134784Z",
     "shell.execute_reply": "2023-03-15T09:28:30.134013Z"
    },
    "papermill": {
     "duration": 0.104638,
     "end_time": "2023-03-15T09:28:30.136663",
     "exception": false,
     "start_time": "2023-03-15T09:28:30.032025",
     "status": "completed"
    },
    "tags": []
   },
   "outputs": [],
   "source": [
    "# saving the params to make a plot later, you can ignore this\n",
    "orig_params = params.clone()"
   ]
  },
  {
   "cell_type": "markdown",
   "id": "df0a9e89",
   "metadata": {
    "papermill": {
     "duration": 0.038798,
     "end_time": "2023-03-15T09:28:30.214452",
     "exception": false,
     "start_time": "2023-03-15T09:28:30.175654",
     "status": "completed"
    },
    "tags": []
   },
   "source": [
    "#### Step 2: Calculate the predictions\n",
    "Next, we calculate the predictions:"
   ]
  },
  {
   "cell_type": "code",
   "execution_count": 28,
   "id": "19917b04",
   "metadata": {
    "execution": {
     "iopub.execute_input": "2023-03-15T09:28:30.295884Z",
     "iopub.status.busy": "2023-03-15T09:28:30.294904Z",
     "iopub.status.idle": "2023-03-15T09:28:30.300158Z",
     "shell.execute_reply": "2023-03-15T09:28:30.299093Z"
    },
    "papermill": {
     "duration": 0.048854,
     "end_time": "2023-03-15T09:28:30.302397",
     "exception": false,
     "start_time": "2023-03-15T09:28:30.253543",
     "status": "completed"
    },
    "tags": []
   },
   "outputs": [],
   "source": [
    "preds = f(time, params)"
   ]
  },
  {
   "cell_type": "markdown",
   "id": "daea2588",
   "metadata": {
    "papermill": {
     "duration": 0.039123,
     "end_time": "2023-03-15T09:28:30.380514",
     "exception": false,
     "start_time": "2023-03-15T09:28:30.341391",
     "status": "completed"
    },
    "tags": []
   },
   "source": [
    "Let's create a little function to see how close our predictions are to our targets, and take a look:"
   ]
  },
  {
   "cell_type": "code",
   "execution_count": 29,
   "id": "10164225",
   "metadata": {
    "execution": {
     "iopub.execute_input": "2023-03-15T09:28:30.461014Z",
     "iopub.status.busy": "2023-03-15T09:28:30.460355Z",
     "iopub.status.idle": "2023-03-15T09:28:30.466086Z",
     "shell.execute_reply": "2023-03-15T09:28:30.465035Z"
    },
    "papermill": {
     "duration": 0.04835,
     "end_time": "2023-03-15T09:28:30.468401",
     "exception": false,
     "start_time": "2023-03-15T09:28:30.420051",
     "status": "completed"
    },
    "tags": []
   },
   "outputs": [],
   "source": [
    "def show_preds(preds, ax=None):\n",
    "    if ax is None: ax=plt.subplots()[1]\n",
    "    ax.scatter(time, speed)\n",
    "    ax.scatter(time, to_np(preds), color='red')\n",
    "    ax.set_ylim(-300,100)"
   ]
  },
  {
   "cell_type": "code",
   "execution_count": 30,
   "id": "ca948bfc",
   "metadata": {
    "execution": {
     "iopub.execute_input": "2023-03-15T09:28:30.550401Z",
     "iopub.status.busy": "2023-03-15T09:28:30.549773Z",
     "iopub.status.idle": "2023-03-15T09:28:30.738108Z",
     "shell.execute_reply": "2023-03-15T09:28:30.736663Z"
    },
    "papermill": {
     "duration": 0.232218,
     "end_time": "2023-03-15T09:28:30.740399",
     "exception": false,
     "start_time": "2023-03-15T09:28:30.508181",
     "status": "completed"
    },
    "tags": []
   },
   "outputs": [
    {
     "data": {
      "image/png": "[encoded data removed]",
      "text/plain": [
       "<Figure size 640x480 with 1 Axes>"
      ]
     },
     "metadata": {},
     "output_type": "display_data"
    }
   ],
   "source": [
    "show_preds(preds)"
   ]
  },
  {
   "cell_type": "markdown",
   "id": "cd05cf78",
   "metadata": {
    "papermill": {
     "duration": 0.039015,
     "end_time": "2023-03-15T09:28:30.818883",
     "exception": false,
     "start_time": "2023-03-15T09:28:30.779868",
     "status": "completed"
    },
    "tags": []
   },
   "source": [
    "This doesn't look very close—our random parameters suggest that the roller coaster will end up going backwards, since we have negative speeds!\n",
    "\n",
    "#### Step 3: Calculate the loss\n",
    "We calculate the loss as follows:"
   ]
  },
  {
   "cell_type": "code",
   "execution_count": 31,
   "id": "2687286a",
   "metadata": {
    "execution": {
     "iopub.execute_input": "2023-03-15T09:28:30.901088Z",
     "iopub.status.busy": "2023-03-15T09:28:30.900695Z",
     "iopub.status.idle": "2023-03-15T09:28:30.909400Z",
     "shell.execute_reply": "2023-03-15T09:28:30.908320Z"
    },
    "papermill": {
     "duration": 0.052751,
     "end_time": "2023-03-15T09:28:30.911538",
     "exception": false,
     "start_time": "2023-03-15T09:28:30.858787",
     "status": "completed"
    },
    "tags": []
   },
   "outputs": [
    {
     "data": {
      "text/plain": [
       "tensor(764.3466, grad_fn=<MeanBackward0>)"
      ]
     },
     "execution_count": 31,
     "metadata": {},
     "output_type": "execute_result"
    }
   ],
   "source": [
    "loss = mse(preds, speed)\n",
    "loss"
   ]
  },
  {
   "cell_type": "markdown",
   "id": "4b9d7f40",
   "metadata": {
    "papermill": {
     "duration": 0.040815,
     "end_time": "2023-03-15T09:28:30.992651",
     "exception": false,
     "start_time": "2023-03-15T09:28:30.951836",
     "status": "completed"
    },
    "tags": []
   },
   "source": [
    "Our goal is now to improve this. To do that, we'll need to know the gradients.\n",
    "#### Step 4: Calculate the gradients\n",
    "The next step is to calculate the gradients. In other words, calculate an approximation of how the parameters need to change:"
   ]
  },
  {
   "cell_type": "code",
   "execution_count": 32,
   "id": "f51104d4",
   "metadata": {
    "execution": {
     "iopub.execute_input": "2023-03-15T09:28:31.077873Z",
     "iopub.status.busy": "2023-03-15T09:28:31.077124Z",
     "iopub.status.idle": "2023-03-15T09:28:31.087775Z",
     "shell.execute_reply": "2023-03-15T09:28:31.086679Z"
    },
    "papermill": {
     "duration": 0.055806,
     "end_time": "2023-03-15T09:28:31.089964",
     "exception": false,
     "start_time": "2023-03-15T09:28:31.034158",
     "status": "completed"
    },
    "tags": []
   },
   "outputs": [
    {
     "data": {
      "text/plain": [
       "tensor([2718.6960,  166.8278,   -8.9312])"
      ]
     },
     "execution_count": 32,
     "metadata": {},
     "output_type": "execute_result"
    }
   ],
   "source": [
    "loss.backward()\n",
    "params.grad"
   ]
  },
  {
   "cell_type": "markdown",
   "id": "593aa62e",
   "metadata": {
    "papermill": {
     "duration": 0.039676,
     "end_time": "2023-03-15T09:28:31.170558",
     "exception": false,
     "start_time": "2023-03-15T09:28:31.130882",
     "status": "completed"
    },
    "tags": []
   },
   "source": [
    "We can use these gradients to improve our parameters. We'll need to pick a learning rate (we'll discuss how to do that in practice in the next chapter; for now we'll just use 1e-5, or 0.00001):"
   ]
  },
  {
   "cell_type": "code",
   "execution_count": 33,
   "id": "9eff045c",
   "metadata": {
    "execution": {
     "iopub.execute_input": "2023-03-15T09:28:31.252842Z",
     "iopub.status.busy": "2023-03-15T09:28:31.252089Z",
     "iopub.status.idle": "2023-03-15T09:28:31.260036Z",
     "shell.execute_reply": "2023-03-15T09:28:31.258823Z"
    },
    "papermill": {
     "duration": 0.052096,
     "end_time": "2023-03-15T09:28:31.262651",
     "exception": false,
     "start_time": "2023-03-15T09:28:31.210555",
     "status": "completed"
    },
    "tags": []
   },
   "outputs": [
    {
     "data": {
      "text/plain": [
       "tensor([ 2.7187e-02,  1.6683e-03, -8.9312e-05])"
      ]
     },
     "execution_count": 33,
     "metadata": {},
     "output_type": "execute_result"
    }
   ],
   "source": [
    "params.grad * 1e-5"
   ]
  },
  {
   "cell_type": "code",
   "execution_count": 34,
   "id": "ee1e9da7",
   "metadata": {
    "execution": {
     "iopub.execute_input": "2023-03-15T09:28:31.343633Z",
     "iopub.status.busy": "2023-03-15T09:28:31.343175Z",
     "iopub.status.idle": "2023-03-15T09:28:31.350677Z",
     "shell.execute_reply": "2023-03-15T09:28:31.349572Z"
    },
    "papermill": {
     "duration": 0.050741,
     "end_time": "2023-03-15T09:28:31.352984",
     "exception": false,
     "start_time": "2023-03-15T09:28:31.302243",
     "status": "completed"
    },
    "tags": []
   },
   "outputs": [
    {
     "data": {
      "text/plain": [
       "tensor([ 0.2187, -0.4772, -0.7352], requires_grad=True)"
      ]
     },
     "execution_count": 34,
     "metadata": {},
     "output_type": "execute_result"
    }
   ],
   "source": [
    "params"
   ]
  },
  {
   "cell_type": "markdown",
   "id": "e3019fcc",
   "metadata": {
    "papermill": {
     "duration": 0.039669,
     "end_time": "2023-03-15T09:28:31.433485",
     "exception": false,
     "start_time": "2023-03-15T09:28:31.393816",
     "status": "completed"
    },
    "tags": []
   },
   "source": [
    "#### Step 5: Step the weights.\n",
    "\n",
    "Now we need to update the parameters based on the gradients we just calculated:\n"
   ]
  },
  {
   "cell_type": "code",
   "execution_count": 35,
   "id": "840abb1b",
   "metadata": {
    "execution": {
     "iopub.execute_input": "2023-03-15T09:28:31.515970Z",
     "iopub.status.busy": "2023-03-15T09:28:31.515369Z",
     "iopub.status.idle": "2023-03-15T09:28:31.521654Z",
     "shell.execute_reply": "2023-03-15T09:28:31.520882Z"
    },
    "papermill": {
     "duration": 0.050565,
     "end_time": "2023-03-15T09:28:31.523852",
     "exception": false,
     "start_time": "2023-03-15T09:28:31.473287",
     "status": "completed"
    },
    "tags": []
   },
   "outputs": [],
   "source": [
    "lr = 1e-5\n",
    "params.data -= lr * params.grad.data\n",
    "params.grad = None"
   ]
  },
  {
   "cell_type": "markdown",
   "id": "a1585e6b",
   "metadata": {
    "papermill": {
     "duration": 0.04002,
     "end_time": "2023-03-15T09:28:31.604168",
     "exception": false,
     "start_time": "2023-03-15T09:28:31.564148",
     "status": "completed"
    },
    "tags": []
   },
   "source": [
    "So now we compute the new parameters as the actual parameters minus the learning rate times the gradient. Here we added a special part: `.data`, which if you use it the gradient is not calculated. We don't want to calculate the gradient of the actual step that we do, we only want to compute it on the function `f`. After that delete the gradients that we already have (to be able to compute new for the next step).\n",
    "\n",
    "Understanding this bit depends on remembering recent history. To calculate the gradients we call `backward` on the `loss`. But this `loss` was itself calculated by `mse`, which in turn took `preds` as an input, which was calculated using `f` taking as an input `params`, which was the object on which we originally called `required_grads_`—which is the original call that now allows us to call `backward` on `loss`. This chain of function calls represents the mathematical composition of functions, which enables PyTorch to use calculus's chain rule under the hood to calculate these gradients.\n",
    "\n",
    "Let's see if the loss has improved:"
   ]
  },
  {
   "cell_type": "code",
   "execution_count": 36,
   "id": "4b9c8aeb",
   "metadata": {
    "execution": {
     "iopub.execute_input": "2023-03-15T09:28:31.687741Z",
     "iopub.status.busy": "2023-03-15T09:28:31.687332Z",
     "iopub.status.idle": "2023-03-15T09:28:31.694630Z",
     "shell.execute_reply": "2023-03-15T09:28:31.693673Z"
    },
    "papermill": {
     "duration": 0.05178,
     "end_time": "2023-03-15T09:28:31.696660",
     "exception": false,
     "start_time": "2023-03-15T09:28:31.644880",
     "status": "completed"
    },
    "tags": []
   },
   "outputs": [
    {
     "data": {
      "text/plain": [
       "tensor(711.1121, grad_fn=<MeanBackward0>)"
      ]
     },
     "execution_count": 36,
     "metadata": {},
     "output_type": "execute_result"
    }
   ],
   "source": [
    "preds = f(time,params)\n",
    "mse(preds, speed)"
   ]
  },
  {
   "cell_type": "markdown",
   "id": "3cd052d9",
   "metadata": {
    "papermill": {
     "duration": 0.039654,
     "end_time": "2023-03-15T09:28:31.776363",
     "exception": false,
     "start_time": "2023-03-15T09:28:31.736709",
     "status": "completed"
    },
    "tags": []
   },
   "source": [
    "And take a look at the plot:"
   ]
  },
  {
   "cell_type": "code",
   "execution_count": 37,
   "id": "1aaef818",
   "metadata": {
    "execution": {
     "iopub.execute_input": "2023-03-15T09:28:31.858821Z",
     "iopub.status.busy": "2023-03-15T09:28:31.858449Z",
     "iopub.status.idle": "2023-03-15T09:28:32.043909Z",
     "shell.execute_reply": "2023-03-15T09:28:32.042675Z"
    },
    "papermill": {
     "duration": 0.229419,
     "end_time": "2023-03-15T09:28:32.046158",
     "exception": false,
     "start_time": "2023-03-15T09:28:31.816739",
     "status": "completed"
    },
    "tags": []
   },
   "outputs": [
    {
     "data": {
      "image/png": "[encoded data removed]",
      "text/plain": [
       "<Figure size 640x480 with 1 Axes>"
      ]
     },
     "metadata": {},
     "output_type": "display_data"
    }
   ],
   "source": [
    "show_preds(preds)"
   ]
  },
  {
   "cell_type": "markdown",
   "id": "ee89d882",
   "metadata": {
    "papermill": {
     "duration": 0.040195,
     "end_time": "2023-03-15T09:28:32.126529",
     "exception": false,
     "start_time": "2023-03-15T09:28:32.086334",
     "status": "completed"
    },
    "tags": []
   },
   "source": [
    "We need to repeat this a few times, so we'll create a function to apply one step:"
   ]
  },
  {
   "cell_type": "code",
   "execution_count": 38,
   "id": "728818dc",
   "metadata": {
    "execution": {
     "iopub.execute_input": "2023-03-15T09:28:32.211520Z",
     "iopub.status.busy": "2023-03-15T09:28:32.209937Z",
     "iopub.status.idle": "2023-03-15T09:28:32.217218Z",
     "shell.execute_reply": "2023-03-15T09:28:32.215775Z"
    },
    "papermill": {
     "duration": 0.051507,
     "end_time": "2023-03-15T09:28:32.219292",
     "exception": false,
     "start_time": "2023-03-15T09:28:32.167785",
     "status": "completed"
    },
    "tags": []
   },
   "outputs": [],
   "source": [
    "def apply_step(params, prn=True):\n",
    "    preds = f(time, params)\n",
    "    loss = mse(preds, speed)\n",
    "    loss.backward()\n",
    "    params.data -= lr * params.grad.data\n",
    "    params.grad = None\n",
    "    if prn: print(loss.item())\n",
    "    return preds"
   ]
  },
  {
   "cell_type": "markdown",
   "id": "d0f96bd2",
   "metadata": {
    "papermill": {
     "duration": 0.041135,
     "end_time": "2023-03-15T09:28:32.300395",
     "exception": false,
     "start_time": "2023-03-15T09:28:32.259260",
     "status": "completed"
    },
    "tags": []
   },
   "source": [
    "#### Step 6: Repeat the process \n",
    "\n",
    "Now we iterate. By looping and performing many improvements, we hope to reach a good result:"
   ]
  },
  {
   "cell_type": "code",
   "execution_count": 39,
   "id": "5e98da7a",
   "metadata": {
    "execution": {
     "iopub.execute_input": "2023-03-15T09:28:32.384116Z",
     "iopub.status.busy": "2023-03-15T09:28:32.383702Z",
     "iopub.status.idle": "2023-03-15T09:28:32.394895Z",
     "shell.execute_reply": "2023-03-15T09:28:32.393461Z"
    },
    "papermill": {
     "duration": 0.056101,
     "end_time": "2023-03-15T09:28:32.397329",
     "exception": false,
     "start_time": "2023-03-15T09:28:32.341228",
     "status": "completed"
    },
    "tags": []
   },
   "outputs": [
    {
     "name": "stdout",
     "output_type": "stream",
     "text": [
      "711.112060546875\n",
      "701.0343627929688\n",
      "699.1234130859375\n",
      "698.7578125\n",
      "698.6845092773438\n",
      "698.666748046875\n",
      "698.659423828125\n",
      "698.6539306640625\n",
      "698.64892578125\n",
      "698.6439208984375\n"
     ]
    }
   ],
   "source": [
    "for i in range(10): apply_step(params)"
   ]
  },
  {
   "cell_type": "code",
   "execution_count": 40,
   "id": "95ac16dc",
   "metadata": {
    "execution": {
     "iopub.execute_input": "2023-03-15T09:28:32.482005Z",
     "iopub.status.busy": "2023-03-15T09:28:32.480377Z",
     "iopub.status.idle": "2023-03-15T09:28:32.485980Z",
     "shell.execute_reply": "2023-03-15T09:28:32.485273Z"
    },
    "papermill": {
     "duration": 0.050115,
     "end_time": "2023-03-15T09:28:32.487874",
     "exception": false,
     "start_time": "2023-03-15T09:28:32.437759",
     "status": "completed"
    },
    "tags": []
   },
   "outputs": [],
   "source": [
    "params = orig_params.detach().requires_grad_()"
   ]
  },
  {
   "cell_type": "markdown",
   "id": "66607bcf",
   "metadata": {
    "papermill": {
     "duration": 0.039727,
     "end_time": "2023-03-15T09:28:32.567726",
     "exception": false,
     "start_time": "2023-03-15T09:28:32.527999",
     "status": "completed"
    },
    "tags": []
   },
   "source": [
    "The loss is going down, just as we hoped! But looking only at these loss numbers disguises the fact that each iteration represents an entirely different quadratic function being tried, on the way to finding the best possible quadratic function. We can see this process visually if, instead of printing out the loss function, we plot the function at every step. Then we can see how the shape is approaching the best possible quadratic function for our data:"
   ]
  },
  {
   "cell_type": "code",
   "execution_count": 41,
   "id": "75856396",
   "metadata": {
    "execution": {
     "iopub.execute_input": "2023-03-15T09:28:32.652700Z",
     "iopub.status.busy": "2023-03-15T09:28:32.652030Z",
     "iopub.status.idle": "2023-03-15T09:28:33.197525Z",
     "shell.execute_reply": "2023-03-15T09:28:33.196767Z"
    },
    "papermill": {
     "duration": 0.590949,
     "end_time": "2023-03-15T09:28:33.199615",
     "exception": false,
     "start_time": "2023-03-15T09:28:32.608666",
     "status": "completed"
    },
    "tags": []
   },
   "outputs": [
    {
     "data": {
      "image/png": "[encoded data removed]",
      "text/plain": [
       "<Figure size 1200x300 with 4 Axes>"
      ]
     },
     "metadata": {},
     "output_type": "display_data"
    }
   ],
   "source": [
    "_,axs = plt.subplots(1,4,figsize=(12,3))\n",
    "for ax in axs: show_preds(apply_step(params, False), ax)\n",
    "plt.tight_layout()"
   ]
  },
  {
   "cell_type": "markdown",
   "id": "cf9662f3",
   "metadata": {
    "papermill": {
     "duration": 0.040477,
     "end_time": "2023-03-15T09:28:33.281552",
     "exception": false,
     "start_time": "2023-03-15T09:28:33.241075",
     "status": "completed"
    },
    "tags": []
   },
   "source": [
    "#### Step 7: stop\n",
    "We just decided to stop after 10 epochs arbitrarily. In practice, we would watch the training and validation losses and our metrics to decide when to stop, as we've discussed."
   ]
  },
  {
   "cell_type": "markdown",
   "id": "aaee46cd",
   "metadata": {
    "papermill": {
     "duration": 0.043219,
     "end_time": "2023-03-15T09:28:33.366500",
     "exception": false,
     "start_time": "2023-03-15T09:28:33.323281",
     "status": "completed"
    },
    "tags": []
   },
   "source": [
    "### Summarizing Gradient Descent\n",
    "To summarize, at the beginning, the weights of our model can be random (training *from scratch*) or come from a pretrained model (*transfer learning*). In the first case, the output we will get from our inputs won't have anything to do with what we want, and even in the second case, it's very likely the pretrained model won't be very good at the specific task we are targeting. So the model will need to *learn* better weights.\n",
    "\n",
    "We begin by comparing the outputs the model gives us with our targets (we have labeled data, so we know what result the model should give) using a *loss function*, which returns a number that we want to make as low as possible by improving our weights. To do this, we take a few data items (such as images) from the training set and feed them to our model. We compare the corresponding targets using our loss function, and the score we get tells us how wrong our predictions were. We then change the weights a little bit to make it slightly better.\n",
    "\n",
    "To find how to change the weights to make the loss a bit better, we use calculus to calculate the *gradients*. (Actually, we let PyTorch do it for us!) Let's consider an analogy. Imagine you are lost in the mountains with your car parked at the lowest point. To find your way back to it, you might wander in a random direction, but that probably wouldn't help much. Since you know your vehicle is at the lowest point, you would be better off going downhill. By always taking a step in the direction of the steepest downward slope, you should eventually arrive at your destination. We use the magnitude of the gradient (i.e., the steepness of the slope) to tell us how big a step to take; specifically, we multiply the gradient by a number we choose called the *learning rate* to decide on the step size. We then *iterate* until we have reached the lowest point, which will be our parking lot, then we can *stop*.\n",
    "\n",
    "All of that we just saw can be transposed directly to the MNIST dataset, except for the loss function. Let's now see how we can define a good training objective. \n",
    "\n",
    "## The MNIST Loss Function\n",
    "\n",
    "We already have our independent variables `x`—these are the images themselves. We first need to tranform them into tensors and stack them to be able to perform computations on them all together. To do this we first combine all the images in this list into a single three-dimensional tensor. We already know how to create a tensor containing a single image. To create a tensor containing all the images in a directory, we will first use a Python list comprehension to create a plain list of the single image tensors."
   ]
  },
  {
   "cell_type": "code",
   "execution_count": 42,
   "id": "d0bdfb50",
   "metadata": {
    "execution": {
     "iopub.execute_input": "2023-03-15T09:28:33.452143Z",
     "iopub.status.busy": "2023-03-15T09:28:33.450853Z",
     "iopub.status.idle": "2023-03-15T09:28:36.102138Z",
     "shell.execute_reply": "2023-03-15T09:28:36.100798Z"
    },
    "papermill": {
     "duration": 2.696365,
     "end_time": "2023-03-15T09:28:36.104626",
     "exception": false,
     "start_time": "2023-03-15T09:28:33.408261",
     "status": "completed"
    },
    "tags": []
   },
   "outputs": [
    {
     "data": {
      "text/plain": [
       "(6131, 6265)"
      ]
     },
     "execution_count": 42,
     "metadata": {},
     "output_type": "execute_result"
    }
   ],
   "source": [
    "seven_tensors = [tensor(Image.open(o)) for o in sevens]\n",
    "three_tensors = [tensor(Image.open(o)) for o in threes]\n",
    "len(three_tensors),len(seven_tensors)"
   ]
  },
  {
   "cell_type": "markdown",
   "id": "d3711ade",
   "metadata": {
    "papermill": {
     "duration": 0.040966,
     "end_time": "2023-03-15T09:28:36.187282",
     "exception": false,
     "start_time": "2023-03-15T09:28:36.146316",
     "status": "completed"
    },
    "tags": []
   },
   "source": [
    "The most common way to describe such a tensor is to call it a *rank-3 tensor*. We often need to stack up individual tensors in a collection into a single tensor. Unsurprisingly, PyTorch comes with a function called `stack` that we can use for this purpose.\n",
    "\n",
    "Some operations in PyTorch, such as taking a mean, require us to *cast* our integer types to float types. Since we'll be needing this later, we'll also cast our stacked tensor to `float` now. Casting in PyTorch is as simple as typing the name of the type you wish to cast to, and treating it as a method.\n",
    "\n",
    "Generally when images are floats, the pixel values are expected to be between 0 and 1, so we will also divide by 255 here:"
   ]
  },
  {
   "cell_type": "code",
   "execution_count": 43,
   "id": "1293b081",
   "metadata": {
    "execution": {
     "iopub.execute_input": "2023-03-15T09:28:36.271166Z",
     "iopub.status.busy": "2023-03-15T09:28:36.270346Z",
     "iopub.status.idle": "2023-03-15T09:28:36.313322Z",
     "shell.execute_reply": "2023-03-15T09:28:36.312286Z"
    },
    "papermill": {
     "duration": 0.087421,
     "end_time": "2023-03-15T09:28:36.315553",
     "exception": false,
     "start_time": "2023-03-15T09:28:36.228132",
     "status": "completed"
    },
    "tags": []
   },
   "outputs": [
    {
     "data": {
      "text/plain": [
       "torch.Size([6131, 28, 28])"
      ]
     },
     "execution_count": 43,
     "metadata": {},
     "output_type": "execute_result"
    }
   ],
   "source": [
    "stacked_sevens = torch.stack(seven_tensors).float()/255\n",
    "stacked_threes = torch.stack(three_tensors).float()/255\n",
    "stacked_threes.shape"
   ]
  },
  {
   "cell_type": "markdown",
   "id": "976ae258",
   "metadata": {
    "papermill": {
     "duration": 0.041922,
     "end_time": "2023-03-15T09:28:36.399581",
     "exception": false,
     "start_time": "2023-03-15T09:28:36.357659",
     "status": "completed"
    },
    "tags": []
   },
   "source": [
    "Perhaps the most important attribute of a tensor is its *shape*. This tells you the length of each axis. In this case, we can see that we have 6,131 images, each of size 28×28 pixels. There is nothing specifically about this tensor that says that the first axis is the number of images, the second is the height, and the third is the width—the semantics of a tensor are entirely up to us, and how we construct it. As far as PyTorch is concerned, it is just a bunch of numbers in memory.\n",
    "\n",
    "The *length* of a tensor's shape is its rank:"
   ]
  },
  {
   "cell_type": "code",
   "execution_count": 44,
   "id": "e2d64fdb",
   "metadata": {
    "execution": {
     "iopub.execute_input": "2023-03-15T09:28:36.484940Z",
     "iopub.status.busy": "2023-03-15T09:28:36.484539Z",
     "iopub.status.idle": "2023-03-15T09:28:36.490917Z",
     "shell.execute_reply": "2023-03-15T09:28:36.489804Z"
    },
    "papermill": {
     "duration": 0.052204,
     "end_time": "2023-03-15T09:28:36.493571",
     "exception": false,
     "start_time": "2023-03-15T09:28:36.441367",
     "status": "completed"
    },
    "tags": []
   },
   "outputs": [
    {
     "data": {
      "text/plain": [
       "3"
      ]
     },
     "execution_count": 44,
     "metadata": {},
     "output_type": "execute_result"
    }
   ],
   "source": [
    "len(stacked_threes.shape)"
   ]
  },
  {
   "cell_type": "markdown",
   "id": "69246c20",
   "metadata": {
    "papermill": {
     "duration": 0.041879,
     "end_time": "2023-03-15T09:28:36.579864",
     "exception": false,
     "start_time": "2023-03-15T09:28:36.537985",
     "status": "completed"
    },
    "tags": []
   },
   "source": [
    "We'll concatenate them all into a single tensor, and also change them from a list of matrices (a rank-3 tensor) to a list of vectors (a rank-2 tensor). We can do this using `view`, which is a PyTorch method that changes the shape of a tensor without changing its contents. `-1` is a special parameter to `view` that means \"make this axis as big as necessary to fit all the data\" (i.e. to be able to fit all the rows):"
   ]
  },
  {
   "cell_type": "code",
   "execution_count": 45,
   "id": "a16d6cc9",
   "metadata": {
    "execution": {
     "iopub.execute_input": "2023-03-15T09:28:36.665862Z",
     "iopub.status.busy": "2023-03-15T09:28:36.665459Z",
     "iopub.status.idle": "2023-03-15T09:28:36.683495Z",
     "shell.execute_reply": "2023-03-15T09:28:36.682675Z"
    },
    "papermill": {
     "duration": 0.064222,
     "end_time": "2023-03-15T09:28:36.686002",
     "exception": false,
     "start_time": "2023-03-15T09:28:36.621780",
     "status": "completed"
    },
    "tags": []
   },
   "outputs": [],
   "source": [
    "train_x = torch.cat([stacked_threes, stacked_sevens]).view(-1, 28*28)"
   ]
  },
  {
   "cell_type": "markdown",
   "id": "1cc56405",
   "metadata": {
    "papermill": {
     "duration": 0.040158,
     "end_time": "2023-03-15T09:28:36.767335",
     "exception": false,
     "start_time": "2023-03-15T09:28:36.727177",
     "status": "completed"
    },
    "tags": []
   },
   "source": [
    "We need a label for each image. We'll use `1` for 3s and `0` for 7s. We add the `unsqueeze` bit here as it needs a matrix in pytorch, and the unsqueeze is just going to add an additional unit dimension at the position asked to make it from a vector to a matrix with 1 column:"
   ]
  },
  {
   "cell_type": "code",
   "execution_count": 46,
   "id": "259947db",
   "metadata": {
    "execution": {
     "iopub.execute_input": "2023-03-15T09:28:36.850678Z",
     "iopub.status.busy": "2023-03-15T09:28:36.849645Z",
     "iopub.status.idle": "2023-03-15T09:28:36.857682Z",
     "shell.execute_reply": "2023-03-15T09:28:36.856651Z"
    },
    "papermill": {
     "duration": 0.05145,
     "end_time": "2023-03-15T09:28:36.859612",
     "exception": false,
     "start_time": "2023-03-15T09:28:36.808162",
     "status": "completed"
    },
    "tags": []
   },
   "outputs": [
    {
     "data": {
      "text/plain": [
       "(torch.Size([12396, 784]), torch.Size([12396, 1]))"
      ]
     },
     "execution_count": 46,
     "metadata": {},
     "output_type": "execute_result"
    }
   ],
   "source": [
    "train_y = tensor([1]*len(threes) + [0]*len(sevens)).unsqueeze(1)\n",
    "train_x.shape,train_y.shape"
   ]
  },
  {
   "cell_type": "markdown",
   "id": "f6eaecaa",
   "metadata": {
    "papermill": {
     "duration": 0.040652,
     "end_time": "2023-03-15T09:28:36.941036",
     "exception": false,
     "start_time": "2023-03-15T09:28:36.900384",
     "status": "completed"
    },
    "tags": []
   },
   "source": [
    "A `Dataset` in PyTorch is required to return a tuple of `(x,y)` when indexed. Python provides a `zip` function which, when combined with `list`, provides a simple way to get this functionality:"
   ]
  },
  {
   "cell_type": "code",
   "execution_count": 47,
   "id": "cc770021",
   "metadata": {
    "execution": {
     "iopub.execute_input": "2023-03-15T09:28:37.025341Z",
     "iopub.status.busy": "2023-03-15T09:28:37.024909Z",
     "iopub.status.idle": "2023-03-15T09:28:37.251398Z",
     "shell.execute_reply": "2023-03-15T09:28:37.250346Z"
    },
    "papermill": {
     "duration": 0.271667,
     "end_time": "2023-03-15T09:28:37.253525",
     "exception": false,
     "start_time": "2023-03-15T09:28:36.981858",
     "status": "completed"
    },
    "tags": []
   },
   "outputs": [
    {
     "data": {
      "text/plain": [
       "(torch.Size([784]), tensor([1]))"
      ]
     },
     "execution_count": 47,
     "metadata": {},
     "output_type": "execute_result"
    }
   ],
   "source": [
    "dset = list(zip(train_x,train_y))\n",
    "x,y = dset[0]\n",
    "x.shape, y"
   ]
  },
  {
   "cell_type": "code",
   "execution_count": 48,
   "id": "1267eff7",
   "metadata": {
    "execution": {
     "iopub.execute_input": "2023-03-15T09:28:37.338230Z",
     "iopub.status.busy": "2023-03-15T09:28:37.337871Z",
     "iopub.status.idle": "2023-03-15T09:28:37.779662Z",
     "shell.execute_reply": "2023-03-15T09:28:37.778881Z"
    },
    "papermill": {
     "duration": 0.486961,
     "end_time": "2023-03-15T09:28:37.781724",
     "exception": false,
     "start_time": "2023-03-15T09:28:37.294763",
     "status": "completed"
    },
    "tags": []
   },
   "outputs": [
    {
     "data": {
      "text/plain": [
       "(torch.Size([1010, 28, 28]), torch.Size([1028, 28, 28]))"
      ]
     },
     "execution_count": 48,
     "metadata": {},
     "output_type": "execute_result"
    }
   ],
   "source": [
    "# do the same on the validation set\n",
    "valid_3_tens = torch.stack([tensor(Image.open(o)) \n",
    "                            for o in (path/'valid'/'3').ls()])\n",
    "valid_3_tens = valid_3_tens.float()/255\n",
    "valid_7_tens = torch.stack([tensor(Image.open(o)) \n",
    "                            for o in (path/'valid'/'7').ls()])\n",
    "valid_7_tens = valid_7_tens.float()/255\n",
    "valid_3_tens.shape,valid_7_tens.shape"
   ]
  },
  {
   "cell_type": "code",
   "execution_count": 49,
   "id": "e93c91cb",
   "metadata": {
    "execution": {
     "iopub.execute_input": "2023-03-15T09:28:37.867135Z",
     "iopub.status.busy": "2023-03-15T09:28:37.866230Z",
     "iopub.status.idle": "2023-03-15T09:28:37.877871Z",
     "shell.execute_reply": "2023-03-15T09:28:37.876897Z"
    },
    "papermill": {
     "duration": 0.057094,
     "end_time": "2023-03-15T09:28:37.880426",
     "exception": false,
     "start_time": "2023-03-15T09:28:37.823332",
     "status": "completed"
    },
    "tags": []
   },
   "outputs": [],
   "source": [
    "# do the same on the validation set\n",
    "valid_x = torch.cat([valid_3_tens, valid_7_tens]).view(-1, 28*28)\n",
    "valid_y = tensor([1]*len(valid_3_tens) + [0]*len(valid_7_tens)).unsqueeze(1)\n",
    "valid_dset = list(zip(valid_x,valid_y))"
   ]
  },
  {
   "cell_type": "markdown",
   "id": "44af5913",
   "metadata": {
    "papermill": {
     "duration": 0.041742,
     "end_time": "2023-03-15T09:28:37.964022",
     "exception": false,
     "start_time": "2023-03-15T09:28:37.922280",
     "status": "completed"
    },
    "tags": []
   },
   "source": [
    "Now we need an (initially random) weight for every pixel (this is the *initialize* step in our seven-step process):"
   ]
  },
  {
   "cell_type": "code",
   "execution_count": 50,
   "id": "28174ed3",
   "metadata": {
    "execution": {
     "iopub.execute_input": "2023-03-15T09:28:38.050833Z",
     "iopub.status.busy": "2023-03-15T09:28:38.050466Z",
     "iopub.status.idle": "2023-03-15T09:28:38.059926Z",
     "shell.execute_reply": "2023-03-15T09:28:38.059066Z"
    },
    "papermill": {
     "duration": 0.055981,
     "end_time": "2023-03-15T09:28:38.062138",
     "exception": false,
     "start_time": "2023-03-15T09:28:38.006157",
     "status": "completed"
    },
    "scrolled": true,
    "tags": []
   },
   "outputs": [
    {
     "data": {
      "text/plain": [
       "tensor([[-0.8011],\n",
       "        [-0.0104],\n",
       "        [-0.7760],\n",
       "        [ 1.1970],\n",
       "        [-0.2680]], grad_fn=<SliceBackward0>)"
      ]
     },
     "execution_count": 50,
     "metadata": {},
     "output_type": "execute_result"
    }
   ],
   "source": [
    "def init_params(size, std=1.0): \n",
    "    return (torch.randn(size)*std).requires_grad_()\n",
    "\n",
    "weights = init_params((28*28,1))\n",
    "weights[:5]"
   ]
  },
  {
   "cell_type": "markdown",
   "id": "5fe248d3",
   "metadata": {
    "papermill": {
     "duration": 0.042634,
     "end_time": "2023-03-15T09:28:38.146284",
     "exception": false,
     "start_time": "2023-03-15T09:28:38.103650",
     "status": "completed"
    },
    "tags": []
   },
   "source": [
    "The function `weights*pixels` won't be flexible enough—it is always equal to 0 when the pixels are equal to 0 (i.e., its *intercept* is 0). You might remember from high school math that the formula for a line is `y=w*x+b`; we still need the `b`. We'll initialize it to a random number too:"
   ]
  },
  {
   "cell_type": "code",
   "execution_count": 51,
   "id": "986d00ff",
   "metadata": {
    "execution": {
     "iopub.execute_input": "2023-03-15T09:28:38.236272Z",
     "iopub.status.busy": "2023-03-15T09:28:38.235546Z",
     "iopub.status.idle": "2023-03-15T09:28:38.242213Z",
     "shell.execute_reply": "2023-03-15T09:28:38.241472Z"
    },
    "papermill": {
     "duration": 0.054028,
     "end_time": "2023-03-15T09:28:38.244168",
     "exception": false,
     "start_time": "2023-03-15T09:28:38.190140",
     "status": "completed"
    },
    "tags": []
   },
   "outputs": [
    {
     "data": {
      "text/plain": [
       "tensor([-0.5639], requires_grad=True)"
      ]
     },
     "execution_count": 51,
     "metadata": {},
     "output_type": "execute_result"
    }
   ],
   "source": [
    "bias = init_params(1)\n",
    "bias"
   ]
  },
  {
   "cell_type": "markdown",
   "id": "98730c44",
   "metadata": {
    "papermill": {
     "duration": 0.043174,
     "end_time": "2023-03-15T09:28:38.330284",
     "exception": false,
     "start_time": "2023-03-15T09:28:38.287110",
     "status": "completed"
    },
    "tags": []
   },
   "source": [
    "In neural networks, the `w` in the equation `y=w*x+b` is called the *weights*, and the `b` is called the *bias*. Together, the weights and bias make up the *parameters*.\n",
    "\n",
    "We can now calculate a prediction for one image:"
   ]
  },
  {
   "cell_type": "code",
   "execution_count": 52,
   "id": "8643d4f4",
   "metadata": {
    "execution": {
     "iopub.execute_input": "2023-03-15T09:28:38.420032Z",
     "iopub.status.busy": "2023-03-15T09:28:38.419563Z",
     "iopub.status.idle": "2023-03-15T09:28:38.427101Z",
     "shell.execute_reply": "2023-03-15T09:28:38.426219Z"
    },
    "papermill": {
     "duration": 0.055227,
     "end_time": "2023-03-15T09:28:38.428973",
     "exception": false,
     "start_time": "2023-03-15T09:28:38.373746",
     "status": "completed"
    },
    "tags": []
   },
   "outputs": [
    {
     "data": {
      "text/plain": [
       "tensor([-0.7534], grad_fn=<AddBackward0>)"
      ]
     },
     "execution_count": 52,
     "metadata": {},
     "output_type": "execute_result"
    }
   ],
   "source": [
    "(train_x[0]*weights.T).sum() + bias"
   ]
  },
  {
   "cell_type": "markdown",
   "id": "aa548df7",
   "metadata": {
    "papermill": {
     "duration": 0.041423,
     "end_time": "2023-03-15T09:28:38.563523",
     "exception": false,
     "start_time": "2023-03-15T09:28:38.522100",
     "status": "completed"
    },
    "tags": []
   },
   "source": [
    "While we could use a Python `for` loop to calculate the prediction for each image, that would be very slow. Because Python loops don't run on the GPU, and because Python is a slow language for loops in general, we need to represent as much of the computation in a model as possible using higher-level functions.\n",
    "\n",
    "In this case, there's an extremely convenient mathematical operation that calculates `w*x` for every row of a matrix—it's called *matrix multiplication*. The image below shows what matrix multiplication looks like.\n",
    "    \n",
    "<img alt=\"Matrix multiplication\" width=\"400\" caption=\"Matrix multiplication\" src=\"https://raw.githubusercontent.com/fastai/fastbook/master/images/matmul2.svg\" id=\"matmul\"/>\n",
    "\n",
    "This image shows two matrices, `A` and `B`, being multiplied together. Each item of the result, which we'll call `AB`, contains each item of its corresponding row of `A` multiplied by each item of its corresponding column of `B`, added together. For instance, row 1, column 2 (the orange dot with a red border) is calculated as $a_{1,1} * b_{1,2} + a_{1,2} * b_{2,2}$. If you need a refresher on matrix multiplication, we suggest you take a look at the [Intro to Matrix Multiplication](https://youtu.be/kT4Mp9EdVqs) on *Khan Academy* or look at this [visual illustration](http://matrixmultiplication.xyz/), since this is the most important mathematical operation in deep learning.\n",
    "\n",
    "In Python, matrix multiplication is represented with the `@` operator. Let's try it:"
   ]
  },
  {
   "cell_type": "code",
   "execution_count": 53,
   "id": "a23e35a8",
   "metadata": {
    "execution": {
     "iopub.execute_input": "2023-03-15T09:28:38.650704Z",
     "iopub.status.busy": "2023-03-15T09:28:38.650295Z",
     "iopub.status.idle": "2023-03-15T09:28:38.664651Z",
     "shell.execute_reply": "2023-03-15T09:28:38.663587Z"
    },
    "papermill": {
     "duration": 0.060811,
     "end_time": "2023-03-15T09:28:38.666891",
     "exception": false,
     "start_time": "2023-03-15T09:28:38.606080",
     "status": "completed"
    },
    "tags": []
   },
   "outputs": [
    {
     "data": {
      "text/plain": [
       "tensor([[-0.7534],\n",
       "        [-2.4298],\n",
       "        [-5.4044],\n",
       "        ...,\n",
       "        [14.5353],\n",
       "        [-4.4769],\n",
       "        [ 6.8833]], grad_fn=<AddBackward0>)"
      ]
     },
     "execution_count": 53,
     "metadata": {},
     "output_type": "execute_result"
    }
   ],
   "source": [
    "def linear1(xb): \n",
    "    return xb@weights + bias\n",
    "preds = linear1(train_x)\n",
    "preds"
   ]
  },
  {
   "cell_type": "markdown",
   "id": "2a875a22",
   "metadata": {
    "papermill": {
     "duration": 0.0418,
     "end_time": "2023-03-15T09:28:38.750894",
     "exception": false,
     "start_time": "2023-03-15T09:28:38.709094",
     "status": "completed"
    },
    "tags": []
   },
   "source": [
    "The first element is the same as we calculated before, as we'd expect. This equation, `batch@weights + bias`, is one of the two fundamental equations of any neural network (the other one is the *activation function*, which we'll see in a moment).\n",
    "\n",
    "Let's check our accuracy. To decide if an output represents a 3 or a 7, we can just check whether it's greater than 0.5, so our accuracy for each item can be calculated.\n",
    "#### Broadcasting\n",
    "This can be calculated using broadcasting, instead of loops! The magic trick is that PyTorch, when it tries to perform a simple subtraction operation between two tensors of different ranks, will use *broadcasting*. That is, it will automatically expand the tensor with the smaller rank to have the same size as the one with the larger rank. Broadcasting is an important capability that makes tensor code much easier to write.\n",
    "\n",
    "After broadcasting so the two argument tensors have the same rank, PyTorch applies its usual logic for two tensors of the same rank: it performs the operation on each corresponding element of the two tensors, and returns the tensor result. For instance:"
   ]
  },
  {
   "cell_type": "code",
   "execution_count": 54,
   "id": "919924af",
   "metadata": {
    "execution": {
     "iopub.execute_input": "2023-03-15T09:28:38.839183Z",
     "iopub.status.busy": "2023-03-15T09:28:38.838563Z",
     "iopub.status.idle": "2023-03-15T09:28:38.846158Z",
     "shell.execute_reply": "2023-03-15T09:28:38.844367Z"
    },
    "papermill": {
     "duration": 0.055012,
     "end_time": "2023-03-15T09:28:38.848789",
     "exception": false,
     "start_time": "2023-03-15T09:28:38.793777",
     "status": "completed"
    },
    "tags": []
   },
   "outputs": [
    {
     "data": {
      "text/plain": [
       "tensor([2, 3, 4])"
      ]
     },
     "execution_count": 54,
     "metadata": {},
     "output_type": "execute_result"
    }
   ],
   "source": [
    "tensor([1,2,3]) + tensor(1)"
   ]
  },
  {
   "cell_type": "markdown",
   "id": "814d712e",
   "metadata": {
    "papermill": {
     "duration": 0.04234,
     "end_time": "2023-03-15T09:28:38.933249",
     "exception": false,
     "start_time": "2023-03-15T09:28:38.890909",
     "status": "completed"
    },
    "tags": []
   },
   "source": [
    "In our case we want to compare our prediction with `0.5`. To decide if an output represents a 3 or a 7, we can just check whether it's greater than `0.5`, so our accuracy for each item can be calculated."
   ]
  },
  {
   "cell_type": "code",
   "execution_count": 55,
   "id": "d332659d",
   "metadata": {
    "execution": {
     "iopub.execute_input": "2023-03-15T09:28:39.020457Z",
     "iopub.status.busy": "2023-03-15T09:28:39.020074Z",
     "iopub.status.idle": "2023-03-15T09:28:39.028833Z",
     "shell.execute_reply": "2023-03-15T09:28:39.027677Z"
    },
    "papermill": {
     "duration": 0.055372,
     "end_time": "2023-03-15T09:28:39.031061",
     "exception": false,
     "start_time": "2023-03-15T09:28:38.975689",
     "status": "completed"
    },
    "tags": []
   },
   "outputs": [
    {
     "data": {
      "text/plain": [
       "tensor([[False],\n",
       "        [False],\n",
       "        [False],\n",
       "        ...,\n",
       "        [False],\n",
       "        [ True],\n",
       "        [False]])"
      ]
     },
     "execution_count": 55,
     "metadata": {},
     "output_type": "execute_result"
    }
   ],
   "source": [
    "corrects = (preds>0.5).float() == train_y\n",
    "corrects"
   ]
  },
  {
   "cell_type": "code",
   "execution_count": 56,
   "id": "b0da1aff",
   "metadata": {
    "execution": {
     "iopub.execute_input": "2023-03-15T09:28:39.118794Z",
     "iopub.status.busy": "2023-03-15T09:28:39.118200Z",
     "iopub.status.idle": "2023-03-15T09:28:39.127569Z",
     "shell.execute_reply": "2023-03-15T09:28:39.125962Z"
    },
    "papermill": {
     "duration": 0.055781,
     "end_time": "2023-03-15T09:28:39.129944",
     "exception": false,
     "start_time": "2023-03-15T09:28:39.074163",
     "status": "completed"
    },
    "tags": []
   },
   "outputs": [
    {
     "data": {
      "text/plain": [
       "0.2722652554512024"
      ]
     },
     "execution_count": 56,
     "metadata": {},
     "output_type": "execute_result"
    }
   ],
   "source": [
    "# check our accuracy\n",
    "corrects.float().mean().item()"
   ]
  },
  {
   "cell_type": "markdown",
   "id": "a4393697",
   "metadata": {
    "papermill": {
     "duration": 0.042931,
     "end_time": "2023-03-15T09:28:39.216138",
     "exception": false,
     "start_time": "2023-03-15T09:28:39.173207",
     "status": "completed"
    },
    "tags": []
   },
   "source": [
    "Now let's see what the change in accuracy is for a small change in one of the weights:"
   ]
  },
  {
   "cell_type": "code",
   "execution_count": 57,
   "id": "0ec0cddf",
   "metadata": {
    "execution": {
     "iopub.execute_input": "2023-03-15T09:28:39.321759Z",
     "iopub.status.busy": "2023-03-15T09:28:39.321391Z",
     "iopub.status.idle": "2023-03-15T09:28:39.327448Z",
     "shell.execute_reply": "2023-03-15T09:28:39.326533Z"
    },
    "papermill": {
     "duration": 0.058411,
     "end_time": "2023-03-15T09:28:39.329520",
     "exception": false,
     "start_time": "2023-03-15T09:28:39.271109",
     "status": "completed"
    },
    "tags": []
   },
   "outputs": [],
   "source": [
    "weights.data[0] *= 1.0001"
   ]
  },
  {
   "cell_type": "code",
   "execution_count": 58,
   "id": "04c0fe26",
   "metadata": {
    "execution": {
     "iopub.execute_input": "2023-03-15T09:28:39.415662Z",
     "iopub.status.busy": "2023-03-15T09:28:39.415283Z",
     "iopub.status.idle": "2023-03-15T09:28:39.425534Z",
     "shell.execute_reply": "2023-03-15T09:28:39.424332Z"
    },
    "papermill": {
     "duration": 0.056121,
     "end_time": "2023-03-15T09:28:39.427970",
     "exception": false,
     "start_time": "2023-03-15T09:28:39.371849",
     "status": "completed"
    },
    "tags": []
   },
   "outputs": [
    {
     "data": {
      "text/plain": [
       "0.27525007724761963"
      ]
     },
     "execution_count": 58,
     "metadata": {},
     "output_type": "execute_result"
    }
   ],
   "source": [
    "preds = linear1(train_x)\n",
    "((preds>0.0).float() == train_y).float().mean().item()"
   ]
  },
  {
   "cell_type": "markdown",
   "id": "3c80c681",
   "metadata": {
    "papermill": {
     "duration": 0.042173,
     "end_time": "2023-03-15T09:28:39.512081",
     "exception": false,
     "start_time": "2023-03-15T09:28:39.469908",
     "status": "completed"
    },
    "tags": []
   },
   "source": [
    "As we've seen, we need gradients in order to improve our model using SGD, and in order to calculate gradients we need some *loss function* that represents how good our model is. That is because the gradients are a measure of how that loss function changes with small tweaks to the weights.\n",
    "\n",
    "So, we need to choose a loss function. The obvious approach would be to use accuracy, which is our metric, as our loss function as well. In this case, we would calculate our prediction for each image, collect these values to calculate an overall accuracy, and then calculate the gradients of each weight with respect to that overall accuracy.\n",
    "\n",
    "Unfortunately, we have a significant technical problem here. The gradient of a function is its *slope*, or its steepness, which can be defined as *rise over run*—that is, how much the value of the function goes up or down, divided by how much we changed the input. We can write this in mathematically as: `(y_new - y_old) / (x_new - x_old)`. This gives us a good approximation of the gradient when `x_new` is very similar to `x_old`, meaning that their difference is very small. But accuracy only changes at all when a prediction changes from a 3 to a 7, or vice versa. The problem is that a small change in weights from `x_old` to `x_new` isn't likely to cause any prediction to change, so `(y_new - y_old)` will almost always be 0. In other words, the gradient is 0 almost everywhere.\n",
    "\n",
    "A very small change in the value of a weight will often not actually change the accuracy at all. This means it is not useful to use accuracy as a loss function—if we do, most of the time our gradients will actually be 0, and the model will not be able to learn from that number.\n",
    "\n",
    "> In mathematical terms, accuracy is a function that is constant almost everywhere (except at the threshold, 0.5), so its derivative is nil almost everywhere (and infinity at the threshold). This then gives gradients that are 0 or infinite, which are useless for updating the model.\n",
    "\n",
    "Instead, we need a loss function which, when our weights result in slightly better predictions, gives us a slightly better loss. So what does a \"slightly better prediction\" look like, exactly? Well, in this case, it means that if the correct answer is a 3 the score is a little higher, or if the correct answer is a 7 the score is a little lower.\n",
    "\n",
    "Let's write such a function now. What form does it take?\n",
    "\n",
    "The loss function receives not the images themselves, but the predictions from the model. Let's make one argument, `prds`, of values between 0 and 1, where each value is the prediction that an image is a 3. It is a vector (i.e., a rank-1 tensor), indexed over the images.\n",
    "\n",
    "The purpose of the loss function is to measure the difference between predicted values and the true values — that is, the targets (aka labels). Let's make another argument, `trgts`, with values of 0 or 1 which tells whether an image actually is a 3 or not. It is also a vector (i.e., another rank-1 tensor), indexed over the images.\n",
    "\n",
    "So, for instance, suppose we had three images which we knew were a 3, a 7, and a 3. And suppose our model predicted with high confidence (`0.9`) that the first was a 3, with slight confidence (`0.4`) that the second was a 7, and with fair confidence (`0.2`), but incorrectly, that the last was a 7. This would mean our loss function would receive these values as its inputs:"
   ]
  },
  {
   "cell_type": "code",
   "execution_count": 59,
   "id": "631f5d43",
   "metadata": {
    "execution": {
     "iopub.execute_input": "2023-03-15T09:28:39.599276Z",
     "iopub.status.busy": "2023-03-15T09:28:39.598907Z",
     "iopub.status.idle": "2023-03-15T09:28:39.605221Z",
     "shell.execute_reply": "2023-03-15T09:28:39.603895Z"
    },
    "papermill": {
     "duration": 0.052387,
     "end_time": "2023-03-15T09:28:39.607228",
     "exception": false,
     "start_time": "2023-03-15T09:28:39.554841",
     "status": "completed"
    },
    "tags": []
   },
   "outputs": [],
   "source": [
    "trgts  = tensor([1,0,1])\n",
    "prds   = tensor([0.9, 0.4, 0.2])"
   ]
  },
  {
   "cell_type": "markdown",
   "id": "abb4bc53",
   "metadata": {
    "papermill": {
     "duration": 0.042836,
     "end_time": "2023-03-15T09:28:39.693426",
     "exception": false,
     "start_time": "2023-03-15T09:28:39.650590",
     "status": "completed"
    },
    "tags": []
   },
   "source": [
    "Here's a first try at a loss function that measures the distance between `predictions` and `targets`:"
   ]
  },
  {
   "cell_type": "code",
   "execution_count": 60,
   "id": "b49e5da9",
   "metadata": {
    "execution": {
     "iopub.execute_input": "2023-03-15T09:28:39.780833Z",
     "iopub.status.busy": "2023-03-15T09:28:39.780218Z",
     "iopub.status.idle": "2023-03-15T09:28:39.785895Z",
     "shell.execute_reply": "2023-03-15T09:28:39.784768Z"
    },
    "papermill": {
     "duration": 0.051604,
     "end_time": "2023-03-15T09:28:39.787956",
     "exception": false,
     "start_time": "2023-03-15T09:28:39.736352",
     "status": "completed"
    },
    "tags": []
   },
   "outputs": [],
   "source": [
    "def mnist_loss(predictions, targets):\n",
    "    return torch.where(targets==1, 1-predictions, predictions).mean()"
   ]
  },
  {
   "cell_type": "markdown",
   "id": "d8d57796",
   "metadata": {
    "papermill": {
     "duration": 0.042767,
     "end_time": "2023-03-15T09:28:39.873691",
     "exception": false,
     "start_time": "2023-03-15T09:28:39.830924",
     "status": "completed"
    },
    "tags": []
   },
   "source": [
    "We're using a new function, `torch.where(a,b,c)`. This is the same as running the list comprehension `[b[i] if a[i] else c[i] for i in range(len(a))]`, except it works on tensors, at C/CUDA speed. In plain English, this function will measure how distant each prediction is from 1 if it should be 1, and how distant it is from 0 if it should be 0, and then it will take the mean of all those distances.\n",
    "\n",
    "> It's important to learn about PyTorch functions like this, because looping over tensors in Python performs at Python speed, not C/CUDA speed! Try running `help(torch.where)` now to read the docs for this function, or, better still, look it up on the PyTorch documentation site."
   ]
  },
  {
   "cell_type": "code",
   "execution_count": 61,
   "id": "9e351577",
   "metadata": {
    "execution": {
     "iopub.execute_input": "2023-03-15T09:28:39.962121Z",
     "iopub.status.busy": "2023-03-15T09:28:39.961736Z",
     "iopub.status.idle": "2023-03-15T09:28:39.968104Z",
     "shell.execute_reply": "2023-03-15T09:28:39.966895Z"
    },
    "papermill": {
     "duration": 0.05434,
     "end_time": "2023-03-15T09:28:39.971416",
     "exception": false,
     "start_time": "2023-03-15T09:28:39.917076",
     "status": "completed"
    },
    "tags": []
   },
   "outputs": [
    {
     "name": "stdout",
     "output_type": "stream",
     "text": [
      "Help on built-in function where in module torch:\n",
      "\n",
      "where(...)\n",
      "    where(condition, x, y) -> Tensor\n",
      "    \n",
      "    Return a tensor of elements selected from either :attr:`x` or :attr:`y`, depending on :attr:`condition`.\n",
      "    \n",
      "    The operation is defined as:\n",
      "    \n",
      "    .. math::\n",
      "        \\text{out}_i = \\begin{cases}\n",
      "            \\text{x}_i & \\text{if } \\text{condition}_i \\\\\n",
      "            \\text{y}_i & \\text{otherwise} \\\\\n",
      "        \\end{cases}\n",
      "    \n",
      "    .. note::\n",
      "        The tensors :attr:`condition`, :attr:`x`, :attr:`y` must be :ref:`broadcastable <broadcasting-semantics>`.\n",
      "    \n",
      "    Arguments:\n",
      "        condition (BoolTensor): When True (nonzero), yield x, otherwise yield y\n",
      "        x (Tensor or Scalar): value (if :attr:`x` is a scalar) or values selected at indices\n",
      "                              where :attr:`condition` is ``True``\n",
      "        y (Tensor or Scalar): value (if :attr:`y` is a scalar) or values selected at indices\n",
      "                              where :attr:`condition` is ``False``\n",
      "    \n",
      "    Returns:\n",
      "        Tensor: A tensor of shape equal to the broadcasted shape of :attr:`condition`, :attr:`x`, :attr:`y`\n",
      "    \n",
      "    Example::\n",
      "    \n",
      "        >>> x = torch.randn(3, 2)\n",
      "        >>> y = torch.ones(3, 2)\n",
      "        >>> x\n",
      "        tensor([[-0.4620,  0.3139],\n",
      "                [ 0.3898, -0.7197],\n",
      "                [ 0.0478, -0.1657]])\n",
      "        >>> torch.where(x > 0, x, y)\n",
      "        tensor([[ 1.0000,  0.3139],\n",
      "                [ 0.3898,  1.0000],\n",
      "                [ 0.0478,  1.0000]])\n",
      "        >>> x = torch.randn(2, 2, dtype=torch.double)\n",
      "        >>> x\n",
      "        tensor([[ 1.0779,  0.0383],\n",
      "                [-0.8785, -1.1089]], dtype=torch.float64)\n",
      "        >>> torch.where(x > 0, x, 0.)\n",
      "        tensor([[1.0779, 0.0383],\n",
      "                [0.0000, 0.0000]], dtype=torch.float64)\n",
      "    \n",
      "    .. function:: where(condition) -> tuple of LongTensor\n",
      "       :noindex:\n",
      "    \n",
      "    ``torch.where(condition)`` is identical to\n",
      "    ``torch.nonzero(condition, as_tuple=True)``.\n",
      "    \n",
      "    .. note::\n",
      "        See also :func:`torch.nonzero`.\n",
      "\n"
     ]
    }
   ],
   "source": [
    "help(torch.where)"
   ]
  },
  {
   "cell_type": "markdown",
   "id": "bc19cf2b",
   "metadata": {
    "papermill": {
     "duration": 0.047487,
     "end_time": "2023-03-15T09:28:40.061047",
     "exception": false,
     "start_time": "2023-03-15T09:28:40.013560",
     "status": "completed"
    },
    "tags": []
   },
   "source": [
    "Let's try it on our `prds` and `trgts`:"
   ]
  },
  {
   "cell_type": "code",
   "execution_count": 62,
   "id": "a23ac621",
   "metadata": {
    "execution": {
     "iopub.execute_input": "2023-03-15T09:28:40.147351Z",
     "iopub.status.busy": "2023-03-15T09:28:40.146186Z",
     "iopub.status.idle": "2023-03-15T09:28:40.156262Z",
     "shell.execute_reply": "2023-03-15T09:28:40.155316Z"
    },
    "papermill": {
     "duration": 0.055583,
     "end_time": "2023-03-15T09:28:40.158265",
     "exception": false,
     "start_time": "2023-03-15T09:28:40.102682",
     "status": "completed"
    },
    "tags": []
   },
   "outputs": [
    {
     "data": {
      "text/plain": [
       "tensor([0.1000, 0.4000, 0.8000])"
      ]
     },
     "execution_count": 62,
     "metadata": {},
     "output_type": "execute_result"
    }
   ],
   "source": [
    "torch.where(trgts==1, 1-prds, prds)"
   ]
  },
  {
   "cell_type": "markdown",
   "id": "99c86bd3",
   "metadata": {
    "papermill": {
     "duration": 0.043038,
     "end_time": "2023-03-15T09:28:40.245358",
     "exception": false,
     "start_time": "2023-03-15T09:28:40.202320",
     "status": "completed"
    },
    "tags": []
   },
   "source": [
    "You can see that this function returns a lower number when predictions are more accurate, when accurate predictions are more confident (higher absolute values), and when inaccurate predictions are less confident. In PyTorch, we always assume that a lower value of a loss function is better. Since we need a scalar for the final loss, `mnist_loss` takes the mean of the previous tensor:"
   ]
  },
  {
   "cell_type": "code",
   "execution_count": 63,
   "id": "c24ca240",
   "metadata": {
    "execution": {
     "iopub.execute_input": "2023-03-15T09:28:40.334152Z",
     "iopub.status.busy": "2023-03-15T09:28:40.332578Z",
     "iopub.status.idle": "2023-03-15T09:28:40.340775Z",
     "shell.execute_reply": "2023-03-15T09:28:40.339765Z"
    },
    "papermill": {
     "duration": 0.054905,
     "end_time": "2023-03-15T09:28:40.342915",
     "exception": false,
     "start_time": "2023-03-15T09:28:40.288010",
     "status": "completed"
    },
    "tags": []
   },
   "outputs": [
    {
     "data": {
      "text/plain": [
       "tensor(0.4333)"
      ]
     },
     "execution_count": 63,
     "metadata": {},
     "output_type": "execute_result"
    }
   ],
   "source": [
    "mnist_loss(prds,trgts)"
   ]
  },
  {
   "cell_type": "markdown",
   "id": "bd12fd63",
   "metadata": {
    "papermill": {
     "duration": 0.042838,
     "end_time": "2023-03-15T09:28:40.428626",
     "exception": false,
     "start_time": "2023-03-15T09:28:40.385788",
     "status": "completed"
    },
    "tags": []
   },
   "source": [
    "For instance, if we change our prediction for the one \"false\" target from `0.2` to `0.8` the loss will go down, indicating that this is a better prediction:"
   ]
  },
  {
   "cell_type": "code",
   "execution_count": 64,
   "id": "989a0c87",
   "metadata": {
    "execution": {
     "iopub.execute_input": "2023-03-15T09:28:40.516717Z",
     "iopub.status.busy": "2023-03-15T09:28:40.515679Z",
     "iopub.status.idle": "2023-03-15T09:28:40.522899Z",
     "shell.execute_reply": "2023-03-15T09:28:40.521970Z"
    },
    "papermill": {
     "duration": 0.05307,
     "end_time": "2023-03-15T09:28:40.524900",
     "exception": false,
     "start_time": "2023-03-15T09:28:40.471830",
     "status": "completed"
    },
    "tags": []
   },
   "outputs": [
    {
     "data": {
      "text/plain": [
       "tensor(0.2333)"
      ]
     },
     "execution_count": 64,
     "metadata": {},
     "output_type": "execute_result"
    }
   ],
   "source": [
    "mnist_loss(tensor([0.9, 0.4, 0.8]),trgts)"
   ]
  },
  {
   "cell_type": "markdown",
   "id": "a1ffbf77",
   "metadata": {
    "papermill": {
     "duration": 0.043855,
     "end_time": "2023-03-15T09:28:40.611192",
     "exception": false,
     "start_time": "2023-03-15T09:28:40.567337",
     "status": "completed"
    },
    "tags": []
   },
   "source": [
    "One problem with `mnist_loss` as currently defined is that it assumes that predictions are always between 0 and 1. We need to ensure, then, that this is actually the case! As it happens, there is a function that does exactly that—let's take a look.\n",
    "\n",
    "### Sigmoid\n",
    "\n",
    "The `sigmoid` function always outputs a number between 0 and 1. It's defined as follows:"
   ]
  },
  {
   "cell_type": "code",
   "execution_count": 65,
   "id": "0ca6e523",
   "metadata": {
    "execution": {
     "iopub.execute_input": "2023-03-15T09:28:40.701801Z",
     "iopub.status.busy": "2023-03-15T09:28:40.701075Z",
     "iopub.status.idle": "2023-03-15T09:28:40.706253Z",
     "shell.execute_reply": "2023-03-15T09:28:40.705104Z"
    },
    "papermill": {
     "duration": 0.052889,
     "end_time": "2023-03-15T09:28:40.708342",
     "exception": false,
     "start_time": "2023-03-15T09:28:40.655453",
     "status": "completed"
    },
    "tags": []
   },
   "outputs": [],
   "source": [
    "def sigmoid(x): \n",
    "    return 1/(1+torch.exp(-x))"
   ]
  },
  {
   "cell_type": "markdown",
   "id": "9c2f0a31",
   "metadata": {
    "papermill": {
     "duration": 0.042781,
     "end_time": "2023-03-15T09:28:40.794793",
     "exception": false,
     "start_time": "2023-03-15T09:28:40.752012",
     "status": "completed"
    },
    "tags": []
   },
   "source": [
    "Pytorch defines an accelerated version for us, so we don’t really need our own. This is an important function in deep learning, since we often want to ensure values are between 0 and 1. This is what it looks like:"
   ]
  },
  {
   "cell_type": "code",
   "execution_count": 66,
   "id": "0a2c052c",
   "metadata": {
    "execution": {
     "iopub.execute_input": "2023-03-15T09:28:40.881805Z",
     "iopub.status.busy": "2023-03-15T09:28:40.881130Z",
     "iopub.status.idle": "2023-03-15T09:28:41.047352Z",
     "shell.execute_reply": "2023-03-15T09:28:41.046474Z"
    },
    "papermill": {
     "duration": 0.211864,
     "end_time": "2023-03-15T09:28:41.049559",
     "exception": false,
     "start_time": "2023-03-15T09:28:40.837695",
     "status": "completed"
    },
    "tags": []
   },
   "outputs": [
    {
     "data": {
      "image/png": "[encoded data removed]",
      "text/plain": [
       "<Figure size 600x400 with 1 Axes>"
      ]
     },
     "metadata": {},
     "output_type": "display_data"
    }
   ],
   "source": [
    "plot_function(torch.sigmoid, title='Sigmoid', min_=-4, max_=4)"
   ]
  },
  {
   "cell_type": "markdown",
   "id": "732bc30e",
   "metadata": {
    "papermill": {
     "duration": 0.043434,
     "end_time": "2023-03-15T09:28:41.135941",
     "exception": false,
     "start_time": "2023-03-15T09:28:41.092507",
     "status": "completed"
    },
    "tags": []
   },
   "source": [
    "As you can see, it takes any input value, positive or negative, and smooshes it onto an output value between 0 and 1. It's also a smooth curve that only goes up, which makes it easier for SGD to find meaningful gradients. \n",
    "\n",
    "Let's update `mnist_loss` to first apply `sigmoid` to the inputs:"
   ]
  },
  {
   "cell_type": "code",
   "execution_count": 67,
   "id": "969ccf34",
   "metadata": {
    "execution": {
     "iopub.execute_input": "2023-03-15T09:28:41.224967Z",
     "iopub.status.busy": "2023-03-15T09:28:41.224569Z",
     "iopub.status.idle": "2023-03-15T09:28:41.230025Z",
     "shell.execute_reply": "2023-03-15T09:28:41.228803Z"
    },
    "papermill": {
     "duration": 0.052219,
     "end_time": "2023-03-15T09:28:41.232120",
     "exception": false,
     "start_time": "2023-03-15T09:28:41.179901",
     "status": "completed"
    },
    "tags": []
   },
   "outputs": [],
   "source": [
    "def mnist_loss(predictions, targets):\n",
    "    predictions = predictions.sigmoid()\n",
    "    return torch.where(targets==1, 1-predictions, predictions).mean()"
   ]
  },
  {
   "cell_type": "markdown",
   "id": "8b976868",
   "metadata": {
    "papermill": {
     "duration": 0.043895,
     "end_time": "2023-03-15T09:28:41.318409",
     "exception": false,
     "start_time": "2023-03-15T09:28:41.274514",
     "status": "completed"
    },
    "tags": []
   },
   "source": [
    "Now we can be confident our loss function will work, even if the predictions are not between 0 and 1. All that is required is that a higher prediction corresponds to higher confidence an image is a 3.\n",
    "\n",
    "Having defined a loss function, now is a good moment to recapitulate why we did this. After all, we already had a metric, which was overall accuracy. So why did we define a loss?\n",
    "\n",
    "The key difference is that the metric is to drive human understanding and the loss is to drive automated learning. To drive automated learning, the loss must be a function that has a meaningful derivative. It can't have big flat sections and large jumps, but instead must be reasonably smooth. This is why we designed a loss function that would respond to small changes in confidence level. This requirement means that sometimes it does not really reflect exactly what we are trying to achieve, but is rather a compromise between our real goal, and a function that can be optimized using its gradient. The loss function is calculated for each item in our dataset, and then at the end of an epoch the loss values are all averaged and the overall mean is reported for the epoch.\n",
    "\n",
    "Metrics, on the other hand, are the numbers that we really care about. These are the values that are printed at the end of each epoch that tell us how our model is really doing. It is important that we learn to focus on these metrics, rather than the loss, when judging the performance of a model.\n",
    "\n",
    "### SGD and Mini-Batches\n",
    "\n",
    "Now that we have a loss function that is suitable for driving SGD, we can consider some of the details involved in the next phase of the learning process, which is to change or update the weights based on the gradients. This is called an *optimization step*.\n",
    "\n",
    "In order to take an optimization step we need to calculate the loss over one or more data items. How many should we use? We could calculate it for the whole dataset, and take the average, or we could calculate it for a single data item. But neither of these is ideal. Calculating it for the whole dataset would take a very long time. Calculating it for a single item would not use much information, so it would result in a very imprecise and unstable gradient. That is, you'd be going to the trouble of updating the weights, but taking into account only how that would improve the model's performance on that single item.\n",
    "\n",
    "So instead we take a compromise between the two: we calculate the average loss for a few data items at a time. This is called a *mini-batch*. The number of data items in the mini-batch is called the *batch size*. A larger batch size means that you will get a more accurate and stable estimate of your dataset's gradients from the loss function, but it will take longer, and you will process fewer mini-batches per epoch. Choosing a good batch size is one of the decisions you need to make as a deep learning practitioner to train your model quickly and accurately. We will talk about how to make this choice throughout this book.\n",
    "\n",
    "Another good reason for using mini-batches rather than calculating the gradient on individual data items is that, in practice, we nearly always do our training on an accelerator such as a GPU. These accelerators only perform well if they have lots of work to do at a time, so it's helpful if we can give them lots of data items to work on. Using mini-batches is one of the best ways to do this. However, if you give them too much data to work on at once, they run out of memory—making GPUs happy is also tricky!\n",
    "\n",
    "As we will see in the next lesson in our discussion of data augmentation, we get better generalization if we can vary things during training. One simple and effective thing we can vary is what data items we put in each mini-batch. Rather than simply enumerating our dataset in order for every epoch, instead what we normally do is randomly shuffle it on every epoch, before we create mini-batches. PyTorch and fastai provide a class that will do the shuffling and mini-batch collation for you, called `DataLoader`.\n",
    "\n",
    "A `DataLoader` can take any Python collection and turn it into an iterator over many batches, like so:"
   ]
  },
  {
   "cell_type": "code",
   "execution_count": 68,
   "id": "5acc9247",
   "metadata": {
    "execution": {
     "iopub.execute_input": "2023-03-15T09:28:41.407407Z",
     "iopub.status.busy": "2023-03-15T09:28:41.406694Z",
     "iopub.status.idle": "2023-03-15T09:28:41.415138Z",
     "shell.execute_reply": "2023-03-15T09:28:41.414362Z"
    },
    "papermill": {
     "duration": 0.054977,
     "end_time": "2023-03-15T09:28:41.417060",
     "exception": false,
     "start_time": "2023-03-15T09:28:41.362083",
     "status": "completed"
    },
    "tags": []
   },
   "outputs": [
    {
     "data": {
      "text/plain": [
       "[tensor([ 9, 13,  3,  2,  5]),\n",
       " tensor([ 6,  4, 12,  1,  8]),\n",
       " tensor([10,  0, 14, 11,  7])]"
      ]
     },
     "execution_count": 68,
     "metadata": {},
     "output_type": "execute_result"
    }
   ],
   "source": [
    "coll = range(15)\n",
    "dl = DataLoader(coll, batch_size=5, shuffle=True)\n",
    "list(dl)"
   ]
  },
  {
   "cell_type": "markdown",
   "id": "40420ae4",
   "metadata": {
    "papermill": {
     "duration": 0.043134,
     "end_time": "2023-03-15T09:28:41.503524",
     "exception": false,
     "start_time": "2023-03-15T09:28:41.460390",
     "status": "completed"
    },
    "tags": []
   },
   "source": [
    "For training a model, we don't just want any Python collection, but a collection containing independent and dependent variables (that is, the inputs and targets of the model). A collection that contains tuples of independent and dependent variables is known in PyTorch as a `Dataset`. Here's an example of an extremely simple `Dataset`:"
   ]
  },
  {
   "cell_type": "code",
   "execution_count": 69,
   "id": "6e1bccc9",
   "metadata": {
    "execution": {
     "iopub.execute_input": "2023-03-15T09:28:41.593585Z",
     "iopub.status.busy": "2023-03-15T09:28:41.593191Z",
     "iopub.status.idle": "2023-03-15T09:28:41.599634Z",
     "shell.execute_reply": "2023-03-15T09:28:41.598659Z"
    },
    "papermill": {
     "duration": 0.053904,
     "end_time": "2023-03-15T09:28:41.601690",
     "exception": false,
     "start_time": "2023-03-15T09:28:41.547786",
     "status": "completed"
    },
    "tags": []
   },
   "outputs": [
    {
     "data": {
      "text/plain": [
       "(#26) [(0, 'a'),(1, 'b'),(2, 'c'),(3, 'd'),(4, 'e'),(5, 'f'),(6, 'g'),(7, 'h'),(8, 'i'),(9, 'j')...]"
      ]
     },
     "execution_count": 69,
     "metadata": {},
     "output_type": "execute_result"
    }
   ],
   "source": [
    "ds = L(enumerate(string.ascii_lowercase))\n",
    "ds"
   ]
  },
  {
   "cell_type": "markdown",
   "id": "d275b14e",
   "metadata": {
    "papermill": {
     "duration": 0.045555,
     "end_time": "2023-03-15T09:28:41.690950",
     "exception": false,
     "start_time": "2023-03-15T09:28:41.645395",
     "status": "completed"
    },
    "tags": []
   },
   "source": [
    "When we pass a `Dataset` to a `DataLoader` we will get back many batches which are themselves tuples of tensors representing batches of independent and dependent variables:"
   ]
  },
  {
   "cell_type": "code",
   "execution_count": 70,
   "id": "1f4bca70",
   "metadata": {
    "execution": {
     "iopub.execute_input": "2023-03-15T09:28:41.780614Z",
     "iopub.status.busy": "2023-03-15T09:28:41.779844Z",
     "iopub.status.idle": "2023-03-15T09:28:41.789874Z",
     "shell.execute_reply": "2023-03-15T09:28:41.788950Z"
    },
    "papermill": {
     "duration": 0.056764,
     "end_time": "2023-03-15T09:28:41.791868",
     "exception": false,
     "start_time": "2023-03-15T09:28:41.735104",
     "status": "completed"
    },
    "tags": []
   },
   "outputs": [
    {
     "data": {
      "text/plain": [
       "[(tensor([ 9,  4,  2, 21, 12,  3]), ('j', 'e', 'c', 'v', 'm', 'd')),\n",
       " (tensor([16, 14, 15, 25,  8,  1]), ('q', 'o', 'p', 'z', 'i', 'b')),\n",
       " (tensor([22, 20, 10, 17, 11, 13]), ('w', 'u', 'k', 'r', 'l', 'n')),\n",
       " (tensor([24,  5, 19, 23,  7, 18]), ('y', 'f', 't', 'x', 'h', 's')),\n",
       " (tensor([6, 0]), ('g', 'a'))]"
      ]
     },
     "execution_count": 70,
     "metadata": {},
     "output_type": "execute_result"
    }
   ],
   "source": [
    "dl = DataLoader(ds, batch_size=6, shuffle=True)\n",
    "list(dl)"
   ]
  },
  {
   "cell_type": "markdown",
   "id": "ad63ac5e",
   "metadata": {
    "papermill": {
     "duration": 0.043552,
     "end_time": "2023-03-15T09:28:41.878923",
     "exception": false,
     "start_time": "2023-03-15T09:28:41.835371",
     "status": "completed"
    },
    "tags": []
   },
   "source": [
    "We are now ready to write our first training loop for a model using SGD!\n",
    "\n",
    "## Putting It All Together\n",
    "\n",
    "It's time to implement the process we saw in SGD. In code, our process will be implemented something like this for each epoch:\n",
    "\n",
    "```python\n",
    "for x,y in dl:\n",
    "    pred = model(x)\n",
    "    loss = loss_func(pred, y)\n",
    "    loss.backward()\n",
    "    parameters -= parameters.grad * lr\n",
    "```\n",
    "First, let's re-initialize our parameters:"
   ]
  },
  {
   "cell_type": "code",
   "execution_count": 71,
   "id": "bcac84dd",
   "metadata": {
    "execution": {
     "iopub.execute_input": "2023-03-15T09:28:41.969522Z",
     "iopub.status.busy": "2023-03-15T09:28:41.968736Z",
     "iopub.status.idle": "2023-03-15T09:28:41.974113Z",
     "shell.execute_reply": "2023-03-15T09:28:41.973095Z"
    },
    "papermill": {
     "duration": 0.053584,
     "end_time": "2023-03-15T09:28:41.976439",
     "exception": false,
     "start_time": "2023-03-15T09:28:41.922855",
     "status": "completed"
    },
    "tags": []
   },
   "outputs": [],
   "source": [
    "weights = init_params((28*28,1))\n",
    "bias = init_params(1)"
   ]
  },
  {
   "cell_type": "markdown",
   "id": "ba9ea944",
   "metadata": {
    "papermill": {
     "duration": 0.043584,
     "end_time": "2023-03-15T09:28:42.063578",
     "exception": false,
     "start_time": "2023-03-15T09:28:42.019994",
     "status": "completed"
    },
    "tags": []
   },
   "source": [
    "A `DataLoader` can be created from a `Dataset`:"
   ]
  },
  {
   "cell_type": "code",
   "execution_count": 72,
   "id": "b363ae7c",
   "metadata": {
    "execution": {
     "iopub.execute_input": "2023-03-15T09:28:42.152877Z",
     "iopub.status.busy": "2023-03-15T09:28:42.152433Z",
     "iopub.status.idle": "2023-03-15T09:28:42.162423Z",
     "shell.execute_reply": "2023-03-15T09:28:42.160821Z"
    },
    "papermill": {
     "duration": 0.057753,
     "end_time": "2023-03-15T09:28:42.165181",
     "exception": false,
     "start_time": "2023-03-15T09:28:42.107428",
     "status": "completed"
    },
    "tags": []
   },
   "outputs": [
    {
     "data": {
      "text/plain": [
       "(torch.Size([256, 784]), torch.Size([256, 1]))"
      ]
     },
     "execution_count": 72,
     "metadata": {},
     "output_type": "execute_result"
    }
   ],
   "source": [
    "dl = DataLoader(dset, batch_size=256)\n",
    "xb,yb = first(dl)\n",
    "xb.shape,yb.shape"
   ]
  },
  {
   "cell_type": "markdown",
   "id": "dae9812a",
   "metadata": {
    "papermill": {
     "duration": 0.043004,
     "end_time": "2023-03-15T09:28:42.253249",
     "exception": false,
     "start_time": "2023-03-15T09:28:42.210245",
     "status": "completed"
    },
    "tags": []
   },
   "source": [
    "We'll do the same for the validation set:"
   ]
  },
  {
   "cell_type": "code",
   "execution_count": 73,
   "id": "2743091d",
   "metadata": {
    "execution": {
     "iopub.execute_input": "2023-03-15T09:28:42.342881Z",
     "iopub.status.busy": "2023-03-15T09:28:42.342471Z",
     "iopub.status.idle": "2023-03-15T09:28:42.347873Z",
     "shell.execute_reply": "2023-03-15T09:28:42.346552Z"
    },
    "papermill": {
     "duration": 0.052932,
     "end_time": "2023-03-15T09:28:42.349763",
     "exception": false,
     "start_time": "2023-03-15T09:28:42.296831",
     "status": "completed"
    },
    "tags": []
   },
   "outputs": [],
   "source": [
    "valid_dl = DataLoader(valid_dset, batch_size=256)"
   ]
  },
  {
   "cell_type": "markdown",
   "id": "064abdb0",
   "metadata": {
    "papermill": {
     "duration": 0.042865,
     "end_time": "2023-03-15T09:28:42.436169",
     "exception": false,
     "start_time": "2023-03-15T09:28:42.393304",
     "status": "completed"
    },
    "tags": []
   },
   "source": [
    "Let's create a mini-batch of size 4 for testing:"
   ]
  },
  {
   "cell_type": "code",
   "execution_count": 74,
   "id": "b3a953e1",
   "metadata": {
    "execution": {
     "iopub.execute_input": "2023-03-15T09:28:42.526011Z",
     "iopub.status.busy": "2023-03-15T09:28:42.525253Z",
     "iopub.status.idle": "2023-03-15T09:28:42.531625Z",
     "shell.execute_reply": "2023-03-15T09:28:42.530705Z"
    },
    "papermill": {
     "duration": 0.054003,
     "end_time": "2023-03-15T09:28:42.533576",
     "exception": false,
     "start_time": "2023-03-15T09:28:42.479573",
     "status": "completed"
    },
    "tags": []
   },
   "outputs": [
    {
     "data": {
      "text/plain": [
       "torch.Size([4, 784])"
      ]
     },
     "execution_count": 74,
     "metadata": {},
     "output_type": "execute_result"
    }
   ],
   "source": [
    "batch = train_x[:4]\n",
    "batch.shape"
   ]
  },
  {
   "cell_type": "code",
   "execution_count": 75,
   "id": "776315dd",
   "metadata": {
    "execution": {
     "iopub.execute_input": "2023-03-15T09:28:42.625276Z",
     "iopub.status.busy": "2023-03-15T09:28:42.624155Z",
     "iopub.status.idle": "2023-03-15T09:28:42.631723Z",
     "shell.execute_reply": "2023-03-15T09:28:42.630910Z"
    },
    "papermill": {
     "duration": 0.056211,
     "end_time": "2023-03-15T09:28:42.633571",
     "exception": false,
     "start_time": "2023-03-15T09:28:42.577360",
     "status": "completed"
    },
    "tags": []
   },
   "outputs": [
    {
     "data": {
      "text/plain": [
       "tensor([[ 7.2109],\n",
       "        [ 3.5919],\n",
       "        [-1.2509],\n",
       "        [ 7.9522]], grad_fn=<AddBackward0>)"
      ]
     },
     "execution_count": 75,
     "metadata": {},
     "output_type": "execute_result"
    }
   ],
   "source": [
    "preds = linear1(batch)\n",
    "preds"
   ]
  },
  {
   "cell_type": "code",
   "execution_count": 76,
   "id": "a60d4f35",
   "metadata": {
    "execution": {
     "iopub.execute_input": "2023-03-15T09:28:42.724639Z",
     "iopub.status.busy": "2023-03-15T09:28:42.723997Z",
     "iopub.status.idle": "2023-03-15T09:28:42.730623Z",
     "shell.execute_reply": "2023-03-15T09:28:42.729604Z"
    },
    "papermill": {
     "duration": 0.055196,
     "end_time": "2023-03-15T09:28:42.733217",
     "exception": false,
     "start_time": "2023-03-15T09:28:42.678021",
     "status": "completed"
    },
    "tags": []
   },
   "outputs": [
    {
     "data": {
      "text/plain": [
       "tensor(0.2013, grad_fn=<MeanBackward0>)"
      ]
     },
     "execution_count": 76,
     "metadata": {},
     "output_type": "execute_result"
    }
   ],
   "source": [
    "loss = mnist_loss(preds, train_y[:4])\n",
    "loss"
   ]
  },
  {
   "cell_type": "markdown",
   "id": "38cff450",
   "metadata": {
    "papermill": {
     "duration": 0.051398,
     "end_time": "2023-03-15T09:28:42.830280",
     "exception": false,
     "start_time": "2023-03-15T09:28:42.778882",
     "status": "completed"
    },
    "tags": []
   },
   "source": [
    "Now we can calculate the gradients:"
   ]
  },
  {
   "cell_type": "code",
   "execution_count": 77,
   "id": "3d982c52",
   "metadata": {
    "execution": {
     "iopub.execute_input": "2023-03-15T09:28:42.930854Z",
     "iopub.status.busy": "2023-03-15T09:28:42.930490Z",
     "iopub.status.idle": "2023-03-15T09:28:42.938385Z",
     "shell.execute_reply": "2023-03-15T09:28:42.937665Z"
    },
    "papermill": {
     "duration": 0.059097,
     "end_time": "2023-03-15T09:28:42.940153",
     "exception": false,
     "start_time": "2023-03-15T09:28:42.881056",
     "status": "completed"
    },
    "tags": []
   },
   "outputs": [
    {
     "data": {
      "text/plain": [
       "(torch.Size([784, 1]), tensor(-0.0072), tensor([-0.0500]))"
      ]
     },
     "execution_count": 77,
     "metadata": {},
     "output_type": "execute_result"
    }
   ],
   "source": [
    "loss.backward()\n",
    "weights.grad.shape, weights.grad.mean(), bias.grad"
   ]
  },
  {
   "cell_type": "markdown",
   "id": "ad0588de",
   "metadata": {
    "papermill": {
     "duration": 0.04669,
     "end_time": "2023-03-15T09:28:43.031359",
     "exception": false,
     "start_time": "2023-03-15T09:28:42.984669",
     "status": "completed"
    },
    "tags": []
   },
   "source": [
    "The gradients are 784 by 1, so a column where every row is the gradient of the weight and the bias gradient is just a single number.\n",
    "\n",
    "Let's put that all in a function:"
   ]
  },
  {
   "cell_type": "code",
   "execution_count": 78,
   "id": "74920a8d",
   "metadata": {
    "execution": {
     "iopub.execute_input": "2023-03-15T09:28:43.131814Z",
     "iopub.status.busy": "2023-03-15T09:28:43.131063Z",
     "iopub.status.idle": "2023-03-15T09:28:43.136049Z",
     "shell.execute_reply": "2023-03-15T09:28:43.135353Z"
    },
    "papermill": {
     "duration": 0.059577,
     "end_time": "2023-03-15T09:28:43.138090",
     "exception": false,
     "start_time": "2023-03-15T09:28:43.078513",
     "status": "completed"
    },
    "tags": []
   },
   "outputs": [],
   "source": [
    "def calc_grad(xb, yb, model):\n",
    "    preds = model(xb)\n",
    "    loss = mnist_loss(preds, yb)\n",
    "    loss.backward()"
   ]
  },
  {
   "cell_type": "markdown",
   "id": "05195c0d",
   "metadata": {
    "papermill": {
     "duration": 0.04473,
     "end_time": "2023-03-15T09:28:43.226918",
     "exception": false,
     "start_time": "2023-03-15T09:28:43.182188",
     "status": "completed"
    },
    "tags": []
   },
   "source": [
    "and test it:"
   ]
  },
  {
   "cell_type": "code",
   "execution_count": 79,
   "id": "e777041b",
   "metadata": {
    "execution": {
     "iopub.execute_input": "2023-03-15T09:28:43.317700Z",
     "iopub.status.busy": "2023-03-15T09:28:43.317000Z",
     "iopub.status.idle": "2023-03-15T09:28:43.326202Z",
     "shell.execute_reply": "2023-03-15T09:28:43.325268Z"
    },
    "papermill": {
     "duration": 0.056899,
     "end_time": "2023-03-15T09:28:43.328196",
     "exception": false,
     "start_time": "2023-03-15T09:28:43.271297",
     "status": "completed"
    },
    "tags": []
   },
   "outputs": [
    {
     "data": {
      "text/plain": [
       "(tensor(-0.0143), tensor([-0.1001]))"
      ]
     },
     "execution_count": 79,
     "metadata": {},
     "output_type": "execute_result"
    }
   ],
   "source": [
    "calc_grad(batch, train_y[:4], linear1)\n",
    "weights.grad.mean(), bias.grad"
   ]
  },
  {
   "cell_type": "markdown",
   "id": "1b666d00",
   "metadata": {
    "papermill": {
     "duration": 0.045232,
     "end_time": "2023-03-15T09:28:43.417810",
     "exception": false,
     "start_time": "2023-03-15T09:28:43.372578",
     "status": "completed"
    },
    "tags": []
   },
   "source": [
    "But look what happens if we call it twice:"
   ]
  },
  {
   "cell_type": "code",
   "execution_count": 80,
   "id": "8f3bdc2b",
   "metadata": {
    "execution": {
     "iopub.execute_input": "2023-03-15T09:28:43.509536Z",
     "iopub.status.busy": "2023-03-15T09:28:43.508259Z",
     "iopub.status.idle": "2023-03-15T09:28:43.517004Z",
     "shell.execute_reply": "2023-03-15T09:28:43.515997Z"
    },
    "papermill": {
     "duration": 0.057283,
     "end_time": "2023-03-15T09:28:43.519749",
     "exception": false,
     "start_time": "2023-03-15T09:28:43.462466",
     "status": "completed"
    },
    "tags": []
   },
   "outputs": [
    {
     "data": {
      "text/plain": [
       "(tensor(-0.0215), tensor([-0.1501]))"
      ]
     },
     "execution_count": 80,
     "metadata": {},
     "output_type": "execute_result"
    }
   ],
   "source": [
    "calc_grad(batch, train_y[:4], linear1)\n",
    "weights.grad.mean(), bias.grad"
   ]
  },
  {
   "cell_type": "markdown",
   "id": "9900d423",
   "metadata": {
    "papermill": {
     "duration": 0.044885,
     "end_time": "2023-03-15T09:28:43.609037",
     "exception": false,
     "start_time": "2023-03-15T09:28:43.564152",
     "status": "completed"
    },
    "tags": []
   },
   "source": [
    "The gradients have changed! The reason for this is that `loss.backward` actually *adds* the gradients of `loss` to any gradients that are currently stored. So, we have to set the current gradients to 0 first:"
   ]
  },
  {
   "cell_type": "code",
   "execution_count": 81,
   "id": "94c0716b",
   "metadata": {
    "execution": {
     "iopub.execute_input": "2023-03-15T09:28:43.700476Z",
     "iopub.status.busy": "2023-03-15T09:28:43.700076Z",
     "iopub.status.idle": "2023-03-15T09:28:43.706964Z",
     "shell.execute_reply": "2023-03-15T09:28:43.705458Z"
    },
    "papermill": {
     "duration": 0.055301,
     "end_time": "2023-03-15T09:28:43.709453",
     "exception": false,
     "start_time": "2023-03-15T09:28:43.654152",
     "status": "completed"
    },
    "tags": []
   },
   "outputs": [],
   "source": [
    "weights.grad.zero_()\n",
    "bias.grad.zero_();"
   ]
  },
  {
   "cell_type": "markdown",
   "id": "684c956d",
   "metadata": {
    "papermill": {
     "duration": 0.044202,
     "end_time": "2023-03-15T09:28:43.799186",
     "exception": false,
     "start_time": "2023-03-15T09:28:43.754984",
     "status": "completed"
    },
    "tags": []
   },
   "source": [
    "> note: Inplace Operations: Methods in PyTorch whose names end in an underscore modify their objects _in place_. For instance, `bias.zero_()` sets all elements of the tensor `bias` to 0.\n",
    "\n",
    "Our only remaining step is to update the weights and biases based on the gradient and learning rate. When we do so, we have to tell PyTorch not to take the gradient of this step too—otherwise things will get very confusing when we try to compute the derivative at the next batch! If we assign to the `data` attribute of a tensor then PyTorch will not take the gradient of that step. Here's our basic training loop for an epoch:"
   ]
  },
  {
   "cell_type": "code",
   "execution_count": 82,
   "id": "62a37e47",
   "metadata": {
    "execution": {
     "iopub.execute_input": "2023-03-15T09:28:43.890158Z",
     "iopub.status.busy": "2023-03-15T09:28:43.889787Z",
     "iopub.status.idle": "2023-03-15T09:28:43.894467Z",
     "shell.execute_reply": "2023-03-15T09:28:43.893760Z"
    },
    "papermill": {
     "duration": 0.052774,
     "end_time": "2023-03-15T09:28:43.896331",
     "exception": false,
     "start_time": "2023-03-15T09:28:43.843557",
     "status": "completed"
    },
    "tags": []
   },
   "outputs": [],
   "source": [
    "def train_epoch(model, lr, params):\n",
    "    for xb,yb in dl:\n",
    "        calc_grad(xb, yb, model)\n",
    "        for p in params:\n",
    "            p.data -= p.grad*lr\n",
    "            p.grad.zero_()"
   ]
  },
  {
   "cell_type": "markdown",
   "id": "26b8843c",
   "metadata": {
    "papermill": {
     "duration": 0.044366,
     "end_time": "2023-03-15T09:28:43.984722",
     "exception": false,
     "start_time": "2023-03-15T09:28:43.940356",
     "status": "completed"
    },
    "tags": []
   },
   "source": [
    "We also want to check how we're doing, by looking at the accuracy of the validation set. To decide if an output represents a 3 or a 7, we can just check whether it's greater than 0. So our accuracy for each item can be calculated with:"
   ]
  },
  {
   "cell_type": "code",
   "execution_count": 83,
   "id": "eeed1c14",
   "metadata": {
    "execution": {
     "iopub.execute_input": "2023-03-15T09:28:44.076658Z",
     "iopub.status.busy": "2023-03-15T09:28:44.076019Z",
     "iopub.status.idle": "2023-03-15T09:28:44.081730Z",
     "shell.execute_reply": "2023-03-15T09:28:44.081045Z"
    },
    "papermill": {
     "duration": 0.053561,
     "end_time": "2023-03-15T09:28:44.083587",
     "exception": false,
     "start_time": "2023-03-15T09:28:44.030026",
     "status": "completed"
    },
    "tags": []
   },
   "outputs": [
    {
     "data": {
      "text/plain": [
       "tensor([[ True],\n",
       "        [ True],\n",
       "        [False],\n",
       "        [ True]])"
      ]
     },
     "execution_count": 83,
     "metadata": {},
     "output_type": "execute_result"
    }
   ],
   "source": [
    "(preds>0.0).float() == train_y[:4]"
   ]
  },
  {
   "cell_type": "markdown",
   "id": "a1179446",
   "metadata": {
    "papermill": {
     "duration": 0.044428,
     "end_time": "2023-03-15T09:28:44.172239",
     "exception": false,
     "start_time": "2023-03-15T09:28:44.127811",
     "status": "completed"
    },
    "tags": []
   },
   "source": [
    "That gives us this function to calculate our validation accuracy:"
   ]
  },
  {
   "cell_type": "code",
   "execution_count": 84,
   "id": "a18f181f",
   "metadata": {
    "execution": {
     "iopub.execute_input": "2023-03-15T09:28:44.264265Z",
     "iopub.status.busy": "2023-03-15T09:28:44.263883Z",
     "iopub.status.idle": "2023-03-15T09:28:44.269578Z",
     "shell.execute_reply": "2023-03-15T09:28:44.268558Z"
    },
    "papermill": {
     "duration": 0.054077,
     "end_time": "2023-03-15T09:28:44.272202",
     "exception": false,
     "start_time": "2023-03-15T09:28:44.218125",
     "status": "completed"
    },
    "tags": []
   },
   "outputs": [],
   "source": [
    "def batch_accuracy(xb, yb):\n",
    "    preds = xb.sigmoid()\n",
    "    correct = (preds>0.5) == yb\n",
    "    return correct.float().mean()"
   ]
  },
  {
   "cell_type": "markdown",
   "id": "630edca7",
   "metadata": {
    "papermill": {
     "duration": 0.044085,
     "end_time": "2023-03-15T09:28:44.361340",
     "exception": false,
     "start_time": "2023-03-15T09:28:44.317255",
     "status": "completed"
    },
    "tags": []
   },
   "source": [
    "We can check it works:"
   ]
  },
  {
   "cell_type": "code",
   "execution_count": 85,
   "id": "31dd6414",
   "metadata": {
    "execution": {
     "iopub.execute_input": "2023-03-15T09:28:44.453829Z",
     "iopub.status.busy": "2023-03-15T09:28:44.453291Z",
     "iopub.status.idle": "2023-03-15T09:28:44.460538Z",
     "shell.execute_reply": "2023-03-15T09:28:44.459831Z"
    },
    "papermill": {
     "duration": 0.055821,
     "end_time": "2023-03-15T09:28:44.462338",
     "exception": false,
     "start_time": "2023-03-15T09:28:44.406517",
     "status": "completed"
    },
    "tags": []
   },
   "outputs": [
    {
     "data": {
      "text/plain": [
       "tensor(0.7500)"
      ]
     },
     "execution_count": 85,
     "metadata": {},
     "output_type": "execute_result"
    }
   ],
   "source": [
    "batch_accuracy(linear1(batch), train_y[:4])"
   ]
  },
  {
   "cell_type": "markdown",
   "id": "9ab36975",
   "metadata": {
    "papermill": {
     "duration": 0.044471,
     "end_time": "2023-03-15T09:28:44.550918",
     "exception": false,
     "start_time": "2023-03-15T09:28:44.506447",
     "status": "completed"
    },
    "tags": []
   },
   "source": [
    "and then put the batches together (i.e. compute the accuracy on all our batches in the validation set):"
   ]
  },
  {
   "cell_type": "code",
   "execution_count": 86,
   "id": "8c68c079",
   "metadata": {
    "execution": {
     "iopub.execute_input": "2023-03-15T09:28:44.641850Z",
     "iopub.status.busy": "2023-03-15T09:28:44.641428Z",
     "iopub.status.idle": "2023-03-15T09:28:44.647453Z",
     "shell.execute_reply": "2023-03-15T09:28:44.646372Z"
    },
    "papermill": {
     "duration": 0.055103,
     "end_time": "2023-03-15T09:28:44.650188",
     "exception": false,
     "start_time": "2023-03-15T09:28:44.595085",
     "status": "completed"
    },
    "tags": []
   },
   "outputs": [],
   "source": [
    "def validate_epoch(model):\n",
    "    accs = [batch_accuracy(model(xb), yb) for xb,yb in valid_dl]\n",
    "    return round(torch.stack(accs).mean().item(), 4)"
   ]
  },
  {
   "cell_type": "code",
   "execution_count": 87,
   "id": "6976fd2a",
   "metadata": {
    "execution": {
     "iopub.execute_input": "2023-03-15T09:28:44.742469Z",
     "iopub.status.busy": "2023-03-15T09:28:44.741942Z",
     "iopub.status.idle": "2023-03-15T09:28:44.754762Z",
     "shell.execute_reply": "2023-03-15T09:28:44.753807Z"
    },
    "papermill": {
     "duration": 0.061062,
     "end_time": "2023-03-15T09:28:44.756779",
     "exception": false,
     "start_time": "2023-03-15T09:28:44.695717",
     "status": "completed"
    },
    "tags": []
   },
   "outputs": [
    {
     "data": {
      "text/plain": [
       "0.5598"
      ]
     },
     "execution_count": 87,
     "metadata": {},
     "output_type": "execute_result"
    }
   ],
   "source": [
    "validate_epoch(linear1)"
   ]
  },
  {
   "cell_type": "markdown",
   "id": "83a2214b",
   "metadata": {
    "papermill": {
     "duration": 0.043971,
     "end_time": "2023-03-15T09:28:44.845027",
     "exception": false,
     "start_time": "2023-03-15T09:28:44.801056",
     "status": "completed"
    },
    "tags": []
   },
   "source": [
    "That's our starting point. Let's train for one epoch, and see if the accuracy improves:"
   ]
  },
  {
   "cell_type": "code",
   "execution_count": 88,
   "id": "608f69fc",
   "metadata": {
    "execution": {
     "iopub.execute_input": "2023-03-15T09:28:44.936205Z",
     "iopub.status.busy": "2023-03-15T09:28:44.935579Z",
     "iopub.status.idle": "2023-03-15T09:28:44.993371Z",
     "shell.execute_reply": "2023-03-15T09:28:44.991874Z"
    },
    "papermill": {
     "duration": 0.106321,
     "end_time": "2023-03-15T09:28:44.996146",
     "exception": false,
     "start_time": "2023-03-15T09:28:44.889825",
     "status": "completed"
    },
    "tags": []
   },
   "outputs": [
    {
     "data": {
      "text/plain": [
       "0.7746"
      ]
     },
     "execution_count": 88,
     "metadata": {},
     "output_type": "execute_result"
    }
   ],
   "source": [
    "lr = 1.\n",
    "params = weights,bias\n",
    "train_epoch(linear1, lr, params)\n",
    "validate_epoch(linear1)"
   ]
  },
  {
   "cell_type": "markdown",
   "id": "c999cb31",
   "metadata": {
    "papermill": {
     "duration": 0.045009,
     "end_time": "2023-03-15T09:28:45.085823",
     "exception": false,
     "start_time": "2023-03-15T09:28:45.040814",
     "status": "completed"
    },
    "tags": []
   },
   "source": [
    "Then do a few more:"
   ]
  },
  {
   "cell_type": "code",
   "execution_count": 89,
   "id": "c4399296",
   "metadata": {
    "execution": {
     "iopub.execute_input": "2023-03-15T09:28:45.181134Z",
     "iopub.status.busy": "2023-03-15T09:28:45.179444Z",
     "iopub.status.idle": "2023-03-15T09:28:46.201042Z",
     "shell.execute_reply": "2023-03-15T09:28:46.199919Z"
    },
    "papermill": {
     "duration": 1.071468,
     "end_time": "2023-03-15T09:28:46.203298",
     "exception": false,
     "start_time": "2023-03-15T09:28:45.131830",
     "status": "completed"
    },
    "tags": []
   },
   "outputs": [
    {
     "name": "stdout",
     "output_type": "stream",
     "text": [
      "0.8665 0.9129 0.9295 0.9398 0.9471 0.9495 0.9534 0.9569 0.9593 0.9617 0.9622 0.9637 0.9642 0.9657 0.9661 0.9671 0.9681 0.9686 0.9696 0.9696 "
     ]
    }
   ],
   "source": [
    "for i in range(20):\n",
    "    train_epoch(linear1, lr, params)\n",
    "    print(validate_epoch(linear1), end=' ')"
   ]
  },
  {
   "cell_type": "markdown",
   "id": "c256586e",
   "metadata": {
    "papermill": {
     "duration": 0.044392,
     "end_time": "2023-03-15T09:28:46.293649",
     "exception": false,
     "start_time": "2023-03-15T09:28:46.249257",
     "status": "completed"
    },
    "tags": []
   },
   "source": [
    "Looking good! We're already at a good accuracy, and we've created a general-purpose foundation we can build on. Our next step will be to create an object that will handle the SGD step for us. In PyTorch, it's called an *optimizer*.\n",
    "\n",
    "### Creating an Optimizer\n",
    "\n",
    "Because this is such a general foundation, PyTorch provides some useful classes to make it easier to implement. The first thing we can do is replace our `linear1` function with PyTorch's `nn.Linear` module. A *module* is an object of a class that inherits from the PyTorch `nn.Module` class. Objects of this class behave identically to standard Python functions, in that you can call them using parentheses and they will return the activations of a model.\n",
    "\n",
    "`nn.Linear` does the same thing as our `init_params` and `linear` together. It contains both the *weights* and *biases* in a single class. Here's how we replicate our model from the previous section:"
   ]
  },
  {
   "cell_type": "code",
   "execution_count": 90,
   "id": "641a12bb",
   "metadata": {
    "execution": {
     "iopub.execute_input": "2023-03-15T09:28:46.384354Z",
     "iopub.status.busy": "2023-03-15T09:28:46.383961Z",
     "iopub.status.idle": "2023-03-15T09:28:46.391275Z",
     "shell.execute_reply": "2023-03-15T09:28:46.389945Z"
    },
    "papermill": {
     "duration": 0.056003,
     "end_time": "2023-03-15T09:28:46.393882",
     "exception": false,
     "start_time": "2023-03-15T09:28:46.337879",
     "status": "completed"
    },
    "tags": []
   },
   "outputs": [],
   "source": [
    "linear_model = nn.Linear(28*28,1)"
   ]
  },
  {
   "cell_type": "markdown",
   "id": "482afb81",
   "metadata": {
    "papermill": {
     "duration": 0.043688,
     "end_time": "2023-03-15T09:28:46.482071",
     "exception": false,
     "start_time": "2023-03-15T09:28:46.438383",
     "status": "completed"
    },
    "tags": []
   },
   "source": [
    "Every PyTorch module knows what parameters it has that can be trained; they are available through the `parameters` method:"
   ]
  },
  {
   "cell_type": "code",
   "execution_count": 91,
   "id": "d9fa9424",
   "metadata": {
    "execution": {
     "iopub.execute_input": "2023-03-15T09:28:46.573507Z",
     "iopub.status.busy": "2023-03-15T09:28:46.572921Z",
     "iopub.status.idle": "2023-03-15T09:28:46.578847Z",
     "shell.execute_reply": "2023-03-15T09:28:46.577861Z"
    },
    "papermill": {
     "duration": 0.054678,
     "end_time": "2023-03-15T09:28:46.581407",
     "exception": false,
     "start_time": "2023-03-15T09:28:46.526729",
     "status": "completed"
    },
    "tags": []
   },
   "outputs": [
    {
     "data": {
      "text/plain": [
       "(torch.Size([1, 784]), torch.Size([1]))"
      ]
     },
     "execution_count": 91,
     "metadata": {},
     "output_type": "execute_result"
    }
   ],
   "source": [
    "w,b = linear_model.parameters()\n",
    "w.shape,b.shape"
   ]
  },
  {
   "cell_type": "markdown",
   "id": "e6103687",
   "metadata": {
    "papermill": {
     "duration": 0.045883,
     "end_time": "2023-03-15T09:28:46.674165",
     "exception": false,
     "start_time": "2023-03-15T09:28:46.628282",
     "status": "completed"
    },
    "tags": []
   },
   "source": [
    "We can use this information to create an optimizer:"
   ]
  },
  {
   "cell_type": "code",
   "execution_count": 92,
   "id": "32a997ff",
   "metadata": {
    "execution": {
     "iopub.execute_input": "2023-03-15T09:28:46.768358Z",
     "iopub.status.busy": "2023-03-15T09:28:46.767789Z",
     "iopub.status.idle": "2023-03-15T09:28:46.774405Z",
     "shell.execute_reply": "2023-03-15T09:28:46.773315Z"
    },
    "papermill": {
     "duration": 0.056924,
     "end_time": "2023-03-15T09:28:46.776858",
     "exception": false,
     "start_time": "2023-03-15T09:28:46.719934",
     "status": "completed"
    },
    "tags": []
   },
   "outputs": [],
   "source": [
    "class BasicOptim:\n",
    "    def __init__(self,params,lr): \n",
    "        self.params,self.lr = list(params),lr\n",
    "\n",
    "    def step(self, *args, **kwargs):\n",
    "        for p in self.params: \n",
    "            p.data -= p.grad.data * self.lr\n",
    "\n",
    "    def zero_grad(self, *args, **kwargs):\n",
    "        for p in self.params: \n",
    "            p.grad = None"
   ]
  },
  {
   "cell_type": "markdown",
   "id": "f412bf8e",
   "metadata": {
    "papermill": {
     "duration": 0.04496,
     "end_time": "2023-03-15T09:28:46.867756",
     "exception": false,
     "start_time": "2023-03-15T09:28:46.822796",
     "status": "completed"
    },
    "tags": []
   },
   "source": [
    "We can create our optimizer by passing in the model's parameters:"
   ]
  },
  {
   "cell_type": "code",
   "execution_count": 93,
   "id": "a91a9bdc",
   "metadata": {
    "execution": {
     "iopub.execute_input": "2023-03-15T09:28:46.961101Z",
     "iopub.status.busy": "2023-03-15T09:28:46.960699Z",
     "iopub.status.idle": "2023-03-15T09:28:46.965625Z",
     "shell.execute_reply": "2023-03-15T09:28:46.964252Z"
    },
    "papermill": {
     "duration": 0.05408,
     "end_time": "2023-03-15T09:28:46.968073",
     "exception": false,
     "start_time": "2023-03-15T09:28:46.913993",
     "status": "completed"
    },
    "tags": []
   },
   "outputs": [],
   "source": [
    "opt = BasicOptim(linear_model.parameters(), lr)"
   ]
  },
  {
   "cell_type": "markdown",
   "id": "67873a66",
   "metadata": {
    "papermill": {
     "duration": 0.043953,
     "end_time": "2023-03-15T09:28:47.056852",
     "exception": false,
     "start_time": "2023-03-15T09:28:47.012899",
     "status": "completed"
    },
    "tags": []
   },
   "source": [
    "Our training loop can now be simplified to:"
   ]
  },
  {
   "cell_type": "code",
   "execution_count": 94,
   "id": "b84c4d57",
   "metadata": {
    "execution": {
     "iopub.execute_input": "2023-03-15T09:28:47.147642Z",
     "iopub.status.busy": "2023-03-15T09:28:47.146649Z",
     "iopub.status.idle": "2023-03-15T09:28:47.151143Z",
     "shell.execute_reply": "2023-03-15T09:28:47.150526Z"
    },
    "papermill": {
     "duration": 0.052282,
     "end_time": "2023-03-15T09:28:47.152944",
     "exception": false,
     "start_time": "2023-03-15T09:28:47.100662",
     "status": "completed"
    },
    "tags": []
   },
   "outputs": [],
   "source": [
    "def train_epoch(model):\n",
    "    for xb,yb in dl:\n",
    "        calc_grad(xb, yb, model)\n",
    "        opt.step()\n",
    "        opt.zero_grad()"
   ]
  },
  {
   "cell_type": "markdown",
   "id": "c270124e",
   "metadata": {
    "papermill": {
     "duration": 0.045624,
     "end_time": "2023-03-15T09:28:47.244155",
     "exception": false,
     "start_time": "2023-03-15T09:28:47.198531",
     "status": "completed"
    },
    "tags": []
   },
   "source": [
    "Our validation function doesn't need to change at all:"
   ]
  },
  {
   "cell_type": "code",
   "execution_count": 95,
   "id": "bfcb62f9",
   "metadata": {
    "execution": {
     "iopub.execute_input": "2023-03-15T09:28:47.336958Z",
     "iopub.status.busy": "2023-03-15T09:28:47.336525Z",
     "iopub.status.idle": "2023-03-15T09:28:47.353752Z",
     "shell.execute_reply": "2023-03-15T09:28:47.351692Z"
    },
    "papermill": {
     "duration": 0.067246,
     "end_time": "2023-03-15T09:28:47.356481",
     "exception": false,
     "start_time": "2023-03-15T09:28:47.289235",
     "status": "completed"
    },
    "tags": []
   },
   "outputs": [
    {
     "data": {
      "text/plain": [
       "0.481"
      ]
     },
     "execution_count": 95,
     "metadata": {},
     "output_type": "execute_result"
    }
   ],
   "source": [
    "validate_epoch(linear_model)"
   ]
  },
  {
   "cell_type": "markdown",
   "id": "057ecb7f",
   "metadata": {
    "papermill": {
     "duration": 0.045084,
     "end_time": "2023-03-15T09:28:47.502456",
     "exception": false,
     "start_time": "2023-03-15T09:28:47.457372",
     "status": "completed"
    },
    "tags": []
   },
   "source": [
    "Let's put our little training loop in a function, to make things simpler:"
   ]
  },
  {
   "cell_type": "code",
   "execution_count": 96,
   "id": "ac0c9f61",
   "metadata": {
    "execution": {
     "iopub.execute_input": "2023-03-15T09:28:47.595360Z",
     "iopub.status.busy": "2023-03-15T09:28:47.594988Z",
     "iopub.status.idle": "2023-03-15T09:28:47.600724Z",
     "shell.execute_reply": "2023-03-15T09:28:47.599419Z"
    },
    "papermill": {
     "duration": 0.055099,
     "end_time": "2023-03-15T09:28:47.602916",
     "exception": false,
     "start_time": "2023-03-15T09:28:47.547817",
     "status": "completed"
    },
    "tags": []
   },
   "outputs": [],
   "source": [
    "def train_model(model, epochs):\n",
    "    for i in range(epochs):\n",
    "        train_epoch(model)\n",
    "        print(validate_epoch(model), end=' ')"
   ]
  },
  {
   "cell_type": "markdown",
   "id": "de88b440",
   "metadata": {
    "papermill": {
     "duration": 0.045942,
     "end_time": "2023-03-15T09:28:47.694413",
     "exception": false,
     "start_time": "2023-03-15T09:28:47.648471",
     "status": "completed"
    },
    "tags": []
   },
   "source": [
    "The results are the same as in the previous section:"
   ]
  },
  {
   "cell_type": "code",
   "execution_count": 97,
   "id": "010c1fa3",
   "metadata": {
    "execution": {
     "iopub.execute_input": "2023-03-15T09:28:47.786883Z",
     "iopub.status.busy": "2023-03-15T09:28:47.786248Z",
     "iopub.status.idle": "2023-03-15T09:28:48.823002Z",
     "shell.execute_reply": "2023-03-15T09:28:48.821134Z"
    },
    "papermill": {
     "duration": 1.086116,
     "end_time": "2023-03-15T09:28:48.825936",
     "exception": false,
     "start_time": "2023-03-15T09:28:47.739820",
     "status": "completed"
    },
    "tags": []
   },
   "outputs": [
    {
     "name": "stdout",
     "output_type": "stream",
     "text": [
      "0.4932 0.8584 0.8315 0.9106 0.9336 0.9477 0.9555 0.9623 0.9658 0.9682 0.9697 0.9726 0.9741 0.975 0.976 0.9765 0.9775 0.978 0.9785 0.9785 "
     ]
    }
   ],
   "source": [
    "train_model(linear_model, 20)"
   ]
  },
  {
   "cell_type": "markdown",
   "id": "9d9b91f8",
   "metadata": {
    "papermill": {
     "duration": 0.045309,
     "end_time": "2023-03-15T09:28:48.917704",
     "exception": false,
     "start_time": "2023-03-15T09:28:48.872395",
     "status": "completed"
    },
    "tags": []
   },
   "source": [
    "fastai provides the `SGD` class which, by default, does the same thing as our `BasicOptim`:"
   ]
  },
  {
   "cell_type": "code",
   "execution_count": 98,
   "id": "d356fb9b",
   "metadata": {
    "execution": {
     "iopub.execute_input": "2023-03-15T09:28:49.011433Z",
     "iopub.status.busy": "2023-03-15T09:28:49.011041Z",
     "iopub.status.idle": "2023-03-15T09:28:50.147016Z",
     "shell.execute_reply": "2023-03-15T09:28:50.145219Z"
    },
    "papermill": {
     "duration": 1.186285,
     "end_time": "2023-03-15T09:28:50.149846",
     "exception": false,
     "start_time": "2023-03-15T09:28:48.963561",
     "status": "completed"
    },
    "tags": []
   },
   "outputs": [
    {
     "name": "stdout",
     "output_type": "stream",
     "text": [
      "0.4932 0.7749 0.8598 0.9184 0.936 0.9502 0.957 0.9633 0.9658 0.9677 0.9706 0.9726 0.9736 0.975 0.976 0.977 0.9775 0.9775 0.978 0.978 "
     ]
    }
   ],
   "source": [
    "linear_model = nn.Linear(28*28,1)\n",
    "opt = SGD(linear_model.parameters(), lr)\n",
    "train_model(linear_model, 20)"
   ]
  },
  {
   "cell_type": "markdown",
   "id": "551b1e94",
   "metadata": {
    "papermill": {
     "duration": 0.055679,
     "end_time": "2023-03-15T09:28:50.251892",
     "exception": false,
     "start_time": "2023-03-15T09:28:50.196213",
     "status": "completed"
    },
    "tags": []
   },
   "source": [
    "fastai also provides `Learner.fit`, which we can use instead of `train_model`. To create a `Learner` we first need to create a `DataLoaders`, by passing in our training and validation `DataLoader`s:"
   ]
  },
  {
   "cell_type": "code",
   "execution_count": 99,
   "id": "d1e83e1a",
   "metadata": {
    "execution": {
     "iopub.execute_input": "2023-03-15T09:28:50.356694Z",
     "iopub.status.busy": "2023-03-15T09:28:50.356281Z",
     "iopub.status.idle": "2023-03-15T09:28:50.361447Z",
     "shell.execute_reply": "2023-03-15T09:28:50.360491Z"
    },
    "papermill": {
     "duration": 0.055424,
     "end_time": "2023-03-15T09:28:50.364228",
     "exception": false,
     "start_time": "2023-03-15T09:28:50.308804",
     "status": "completed"
    },
    "tags": []
   },
   "outputs": [],
   "source": [
    "dls = DataLoaders(dl, valid_dl)"
   ]
  },
  {
   "cell_type": "markdown",
   "id": "61c9fa02",
   "metadata": {
    "papermill": {
     "duration": 0.046057,
     "end_time": "2023-03-15T09:28:50.456492",
     "exception": false,
     "start_time": "2023-03-15T09:28:50.410435",
     "status": "completed"
    },
    "tags": []
   },
   "source": [
    "To create a `Learner` without using an application (such as `cnn_learner`) we need to pass in all the elements that we've created in this chapter: the `DataLoaders`, the model, the optimization function (which will be passed the parameters), the loss function, and optionally any metrics to print:"
   ]
  },
  {
   "cell_type": "code",
   "execution_count": 100,
   "id": "9aaf7070",
   "metadata": {
    "execution": {
     "iopub.execute_input": "2023-03-15T09:28:50.552495Z",
     "iopub.status.busy": "2023-03-15T09:28:50.552088Z",
     "iopub.status.idle": "2023-03-15T09:28:50.559220Z",
     "shell.execute_reply": "2023-03-15T09:28:50.557476Z"
    },
    "papermill": {
     "duration": 0.05787,
     "end_time": "2023-03-15T09:28:50.562123",
     "exception": false,
     "start_time": "2023-03-15T09:28:50.504253",
     "status": "completed"
    },
    "tags": []
   },
   "outputs": [],
   "source": [
    "learn = Learner(dls, nn.Linear(28*28,1), opt_func=SGD,\n",
    "                loss_func=mnist_loss, metrics=batch_accuracy)"
   ]
  },
  {
   "cell_type": "markdown",
   "id": "13acf808",
   "metadata": {
    "papermill": {
     "duration": 0.047327,
     "end_time": "2023-03-15T09:28:50.656949",
     "exception": false,
     "start_time": "2023-03-15T09:28:50.609622",
     "status": "completed"
    },
    "tags": []
   },
   "source": [
    "Now we can call `fit`:"
   ]
  },
  {
   "cell_type": "code",
   "execution_count": 101,
   "id": "f850002a",
   "metadata": {
    "execution": {
     "iopub.execute_input": "2023-03-15T09:28:50.752996Z",
     "iopub.status.busy": "2023-03-15T09:28:50.752076Z",
     "iopub.status.idle": "2023-03-15T09:28:52.355551Z",
     "shell.execute_reply": "2023-03-15T09:28:52.354454Z"
    },
    "papermill": {
     "duration": 1.653764,
     "end_time": "2023-03-15T09:28:52.357662",
     "exception": false,
     "start_time": "2023-03-15T09:28:50.703898",
     "status": "completed"
    },
    "tags": []
   },
   "outputs": [
    {
     "data": {
      "text/html": [
       "\n",
       "<style>\n",
       "    /* Turns off some styling */\n",
       "    progress {\n",
       "        /* gets rid of default border in Firefox and Opera. */\n",
       "        border: none;\n",
       "        /* Needs to be in here for Safari polyfill so background images work as expected. */\n",
       "        background-size: auto;\n",
       "    }\n",
       "    progress:not([value]), progress:not([value])::-webkit-progress-bar {\n",
       "        background: repeating-linear-gradient(45deg, #7e7e7e, #7e7e7e 10px, #5c5c5c 10px, #5c5c5c 20px);\n",
       "    }\n",
       "    .progress-bar-interrupted, .progress-bar-interrupted::-webkit-progress-bar {\n",
       "        background: #F44336;\n",
       "    }\n",
       "</style>\n"
      ],
      "text/plain": [
       "<IPython.core.display.HTML object>"
      ]
     },
     "metadata": {},
     "output_type": "display_data"
    },
    {
     "data": {
      "text/html": [
       "<table border=\"1\" class=\"dataframe\">\n",
       "  <thead>\n",
       "    <tr style=\"text-align: left;\">\n",
       "      <th>epoch</th>\n",
       "      <th>train_loss</th>\n",
       "      <th>valid_loss</th>\n",
       "      <th>batch_accuracy</th>\n",
       "      <th>time</th>\n",
       "    </tr>\n",
       "  </thead>\n",
       "  <tbody>\n",
       "    <tr>\n",
       "      <td>0</td>\n",
       "      <td>0.637035</td>\n",
       "      <td>0.503592</td>\n",
       "      <td>0.495584</td>\n",
       "      <td>00:00</td>\n",
       "    </tr>\n",
       "    <tr>\n",
       "      <td>1</td>\n",
       "      <td>0.589362</td>\n",
       "      <td>0.157815</td>\n",
       "      <td>0.875368</td>\n",
       "      <td>00:00</td>\n",
       "    </tr>\n",
       "    <tr>\n",
       "      <td>2</td>\n",
       "      <td>0.213702</td>\n",
       "      <td>0.193629</td>\n",
       "      <td>0.822866</td>\n",
       "      <td>00:00</td>\n",
       "    </tr>\n",
       "    <tr>\n",
       "      <td>3</td>\n",
       "      <td>0.091843</td>\n",
       "      <td>0.111101</td>\n",
       "      <td>0.909715</td>\n",
       "      <td>00:00</td>\n",
       "    </tr>\n",
       "    <tr>\n",
       "      <td>4</td>\n",
       "      <td>0.047133</td>\n",
       "      <td>0.079978</td>\n",
       "      <td>0.932287</td>\n",
       "      <td>00:00</td>\n",
       "    </tr>\n",
       "    <tr>\n",
       "      <td>5</td>\n",
       "      <td>0.029835</td>\n",
       "      <td>0.063594</td>\n",
       "      <td>0.945535</td>\n",
       "      <td>00:00</td>\n",
       "    </tr>\n",
       "    <tr>\n",
       "      <td>6</td>\n",
       "      <td>0.022827</td>\n",
       "      <td>0.053457</td>\n",
       "      <td>0.954858</td>\n",
       "      <td>00:00</td>\n",
       "    </tr>\n",
       "    <tr>\n",
       "      <td>7</td>\n",
       "      <td>0.019783</td>\n",
       "      <td>0.046747</td>\n",
       "      <td>0.962709</td>\n",
       "      <td>00:00</td>\n",
       "    </tr>\n",
       "    <tr>\n",
       "      <td>8</td>\n",
       "      <td>0.018289</td>\n",
       "      <td>0.042075</td>\n",
       "      <td>0.965162</td>\n",
       "      <td>00:00</td>\n",
       "    </tr>\n",
       "    <tr>\n",
       "      <td>9</td>\n",
       "      <td>0.017421</td>\n",
       "      <td>0.038665</td>\n",
       "      <td>0.967615</td>\n",
       "      <td>00:00</td>\n",
       "    </tr>\n",
       "  </tbody>\n",
       "</table>"
      ],
      "text/plain": [
       "<IPython.core.display.HTML object>"
      ]
     },
     "metadata": {},
     "output_type": "display_data"
    }
   ],
   "source": [
    "learn.fit(10, lr=lr)"
   ]
  },
  {
   "cell_type": "markdown",
   "id": "912eda96",
   "metadata": {
    "papermill": {
     "duration": 0.047051,
     "end_time": "2023-03-15T09:28:52.451299",
     "exception": false,
     "start_time": "2023-03-15T09:28:52.404248",
     "status": "completed"
    },
    "tags": []
   },
   "source": [
    "As you can see, there's nothing magic about the PyTorch and fastai classes. They are just convenient pre-packaged pieces that make your life a bit easier! (They also provide a lot of extra functionality we'll be using in future lessons.)\n",
    "\n",
    "With these classes, we can now replace our linear model with a neural network.\n",
    "\n",
    "## Adding a Nonlinearity\n",
    "\n",
    "So far we have a general procedure for optimizing the parameters of a function, and we have tried it out on a very boring function: a simple linear classifier. A linear classifier is very constrained in terms of what it can do. To make it a bit more complex (and able to handle more tasks), we need to add something nonlinear between two linear classifiers—this is what gives us a neural network.\n",
    "\n",
    "Here is the entire definition of a basic neural network:"
   ]
  },
  {
   "cell_type": "code",
   "execution_count": 102,
   "id": "c25cc6b7",
   "metadata": {
    "execution": {
     "iopub.execute_input": "2023-03-15T09:28:52.545996Z",
     "iopub.status.busy": "2023-03-15T09:28:52.545643Z",
     "iopub.status.idle": "2023-03-15T09:28:52.551573Z",
     "shell.execute_reply": "2023-03-15T09:28:52.550556Z"
    },
    "papermill": {
     "duration": 0.055099,
     "end_time": "2023-03-15T09:28:52.553503",
     "exception": false,
     "start_time": "2023-03-15T09:28:52.498404",
     "status": "completed"
    },
    "tags": []
   },
   "outputs": [],
   "source": [
    "def simple_net(xb): \n",
    "    res = xb@w1 + b1\n",
    "    res = res.max(tensor(0.0))\n",
    "    res = res@w2 + b2\n",
    "    return res"
   ]
  },
  {
   "cell_type": "markdown",
   "id": "2c1c521a",
   "metadata": {
    "papermill": {
     "duration": 0.046858,
     "end_time": "2023-03-15T09:28:52.647436",
     "exception": false,
     "start_time": "2023-03-15T09:28:52.600578",
     "status": "completed"
    },
    "tags": []
   },
   "source": [
    "That's it! All we have in `simple_net` is two linear classifiers with a `max` function between them.\n",
    "\n",
    "Here, `w1` and `w2` are weight tensors, and `b1` and `b2` are bias tensors; that is, parameters that are initially randomly initialized, just like we did in the previous section:"
   ]
  },
  {
   "cell_type": "code",
   "execution_count": 103,
   "id": "ace90832",
   "metadata": {
    "execution": {
     "iopub.execute_input": "2023-03-15T09:28:52.743773Z",
     "iopub.status.busy": "2023-03-15T09:28:52.742282Z",
     "iopub.status.idle": "2023-03-15T09:28:52.748427Z",
     "shell.execute_reply": "2023-03-15T09:28:52.747668Z"
    },
    "papermill": {
     "duration": 0.056911,
     "end_time": "2023-03-15T09:28:52.751046",
     "exception": false,
     "start_time": "2023-03-15T09:28:52.694135",
     "status": "completed"
    },
    "tags": []
   },
   "outputs": [],
   "source": [
    "w1 = init_params((28*28,30))\n",
    "b1 = init_params(30)\n",
    "w2 = init_params((30,1))\n",
    "b2 = init_params(1)"
   ]
  },
  {
   "cell_type": "markdown",
   "id": "96ae59d8",
   "metadata": {
    "papermill": {
     "duration": 0.046597,
     "end_time": "2023-03-15T09:28:52.844369",
     "exception": false,
     "start_time": "2023-03-15T09:28:52.797772",
     "status": "completed"
    },
    "tags": []
   },
   "source": [
    "The key point about this is that `w1` has 30 output activations (which means that `w2` must have 30 input activations, so they match). That means that the first layer can construct 30 different features, each representing some different mix of pixels. You can change that `30` to anything you like, to make the model more or less complex.\n",
    "\n",
    "That little function `res.max(tensor(0.0))` is called a *rectified linear unit*, also known as *ReLU*. We think we can all agree that *rectified linear unit* sounds pretty fancy and complicated... But actually, there's nothing more to it than `res.max(tensor(0.0))`—in other words, replace every negative number with a zero. This tiny function is also available in PyTorch as `F.relu`:"
   ]
  },
  {
   "cell_type": "code",
   "execution_count": 104,
   "id": "20182ee1",
   "metadata": {
    "execution": {
     "iopub.execute_input": "2023-03-15T09:28:52.939587Z",
     "iopub.status.busy": "2023-03-15T09:28:52.939187Z",
     "iopub.status.idle": "2023-03-15T09:28:53.114932Z",
     "shell.execute_reply": "2023-03-15T09:28:53.113675Z"
    },
    "papermill": {
     "duration": 0.22679,
     "end_time": "2023-03-15T09:28:53.117719",
     "exception": false,
     "start_time": "2023-03-15T09:28:52.890929",
     "status": "completed"
    },
    "tags": []
   },
   "outputs": [
    {
     "data": {
      "image/png": "[encoded data removed]",
      "text/plain": [
       "<Figure size 600x400 with 1 Axes>"
      ]
     },
     "metadata": {},
     "output_type": "display_data"
    }
   ],
   "source": [
    "plot_function(F.relu)"
   ]
  },
  {
   "cell_type": "markdown",
   "id": "bd19b399",
   "metadata": {
    "papermill": {
     "duration": 0.046583,
     "end_time": "2023-03-15T09:28:53.211367",
     "exception": false,
     "start_time": "2023-03-15T09:28:53.164784",
     "status": "completed"
    },
    "tags": []
   },
   "source": [
    "> There is an enormous amount of jargon in deep learning, including terms like _rectified linear unit_. The vast vast majority of this jargon is no more complicated than can be implemented in a short line of code, as we saw in this example. The reality is that for academics to get their papers published they need to make them sound as impressive and sophisticated as possible. One of the ways that they do that is to introduce jargon. Unfortunately, this has the result that the field ends up becoming far more intimidating and difficult to get into than it should be. You do have to learn the jargon, because otherwise papers and tutorials are not going to mean much to you. But that doesn't mean you have to find the jargon intimidating. Just remember, when you come across a word or phrase that you haven't seen before, it will almost certainly turn out to be referring to a very simple concept.\n",
    "\n",
    "The basic idea is that by using more linear layers, we can have our model do more computation, and therefore model more complex functions. But there's no point just putting one linear layer directly after another one, because when we multiply things together and then add them up multiple times, that could be replaced by multiplying different things together and adding them up just once! That is to say, a series of any number of linear layers in a row can be replaced with a single linear layer with a different set of parameters.\n",
    "\n",
    "But if we put a nonlinear function between them, such as `max`, then this is no longer true. Now each linear layer is actually somewhat decoupled from the other ones, and can do its own useful work. The `max` function is particularly interesting, because it operates as a simple `if` statement.\n",
    "\n",
    "> Mathematically, we say the composition of two linear functions is another linear function. So, we can stack as many linear classifiers as we want on top of each other, and without nonlinear functions between them, it will just be the same as one linear classifier.\n",
    "\n",
    "Amazingly enough, it can be mathematically proven that this little function can solve any computable problem to an arbitrarily high level of accuracy, if you can find the right parameters for `w1` and `w2` and if you make these matrices big enough. For any arbitrarily wiggly function, we can approximate it as a bunch of lines joined together; to make it closer to the wiggly function, we just have to use shorter lines. This is known as the *universal approximation theorem*. The three lines of code that we have here are known as *layers*. The first and third are known as *linear layers*, and the second line of code is known variously as a *nonlinearity*, or *activation function*.\n",
    "\n",
    "Just like in the previous section, we can replace this code with something a bit simpler, by taking advantage of PyTorch:"
   ]
  },
  {
   "cell_type": "code",
   "execution_count": 105,
   "id": "6d130907",
   "metadata": {
    "execution": {
     "iopub.execute_input": "2023-03-15T09:28:53.308002Z",
     "iopub.status.busy": "2023-03-15T09:28:53.307573Z",
     "iopub.status.idle": "2023-03-15T09:28:53.314237Z",
     "shell.execute_reply": "2023-03-15T09:28:53.312774Z"
    },
    "papermill": {
     "duration": 0.056936,
     "end_time": "2023-03-15T09:28:53.316153",
     "exception": false,
     "start_time": "2023-03-15T09:28:53.259217",
     "status": "completed"
    },
    "tags": []
   },
   "outputs": [],
   "source": [
    "simple_net = nn.Sequential(\n",
    "    nn.Linear(28*28,30),\n",
    "    nn.ReLU(),\n",
    "    nn.Linear(30,1)\n",
    ")"
   ]
  },
  {
   "cell_type": "markdown",
   "id": "9503342d",
   "metadata": {
    "papermill": {
     "duration": 0.046211,
     "end_time": "2023-03-15T09:28:53.409170",
     "exception": false,
     "start_time": "2023-03-15T09:28:53.362959",
     "status": "completed"
    },
    "tags": []
   },
   "source": [
    "`nn.Sequential` creates a module that will call each of the listed layers or functions in turn.\n",
    "\n",
    "`nn.ReLU` is a PyTorch module that does exactly the same thing as the `F.relu` function. Most functions that can appear in a model also have identical forms that are modules. Generally, it's just a case of replacing `F` with `nn` and changing the capitalization. When using `nn.Sequential`, PyTorch requires us to use the module version. Since modules are classes, we have to instantiate them, which is why you see `nn.ReLU()` in this example. \n",
    "\n",
    "Because `nn.Sequential` is a module, we can get its parameters, which will return a list of all the parameters of all the modules it contains. Let's try it out! As this is a deeper model, we'll use a lower learning rate and a few more epochs."
   ]
  },
  {
   "cell_type": "code",
   "execution_count": 106,
   "id": "b6a7a505",
   "metadata": {
    "execution": {
     "iopub.execute_input": "2023-03-15T09:28:53.504676Z",
     "iopub.status.busy": "2023-03-15T09:28:53.503974Z",
     "iopub.status.idle": "2023-03-15T09:28:53.508449Z",
     "shell.execute_reply": "2023-03-15T09:28:53.507811Z"
    },
    "papermill": {
     "duration": 0.055598,
     "end_time": "2023-03-15T09:28:53.510997",
     "exception": false,
     "start_time": "2023-03-15T09:28:53.455399",
     "status": "completed"
    },
    "tags": []
   },
   "outputs": [],
   "source": [
    "learn = Learner(dls, simple_net, opt_func=SGD,\n",
    "                loss_func=mnist_loss, metrics=batch_accuracy)"
   ]
  },
  {
   "cell_type": "code",
   "execution_count": 107,
   "id": "1d0a45fe",
   "metadata": {
    "execution": {
     "iopub.execute_input": "2023-03-15T09:28:53.604292Z",
     "iopub.status.busy": "2023-03-15T09:28:53.603900Z",
     "iopub.status.idle": "2023-03-15T09:29:02.256638Z",
     "shell.execute_reply": "2023-03-15T09:29:02.255005Z"
    },
    "papermill": {
     "duration": 8.70195,
     "end_time": "2023-03-15T09:29:02.258941",
     "exception": false,
     "start_time": "2023-03-15T09:28:53.556991",
     "status": "completed"
    },
    "scrolled": true,
    "tags": []
   },
   "outputs": [
    {
     "data": {
      "text/html": [
       "\n",
       "<style>\n",
       "    /* Turns off some styling */\n",
       "    progress {\n",
       "        /* gets rid of default border in Firefox and Opera. */\n",
       "        border: none;\n",
       "        /* Needs to be in here for Safari polyfill so background images work as expected. */\n",
       "        background-size: auto;\n",
       "    }\n",
       "    progress:not([value]), progress:not([value])::-webkit-progress-bar {\n",
       "        background: repeating-linear-gradient(45deg, #7e7e7e, #7e7e7e 10px, #5c5c5c 10px, #5c5c5c 20px);\n",
       "    }\n",
       "    .progress-bar-interrupted, .progress-bar-interrupted::-webkit-progress-bar {\n",
       "        background: #F44336;\n",
       "    }\n",
       "</style>\n"
      ],
      "text/plain": [
       "<IPython.core.display.HTML object>"
      ]
     },
     "metadata": {},
     "output_type": "display_data"
    },
    {
     "data": {
      "text/html": [
       "<table border=\"1\" class=\"dataframe\">\n",
       "  <thead>\n",
       "    <tr style=\"text-align: left;\">\n",
       "      <th>epoch</th>\n",
       "      <th>train_loss</th>\n",
       "      <th>valid_loss</th>\n",
       "      <th>batch_accuracy</th>\n",
       "      <th>time</th>\n",
       "    </tr>\n",
       "  </thead>\n",
       "  <tbody>\n",
       "    <tr>\n",
       "      <td>0</td>\n",
       "      <td>0.289671</td>\n",
       "      <td>0.422500</td>\n",
       "      <td>0.504416</td>\n",
       "      <td>00:00</td>\n",
       "    </tr>\n",
       "    <tr>\n",
       "      <td>1</td>\n",
       "      <td>0.140352</td>\n",
       "      <td>0.224054</td>\n",
       "      <td>0.808636</td>\n",
       "      <td>00:00</td>\n",
       "    </tr>\n",
       "    <tr>\n",
       "      <td>2</td>\n",
       "      <td>0.078942</td>\n",
       "      <td>0.113813</td>\n",
       "      <td>0.917566</td>\n",
       "      <td>00:00</td>\n",
       "    </tr>\n",
       "    <tr>\n",
       "      <td>3</td>\n",
       "      <td>0.052660</td>\n",
       "      <td>0.077246</td>\n",
       "      <td>0.940628</td>\n",
       "      <td>00:00</td>\n",
       "    </tr>\n",
       "    <tr>\n",
       "      <td>4</td>\n",
       "      <td>0.040354</td>\n",
       "      <td>0.060424</td>\n",
       "      <td>0.955348</td>\n",
       "      <td>00:00</td>\n",
       "    </tr>\n",
       "    <tr>\n",
       "      <td>5</td>\n",
       "      <td>0.033988</td>\n",
       "      <td>0.050934</td>\n",
       "      <td>0.963199</td>\n",
       "      <td>00:00</td>\n",
       "    </tr>\n",
       "    <tr>\n",
       "      <td>6</td>\n",
       "      <td>0.030278</td>\n",
       "      <td>0.044937</td>\n",
       "      <td>0.965162</td>\n",
       "      <td>00:00</td>\n",
       "    </tr>\n",
       "    <tr>\n",
       "      <td>7</td>\n",
       "      <td>0.027835</td>\n",
       "      <td>0.040833</td>\n",
       "      <td>0.967615</td>\n",
       "      <td>00:00</td>\n",
       "    </tr>\n",
       "    <tr>\n",
       "      <td>8</td>\n",
       "      <td>0.026054</td>\n",
       "      <td>0.037853</td>\n",
       "      <td>0.970069</td>\n",
       "      <td>00:00</td>\n",
       "    </tr>\n",
       "    <tr>\n",
       "      <td>9</td>\n",
       "      <td>0.024666</td>\n",
       "      <td>0.035582</td>\n",
       "      <td>0.970559</td>\n",
       "      <td>00:00</td>\n",
       "    </tr>\n",
       "    <tr>\n",
       "      <td>10</td>\n",
       "      <td>0.023536</td>\n",
       "      <td>0.033785</td>\n",
       "      <td>0.972031</td>\n",
       "      <td>00:00</td>\n",
       "    </tr>\n",
       "    <tr>\n",
       "      <td>11</td>\n",
       "      <td>0.022592</td>\n",
       "      <td>0.032319</td>\n",
       "      <td>0.972031</td>\n",
       "      <td>00:00</td>\n",
       "    </tr>\n",
       "    <tr>\n",
       "      <td>12</td>\n",
       "      <td>0.021787</td>\n",
       "      <td>0.031092</td>\n",
       "      <td>0.973503</td>\n",
       "      <td>00:00</td>\n",
       "    </tr>\n",
       "    <tr>\n",
       "      <td>13</td>\n",
       "      <td>0.021092</td>\n",
       "      <td>0.030042</td>\n",
       "      <td>0.973994</td>\n",
       "      <td>00:00</td>\n",
       "    </tr>\n",
       "    <tr>\n",
       "      <td>14</td>\n",
       "      <td>0.020483</td>\n",
       "      <td>0.029129</td>\n",
       "      <td>0.974975</td>\n",
       "      <td>00:00</td>\n",
       "    </tr>\n",
       "    <tr>\n",
       "      <td>15</td>\n",
       "      <td>0.019945</td>\n",
       "      <td>0.028322</td>\n",
       "      <td>0.975957</td>\n",
       "      <td>00:00</td>\n",
       "    </tr>\n",
       "    <tr>\n",
       "      <td>16</td>\n",
       "      <td>0.019463</td>\n",
       "      <td>0.027605</td>\n",
       "      <td>0.976938</td>\n",
       "      <td>00:00</td>\n",
       "    </tr>\n",
       "    <tr>\n",
       "      <td>17</td>\n",
       "      <td>0.019029</td>\n",
       "      <td>0.026960</td>\n",
       "      <td>0.977429</td>\n",
       "      <td>00:00</td>\n",
       "    </tr>\n",
       "    <tr>\n",
       "      <td>18</td>\n",
       "      <td>0.018635</td>\n",
       "      <td>0.026377</td>\n",
       "      <td>0.978410</td>\n",
       "      <td>00:00</td>\n",
       "    </tr>\n",
       "    <tr>\n",
       "      <td>19</td>\n",
       "      <td>0.018275</td>\n",
       "      <td>0.025848</td>\n",
       "      <td>0.978410</td>\n",
       "      <td>00:00</td>\n",
       "    </tr>\n",
       "    <tr>\n",
       "      <td>20</td>\n",
       "      <td>0.017944</td>\n",
       "      <td>0.025365</td>\n",
       "      <td>0.978901</td>\n",
       "      <td>00:00</td>\n",
       "    </tr>\n",
       "    <tr>\n",
       "      <td>21</td>\n",
       "      <td>0.017637</td>\n",
       "      <td>0.024923</td>\n",
       "      <td>0.978901</td>\n",
       "      <td>00:00</td>\n",
       "    </tr>\n",
       "    <tr>\n",
       "      <td>22</td>\n",
       "      <td>0.017352</td>\n",
       "      <td>0.024517</td>\n",
       "      <td>0.979392</td>\n",
       "      <td>00:00</td>\n",
       "    </tr>\n",
       "    <tr>\n",
       "      <td>23</td>\n",
       "      <td>0.017086</td>\n",
       "      <td>0.024142</td>\n",
       "      <td>0.980373</td>\n",
       "      <td>00:00</td>\n",
       "    </tr>\n",
       "    <tr>\n",
       "      <td>24</td>\n",
       "      <td>0.016838</td>\n",
       "      <td>0.023797</td>\n",
       "      <td>0.981845</td>\n",
       "      <td>00:00</td>\n",
       "    </tr>\n",
       "    <tr>\n",
       "      <td>25</td>\n",
       "      <td>0.016603</td>\n",
       "      <td>0.023477</td>\n",
       "      <td>0.981845</td>\n",
       "      <td>00:00</td>\n",
       "    </tr>\n",
       "    <tr>\n",
       "      <td>26</td>\n",
       "      <td>0.016383</td>\n",
       "      <td>0.023182</td>\n",
       "      <td>0.981845</td>\n",
       "      <td>00:00</td>\n",
       "    </tr>\n",
       "    <tr>\n",
       "      <td>27</td>\n",
       "      <td>0.016174</td>\n",
       "      <td>0.022907</td>\n",
       "      <td>0.981845</td>\n",
       "      <td>00:00</td>\n",
       "    </tr>\n",
       "    <tr>\n",
       "      <td>28</td>\n",
       "      <td>0.015977</td>\n",
       "      <td>0.022651</td>\n",
       "      <td>0.981354</td>\n",
       "      <td>00:00</td>\n",
       "    </tr>\n",
       "    <tr>\n",
       "      <td>29</td>\n",
       "      <td>0.015790</td>\n",
       "      <td>0.022413</td>\n",
       "      <td>0.981354</td>\n",
       "      <td>00:00</td>\n",
       "    </tr>\n",
       "    <tr>\n",
       "      <td>30</td>\n",
       "      <td>0.015612</td>\n",
       "      <td>0.022191</td>\n",
       "      <td>0.981354</td>\n",
       "      <td>00:00</td>\n",
       "    </tr>\n",
       "    <tr>\n",
       "      <td>31</td>\n",
       "      <td>0.015443</td>\n",
       "      <td>0.021983</td>\n",
       "      <td>0.982336</td>\n",
       "      <td>00:00</td>\n",
       "    </tr>\n",
       "    <tr>\n",
       "      <td>32</td>\n",
       "      <td>0.015281</td>\n",
       "      <td>0.021788</td>\n",
       "      <td>0.982826</td>\n",
       "      <td>00:00</td>\n",
       "    </tr>\n",
       "    <tr>\n",
       "      <td>33</td>\n",
       "      <td>0.015126</td>\n",
       "      <td>0.021606</td>\n",
       "      <td>0.983317</td>\n",
       "      <td>00:00</td>\n",
       "    </tr>\n",
       "    <tr>\n",
       "      <td>34</td>\n",
       "      <td>0.014978</td>\n",
       "      <td>0.021434</td>\n",
       "      <td>0.983317</td>\n",
       "      <td>00:00</td>\n",
       "    </tr>\n",
       "    <tr>\n",
       "      <td>35</td>\n",
       "      <td>0.014836</td>\n",
       "      <td>0.021272</td>\n",
       "      <td>0.983317</td>\n",
       "      <td>00:00</td>\n",
       "    </tr>\n",
       "    <tr>\n",
       "      <td>36</td>\n",
       "      <td>0.014700</td>\n",
       "      <td>0.021119</td>\n",
       "      <td>0.983317</td>\n",
       "      <td>00:00</td>\n",
       "    </tr>\n",
       "    <tr>\n",
       "      <td>37</td>\n",
       "      <td>0.014568</td>\n",
       "      <td>0.020973</td>\n",
       "      <td>0.983317</td>\n",
       "      <td>00:00</td>\n",
       "    </tr>\n",
       "    <tr>\n",
       "      <td>38</td>\n",
       "      <td>0.014442</td>\n",
       "      <td>0.020835</td>\n",
       "      <td>0.983317</td>\n",
       "      <td>00:00</td>\n",
       "    </tr>\n",
       "    <tr>\n",
       "      <td>39</td>\n",
       "      <td>0.014319</td>\n",
       "      <td>0.020704</td>\n",
       "      <td>0.983317</td>\n",
       "      <td>00:00</td>\n",
       "    </tr>\n",
       "  </tbody>\n",
       "</table>"
      ],
      "text/plain": [
       "<IPython.core.display.HTML object>"
      ]
     },
     "metadata": {},
     "output_type": "display_data"
    }
   ],
   "source": [
    "learn.fit(40, 0.1)"
   ]
  },
  {
   "cell_type": "markdown",
   "id": "a444df88",
   "metadata": {
    "papermill": {
     "duration": 0.047645,
     "end_time": "2023-03-15T09:29:02.355443",
     "exception": false,
     "start_time": "2023-03-15T09:29:02.307798",
     "status": "completed"
    },
    "tags": []
   },
   "source": [
    "the training process is recorded in `learn.recorder`, with the table of output stored in the `values` attribute, so we can plot the accuracy over training as:"
   ]
  },
  {
   "cell_type": "code",
   "execution_count": 108,
   "id": "7e0ed529",
   "metadata": {
    "execution": {
     "iopub.execute_input": "2023-03-15T09:29:02.452821Z",
     "iopub.status.busy": "2023-03-15T09:29:02.452385Z",
     "iopub.status.idle": "2023-03-15T09:29:02.615341Z",
     "shell.execute_reply": "2023-03-15T09:29:02.613809Z"
    },
    "papermill": {
     "duration": 0.215087,
     "end_time": "2023-03-15T09:29:02.618096",
     "exception": false,
     "start_time": "2023-03-15T09:29:02.403009",
     "status": "completed"
    },
    "tags": []
   },
   "outputs": [
    {
     "data": {
      "image/png": "[encoded data removed]",
      "text/plain": [
       "<Figure size 640x480 with 1 Axes>"
      ]
     },
     "metadata": {},
     "output_type": "display_data"
    }
   ],
   "source": [
    "plt.plot(L(learn.recorder.values).itemgot(2));"
   ]
  },
  {
   "cell_type": "markdown",
   "id": "f6a8d780",
   "metadata": {
    "papermill": {
     "duration": 0.047568,
     "end_time": "2023-03-15T09:29:02.713893",
     "exception": false,
     "start_time": "2023-03-15T09:29:02.666325",
     "status": "completed"
    },
    "tags": []
   },
   "source": [
    "And we can view the final accuracy:"
   ]
  },
  {
   "cell_type": "code",
   "execution_count": 109,
   "id": "acc05633",
   "metadata": {
    "execution": {
     "iopub.execute_input": "2023-03-15T09:29:02.811144Z",
     "iopub.status.busy": "2023-03-15T09:29:02.810383Z",
     "iopub.status.idle": "2023-03-15T09:29:02.815994Z",
     "shell.execute_reply": "2023-03-15T09:29:02.815179Z"
    },
    "papermill": {
     "duration": 0.057006,
     "end_time": "2023-03-15T09:29:02.818537",
     "exception": false,
     "start_time": "2023-03-15T09:29:02.761531",
     "status": "completed"
    },
    "tags": []
   },
   "outputs": [
    {
     "data": {
      "text/plain": [
       "0.983316957950592"
      ]
     },
     "execution_count": 109,
     "metadata": {},
     "output_type": "execute_result"
    }
   ],
   "source": [
    "learn.recorder.values[-1][2]"
   ]
  },
  {
   "cell_type": "markdown",
   "id": "94fc61ac",
   "metadata": {
    "papermill": {
     "duration": 0.047034,
     "end_time": "2023-03-15T09:29:02.912621",
     "exception": false,
     "start_time": "2023-03-15T09:29:02.865587",
     "status": "completed"
    },
    "tags": []
   },
   "source": [
    "At this point we have something that is rather magical:\n",
    "\n",
    "1. A function that can solve any problem to any level of accuracy (the neural network) given the correct set of parameters\n",
    "1. A way to find the best set of parameters for any function (stochastic gradient descent)\n",
    "\n",
    "This is why deep learning can do things which seem rather magical, such fantastic things. Believing that this combination of simple techniques can really solve any problem is one of the biggest steps that we find many students have to take. It seems too good to be true—surely things should be more difficult and complicated than this? Our recommendation: try it out! We just tried it on the MNIST dataset and you have seen the results. And since we are doing everything from scratch ourselves (except for calculating the gradients) you know that there is no special magic hiding behind the scenes."
   ]
  },
  {
   "cell_type": "markdown",
   "id": "261c3587",
   "metadata": {
    "papermill": {
     "duration": 0.046917,
     "end_time": "2023-03-15T09:29:03.006734",
     "exception": false,
     "start_time": "2023-03-15T09:29:02.959817",
     "status": "completed"
    },
    "tags": []
   },
   "source": [
    "# Excercises\n",
    "\n",
    "Retry to do the \"An End-to-End SGD Example\" but using a smaller and a bigger learning rate and see what happens"
   ]
  },
  {
   "cell_type": "code",
   "execution_count": null,
   "id": "ec5ddb93",
   "metadata": {
    "papermill": {
     "duration": 0.046682,
     "end_time": "2023-03-15T09:29:03.100262",
     "exception": false,
     "start_time": "2023-03-15T09:29:03.053580",
     "status": "completed"
    },
    "tags": []
   },
   "outputs": [],
   "source": []
  }
 ],
 "metadata": {
  "kernelspec": {
   "display_name": "Python 3",
   "language": "python",
   "name": "python3"
  },
  "language_info": {
   "codemirror_mode": {
    "name": "ipython",
    "version": 3
   },
   "file_extension": ".py",
   "mimetype": "text/x-python",
   "name": "python",
   "nbconvert_exporter": "python",
   "pygments_lexer": "ipython3",
   "version": "3.7.12"
  },
  "papermill": {
   "default_parameters": {},
   "duration": 57.973664,
   "end_time": "2023-03-15T09:29:04.472465",
   "environment_variables": {},
   "exception": null,
   "input_path": "__notebook__.ipynb",
   "output_path": "__notebook__.ipynb",
   "parameters": {},
   "start_time": "2023-03-15T09:28:06.498801",
   "version": "2.4.0"
  }
 },
 "nbformat": 4,
 "nbformat_minor": 5
}
