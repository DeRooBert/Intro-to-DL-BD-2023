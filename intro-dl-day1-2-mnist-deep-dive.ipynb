{
 "cells": [
  {
   "cell_type": "markdown",
   "id": "ba3c3188",
   "metadata": {
    "id": "vuoajNPM3V0V",
    "papermill": {
     "duration": 0.068837,
     "end_time": "2022-04-14T15:39:15.216247",
     "exception": false,
     "start_time": "2022-04-14T15:39:15.147410",
     "status": "completed"
    },
    "tags": []
   },
   "source": [
    "# Introduction to Deep Learning Training 1.2\n",
    "## MNIST Deep dive"
   ]
  },
  {
   "cell_type": "markdown",
   "id": "a5b4d99f",
   "metadata": {
    "papermill": {
     "duration": 0.075232,
     "end_time": "2022-04-14T15:39:15.357799",
     "exception": false,
     "start_time": "2022-04-14T15:39:15.282567",
     "status": "completed"
    },
    "tags": []
   },
   "source": [
    "In this notebook we will deep dive on how a CNN works using a classical dataset in DL: MNIST (remember the handwritten digit classifier from Yann LeCun in 1998: [LeNet 5](http://yann.lecun.com/exdb/lenet/))?\n",
    "\n",
    "Sidenote: **You won't need any GPU for this notebook, you can keep just a CPU it will be fine ;)**"
   ]
  },
  {
   "cell_type": "markdown",
   "id": "074b159e",
   "metadata": {
    "id": "-Na41gNm3V0a",
    "papermill": {
     "duration": 0.067098,
     "end_time": "2022-04-14T15:39:15.494755",
     "exception": false,
     "start_time": "2022-04-14T15:39:15.427657",
     "status": "completed"
    },
    "tags": []
   },
   "source": [
    "### About The Data"
   ]
  },
  {
   "cell_type": "markdown",
   "id": "f6b092a9",
   "metadata": {
    "id": "X5WnQvN43V0c",
    "papermill": {
     "duration": 0.066399,
     "end_time": "2022-04-14T15:39:15.627274",
     "exception": false,
     "start_time": "2022-04-14T15:39:15.560875",
     "status": "completed"
    },
    "tags": []
   },
   "source": [
    "In this lesson, we will be working with ***MNIST***, a classic data set of hand-written digits.  Solutions to this problem are for instance used by banks to automatically recognize the amounts on checks, and by the postal service to automatically recognize zip codes on mail."
   ]
  },
  {
   "cell_type": "markdown",
   "id": "61b6080e",
   "metadata": {
    "id": "QecfMSLY3V0f",
    "papermill": {
     "duration": 0.065872,
     "end_time": "2022-04-14T15:39:15.759664",
     "exception": false,
     "start_time": "2022-04-14T15:39:15.693792",
     "status": "completed"
    },
    "tags": []
   },
   "source": [
    "A image can be represented by a matrix, by creating a grid where each entry corresponds to a different pixel.\n",
    "\n",
    "<img src=\"https://s15.postimg.cc/9c81y146z/digit.gif\" alt=\"digit\" style=\"width: 55%\"/>\n",
    "  \n",
    "(Source of image: [Adam Geitgey](https://medium.com/@ageitgey/machine-learning-is-fun-part-3-deep-learning-and-convolutional-neural-networks-f40359318721) )\n",
    "\n",
    "In this case we are using black & white images, so you have enough with one number per pixel to specify the color. However if you are working with color images, the principle is the same, except that you have 3 numbers per pixel: RGB = Red Green Blue => 3 input channels, but it works in the same way."
   ]
  },
  {
   "cell_type": "markdown",
   "id": "49e9ac29",
   "metadata": {
    "id": "9tHX5hnC3V0g",
    "papermill": {
     "duration": 0.065895,
     "end_time": "2022-04-14T15:39:15.892032",
     "exception": false,
     "start_time": "2022-04-14T15:39:15.826137",
     "status": "completed"
    },
    "tags": []
   },
   "source": [
    "## Imports and data"
   ]
  },
  {
   "cell_type": "markdown",
   "id": "62281c56",
   "metadata": {
    "id": "7S2N1Yno3V0h",
    "papermill": {
     "duration": 0.06596,
     "end_time": "2022-04-14T15:39:16.024220",
     "exception": false,
     "start_time": "2022-04-14T15:39:15.958260",
     "status": "completed"
    },
    "tags": []
   },
   "source": [
    "We will be using the fastai library, in which we can find the data as well."
   ]
  },
  {
   "cell_type": "code",
   "execution_count": 1,
   "id": "e085984c",
   "metadata": {
    "execution": {
     "iopub.execute_input": "2022-04-14T15:39:16.172464Z",
     "iopub.status.busy": "2022-04-14T15:39:16.171480Z",
     "iopub.status.idle": "2022-04-14T15:39:46.401623Z",
     "shell.execute_reply": "2022-04-14T15:39:46.400827Z",
     "shell.execute_reply.started": "2022-04-14T15:32:51.521364Z"
    },
    "id": "FJ6_p4IT3V0j",
    "papermill": {
     "duration": 30.309233,
     "end_time": "2022-04-14T15:39:46.401797",
     "exception": false,
     "start_time": "2022-04-14T15:39:16.092564",
     "status": "completed"
    },
    "tags": []
   },
   "outputs": [
    {
     "name": "stdout",
     "output_type": "stream",
     "text": [
      "\u001b[31mERROR: pip's dependency resolver does not currently take into account all the packages that are installed. This behaviour is the source of the following dependency conflicts.\r\n",
      "tensorflow-io 0.21.0 requires tensorflow-io-gcs-filesystem==0.21.0, which is not installed.\r\n",
      "explainable-ai-sdk 1.3.2 requires xai-image-widget, which is not installed.\r\n",
      "tensorflow 2.6.2 requires numpy~=1.19.2, but you have numpy 1.20.3 which is incompatible.\r\n",
      "tensorflow 2.6.2 requires six~=1.15.0, but you have six 1.16.0 which is incompatible.\r\n",
      "tensorflow 2.6.2 requires typing-extensions~=3.7.4, but you have typing-extensions 3.10.0.2 which is incompatible.\r\n",
      "tensorflow 2.6.2 requires wrapt~=1.12.1, but you have wrapt 1.13.3 which is incompatible.\r\n",
      "tensorflow-transform 1.5.0 requires absl-py<0.13,>=0.9, but you have absl-py 0.15.0 which is incompatible.\r\n",
      "tensorflow-transform 1.5.0 requires numpy<1.20,>=1.16, but you have numpy 1.20.3 which is incompatible.\r\n",
      "tensorflow-transform 1.5.0 requires pyarrow<6,>=1, but you have pyarrow 6.0.1 which is incompatible.\r\n",
      "tensorflow-transform 1.5.0 requires tensorflow!=2.0.*,!=2.1.*,!=2.2.*,!=2.3.*,!=2.4.*,!=2.5.*,!=2.6.*,<2.8,>=1.15.2, but you have tensorflow 2.6.2 which is incompatible.\r\n",
      "tensorflow-serving-api 2.7.0 requires tensorflow<3,>=2.7.0, but you have tensorflow 2.6.2 which is incompatible.\r\n",
      "flake8 4.0.1 requires importlib-metadata<4.3; python_version < \"3.8\", but you have importlib-metadata 4.11.3 which is incompatible.\r\n",
      "apache-beam 2.34.0 requires dill<0.3.2,>=0.3.1.1, but you have dill 0.3.4 which is incompatible.\r\n",
      "apache-beam 2.34.0 requires httplib2<0.20.0,>=0.8, but you have httplib2 0.20.2 which is incompatible.\r\n",
      "apache-beam 2.34.0 requires pyarrow<6.0.0,>=0.15.1, but you have pyarrow 6.0.1 which is incompatible.\r\n",
      "aioitertools 0.10.0 requires typing_extensions>=4.0; python_version < \"3.10\", but you have typing-extensions 3.10.0.2 which is incompatible.\r\n",
      "aiobotocore 2.1.2 requires botocore<1.23.25,>=1.23.24, but you have botocore 1.24.20 which is incompatible.\u001b[0m\r\n"
     ]
    }
   ],
   "source": [
    "!pip install -Uqq fastbook\n",
    "import fastbook\n",
    "fastbook.setup_book()"
   ]
  },
  {
   "cell_type": "code",
   "execution_count": 2,
   "id": "33aa3bea",
   "metadata": {
    "execution": {
     "iopub.execute_input": "2022-04-14T15:39:46.543448Z",
     "iopub.status.busy": "2022-04-14T15:39:46.542751Z",
     "iopub.status.idle": "2022-04-14T15:39:46.545656Z",
     "shell.execute_reply": "2022-04-14T15:39:46.545105Z",
     "shell.execute_reply.started": "2022-04-14T15:33:19.721452Z"
    },
    "id": "_j8mK5P93V0o",
    "papermill": {
     "duration": 0.075343,
     "end_time": "2022-04-14T15:39:46.545817",
     "exception": false,
     "start_time": "2022-04-14T15:39:46.470474",
     "status": "completed"
    },
    "tags": []
   },
   "outputs": [],
   "source": [
    "from fastai.vision.all import *\n",
    "from fastbook import *\n",
    "\n",
    "matplotlib.rc('image', cmap='Greys')"
   ]
  },
  {
   "cell_type": "markdown",
   "id": "337a4cb9",
   "metadata": {
    "id": "nIHbu4yo3V0w",
    "papermill": {
     "duration": 0.067216,
     "end_time": "2022-04-14T15:39:46.681198",
     "exception": false,
     "start_time": "2022-04-14T15:39:46.613982",
     "status": "completed"
    },
    "tags": []
   },
   "source": [
    "For this initial tutorial we are just going to try to create a model that can classify any image as a 3 or a 7. So let's download a sample of MNIST that contains images of just these digits:"
   ]
  },
  {
   "cell_type": "code",
   "execution_count": 3,
   "id": "56b17c3e",
   "metadata": {
    "execution": {
     "iopub.execute_input": "2022-04-14T15:39:46.822170Z",
     "iopub.status.busy": "2022-04-14T15:39:46.821130Z",
     "iopub.status.idle": "2022-04-14T15:39:50.789754Z",
     "shell.execute_reply": "2022-04-14T15:39:50.789022Z",
     "shell.execute_reply.started": "2022-04-14T15:33:19.729175Z"
    },
    "id": "dpwDCpJa3V0x",
    "outputId": "a1c53a11-7b26-4927-9ce7-af05570cccbb",
    "papermill": {
     "duration": 4.040882,
     "end_time": "2022-04-14T15:39:50.789914",
     "exception": false,
     "start_time": "2022-04-14T15:39:46.749032",
     "status": "completed"
    },
    "tags": []
   },
   "outputs": [
    {
     "data": {
      "text/html": [
       "\n",
       "<style>\n",
       "    /* Turns off some styling */\n",
       "    progress {\n",
       "        /* gets rid of default border in Firefox and Opera. */\n",
       "        border: none;\n",
       "        /* Needs to be in here for Safari polyfill so background images work as expected. */\n",
       "        background-size: auto;\n",
       "    }\n",
       "    .progress-bar-interrupted, .progress-bar-interrupted::-webkit-progress-bar {\n",
       "        background: #F44336;\n",
       "    }\n",
       "</style>\n"
      ],
      "text/plain": [
       "<IPython.core.display.HTML object>"
      ]
     },
     "metadata": {},
     "output_type": "display_data"
    },
    {
     "data": {
      "text/html": [
       "\n",
       "    <div>\n",
       "      <progress value='3219456' class='' max='3214948' style='width:300px; height:20px; vertical-align: middle;'></progress>\n",
       "      100.14% [3219456/3214948 00:00<00:00]\n",
       "    </div>\n",
       "    "
      ],
      "text/plain": [
       "<IPython.core.display.HTML object>"
      ]
     },
     "metadata": {},
     "output_type": "display_data"
    }
   ],
   "source": [
    "path = untar_data(URLs.MNIST_SAMPLE)"
   ]
  },
  {
   "cell_type": "markdown",
   "id": "27a97c0a",
   "metadata": {
    "papermill": {
     "duration": 0.076814,
     "end_time": "2022-04-14T15:39:50.935333",
     "exception": false,
     "start_time": "2022-04-14T15:39:50.858519",
     "status": "completed"
    },
    "tags": []
   },
   "source": [
    "We can see what's in this directory by using `ls`, a method added by fastai. This method returns an object of a special fastai class called `L`, which has all the same functionality of Python's built-in `list`, plus a lot more. One of its handy features is that, when printed, it displays the count of items, before listing the items themselves (if there are more than 10 items, it just shows the first few):"
   ]
  },
  {
   "cell_type": "code",
   "execution_count": 4,
   "id": "311241e5",
   "metadata": {
    "execution": {
     "iopub.execute_input": "2022-04-14T15:39:51.082294Z",
     "iopub.status.busy": "2022-04-14T15:39:51.081585Z",
     "iopub.status.idle": "2022-04-14T15:39:51.084884Z",
     "shell.execute_reply": "2022-04-14T15:39:51.084213Z",
     "shell.execute_reply.started": "2022-04-14T15:33:23.978605Z"
    },
    "id": "bCjOGY1I3V00",
    "outputId": "524e553e-71a3-444c-bd4a-9b1fdc5356b2",
    "papermill": {
     "duration": 0.081878,
     "end_time": "2022-04-14T15:39:51.085042",
     "exception": false,
     "start_time": "2022-04-14T15:39:51.003164",
     "status": "completed"
    },
    "tags": []
   },
   "outputs": [
    {
     "data": {
      "text/plain": [
       "(#3) [Path('/root/.fastai/data/mnist_sample/valid'),Path('/root/.fastai/data/mnist_sample/labels.csv'),Path('/root/.fastai/data/mnist_sample/train')]"
      ]
     },
     "execution_count": 4,
     "metadata": {},
     "output_type": "execute_result"
    }
   ],
   "source": [
    "path.ls()"
   ]
  },
  {
   "cell_type": "markdown",
   "id": "d6437ff1",
   "metadata": {
    "papermill": {
     "duration": 0.06755,
     "end_time": "2022-04-14T15:39:51.221823",
     "exception": false,
     "start_time": "2022-04-14T15:39:51.154273",
     "status": "completed"
    },
    "tags": []
   },
   "source": [
    "The MNIST dataset follows a common layout for machine learning datasets: separate folders for the training set and the validation set (and/or test set). Let's see what's inside the training set:"
   ]
  },
  {
   "cell_type": "code",
   "execution_count": 5,
   "id": "c1ca3d30",
   "metadata": {
    "execution": {
     "iopub.execute_input": "2022-04-14T15:39:51.364990Z",
     "iopub.status.busy": "2022-04-14T15:39:51.364299Z",
     "iopub.status.idle": "2022-04-14T15:39:51.368264Z",
     "shell.execute_reply": "2022-04-14T15:39:51.367764Z",
     "shell.execute_reply.started": "2022-04-14T15:33:23.988916Z"
    },
    "papermill": {
     "duration": 0.078259,
     "end_time": "2022-04-14T15:39:51.368454",
     "exception": false,
     "start_time": "2022-04-14T15:39:51.290195",
     "status": "completed"
    },
    "tags": []
   },
   "outputs": [
    {
     "data": {
      "text/plain": [
       "(#2) [Path('/root/.fastai/data/mnist_sample/train/7'),Path('/root/.fastai/data/mnist_sample/train/3')]"
      ]
     },
     "execution_count": 5,
     "metadata": {},
     "output_type": "execute_result"
    }
   ],
   "source": [
    "(path/'train').ls()"
   ]
  },
  {
   "cell_type": "markdown",
   "id": "7da53bd0",
   "metadata": {
    "papermill": {
     "duration": 0.06925,
     "end_time": "2022-04-14T15:39:51.506236",
     "exception": false,
     "start_time": "2022-04-14T15:39:51.436986",
     "status": "completed"
    },
    "tags": []
   },
   "source": [
    "There's a folder of 3s, and a folder of 7s. In machine learning parlance, we say that \"3\" and \"7\" are the *labels* (or targets) in this dataset. Let's take a look in one of these folders (using `sorted` to ensure we all get the same order of files):"
   ]
  },
  {
   "cell_type": "code",
   "execution_count": 6,
   "id": "37ec4e5b",
   "metadata": {
    "execution": {
     "iopub.execute_input": "2022-04-14T15:39:51.650499Z",
     "iopub.status.busy": "2022-04-14T15:39:51.649800Z",
     "iopub.status.idle": "2022-04-14T15:39:51.798878Z",
     "shell.execute_reply": "2022-04-14T15:39:51.799408Z",
     "shell.execute_reply.started": "2022-04-14T15:33:24.030089Z"
    },
    "papermill": {
     "duration": 0.223431,
     "end_time": "2022-04-14T15:39:51.799596",
     "exception": false,
     "start_time": "2022-04-14T15:39:51.576165",
     "status": "completed"
    },
    "tags": []
   },
   "outputs": [
    {
     "data": {
      "text/plain": [
       "(#6131) [Path('/root/.fastai/data/mnist_sample/train/3/10.png'),Path('/root/.fastai/data/mnist_sample/train/3/10000.png'),Path('/root/.fastai/data/mnist_sample/train/3/10011.png'),Path('/root/.fastai/data/mnist_sample/train/3/10031.png'),Path('/root/.fastai/data/mnist_sample/train/3/10034.png'),Path('/root/.fastai/data/mnist_sample/train/3/10042.png'),Path('/root/.fastai/data/mnist_sample/train/3/10052.png'),Path('/root/.fastai/data/mnist_sample/train/3/1007.png'),Path('/root/.fastai/data/mnist_sample/train/3/10074.png'),Path('/root/.fastai/data/mnist_sample/train/3/10091.png')...]"
      ]
     },
     "execution_count": 6,
     "metadata": {},
     "output_type": "execute_result"
    }
   ],
   "source": [
    "threes = (path/'train'/'3').ls().sorted()\n",
    "sevens = (path/'train'/'7').ls().sorted()\n",
    "threes"
   ]
  },
  {
   "cell_type": "markdown",
   "id": "630712c9",
   "metadata": {
    "papermill": {
     "duration": 0.069682,
     "end_time": "2022-04-14T15:39:51.939684",
     "exception": false,
     "start_time": "2022-04-14T15:39:51.870002",
     "status": "completed"
    },
    "tags": []
   },
   "source": [
    "As we might expect, it's full of image files. Let’s take a look at one now. Here’s an image of a handwritten number 3, taken from the famous MNIST dataset of handwritten numbers:"
   ]
  },
  {
   "cell_type": "code",
   "execution_count": 7,
   "id": "1c379362",
   "metadata": {
    "execution": {
     "iopub.execute_input": "2022-04-14T15:39:52.087210Z",
     "iopub.status.busy": "2022-04-14T15:39:52.086236Z",
     "iopub.status.idle": "2022-04-14T15:39:52.102186Z",
     "shell.execute_reply": "2022-04-14T15:39:52.102790Z",
     "shell.execute_reply.started": "2022-04-14T15:33:24.193450Z"
    },
    "papermill": {
     "duration": 0.091585,
     "end_time": "2022-04-14T15:39:52.102969",
     "exception": false,
     "start_time": "2022-04-14T15:39:52.011384",
     "status": "completed"
    },
    "tags": []
   },
   "outputs": [
    {
     "data": {
      "image/png": "[encoded data removed]",
      "text/plain": [
       "<PIL.PngImagePlugin.PngImageFile image mode=L size=28x28 at 0x7FAE13243290>"
      ]
     },
     "execution_count": 7,
     "metadata": {},
     "output_type": "execute_result"
    }
   ],
   "source": [
    "im3_path = threes[1]\n",
    "im3 = Image.open(im3_path)\n",
    "im3"
   ]
  },
  {
   "cell_type": "markdown",
   "id": "beae65b9",
   "metadata": {
    "papermill": {
     "duration": 0.069433,
     "end_time": "2022-04-14T15:39:52.242325",
     "exception": false,
     "start_time": "2022-04-14T15:39:52.172892",
     "status": "completed"
    },
    "tags": []
   },
   "source": [
    "Here we are using the `Image` class from the *Python Imaging Library* (PIL), which is the most widely used Python package for opening, manipulating, and viewing images. Jupyter knows about PIL images, so it displays the image for us automatically.\n",
    "\n",
    "In a computer, everything is represented as a number. To view the numbers that make up this image, we have to convert it to a *NumPy array* or a *PyTorch tensor*. For instance, here's what a section of the image looks like, converted to a NumPy array:"
   ]
  },
  {
   "cell_type": "code",
   "execution_count": 8,
   "id": "40fe7f20",
   "metadata": {
    "execution": {
     "iopub.execute_input": "2022-04-14T15:39:52.386547Z",
     "iopub.status.busy": "2022-04-14T15:39:52.385544Z",
     "iopub.status.idle": "2022-04-14T15:39:52.393655Z",
     "shell.execute_reply": "2022-04-14T15:39:52.394262Z",
     "shell.execute_reply.started": "2022-04-14T15:33:24.216015Z"
    },
    "papermill": {
     "duration": 0.082931,
     "end_time": "2022-04-14T15:39:52.394452",
     "exception": false,
     "start_time": "2022-04-14T15:39:52.311521",
     "status": "completed"
    },
    "tags": []
   },
   "outputs": [
    {
     "data": {
      "text/plain": [
       "array([[  0,   0,   0,   0,   0,   0],\n",
       "       [  0,   0,   0,   0,   0,  29],\n",
       "       [  0,   0,   0,  48, 166, 224],\n",
       "       [  0,  93, 244, 249, 253, 187],\n",
       "       [  0, 107, 253, 253, 230,  48],\n",
       "       [  0,   3,  20,  20,  15,   0]], dtype=uint8)"
      ]
     },
     "execution_count": 8,
     "metadata": {},
     "output_type": "execute_result"
    }
   ],
   "source": [
    "array(im3)[4:10,4:10]"
   ]
  },
  {
   "cell_type": "markdown",
   "id": "8110f4e4",
   "metadata": {
    "papermill": {
     "duration": 0.070465,
     "end_time": "2022-04-14T15:39:52.535851",
     "exception": false,
     "start_time": "2022-04-14T15:39:52.465386",
     "status": "completed"
    },
    "tags": []
   },
   "source": [
    "The `4:10` indicates we requested the rows from index 4 (included) to 10 (not included) and the same for the columns. NumPy indexes from top to bottom and left to right, so this section is located in the top-left corner of the image. Here's the same thing as a PyTorch tensor:"
   ]
  },
  {
   "cell_type": "code",
   "execution_count": 9,
   "id": "453b5e2b",
   "metadata": {
    "execution": {
     "iopub.execute_input": "2022-04-14T15:39:52.688308Z",
     "iopub.status.busy": "2022-04-14T15:39:52.686668Z",
     "iopub.status.idle": "2022-04-14T15:39:52.738959Z",
     "shell.execute_reply": "2022-04-14T15:39:52.739560Z",
     "shell.execute_reply.started": "2022-04-14T15:33:24.227147Z"
    },
    "papermill": {
     "duration": 0.134074,
     "end_time": "2022-04-14T15:39:52.739737",
     "exception": false,
     "start_time": "2022-04-14T15:39:52.605663",
     "status": "completed"
    },
    "tags": []
   },
   "outputs": [
    {
     "data": {
      "text/plain": [
       "tensor([[  0,   0,   0,   0,   0,   0],\n",
       "        [  0,   0,   0,   0,   0,  29],\n",
       "        [  0,   0,   0,  48, 166, 224],\n",
       "        [  0,  93, 244, 249, 253, 187],\n",
       "        [  0, 107, 253, 253, 230,  48],\n",
       "        [  0,   3,  20,  20,  15,   0]], dtype=torch.uint8)"
      ]
     },
     "execution_count": 9,
     "metadata": {},
     "output_type": "execute_result"
    }
   ],
   "source": [
    "tensor(im3)[4:10,4:10]"
   ]
  },
  {
   "cell_type": "markdown",
   "id": "a0955901",
   "metadata": {
    "papermill": {
     "duration": 0.070415,
     "end_time": "2022-04-14T15:39:52.881265",
     "exception": false,
     "start_time": "2022-04-14T15:39:52.810850",
     "status": "completed"
    },
    "tags": []
   },
   "source": [
    "You can see they are nearly the same, but the big difference is that a PyTorch tensor can be speed up on a GPU\n",
    "\n",
    "We can slice the array to pick just the part with the top of the digit in it, and then use a Pandas DataFrame to color-code the values using a gradient, which shows us clearly how the image is created from the pixel values:"
   ]
  },
  {
   "cell_type": "code",
   "execution_count": 10,
   "id": "de8acc3e",
   "metadata": {
    "execution": {
     "iopub.execute_input": "2022-04-14T15:39:53.024711Z",
     "iopub.status.busy": "2022-04-14T15:39:53.024053Z",
     "iopub.status.idle": "2022-04-14T15:39:53.168514Z",
     "shell.execute_reply": "2022-04-14T15:39:53.169030Z",
     "shell.execute_reply.started": "2022-04-14T15:33:24.279461Z"
    },
    "papermill": {
     "duration": 0.217921,
     "end_time": "2022-04-14T15:39:53.169207",
     "exception": false,
     "start_time": "2022-04-14T15:39:52.951286",
     "status": "completed"
    },
    "tags": []
   },
   "outputs": [
    {
     "data": {
      "text/html": [
       "<style type=\"text/css\">\n",
       "#T_cff64_row0_col0, #T_cff64_row0_col1, #T_cff64_row0_col2, #T_cff64_row0_col3, #T_cff64_row0_col4, #T_cff64_row0_col5, #T_cff64_row0_col6, #T_cff64_row0_col7, #T_cff64_row0_col8, #T_cff64_row0_col9, #T_cff64_row0_col10, #T_cff64_row0_col11, #T_cff64_row0_col12, #T_cff64_row0_col13, #T_cff64_row0_col14, #T_cff64_row0_col15, #T_cff64_row0_col16, #T_cff64_row0_col17, #T_cff64_row1_col0, #T_cff64_row1_col1, #T_cff64_row1_col2, #T_cff64_row1_col3, #T_cff64_row1_col4, #T_cff64_row1_col15, #T_cff64_row1_col16, #T_cff64_row1_col17, #T_cff64_row2_col0, #T_cff64_row2_col1, #T_cff64_row2_col2, #T_cff64_row2_col15, #T_cff64_row2_col16, #T_cff64_row2_col17, #T_cff64_row3_col0, #T_cff64_row3_col15, #T_cff64_row3_col16, #T_cff64_row3_col17, #T_cff64_row4_col0, #T_cff64_row4_col6, #T_cff64_row4_col7, #T_cff64_row4_col8, #T_cff64_row4_col9, #T_cff64_row4_col10, #T_cff64_row4_col15, #T_cff64_row4_col16, #T_cff64_row4_col17, #T_cff64_row5_col0, #T_cff64_row5_col5, #T_cff64_row5_col6, #T_cff64_row5_col7, #T_cff64_row5_col8, #T_cff64_row5_col9, #T_cff64_row5_col15, #T_cff64_row5_col16, #T_cff64_row5_col17, #T_cff64_row6_col0, #T_cff64_row6_col1, #T_cff64_row6_col2, #T_cff64_row6_col3, #T_cff64_row6_col4, #T_cff64_row6_col5, #T_cff64_row6_col6, #T_cff64_row6_col7, #T_cff64_row6_col8, #T_cff64_row6_col9, #T_cff64_row6_col14, #T_cff64_row6_col15, #T_cff64_row6_col16, #T_cff64_row6_col17, #T_cff64_row7_col0, #T_cff64_row7_col1, #T_cff64_row7_col2, #T_cff64_row7_col3, #T_cff64_row7_col4, #T_cff64_row7_col5, #T_cff64_row7_col6, #T_cff64_row7_col13, #T_cff64_row7_col14, #T_cff64_row7_col15, #T_cff64_row7_col16, #T_cff64_row7_col17, #T_cff64_row8_col0, #T_cff64_row8_col1, #T_cff64_row8_col2, #T_cff64_row8_col3, #T_cff64_row8_col4, #T_cff64_row8_col13, #T_cff64_row8_col14, #T_cff64_row8_col15, #T_cff64_row8_col16, #T_cff64_row8_col17, #T_cff64_row9_col0, #T_cff64_row9_col1, #T_cff64_row9_col2, #T_cff64_row9_col3, #T_cff64_row9_col4, #T_cff64_row9_col16, #T_cff64_row9_col17, #T_cff64_row10_col0, #T_cff64_row10_col1, #T_cff64_row10_col2, #T_cff64_row10_col3, #T_cff64_row10_col4, #T_cff64_row10_col5, #T_cff64_row10_col6, #T_cff64_row10_col17 {\n",
       "  font-size: 6pt;\n",
       "  background-color: #ffffff;\n",
       "  color: #000000;\n",
       "}\n",
       "#T_cff64_row1_col5 {\n",
       "  font-size: 6pt;\n",
       "  background-color: #efefef;\n",
       "  color: #000000;\n",
       "}\n",
       "#T_cff64_row1_col6, #T_cff64_row1_col13 {\n",
       "  font-size: 6pt;\n",
       "  background-color: #7c7c7c;\n",
       "  color: #f1f1f1;\n",
       "}\n",
       "#T_cff64_row1_col7 {\n",
       "  font-size: 6pt;\n",
       "  background-color: #4a4a4a;\n",
       "  color: #f1f1f1;\n",
       "}\n",
       "#T_cff64_row1_col8, #T_cff64_row1_col9, #T_cff64_row1_col10, #T_cff64_row2_col5, #T_cff64_row2_col6, #T_cff64_row2_col7, #T_cff64_row2_col11, #T_cff64_row2_col12, #T_cff64_row2_col13, #T_cff64_row3_col4, #T_cff64_row3_col12, #T_cff64_row3_col13, #T_cff64_row4_col1, #T_cff64_row4_col2, #T_cff64_row4_col3, #T_cff64_row4_col12, #T_cff64_row4_col13, #T_cff64_row5_col12, #T_cff64_row6_col11, #T_cff64_row9_col11, #T_cff64_row10_col11, #T_cff64_row10_col12, #T_cff64_row10_col13, #T_cff64_row10_col14, #T_cff64_row10_col15, #T_cff64_row10_col16 {\n",
       "  font-size: 6pt;\n",
       "  background-color: #000000;\n",
       "  color: #f1f1f1;\n",
       "}\n",
       "#T_cff64_row1_col11 {\n",
       "  font-size: 6pt;\n",
       "  background-color: #606060;\n",
       "  color: #f1f1f1;\n",
       "}\n",
       "#T_cff64_row1_col12 {\n",
       "  font-size: 6pt;\n",
       "  background-color: #4d4d4d;\n",
       "  color: #f1f1f1;\n",
       "}\n",
       "#T_cff64_row1_col14 {\n",
       "  font-size: 6pt;\n",
       "  background-color: #bbbbbb;\n",
       "  color: #000000;\n",
       "}\n",
       "#T_cff64_row2_col3 {\n",
       "  font-size: 6pt;\n",
       "  background-color: #e4e4e4;\n",
       "  color: #000000;\n",
       "}\n",
       "#T_cff64_row2_col4, #T_cff64_row8_col6 {\n",
       "  font-size: 6pt;\n",
       "  background-color: #6b6b6b;\n",
       "  color: #f1f1f1;\n",
       "}\n",
       "#T_cff64_row2_col8, #T_cff64_row2_col14, #T_cff64_row3_col14 {\n",
       "  font-size: 6pt;\n",
       "  background-color: #171717;\n",
       "  color: #f1f1f1;\n",
       "}\n",
       "#T_cff64_row2_col9, #T_cff64_row3_col11 {\n",
       "  font-size: 6pt;\n",
       "  background-color: #4b4b4b;\n",
       "  color: #f1f1f1;\n",
       "}\n",
       "#T_cff64_row2_col10, #T_cff64_row7_col10, #T_cff64_row8_col8, #T_cff64_row8_col10, #T_cff64_row9_col8, #T_cff64_row9_col10 {\n",
       "  font-size: 6pt;\n",
       "  background-color: #010101;\n",
       "  color: #f1f1f1;\n",
       "}\n",
       "#T_cff64_row3_col1 {\n",
       "  font-size: 6pt;\n",
       "  background-color: #272727;\n",
       "  color: #f1f1f1;\n",
       "}\n",
       "#T_cff64_row3_col2 {\n",
       "  font-size: 6pt;\n",
       "  background-color: #0a0a0a;\n",
       "  color: #f1f1f1;\n",
       "}\n",
       "#T_cff64_row3_col3 {\n",
       "  font-size: 6pt;\n",
       "  background-color: #050505;\n",
       "  color: #f1f1f1;\n",
       "}\n",
       "#T_cff64_row3_col5 {\n",
       "  font-size: 6pt;\n",
       "  background-color: #333333;\n",
       "  color: #f1f1f1;\n",
       "}\n",
       "#T_cff64_row3_col6 {\n",
       "  font-size: 6pt;\n",
       "  background-color: #e6e6e6;\n",
       "  color: #000000;\n",
       "}\n",
       "#T_cff64_row3_col7, #T_cff64_row3_col10 {\n",
       "  font-size: 6pt;\n",
       "  background-color: #fafafa;\n",
       "  color: #000000;\n",
       "}\n",
       "#T_cff64_row3_col8 {\n",
       "  font-size: 6pt;\n",
       "  background-color: #fbfbfb;\n",
       "  color: #000000;\n",
       "}\n",
       "#T_cff64_row3_col9 {\n",
       "  font-size: 6pt;\n",
       "  background-color: #fdfdfd;\n",
       "  color: #000000;\n",
       "}\n",
       "#T_cff64_row4_col4 {\n",
       "  font-size: 6pt;\n",
       "  background-color: #1b1b1b;\n",
       "  color: #f1f1f1;\n",
       "}\n",
       "#T_cff64_row4_col5 {\n",
       "  font-size: 6pt;\n",
       "  background-color: #e0e0e0;\n",
       "  color: #000000;\n",
       "}\n",
       "#T_cff64_row4_col11 {\n",
       "  font-size: 6pt;\n",
       "  background-color: #4e4e4e;\n",
       "  color: #f1f1f1;\n",
       "}\n",
       "#T_cff64_row4_col14 {\n",
       "  font-size: 6pt;\n",
       "  background-color: #767676;\n",
       "  color: #f1f1f1;\n",
       "}\n",
       "#T_cff64_row5_col1 {\n",
       "  font-size: 6pt;\n",
       "  background-color: #fcfcfc;\n",
       "  color: #000000;\n",
       "}\n",
       "#T_cff64_row5_col2, #T_cff64_row5_col3 {\n",
       "  font-size: 6pt;\n",
       "  background-color: #f6f6f6;\n",
       "  color: #000000;\n",
       "}\n",
       "#T_cff64_row5_col4, #T_cff64_row7_col7 {\n",
       "  font-size: 6pt;\n",
       "  background-color: #f8f8f8;\n",
       "  color: #000000;\n",
       "}\n",
       "#T_cff64_row5_col10, #T_cff64_row10_col7 {\n",
       "  font-size: 6pt;\n",
       "  background-color: #e8e8e8;\n",
       "  color: #000000;\n",
       "}\n",
       "#T_cff64_row5_col11 {\n",
       "  font-size: 6pt;\n",
       "  background-color: #222222;\n",
       "  color: #f1f1f1;\n",
       "}\n",
       "#T_cff64_row5_col13, #T_cff64_row6_col12 {\n",
       "  font-size: 6pt;\n",
       "  background-color: #090909;\n",
       "  color: #f1f1f1;\n",
       "}\n",
       "#T_cff64_row5_col14 {\n",
       "  font-size: 6pt;\n",
       "  background-color: #d0d0d0;\n",
       "  color: #000000;\n",
       "}\n",
       "#T_cff64_row6_col10, #T_cff64_row7_col11, #T_cff64_row9_col6 {\n",
       "  font-size: 6pt;\n",
       "  background-color: #060606;\n",
       "  color: #f1f1f1;\n",
       "}\n",
       "#T_cff64_row6_col13 {\n",
       "  font-size: 6pt;\n",
       "  background-color: #979797;\n",
       "  color: #f1f1f1;\n",
       "}\n",
       "#T_cff64_row7_col8 {\n",
       "  font-size: 6pt;\n",
       "  background-color: #b6b6b6;\n",
       "  color: #000000;\n",
       "}\n",
       "#T_cff64_row7_col9 {\n",
       "  font-size: 6pt;\n",
       "  background-color: #252525;\n",
       "  color: #f1f1f1;\n",
       "}\n",
       "#T_cff64_row7_col12 {\n",
       "  font-size: 6pt;\n",
       "  background-color: #999999;\n",
       "  color: #f1f1f1;\n",
       "}\n",
       "#T_cff64_row8_col5 {\n",
       "  font-size: 6pt;\n",
       "  background-color: #f9f9f9;\n",
       "  color: #000000;\n",
       "}\n",
       "#T_cff64_row8_col7 {\n",
       "  font-size: 6pt;\n",
       "  background-color: #101010;\n",
       "  color: #f1f1f1;\n",
       "}\n",
       "#T_cff64_row8_col9, #T_cff64_row9_col9 {\n",
       "  font-size: 6pt;\n",
       "  background-color: #020202;\n",
       "  color: #f1f1f1;\n",
       "}\n",
       "#T_cff64_row8_col11 {\n",
       "  font-size: 6pt;\n",
       "  background-color: #545454;\n",
       "  color: #f1f1f1;\n",
       "}\n",
       "#T_cff64_row8_col12 {\n",
       "  font-size: 6pt;\n",
       "  background-color: #f1f1f1;\n",
       "  color: #000000;\n",
       "}\n",
       "#T_cff64_row9_col5 {\n",
       "  font-size: 6pt;\n",
       "  background-color: #f7f7f7;\n",
       "  color: #000000;\n",
       "}\n",
       "#T_cff64_row9_col7 {\n",
       "  font-size: 6pt;\n",
       "  background-color: #030303;\n",
       "  color: #f1f1f1;\n",
       "}\n",
       "#T_cff64_row9_col12 {\n",
       "  font-size: 6pt;\n",
       "  background-color: #181818;\n",
       "  color: #f1f1f1;\n",
       "}\n",
       "#T_cff64_row9_col13 {\n",
       "  font-size: 6pt;\n",
       "  background-color: #303030;\n",
       "  color: #f1f1f1;\n",
       "}\n",
       "#T_cff64_row9_col14 {\n",
       "  font-size: 6pt;\n",
       "  background-color: #a9a9a9;\n",
       "  color: #f1f1f1;\n",
       "}\n",
       "#T_cff64_row9_col15 {\n",
       "  font-size: 6pt;\n",
       "  background-color: #fefefe;\n",
       "  color: #000000;\n",
       "}\n",
       "#T_cff64_row10_col8, #T_cff64_row10_col9 {\n",
       "  font-size: 6pt;\n",
       "  background-color: #bababa;\n",
       "  color: #000000;\n",
       "}\n",
       "#T_cff64_row10_col10 {\n",
       "  font-size: 6pt;\n",
       "  background-color: #393939;\n",
       "  color: #f1f1f1;\n",
       "}\n",
       "</style>\n",
       "<table id=\"T_cff64_\">\n",
       "  <thead>\n",
       "    <tr>\n",
       "      <th class=\"blank level0\" >&nbsp;</th>\n",
       "      <th class=\"col_heading level0 col0\" >0</th>\n",
       "      <th class=\"col_heading level0 col1\" >1</th>\n",
       "      <th class=\"col_heading level0 col2\" >2</th>\n",
       "      <th class=\"col_heading level0 col3\" >3</th>\n",
       "      <th class=\"col_heading level0 col4\" >4</th>\n",
       "      <th class=\"col_heading level0 col5\" >5</th>\n",
       "      <th class=\"col_heading level0 col6\" >6</th>\n",
       "      <th class=\"col_heading level0 col7\" >7</th>\n",
       "      <th class=\"col_heading level0 col8\" >8</th>\n",
       "      <th class=\"col_heading level0 col9\" >9</th>\n",
       "      <th class=\"col_heading level0 col10\" >10</th>\n",
       "      <th class=\"col_heading level0 col11\" >11</th>\n",
       "      <th class=\"col_heading level0 col12\" >12</th>\n",
       "      <th class=\"col_heading level0 col13\" >13</th>\n",
       "      <th class=\"col_heading level0 col14\" >14</th>\n",
       "      <th class=\"col_heading level0 col15\" >15</th>\n",
       "      <th class=\"col_heading level0 col16\" >16</th>\n",
       "      <th class=\"col_heading level0 col17\" >17</th>\n",
       "    </tr>\n",
       "  </thead>\n",
       "  <tbody>\n",
       "    <tr>\n",
       "      <th id=\"T_cff64_level0_row0\" class=\"row_heading level0 row0\" >0</th>\n",
       "      <td id=\"T_cff64_row0_col0\" class=\"data row0 col0\" >0</td>\n",
       "      <td id=\"T_cff64_row0_col1\" class=\"data row0 col1\" >0</td>\n",
       "      <td id=\"T_cff64_row0_col2\" class=\"data row0 col2\" >0</td>\n",
       "      <td id=\"T_cff64_row0_col3\" class=\"data row0 col3\" >0</td>\n",
       "      <td id=\"T_cff64_row0_col4\" class=\"data row0 col4\" >0</td>\n",
       "      <td id=\"T_cff64_row0_col5\" class=\"data row0 col5\" >0</td>\n",
       "      <td id=\"T_cff64_row0_col6\" class=\"data row0 col6\" >0</td>\n",
       "      <td id=\"T_cff64_row0_col7\" class=\"data row0 col7\" >0</td>\n",
       "      <td id=\"T_cff64_row0_col8\" class=\"data row0 col8\" >0</td>\n",
       "      <td id=\"T_cff64_row0_col9\" class=\"data row0 col9\" >0</td>\n",
       "      <td id=\"T_cff64_row0_col10\" class=\"data row0 col10\" >0</td>\n",
       "      <td id=\"T_cff64_row0_col11\" class=\"data row0 col11\" >0</td>\n",
       "      <td id=\"T_cff64_row0_col12\" class=\"data row0 col12\" >0</td>\n",
       "      <td id=\"T_cff64_row0_col13\" class=\"data row0 col13\" >0</td>\n",
       "      <td id=\"T_cff64_row0_col14\" class=\"data row0 col14\" >0</td>\n",
       "      <td id=\"T_cff64_row0_col15\" class=\"data row0 col15\" >0</td>\n",
       "      <td id=\"T_cff64_row0_col16\" class=\"data row0 col16\" >0</td>\n",
       "      <td id=\"T_cff64_row0_col17\" class=\"data row0 col17\" >0</td>\n",
       "    </tr>\n",
       "    <tr>\n",
       "      <th id=\"T_cff64_level0_row1\" class=\"row_heading level0 row1\" >1</th>\n",
       "      <td id=\"T_cff64_row1_col0\" class=\"data row1 col0\" >0</td>\n",
       "      <td id=\"T_cff64_row1_col1\" class=\"data row1 col1\" >0</td>\n",
       "      <td id=\"T_cff64_row1_col2\" class=\"data row1 col2\" >0</td>\n",
       "      <td id=\"T_cff64_row1_col3\" class=\"data row1 col3\" >0</td>\n",
       "      <td id=\"T_cff64_row1_col4\" class=\"data row1 col4\" >0</td>\n",
       "      <td id=\"T_cff64_row1_col5\" class=\"data row1 col5\" >29</td>\n",
       "      <td id=\"T_cff64_row1_col6\" class=\"data row1 col6\" >150</td>\n",
       "      <td id=\"T_cff64_row1_col7\" class=\"data row1 col7\" >195</td>\n",
       "      <td id=\"T_cff64_row1_col8\" class=\"data row1 col8\" >254</td>\n",
       "      <td id=\"T_cff64_row1_col9\" class=\"data row1 col9\" >255</td>\n",
       "      <td id=\"T_cff64_row1_col10\" class=\"data row1 col10\" >254</td>\n",
       "      <td id=\"T_cff64_row1_col11\" class=\"data row1 col11\" >176</td>\n",
       "      <td id=\"T_cff64_row1_col12\" class=\"data row1 col12\" >193</td>\n",
       "      <td id=\"T_cff64_row1_col13\" class=\"data row1 col13\" >150</td>\n",
       "      <td id=\"T_cff64_row1_col14\" class=\"data row1 col14\" >96</td>\n",
       "      <td id=\"T_cff64_row1_col15\" class=\"data row1 col15\" >0</td>\n",
       "      <td id=\"T_cff64_row1_col16\" class=\"data row1 col16\" >0</td>\n",
       "      <td id=\"T_cff64_row1_col17\" class=\"data row1 col17\" >0</td>\n",
       "    </tr>\n",
       "    <tr>\n",
       "      <th id=\"T_cff64_level0_row2\" class=\"row_heading level0 row2\" >2</th>\n",
       "      <td id=\"T_cff64_row2_col0\" class=\"data row2 col0\" >0</td>\n",
       "      <td id=\"T_cff64_row2_col1\" class=\"data row2 col1\" >0</td>\n",
       "      <td id=\"T_cff64_row2_col2\" class=\"data row2 col2\" >0</td>\n",
       "      <td id=\"T_cff64_row2_col3\" class=\"data row2 col3\" >48</td>\n",
       "      <td id=\"T_cff64_row2_col4\" class=\"data row2 col4\" >166</td>\n",
       "      <td id=\"T_cff64_row2_col5\" class=\"data row2 col5\" >224</td>\n",
       "      <td id=\"T_cff64_row2_col6\" class=\"data row2 col6\" >253</td>\n",
       "      <td id=\"T_cff64_row2_col7\" class=\"data row2 col7\" >253</td>\n",
       "      <td id=\"T_cff64_row2_col8\" class=\"data row2 col8\" >234</td>\n",
       "      <td id=\"T_cff64_row2_col9\" class=\"data row2 col9\" >196</td>\n",
       "      <td id=\"T_cff64_row2_col10\" class=\"data row2 col10\" >253</td>\n",
       "      <td id=\"T_cff64_row2_col11\" class=\"data row2 col11\" >253</td>\n",
       "      <td id=\"T_cff64_row2_col12\" class=\"data row2 col12\" >253</td>\n",
       "      <td id=\"T_cff64_row2_col13\" class=\"data row2 col13\" >253</td>\n",
       "      <td id=\"T_cff64_row2_col14\" class=\"data row2 col14\" >233</td>\n",
       "      <td id=\"T_cff64_row2_col15\" class=\"data row2 col15\" >0</td>\n",
       "      <td id=\"T_cff64_row2_col16\" class=\"data row2 col16\" >0</td>\n",
       "      <td id=\"T_cff64_row2_col17\" class=\"data row2 col17\" >0</td>\n",
       "    </tr>\n",
       "    <tr>\n",
       "      <th id=\"T_cff64_level0_row3\" class=\"row_heading level0 row3\" >3</th>\n",
       "      <td id=\"T_cff64_row3_col0\" class=\"data row3 col0\" >0</td>\n",
       "      <td id=\"T_cff64_row3_col1\" class=\"data row3 col1\" >93</td>\n",
       "      <td id=\"T_cff64_row3_col2\" class=\"data row3 col2\" >244</td>\n",
       "      <td id=\"T_cff64_row3_col3\" class=\"data row3 col3\" >249</td>\n",
       "      <td id=\"T_cff64_row3_col4\" class=\"data row3 col4\" >253</td>\n",
       "      <td id=\"T_cff64_row3_col5\" class=\"data row3 col5\" >187</td>\n",
       "      <td id=\"T_cff64_row3_col6\" class=\"data row3 col6\" >46</td>\n",
       "      <td id=\"T_cff64_row3_col7\" class=\"data row3 col7\" >10</td>\n",
       "      <td id=\"T_cff64_row3_col8\" class=\"data row3 col8\" >8</td>\n",
       "      <td id=\"T_cff64_row3_col9\" class=\"data row3 col9\" >4</td>\n",
       "      <td id=\"T_cff64_row3_col10\" class=\"data row3 col10\" >10</td>\n",
       "      <td id=\"T_cff64_row3_col11\" class=\"data row3 col11\" >194</td>\n",
       "      <td id=\"T_cff64_row3_col12\" class=\"data row3 col12\" >253</td>\n",
       "      <td id=\"T_cff64_row3_col13\" class=\"data row3 col13\" >253</td>\n",
       "      <td id=\"T_cff64_row3_col14\" class=\"data row3 col14\" >233</td>\n",
       "      <td id=\"T_cff64_row3_col15\" class=\"data row3 col15\" >0</td>\n",
       "      <td id=\"T_cff64_row3_col16\" class=\"data row3 col16\" >0</td>\n",
       "      <td id=\"T_cff64_row3_col17\" class=\"data row3 col17\" >0</td>\n",
       "    </tr>\n",
       "    <tr>\n",
       "      <th id=\"T_cff64_level0_row4\" class=\"row_heading level0 row4\" >4</th>\n",
       "      <td id=\"T_cff64_row4_col0\" class=\"data row4 col0\" >0</td>\n",
       "      <td id=\"T_cff64_row4_col1\" class=\"data row4 col1\" >107</td>\n",
       "      <td id=\"T_cff64_row4_col2\" class=\"data row4 col2\" >253</td>\n",
       "      <td id=\"T_cff64_row4_col3\" class=\"data row4 col3\" >253</td>\n",
       "      <td id=\"T_cff64_row4_col4\" class=\"data row4 col4\" >230</td>\n",
       "      <td id=\"T_cff64_row4_col5\" class=\"data row4 col5\" >48</td>\n",
       "      <td id=\"T_cff64_row4_col6\" class=\"data row4 col6\" >0</td>\n",
       "      <td id=\"T_cff64_row4_col7\" class=\"data row4 col7\" >0</td>\n",
       "      <td id=\"T_cff64_row4_col8\" class=\"data row4 col8\" >0</td>\n",
       "      <td id=\"T_cff64_row4_col9\" class=\"data row4 col9\" >0</td>\n",
       "      <td id=\"T_cff64_row4_col10\" class=\"data row4 col10\" >0</td>\n",
       "      <td id=\"T_cff64_row4_col11\" class=\"data row4 col11\" >192</td>\n",
       "      <td id=\"T_cff64_row4_col12\" class=\"data row4 col12\" >253</td>\n",
       "      <td id=\"T_cff64_row4_col13\" class=\"data row4 col13\" >253</td>\n",
       "      <td id=\"T_cff64_row4_col14\" class=\"data row4 col14\" >156</td>\n",
       "      <td id=\"T_cff64_row4_col15\" class=\"data row4 col15\" >0</td>\n",
       "      <td id=\"T_cff64_row4_col16\" class=\"data row4 col16\" >0</td>\n",
       "      <td id=\"T_cff64_row4_col17\" class=\"data row4 col17\" >0</td>\n",
       "    </tr>\n",
       "    <tr>\n",
       "      <th id=\"T_cff64_level0_row5\" class=\"row_heading level0 row5\" >5</th>\n",
       "      <td id=\"T_cff64_row5_col0\" class=\"data row5 col0\" >0</td>\n",
       "      <td id=\"T_cff64_row5_col1\" class=\"data row5 col1\" >3</td>\n",
       "      <td id=\"T_cff64_row5_col2\" class=\"data row5 col2\" >20</td>\n",
       "      <td id=\"T_cff64_row5_col3\" class=\"data row5 col3\" >20</td>\n",
       "      <td id=\"T_cff64_row5_col4\" class=\"data row5 col4\" >15</td>\n",
       "      <td id=\"T_cff64_row5_col5\" class=\"data row5 col5\" >0</td>\n",
       "      <td id=\"T_cff64_row5_col6\" class=\"data row5 col6\" >0</td>\n",
       "      <td id=\"T_cff64_row5_col7\" class=\"data row5 col7\" >0</td>\n",
       "      <td id=\"T_cff64_row5_col8\" class=\"data row5 col8\" >0</td>\n",
       "      <td id=\"T_cff64_row5_col9\" class=\"data row5 col9\" >0</td>\n",
       "      <td id=\"T_cff64_row5_col10\" class=\"data row5 col10\" >43</td>\n",
       "      <td id=\"T_cff64_row5_col11\" class=\"data row5 col11\" >224</td>\n",
       "      <td id=\"T_cff64_row5_col12\" class=\"data row5 col12\" >253</td>\n",
       "      <td id=\"T_cff64_row5_col13\" class=\"data row5 col13\" >245</td>\n",
       "      <td id=\"T_cff64_row5_col14\" class=\"data row5 col14\" >74</td>\n",
       "      <td id=\"T_cff64_row5_col15\" class=\"data row5 col15\" >0</td>\n",
       "      <td id=\"T_cff64_row5_col16\" class=\"data row5 col16\" >0</td>\n",
       "      <td id=\"T_cff64_row5_col17\" class=\"data row5 col17\" >0</td>\n",
       "    </tr>\n",
       "    <tr>\n",
       "      <th id=\"T_cff64_level0_row6\" class=\"row_heading level0 row6\" >6</th>\n",
       "      <td id=\"T_cff64_row6_col0\" class=\"data row6 col0\" >0</td>\n",
       "      <td id=\"T_cff64_row6_col1\" class=\"data row6 col1\" >0</td>\n",
       "      <td id=\"T_cff64_row6_col2\" class=\"data row6 col2\" >0</td>\n",
       "      <td id=\"T_cff64_row6_col3\" class=\"data row6 col3\" >0</td>\n",
       "      <td id=\"T_cff64_row6_col4\" class=\"data row6 col4\" >0</td>\n",
       "      <td id=\"T_cff64_row6_col5\" class=\"data row6 col5\" >0</td>\n",
       "      <td id=\"T_cff64_row6_col6\" class=\"data row6 col6\" >0</td>\n",
       "      <td id=\"T_cff64_row6_col7\" class=\"data row6 col7\" >0</td>\n",
       "      <td id=\"T_cff64_row6_col8\" class=\"data row6 col8\" >0</td>\n",
       "      <td id=\"T_cff64_row6_col9\" class=\"data row6 col9\" >0</td>\n",
       "      <td id=\"T_cff64_row6_col10\" class=\"data row6 col10\" >249</td>\n",
       "      <td id=\"T_cff64_row6_col11\" class=\"data row6 col11\" >253</td>\n",
       "      <td id=\"T_cff64_row6_col12\" class=\"data row6 col12\" >245</td>\n",
       "      <td id=\"T_cff64_row6_col13\" class=\"data row6 col13\" >126</td>\n",
       "      <td id=\"T_cff64_row6_col14\" class=\"data row6 col14\" >0</td>\n",
       "      <td id=\"T_cff64_row6_col15\" class=\"data row6 col15\" >0</td>\n",
       "      <td id=\"T_cff64_row6_col16\" class=\"data row6 col16\" >0</td>\n",
       "      <td id=\"T_cff64_row6_col17\" class=\"data row6 col17\" >0</td>\n",
       "    </tr>\n",
       "    <tr>\n",
       "      <th id=\"T_cff64_level0_row7\" class=\"row_heading level0 row7\" >7</th>\n",
       "      <td id=\"T_cff64_row7_col0\" class=\"data row7 col0\" >0</td>\n",
       "      <td id=\"T_cff64_row7_col1\" class=\"data row7 col1\" >0</td>\n",
       "      <td id=\"T_cff64_row7_col2\" class=\"data row7 col2\" >0</td>\n",
       "      <td id=\"T_cff64_row7_col3\" class=\"data row7 col3\" >0</td>\n",
       "      <td id=\"T_cff64_row7_col4\" class=\"data row7 col4\" >0</td>\n",
       "      <td id=\"T_cff64_row7_col5\" class=\"data row7 col5\" >0</td>\n",
       "      <td id=\"T_cff64_row7_col6\" class=\"data row7 col6\" >0</td>\n",
       "      <td id=\"T_cff64_row7_col7\" class=\"data row7 col7\" >14</td>\n",
       "      <td id=\"T_cff64_row7_col8\" class=\"data row7 col8\" >101</td>\n",
       "      <td id=\"T_cff64_row7_col9\" class=\"data row7 col9\" >223</td>\n",
       "      <td id=\"T_cff64_row7_col10\" class=\"data row7 col10\" >253</td>\n",
       "      <td id=\"T_cff64_row7_col11\" class=\"data row7 col11\" >248</td>\n",
       "      <td id=\"T_cff64_row7_col12\" class=\"data row7 col12\" >124</td>\n",
       "      <td id=\"T_cff64_row7_col13\" class=\"data row7 col13\" >0</td>\n",
       "      <td id=\"T_cff64_row7_col14\" class=\"data row7 col14\" >0</td>\n",
       "      <td id=\"T_cff64_row7_col15\" class=\"data row7 col15\" >0</td>\n",
       "      <td id=\"T_cff64_row7_col16\" class=\"data row7 col16\" >0</td>\n",
       "      <td id=\"T_cff64_row7_col17\" class=\"data row7 col17\" >0</td>\n",
       "    </tr>\n",
       "    <tr>\n",
       "      <th id=\"T_cff64_level0_row8\" class=\"row_heading level0 row8\" >8</th>\n",
       "      <td id=\"T_cff64_row8_col0\" class=\"data row8 col0\" >0</td>\n",
       "      <td id=\"T_cff64_row8_col1\" class=\"data row8 col1\" >0</td>\n",
       "      <td id=\"T_cff64_row8_col2\" class=\"data row8 col2\" >0</td>\n",
       "      <td id=\"T_cff64_row8_col3\" class=\"data row8 col3\" >0</td>\n",
       "      <td id=\"T_cff64_row8_col4\" class=\"data row8 col4\" >0</td>\n",
       "      <td id=\"T_cff64_row8_col5\" class=\"data row8 col5\" >11</td>\n",
       "      <td id=\"T_cff64_row8_col6\" class=\"data row8 col6\" >166</td>\n",
       "      <td id=\"T_cff64_row8_col7\" class=\"data row8 col7\" >239</td>\n",
       "      <td id=\"T_cff64_row8_col8\" class=\"data row8 col8\" >253</td>\n",
       "      <td id=\"T_cff64_row8_col9\" class=\"data row8 col9\" >253</td>\n",
       "      <td id=\"T_cff64_row8_col10\" class=\"data row8 col10\" >253</td>\n",
       "      <td id=\"T_cff64_row8_col11\" class=\"data row8 col11\" >187</td>\n",
       "      <td id=\"T_cff64_row8_col12\" class=\"data row8 col12\" >30</td>\n",
       "      <td id=\"T_cff64_row8_col13\" class=\"data row8 col13\" >0</td>\n",
       "      <td id=\"T_cff64_row8_col14\" class=\"data row8 col14\" >0</td>\n",
       "      <td id=\"T_cff64_row8_col15\" class=\"data row8 col15\" >0</td>\n",
       "      <td id=\"T_cff64_row8_col16\" class=\"data row8 col16\" >0</td>\n",
       "      <td id=\"T_cff64_row8_col17\" class=\"data row8 col17\" >0</td>\n",
       "    </tr>\n",
       "    <tr>\n",
       "      <th id=\"T_cff64_level0_row9\" class=\"row_heading level0 row9\" >9</th>\n",
       "      <td id=\"T_cff64_row9_col0\" class=\"data row9 col0\" >0</td>\n",
       "      <td id=\"T_cff64_row9_col1\" class=\"data row9 col1\" >0</td>\n",
       "      <td id=\"T_cff64_row9_col2\" class=\"data row9 col2\" >0</td>\n",
       "      <td id=\"T_cff64_row9_col3\" class=\"data row9 col3\" >0</td>\n",
       "      <td id=\"T_cff64_row9_col4\" class=\"data row9 col4\" >0</td>\n",
       "      <td id=\"T_cff64_row9_col5\" class=\"data row9 col5\" >16</td>\n",
       "      <td id=\"T_cff64_row9_col6\" class=\"data row9 col6\" >248</td>\n",
       "      <td id=\"T_cff64_row9_col7\" class=\"data row9 col7\" >250</td>\n",
       "      <td id=\"T_cff64_row9_col8\" class=\"data row9 col8\" >253</td>\n",
       "      <td id=\"T_cff64_row9_col9\" class=\"data row9 col9\" >253</td>\n",
       "      <td id=\"T_cff64_row9_col10\" class=\"data row9 col10\" >253</td>\n",
       "      <td id=\"T_cff64_row9_col11\" class=\"data row9 col11\" >253</td>\n",
       "      <td id=\"T_cff64_row9_col12\" class=\"data row9 col12\" >232</td>\n",
       "      <td id=\"T_cff64_row9_col13\" class=\"data row9 col13\" >213</td>\n",
       "      <td id=\"T_cff64_row9_col14\" class=\"data row9 col14\" >111</td>\n",
       "      <td id=\"T_cff64_row9_col15\" class=\"data row9 col15\" >2</td>\n",
       "      <td id=\"T_cff64_row9_col16\" class=\"data row9 col16\" >0</td>\n",
       "      <td id=\"T_cff64_row9_col17\" class=\"data row9 col17\" >0</td>\n",
       "    </tr>\n",
       "    <tr>\n",
       "      <th id=\"T_cff64_level0_row10\" class=\"row_heading level0 row10\" >10</th>\n",
       "      <td id=\"T_cff64_row10_col0\" class=\"data row10 col0\" >0</td>\n",
       "      <td id=\"T_cff64_row10_col1\" class=\"data row10 col1\" >0</td>\n",
       "      <td id=\"T_cff64_row10_col2\" class=\"data row10 col2\" >0</td>\n",
       "      <td id=\"T_cff64_row10_col3\" class=\"data row10 col3\" >0</td>\n",
       "      <td id=\"T_cff64_row10_col4\" class=\"data row10 col4\" >0</td>\n",
       "      <td id=\"T_cff64_row10_col5\" class=\"data row10 col5\" >0</td>\n",
       "      <td id=\"T_cff64_row10_col6\" class=\"data row10 col6\" >0</td>\n",
       "      <td id=\"T_cff64_row10_col7\" class=\"data row10 col7\" >43</td>\n",
       "      <td id=\"T_cff64_row10_col8\" class=\"data row10 col8\" >98</td>\n",
       "      <td id=\"T_cff64_row10_col9\" class=\"data row10 col9\" >98</td>\n",
       "      <td id=\"T_cff64_row10_col10\" class=\"data row10 col10\" >208</td>\n",
       "      <td id=\"T_cff64_row10_col11\" class=\"data row10 col11\" >253</td>\n",
       "      <td id=\"T_cff64_row10_col12\" class=\"data row10 col12\" >253</td>\n",
       "      <td id=\"T_cff64_row10_col13\" class=\"data row10 col13\" >253</td>\n",
       "      <td id=\"T_cff64_row10_col14\" class=\"data row10 col14\" >253</td>\n",
       "      <td id=\"T_cff64_row10_col15\" class=\"data row10 col15\" >187</td>\n",
       "      <td id=\"T_cff64_row10_col16\" class=\"data row10 col16\" >22</td>\n",
       "      <td id=\"T_cff64_row10_col17\" class=\"data row10 col17\" >0</td>\n",
       "    </tr>\n",
       "  </tbody>\n",
       "</table>\n"
      ],
      "text/plain": [
       "<pandas.io.formats.style.Styler at 0x7fae12e60bd0>"
      ]
     },
     "execution_count": 10,
     "metadata": {},
     "output_type": "execute_result"
    }
   ],
   "source": [
    "im3_t = tensor(im3)\n",
    "df = pd.DataFrame(im3_t[4:15,4:22])\n",
    "df.style.set_properties(**{'font-size':'6pt'}).background_gradient('Greys')"
   ]
  },
  {
   "cell_type": "markdown",
   "id": "6041fa47",
   "metadata": {
    "papermill": {
     "duration": 0.071513,
     "end_time": "2022-04-14T15:39:53.312389",
     "exception": false,
     "start_time": "2022-04-14T15:39:53.240876",
     "status": "completed"
    },
    "tags": []
   },
   "source": [
    "You can see that the background white pixels are stored as the number 0, black is the number 255, and shades of gray are between the two. The entire image contains 28 pixels across and 28 pixels down, for a total of 784 pixels. (This is much smaller than an image that you would get from a phone camera, which has millions of pixels, but is a convenient size for our initial learning and experiments. We will build up to bigger, full-color images soon.)\n",
    "\n",
    "So, now you've seen what an image looks like to a computer, let's recall our goal: create a model that can recognize 3s and 7s. How might you go about getting a computer to do that?\n",
    "\n",
    "## Stochastic Gradient Descent (SGD)\n",
    "\n",
    "Do you remember the way that Arthur Samuel described machine learning, which we quoted in the intro?\n",
    "\n",
    "> Suppose we arrange for some automatic means of testing the effectiveness of any current weight assignment in terms of actual performance and provide a mechanism for altering the weight assignment so as to maximize the performance. We need not go into the details of such a procedure to see that it could be made entirely automatic and to see that a machine so programmed would \"learn\" from its experience.\n",
    "\n",
    "As we discussed, this is the key to allowing us to have a model that can get better and better—that can learn. In order to take advantage of the power of deep learning, we will first have to represent our task in the way that Arthur Samuel described it.\n",
    "\n",
    "We could look at each individual pixel and come up with a set of weights for each one, such that the highest weights are associated with those pixels most likely to be black for a particular category. For instance, pixels toward the bottom right are not very likely to be activated for a 7, so they should have a low weight for a 7, but they are likely to be activated for an 8, so they should have a high weight for an 8. This can be represented as a function and set of weight values for each possible category—for instance the probability of being the number 8:\n",
    "\n",
    "```\n",
    "def pr_eight(x,w): return (x*w).sum()\n",
    "```\n",
    "Here we are assuming that `x` is the image, represented as a vector—in other words, with all of the rows stacked up end to end into a single long line. And we are assuming that the weights are a vector `w`. If we have this function, then we just need some way to update the weights to make them a little bit better. With such an approach, we can repeat that step a number of times, making the weights better and better, until they are as good as we can make them.\n",
    "\n",
    "We want to find the specific values for the vector `w` that causes the result of our function to be high for those images that are actually 8s, and low for those images that are not. Searching for the best vector `w` is a way to search for the best function for recognising 8s. (Because we are not yet using a deep neural network, we are limited by what our function can actually do—we are going to fix that constraint later in this chapter.) \n",
    "\n",
    "To be more specific, here are the steps that we are going to require, to turn this function into a machine learning classifier:\n",
    "\n",
    "1. *Initialize* the weights.\n",
    "1. For each image, use these weights to *predict* whether it appears to be a 3 or a 7.\n",
    "1. Based on these predictions, calculate how good the model is (its *loss*).\n",
    "1. Calculate the *gradient*, which measures for each weight, how changing that weight would change the loss\n",
    "1. *Step* (that is, change) all the weights based on that calculation.\n",
    "1. Go back to the step 2, and *repeat* the process.\n",
    "1. Iterate until you decide to *stop* the training process (for instance, because the model is good enough or you don't want to wait any longer).\n",
    "\n",
    "These seven steps, illustrated below, are the key to the training of all deep learning models. That deep learning turns out to rely entirely on these steps is extremely surprising and counterintuitive. It's amazing that this process can solve such complex problems. But, as you'll see, it really does!"
   ]
  },
  {
   "cell_type": "code",
   "execution_count": 11,
   "id": "6bef561f",
   "metadata": {
    "execution": {
     "iopub.execute_input": "2022-04-14T15:39:53.461554Z",
     "iopub.status.busy": "2022-04-14T15:39:53.460513Z",
     "iopub.status.idle": "2022-04-14T15:39:54.544729Z",
     "shell.execute_reply": "2022-04-14T15:39:54.545264Z",
     "shell.execute_reply.started": "2022-04-14T15:33:24.422735Z"
    },
    "papermill": {
     "duration": 1.160004,
     "end_time": "2022-04-14T15:39:54.545615",
     "exception": false,
     "start_time": "2022-04-14T15:39:53.385611",
     "status": "completed"
    },
    "tags": []
   },
   "outputs": [
    {
     "data": {
      "image/svg+xml": [
       "<?xml version=\"1.0\" encoding=\"UTF-8\" standalone=\"no\"?>\n",
       "<!DOCTYPE svg PUBLIC \"-//W3C//DTD SVG 1.1//EN\"\n",
       " \"http://www.w3.org/Graphics/SVG/1.1/DTD/svg11.dtd\">\n",
       "<!-- Generated by graphviz version 2.50.0 (20211209.0339)\n",
       " -->\n",
       "<!-- Title: G Pages: 1 -->\n",
       "<svg width=\"661pt\" height=\"78pt\"\n",
       " viewBox=\"0.00 0.00 660.87 78.00\" xmlns=\"http://www.w3.org/2000/svg\" xmlns:xlink=\"http://www.w3.org/1999/xlink\">\n",
       "<g id=\"graph0\" class=\"graph\" transform=\"scale(1 1) rotate(0) translate(4 74)\">\n",
       "<title>G</title>\n",
       "<polygon fill=\"white\" stroke=\"transparent\" points=\"-4,4 -4,-74 656.87,-74 656.87,4 -4,4\"/>\n",
       "<!-- init -->\n",
       "<g id=\"node1\" class=\"node\">\n",
       "<title>init</title>\n",
       "<ellipse fill=\"none\" stroke=\"black\" cx=\"27\" cy=\"-18\" rx=\"27\" ry=\"18\"/>\n",
       "<text text-anchor=\"middle\" x=\"27\" y=\"-14.3\" font-family=\"Times,serif\" font-size=\"14.00\">init</text>\n",
       "</g>\n",
       "<!-- predict -->\n",
       "<g id=\"node2\" class=\"node\">\n",
       "<title>predict</title>\n",
       "<ellipse fill=\"none\" stroke=\"black\" cx=\"135.2\" cy=\"-18\" rx=\"44.39\" ry=\"18\"/>\n",
       "<text text-anchor=\"middle\" x=\"135.2\" y=\"-14.3\" font-family=\"Times,serif\" font-size=\"14.00\">predict</text>\n",
       "</g>\n",
       "<!-- init&#45;&gt;predict -->\n",
       "<g id=\"edge1\" class=\"edge\">\n",
       "<title>init&#45;&gt;predict</title>\n",
       "<path fill=\"none\" stroke=\"black\" d=\"M54.25,-18C62.37,-18 71.63,-18 80.89,-18\"/>\n",
       "<polygon fill=\"black\" stroke=\"black\" points=\"80.89,-21.5 90.89,-18 80.89,-14.5 80.89,-21.5\"/>\n",
       "</g>\n",
       "<!-- loss -->\n",
       "<g id=\"node3\" class=\"node\">\n",
       "<title>loss</title>\n",
       "<ellipse fill=\"none\" stroke=\"black\" cx=\"244.99\" cy=\"-52\" rx=\"28.7\" ry=\"18\"/>\n",
       "<text text-anchor=\"middle\" x=\"244.99\" y=\"-48.3\" font-family=\"Times,serif\" font-size=\"14.00\">loss</text>\n",
       "</g>\n",
       "<!-- predict&#45;&gt;loss -->\n",
       "<g id=\"edge2\" class=\"edge\">\n",
       "<title>predict&#45;&gt;loss</title>\n",
       "<path fill=\"none\" stroke=\"black\" d=\"M170.6,-28.85C183.05,-32.78 197.09,-37.21 209.54,-41.14\"/>\n",
       "<polygon fill=\"black\" stroke=\"black\" points=\"208.53,-44.49 219.12,-44.16 210.64,-37.81 208.53,-44.49\"/>\n",
       "</g>\n",
       "<!-- gradient -->\n",
       "<g id=\"node4\" class=\"node\">\n",
       "<title>gradient</title>\n",
       "<ellipse fill=\"none\" stroke=\"black\" cx=\"406.63\" cy=\"-52\" rx=\"50.09\" ry=\"18\"/>\n",
       "<text text-anchor=\"middle\" x=\"406.63\" y=\"-48.3\" font-family=\"Times,serif\" font-size=\"14.00\">gradient</text>\n",
       "</g>\n",
       "<!-- loss&#45;&gt;gradient -->\n",
       "<g id=\"edge3\" class=\"edge\">\n",
       "<title>loss&#45;&gt;gradient</title>\n",
       "<path fill=\"none\" stroke=\"black\" d=\"M273.8,-52C293.82,-52 321.57,-52 346.45,-52\"/>\n",
       "<polygon fill=\"black\" stroke=\"black\" points=\"346.55,-55.5 356.55,-52 346.55,-48.5 346.55,-55.5\"/>\n",
       "</g>\n",
       "<!-- step -->\n",
       "<g id=\"node5\" class=\"node\">\n",
       "<title>step</title>\n",
       "<ellipse fill=\"none\" stroke=\"black\" cx=\"524.23\" cy=\"-18\" rx=\"30.59\" ry=\"18\"/>\n",
       "<text text-anchor=\"middle\" x=\"524.23\" y=\"-14.3\" font-family=\"Times,serif\" font-size=\"14.00\">step</text>\n",
       "</g>\n",
       "<!-- gradient&#45;&gt;step -->\n",
       "<g id=\"edge4\" class=\"edge\">\n",
       "<title>gradient&#45;&gt;step</title>\n",
       "<path fill=\"none\" stroke=\"black\" d=\"M445.8,-40.77C459.01,-36.89 473.76,-32.55 486.82,-28.71\"/>\n",
       "<polygon fill=\"black\" stroke=\"black\" points=\"487.82,-32.06 496.43,-25.88 485.85,-25.35 487.82,-32.06\"/>\n",
       "</g>\n",
       "<!-- step&#45;&gt;predict -->\n",
       "<g id=\"edge6\" class=\"edge\">\n",
       "<title>step&#45;&gt;predict</title>\n",
       "<path fill=\"none\" stroke=\"black\" d=\"M493.68,-18C428.65,-18 272.39,-18 189.67,-18\"/>\n",
       "<polygon fill=\"black\" stroke=\"black\" points=\"189.47,-14.5 179.47,-18 189.47,-21.5 189.47,-14.5\"/>\n",
       "<text text-anchor=\"middle\" x=\"315.09\" y=\"-21.8\" font-family=\"Times,serif\" font-size=\"14.00\">repeat</text>\n",
       "</g>\n",
       "<!-- stop -->\n",
       "<g id=\"node6\" class=\"node\">\n",
       "<title>stop</title>\n",
       "<ellipse fill=\"none\" stroke=\"black\" cx=\"622.32\" cy=\"-18\" rx=\"30.59\" ry=\"18\"/>\n",
       "<text text-anchor=\"middle\" x=\"622.32\" y=\"-14.3\" font-family=\"Times,serif\" font-size=\"14.00\">stop</text>\n",
       "</g>\n",
       "<!-- step&#45;&gt;stop -->\n",
       "<g id=\"edge5\" class=\"edge\">\n",
       "<title>step&#45;&gt;stop</title>\n",
       "<path fill=\"none\" stroke=\"black\" d=\"M554.84,-18C563.24,-18 572.53,-18 581.44,-18\"/>\n",
       "<polygon fill=\"black\" stroke=\"black\" points=\"581.64,-21.5 591.64,-18 581.64,-14.5 581.64,-21.5\"/>\n",
       "</g>\n",
       "</g>\n",
       "</svg>\n"
      ],
      "text/plain": [
       "<graphviz.files.Source at 0x7fae12df2410>"
      ]
     },
     "execution_count": 11,
     "metadata": {},
     "output_type": "execute_result"
    }
   ],
   "source": [
    "gv('''\n",
    "init->predict->loss->gradient->step->stop\n",
    "step->predict[label=repeat]\n",
    "''')"
   ]
  },
  {
   "cell_type": "markdown",
   "id": "f12db890",
   "metadata": {
    "papermill": {
     "duration": 0.071525,
     "end_time": "2022-04-14T15:39:54.689539",
     "exception": false,
     "start_time": "2022-04-14T15:39:54.618014",
     "status": "completed"
    },
    "tags": []
   },
   "source": [
    "There are many different ways to do each of these seven steps, and we will be learning about them throughout the rest of this class. These are the details that make a big difference for deep learning practitioners, but it turns out that the general approach to each one generally follows some basic principles. Here are a few guidelines:\n",
    "\n",
    "- Initialize: We initialize the parameters to random values. This may sound surprising. There are certainly other choices we could make, such as initializing them to the percentage of times that pixel is activated for that category—but since we already know that we have a routine to improve these weights, it turns out that just starting with random weights works perfectly well.\n",
    "- Loss: This is what Samuel referred to when he spoke of *testing the effectiveness of any current weight assignment in terms of actual performance*. We need some function that will return a number that is small if the performance of the model is good (the standard approach is to treat a small loss as good, and a large loss as bad, although this is just a convention).\n",
    "- Step: A simple way to figure out whether a weight should be increased a bit, or decreased a bit, would be just to try it: increase the weight by a small amount, and see if the loss goes up or down. Once you find the correct direction, you could then change that amount by a bit more, and a bit less, until you find an amount that works well. However, this is slow! As we will see, the magic of calculus allows us to directly figure out in which direction, and by roughly how much, to change each weight, without having to try all these small changes. The way to do this is by calculating *gradients*. This is just a performance optimization, we would get exactly the same results by using the slower manual process as well.\n",
    "- Stop: Once we've decided how many epochs to train the model for (a few suggestions for this were given in the earlier list), we apply that decision. This is where that decision is applied. For our digit classifier, we would keep training until the accuracy of the model started getting worse, or we ran out of time."
   ]
  },
  {
   "cell_type": "markdown",
   "id": "d4f40404",
   "metadata": {
    "papermill": {
     "duration": 0.071743,
     "end_time": "2022-04-14T15:39:54.833300",
     "exception": false,
     "start_time": "2022-04-14T15:39:54.761557",
     "status": "completed"
    },
    "tags": []
   },
   "source": [
    "Before applying these steps to our image classification problem, let's illustrate what they look like in a simpler case. First we will define a very simple function, the quadratic—let's pretend that this is our loss function, and `x` is a weight parameter of the function:"
   ]
  },
  {
   "cell_type": "code",
   "execution_count": 12,
   "id": "cfcc896a",
   "metadata": {
    "execution": {
     "iopub.execute_input": "2022-04-14T15:39:54.996417Z",
     "iopub.status.busy": "2022-04-14T15:39:54.995657Z",
     "iopub.status.idle": "2022-04-14T15:39:54.999502Z",
     "shell.execute_reply": "2022-04-14T15:39:55.000110Z",
     "shell.execute_reply.started": "2022-04-14T15:33:25.258291Z"
    },
    "papermill": {
     "duration": 0.093709,
     "end_time": "2022-04-14T15:39:55.000296",
     "exception": false,
     "start_time": "2022-04-14T15:39:54.906587",
     "status": "completed"
    },
    "tags": []
   },
   "outputs": [],
   "source": [
    "def f(x): \n",
    "    return x**2"
   ]
  },
  {
   "cell_type": "code",
   "execution_count": 13,
   "id": "216b242e",
   "metadata": {
    "execution": {
     "iopub.execute_input": "2022-04-14T15:39:55.152332Z",
     "iopub.status.busy": "2022-04-14T15:39:55.151573Z",
     "iopub.status.idle": "2022-04-14T15:39:55.461837Z",
     "shell.execute_reply": "2022-04-14T15:39:55.462821Z",
     "shell.execute_reply.started": "2022-04-14T15:33:25.266272Z"
    },
    "papermill": {
     "duration": 0.388456,
     "end_time": "2022-04-14T15:39:55.463078",
     "exception": false,
     "start_time": "2022-04-14T15:39:55.074622",
     "status": "completed"
    },
    "tags": []
   },
   "outputs": [
    {
     "name": "stderr",
     "output_type": "stream",
     "text": [
      "/opt/conda/lib/python3.7/site-packages/fastbook/__init__.py:74: UserWarning: Not providing a value for linspace's steps is deprecated and will throw a runtime error in a future release. This warning will appear only once per process. (Triggered internally at  ../aten/src/ATen/native/RangeFactories.cpp:25.)\n",
      "  x = torch.linspace(min,max)\n"
     ]
    },
    {
     "data": {
      "image/png": "[encoded data removed]",
      "text/plain": [
       "<Figure size 432x288 with 1 Axes>"
      ]
     },
     "metadata": {
      "needs_background": "light"
     },
     "output_type": "display_data"
    }
   ],
   "source": [
    "# Here is a graph of that function:\n",
    "plot_function(f, 'x', 'x**2')"
   ]
  },
  {
   "cell_type": "markdown",
   "id": "4bc996ce",
   "metadata": {
    "papermill": {
     "duration": 0.098167,
     "end_time": "2022-04-14T15:39:55.663982",
     "exception": false,
     "start_time": "2022-04-14T15:39:55.565815",
     "status": "completed"
    },
    "tags": []
   },
   "source": [
    "The sequence of steps we described earlier starts by picking some random value for a parameter, and calculating the value of the loss:"
   ]
  },
  {
   "cell_type": "code",
   "execution_count": 14,
   "id": "7c62cb02",
   "metadata": {
    "execution": {
     "iopub.execute_input": "2022-04-14T15:39:55.859603Z",
     "iopub.status.busy": "2022-04-14T15:39:55.858880Z",
     "iopub.status.idle": "2022-04-14T15:39:56.172281Z",
     "shell.execute_reply": "2022-04-14T15:39:56.173316Z",
     "shell.execute_reply.started": "2022-04-14T15:33:25.544897Z"
    },
    "papermill": {
     "duration": 0.414067,
     "end_time": "2022-04-14T15:39:56.173536",
     "exception": false,
     "start_time": "2022-04-14T15:39:55.759469",
     "status": "completed"
    },
    "tags": []
   },
   "outputs": [
    {
     "data": {
      "image/png": "[encoded data removed]",
      "text/plain": [
       "<Figure size 432x288 with 1 Axes>"
      ]
     },
     "metadata": {
      "needs_background": "light"
     },
     "output_type": "display_data"
    }
   ],
   "source": [
    "plot_function(f, 'x', 'x**2')\n",
    "plt.scatter(-1.5, f(-1.5), color='red');"
   ]
  },
  {
   "cell_type": "markdown",
   "id": "3a6c98e8",
   "metadata": {
    "papermill": {
     "duration": 0.096225,
     "end_time": "2022-04-14T15:39:56.369315",
     "exception": false,
     "start_time": "2022-04-14T15:39:56.273090",
     "status": "completed"
    },
    "tags": []
   },
   "source": [
    "Now we look to see what would happen if we increased or decreased our parameter by a little bit—the *adjustment*. This is simply the slope at a particular point:\n",
    "\n",
    "<img alt=\"A graph showing the squared function with the slope at one point\" width=\"400\" src=\"https://raw.githubusercontent.com/fastai/fastbook/master/images/grad_illustration.svg\"/>\n",
    "\n",
    "We can change our weight by a little in the direction of the slope, calculate our loss and adjustment again, and repeat this a few times. Eventually, we will get to the lowest point on our curve:\n",
    "\n",
    "<img alt=\"An illustration of gradient descent\" width=\"400\" src=\"https://raw.githubusercontent.com/fastai/fastbook/master/images/chapter2_perfect.svg\"/>\n",
    "\n",
    "This basic idea goes all the way back to Isaac Newton, who pointed out that we can optimize arbitrary functions in this way. Regardless of how complicated our functions become, this basic approach of gradient descent will not significantly change. The only minor changes we will see later in this book are some handy ways we can make it faster, by finding better steps."
   ]
  },
  {
   "cell_type": "markdown",
   "id": "5991d07e",
   "metadata": {
    "papermill": {
     "duration": 0.076579,
     "end_time": "2022-04-14T15:39:56.534101",
     "exception": false,
     "start_time": "2022-04-14T15:39:56.457522",
     "status": "completed"
    },
    "tags": []
   },
   "source": [
    "### Calculating Gradients\n",
    "The one magic step is the bit where we calculate the gradients. As we mentioned, we use calculus as a performance optimization; it allows us to more quickly calculate whether our loss will go up or down when we adjust our parameters up or down. In other words, the gradients will tell us how much we have to change each weight to make our model better.\n",
    "\n",
    "You may remember from your high school calculus class that the *derivative* of a function tells you how much a change in its parameters will change its result.\n",
    "\n",
    "The key point about a derivative is this: for any function, such as the quadratic function we saw in the previous section, we can calculate its derivative. The derivative is another function. It calculates the change, rather than the value. For instance, the derivative of the quadratic function at the value 3 tells us how rapidly the function changes at the value 3. More specifically, you may recall that gradient is defined as *rise/run*, that is, the change in the value of the function, divided by the change in the value of the parameter. When we know how our function will change, then we know what we need to do to make it smaller. This is the key to machine learning: having a way to change the parameters of a function to make it smaller. Calculus provides us with a computational shortcut, the derivative, which lets us directly calculate the gradients of our functions.\n",
    "\n",
    "One important thing to be aware of is that our function has lots of weights that we need to adjust, so when we calculate the derivative we won't get back one number, but lots of them—a gradient for every weight. But there is nothing mathematically tricky here; you can calculate the derivative with respect to one weight, and treat all the other ones as constant, then repeat that for each other weight. This is how all of the gradients are calculated, for every weight.\n",
    "\n",
    "We mentioned just now that you won't have to calculate any gradients yourself. How can that be? Amazingly enough, PyTorch is able to automatically compute the derivative of nearly any function! What's more, it does it very fast. Most of the time, it will be at least as fast as any derivative function that you can create by hand. Let's see an example.\n",
    "\n",
    "First, let's pick a tensor value which we want gradients at:"
   ]
  },
  {
   "cell_type": "code",
   "execution_count": 15,
   "id": "7bf29140",
   "metadata": {
    "execution": {
     "iopub.execute_input": "2022-04-14T15:39:56.690565Z",
     "iopub.status.busy": "2022-04-14T15:39:56.689874Z",
     "iopub.status.idle": "2022-04-14T15:39:56.693017Z",
     "shell.execute_reply": "2022-04-14T15:39:56.693485Z",
     "shell.execute_reply.started": "2022-04-14T15:33:25.806922Z"
    },
    "papermill": {
     "duration": 0.084522,
     "end_time": "2022-04-14T15:39:56.693658",
     "exception": false,
     "start_time": "2022-04-14T15:39:56.609136",
     "status": "completed"
    },
    "tags": []
   },
   "outputs": [],
   "source": [
    "xt = tensor(3.).requires_grad_()"
   ]
  },
  {
   "cell_type": "code",
   "execution_count": 16,
   "id": "4851b32b",
   "metadata": {
    "execution": {
     "iopub.execute_input": "2022-04-14T15:39:56.847875Z",
     "iopub.status.busy": "2022-04-14T15:39:56.847181Z",
     "iopub.status.idle": "2022-04-14T15:39:56.897750Z",
     "shell.execute_reply": "2022-04-14T15:39:56.898526Z",
     "shell.execute_reply.started": "2022-04-14T15:33:25.815055Z"
    },
    "papermill": {
     "duration": 0.130559,
     "end_time": "2022-04-14T15:39:56.898786",
     "exception": false,
     "start_time": "2022-04-14T15:39:56.768227",
     "status": "completed"
    },
    "tags": []
   },
   "outputs": [
    {
     "data": {
      "text/plain": [
       "tensor(3., requires_grad=True)"
      ]
     },
     "execution_count": 16,
     "metadata": {},
     "output_type": "execute_result"
    }
   ],
   "source": [
    "xt"
   ]
  },
  {
   "cell_type": "markdown",
   "id": "9be4d49b",
   "metadata": {
    "papermill": {
     "duration": 0.075408,
     "end_time": "2022-04-14T15:39:57.072974",
     "exception": false,
     "start_time": "2022-04-14T15:39:56.997566",
     "status": "completed"
    },
    "tags": []
   },
   "source": [
    "Notice the special method `requires_grad_`? That's the magical incantation we use to tell PyTorch that we want to calculate gradients with respect to that variable at that value. It is essentially tagging the variable, so PyTorch will remember to keep track of how to compute gradients of the other, direct calculations on it that you will ask for.\n",
    "\n",
    "> This API might throw you off if you're coming from math or physics. In those contexts the \"gradient\" of a function is just another function (i.e., its derivative), so you might expect gradient-related APIs to give you a new function. But in deep learning, \"gradients\" usually means the _value_ of a function's derivative at a particular argument value. The PyTorch API also puts the focus on the argument, not the function you're actually computing the gradients of. It may feel backwards at first, but it's just a different perspective.\n",
    "\n",
    "Now we calculate our function with that value. Notice how PyTorch prints not just the value calculated, but also a note that it has a gradient function it'll be using to calculate our gradients when needed:"
   ]
  },
  {
   "cell_type": "code",
   "execution_count": 17,
   "id": "9dbc94f2",
   "metadata": {
    "execution": {
     "iopub.execute_input": "2022-04-14T15:39:57.227766Z",
     "iopub.status.busy": "2022-04-14T15:39:57.227087Z",
     "iopub.status.idle": "2022-04-14T15:39:57.234069Z",
     "shell.execute_reply": "2022-04-14T15:39:57.234579Z",
     "shell.execute_reply.started": "2022-04-14T15:33:25.875731Z"
    },
    "papermill": {
     "duration": 0.08636,
     "end_time": "2022-04-14T15:39:57.234752",
     "exception": false,
     "start_time": "2022-04-14T15:39:57.148392",
     "status": "completed"
    },
    "tags": []
   },
   "outputs": [
    {
     "data": {
      "text/plain": [
       "tensor(9., grad_fn=<PowBackward0>)"
      ]
     },
     "execution_count": 17,
     "metadata": {},
     "output_type": "execute_result"
    }
   ],
   "source": [
    "yt = f(xt)\n",
    "yt"
   ]
  },
  {
   "cell_type": "markdown",
   "id": "3647499a",
   "metadata": {
    "papermill": {
     "duration": 0.076922,
     "end_time": "2022-04-14T15:39:57.387618",
     "exception": false,
     "start_time": "2022-04-14T15:39:57.310696",
     "status": "completed"
    },
    "tags": []
   },
   "source": [
    "Finally, we tell PyTorch to calculate the gradients for us:"
   ]
  },
  {
   "cell_type": "code",
   "execution_count": 18,
   "id": "8f17239c",
   "metadata": {
    "execution": {
     "iopub.execute_input": "2022-04-14T15:39:57.548074Z",
     "iopub.status.busy": "2022-04-14T15:39:57.547382Z",
     "iopub.status.idle": "2022-04-14T15:39:57.559248Z",
     "shell.execute_reply": "2022-04-14T15:39:57.559836Z",
     "shell.execute_reply.started": "2022-04-14T15:33:25.884512Z"
    },
    "papermill": {
     "duration": 0.094204,
     "end_time": "2022-04-14T15:39:57.560045",
     "exception": false,
     "start_time": "2022-04-14T15:39:57.465841",
     "status": "completed"
    },
    "tags": []
   },
   "outputs": [],
   "source": [
    "yt.backward()"
   ]
  },
  {
   "cell_type": "markdown",
   "id": "593c684e",
   "metadata": {
    "papermill": {
     "duration": 0.075068,
     "end_time": "2022-04-14T15:39:57.711596",
     "exception": false,
     "start_time": "2022-04-14T15:39:57.636528",
     "status": "completed"
    },
    "tags": []
   },
   "source": [
    "The \"backward\" here refers to *backpropagation*, which is the name given to the process of calculating the derivative of each layer. This is called the \"backward pass\" of the network, as opposed to the \"forward pass,\" which is where the activations are calculated. Life would probably be easier if `backward` was just called `calculate_grad`, but deep learning folks really do like to add jargon everywhere they can!\n",
    "\n",
    "We can now view the gradients by checking the `grad` attribute of our tensor:"
   ]
  },
  {
   "cell_type": "code",
   "execution_count": 19,
   "id": "d20fb241",
   "metadata": {
    "execution": {
     "iopub.execute_input": "2022-04-14T15:39:57.865711Z",
     "iopub.status.busy": "2022-04-14T15:39:57.865078Z",
     "iopub.status.idle": "2022-04-14T15:39:57.870983Z",
     "shell.execute_reply": "2022-04-14T15:39:57.871548Z",
     "shell.execute_reply.started": "2022-04-14T15:33:25.905004Z"
    },
    "papermill": {
     "duration": 0.08484,
     "end_time": "2022-04-14T15:39:57.871722",
     "exception": false,
     "start_time": "2022-04-14T15:39:57.786882",
     "status": "completed"
    },
    "tags": []
   },
   "outputs": [
    {
     "data": {
      "text/plain": [
       "tensor(6.)"
      ]
     },
     "execution_count": 19,
     "metadata": {},
     "output_type": "execute_result"
    }
   ],
   "source": [
    "xt.grad"
   ]
  },
  {
   "cell_type": "markdown",
   "id": "71bed3d4",
   "metadata": {
    "papermill": {
     "duration": 0.076618,
     "end_time": "2022-04-14T15:39:58.024316",
     "exception": false,
     "start_time": "2022-04-14T15:39:57.947698",
     "status": "completed"
    },
    "tags": []
   },
   "source": [
    "If you remember your high school calculus rules, the derivative of `x**2` is `2*x`, and we have `x=3`, so the gradients should be `2*3=6`, which is what PyTorch calculated for us!\n",
    "\n",
    "\n",
    "Now we'll repeat the preceding steps, but with a vector argument for our function:"
   ]
  },
  {
   "cell_type": "code",
   "execution_count": 20,
   "id": "4ee30ec9",
   "metadata": {
    "execution": {
     "iopub.execute_input": "2022-04-14T15:39:58.179396Z",
     "iopub.status.busy": "2022-04-14T15:39:58.178722Z",
     "iopub.status.idle": "2022-04-14T15:39:58.184233Z",
     "shell.execute_reply": "2022-04-14T15:39:58.184792Z",
     "shell.execute_reply.started": "2022-04-14T15:33:25.911643Z"
    },
    "papermill": {
     "duration": 0.084391,
     "end_time": "2022-04-14T15:39:58.184964",
     "exception": false,
     "start_time": "2022-04-14T15:39:58.100573",
     "status": "completed"
    },
    "tags": []
   },
   "outputs": [
    {
     "data": {
      "text/plain": [
       "tensor([ 3.,  4., 10.], requires_grad=True)"
      ]
     },
     "execution_count": 20,
     "metadata": {},
     "output_type": "execute_result"
    }
   ],
   "source": [
    "xt = tensor([3.,4.,10.]).requires_grad_()\n",
    "xt"
   ]
  },
  {
   "cell_type": "markdown",
   "id": "2eb961c8",
   "metadata": {
    "papermill": {
     "duration": 0.075674,
     "end_time": "2022-04-14T15:39:58.337212",
     "exception": false,
     "start_time": "2022-04-14T15:39:58.261538",
     "status": "completed"
    },
    "tags": []
   },
   "source": [
    "And we'll add `sum` to our function so it can take a vector (i.e., a rank-1 tensor), and return a scalar (i.e., a rank-0 tensor):"
   ]
  },
  {
   "cell_type": "code",
   "execution_count": 21,
   "id": "d46315bd",
   "metadata": {
    "execution": {
     "iopub.execute_input": "2022-04-14T15:39:58.496920Z",
     "iopub.status.busy": "2022-04-14T15:39:58.496194Z",
     "iopub.status.idle": "2022-04-14T15:39:58.501288Z",
     "shell.execute_reply": "2022-04-14T15:39:58.501933Z",
     "shell.execute_reply.started": "2022-04-14T15:33:25.928821Z"
    },
    "papermill": {
     "duration": 0.088118,
     "end_time": "2022-04-14T15:39:58.502116",
     "exception": false,
     "start_time": "2022-04-14T15:39:58.413998",
     "status": "completed"
    },
    "tags": []
   },
   "outputs": [
    {
     "data": {
      "text/plain": [
       "tensor(125., grad_fn=<SumBackward0>)"
      ]
     },
     "execution_count": 21,
     "metadata": {},
     "output_type": "execute_result"
    }
   ],
   "source": [
    "def f(x): \n",
    "    return (x**2).sum()\n",
    "\n",
    "yt = f(xt)\n",
    "yt"
   ]
  },
  {
   "cell_type": "markdown",
   "id": "f2b631fb",
   "metadata": {
    "papermill": {
     "duration": 0.076912,
     "end_time": "2022-04-14T15:39:58.657714",
     "exception": false,
     "start_time": "2022-04-14T15:39:58.580802",
     "status": "completed"
    },
    "tags": []
   },
   "source": [
    "Our gradients are `2*xt`, as we'd expect!"
   ]
  },
  {
   "cell_type": "code",
   "execution_count": 22,
   "id": "24d4f2f0",
   "metadata": {
    "execution": {
     "iopub.execute_input": "2022-04-14T15:39:58.818997Z",
     "iopub.status.busy": "2022-04-14T15:39:58.818025Z",
     "iopub.status.idle": "2022-04-14T15:39:58.824309Z",
     "shell.execute_reply": "2022-04-14T15:39:58.824951Z",
     "shell.execute_reply.started": "2022-04-14T15:33:25.940824Z"
    },
    "papermill": {
     "duration": 0.089118,
     "end_time": "2022-04-14T15:39:58.825123",
     "exception": false,
     "start_time": "2022-04-14T15:39:58.736005",
     "status": "completed"
    },
    "tags": []
   },
   "outputs": [
    {
     "data": {
      "text/plain": [
       "tensor([ 6.,  8., 20.])"
      ]
     },
     "execution_count": 22,
     "metadata": {},
     "output_type": "execute_result"
    }
   ],
   "source": [
    "yt.backward()\n",
    "xt.grad"
   ]
  },
  {
   "cell_type": "markdown",
   "id": "da742e31",
   "metadata": {
    "papermill": {
     "duration": 0.0789,
     "end_time": "2022-04-14T15:39:58.981942",
     "exception": false,
     "start_time": "2022-04-14T15:39:58.903042",
     "status": "completed"
    },
    "tags": []
   },
   "source": [
    "The gradients only tell us the slope of our function, they don't actually tell us exactly how far to adjust the parameters. But it gives us some idea of how far; if the slope is very large, then that may suggest that we have more adjustments to do, whereas if the slope is very small, that may suggest that we are close to the optimal value.\n",
    "\n",
    "### Stepping With a Learning Rate\n",
    "\n",
    "Deciding how to change our parameters based on the values of the gradients is an important part of the deep learning process. Nearly all approaches start with the basic idea of multiplying the gradient by some small number, called the *learning rate* (LR). The learning rate is often a number between 0.001 and 0.1, although it could be anything. Often, people select a learning rate just by trying a few, and finding which results in the best model after training (we'll show you a better approach later, called the *learning rate finder*). Once you've picked a learning rate, you can adjust your parameters using this simple function:\n",
    "\n",
    "```\n",
    "w -= gradient(w) * lr\n",
    "```\n",
    "\n",
    "This is known as *stepping* your parameters, using an *optimizer step*. Notice how we _subtract_ the `gradient * lr` from the parameter to update it.  This allows us to adjust the parameter in the direction of the slope by increasing the parameter when the slope is negative and decreasing the parameter when the slope is positive.  We want to adjust our parameters in the direction of the slope because our goal in deep learning is to _minimize_ the loss.\n",
    "\n",
    "If you pick a learning rate that's too low, it can mean having to do a lot of steps. The figure below illustrates that.\n",
    "\n",
    "<img alt=\"An illustration of gradient descent with a LR too low\" width=\"400\" caption=\"Gradient descent with low LR\" src=\"https://raw.githubusercontent.com/fastai/fastbook/master/images/chapter2_small.svg\" id=\"descent_small\"/>\n",
    "\n",
    "But picking a learning rate that's too high is even worse—it can actually result in the loss getting *worse*, as we see below\n",
    "\n",
    "<img alt=\"An illustration of gradient descent with a LR too high\" width=\"400\" caption=\"Gradient descent with high LR\" src=\"https://raw.githubusercontent.com/fastai/fastbook/master/images/chapter2_div.svg\" id=\"descent_div\"/>\n",
    "\n",
    "If the learning rate is too high, it may also \"bounce\" around, rather than actually diverging; The image below shows how this has the result of taking many steps to train successfully.\n",
    "\n",
    "<img alt=\"An illustation of gradient descent with a bouncy LR\" width=\"400\" caption=\"Gradient descent with bouncy LR\" src=\"https://raw.githubusercontent.com/fastai/fastbook/master/images/chapter2_bouncy.svg\" id=\"descent_bouncy\"/>\n",
    "\n",
    "Now let's apply all of this in an end-to-end example."
   ]
  },
  {
   "cell_type": "markdown",
   "id": "a4802beb",
   "metadata": {
    "papermill": {
     "duration": 0.078307,
     "end_time": "2022-04-14T15:39:59.137389",
     "exception": false,
     "start_time": "2022-04-14T15:39:59.059082",
     "status": "completed"
    },
    "tags": []
   },
   "source": [
    "### An End-to-End SGD Example\n",
    "\n",
    "We've seen how to use gradients to find a minimum. Now it's time to look at an SGD example and see how finding a minimum can be used to train a model to fit data better.\n",
    "\n",
    "Let's start with a simple, synthetic, example model. Imagine you were measuring the speed of a roller coaster as it went over the top of a hump. It would start fast, and then get slower as it went up the hill; it would be slowest at the top, and it would then speed up again as it went downhill. You want to build a model of how the speed changes over time. If you were measuring the speed manually every second for 20 seconds, it might look something like this:"
   ]
  },
  {
   "cell_type": "code",
   "execution_count": 23,
   "id": "1cf97b06",
   "metadata": {
    "execution": {
     "iopub.execute_input": "2022-04-14T15:39:59.297652Z",
     "iopub.status.busy": "2022-04-14T15:39:59.296632Z",
     "iopub.status.idle": "2022-04-14T15:39:59.305479Z",
     "shell.execute_reply": "2022-04-14T15:39:59.306087Z",
     "shell.execute_reply.started": "2022-04-14T15:33:25.950160Z"
    },
    "papermill": {
     "duration": 0.090683,
     "end_time": "2022-04-14T15:39:59.306266",
     "exception": false,
     "start_time": "2022-04-14T15:39:59.215583",
     "status": "completed"
    },
    "tags": []
   },
   "outputs": [
    {
     "data": {
      "text/plain": [
       "tensor([ 0.,  1.,  2.,  3.,  4.,  5.,  6.,  7.,  8.,  9., 10., 11., 12., 13., 14., 15., 16., 17., 18., 19.])"
      ]
     },
     "execution_count": 23,
     "metadata": {},
     "output_type": "execute_result"
    }
   ],
   "source": [
    "time = torch.arange(0,20).float(); time"
   ]
  },
  {
   "cell_type": "code",
   "execution_count": 24,
   "id": "835600a7",
   "metadata": {
    "execution": {
     "iopub.execute_input": "2022-04-14T15:39:59.466242Z",
     "iopub.status.busy": "2022-04-14T15:39:59.465252Z",
     "iopub.status.idle": "2022-04-14T15:39:59.692149Z",
     "shell.execute_reply": "2022-04-14T15:39:59.691596Z",
     "shell.execute_reply.started": "2022-04-14T15:33:25.966040Z"
    },
    "papermill": {
     "duration": 0.308212,
     "end_time": "2022-04-14T15:39:59.692289",
     "exception": false,
     "start_time": "2022-04-14T15:39:59.384077",
     "status": "completed"
    },
    "tags": []
   },
   "outputs": [
    {
     "data": {
      "image/png": "[encoded data removed]",
      "text/plain": [
       "<Figure size 432x288 with 1 Axes>"
      ]
     },
     "metadata": {
      "needs_background": "light"
     },
     "output_type": "display_data"
    }
   ],
   "source": [
    "speed = torch.randn(20)*3 + 0.75*(time-9.5)**2 + 1\n",
    "plt.scatter(time,speed);"
   ]
  },
  {
   "cell_type": "markdown",
   "id": "ea4caff9",
   "metadata": {
    "papermill": {
     "duration": 0.078614,
     "end_time": "2022-04-14T15:39:59.852255",
     "exception": false,
     "start_time": "2022-04-14T15:39:59.773641",
     "status": "completed"
    },
    "tags": []
   },
   "source": [
    "We've added a bit of random noise, since measuring things manually isn't precise. This means it's not that easy to answer the question: what was the roller coaster's speed? Using SGD we can try to find a function that matches our observations. We can't consider every possible function, so let's use a guess that it will be quadratic; i.e., a function of the form `a*(time**2)+(b*time)+c`.\n",
    "\n",
    "We want to distinguish clearly between the function's input (the time when we are measuring the coaster's speed) and its parameters (the values that define *which* quadratic we're trying). So, let's collect the parameters in one argument and thus separate the input, `t`, and the parameters, `params`, in the function's signature: "
   ]
  },
  {
   "cell_type": "code",
   "execution_count": 25,
   "id": "00b449f7",
   "metadata": {
    "execution": {
     "iopub.execute_input": "2022-04-14T15:40:00.015367Z",
     "iopub.status.busy": "2022-04-14T15:40:00.014363Z",
     "iopub.status.idle": "2022-04-14T15:40:00.019141Z",
     "shell.execute_reply": "2022-04-14T15:40:00.019713Z",
     "shell.execute_reply.started": "2022-04-14T15:33:26.200300Z"
    },
    "papermill": {
     "duration": 0.088357,
     "end_time": "2022-04-14T15:40:00.019905",
     "exception": false,
     "start_time": "2022-04-14T15:39:59.931548",
     "status": "completed"
    },
    "tags": []
   },
   "outputs": [],
   "source": [
    "def f(t, params):\n",
    "    a,b,c = params\n",
    "    return a*(t**2) + (b*t) + c"
   ]
  },
  {
   "cell_type": "markdown",
   "id": "cc9b7467",
   "metadata": {
    "papermill": {
     "duration": 0.078789,
     "end_time": "2022-04-14T15:40:00.179078",
     "exception": false,
     "start_time": "2022-04-14T15:40:00.100289",
     "status": "completed"
    },
    "tags": []
   },
   "source": [
    "In other words, we've restricted the problem of finding the best imaginable function that fits the data, to finding the best *quadratic* function. This greatly simplifies the problem, since every quadratic function is fully defined by the three parameters `a`, `b`, and `c`. Thus, to find the best quadratic function, we only need to find the best values for `a`, `b`, and `c`.\n",
    "\n",
    "If we can solve this problem for the three parameters of a quadratic function, we'll be able to apply the same approach for other, more complex functions with more parameters—such as a neural net. Let's find the parameters for `f` first, and then we'll come back and do the same thing for the MNIST dataset with a neural net.\n",
    "\n",
    "We need to define first what we mean by \"best.\" We define this precisely by choosing a *loss function*, which will return a value based on a prediction and a target, where lower values of the function correspond to \"better\" predictions. It is important for loss functions to return _lower_ values when predictions are more accurate, as the SGD procedure we defined earlier will try to _minimize_ this loss. For continuous data, it's common to use *mean squared error*:"
   ]
  },
  {
   "cell_type": "code",
   "execution_count": 26,
   "id": "9dd5f0e1",
   "metadata": {
    "execution": {
     "iopub.execute_input": "2022-04-14T15:40:00.339952Z",
     "iopub.status.busy": "2022-04-14T15:40:00.338906Z",
     "iopub.status.idle": "2022-04-14T15:40:00.343506Z",
     "shell.execute_reply": "2022-04-14T15:40:00.344037Z",
     "shell.execute_reply.started": "2022-04-14T15:33:26.207401Z"
    },
    "papermill": {
     "duration": 0.086522,
     "end_time": "2022-04-14T15:40:00.344215",
     "exception": false,
     "start_time": "2022-04-14T15:40:00.257693",
     "status": "completed"
    },
    "tags": []
   },
   "outputs": [],
   "source": [
    "def mse(preds, targets): \n",
    "    return ((preds-targets)**2).mean()"
   ]
  },
  {
   "cell_type": "markdown",
   "id": "472ecbb9",
   "metadata": {
    "papermill": {
     "duration": 0.078654,
     "end_time": "2022-04-14T15:40:00.502477",
     "exception": false,
     "start_time": "2022-04-14T15:40:00.423823",
     "status": "completed"
    },
    "tags": []
   },
   "source": [
    "Now, let's work through our 7 step process.\n",
    "\n",
    "#### Step 1: Initialize the parameters\n",
    "\n",
    "First, we initialize the parameters to random values, and tell PyTorch that we want to track their gradients, using `requires_grad_`:"
   ]
  },
  {
   "cell_type": "code",
   "execution_count": 27,
   "id": "c09c38f8",
   "metadata": {
    "execution": {
     "iopub.execute_input": "2022-04-14T15:40:00.666390Z",
     "iopub.status.busy": "2022-04-14T15:40:00.665264Z",
     "iopub.status.idle": "2022-04-14T15:40:00.667943Z",
     "shell.execute_reply": "2022-04-14T15:40:00.667296Z",
     "shell.execute_reply.started": "2022-04-14T15:33:26.221741Z"
    },
    "papermill": {
     "duration": 0.086005,
     "end_time": "2022-04-14T15:40:00.668102",
     "exception": false,
     "start_time": "2022-04-14T15:40:00.582097",
     "status": "completed"
    },
    "tags": []
   },
   "outputs": [],
   "source": [
    "params = torch.randn(3).requires_grad_()"
   ]
  },
  {
   "cell_type": "code",
   "execution_count": 28,
   "id": "f55fbdad",
   "metadata": {
    "execution": {
     "iopub.execute_input": "2022-04-14T15:40:00.829611Z",
     "iopub.status.busy": "2022-04-14T15:40:00.828640Z",
     "iopub.status.idle": "2022-04-14T15:40:00.832441Z",
     "shell.execute_reply": "2022-04-14T15:40:00.833032Z",
     "shell.execute_reply.started": "2022-04-14T15:33:26.236732Z"
    },
    "papermill": {
     "duration": 0.086199,
     "end_time": "2022-04-14T15:40:00.833197",
     "exception": false,
     "start_time": "2022-04-14T15:40:00.746998",
     "status": "completed"
    },
    "tags": []
   },
   "outputs": [],
   "source": [
    "# saving the params to make a plot later, you can ignore this\n",
    "orig_params = params.clone()"
   ]
  },
  {
   "cell_type": "markdown",
   "id": "59f94bce",
   "metadata": {
    "papermill": {
     "duration": 0.080723,
     "end_time": "2022-04-14T15:40:00.994261",
     "exception": false,
     "start_time": "2022-04-14T15:40:00.913538",
     "status": "completed"
    },
    "tags": []
   },
   "source": [
    "#### Step 2: Calculate the predictions\n",
    "Next, we calculate the predictions:"
   ]
  },
  {
   "cell_type": "code",
   "execution_count": 29,
   "id": "d87ce350",
   "metadata": {
    "execution": {
     "iopub.execute_input": "2022-04-14T15:40:01.157094Z",
     "iopub.status.busy": "2022-04-14T15:40:01.156105Z",
     "iopub.status.idle": "2022-04-14T15:40:01.160012Z",
     "shell.execute_reply": "2022-04-14T15:40:01.160639Z",
     "shell.execute_reply.started": "2022-04-14T15:33:26.246502Z"
    },
    "papermill": {
     "duration": 0.087612,
     "end_time": "2022-04-14T15:40:01.160813",
     "exception": false,
     "start_time": "2022-04-14T15:40:01.073201",
     "status": "completed"
    },
    "tags": []
   },
   "outputs": [],
   "source": [
    "preds = f(time, params)"
   ]
  },
  {
   "cell_type": "markdown",
   "id": "a1f7e004",
   "metadata": {
    "papermill": {
     "duration": 0.079404,
     "end_time": "2022-04-14T15:40:01.319558",
     "exception": false,
     "start_time": "2022-04-14T15:40:01.240154",
     "status": "completed"
    },
    "tags": []
   },
   "source": [
    "Let's create a little function to see how close our predictions are to our targets, and take a look:"
   ]
  },
  {
   "cell_type": "code",
   "execution_count": 30,
   "id": "03927494",
   "metadata": {
    "execution": {
     "iopub.execute_input": "2022-04-14T15:40:01.483213Z",
     "iopub.status.busy": "2022-04-14T15:40:01.482204Z",
     "iopub.status.idle": "2022-04-14T15:40:01.487637Z",
     "shell.execute_reply": "2022-04-14T15:40:01.488189Z",
     "shell.execute_reply.started": "2022-04-14T15:33:26.258469Z"
    },
    "papermill": {
     "duration": 0.089567,
     "end_time": "2022-04-14T15:40:01.488383",
     "exception": false,
     "start_time": "2022-04-14T15:40:01.398816",
     "status": "completed"
    },
    "tags": []
   },
   "outputs": [],
   "source": [
    "def show_preds(preds, ax=None):\n",
    "    if ax is None: ax=plt.subplots()[1]\n",
    "    ax.scatter(time, speed)\n",
    "    ax.scatter(time, to_np(preds), color='red')\n",
    "    ax.set_ylim(-300,100)"
   ]
  },
  {
   "cell_type": "code",
   "execution_count": 31,
   "id": "5802b42e",
   "metadata": {
    "execution": {
     "iopub.execute_input": "2022-04-14T15:40:01.650874Z",
     "iopub.status.busy": "2022-04-14T15:40:01.650206Z",
     "iopub.status.idle": "2022-04-14T15:40:01.888137Z",
     "shell.execute_reply": "2022-04-14T15:40:01.887625Z",
     "shell.execute_reply.started": "2022-04-14T15:33:26.267759Z"
    },
    "papermill": {
     "duration": 0.32103,
     "end_time": "2022-04-14T15:40:01.888288",
     "exception": false,
     "start_time": "2022-04-14T15:40:01.567258",
     "status": "completed"
    },
    "tags": []
   },
   "outputs": [
    {
     "data": {
      "image/png": "[encoded data removed]",
      "text/plain": [
       "<Figure size 432x288 with 1 Axes>"
      ]
     },
     "metadata": {
      "needs_background": "light"
     },
     "output_type": "display_data"
    }
   ],
   "source": [
    "show_preds(preds)"
   ]
  },
  {
   "cell_type": "markdown",
   "id": "502673e0",
   "metadata": {
    "papermill": {
     "duration": 0.081479,
     "end_time": "2022-04-14T15:40:02.050536",
     "exception": false,
     "start_time": "2022-04-14T15:40:01.969057",
     "status": "completed"
    },
    "tags": []
   },
   "source": [
    "This doesn't look very close—our random parameters suggest that the roller coaster will end up going backwards, since we have negative speeds!\n",
    "\n",
    "#### Step 3: Calculate the loss\n",
    "We calculate the loss as follows:"
   ]
  },
  {
   "cell_type": "code",
   "execution_count": 32,
   "id": "62f7069b",
   "metadata": {
    "execution": {
     "iopub.execute_input": "2022-04-14T15:40:02.212957Z",
     "iopub.status.busy": "2022-04-14T15:40:02.212186Z",
     "iopub.status.idle": "2022-04-14T15:40:02.221767Z",
     "shell.execute_reply": "2022-04-14T15:40:02.222283Z",
     "shell.execute_reply.started": "2022-04-14T15:33:26.539576Z"
    },
    "papermill": {
     "duration": 0.092219,
     "end_time": "2022-04-14T15:40:02.222481",
     "exception": false,
     "start_time": "2022-04-14T15:40:02.130262",
     "status": "completed"
    },
    "tags": []
   },
   "outputs": [
    {
     "data": {
      "text/plain": [
       "tensor(25823.8086, grad_fn=<MeanBackward0>)"
      ]
     },
     "execution_count": 32,
     "metadata": {},
     "output_type": "execute_result"
    }
   ],
   "source": [
    "loss = mse(preds, speed)\n",
    "loss"
   ]
  },
  {
   "cell_type": "markdown",
   "id": "c8b551ad",
   "metadata": {
    "papermill": {
     "duration": 0.079819,
     "end_time": "2022-04-14T15:40:02.381828",
     "exception": false,
     "start_time": "2022-04-14T15:40:02.302009",
     "status": "completed"
    },
    "tags": []
   },
   "source": [
    "Our goal is now to improve this. To do that, we'll need to know the gradients.\n",
    "#### Step 4: Calculate the gradients\n",
    "The next step is to calculate the gradients. In other words, calculate an approximation of how the parameters need to change:"
   ]
  },
  {
   "cell_type": "code",
   "execution_count": 33,
   "id": "487f9364",
   "metadata": {
    "execution": {
     "iopub.execute_input": "2022-04-14T15:40:02.544314Z",
     "iopub.status.busy": "2022-04-14T15:40:02.543665Z",
     "iopub.status.idle": "2022-04-14T15:40:02.553180Z",
     "shell.execute_reply": "2022-04-14T15:40:02.552605Z",
     "shell.execute_reply.started": "2022-04-14T15:33:26.553751Z"
    },
    "papermill": {
     "duration": 0.091781,
     "end_time": "2022-04-14T15:40:02.553333",
     "exception": false,
     "start_time": "2022-04-14T15:40:02.461552",
     "status": "completed"
    },
    "tags": []
   },
   "outputs": [
    {
     "data": {
      "text/plain": [
       "tensor([-53195.8633,  -3419.7148,   -253.8908])"
      ]
     },
     "execution_count": 33,
     "metadata": {},
     "output_type": "execute_result"
    }
   ],
   "source": [
    "loss.backward()\n",
    "params.grad"
   ]
  },
  {
   "cell_type": "markdown",
   "id": "460f500c",
   "metadata": {
    "papermill": {
     "duration": 0.082723,
     "end_time": "2022-04-14T15:40:02.719479",
     "exception": false,
     "start_time": "2022-04-14T15:40:02.636756",
     "status": "completed"
    },
    "tags": []
   },
   "source": [
    "We can use these gradients to improve our parameters. We'll need to pick a learning rate (we'll discuss how to do that in practice in the next chapter; for now we'll just use 1e-5, or 0.00001):"
   ]
  },
  {
   "cell_type": "code",
   "execution_count": 34,
   "id": "5b1bde7a",
   "metadata": {
    "execution": {
     "iopub.execute_input": "2022-04-14T15:40:02.887225Z",
     "iopub.status.busy": "2022-04-14T15:40:02.886532Z",
     "iopub.status.idle": "2022-04-14T15:40:02.892523Z",
     "shell.execute_reply": "2022-04-14T15:40:02.893135Z",
     "shell.execute_reply.started": "2022-04-14T15:33:26.567052Z"
    },
    "papermill": {
     "duration": 0.09311,
     "end_time": "2022-04-14T15:40:02.893317",
     "exception": false,
     "start_time": "2022-04-14T15:40:02.800207",
     "status": "completed"
    },
    "tags": []
   },
   "outputs": [
    {
     "data": {
      "text/plain": [
       "tensor([-0.5320, -0.0342, -0.0025])"
      ]
     },
     "execution_count": 34,
     "metadata": {},
     "output_type": "execute_result"
    }
   ],
   "source": [
    "params.grad * 1e-5"
   ]
  },
  {
   "cell_type": "code",
   "execution_count": 35,
   "id": "a8c5d5db",
   "metadata": {
    "execution": {
     "iopub.execute_input": "2022-04-14T15:40:03.062657Z",
     "iopub.status.busy": "2022-04-14T15:40:03.061906Z",
     "iopub.status.idle": "2022-04-14T15:40:03.066059Z",
     "shell.execute_reply": "2022-04-14T15:40:03.066564Z",
     "shell.execute_reply.started": "2022-04-14T15:33:26.576205Z"
    },
    "papermill": {
     "duration": 0.091694,
     "end_time": "2022-04-14T15:40:03.066771",
     "exception": false,
     "start_time": "2022-04-14T15:40:02.975077",
     "status": "completed"
    },
    "tags": []
   },
   "outputs": [
    {
     "data": {
      "text/plain": [
       "tensor([-0.7658, -0.7506,  1.3525], requires_grad=True)"
      ]
     },
     "execution_count": 35,
     "metadata": {},
     "output_type": "execute_result"
    }
   ],
   "source": [
    "params"
   ]
  },
  {
   "cell_type": "markdown",
   "id": "9dd6810e",
   "metadata": {
    "papermill": {
     "duration": 0.080988,
     "end_time": "2022-04-14T15:40:03.228277",
     "exception": false,
     "start_time": "2022-04-14T15:40:03.147289",
     "status": "completed"
    },
    "tags": []
   },
   "source": [
    "#### Step 5: Step the weights.\n",
    "\n",
    "Now we need to update the parameters based on the gradients we just calculated:\n"
   ]
  },
  {
   "cell_type": "code",
   "execution_count": 36,
   "id": "bb4eea35",
   "metadata": {
    "execution": {
     "iopub.execute_input": "2022-04-14T15:40:03.393433Z",
     "iopub.status.busy": "2022-04-14T15:40:03.392722Z",
     "iopub.status.idle": "2022-04-14T15:40:03.397553Z",
     "shell.execute_reply": "2022-04-14T15:40:03.397018Z",
     "shell.execute_reply.started": "2022-04-14T15:33:26.590076Z"
    },
    "papermill": {
     "duration": 0.088933,
     "end_time": "2022-04-14T15:40:03.397705",
     "exception": false,
     "start_time": "2022-04-14T15:40:03.308772",
     "status": "completed"
    },
    "tags": []
   },
   "outputs": [],
   "source": [
    "lr = 1e-5\n",
    "params.data -= lr * params.grad.data\n",
    "params.grad = None"
   ]
  },
  {
   "cell_type": "markdown",
   "id": "7a462f0f",
   "metadata": {
    "papermill": {
     "duration": 0.080151,
     "end_time": "2022-04-14T15:40:03.558335",
     "exception": false,
     "start_time": "2022-04-14T15:40:03.478184",
     "status": "completed"
    },
    "tags": []
   },
   "source": [
    "Understanding this bit depends on remembering recent history. To calculate the gradients we call `backward` on the `loss`. But this `loss` was itself calculated by `mse`, which in turn took `preds` as an input, which was calculated using `f` taking as an input `params`, which was the object on which we originally called `required_grads_`—which is the original call that now allows us to call `backward` on `loss`. This chain of function calls represents the mathematical composition of functions, which enables PyTorch to use calculus's chain rule under the hood to calculate these gradients.\n",
    "\n",
    "Let's see if the loss has improved:"
   ]
  },
  {
   "cell_type": "code",
   "execution_count": 37,
   "id": "95c1fe92",
   "metadata": {
    "execution": {
     "iopub.execute_input": "2022-04-14T15:40:03.725679Z",
     "iopub.status.busy": "2022-04-14T15:40:03.725001Z",
     "iopub.status.idle": "2022-04-14T15:40:03.731958Z",
     "shell.execute_reply": "2022-04-14T15:40:03.731441Z",
     "shell.execute_reply.started": "2022-04-14T15:33:26.602058Z"
    },
    "papermill": {
     "duration": 0.091134,
     "end_time": "2022-04-14T15:40:03.732106",
     "exception": false,
     "start_time": "2022-04-14T15:40:03.640972",
     "status": "completed"
    },
    "tags": []
   },
   "outputs": [
    {
     "data": {
      "text/plain": [
       "tensor(5435.5356, grad_fn=<MeanBackward0>)"
      ]
     },
     "execution_count": 37,
     "metadata": {},
     "output_type": "execute_result"
    }
   ],
   "source": [
    "preds = f(time,params)\n",
    "mse(preds, speed)"
   ]
  },
  {
   "cell_type": "markdown",
   "id": "52cad870",
   "metadata": {
    "papermill": {
     "duration": 0.081437,
     "end_time": "2022-04-14T15:40:03.897985",
     "exception": false,
     "start_time": "2022-04-14T15:40:03.816548",
     "status": "completed"
    },
    "tags": []
   },
   "source": [
    "And take a look at the plot:"
   ]
  },
  {
   "cell_type": "code",
   "execution_count": 38,
   "id": "494bf2aa",
   "metadata": {
    "execution": {
     "iopub.execute_input": "2022-04-14T15:40:04.065714Z",
     "iopub.status.busy": "2022-04-14T15:40:04.065006Z",
     "iopub.status.idle": "2022-04-14T15:40:04.254952Z",
     "shell.execute_reply": "2022-04-14T15:40:04.254291Z",
     "shell.execute_reply.started": "2022-04-14T15:33:26.615640Z"
    },
    "papermill": {
     "duration": 0.275398,
     "end_time": "2022-04-14T15:40:04.255105",
     "exception": false,
     "start_time": "2022-04-14T15:40:03.979707",
     "status": "completed"
    },
    "tags": []
   },
   "outputs": [
    {
     "data": {
      "image/png": "[encoded data removed]",
      "text/plain": [
       "<Figure size 432x288 with 1 Axes>"
      ]
     },
     "metadata": {
      "needs_background": "light"
     },
     "output_type": "display_data"
    }
   ],
   "source": [
    "show_preds(preds)"
   ]
  },
  {
   "cell_type": "markdown",
   "id": "b35cca50",
   "metadata": {
    "papermill": {
     "duration": 0.081007,
     "end_time": "2022-04-14T15:40:04.417458",
     "exception": false,
     "start_time": "2022-04-14T15:40:04.336451",
     "status": "completed"
    },
    "tags": []
   },
   "source": [
    "We need to repeat this a few times, so we'll create a function to apply one step:"
   ]
  },
  {
   "cell_type": "code",
   "execution_count": 39,
   "id": "4940164a",
   "metadata": {
    "execution": {
     "iopub.execute_input": "2022-04-14T15:40:04.587589Z",
     "iopub.status.busy": "2022-04-14T15:40:04.586842Z",
     "iopub.status.idle": "2022-04-14T15:40:04.589133Z",
     "shell.execute_reply": "2022-04-14T15:40:04.589661Z",
     "shell.execute_reply.started": "2022-04-14T15:33:26.880044Z"
    },
    "papermill": {
     "duration": 0.090624,
     "end_time": "2022-04-14T15:40:04.589854",
     "exception": false,
     "start_time": "2022-04-14T15:40:04.499230",
     "status": "completed"
    },
    "tags": []
   },
   "outputs": [],
   "source": [
    "def apply_step(params, prn=True):\n",
    "    preds = f(time, params)\n",
    "    loss = mse(preds, speed)\n",
    "    loss.backward()\n",
    "    params.data -= lr * params.grad.data\n",
    "    params.grad = None\n",
    "    if prn: print(loss.item())\n",
    "    return preds"
   ]
  },
  {
   "cell_type": "markdown",
   "id": "a5084daa",
   "metadata": {
    "papermill": {
     "duration": 0.081222,
     "end_time": "2022-04-14T15:40:04.755884",
     "exception": false,
     "start_time": "2022-04-14T15:40:04.674662",
     "status": "completed"
    },
    "tags": []
   },
   "source": [
    "#### Step 6: Repeat the process \n",
    "\n",
    "Now we iterate. By looping and performing many improvements, we hope to reach a good result:"
   ]
  },
  {
   "cell_type": "code",
   "execution_count": 40,
   "id": "17133ad6",
   "metadata": {
    "execution": {
     "iopub.execute_input": "2022-04-14T15:40:04.924380Z",
     "iopub.status.busy": "2022-04-14T15:40:04.923694Z",
     "iopub.status.idle": "2022-04-14T15:40:04.934734Z",
     "shell.execute_reply": "2022-04-14T15:40:04.933745Z",
     "shell.execute_reply.started": "2022-04-14T15:33:26.889983Z"
    },
    "papermill": {
     "duration": 0.097001,
     "end_time": "2022-04-14T15:40:04.934966",
     "exception": false,
     "start_time": "2022-04-14T15:40:04.837965",
     "status": "completed"
    },
    "tags": []
   },
   "outputs": [
    {
     "name": "stdout",
     "output_type": "stream",
     "text": [
      "5435.53564453125\n",
      "1577.44921875\n",
      "847.3778076171875\n",
      "709.2225341796875\n",
      "683.0758056640625\n",
      "678.1243896484375\n",
      "677.1838989257812\n",
      "677.0023803710938\n",
      "676.9645385742188\n",
      "676.9537353515625\n"
     ]
    }
   ],
   "source": [
    "for i in range(10): apply_step(params)"
   ]
  },
  {
   "cell_type": "code",
   "execution_count": 41,
   "id": "1d668e72",
   "metadata": {
    "execution": {
     "iopub.execute_input": "2022-04-14T15:40:05.106681Z",
     "iopub.status.busy": "2022-04-14T15:40:05.105917Z",
     "iopub.status.idle": "2022-04-14T15:40:05.111203Z",
     "shell.execute_reply": "2022-04-14T15:40:05.111760Z",
     "shell.execute_reply.started": "2022-04-14T15:33:26.912935Z"
    },
    "papermill": {
     "duration": 0.092433,
     "end_time": "2022-04-14T15:40:05.111953",
     "exception": false,
     "start_time": "2022-04-14T15:40:05.019520",
     "status": "completed"
    },
    "tags": []
   },
   "outputs": [],
   "source": [
    "params = orig_params.detach().requires_grad_()"
   ]
  },
  {
   "cell_type": "markdown",
   "id": "ec247aa3",
   "metadata": {
    "papermill": {
     "duration": 0.083345,
     "end_time": "2022-04-14T15:40:05.280925",
     "exception": false,
     "start_time": "2022-04-14T15:40:05.197580",
     "status": "completed"
    },
    "tags": []
   },
   "source": [
    "The loss is going down, just as we hoped! But looking only at these loss numbers disguises the fact that each iteration represents an entirely different quadratic function being tried, on the way to finding the best possible quadratic function. We can see this process visually if, instead of printing out the loss function, we plot the function at every step. Then we can see how the shape is approaching the best possible quadratic function for our data:"
   ]
  },
  {
   "cell_type": "code",
   "execution_count": 42,
   "id": "167514cf",
   "metadata": {
    "execution": {
     "iopub.execute_input": "2022-04-14T15:40:05.476313Z",
     "iopub.status.busy": "2022-04-14T15:40:05.475209Z",
     "iopub.status.idle": "2022-04-14T15:40:06.261108Z",
     "shell.execute_reply": "2022-04-14T15:40:06.260596Z",
     "shell.execute_reply.started": "2022-04-14T15:33:26.921421Z"
    },
    "papermill": {
     "duration": 0.882214,
     "end_time": "2022-04-14T15:40:06.261252",
     "exception": false,
     "start_time": "2022-04-14T15:40:05.379038",
     "status": "completed"
    },
    "tags": []
   },
   "outputs": [
    {
     "data": {
      "image/png": "[encoded data removed]",
      "text/plain": [
       "<Figure size 864x216 with 4 Axes>"
      ]
     },
     "metadata": {
      "needs_background": "light"
     },
     "output_type": "display_data"
    }
   ],
   "source": [
    "_,axs = plt.subplots(1,4,figsize=(12,3))\n",
    "for ax in axs: show_preds(apply_step(params, False), ax)\n",
    "plt.tight_layout()"
   ]
  }
 ],
 "metadata": {
  "kernelspec": {
   "display_name": "Python 3",
   "language": "python",
   "name": "python3"
  },
  "language_info": {
   "codemirror_mode": {
    "name": "ipython",
    "version": 3
   },
   "file_extension": ".py",
   "mimetype": "text/x-python",
   "name": "python",
   "nbconvert_exporter": "python",
   "pygments_lexer": "ipython3",
   "version": "3.7.12"
  },
  "papermill": {
   "default_parameters": {},
   "duration": 62.681218,
   "end_time": "2022-04-14T15:40:07.357717",
   "environment_variables": {},
   "exception": null,
   "input_path": "__notebook__.ipynb",
   "output_path": "__notebook__.ipynb",
   "parameters": {},
   "start_time": "2022-04-14T15:39:04.676499",
   "version": "2.3.3"
  }
 },
 "nbformat": 4,
 "nbformat_minor": 5
}
