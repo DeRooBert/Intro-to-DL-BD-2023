{
 "cells": [
  {
   "cell_type": "markdown",
   "id": "8e094881",
   "metadata": {
    "id": "vuoajNPM3V0V",
    "papermill": {
     "duration": 0.127008,
     "end_time": "2022-04-25T11:07:59.658526",
     "exception": false,
     "start_time": "2022-04-25T11:07:59.531518",
     "status": "completed"
    },
    "tags": []
   },
   "source": [
    "# Introduction to Deep Learning Training 1.2\n",
    "## MNIST Deep dive"
   ]
  },
  {
   "cell_type": "markdown",
   "id": "642cc3d7",
   "metadata": {
    "papermill": {
     "duration": 0.140209,
     "end_time": "2022-04-25T11:07:59.925870",
     "exception": false,
     "start_time": "2022-04-25T11:07:59.785661",
     "status": "completed"
    },
    "tags": []
   },
   "source": [
    "In this notebook we will deep dive on how a CNN works using a classical dataset in DL: MNIST (remember the handwritten digit classifier from Yann LeCun in 1998: [LeNet 5](http://yann.lecun.com/exdb/lenet/))?\n",
    "\n",
    "Sidenote: **You won't need any GPU for this notebook, you can keep just a CPU it will be fine ;)**"
   ]
  },
  {
   "cell_type": "markdown",
   "id": "df8fa13c",
   "metadata": {
    "id": "-Na41gNm3V0a",
    "papermill": {
     "duration": 0.12386,
     "end_time": "2022-04-25T11:08:00.177424",
     "exception": false,
     "start_time": "2022-04-25T11:08:00.053564",
     "status": "completed"
    },
    "tags": []
   },
   "source": [
    "### About The Data"
   ]
  },
  {
   "cell_type": "markdown",
   "id": "75089d0b",
   "metadata": {
    "id": "X5WnQvN43V0c",
    "papermill": {
     "duration": 0.127299,
     "end_time": "2022-04-25T11:08:00.439539",
     "exception": false,
     "start_time": "2022-04-25T11:08:00.312240",
     "status": "completed"
    },
    "tags": []
   },
   "source": [
    "In this lesson, we will be working with ***MNIST***, a classic data set of hand-written digits.  Solutions to this problem are for instance used by banks to automatically recognize the amounts on checks, and by the postal service to automatically recognize zip codes on mail."
   ]
  },
  {
   "cell_type": "markdown",
   "id": "2fedae9d",
   "metadata": {
    "id": "QecfMSLY3V0f",
    "papermill": {
     "duration": 0.121389,
     "end_time": "2022-04-25T11:08:00.682996",
     "exception": false,
     "start_time": "2022-04-25T11:08:00.561607",
     "status": "completed"
    },
    "tags": []
   },
   "source": [
    "A image can be represented by a matrix, by creating a grid where each entry corresponds to a different pixel.\n",
    "\n",
    "<img src=\"https://s15.postimg.cc/9c81y146z/digit.gif\" alt=\"digit\" style=\"width: 55%\"/>\n",
    "  \n",
    "(Source of image: [Adam Geitgey](https://medium.com/@ageitgey/machine-learning-is-fun-part-3-deep-learning-and-convolutional-neural-networks-f40359318721) )\n",
    "\n",
    "In this case we are using black & white images, so you have enough with one number per pixel to specify the color. However if you are working with color images, the principle is the same, except that you have 3 numbers per pixel: RGB = Red Green Blue => 3 input channels, but it works in the same way."
   ]
  },
  {
   "cell_type": "markdown",
   "id": "5fdd1e03",
   "metadata": {
    "id": "9tHX5hnC3V0g",
    "papermill": {
     "duration": 0.12442,
     "end_time": "2022-04-25T11:08:00.929031",
     "exception": false,
     "start_time": "2022-04-25T11:08:00.804611",
     "status": "completed"
    },
    "tags": []
   },
   "source": [
    "## Imports and data"
   ]
  },
  {
   "cell_type": "markdown",
   "id": "b4e13d2a",
   "metadata": {
    "id": "7S2N1Yno3V0h",
    "papermill": {
     "duration": 0.123892,
     "end_time": "2022-04-25T11:08:01.179034",
     "exception": false,
     "start_time": "2022-04-25T11:08:01.055142",
     "status": "completed"
    },
    "tags": []
   },
   "source": [
    "We will be using the fastai library, in which we can find the data as well."
   ]
  },
  {
   "cell_type": "code",
   "execution_count": 1,
   "id": "5c7444f6",
   "metadata": {
    "execution": {
     "iopub.execute_input": "2022-04-25T11:08:01.463002Z",
     "iopub.status.busy": "2022-04-25T11:08:01.462342Z",
     "iopub.status.idle": "2022-04-25T11:08:28.222207Z",
     "shell.execute_reply": "2022-04-25T11:08:28.221519Z",
     "shell.execute_reply.started": "2022-04-15T07:03:46.126844Z"
    },
    "id": "FJ6_p4IT3V0j",
    "papermill": {
     "duration": 26.91805,
     "end_time": "2022-04-25T11:08:28.222374",
     "exception": false,
     "start_time": "2022-04-25T11:08:01.304324",
     "status": "completed"
    },
    "tags": []
   },
   "outputs": [
    {
     "name": "stdout",
     "output_type": "stream",
     "text": [
      "\u001b[31mERROR: pip's dependency resolver does not currently take into account all the packages that are installed. This behaviour is the source of the following dependency conflicts.\r\n",
      "tensorflow-io 0.21.0 requires tensorflow-io-gcs-filesystem==0.21.0, which is not installed.\r\n",
      "explainable-ai-sdk 1.3.2 requires xai-image-widget, which is not installed.\r\n",
      "tensorflow 2.6.2 requires numpy~=1.19.2, but you have numpy 1.20.3 which is incompatible.\r\n",
      "tensorflow 2.6.2 requires six~=1.15.0, but you have six 1.16.0 which is incompatible.\r\n",
      "tensorflow 2.6.2 requires typing-extensions~=3.7.4, but you have typing-extensions 3.10.0.2 which is incompatible.\r\n",
      "tensorflow 2.6.2 requires wrapt~=1.12.1, but you have wrapt 1.13.3 which is incompatible.\r\n",
      "tensorflow-transform 1.5.0 requires absl-py<0.13,>=0.9, but you have absl-py 0.15.0 which is incompatible.\r\n",
      "tensorflow-transform 1.5.0 requires numpy<1.20,>=1.16, but you have numpy 1.20.3 which is incompatible.\r\n",
      "tensorflow-transform 1.5.0 requires pyarrow<6,>=1, but you have pyarrow 6.0.1 which is incompatible.\r\n",
      "tensorflow-transform 1.5.0 requires tensorflow!=2.0.*,!=2.1.*,!=2.2.*,!=2.3.*,!=2.4.*,!=2.5.*,!=2.6.*,<2.8,>=1.15.2, but you have tensorflow 2.6.2 which is incompatible.\r\n",
      "tensorflow-serving-api 2.7.0 requires tensorflow<3,>=2.7.0, but you have tensorflow 2.6.2 which is incompatible.\r\n",
      "flake8 4.0.1 requires importlib-metadata<4.3; python_version < \"3.8\", but you have importlib-metadata 4.11.3 which is incompatible.\r\n",
      "apache-beam 2.34.0 requires dill<0.3.2,>=0.3.1.1, but you have dill 0.3.4 which is incompatible.\r\n",
      "apache-beam 2.34.0 requires httplib2<0.20.0,>=0.8, but you have httplib2 0.20.2 which is incompatible.\r\n",
      "apache-beam 2.34.0 requires pyarrow<6.0.0,>=0.15.1, but you have pyarrow 6.0.1 which is incompatible.\r\n",
      "aioitertools 0.10.0 requires typing_extensions>=4.0; python_version < \"3.10\", but you have typing-extensions 3.10.0.2 which is incompatible.\r\n",
      "aiobotocore 2.1.2 requires botocore<1.23.25,>=1.23.24, but you have botocore 1.24.20 which is incompatible.\u001b[0m\r\n"
     ]
    }
   ],
   "source": [
    "!pip install -Uqq fastbook\n",
    "import fastbook\n",
    "fastbook.setup_book()"
   ]
  },
  {
   "cell_type": "code",
   "execution_count": 2,
   "id": "5c1adcc1",
   "metadata": {
    "execution": {
     "iopub.execute_input": "2022-04-25T11:08:28.472841Z",
     "iopub.status.busy": "2022-04-25T11:08:28.472252Z",
     "iopub.status.idle": "2022-04-25T11:08:28.476722Z",
     "shell.execute_reply": "2022-04-25T11:08:28.477253Z",
     "shell.execute_reply.started": "2022-04-15T07:04:16.438948Z"
    },
    "id": "_j8mK5P93V0o",
    "papermill": {
     "duration": 0.131821,
     "end_time": "2022-04-25T11:08:28.477429",
     "exception": false,
     "start_time": "2022-04-25T11:08:28.345608",
     "status": "completed"
    },
    "tags": []
   },
   "outputs": [],
   "source": [
    "from fastai.vision.all import *\n",
    "from fastbook import *\n",
    "\n",
    "matplotlib.rc('image', cmap='Greys')"
   ]
  },
  {
   "cell_type": "markdown",
   "id": "eb708245",
   "metadata": {
    "id": "nIHbu4yo3V0w",
    "papermill": {
     "duration": 0.122124,
     "end_time": "2022-04-25T11:08:28.727509",
     "exception": false,
     "start_time": "2022-04-25T11:08:28.605385",
     "status": "completed"
    },
    "tags": []
   },
   "source": [
    "For this initial tutorial we are just going to try to create a model that can classify any image as a 3 or a 7. So let's download a sample of MNIST that contains images of just these digits:"
   ]
  },
  {
   "cell_type": "code",
   "execution_count": 3,
   "id": "e5a32da9",
   "metadata": {
    "execution": {
     "iopub.execute_input": "2022-04-25T11:08:28.974479Z",
     "iopub.status.busy": "2022-04-25T11:08:28.973917Z",
     "iopub.status.idle": "2022-04-25T11:08:34.458383Z",
     "shell.execute_reply": "2022-04-25T11:08:34.457829Z",
     "shell.execute_reply.started": "2022-04-15T07:04:16.446567Z"
    },
    "id": "dpwDCpJa3V0x",
    "outputId": "a1c53a11-7b26-4927-9ce7-af05570cccbb",
    "papermill": {
     "duration": 5.609572,
     "end_time": "2022-04-25T11:08:34.458559",
     "exception": false,
     "start_time": "2022-04-25T11:08:28.848987",
     "status": "completed"
    },
    "tags": []
   },
   "outputs": [
    {
     "data": {
      "text/html": [
       "\n",
       "<style>\n",
       "    /* Turns off some styling */\n",
       "    progress {\n",
       "        /* gets rid of default border in Firefox and Opera. */\n",
       "        border: none;\n",
       "        /* Needs to be in here for Safari polyfill so background images work as expected. */\n",
       "        background-size: auto;\n",
       "    }\n",
       "    .progress-bar-interrupted, .progress-bar-interrupted::-webkit-progress-bar {\n",
       "        background: #F44336;\n",
       "    }\n",
       "</style>\n"
      ],
      "text/plain": [
       "<IPython.core.display.HTML object>"
      ]
     },
     "metadata": {},
     "output_type": "display_data"
    },
    {
     "data": {
      "text/html": [
       "\n",
       "    <div>\n",
       "      <progress value='3219456' class='' max='3214948' style='width:300px; height:20px; vertical-align: middle;'></progress>\n",
       "      100.14% [3219456/3214948 00:01<00:00]\n",
       "    </div>\n",
       "    "
      ],
      "text/plain": [
       "<IPython.core.display.HTML object>"
      ]
     },
     "metadata": {},
     "output_type": "display_data"
    }
   ],
   "source": [
    "path = untar_data(URLs.MNIST_SAMPLE)"
   ]
  },
  {
   "cell_type": "markdown",
   "id": "202bf9b8",
   "metadata": {
    "papermill": {
     "duration": 0.122573,
     "end_time": "2022-04-25T11:08:34.706363",
     "exception": false,
     "start_time": "2022-04-25T11:08:34.583790",
     "status": "completed"
    },
    "tags": []
   },
   "source": [
    "We can see what's in this directory by using `ls`, a method added by fastai. This method returns an object of a special fastai class called `L`, which has all the same functionality of Python's built-in `list`, plus a lot more. One of its handy features is that, when printed, it displays the count of items, before listing the items themselves (if there are more than 10 items, it just shows the first few):"
   ]
  },
  {
   "cell_type": "code",
   "execution_count": 4,
   "id": "806e3e38",
   "metadata": {
    "execution": {
     "iopub.execute_input": "2022-04-25T11:08:34.958936Z",
     "iopub.status.busy": "2022-04-25T11:08:34.957997Z",
     "iopub.status.idle": "2022-04-25T11:08:34.964226Z",
     "shell.execute_reply": "2022-04-25T11:08:34.963596Z",
     "shell.execute_reply.started": "2022-04-15T07:04:20.949056Z"
    },
    "id": "bCjOGY1I3V00",
    "outputId": "524e553e-71a3-444c-bd4a-9b1fdc5356b2",
    "papermill": {
     "duration": 0.135277,
     "end_time": "2022-04-25T11:08:34.964368",
     "exception": false,
     "start_time": "2022-04-25T11:08:34.829091",
     "status": "completed"
    },
    "tags": []
   },
   "outputs": [
    {
     "data": {
      "text/plain": [
       "(#3) [Path('/root/.fastai/data/mnist_sample/valid'),Path('/root/.fastai/data/mnist_sample/labels.csv'),Path('/root/.fastai/data/mnist_sample/train')]"
      ]
     },
     "execution_count": 4,
     "metadata": {},
     "output_type": "execute_result"
    }
   ],
   "source": [
    "path.ls()"
   ]
  },
  {
   "cell_type": "markdown",
   "id": "f5460eb1",
   "metadata": {
    "papermill": {
     "duration": 0.126943,
     "end_time": "2022-04-25T11:08:35.215492",
     "exception": false,
     "start_time": "2022-04-25T11:08:35.088549",
     "status": "completed"
    },
    "tags": []
   },
   "source": [
    "The MNIST dataset follows a common layout for machine learning datasets: separate folders for the training set and the validation set (and/or test set). Let's see what's inside the training set:"
   ]
  },
  {
   "cell_type": "code",
   "execution_count": 5,
   "id": "b1707533",
   "metadata": {
    "execution": {
     "iopub.execute_input": "2022-04-25T11:08:35.471194Z",
     "iopub.status.busy": "2022-04-25T11:08:35.470242Z",
     "iopub.status.idle": "2022-04-25T11:08:35.474221Z",
     "shell.execute_reply": "2022-04-25T11:08:35.474609Z",
     "shell.execute_reply.started": "2022-04-15T07:04:20.960021Z"
    },
    "papermill": {
     "duration": 0.132819,
     "end_time": "2022-04-25T11:08:35.474773",
     "exception": false,
     "start_time": "2022-04-25T11:08:35.341954",
     "status": "completed"
    },
    "tags": []
   },
   "outputs": [
    {
     "data": {
      "text/plain": [
       "(#2) [Path('/root/.fastai/data/mnist_sample/train/7'),Path('/root/.fastai/data/mnist_sample/train/3')]"
      ]
     },
     "execution_count": 5,
     "metadata": {},
     "output_type": "execute_result"
    }
   ],
   "source": [
    "(path/'train').ls()"
   ]
  },
  {
   "cell_type": "markdown",
   "id": "e6457cfb",
   "metadata": {
    "papermill": {
     "duration": 0.123645,
     "end_time": "2022-04-25T11:08:35.722628",
     "exception": false,
     "start_time": "2022-04-25T11:08:35.598983",
     "status": "completed"
    },
    "tags": []
   },
   "source": [
    "There's a folder of 3s, and a folder of 7s. In machine learning parlance, we say that \"3\" and \"7\" are the *labels* (or targets) in this dataset. Let's take a look in one of these folders (using `sorted` to ensure we all get the same order of files):"
   ]
  },
  {
   "cell_type": "code",
   "execution_count": 6,
   "id": "01b9a94a",
   "metadata": {
    "execution": {
     "iopub.execute_input": "2022-04-25T11:08:35.973334Z",
     "iopub.status.busy": "2022-04-25T11:08:35.972671Z",
     "iopub.status.idle": "2022-04-25T11:08:36.076682Z",
     "shell.execute_reply": "2022-04-25T11:08:36.076192Z",
     "shell.execute_reply.started": "2022-04-15T07:04:21.002325Z"
    },
    "papermill": {
     "duration": 0.231067,
     "end_time": "2022-04-25T11:08:36.076821",
     "exception": false,
     "start_time": "2022-04-25T11:08:35.845754",
     "status": "completed"
    },
    "tags": []
   },
   "outputs": [
    {
     "data": {
      "text/plain": [
       "(#6131) [Path('/root/.fastai/data/mnist_sample/train/3/10.png'),Path('/root/.fastai/data/mnist_sample/train/3/10000.png'),Path('/root/.fastai/data/mnist_sample/train/3/10011.png'),Path('/root/.fastai/data/mnist_sample/train/3/10031.png'),Path('/root/.fastai/data/mnist_sample/train/3/10034.png'),Path('/root/.fastai/data/mnist_sample/train/3/10042.png'),Path('/root/.fastai/data/mnist_sample/train/3/10052.png'),Path('/root/.fastai/data/mnist_sample/train/3/1007.png'),Path('/root/.fastai/data/mnist_sample/train/3/10074.png'),Path('/root/.fastai/data/mnist_sample/train/3/10091.png')...]"
      ]
     },
     "execution_count": 6,
     "metadata": {},
     "output_type": "execute_result"
    }
   ],
   "source": [
    "threes = (path/'train'/'3').ls().sorted()\n",
    "sevens = (path/'train'/'7').ls().sorted()\n",
    "threes"
   ]
  },
  {
   "cell_type": "markdown",
   "id": "b939b00c",
   "metadata": {
    "papermill": {
     "duration": 0.124208,
     "end_time": "2022-04-25T11:08:36.325885",
     "exception": false,
     "start_time": "2022-04-25T11:08:36.201677",
     "status": "completed"
    },
    "tags": []
   },
   "source": [
    "As we might expect, it's full of image files. Let’s take a look at one now. Here’s an image of a handwritten number 3, taken from the famous MNIST dataset of handwritten numbers:"
   ]
  },
  {
   "cell_type": "code",
   "execution_count": 7,
   "id": "28dff3d2",
   "metadata": {
    "execution": {
     "iopub.execute_input": "2022-04-25T11:08:36.579643Z",
     "iopub.status.busy": "2022-04-25T11:08:36.579095Z",
     "iopub.status.idle": "2022-04-25T11:08:36.595540Z",
     "shell.execute_reply": "2022-04-25T11:08:36.596074Z",
     "shell.execute_reply.started": "2022-04-15T07:04:21.175041Z"
    },
    "papermill": {
     "duration": 0.146455,
     "end_time": "2022-04-25T11:08:36.596249",
     "exception": false,
     "start_time": "2022-04-25T11:08:36.449794",
     "status": "completed"
    },
    "tags": []
   },
   "outputs": [
    {
     "data": {
      "image/png": "[encoded data removed]",
      "text/plain": [
       "<PIL.PngImagePlugin.PngImageFile image mode=L size=28x28 at 0x7EFBC8228AD0>"
      ]
     },
     "execution_count": 7,
     "metadata": {},
     "output_type": "execute_result"
    }
   ],
   "source": [
    "im3_path = threes[1]\n",
    "im3 = Image.open(im3_path)\n",
    "im3"
   ]
  },
  {
   "cell_type": "markdown",
   "id": "6a3d6c91",
   "metadata": {
    "papermill": {
     "duration": 0.123648,
     "end_time": "2022-04-25T11:08:36.845014",
     "exception": false,
     "start_time": "2022-04-25T11:08:36.721366",
     "status": "completed"
    },
    "tags": []
   },
   "source": [
    "Here we are using the `Image` class from the *Python Imaging Library* (PIL), which is the most widely used Python package for opening, manipulating, and viewing images. Jupyter knows about PIL images, so it displays the image for us automatically.\n",
    "\n",
    "In a computer, everything is represented as a number. To view the numbers that make up this image, we have to convert it to a *NumPy array* or a *PyTorch tensor*. For instance, here's what a section of the image looks like, converted to a NumPy array:"
   ]
  },
  {
   "cell_type": "code",
   "execution_count": 8,
   "id": "45ba352b",
   "metadata": {
    "execution": {
     "iopub.execute_input": "2022-04-25T11:08:37.096299Z",
     "iopub.status.busy": "2022-04-25T11:08:37.095623Z",
     "iopub.status.idle": "2022-04-25T11:08:37.102650Z",
     "shell.execute_reply": "2022-04-25T11:08:37.103222Z",
     "shell.execute_reply.started": "2022-04-15T07:04:21.198496Z"
    },
    "papermill": {
     "duration": 0.134508,
     "end_time": "2022-04-25T11:08:37.103387",
     "exception": false,
     "start_time": "2022-04-25T11:08:36.968879",
     "status": "completed"
    },
    "tags": []
   },
   "outputs": [
    {
     "data": {
      "text/plain": [
       "array([[  0,   0,   0,   0,   0,   0],\n",
       "       [  0,   0,   0,   0,   0,  29],\n",
       "       [  0,   0,   0,  48, 166, 224],\n",
       "       [  0,  93, 244, 249, 253, 187],\n",
       "       [  0, 107, 253, 253, 230,  48],\n",
       "       [  0,   3,  20,  20,  15,   0]], dtype=uint8)"
      ]
     },
     "execution_count": 8,
     "metadata": {},
     "output_type": "execute_result"
    }
   ],
   "source": [
    "array(im3)[4:10,4:10]"
   ]
  },
  {
   "cell_type": "markdown",
   "id": "c8d2c0b6",
   "metadata": {
    "papermill": {
     "duration": 0.123004,
     "end_time": "2022-04-25T11:08:37.349674",
     "exception": false,
     "start_time": "2022-04-25T11:08:37.226670",
     "status": "completed"
    },
    "tags": []
   },
   "source": [
    "The `4:10` indicates we requested the rows from index 4 (included) to 10 (not included) and the same for the columns. NumPy indexes from top to bottom and left to right, so this section is located in the top-left corner of the image. Here's the same thing as a PyTorch tensor:"
   ]
  },
  {
   "cell_type": "code",
   "execution_count": 9,
   "id": "dedeeded",
   "metadata": {
    "execution": {
     "iopub.execute_input": "2022-04-25T11:08:37.618077Z",
     "iopub.status.busy": "2022-04-25T11:08:37.617400Z",
     "iopub.status.idle": "2022-04-25T11:08:37.652425Z",
     "shell.execute_reply": "2022-04-25T11:08:37.652902Z",
     "shell.execute_reply.started": "2022-04-15T07:04:21.211022Z"
    },
    "papermill": {
     "duration": 0.178575,
     "end_time": "2022-04-25T11:08:37.653088",
     "exception": false,
     "start_time": "2022-04-25T11:08:37.474513",
     "status": "completed"
    },
    "tags": []
   },
   "outputs": [
    {
     "data": {
      "text/plain": [
       "tensor([[  0,   0,   0,   0,   0,   0],\n",
       "        [  0,   0,   0,   0,   0,  29],\n",
       "        [  0,   0,   0,  48, 166, 224],\n",
       "        [  0,  93, 244, 249, 253, 187],\n",
       "        [  0, 107, 253, 253, 230,  48],\n",
       "        [  0,   3,  20,  20,  15,   0]], dtype=torch.uint8)"
      ]
     },
     "execution_count": 9,
     "metadata": {},
     "output_type": "execute_result"
    }
   ],
   "source": [
    "tensor(im3)[4:10,4:10]"
   ]
  },
  {
   "cell_type": "markdown",
   "id": "b21ab8f1",
   "metadata": {
    "papermill": {
     "duration": 0.124637,
     "end_time": "2022-04-25T11:08:37.902191",
     "exception": false,
     "start_time": "2022-04-25T11:08:37.777554",
     "status": "completed"
    },
    "tags": []
   },
   "source": [
    "You can see they are nearly the same, but the big difference is that a PyTorch tensor can be speed up on a GPU\n",
    "\n",
    "We can slice the array to pick just the part with the top of the digit in it, and then use a Pandas DataFrame to color-code the values using a gradient, which shows us clearly how the image is created from the pixel values:"
   ]
  },
  {
   "cell_type": "code",
   "execution_count": 10,
   "id": "5c13fa3f",
   "metadata": {
    "execution": {
     "iopub.execute_input": "2022-04-25T11:08:38.160106Z",
     "iopub.status.busy": "2022-04-25T11:08:38.159488Z",
     "iopub.status.idle": "2022-04-25T11:08:38.279184Z",
     "shell.execute_reply": "2022-04-25T11:08:38.278696Z",
     "shell.execute_reply.started": "2022-04-15T07:04:21.270485Z"
    },
    "papermill": {
     "duration": 0.250126,
     "end_time": "2022-04-25T11:08:38.279334",
     "exception": false,
     "start_time": "2022-04-25T11:08:38.029208",
     "status": "completed"
    },
    "tags": []
   },
   "outputs": [
    {
     "data": {
      "text/html": [
       "<style type=\"text/css\">\n",
       "#T_c52e2_row0_col0, #T_c52e2_row0_col1, #T_c52e2_row0_col2, #T_c52e2_row0_col3, #T_c52e2_row0_col4, #T_c52e2_row0_col5, #T_c52e2_row0_col6, #T_c52e2_row0_col7, #T_c52e2_row0_col8, #T_c52e2_row0_col9, #T_c52e2_row0_col10, #T_c52e2_row0_col11, #T_c52e2_row0_col12, #T_c52e2_row0_col13, #T_c52e2_row0_col14, #T_c52e2_row0_col15, #T_c52e2_row0_col16, #T_c52e2_row0_col17, #T_c52e2_row1_col0, #T_c52e2_row1_col1, #T_c52e2_row1_col2, #T_c52e2_row1_col3, #T_c52e2_row1_col4, #T_c52e2_row1_col15, #T_c52e2_row1_col16, #T_c52e2_row1_col17, #T_c52e2_row2_col0, #T_c52e2_row2_col1, #T_c52e2_row2_col2, #T_c52e2_row2_col15, #T_c52e2_row2_col16, #T_c52e2_row2_col17, #T_c52e2_row3_col0, #T_c52e2_row3_col15, #T_c52e2_row3_col16, #T_c52e2_row3_col17, #T_c52e2_row4_col0, #T_c52e2_row4_col6, #T_c52e2_row4_col7, #T_c52e2_row4_col8, #T_c52e2_row4_col9, #T_c52e2_row4_col10, #T_c52e2_row4_col15, #T_c52e2_row4_col16, #T_c52e2_row4_col17, #T_c52e2_row5_col0, #T_c52e2_row5_col5, #T_c52e2_row5_col6, #T_c52e2_row5_col7, #T_c52e2_row5_col8, #T_c52e2_row5_col9, #T_c52e2_row5_col15, #T_c52e2_row5_col16, #T_c52e2_row5_col17, #T_c52e2_row6_col0, #T_c52e2_row6_col1, #T_c52e2_row6_col2, #T_c52e2_row6_col3, #T_c52e2_row6_col4, #T_c52e2_row6_col5, #T_c52e2_row6_col6, #T_c52e2_row6_col7, #T_c52e2_row6_col8, #T_c52e2_row6_col9, #T_c52e2_row6_col14, #T_c52e2_row6_col15, #T_c52e2_row6_col16, #T_c52e2_row6_col17, #T_c52e2_row7_col0, #T_c52e2_row7_col1, #T_c52e2_row7_col2, #T_c52e2_row7_col3, #T_c52e2_row7_col4, #T_c52e2_row7_col5, #T_c52e2_row7_col6, #T_c52e2_row7_col13, #T_c52e2_row7_col14, #T_c52e2_row7_col15, #T_c52e2_row7_col16, #T_c52e2_row7_col17, #T_c52e2_row8_col0, #T_c52e2_row8_col1, #T_c52e2_row8_col2, #T_c52e2_row8_col3, #T_c52e2_row8_col4, #T_c52e2_row8_col13, #T_c52e2_row8_col14, #T_c52e2_row8_col15, #T_c52e2_row8_col16, #T_c52e2_row8_col17, #T_c52e2_row9_col0, #T_c52e2_row9_col1, #T_c52e2_row9_col2, #T_c52e2_row9_col3, #T_c52e2_row9_col4, #T_c52e2_row9_col16, #T_c52e2_row9_col17, #T_c52e2_row10_col0, #T_c52e2_row10_col1, #T_c52e2_row10_col2, #T_c52e2_row10_col3, #T_c52e2_row10_col4, #T_c52e2_row10_col5, #T_c52e2_row10_col6, #T_c52e2_row10_col17 {\n",
       "  font-size: 6pt;\n",
       "  background-color: #ffffff;\n",
       "  color: #000000;\n",
       "}\n",
       "#T_c52e2_row1_col5 {\n",
       "  font-size: 6pt;\n",
       "  background-color: #efefef;\n",
       "  color: #000000;\n",
       "}\n",
       "#T_c52e2_row1_col6, #T_c52e2_row1_col13 {\n",
       "  font-size: 6pt;\n",
       "  background-color: #7c7c7c;\n",
       "  color: #f1f1f1;\n",
       "}\n",
       "#T_c52e2_row1_col7 {\n",
       "  font-size: 6pt;\n",
       "  background-color: #4a4a4a;\n",
       "  color: #f1f1f1;\n",
       "}\n",
       "#T_c52e2_row1_col8, #T_c52e2_row1_col9, #T_c52e2_row1_col10, #T_c52e2_row2_col5, #T_c52e2_row2_col6, #T_c52e2_row2_col7, #T_c52e2_row2_col11, #T_c52e2_row2_col12, #T_c52e2_row2_col13, #T_c52e2_row3_col4, #T_c52e2_row3_col12, #T_c52e2_row3_col13, #T_c52e2_row4_col1, #T_c52e2_row4_col2, #T_c52e2_row4_col3, #T_c52e2_row4_col12, #T_c52e2_row4_col13, #T_c52e2_row5_col12, #T_c52e2_row6_col11, #T_c52e2_row9_col11, #T_c52e2_row10_col11, #T_c52e2_row10_col12, #T_c52e2_row10_col13, #T_c52e2_row10_col14, #T_c52e2_row10_col15, #T_c52e2_row10_col16 {\n",
       "  font-size: 6pt;\n",
       "  background-color: #000000;\n",
       "  color: #f1f1f1;\n",
       "}\n",
       "#T_c52e2_row1_col11 {\n",
       "  font-size: 6pt;\n",
       "  background-color: #606060;\n",
       "  color: #f1f1f1;\n",
       "}\n",
       "#T_c52e2_row1_col12 {\n",
       "  font-size: 6pt;\n",
       "  background-color: #4d4d4d;\n",
       "  color: #f1f1f1;\n",
       "}\n",
       "#T_c52e2_row1_col14 {\n",
       "  font-size: 6pt;\n",
       "  background-color: #bbbbbb;\n",
       "  color: #000000;\n",
       "}\n",
       "#T_c52e2_row2_col3 {\n",
       "  font-size: 6pt;\n",
       "  background-color: #e4e4e4;\n",
       "  color: #000000;\n",
       "}\n",
       "#T_c52e2_row2_col4, #T_c52e2_row8_col6 {\n",
       "  font-size: 6pt;\n",
       "  background-color: #6b6b6b;\n",
       "  color: #f1f1f1;\n",
       "}\n",
       "#T_c52e2_row2_col8, #T_c52e2_row2_col14, #T_c52e2_row3_col14 {\n",
       "  font-size: 6pt;\n",
       "  background-color: #171717;\n",
       "  color: #f1f1f1;\n",
       "}\n",
       "#T_c52e2_row2_col9, #T_c52e2_row3_col11 {\n",
       "  font-size: 6pt;\n",
       "  background-color: #4b4b4b;\n",
       "  color: #f1f1f1;\n",
       "}\n",
       "#T_c52e2_row2_col10, #T_c52e2_row7_col10, #T_c52e2_row8_col8, #T_c52e2_row8_col10, #T_c52e2_row9_col8, #T_c52e2_row9_col10 {\n",
       "  font-size: 6pt;\n",
       "  background-color: #010101;\n",
       "  color: #f1f1f1;\n",
       "}\n",
       "#T_c52e2_row3_col1 {\n",
       "  font-size: 6pt;\n",
       "  background-color: #272727;\n",
       "  color: #f1f1f1;\n",
       "}\n",
       "#T_c52e2_row3_col2 {\n",
       "  font-size: 6pt;\n",
       "  background-color: #0a0a0a;\n",
       "  color: #f1f1f1;\n",
       "}\n",
       "#T_c52e2_row3_col3 {\n",
       "  font-size: 6pt;\n",
       "  background-color: #050505;\n",
       "  color: #f1f1f1;\n",
       "}\n",
       "#T_c52e2_row3_col5 {\n",
       "  font-size: 6pt;\n",
       "  background-color: #333333;\n",
       "  color: #f1f1f1;\n",
       "}\n",
       "#T_c52e2_row3_col6 {\n",
       "  font-size: 6pt;\n",
       "  background-color: #e6e6e6;\n",
       "  color: #000000;\n",
       "}\n",
       "#T_c52e2_row3_col7, #T_c52e2_row3_col10 {\n",
       "  font-size: 6pt;\n",
       "  background-color: #fafafa;\n",
       "  color: #000000;\n",
       "}\n",
       "#T_c52e2_row3_col8 {\n",
       "  font-size: 6pt;\n",
       "  background-color: #fbfbfb;\n",
       "  color: #000000;\n",
       "}\n",
       "#T_c52e2_row3_col9 {\n",
       "  font-size: 6pt;\n",
       "  background-color: #fdfdfd;\n",
       "  color: #000000;\n",
       "}\n",
       "#T_c52e2_row4_col4 {\n",
       "  font-size: 6pt;\n",
       "  background-color: #1b1b1b;\n",
       "  color: #f1f1f1;\n",
       "}\n",
       "#T_c52e2_row4_col5 {\n",
       "  font-size: 6pt;\n",
       "  background-color: #e0e0e0;\n",
       "  color: #000000;\n",
       "}\n",
       "#T_c52e2_row4_col11 {\n",
       "  font-size: 6pt;\n",
       "  background-color: #4e4e4e;\n",
       "  color: #f1f1f1;\n",
       "}\n",
       "#T_c52e2_row4_col14 {\n",
       "  font-size: 6pt;\n",
       "  background-color: #767676;\n",
       "  color: #f1f1f1;\n",
       "}\n",
       "#T_c52e2_row5_col1 {\n",
       "  font-size: 6pt;\n",
       "  background-color: #fcfcfc;\n",
       "  color: #000000;\n",
       "}\n",
       "#T_c52e2_row5_col2, #T_c52e2_row5_col3 {\n",
       "  font-size: 6pt;\n",
       "  background-color: #f6f6f6;\n",
       "  color: #000000;\n",
       "}\n",
       "#T_c52e2_row5_col4, #T_c52e2_row7_col7 {\n",
       "  font-size: 6pt;\n",
       "  background-color: #f8f8f8;\n",
       "  color: #000000;\n",
       "}\n",
       "#T_c52e2_row5_col10, #T_c52e2_row10_col7 {\n",
       "  font-size: 6pt;\n",
       "  background-color: #e8e8e8;\n",
       "  color: #000000;\n",
       "}\n",
       "#T_c52e2_row5_col11 {\n",
       "  font-size: 6pt;\n",
       "  background-color: #222222;\n",
       "  color: #f1f1f1;\n",
       "}\n",
       "#T_c52e2_row5_col13, #T_c52e2_row6_col12 {\n",
       "  font-size: 6pt;\n",
       "  background-color: #090909;\n",
       "  color: #f1f1f1;\n",
       "}\n",
       "#T_c52e2_row5_col14 {\n",
       "  font-size: 6pt;\n",
       "  background-color: #d0d0d0;\n",
       "  color: #000000;\n",
       "}\n",
       "#T_c52e2_row6_col10, #T_c52e2_row7_col11, #T_c52e2_row9_col6 {\n",
       "  font-size: 6pt;\n",
       "  background-color: #060606;\n",
       "  color: #f1f1f1;\n",
       "}\n",
       "#T_c52e2_row6_col13 {\n",
       "  font-size: 6pt;\n",
       "  background-color: #979797;\n",
       "  color: #f1f1f1;\n",
       "}\n",
       "#T_c52e2_row7_col8 {\n",
       "  font-size: 6pt;\n",
       "  background-color: #b6b6b6;\n",
       "  color: #000000;\n",
       "}\n",
       "#T_c52e2_row7_col9 {\n",
       "  font-size: 6pt;\n",
       "  background-color: #252525;\n",
       "  color: #f1f1f1;\n",
       "}\n",
       "#T_c52e2_row7_col12 {\n",
       "  font-size: 6pt;\n",
       "  background-color: #999999;\n",
       "  color: #f1f1f1;\n",
       "}\n",
       "#T_c52e2_row8_col5 {\n",
       "  font-size: 6pt;\n",
       "  background-color: #f9f9f9;\n",
       "  color: #000000;\n",
       "}\n",
       "#T_c52e2_row8_col7 {\n",
       "  font-size: 6pt;\n",
       "  background-color: #101010;\n",
       "  color: #f1f1f1;\n",
       "}\n",
       "#T_c52e2_row8_col9, #T_c52e2_row9_col9 {\n",
       "  font-size: 6pt;\n",
       "  background-color: #020202;\n",
       "  color: #f1f1f1;\n",
       "}\n",
       "#T_c52e2_row8_col11 {\n",
       "  font-size: 6pt;\n",
       "  background-color: #545454;\n",
       "  color: #f1f1f1;\n",
       "}\n",
       "#T_c52e2_row8_col12 {\n",
       "  font-size: 6pt;\n",
       "  background-color: #f1f1f1;\n",
       "  color: #000000;\n",
       "}\n",
       "#T_c52e2_row9_col5 {\n",
       "  font-size: 6pt;\n",
       "  background-color: #f7f7f7;\n",
       "  color: #000000;\n",
       "}\n",
       "#T_c52e2_row9_col7 {\n",
       "  font-size: 6pt;\n",
       "  background-color: #030303;\n",
       "  color: #f1f1f1;\n",
       "}\n",
       "#T_c52e2_row9_col12 {\n",
       "  font-size: 6pt;\n",
       "  background-color: #181818;\n",
       "  color: #f1f1f1;\n",
       "}\n",
       "#T_c52e2_row9_col13 {\n",
       "  font-size: 6pt;\n",
       "  background-color: #303030;\n",
       "  color: #f1f1f1;\n",
       "}\n",
       "#T_c52e2_row9_col14 {\n",
       "  font-size: 6pt;\n",
       "  background-color: #a9a9a9;\n",
       "  color: #f1f1f1;\n",
       "}\n",
       "#T_c52e2_row9_col15 {\n",
       "  font-size: 6pt;\n",
       "  background-color: #fefefe;\n",
       "  color: #000000;\n",
       "}\n",
       "#T_c52e2_row10_col8, #T_c52e2_row10_col9 {\n",
       "  font-size: 6pt;\n",
       "  background-color: #bababa;\n",
       "  color: #000000;\n",
       "}\n",
       "#T_c52e2_row10_col10 {\n",
       "  font-size: 6pt;\n",
       "  background-color: #393939;\n",
       "  color: #f1f1f1;\n",
       "}\n",
       "</style>\n",
       "<table id=\"T_c52e2_\">\n",
       "  <thead>\n",
       "    <tr>\n",
       "      <th class=\"blank level0\" >&nbsp;</th>\n",
       "      <th class=\"col_heading level0 col0\" >0</th>\n",
       "      <th class=\"col_heading level0 col1\" >1</th>\n",
       "      <th class=\"col_heading level0 col2\" >2</th>\n",
       "      <th class=\"col_heading level0 col3\" >3</th>\n",
       "      <th class=\"col_heading level0 col4\" >4</th>\n",
       "      <th class=\"col_heading level0 col5\" >5</th>\n",
       "      <th class=\"col_heading level0 col6\" >6</th>\n",
       "      <th class=\"col_heading level0 col7\" >7</th>\n",
       "      <th class=\"col_heading level0 col8\" >8</th>\n",
       "      <th class=\"col_heading level0 col9\" >9</th>\n",
       "      <th class=\"col_heading level0 col10\" >10</th>\n",
       "      <th class=\"col_heading level0 col11\" >11</th>\n",
       "      <th class=\"col_heading level0 col12\" >12</th>\n",
       "      <th class=\"col_heading level0 col13\" >13</th>\n",
       "      <th class=\"col_heading level0 col14\" >14</th>\n",
       "      <th class=\"col_heading level0 col15\" >15</th>\n",
       "      <th class=\"col_heading level0 col16\" >16</th>\n",
       "      <th class=\"col_heading level0 col17\" >17</th>\n",
       "    </tr>\n",
       "  </thead>\n",
       "  <tbody>\n",
       "    <tr>\n",
       "      <th id=\"T_c52e2_level0_row0\" class=\"row_heading level0 row0\" >0</th>\n",
       "      <td id=\"T_c52e2_row0_col0\" class=\"data row0 col0\" >0</td>\n",
       "      <td id=\"T_c52e2_row0_col1\" class=\"data row0 col1\" >0</td>\n",
       "      <td id=\"T_c52e2_row0_col2\" class=\"data row0 col2\" >0</td>\n",
       "      <td id=\"T_c52e2_row0_col3\" class=\"data row0 col3\" >0</td>\n",
       "      <td id=\"T_c52e2_row0_col4\" class=\"data row0 col4\" >0</td>\n",
       "      <td id=\"T_c52e2_row0_col5\" class=\"data row0 col5\" >0</td>\n",
       "      <td id=\"T_c52e2_row0_col6\" class=\"data row0 col6\" >0</td>\n",
       "      <td id=\"T_c52e2_row0_col7\" class=\"data row0 col7\" >0</td>\n",
       "      <td id=\"T_c52e2_row0_col8\" class=\"data row0 col8\" >0</td>\n",
       "      <td id=\"T_c52e2_row0_col9\" class=\"data row0 col9\" >0</td>\n",
       "      <td id=\"T_c52e2_row0_col10\" class=\"data row0 col10\" >0</td>\n",
       "      <td id=\"T_c52e2_row0_col11\" class=\"data row0 col11\" >0</td>\n",
       "      <td id=\"T_c52e2_row0_col12\" class=\"data row0 col12\" >0</td>\n",
       "      <td id=\"T_c52e2_row0_col13\" class=\"data row0 col13\" >0</td>\n",
       "      <td id=\"T_c52e2_row0_col14\" class=\"data row0 col14\" >0</td>\n",
       "      <td id=\"T_c52e2_row0_col15\" class=\"data row0 col15\" >0</td>\n",
       "      <td id=\"T_c52e2_row0_col16\" class=\"data row0 col16\" >0</td>\n",
       "      <td id=\"T_c52e2_row0_col17\" class=\"data row0 col17\" >0</td>\n",
       "    </tr>\n",
       "    <tr>\n",
       "      <th id=\"T_c52e2_level0_row1\" class=\"row_heading level0 row1\" >1</th>\n",
       "      <td id=\"T_c52e2_row1_col0\" class=\"data row1 col0\" >0</td>\n",
       "      <td id=\"T_c52e2_row1_col1\" class=\"data row1 col1\" >0</td>\n",
       "      <td id=\"T_c52e2_row1_col2\" class=\"data row1 col2\" >0</td>\n",
       "      <td id=\"T_c52e2_row1_col3\" class=\"data row1 col3\" >0</td>\n",
       "      <td id=\"T_c52e2_row1_col4\" class=\"data row1 col4\" >0</td>\n",
       "      <td id=\"T_c52e2_row1_col5\" class=\"data row1 col5\" >29</td>\n",
       "      <td id=\"T_c52e2_row1_col6\" class=\"data row1 col6\" >150</td>\n",
       "      <td id=\"T_c52e2_row1_col7\" class=\"data row1 col7\" >195</td>\n",
       "      <td id=\"T_c52e2_row1_col8\" class=\"data row1 col8\" >254</td>\n",
       "      <td id=\"T_c52e2_row1_col9\" class=\"data row1 col9\" >255</td>\n",
       "      <td id=\"T_c52e2_row1_col10\" class=\"data row1 col10\" >254</td>\n",
       "      <td id=\"T_c52e2_row1_col11\" class=\"data row1 col11\" >176</td>\n",
       "      <td id=\"T_c52e2_row1_col12\" class=\"data row1 col12\" >193</td>\n",
       "      <td id=\"T_c52e2_row1_col13\" class=\"data row1 col13\" >150</td>\n",
       "      <td id=\"T_c52e2_row1_col14\" class=\"data row1 col14\" >96</td>\n",
       "      <td id=\"T_c52e2_row1_col15\" class=\"data row1 col15\" >0</td>\n",
       "      <td id=\"T_c52e2_row1_col16\" class=\"data row1 col16\" >0</td>\n",
       "      <td id=\"T_c52e2_row1_col17\" class=\"data row1 col17\" >0</td>\n",
       "    </tr>\n",
       "    <tr>\n",
       "      <th id=\"T_c52e2_level0_row2\" class=\"row_heading level0 row2\" >2</th>\n",
       "      <td id=\"T_c52e2_row2_col0\" class=\"data row2 col0\" >0</td>\n",
       "      <td id=\"T_c52e2_row2_col1\" class=\"data row2 col1\" >0</td>\n",
       "      <td id=\"T_c52e2_row2_col2\" class=\"data row2 col2\" >0</td>\n",
       "      <td id=\"T_c52e2_row2_col3\" class=\"data row2 col3\" >48</td>\n",
       "      <td id=\"T_c52e2_row2_col4\" class=\"data row2 col4\" >166</td>\n",
       "      <td id=\"T_c52e2_row2_col5\" class=\"data row2 col5\" >224</td>\n",
       "      <td id=\"T_c52e2_row2_col6\" class=\"data row2 col6\" >253</td>\n",
       "      <td id=\"T_c52e2_row2_col7\" class=\"data row2 col7\" >253</td>\n",
       "      <td id=\"T_c52e2_row2_col8\" class=\"data row2 col8\" >234</td>\n",
       "      <td id=\"T_c52e2_row2_col9\" class=\"data row2 col9\" >196</td>\n",
       "      <td id=\"T_c52e2_row2_col10\" class=\"data row2 col10\" >253</td>\n",
       "      <td id=\"T_c52e2_row2_col11\" class=\"data row2 col11\" >253</td>\n",
       "      <td id=\"T_c52e2_row2_col12\" class=\"data row2 col12\" >253</td>\n",
       "      <td id=\"T_c52e2_row2_col13\" class=\"data row2 col13\" >253</td>\n",
       "      <td id=\"T_c52e2_row2_col14\" class=\"data row2 col14\" >233</td>\n",
       "      <td id=\"T_c52e2_row2_col15\" class=\"data row2 col15\" >0</td>\n",
       "      <td id=\"T_c52e2_row2_col16\" class=\"data row2 col16\" >0</td>\n",
       "      <td id=\"T_c52e2_row2_col17\" class=\"data row2 col17\" >0</td>\n",
       "    </tr>\n",
       "    <tr>\n",
       "      <th id=\"T_c52e2_level0_row3\" class=\"row_heading level0 row3\" >3</th>\n",
       "      <td id=\"T_c52e2_row3_col0\" class=\"data row3 col0\" >0</td>\n",
       "      <td id=\"T_c52e2_row3_col1\" class=\"data row3 col1\" >93</td>\n",
       "      <td id=\"T_c52e2_row3_col2\" class=\"data row3 col2\" >244</td>\n",
       "      <td id=\"T_c52e2_row3_col3\" class=\"data row3 col3\" >249</td>\n",
       "      <td id=\"T_c52e2_row3_col4\" class=\"data row3 col4\" >253</td>\n",
       "      <td id=\"T_c52e2_row3_col5\" class=\"data row3 col5\" >187</td>\n",
       "      <td id=\"T_c52e2_row3_col6\" class=\"data row3 col6\" >46</td>\n",
       "      <td id=\"T_c52e2_row3_col7\" class=\"data row3 col7\" >10</td>\n",
       "      <td id=\"T_c52e2_row3_col8\" class=\"data row3 col8\" >8</td>\n",
       "      <td id=\"T_c52e2_row3_col9\" class=\"data row3 col9\" >4</td>\n",
       "      <td id=\"T_c52e2_row3_col10\" class=\"data row3 col10\" >10</td>\n",
       "      <td id=\"T_c52e2_row3_col11\" class=\"data row3 col11\" >194</td>\n",
       "      <td id=\"T_c52e2_row3_col12\" class=\"data row3 col12\" >253</td>\n",
       "      <td id=\"T_c52e2_row3_col13\" class=\"data row3 col13\" >253</td>\n",
       "      <td id=\"T_c52e2_row3_col14\" class=\"data row3 col14\" >233</td>\n",
       "      <td id=\"T_c52e2_row3_col15\" class=\"data row3 col15\" >0</td>\n",
       "      <td id=\"T_c52e2_row3_col16\" class=\"data row3 col16\" >0</td>\n",
       "      <td id=\"T_c52e2_row3_col17\" class=\"data row3 col17\" >0</td>\n",
       "    </tr>\n",
       "    <tr>\n",
       "      <th id=\"T_c52e2_level0_row4\" class=\"row_heading level0 row4\" >4</th>\n",
       "      <td id=\"T_c52e2_row4_col0\" class=\"data row4 col0\" >0</td>\n",
       "      <td id=\"T_c52e2_row4_col1\" class=\"data row4 col1\" >107</td>\n",
       "      <td id=\"T_c52e2_row4_col2\" class=\"data row4 col2\" >253</td>\n",
       "      <td id=\"T_c52e2_row4_col3\" class=\"data row4 col3\" >253</td>\n",
       "      <td id=\"T_c52e2_row4_col4\" class=\"data row4 col4\" >230</td>\n",
       "      <td id=\"T_c52e2_row4_col5\" class=\"data row4 col5\" >48</td>\n",
       "      <td id=\"T_c52e2_row4_col6\" class=\"data row4 col6\" >0</td>\n",
       "      <td id=\"T_c52e2_row4_col7\" class=\"data row4 col7\" >0</td>\n",
       "      <td id=\"T_c52e2_row4_col8\" class=\"data row4 col8\" >0</td>\n",
       "      <td id=\"T_c52e2_row4_col9\" class=\"data row4 col9\" >0</td>\n",
       "      <td id=\"T_c52e2_row4_col10\" class=\"data row4 col10\" >0</td>\n",
       "      <td id=\"T_c52e2_row4_col11\" class=\"data row4 col11\" >192</td>\n",
       "      <td id=\"T_c52e2_row4_col12\" class=\"data row4 col12\" >253</td>\n",
       "      <td id=\"T_c52e2_row4_col13\" class=\"data row4 col13\" >253</td>\n",
       "      <td id=\"T_c52e2_row4_col14\" class=\"data row4 col14\" >156</td>\n",
       "      <td id=\"T_c52e2_row4_col15\" class=\"data row4 col15\" >0</td>\n",
       "      <td id=\"T_c52e2_row4_col16\" class=\"data row4 col16\" >0</td>\n",
       "      <td id=\"T_c52e2_row4_col17\" class=\"data row4 col17\" >0</td>\n",
       "    </tr>\n",
       "    <tr>\n",
       "      <th id=\"T_c52e2_level0_row5\" class=\"row_heading level0 row5\" >5</th>\n",
       "      <td id=\"T_c52e2_row5_col0\" class=\"data row5 col0\" >0</td>\n",
       "      <td id=\"T_c52e2_row5_col1\" class=\"data row5 col1\" >3</td>\n",
       "      <td id=\"T_c52e2_row5_col2\" class=\"data row5 col2\" >20</td>\n",
       "      <td id=\"T_c52e2_row5_col3\" class=\"data row5 col3\" >20</td>\n",
       "      <td id=\"T_c52e2_row5_col4\" class=\"data row5 col4\" >15</td>\n",
       "      <td id=\"T_c52e2_row5_col5\" class=\"data row5 col5\" >0</td>\n",
       "      <td id=\"T_c52e2_row5_col6\" class=\"data row5 col6\" >0</td>\n",
       "      <td id=\"T_c52e2_row5_col7\" class=\"data row5 col7\" >0</td>\n",
       "      <td id=\"T_c52e2_row5_col8\" class=\"data row5 col8\" >0</td>\n",
       "      <td id=\"T_c52e2_row5_col9\" class=\"data row5 col9\" >0</td>\n",
       "      <td id=\"T_c52e2_row5_col10\" class=\"data row5 col10\" >43</td>\n",
       "      <td id=\"T_c52e2_row5_col11\" class=\"data row5 col11\" >224</td>\n",
       "      <td id=\"T_c52e2_row5_col12\" class=\"data row5 col12\" >253</td>\n",
       "      <td id=\"T_c52e2_row5_col13\" class=\"data row5 col13\" >245</td>\n",
       "      <td id=\"T_c52e2_row5_col14\" class=\"data row5 col14\" >74</td>\n",
       "      <td id=\"T_c52e2_row5_col15\" class=\"data row5 col15\" >0</td>\n",
       "      <td id=\"T_c52e2_row5_col16\" class=\"data row5 col16\" >0</td>\n",
       "      <td id=\"T_c52e2_row5_col17\" class=\"data row5 col17\" >0</td>\n",
       "    </tr>\n",
       "    <tr>\n",
       "      <th id=\"T_c52e2_level0_row6\" class=\"row_heading level0 row6\" >6</th>\n",
       "      <td id=\"T_c52e2_row6_col0\" class=\"data row6 col0\" >0</td>\n",
       "      <td id=\"T_c52e2_row6_col1\" class=\"data row6 col1\" >0</td>\n",
       "      <td id=\"T_c52e2_row6_col2\" class=\"data row6 col2\" >0</td>\n",
       "      <td id=\"T_c52e2_row6_col3\" class=\"data row6 col3\" >0</td>\n",
       "      <td id=\"T_c52e2_row6_col4\" class=\"data row6 col4\" >0</td>\n",
       "      <td id=\"T_c52e2_row6_col5\" class=\"data row6 col5\" >0</td>\n",
       "      <td id=\"T_c52e2_row6_col6\" class=\"data row6 col6\" >0</td>\n",
       "      <td id=\"T_c52e2_row6_col7\" class=\"data row6 col7\" >0</td>\n",
       "      <td id=\"T_c52e2_row6_col8\" class=\"data row6 col8\" >0</td>\n",
       "      <td id=\"T_c52e2_row6_col9\" class=\"data row6 col9\" >0</td>\n",
       "      <td id=\"T_c52e2_row6_col10\" class=\"data row6 col10\" >249</td>\n",
       "      <td id=\"T_c52e2_row6_col11\" class=\"data row6 col11\" >253</td>\n",
       "      <td id=\"T_c52e2_row6_col12\" class=\"data row6 col12\" >245</td>\n",
       "      <td id=\"T_c52e2_row6_col13\" class=\"data row6 col13\" >126</td>\n",
       "      <td id=\"T_c52e2_row6_col14\" class=\"data row6 col14\" >0</td>\n",
       "      <td id=\"T_c52e2_row6_col15\" class=\"data row6 col15\" >0</td>\n",
       "      <td id=\"T_c52e2_row6_col16\" class=\"data row6 col16\" >0</td>\n",
       "      <td id=\"T_c52e2_row6_col17\" class=\"data row6 col17\" >0</td>\n",
       "    </tr>\n",
       "    <tr>\n",
       "      <th id=\"T_c52e2_level0_row7\" class=\"row_heading level0 row7\" >7</th>\n",
       "      <td id=\"T_c52e2_row7_col0\" class=\"data row7 col0\" >0</td>\n",
       "      <td id=\"T_c52e2_row7_col1\" class=\"data row7 col1\" >0</td>\n",
       "      <td id=\"T_c52e2_row7_col2\" class=\"data row7 col2\" >0</td>\n",
       "      <td id=\"T_c52e2_row7_col3\" class=\"data row7 col3\" >0</td>\n",
       "      <td id=\"T_c52e2_row7_col4\" class=\"data row7 col4\" >0</td>\n",
       "      <td id=\"T_c52e2_row7_col5\" class=\"data row7 col5\" >0</td>\n",
       "      <td id=\"T_c52e2_row7_col6\" class=\"data row7 col6\" >0</td>\n",
       "      <td id=\"T_c52e2_row7_col7\" class=\"data row7 col7\" >14</td>\n",
       "      <td id=\"T_c52e2_row7_col8\" class=\"data row7 col8\" >101</td>\n",
       "      <td id=\"T_c52e2_row7_col9\" class=\"data row7 col9\" >223</td>\n",
       "      <td id=\"T_c52e2_row7_col10\" class=\"data row7 col10\" >253</td>\n",
       "      <td id=\"T_c52e2_row7_col11\" class=\"data row7 col11\" >248</td>\n",
       "      <td id=\"T_c52e2_row7_col12\" class=\"data row7 col12\" >124</td>\n",
       "      <td id=\"T_c52e2_row7_col13\" class=\"data row7 col13\" >0</td>\n",
       "      <td id=\"T_c52e2_row7_col14\" class=\"data row7 col14\" >0</td>\n",
       "      <td id=\"T_c52e2_row7_col15\" class=\"data row7 col15\" >0</td>\n",
       "      <td id=\"T_c52e2_row7_col16\" class=\"data row7 col16\" >0</td>\n",
       "      <td id=\"T_c52e2_row7_col17\" class=\"data row7 col17\" >0</td>\n",
       "    </tr>\n",
       "    <tr>\n",
       "      <th id=\"T_c52e2_level0_row8\" class=\"row_heading level0 row8\" >8</th>\n",
       "      <td id=\"T_c52e2_row8_col0\" class=\"data row8 col0\" >0</td>\n",
       "      <td id=\"T_c52e2_row8_col1\" class=\"data row8 col1\" >0</td>\n",
       "      <td id=\"T_c52e2_row8_col2\" class=\"data row8 col2\" >0</td>\n",
       "      <td id=\"T_c52e2_row8_col3\" class=\"data row8 col3\" >0</td>\n",
       "      <td id=\"T_c52e2_row8_col4\" class=\"data row8 col4\" >0</td>\n",
       "      <td id=\"T_c52e2_row8_col5\" class=\"data row8 col5\" >11</td>\n",
       "      <td id=\"T_c52e2_row8_col6\" class=\"data row8 col6\" >166</td>\n",
       "      <td id=\"T_c52e2_row8_col7\" class=\"data row8 col7\" >239</td>\n",
       "      <td id=\"T_c52e2_row8_col8\" class=\"data row8 col8\" >253</td>\n",
       "      <td id=\"T_c52e2_row8_col9\" class=\"data row8 col9\" >253</td>\n",
       "      <td id=\"T_c52e2_row8_col10\" class=\"data row8 col10\" >253</td>\n",
       "      <td id=\"T_c52e2_row8_col11\" class=\"data row8 col11\" >187</td>\n",
       "      <td id=\"T_c52e2_row8_col12\" class=\"data row8 col12\" >30</td>\n",
       "      <td id=\"T_c52e2_row8_col13\" class=\"data row8 col13\" >0</td>\n",
       "      <td id=\"T_c52e2_row8_col14\" class=\"data row8 col14\" >0</td>\n",
       "      <td id=\"T_c52e2_row8_col15\" class=\"data row8 col15\" >0</td>\n",
       "      <td id=\"T_c52e2_row8_col16\" class=\"data row8 col16\" >0</td>\n",
       "      <td id=\"T_c52e2_row8_col17\" class=\"data row8 col17\" >0</td>\n",
       "    </tr>\n",
       "    <tr>\n",
       "      <th id=\"T_c52e2_level0_row9\" class=\"row_heading level0 row9\" >9</th>\n",
       "      <td id=\"T_c52e2_row9_col0\" class=\"data row9 col0\" >0</td>\n",
       "      <td id=\"T_c52e2_row9_col1\" class=\"data row9 col1\" >0</td>\n",
       "      <td id=\"T_c52e2_row9_col2\" class=\"data row9 col2\" >0</td>\n",
       "      <td id=\"T_c52e2_row9_col3\" class=\"data row9 col3\" >0</td>\n",
       "      <td id=\"T_c52e2_row9_col4\" class=\"data row9 col4\" >0</td>\n",
       "      <td id=\"T_c52e2_row9_col5\" class=\"data row9 col5\" >16</td>\n",
       "      <td id=\"T_c52e2_row9_col6\" class=\"data row9 col6\" >248</td>\n",
       "      <td id=\"T_c52e2_row9_col7\" class=\"data row9 col7\" >250</td>\n",
       "      <td id=\"T_c52e2_row9_col8\" class=\"data row9 col8\" >253</td>\n",
       "      <td id=\"T_c52e2_row9_col9\" class=\"data row9 col9\" >253</td>\n",
       "      <td id=\"T_c52e2_row9_col10\" class=\"data row9 col10\" >253</td>\n",
       "      <td id=\"T_c52e2_row9_col11\" class=\"data row9 col11\" >253</td>\n",
       "      <td id=\"T_c52e2_row9_col12\" class=\"data row9 col12\" >232</td>\n",
       "      <td id=\"T_c52e2_row9_col13\" class=\"data row9 col13\" >213</td>\n",
       "      <td id=\"T_c52e2_row9_col14\" class=\"data row9 col14\" >111</td>\n",
       "      <td id=\"T_c52e2_row9_col15\" class=\"data row9 col15\" >2</td>\n",
       "      <td id=\"T_c52e2_row9_col16\" class=\"data row9 col16\" >0</td>\n",
       "      <td id=\"T_c52e2_row9_col17\" class=\"data row9 col17\" >0</td>\n",
       "    </tr>\n",
       "    <tr>\n",
       "      <th id=\"T_c52e2_level0_row10\" class=\"row_heading level0 row10\" >10</th>\n",
       "      <td id=\"T_c52e2_row10_col0\" class=\"data row10 col0\" >0</td>\n",
       "      <td id=\"T_c52e2_row10_col1\" class=\"data row10 col1\" >0</td>\n",
       "      <td id=\"T_c52e2_row10_col2\" class=\"data row10 col2\" >0</td>\n",
       "      <td id=\"T_c52e2_row10_col3\" class=\"data row10 col3\" >0</td>\n",
       "      <td id=\"T_c52e2_row10_col4\" class=\"data row10 col4\" >0</td>\n",
       "      <td id=\"T_c52e2_row10_col5\" class=\"data row10 col5\" >0</td>\n",
       "      <td id=\"T_c52e2_row10_col6\" class=\"data row10 col6\" >0</td>\n",
       "      <td id=\"T_c52e2_row10_col7\" class=\"data row10 col7\" >43</td>\n",
       "      <td id=\"T_c52e2_row10_col8\" class=\"data row10 col8\" >98</td>\n",
       "      <td id=\"T_c52e2_row10_col9\" class=\"data row10 col9\" >98</td>\n",
       "      <td id=\"T_c52e2_row10_col10\" class=\"data row10 col10\" >208</td>\n",
       "      <td id=\"T_c52e2_row10_col11\" class=\"data row10 col11\" >253</td>\n",
       "      <td id=\"T_c52e2_row10_col12\" class=\"data row10 col12\" >253</td>\n",
       "      <td id=\"T_c52e2_row10_col13\" class=\"data row10 col13\" >253</td>\n",
       "      <td id=\"T_c52e2_row10_col14\" class=\"data row10 col14\" >253</td>\n",
       "      <td id=\"T_c52e2_row10_col15\" class=\"data row10 col15\" >187</td>\n",
       "      <td id=\"T_c52e2_row10_col16\" class=\"data row10 col16\" >22</td>\n",
       "      <td id=\"T_c52e2_row10_col17\" class=\"data row10 col17\" >0</td>\n",
       "    </tr>\n",
       "  </tbody>\n",
       "</table>\n"
      ],
      "text/plain": [
       "<pandas.io.formats.style.Styler at 0x7efbc817c490>"
      ]
     },
     "execution_count": 10,
     "metadata": {},
     "output_type": "execute_result"
    }
   ],
   "source": [
    "im3_t = tensor(im3)\n",
    "df = pd.DataFrame(im3_t[4:15,4:22])\n",
    "df.style.set_properties(**{'font-size':'6pt'}).background_gradient('Greys')"
   ]
  },
  {
   "cell_type": "markdown",
   "id": "44392a5f",
   "metadata": {
    "papermill": {
     "duration": 0.126355,
     "end_time": "2022-04-25T11:08:38.532032",
     "exception": false,
     "start_time": "2022-04-25T11:08:38.405677",
     "status": "completed"
    },
    "tags": []
   },
   "source": [
    "You can see that the background white pixels are stored as the number 0, black is the number 255, and shades of gray are between the two. The entire image contains 28 pixels across and 28 pixels down, for a total of 784 pixels. (This is much smaller than an image that you would get from a phone camera, which has millions of pixels, but is a convenient size for our initial learning and experiments. We will build up to bigger, full-color images soon.)\n",
    "\n",
    "So, now you've seen what an image looks like to a computer, let's recall our goal: create a model that can recognize 3s and 7s. How might you go about getting a computer to do that?\n",
    "\n",
    "## Stochastic Gradient Descent (SGD)\n",
    "\n",
    "Do you remember the way that Arthur Samuel described machine learning, which we quoted in the intro?\n",
    "\n",
    "> Suppose we arrange for some automatic means of testing the effectiveness of any current weight assignment in terms of actual performance and provide a mechanism for altering the weight assignment so as to maximize the performance. We need not go into the details of such a procedure to see that it could be made entirely automatic and to see that a machine so programmed would \"learn\" from its experience.\n",
    "\n",
    "As we discussed, this is the key to allowing us to have a model that can get better and better—that can learn. In order to take advantage of the power of deep learning, we will first have to represent our task in the way that Arthur Samuel described it.\n",
    "\n",
    "We could look at each individual pixel and come up with a set of weights for each one, such that the highest weights are associated with those pixels most likely to be black for a particular category. For instance, pixels toward the bottom right are not very likely to be activated for a 7, so they should have a low weight for a 7, but they are likely to be activated for an 8, so they should have a high weight for an 8. This can be represented as a function and set of weight values for each possible category—for instance the probability of being the number 8:\n",
    "\n",
    "```\n",
    "def pr_eight(x,w): return (x*w).sum()\n",
    "```\n",
    "Here we are assuming that `x` is the image, represented as a vector—in other words, with all of the rows stacked up end to end into a single long line. And we are assuming that the weights are a vector `w`. If we have this function, then we just need some way to update the weights to make them a little bit better. With such an approach, we can repeat that step a number of times, making the weights better and better, until they are as good as we can make them.\n",
    "\n",
    "We want to find the specific values for the vector `w` that causes the result of our function to be high for those images that are actually 8s, and low for those images that are not. Searching for the best vector `w` is a way to search for the best function for recognising 8s. (Because we are not yet using a deep neural network, we are limited by what our function can actually do—we are going to fix that constraint later in this chapter.) \n",
    "\n",
    "To be more specific, here are the steps that we are going to require, to turn this function into a machine learning classifier:\n",
    "\n",
    "1. *Initialize* the weights.\n",
    "1. For each image, use these weights to *predict* whether it appears to be a 3 or a 7.\n",
    "1. Based on these predictions, calculate how good the model is (its *loss*).\n",
    "1. Calculate the *gradient*, which measures for each weight, how changing that weight would change the loss\n",
    "1. *Step* (that is, change) all the weights based on that calculation.\n",
    "1. Go back to the step 2, and *repeat* the process.\n",
    "1. Iterate until you decide to *stop* the training process (for instance, because the model is good enough or you don't want to wait any longer).\n",
    "\n",
    "These seven steps, illustrated below, are the key to the training of all deep learning models. That deep learning turns out to rely entirely on these steps is extremely surprising and counterintuitive. It's amazing that this process can solve such complex problems. But, as you'll see, it really does!"
   ]
  },
  {
   "cell_type": "code",
   "execution_count": 11,
   "id": "6e6376d0",
   "metadata": {
    "execution": {
     "iopub.execute_input": "2022-04-25T11:08:38.791529Z",
     "iopub.status.busy": "2022-04-25T11:08:38.790868Z",
     "iopub.status.idle": "2022-04-25T11:08:39.873541Z",
     "shell.execute_reply": "2022-04-25T11:08:39.872940Z",
     "shell.execute_reply.started": "2022-04-15T07:04:21.422493Z"
    },
    "papermill": {
     "duration": 1.213386,
     "end_time": "2022-04-25T11:08:39.873688",
     "exception": false,
     "start_time": "2022-04-25T11:08:38.660302",
     "status": "completed"
    },
    "tags": []
   },
   "outputs": [
    {
     "data": {
      "image/svg+xml": [
       "<?xml version=\"1.0\" encoding=\"UTF-8\" standalone=\"no\"?>\n",
       "<!DOCTYPE svg PUBLIC \"-//W3C//DTD SVG 1.1//EN\"\n",
       " \"http://www.w3.org/Graphics/SVG/1.1/DTD/svg11.dtd\">\n",
       "<!-- Generated by graphviz version 2.50.0 (20211209.0339)\n",
       " -->\n",
       "<!-- Title: G Pages: 1 -->\n",
       "<svg width=\"661pt\" height=\"78pt\"\n",
       " viewBox=\"0.00 0.00 660.87 78.00\" xmlns=\"http://www.w3.org/2000/svg\" xmlns:xlink=\"http://www.w3.org/1999/xlink\">\n",
       "<g id=\"graph0\" class=\"graph\" transform=\"scale(1 1) rotate(0) translate(4 74)\">\n",
       "<title>G</title>\n",
       "<polygon fill=\"white\" stroke=\"transparent\" points=\"-4,4 -4,-74 656.87,-74 656.87,4 -4,4\"/>\n",
       "<!-- init -->\n",
       "<g id=\"node1\" class=\"node\">\n",
       "<title>init</title>\n",
       "<ellipse fill=\"none\" stroke=\"black\" cx=\"27\" cy=\"-18\" rx=\"27\" ry=\"18\"/>\n",
       "<text text-anchor=\"middle\" x=\"27\" y=\"-14.3\" font-family=\"Times,serif\" font-size=\"14.00\">init</text>\n",
       "</g>\n",
       "<!-- predict -->\n",
       "<g id=\"node2\" class=\"node\">\n",
       "<title>predict</title>\n",
       "<ellipse fill=\"none\" stroke=\"black\" cx=\"135.2\" cy=\"-18\" rx=\"44.39\" ry=\"18\"/>\n",
       "<text text-anchor=\"middle\" x=\"135.2\" y=\"-14.3\" font-family=\"Times,serif\" font-size=\"14.00\">predict</text>\n",
       "</g>\n",
       "<!-- init&#45;&gt;predict -->\n",
       "<g id=\"edge1\" class=\"edge\">\n",
       "<title>init&#45;&gt;predict</title>\n",
       "<path fill=\"none\" stroke=\"black\" d=\"M54.25,-18C62.37,-18 71.63,-18 80.89,-18\"/>\n",
       "<polygon fill=\"black\" stroke=\"black\" points=\"80.89,-21.5 90.89,-18 80.89,-14.5 80.89,-21.5\"/>\n",
       "</g>\n",
       "<!-- loss -->\n",
       "<g id=\"node3\" class=\"node\">\n",
       "<title>loss</title>\n",
       "<ellipse fill=\"none\" stroke=\"black\" cx=\"244.99\" cy=\"-52\" rx=\"28.7\" ry=\"18\"/>\n",
       "<text text-anchor=\"middle\" x=\"244.99\" y=\"-48.3\" font-family=\"Times,serif\" font-size=\"14.00\">loss</text>\n",
       "</g>\n",
       "<!-- predict&#45;&gt;loss -->\n",
       "<g id=\"edge2\" class=\"edge\">\n",
       "<title>predict&#45;&gt;loss</title>\n",
       "<path fill=\"none\" stroke=\"black\" d=\"M170.6,-28.85C183.05,-32.78 197.09,-37.21 209.54,-41.14\"/>\n",
       "<polygon fill=\"black\" stroke=\"black\" points=\"208.53,-44.49 219.12,-44.16 210.64,-37.81 208.53,-44.49\"/>\n",
       "</g>\n",
       "<!-- gradient -->\n",
       "<g id=\"node4\" class=\"node\">\n",
       "<title>gradient</title>\n",
       "<ellipse fill=\"none\" stroke=\"black\" cx=\"406.63\" cy=\"-52\" rx=\"50.09\" ry=\"18\"/>\n",
       "<text text-anchor=\"middle\" x=\"406.63\" y=\"-48.3\" font-family=\"Times,serif\" font-size=\"14.00\">gradient</text>\n",
       "</g>\n",
       "<!-- loss&#45;&gt;gradient -->\n",
       "<g id=\"edge3\" class=\"edge\">\n",
       "<title>loss&#45;&gt;gradient</title>\n",
       "<path fill=\"none\" stroke=\"black\" d=\"M273.8,-52C293.82,-52 321.57,-52 346.45,-52\"/>\n",
       "<polygon fill=\"black\" stroke=\"black\" points=\"346.55,-55.5 356.55,-52 346.55,-48.5 346.55,-55.5\"/>\n",
       "</g>\n",
       "<!-- step -->\n",
       "<g id=\"node5\" class=\"node\">\n",
       "<title>step</title>\n",
       "<ellipse fill=\"none\" stroke=\"black\" cx=\"524.23\" cy=\"-18\" rx=\"30.59\" ry=\"18\"/>\n",
       "<text text-anchor=\"middle\" x=\"524.23\" y=\"-14.3\" font-family=\"Times,serif\" font-size=\"14.00\">step</text>\n",
       "</g>\n",
       "<!-- gradient&#45;&gt;step -->\n",
       "<g id=\"edge4\" class=\"edge\">\n",
       "<title>gradient&#45;&gt;step</title>\n",
       "<path fill=\"none\" stroke=\"black\" d=\"M445.8,-40.77C459.01,-36.89 473.76,-32.55 486.82,-28.71\"/>\n",
       "<polygon fill=\"black\" stroke=\"black\" points=\"487.82,-32.06 496.43,-25.88 485.85,-25.35 487.82,-32.06\"/>\n",
       "</g>\n",
       "<!-- step&#45;&gt;predict -->\n",
       "<g id=\"edge6\" class=\"edge\">\n",
       "<title>step&#45;&gt;predict</title>\n",
       "<path fill=\"none\" stroke=\"black\" d=\"M493.68,-18C428.65,-18 272.39,-18 189.67,-18\"/>\n",
       "<polygon fill=\"black\" stroke=\"black\" points=\"189.47,-14.5 179.47,-18 189.47,-21.5 189.47,-14.5\"/>\n",
       "<text text-anchor=\"middle\" x=\"315.09\" y=\"-21.8\" font-family=\"Times,serif\" font-size=\"14.00\">repeat</text>\n",
       "</g>\n",
       "<!-- stop -->\n",
       "<g id=\"node6\" class=\"node\">\n",
       "<title>stop</title>\n",
       "<ellipse fill=\"none\" stroke=\"black\" cx=\"622.32\" cy=\"-18\" rx=\"30.59\" ry=\"18\"/>\n",
       "<text text-anchor=\"middle\" x=\"622.32\" y=\"-14.3\" font-family=\"Times,serif\" font-size=\"14.00\">stop</text>\n",
       "</g>\n",
       "<!-- step&#45;&gt;stop -->\n",
       "<g id=\"edge5\" class=\"edge\">\n",
       "<title>step&#45;&gt;stop</title>\n",
       "<path fill=\"none\" stroke=\"black\" d=\"M554.84,-18C563.24,-18 572.53,-18 581.44,-18\"/>\n",
       "<polygon fill=\"black\" stroke=\"black\" points=\"581.64,-21.5 591.64,-18 581.64,-14.5 581.64,-21.5\"/>\n",
       "</g>\n",
       "</g>\n",
       "</svg>\n"
      ],
      "text/plain": [
       "<graphviz.files.Source at 0x7efbc813e550>"
      ]
     },
     "execution_count": 11,
     "metadata": {},
     "output_type": "execute_result"
    }
   ],
   "source": [
    "gv('''\n",
    "init->predict->loss->gradient->step->stop\n",
    "step->predict[label=repeat]\n",
    "''')"
   ]
  },
  {
   "cell_type": "markdown",
   "id": "50b9a308",
   "metadata": {
    "papermill": {
     "duration": 0.12755,
     "end_time": "2022-04-25T11:08:40.131303",
     "exception": false,
     "start_time": "2022-04-25T11:08:40.003753",
     "status": "completed"
    },
    "tags": []
   },
   "source": [
    "There are many different ways to do each of these seven steps, and we will be learning about them throughout the rest of this class. These are the details that make a big difference for deep learning practitioners, but it turns out that the general approach to each one generally follows some basic principles. Here are a few guidelines:\n",
    "\n",
    "- Initialize: We initialize the parameters to random values. This may sound surprising. There are certainly other choices we could make, such as initializing them to the percentage of times that pixel is activated for that category—but since we already know that we have a routine to improve these weights, it turns out that just starting with random weights works perfectly well.\n",
    "- Loss: This is what Samuel referred to when he spoke of *testing the effectiveness of any current weight assignment in terms of actual performance*. We need some function that will return a number that is small if the performance of the model is good (the standard approach is to treat a small loss as good, and a large loss as bad, although this is just a convention).\n",
    "- Step: A simple way to figure out whether a weight should be increased a bit, or decreased a bit, would be just to try it: increase the weight by a small amount, and see if the loss goes up or down. Once you find the correct direction, you could then change that amount by a bit more, and a bit less, until you find an amount that works well. However, this is slow! As we will see, the magic of calculus allows us to directly figure out in which direction, and by roughly how much, to change each weight, without having to try all these small changes. The way to do this is by calculating *gradients*. This is just a performance optimization, we would get exactly the same results by using the slower manual process as well.\n",
    "- Stop: Once we've decided how many epochs to train the model for (a few suggestions for this were given in the earlier list), we apply that decision. This is where that decision is applied. For our digit classifier, we would keep training until the accuracy of the model started getting worse, or we ran out of time."
   ]
  },
  {
   "cell_type": "markdown",
   "id": "00ed728c",
   "metadata": {
    "papermill": {
     "duration": 0.125766,
     "end_time": "2022-04-25T11:08:40.383590",
     "exception": false,
     "start_time": "2022-04-25T11:08:40.257824",
     "status": "completed"
    },
    "tags": []
   },
   "source": [
    "Before applying these steps to our image classification problem, let's illustrate what they look like in a simpler case. First we will define a very simple function, the quadratic—let's pretend that this is our loss function, and `x` is a weight parameter of the function:"
   ]
  },
  {
   "cell_type": "code",
   "execution_count": 12,
   "id": "52684207",
   "metadata": {
    "execution": {
     "iopub.execute_input": "2022-04-25T11:08:40.638487Z",
     "iopub.status.busy": "2022-04-25T11:08:40.637885Z",
     "iopub.status.idle": "2022-04-25T11:08:40.640981Z",
     "shell.execute_reply": "2022-04-25T11:08:40.641404Z",
     "shell.execute_reply.started": "2022-04-15T07:04:22.310093Z"
    },
    "papermill": {
     "duration": 0.132185,
     "end_time": "2022-04-25T11:08:40.641557",
     "exception": false,
     "start_time": "2022-04-25T11:08:40.509372",
     "status": "completed"
    },
    "tags": []
   },
   "outputs": [],
   "source": [
    "def f(x): \n",
    "    return x**2"
   ]
  },
  {
   "cell_type": "code",
   "execution_count": 13,
   "id": "ea0d72dd",
   "metadata": {
    "execution": {
     "iopub.execute_input": "2022-04-25T11:08:40.898450Z",
     "iopub.status.busy": "2022-04-25T11:08:40.897800Z",
     "iopub.status.idle": "2022-04-25T11:08:41.138993Z",
     "shell.execute_reply": "2022-04-25T11:08:41.139445Z",
     "shell.execute_reply.started": "2022-04-15T07:04:22.316929Z"
    },
    "papermill": {
     "duration": 0.371774,
     "end_time": "2022-04-25T11:08:41.139602",
     "exception": false,
     "start_time": "2022-04-25T11:08:40.767828",
     "status": "completed"
    },
    "tags": []
   },
   "outputs": [
    {
     "name": "stderr",
     "output_type": "stream",
     "text": [
      "/opt/conda/lib/python3.7/site-packages/fastbook/__init__.py:72: UserWarning: Not providing a value for linspace's steps is deprecated and will throw a runtime error in a future release. This warning will appear only once per process. (Triggered internally at  ../aten/src/ATen/native/RangeFactories.cpp:25.)\n",
      "  x = torch.linspace(min,max)\n"
     ]
    },
    {
     "data": {
      "image/png": "[encoded data removed]",
      "text/plain": [
       "<Figure size 432x288 with 1 Axes>"
      ]
     },
     "metadata": {
      "needs_background": "light"
     },
     "output_type": "display_data"
    }
   ],
   "source": [
    "# Here is a graph of that function:\n",
    "plot_function(f, 'x', 'x**2')"
   ]
  },
  {
   "cell_type": "markdown",
   "id": "b5c57b07",
   "metadata": {
    "papermill": {
     "duration": 0.127138,
     "end_time": "2022-04-25T11:08:41.393828",
     "exception": false,
     "start_time": "2022-04-25T11:08:41.266690",
     "status": "completed"
    },
    "tags": []
   },
   "source": [
    "The sequence of steps we described earlier starts by picking some random value for a parameter, and calculating the value of the loss:"
   ]
  },
  {
   "cell_type": "code",
   "execution_count": 14,
   "id": "26890f57",
   "metadata": {
    "execution": {
     "iopub.execute_input": "2022-04-25T11:08:41.657355Z",
     "iopub.status.busy": "2022-04-25T11:08:41.656436Z",
     "iopub.status.idle": "2022-04-25T11:08:41.891095Z",
     "shell.execute_reply": "2022-04-25T11:08:41.891537Z",
     "shell.execute_reply.started": "2022-04-15T07:04:22.587562Z"
    },
    "papermill": {
     "duration": 0.369903,
     "end_time": "2022-04-25T11:08:41.891697",
     "exception": false,
     "start_time": "2022-04-25T11:08:41.521794",
     "status": "completed"
    },
    "tags": []
   },
   "outputs": [
    {
     "data": {
      "image/png": "[encoded data removed]",
      "text/plain": [
       "<Figure size 432x288 with 1 Axes>"
      ]
     },
     "metadata": {
      "needs_background": "light"
     },
     "output_type": "display_data"
    }
   ],
   "source": [
    "plot_function(f, 'x', 'x**2')\n",
    "plt.scatter(-1.5, f(-1.5), color='red');"
   ]
  },
  {
   "cell_type": "markdown",
   "id": "0540cf45",
   "metadata": {
    "papermill": {
     "duration": 0.127827,
     "end_time": "2022-04-25T11:08:42.149920",
     "exception": false,
     "start_time": "2022-04-25T11:08:42.022093",
     "status": "completed"
    },
    "tags": []
   },
   "source": [
    "Now we look to see what would happen if we increased or decreased our parameter by a little bit—the *adjustment*. This is simply the slope at a particular point:\n",
    "\n",
    "<img alt=\"A graph showing the squared function with the slope at one point\" width=\"400\" src=\"https://raw.githubusercontent.com/fastai/fastbook/master/images/grad_illustration.svg\"/>\n",
    "\n",
    "We can change our weight by a little in the direction of the slope, calculate our loss and adjustment again, and repeat this a few times. Eventually, we will get to the lowest point on our curve:\n",
    "\n",
    "<img alt=\"An illustration of gradient descent\" width=\"400\" src=\"https://raw.githubusercontent.com/fastai/fastbook/master/images/chapter2_perfect.svg\"/>\n",
    "\n",
    "This basic idea goes all the way back to Isaac Newton, who pointed out that we can optimize arbitrary functions in this way. Regardless of how complicated our functions become, this basic approach of gradient descent will not significantly change. The only minor changes we will see later in this book are some handy ways we can make it faster, by finding better steps."
   ]
  },
  {
   "cell_type": "markdown",
   "id": "a6a3fae5",
   "metadata": {
    "papermill": {
     "duration": 0.127885,
     "end_time": "2022-04-25T11:08:42.406202",
     "exception": false,
     "start_time": "2022-04-25T11:08:42.278317",
     "status": "completed"
    },
    "tags": []
   },
   "source": [
    "### Calculating Gradients\n",
    "The one magic step is the bit where we calculate the gradients. As we mentioned, we use calculus as a performance optimization; it allows us to more quickly calculate whether our loss will go up or down when we adjust our parameters up or down. In other words, the gradients will tell us how much we have to change each weight to make our model better.\n",
    "\n",
    "You may remember from your high school calculus class that the *derivative* of a function tells you how much a change in its parameters will change its result.\n",
    "\n",
    "The key point about a derivative is this: for any function, such as the quadratic function we saw in the previous section, we can calculate its derivative. The derivative is another function. It calculates the change, rather than the value. For instance, the derivative of the quadratic function at the value 3 tells us how rapidly the function changes at the value 3. More specifically, you may recall that gradient is defined as *rise/run*, that is, the change in the value of the function, divided by the change in the value of the parameter. When we know how our function will change, then we know what we need to do to make it smaller. This is the key to machine learning: having a way to change the parameters of a function to make it smaller. Calculus provides us with a computational shortcut, the derivative, which lets us directly calculate the gradients of our functions.\n",
    "\n",
    "One important thing to be aware of is that our function has lots of weights that we need to adjust, so when we calculate the derivative we won't get back one number, but lots of them—a gradient for every weight. But there is nothing mathematically tricky here; you can calculate the derivative with respect to one weight, and treat all the other ones as constant, then repeat that for each other weight. This is how all of the gradients are calculated, for every weight.\n",
    "\n",
    "We mentioned just now that you won't have to calculate any gradients yourself. How can that be? Amazingly enough, PyTorch is able to automatically compute the derivative of nearly any function! What's more, it does it very fast. Most of the time, it will be at least as fast as any derivative function that you can create by hand. Let's see an example.\n",
    "\n",
    "First, let's pick a tensor value which we want gradients at:"
   ]
  },
  {
   "cell_type": "code",
   "execution_count": 15,
   "id": "fa1eff13",
   "metadata": {
    "execution": {
     "iopub.execute_input": "2022-04-25T11:08:42.668869Z",
     "iopub.status.busy": "2022-04-25T11:08:42.667956Z",
     "iopub.status.idle": "2022-04-25T11:08:42.673521Z",
     "shell.execute_reply": "2022-04-25T11:08:42.674026Z",
     "shell.execute_reply.started": "2022-04-15T07:04:22.851304Z"
    },
    "papermill": {
     "duration": 0.140091,
     "end_time": "2022-04-25T11:08:42.674186",
     "exception": false,
     "start_time": "2022-04-25T11:08:42.534095",
     "status": "completed"
    },
    "tags": []
   },
   "outputs": [],
   "source": [
    "xt = tensor(3.).requires_grad_()"
   ]
  },
  {
   "cell_type": "code",
   "execution_count": 16,
   "id": "488b73c2",
   "metadata": {
    "execution": {
     "iopub.execute_input": "2022-04-25T11:08:42.940295Z",
     "iopub.status.busy": "2022-04-25T11:08:42.939292Z",
     "iopub.status.idle": "2022-04-25T11:08:42.993511Z",
     "shell.execute_reply": "2022-04-25T11:08:42.994130Z",
     "shell.execute_reply.started": "2022-04-15T07:04:22.859075Z"
    },
    "papermill": {
     "duration": 0.189477,
     "end_time": "2022-04-25T11:08:42.994313",
     "exception": false,
     "start_time": "2022-04-25T11:08:42.804836",
     "status": "completed"
    },
    "tags": []
   },
   "outputs": [
    {
     "data": {
      "text/plain": [
       "tensor(3., requires_grad=True)"
      ]
     },
     "execution_count": 16,
     "metadata": {},
     "output_type": "execute_result"
    }
   ],
   "source": [
    "xt"
   ]
  },
  {
   "cell_type": "markdown",
   "id": "e3dee44a",
   "metadata": {
    "papermill": {
     "duration": 0.131736,
     "end_time": "2022-04-25T11:08:43.255460",
     "exception": false,
     "start_time": "2022-04-25T11:08:43.123724",
     "status": "completed"
    },
    "tags": []
   },
   "source": [
    "Notice the special method `requires_grad_`? That's the magical incantation we use to tell PyTorch that we want to calculate gradients with respect to that variable at that value. It is essentially tagging the variable, so PyTorch will remember to keep track of how to compute gradients of the other, direct calculations on it that you will ask for.\n",
    "\n",
    "> This API might throw you off if you're coming from math or physics. In those contexts the \"gradient\" of a function is just another function (i.e., its derivative), so you might expect gradient-related APIs to give you a new function. But in deep learning, \"gradients\" usually means the _value_ of a function's derivative at a particular argument value. The PyTorch API also puts the focus on the argument, not the function you're actually computing the gradients of. It may feel backwards at first, but it's just a different perspective.\n",
    "\n",
    "Now we calculate our function with that value. Notice how PyTorch prints not just the value calculated, but also a note that it has a gradient function it'll be using to calculate our gradients when needed:"
   ]
  },
  {
   "cell_type": "code",
   "execution_count": 17,
   "id": "388c77ab",
   "metadata": {
    "execution": {
     "iopub.execute_input": "2022-04-25T11:08:43.522316Z",
     "iopub.status.busy": "2022-04-25T11:08:43.521424Z",
     "iopub.status.idle": "2022-04-25T11:08:43.528756Z",
     "shell.execute_reply": "2022-04-25T11:08:43.529236Z",
     "shell.execute_reply.started": "2022-04-15T07:04:22.914667Z"
    },
    "papermill": {
     "duration": 0.139894,
     "end_time": "2022-04-25T11:08:43.529410",
     "exception": false,
     "start_time": "2022-04-25T11:08:43.389516",
     "status": "completed"
    },
    "tags": []
   },
   "outputs": [
    {
     "data": {
      "text/plain": [
       "tensor(9., grad_fn=<PowBackward0>)"
      ]
     },
     "execution_count": 17,
     "metadata": {},
     "output_type": "execute_result"
    }
   ],
   "source": [
    "yt = f(xt)\n",
    "yt"
   ]
  },
  {
   "cell_type": "markdown",
   "id": "1427a485",
   "metadata": {
    "papermill": {
     "duration": 0.129926,
     "end_time": "2022-04-25T11:08:43.788153",
     "exception": false,
     "start_time": "2022-04-25T11:08:43.658227",
     "status": "completed"
    },
    "tags": []
   },
   "source": [
    "Finally, we tell PyTorch to calculate the gradients for us:"
   ]
  },
  {
   "cell_type": "code",
   "execution_count": 18,
   "id": "c73ec3cb",
   "metadata": {
    "execution": {
     "iopub.execute_input": "2022-04-25T11:08:44.054864Z",
     "iopub.status.busy": "2022-04-25T11:08:44.054230Z",
     "iopub.status.idle": "2022-04-25T11:08:44.061937Z",
     "shell.execute_reply": "2022-04-25T11:08:44.062428Z",
     "shell.execute_reply.started": "2022-04-15T07:04:22.925637Z"
    },
    "papermill": {
     "duration": 0.14321,
     "end_time": "2022-04-25T11:08:44.062588",
     "exception": false,
     "start_time": "2022-04-25T11:08:43.919378",
     "status": "completed"
    },
    "tags": []
   },
   "outputs": [],
   "source": [
    "yt.backward()"
   ]
  },
  {
   "cell_type": "markdown",
   "id": "6b152564",
   "metadata": {
    "papermill": {
     "duration": 0.213132,
     "end_time": "2022-04-25T11:08:44.425361",
     "exception": false,
     "start_time": "2022-04-25T11:08:44.212229",
     "status": "completed"
    },
    "tags": []
   },
   "source": [
    "The \"backward\" here refers to *backpropagation*, which is the name given to the process of calculating the derivative of each layer. This is called the \"backward pass\" of the network, as opposed to the \"forward pass,\" which is where the activations are calculated. Life would probably be easier if `backward` was just called `calculate_grad`, but deep learning folks really do like to add jargon everywhere they can!\n",
    "\n",
    "We can now view the gradients by checking the `grad` attribute of our tensor:"
   ]
  },
  {
   "cell_type": "code",
   "execution_count": 19,
   "id": "cbafd062",
   "metadata": {
    "execution": {
     "iopub.execute_input": "2022-04-25T11:08:44.850567Z",
     "iopub.status.busy": "2022-04-25T11:08:44.848919Z",
     "iopub.status.idle": "2022-04-25T11:08:44.854133Z",
     "shell.execute_reply": "2022-04-25T11:08:44.851507Z",
     "shell.execute_reply.started": "2022-04-15T07:04:22.942659Z"
    },
    "papermill": {
     "duration": 0.24167,
     "end_time": "2022-04-25T11:08:44.854358",
     "exception": false,
     "start_time": "2022-04-25T11:08:44.612688",
     "status": "completed"
    },
    "tags": []
   },
   "outputs": [
    {
     "data": {
      "text/plain": [
       "tensor(6.)"
      ]
     },
     "execution_count": 19,
     "metadata": {},
     "output_type": "execute_result"
    }
   ],
   "source": [
    "xt.grad"
   ]
  },
  {
   "cell_type": "markdown",
   "id": "00b664da",
   "metadata": {
    "papermill": {
     "duration": 0.232497,
     "end_time": "2022-04-25T11:08:45.355813",
     "exception": false,
     "start_time": "2022-04-25T11:08:45.123316",
     "status": "completed"
    },
    "tags": []
   },
   "source": [
    "If you remember your high school calculus rules, the derivative of `x**2` is `2*x`, and we have `x=3`, so the gradients should be `2*3=6`, which is what PyTorch calculated for us!\n",
    "\n",
    "\n",
    "Now we'll repeat the preceding steps, but with a vector argument for our function:"
   ]
  },
  {
   "cell_type": "code",
   "execution_count": 20,
   "id": "d53b1f40",
   "metadata": {
    "execution": {
     "iopub.execute_input": "2022-04-25T11:08:45.715728Z",
     "iopub.status.busy": "2022-04-25T11:08:45.714485Z",
     "iopub.status.idle": "2022-04-25T11:08:45.719814Z",
     "shell.execute_reply": "2022-04-25T11:08:45.718947Z",
     "shell.execute_reply.started": "2022-04-15T07:04:22.953546Z"
    },
    "papermill": {
     "duration": 0.145413,
     "end_time": "2022-04-25T11:08:45.720102",
     "exception": false,
     "start_time": "2022-04-25T11:08:45.574689",
     "status": "completed"
    },
    "tags": []
   },
   "outputs": [
    {
     "data": {
      "text/plain": [
       "tensor([ 3.,  4., 10.], requires_grad=True)"
      ]
     },
     "execution_count": 20,
     "metadata": {},
     "output_type": "execute_result"
    }
   ],
   "source": [
    "xt = tensor([3.,4.,10.]).requires_grad_()\n",
    "xt"
   ]
  },
  {
   "cell_type": "markdown",
   "id": "5a49d57e",
   "metadata": {
    "papermill": {
     "duration": 0.143976,
     "end_time": "2022-04-25T11:08:46.043421",
     "exception": false,
     "start_time": "2022-04-25T11:08:45.899445",
     "status": "completed"
    },
    "tags": []
   },
   "source": [
    "And we'll add `sum` to our function so it can take a vector (i.e., a rank-1 tensor), and return a scalar (i.e., a rank-0 tensor):"
   ]
  },
  {
   "cell_type": "code",
   "execution_count": 21,
   "id": "4acef41f",
   "metadata": {
    "execution": {
     "iopub.execute_input": "2022-04-25T11:08:46.306345Z",
     "iopub.status.busy": "2022-04-25T11:08:46.305639Z",
     "iopub.status.idle": "2022-04-25T11:08:46.313472Z",
     "shell.execute_reply": "2022-04-25T11:08:46.313965Z",
     "shell.execute_reply.started": "2022-04-15T07:04:22.965054Z"
    },
    "papermill": {
     "duration": 0.140897,
     "end_time": "2022-04-25T11:08:46.314133",
     "exception": false,
     "start_time": "2022-04-25T11:08:46.173236",
     "status": "completed"
    },
    "tags": []
   },
   "outputs": [
    {
     "data": {
      "text/plain": [
       "tensor(125., grad_fn=<SumBackward0>)"
      ]
     },
     "execution_count": 21,
     "metadata": {},
     "output_type": "execute_result"
    }
   ],
   "source": [
    "def f(x): \n",
    "    return (x**2).sum()\n",
    "\n",
    "yt = f(xt)\n",
    "yt"
   ]
  },
  {
   "cell_type": "markdown",
   "id": "0c91c1d4",
   "metadata": {
    "papermill": {
     "duration": 0.130923,
     "end_time": "2022-04-25T11:08:46.575328",
     "exception": false,
     "start_time": "2022-04-25T11:08:46.444405",
     "status": "completed"
    },
    "tags": []
   },
   "source": [
    "Our gradients are `2*xt`, as we'd expect!"
   ]
  },
  {
   "cell_type": "code",
   "execution_count": 22,
   "id": "2d6a3e6a",
   "metadata": {
    "execution": {
     "iopub.execute_input": "2022-04-25T11:08:46.840573Z",
     "iopub.status.busy": "2022-04-25T11:08:46.839969Z",
     "iopub.status.idle": "2022-04-25T11:08:46.847961Z",
     "shell.execute_reply": "2022-04-25T11:08:46.847382Z",
     "shell.execute_reply.started": "2022-04-15T07:04:22.980429Z"
    },
    "papermill": {
     "duration": 0.142887,
     "end_time": "2022-04-25T11:08:46.848093",
     "exception": false,
     "start_time": "2022-04-25T11:08:46.705206",
     "status": "completed"
    },
    "tags": []
   },
   "outputs": [
    {
     "data": {
      "text/plain": [
       "tensor([ 6.,  8., 20.])"
      ]
     },
     "execution_count": 22,
     "metadata": {},
     "output_type": "execute_result"
    }
   ],
   "source": [
    "yt.backward()\n",
    "xt.grad"
   ]
  },
  {
   "cell_type": "markdown",
   "id": "103bf3a6",
   "metadata": {
    "papermill": {
     "duration": 0.131631,
     "end_time": "2022-04-25T11:08:47.109633",
     "exception": false,
     "start_time": "2022-04-25T11:08:46.978002",
     "status": "completed"
    },
    "tags": []
   },
   "source": [
    "The gradients only tell us the slope of our function, they don't actually tell us exactly how far to adjust the parameters. But it gives us some idea of how far; if the slope is very large, then that may suggest that we have more adjustments to do, whereas if the slope is very small, that may suggest that we are close to the optimal value.\n",
    "\n",
    "### Stepping With a Learning Rate\n",
    "\n",
    "Deciding how to change our parameters based on the values of the gradients is an important part of the deep learning process. Nearly all approaches start with the basic idea of multiplying the gradient by some small number, called the *learning rate* (LR). The learning rate is often a number between 0.001 and 0.1, although it could be anything. Often, people select a learning rate just by trying a few, and finding which results in the best model after training (we'll show you a better approach later, called the *learning rate finder*). Once you've picked a learning rate, you can adjust your parameters using this simple function:\n",
    "\n",
    "```\n",
    "w -= gradient(w) * lr\n",
    "```\n",
    "\n",
    "This is known as *stepping* your parameters, using an *optimizer step*. Notice how we _subtract_ the `gradient * lr` from the parameter to update it.  This allows us to adjust the parameter in the direction of the slope by increasing the parameter when the slope is negative and decreasing the parameter when the slope is positive.  We want to adjust our parameters in the direction of the slope because our goal in deep learning is to _minimize_ the loss.\n",
    "\n",
    "If you pick a learning rate that's too low, it can mean having to do a lot of steps. The figure below illustrates that.\n",
    "\n",
    "<img alt=\"An illustration of gradient descent with a LR too low\" width=\"400\" caption=\"Gradient descent with low LR\" src=\"https://raw.githubusercontent.com/fastai/fastbook/master/images/chapter2_small.svg\" id=\"descent_small\"/>\n",
    "\n",
    "But picking a learning rate that's too high is even worse—it can actually result in the loss getting *worse*, as we see below\n",
    "\n",
    "<img alt=\"An illustration of gradient descent with a LR too high\" width=\"400\" caption=\"Gradient descent with high LR\" src=\"https://raw.githubusercontent.com/fastai/fastbook/master/images/chapter2_div.svg\" id=\"descent_div\"/>\n",
    "\n",
    "If the learning rate is too high, it may also \"bounce\" around, rather than actually diverging; The image below shows how this has the result of taking many steps to train successfully.\n",
    "\n",
    "<img alt=\"An illustation of gradient descent with a bouncy LR\" width=\"400\" caption=\"Gradient descent with bouncy LR\" src=\"https://raw.githubusercontent.com/fastai/fastbook/master/images/chapter2_bouncy.svg\" id=\"descent_bouncy\"/>\n",
    "\n",
    "Now let's apply all of this in an end-to-end example."
   ]
  },
  {
   "cell_type": "markdown",
   "id": "b27067ce",
   "metadata": {
    "papermill": {
     "duration": 0.142069,
     "end_time": "2022-04-25T11:08:47.382767",
     "exception": false,
     "start_time": "2022-04-25T11:08:47.240698",
     "status": "completed"
    },
    "tags": []
   },
   "source": [
    "### An End-to-End SGD Example\n",
    "\n",
    "We've seen how to use gradients to find a minimum. Now it's time to look at an SGD example and see how finding a minimum can be used to train a model to fit data better.\n",
    "\n",
    "Let's start with a simple, synthetic, example model. Imagine you were measuring the speed of a roller coaster as it went over the top of a hump. It would start fast, and then get slower as it went up the hill; it would be slowest at the top, and it would then speed up again as it went downhill. You want to build a model of how the speed changes over time. If you were measuring the speed manually every second for 20 seconds, it might look something like this:"
   ]
  },
  {
   "cell_type": "code",
   "execution_count": 23,
   "id": "6e042c5a",
   "metadata": {
    "execution": {
     "iopub.execute_input": "2022-04-25T11:08:47.649966Z",
     "iopub.status.busy": "2022-04-25T11:08:47.649056Z",
     "iopub.status.idle": "2022-04-25T11:08:47.656281Z",
     "shell.execute_reply": "2022-04-25T11:08:47.656726Z",
     "shell.execute_reply.started": "2022-04-15T07:04:22.991637Z"
    },
    "papermill": {
     "duration": 0.142743,
     "end_time": "2022-04-25T11:08:47.656916",
     "exception": false,
     "start_time": "2022-04-25T11:08:47.514173",
     "status": "completed"
    },
    "tags": []
   },
   "outputs": [
    {
     "data": {
      "text/plain": [
       "tensor([ 0.,  1.,  2.,  3.,  4.,  5.,  6.,  7.,  8.,  9., 10., 11., 12., 13., 14., 15., 16., 17., 18., 19.])"
      ]
     },
     "execution_count": 23,
     "metadata": {},
     "output_type": "execute_result"
    }
   ],
   "source": [
    "time = torch.arange(0,20).float(); time"
   ]
  },
  {
   "cell_type": "code",
   "execution_count": 24,
   "id": "2f2e77ca",
   "metadata": {
    "execution": {
     "iopub.execute_input": "2022-04-25T11:08:47.927337Z",
     "iopub.status.busy": "2022-04-25T11:08:47.926374Z",
     "iopub.status.idle": "2022-04-25T11:08:48.136280Z",
     "shell.execute_reply": "2022-04-25T11:08:48.136701Z",
     "shell.execute_reply.started": "2022-04-15T07:04:23.004984Z"
    },
    "papermill": {
     "duration": 0.345185,
     "end_time": "2022-04-25T11:08:48.136886",
     "exception": false,
     "start_time": "2022-04-25T11:08:47.791701",
     "status": "completed"
    },
    "tags": []
   },
   "outputs": [
    {
     "data": {
      "image/png": "[encoded data removed]",
      "text/plain": [
       "<Figure size 432x288 with 1 Axes>"
      ]
     },
     "metadata": {
      "needs_background": "light"
     },
     "output_type": "display_data"
    }
   ],
   "source": [
    "speed = torch.randn(20)*3 + 0.75*(time-9.5)**2 + 1\n",
    "plt.scatter(time,speed);"
   ]
  },
  {
   "cell_type": "markdown",
   "id": "14ad8abc",
   "metadata": {
    "papermill": {
     "duration": 0.129768,
     "end_time": "2022-04-25T11:08:48.397580",
     "exception": false,
     "start_time": "2022-04-25T11:08:48.267812",
     "status": "completed"
    },
    "tags": []
   },
   "source": [
    "We've added a bit of random noise, since measuring things manually isn't precise. This means it's not that easy to answer the question: what was the roller coaster's speed? Using SGD we can try to find a function that matches our observations. We can't consider every possible function, so let's use a guess that it will be quadratic; i.e., a function of the form `a*(time**2)+(b*time)+c`.\n",
    "\n",
    "We want to distinguish clearly between the function's input (the time when we are measuring the coaster's speed) and its parameters (the values that define *which* quadratic we're trying). So, let's collect the parameters in one argument and thus separate the input, `t`, and the parameters, `params`, in the function's signature: "
   ]
  },
  {
   "cell_type": "code",
   "execution_count": 25,
   "id": "03428e28",
   "metadata": {
    "execution": {
     "iopub.execute_input": "2022-04-25T11:08:48.660938Z",
     "iopub.status.busy": "2022-04-25T11:08:48.660034Z",
     "iopub.status.idle": "2022-04-25T11:08:48.663733Z",
     "shell.execute_reply": "2022-04-25T11:08:48.664216Z",
     "shell.execute_reply.started": "2022-04-15T07:04:23.244925Z"
    },
    "papermill": {
     "duration": 0.136298,
     "end_time": "2022-04-25T11:08:48.664376",
     "exception": false,
     "start_time": "2022-04-25T11:08:48.528078",
     "status": "completed"
    },
    "tags": []
   },
   "outputs": [],
   "source": [
    "def f(t, params):\n",
    "    a,b,c = params\n",
    "    return a*(t**2) + (b*t) + c"
   ]
  },
  {
   "cell_type": "markdown",
   "id": "ee9dc6f4",
   "metadata": {
    "papermill": {
     "duration": 0.130104,
     "end_time": "2022-04-25T11:08:48.925832",
     "exception": false,
     "start_time": "2022-04-25T11:08:48.795728",
     "status": "completed"
    },
    "tags": []
   },
   "source": [
    "In other words, we've restricted the problem of finding the best imaginable function that fits the data, to finding the best *quadratic* function. This greatly simplifies the problem, since every quadratic function is fully defined by the three parameters `a`, `b`, and `c`. Thus, to find the best quadratic function, we only need to find the best values for `a`, `b`, and `c`.\n",
    "\n",
    "If we can solve this problem for the three parameters of a quadratic function, we'll be able to apply the same approach for other, more complex functions with more parameters—such as a neural net. Let's find the parameters for `f` first, and then we'll come back and do the same thing for the MNIST dataset with a neural net.\n",
    "\n",
    "We need to define first what we mean by \"best.\" We define this precisely by choosing a *loss function*, which will return a value based on a prediction and a target, where lower values of the function correspond to \"better\" predictions. It is important for loss functions to return _lower_ values when predictions are more accurate, as the SGD procedure we defined earlier will try to _minimize_ this loss. For continuous data, it's common to use *mean squared error*:"
   ]
  },
  {
   "cell_type": "code",
   "execution_count": 26,
   "id": "65bfc6a4",
   "metadata": {
    "execution": {
     "iopub.execute_input": "2022-04-25T11:08:49.192378Z",
     "iopub.status.busy": "2022-04-25T11:08:49.191422Z",
     "iopub.status.idle": "2022-04-25T11:08:49.195374Z",
     "shell.execute_reply": "2022-04-25T11:08:49.195779Z",
     "shell.execute_reply.started": "2022-04-15T07:04:23.252629Z"
    },
    "papermill": {
     "duration": 0.138173,
     "end_time": "2022-04-25T11:08:49.195976",
     "exception": false,
     "start_time": "2022-04-25T11:08:49.057803",
     "status": "completed"
    },
    "tags": []
   },
   "outputs": [],
   "source": [
    "def mse(preds, targets): \n",
    "    return ((preds-targets)**2).mean()"
   ]
  },
  {
   "cell_type": "markdown",
   "id": "d798b1bc",
   "metadata": {
    "papermill": {
     "duration": 0.138079,
     "end_time": "2022-04-25T11:08:49.465439",
     "exception": false,
     "start_time": "2022-04-25T11:08:49.327360",
     "status": "completed"
    },
    "tags": []
   },
   "source": [
    "Now, let's work through our 7 step process.\n",
    "\n",
    "#### Step 1: Initialize the parameters\n",
    "\n",
    "First, we initialize the parameters to random values, and tell PyTorch that we want to track their gradients, using `requires_grad_`:"
   ]
  },
  {
   "cell_type": "code",
   "execution_count": 27,
   "id": "a1c1312d",
   "metadata": {
    "execution": {
     "iopub.execute_input": "2022-04-25T11:08:49.732650Z",
     "iopub.status.busy": "2022-04-25T11:08:49.731749Z",
     "iopub.status.idle": "2022-04-25T11:08:49.735251Z",
     "shell.execute_reply": "2022-04-25T11:08:49.735691Z",
     "shell.execute_reply.started": "2022-04-15T07:04:23.263058Z"
    },
    "papermill": {
     "duration": 0.139331,
     "end_time": "2022-04-25T11:08:49.735879",
     "exception": false,
     "start_time": "2022-04-25T11:08:49.596548",
     "status": "completed"
    },
    "tags": []
   },
   "outputs": [],
   "source": [
    "params = torch.randn(3).requires_grad_()"
   ]
  },
  {
   "cell_type": "code",
   "execution_count": 28,
   "id": "19d6bec0",
   "metadata": {
    "execution": {
     "iopub.execute_input": "2022-04-25T11:08:50.063986Z",
     "iopub.status.busy": "2022-04-25T11:08:50.063352Z",
     "iopub.status.idle": "2022-04-25T11:08:50.067257Z",
     "shell.execute_reply": "2022-04-25T11:08:50.066695Z",
     "shell.execute_reply.started": "2022-04-15T07:04:23.278888Z"
    },
    "papermill": {
     "duration": 0.197991,
     "end_time": "2022-04-25T11:08:50.067396",
     "exception": false,
     "start_time": "2022-04-25T11:08:49.869405",
     "status": "completed"
    },
    "tags": []
   },
   "outputs": [],
   "source": [
    "# saving the params to make a plot later, you can ignore this\n",
    "orig_params = params.clone()"
   ]
  },
  {
   "cell_type": "markdown",
   "id": "334bbeaa",
   "metadata": {
    "papermill": {
     "duration": 0.13357,
     "end_time": "2022-04-25T11:08:50.333355",
     "exception": false,
     "start_time": "2022-04-25T11:08:50.199785",
     "status": "completed"
    },
    "tags": []
   },
   "source": [
    "#### Step 2: Calculate the predictions\n",
    "Next, we calculate the predictions:"
   ]
  },
  {
   "cell_type": "code",
   "execution_count": 29,
   "id": "70184682",
   "metadata": {
    "execution": {
     "iopub.execute_input": "2022-04-25T11:08:50.611799Z",
     "iopub.status.busy": "2022-04-25T11:08:50.611204Z",
     "iopub.status.idle": "2022-04-25T11:08:50.614897Z",
     "shell.execute_reply": "2022-04-25T11:08:50.615508Z",
     "shell.execute_reply.started": "2022-04-15T07:04:23.289114Z"
    },
    "papermill": {
     "duration": 0.146706,
     "end_time": "2022-04-25T11:08:50.615683",
     "exception": false,
     "start_time": "2022-04-25T11:08:50.468977",
     "status": "completed"
    },
    "tags": []
   },
   "outputs": [],
   "source": [
    "preds = f(time, params)"
   ]
  },
  {
   "cell_type": "markdown",
   "id": "c14a4540",
   "metadata": {
    "papermill": {
     "duration": 0.132643,
     "end_time": "2022-04-25T11:08:50.883550",
     "exception": false,
     "start_time": "2022-04-25T11:08:50.750907",
     "status": "completed"
    },
    "tags": []
   },
   "source": [
    "Let's create a little function to see how close our predictions are to our targets, and take a look:"
   ]
  },
  {
   "cell_type": "code",
   "execution_count": 30,
   "id": "4f33bfe7",
   "metadata": {
    "execution": {
     "iopub.execute_input": "2022-04-25T11:08:51.158556Z",
     "iopub.status.busy": "2022-04-25T11:08:51.157640Z",
     "iopub.status.idle": "2022-04-25T11:08:51.162260Z",
     "shell.execute_reply": "2022-04-25T11:08:51.162749Z",
     "shell.execute_reply.started": "2022-04-15T07:04:23.301838Z"
    },
    "papermill": {
     "duration": 0.144632,
     "end_time": "2022-04-25T11:08:51.162939",
     "exception": false,
     "start_time": "2022-04-25T11:08:51.018307",
     "status": "completed"
    },
    "tags": []
   },
   "outputs": [],
   "source": [
    "def show_preds(preds, ax=None):\n",
    "    if ax is None: ax=plt.subplots()[1]\n",
    "    ax.scatter(time, speed)\n",
    "    ax.scatter(time, to_np(preds), color='red')\n",
    "    ax.set_ylim(-300,100)"
   ]
  },
  {
   "cell_type": "code",
   "execution_count": 31,
   "id": "e561f52d",
   "metadata": {
    "execution": {
     "iopub.execute_input": "2022-04-25T11:08:51.435100Z",
     "iopub.status.busy": "2022-04-25T11:08:51.434167Z",
     "iopub.status.idle": "2022-04-25T11:08:51.608979Z",
     "shell.execute_reply": "2022-04-25T11:08:51.608387Z",
     "shell.execute_reply.started": "2022-04-15T07:04:23.315071Z"
    },
    "papermill": {
     "duration": 0.314617,
     "end_time": "2022-04-25T11:08:51.609115",
     "exception": false,
     "start_time": "2022-04-25T11:08:51.294498",
     "status": "completed"
    },
    "tags": []
   },
   "outputs": [
    {
     "data": {
      "image/png": "[encoded data removed]",
      "text/plain": [
       "<Figure size 432x288 with 1 Axes>"
      ]
     },
     "metadata": {
      "needs_background": "light"
     },
     "output_type": "display_data"
    }
   ],
   "source": [
    "show_preds(preds)"
   ]
  },
  {
   "cell_type": "markdown",
   "id": "46e44673",
   "metadata": {
    "papermill": {
     "duration": 0.134538,
     "end_time": "2022-04-25T11:08:51.877676",
     "exception": false,
     "start_time": "2022-04-25T11:08:51.743138",
     "status": "completed"
    },
    "tags": []
   },
   "source": [
    "This doesn't look very close—our random parameters suggest that the roller coaster will end up going backwards, since we have negative speeds!\n",
    "\n",
    "#### Step 3: Calculate the loss\n",
    "We calculate the loss as follows:"
   ]
  },
  {
   "cell_type": "code",
   "execution_count": 32,
   "id": "3e2a2779",
   "metadata": {
    "execution": {
     "iopub.execute_input": "2022-04-25T11:08:52.154132Z",
     "iopub.status.busy": "2022-04-25T11:08:52.153201Z",
     "iopub.status.idle": "2022-04-25T11:08:52.164000Z",
     "shell.execute_reply": "2022-04-25T11:08:52.163519Z",
     "shell.execute_reply.started": "2022-04-15T07:04:23.561026Z"
    },
    "papermill": {
     "duration": 0.149408,
     "end_time": "2022-04-25T11:08:52.164142",
     "exception": false,
     "start_time": "2022-04-25T11:08:52.014734",
     "status": "completed"
    },
    "tags": []
   },
   "outputs": [
    {
     "data": {
      "text/plain": [
       "tensor(25823.8086, grad_fn=<MeanBackward0>)"
      ]
     },
     "execution_count": 32,
     "metadata": {},
     "output_type": "execute_result"
    }
   ],
   "source": [
    "loss = mse(preds, speed)\n",
    "loss"
   ]
  },
  {
   "cell_type": "markdown",
   "id": "32789b84",
   "metadata": {
    "papermill": {
     "duration": 0.134928,
     "end_time": "2022-04-25T11:08:52.432440",
     "exception": false,
     "start_time": "2022-04-25T11:08:52.297512",
     "status": "completed"
    },
    "tags": []
   },
   "source": [
    "Our goal is now to improve this. To do that, we'll need to know the gradients.\n",
    "#### Step 4: Calculate the gradients\n",
    "The next step is to calculate the gradients. In other words, calculate an approximation of how the parameters need to change:"
   ]
  },
  {
   "cell_type": "code",
   "execution_count": 33,
   "id": "8a86a0e4",
   "metadata": {
    "execution": {
     "iopub.execute_input": "2022-04-25T11:08:52.707655Z",
     "iopub.status.busy": "2022-04-25T11:08:52.706687Z",
     "iopub.status.idle": "2022-04-25T11:08:52.716436Z",
     "shell.execute_reply": "2022-04-25T11:08:52.715833Z",
     "shell.execute_reply.started": "2022-04-15T07:04:23.575266Z"
    },
    "papermill": {
     "duration": 0.150639,
     "end_time": "2022-04-25T11:08:52.716578",
     "exception": false,
     "start_time": "2022-04-25T11:08:52.565939",
     "status": "completed"
    },
    "tags": []
   },
   "outputs": [
    {
     "data": {
      "text/plain": [
       "tensor([-53195.8633,  -3419.7148,   -253.8908])"
      ]
     },
     "execution_count": 33,
     "metadata": {},
     "output_type": "execute_result"
    }
   ],
   "source": [
    "loss.backward()\n",
    "params.grad"
   ]
  },
  {
   "cell_type": "markdown",
   "id": "c0865800",
   "metadata": {
    "papermill": {
     "duration": 0.133272,
     "end_time": "2022-04-25T11:08:52.986903",
     "exception": false,
     "start_time": "2022-04-25T11:08:52.853631",
     "status": "completed"
    },
    "tags": []
   },
   "source": [
    "We can use these gradients to improve our parameters. We'll need to pick a learning rate (we'll discuss how to do that in practice in the next chapter; for now we'll just use 1e-5, or 0.00001):"
   ]
  },
  {
   "cell_type": "code",
   "execution_count": 34,
   "id": "2a8a64fa",
   "metadata": {
    "execution": {
     "iopub.execute_input": "2022-04-25T11:08:53.257793Z",
     "iopub.status.busy": "2022-04-25T11:08:53.257250Z",
     "iopub.status.idle": "2022-04-25T11:08:53.261694Z",
     "shell.execute_reply": "2022-04-25T11:08:53.262169Z",
     "shell.execute_reply.started": "2022-04-15T07:04:23.589502Z"
    },
    "papermill": {
     "duration": 0.140618,
     "end_time": "2022-04-25T11:08:53.262330",
     "exception": false,
     "start_time": "2022-04-25T11:08:53.121712",
     "status": "completed"
    },
    "tags": []
   },
   "outputs": [
    {
     "data": {
      "text/plain": [
       "tensor([-0.5320, -0.0342, -0.0025])"
      ]
     },
     "execution_count": 34,
     "metadata": {},
     "output_type": "execute_result"
    }
   ],
   "source": [
    "params.grad * 1e-5"
   ]
  },
  {
   "cell_type": "code",
   "execution_count": 35,
   "id": "ba6fcab9",
   "metadata": {
    "execution": {
     "iopub.execute_input": "2022-04-25T11:08:53.532427Z",
     "iopub.status.busy": "2022-04-25T11:08:53.531545Z",
     "iopub.status.idle": "2022-04-25T11:08:53.536801Z",
     "shell.execute_reply": "2022-04-25T11:08:53.537379Z",
     "shell.execute_reply.started": "2022-04-15T07:04:23.599361Z"
    },
    "papermill": {
     "duration": 0.142884,
     "end_time": "2022-04-25T11:08:53.537540",
     "exception": false,
     "start_time": "2022-04-25T11:08:53.394656",
     "status": "completed"
    },
    "tags": []
   },
   "outputs": [
    {
     "data": {
      "text/plain": [
       "tensor([-0.7658, -0.7506,  1.3525], requires_grad=True)"
      ]
     },
     "execution_count": 35,
     "metadata": {},
     "output_type": "execute_result"
    }
   ],
   "source": [
    "params"
   ]
  },
  {
   "cell_type": "markdown",
   "id": "25ebaa89",
   "metadata": {
    "papermill": {
     "duration": 0.139049,
     "end_time": "2022-04-25T11:08:53.810645",
     "exception": false,
     "start_time": "2022-04-25T11:08:53.671596",
     "status": "completed"
    },
    "tags": []
   },
   "source": [
    "#### Step 5: Step the weights.\n",
    "\n",
    "Now we need to update the parameters based on the gradients we just calculated:\n"
   ]
  },
  {
   "cell_type": "code",
   "execution_count": 36,
   "id": "72e6d9c9",
   "metadata": {
    "execution": {
     "iopub.execute_input": "2022-04-25T11:08:54.087627Z",
     "iopub.status.busy": "2022-04-25T11:08:54.085344Z",
     "iopub.status.idle": "2022-04-25T11:08:54.089451Z",
     "shell.execute_reply": "2022-04-25T11:08:54.090092Z",
     "shell.execute_reply.started": "2022-04-15T07:10:15.747439Z"
    },
    "papermill": {
     "duration": 0.14542,
     "end_time": "2022-04-25T11:08:54.090255",
     "exception": false,
     "start_time": "2022-04-25T11:08:53.944835",
     "status": "completed"
    },
    "tags": []
   },
   "outputs": [],
   "source": [
    "lr = 1e-5\n",
    "params.data -= lr * params.grad.data\n",
    "params.grad = None"
   ]
  },
  {
   "cell_type": "markdown",
   "id": "5b08144b",
   "metadata": {
    "papermill": {
     "duration": 0.133514,
     "end_time": "2022-04-25T11:08:54.356553",
     "exception": false,
     "start_time": "2022-04-25T11:08:54.223039",
     "status": "completed"
    },
    "tags": []
   },
   "source": [
    "So now we compute the new parameters as the actual parameters minus the learning rate times the gradient. Here we added a special part: `.data`, which if you use it the gradient is not calculated. We don't want to calculate the gradient of the actual step that we do, we only want to compute it on the function `f`. After that delete the gradients that we already have (to be able to compute new for the next step).\n",
    "\n",
    "Understanding this bit depends on remembering recent history. To calculate the gradients we call `backward` on the `loss`. But this `loss` was itself calculated by `mse`, which in turn took `preds` as an input, which was calculated using `f` taking as an input `params`, which was the object on which we originally called `required_grads_`—which is the original call that now allows us to call `backward` on `loss`. This chain of function calls represents the mathematical composition of functions, which enables PyTorch to use calculus's chain rule under the hood to calculate these gradients.\n",
    "\n",
    "Let's see if the loss has improved:"
   ]
  },
  {
   "cell_type": "code",
   "execution_count": 37,
   "id": "86683b5a",
   "metadata": {
    "execution": {
     "iopub.execute_input": "2022-04-25T11:08:54.626465Z",
     "iopub.status.busy": "2022-04-25T11:08:54.625543Z",
     "iopub.status.idle": "2022-04-25T11:08:54.631764Z",
     "shell.execute_reply": "2022-04-25T11:08:54.632286Z",
     "shell.execute_reply.started": "2022-04-15T07:10:17.329599Z"
    },
    "papermill": {
     "duration": 0.143709,
     "end_time": "2022-04-25T11:08:54.632452",
     "exception": false,
     "start_time": "2022-04-25T11:08:54.488743",
     "status": "completed"
    },
    "tags": []
   },
   "outputs": [
    {
     "data": {
      "text/plain": [
       "tensor(5435.5356, grad_fn=<MeanBackward0>)"
      ]
     },
     "execution_count": 37,
     "metadata": {},
     "output_type": "execute_result"
    }
   ],
   "source": [
    "preds = f(time,params)\n",
    "mse(preds, speed)"
   ]
  },
  {
   "cell_type": "markdown",
   "id": "c1c0c6e9",
   "metadata": {
    "papermill": {
     "duration": 0.135308,
     "end_time": "2022-04-25T11:08:54.901944",
     "exception": false,
     "start_time": "2022-04-25T11:08:54.766636",
     "status": "completed"
    },
    "tags": []
   },
   "source": [
    "And take a look at the plot:"
   ]
  },
  {
   "cell_type": "code",
   "execution_count": 38,
   "id": "54ec6cdb",
   "metadata": {
    "execution": {
     "iopub.execute_input": "2022-04-25T11:08:55.179547Z",
     "iopub.status.busy": "2022-04-25T11:08:55.178549Z",
     "iopub.status.idle": "2022-04-25T11:08:55.348763Z",
     "shell.execute_reply": "2022-04-25T11:08:55.348176Z",
     "shell.execute_reply.started": "2022-04-15T07:10:19.677557Z"
    },
    "papermill": {
     "duration": 0.311523,
     "end_time": "2022-04-25T11:08:55.348937",
     "exception": false,
     "start_time": "2022-04-25T11:08:55.037414",
     "status": "completed"
    },
    "tags": []
   },
   "outputs": [
    {
     "data": {
      "image/png": "[encoded data removed]",
      "text/plain": [
       "<Figure size 432x288 with 1 Axes>"
      ]
     },
     "metadata": {
      "needs_background": "light"
     },
     "output_type": "display_data"
    }
   ],
   "source": [
    "show_preds(preds)"
   ]
  },
  {
   "cell_type": "markdown",
   "id": "73b3a873",
   "metadata": {
    "papermill": {
     "duration": 0.136932,
     "end_time": "2022-04-25T11:08:55.624760",
     "exception": false,
     "start_time": "2022-04-25T11:08:55.487828",
     "status": "completed"
    },
    "tags": []
   },
   "source": [
    "We need to repeat this a few times, so we'll create a function to apply one step:"
   ]
  },
  {
   "cell_type": "code",
   "execution_count": 39,
   "id": "363e9302",
   "metadata": {
    "execution": {
     "iopub.execute_input": "2022-04-25T11:08:55.913130Z",
     "iopub.status.busy": "2022-04-25T11:08:55.912344Z",
     "iopub.status.idle": "2022-04-25T11:08:55.914723Z",
     "shell.execute_reply": "2022-04-25T11:08:55.914292Z",
     "shell.execute_reply.started": "2022-04-15T07:10:24.152025Z"
    },
    "papermill": {
     "duration": 0.150655,
     "end_time": "2022-04-25T11:08:55.914884",
     "exception": false,
     "start_time": "2022-04-25T11:08:55.764229",
     "status": "completed"
    },
    "tags": []
   },
   "outputs": [],
   "source": [
    "def apply_step(params, prn=True):\n",
    "    preds = f(time, params)\n",
    "    loss = mse(preds, speed)\n",
    "    loss.backward()\n",
    "    params.data -= lr * params.grad.data\n",
    "    params.grad = None\n",
    "    if prn: print(loss.item())\n",
    "    return preds"
   ]
  },
  {
   "cell_type": "markdown",
   "id": "6b7f95a9",
   "metadata": {
    "papermill": {
     "duration": 0.139337,
     "end_time": "2022-04-25T11:08:56.193833",
     "exception": false,
     "start_time": "2022-04-25T11:08:56.054496",
     "status": "completed"
    },
    "tags": []
   },
   "source": [
    "#### Step 6: Repeat the process \n",
    "\n",
    "Now we iterate. By looping and performing many improvements, we hope to reach a good result:"
   ]
  },
  {
   "cell_type": "code",
   "execution_count": 40,
   "id": "f077fb69",
   "metadata": {
    "execution": {
     "iopub.execute_input": "2022-04-25T11:08:56.495804Z",
     "iopub.status.busy": "2022-04-25T11:08:56.495205Z",
     "iopub.status.idle": "2022-04-25T11:08:56.505580Z",
     "shell.execute_reply": "2022-04-25T11:08:56.504969Z",
     "shell.execute_reply.started": "2022-04-15T07:10:25.635522Z"
    },
    "papermill": {
     "duration": 0.175916,
     "end_time": "2022-04-25T11:08:56.505715",
     "exception": false,
     "start_time": "2022-04-25T11:08:56.329799",
     "status": "completed"
    },
    "tags": []
   },
   "outputs": [
    {
     "name": "stdout",
     "output_type": "stream",
     "text": [
      "5435.53564453125\n",
      "1577.44921875\n",
      "847.3778076171875\n",
      "709.2225341796875\n",
      "683.0758056640625\n",
      "678.1243896484375\n",
      "677.1838989257812\n",
      "677.0023803710938\n",
      "676.9645385742188\n",
      "676.9537353515625\n"
     ]
    }
   ],
   "source": [
    "for i in range(10): apply_step(params)"
   ]
  },
  {
   "cell_type": "code",
   "execution_count": 41,
   "id": "cb50bb6d",
   "metadata": {
    "execution": {
     "iopub.execute_input": "2022-04-25T11:08:56.785804Z",
     "iopub.status.busy": "2022-04-25T11:08:56.785216Z",
     "iopub.status.idle": "2022-04-25T11:08:56.790654Z",
     "shell.execute_reply": "2022-04-25T11:08:56.790077Z",
     "shell.execute_reply.started": "2022-04-15T07:10:26.446474Z"
    },
    "papermill": {
     "duration": 0.146957,
     "end_time": "2022-04-25T11:08:56.790786",
     "exception": false,
     "start_time": "2022-04-25T11:08:56.643829",
     "status": "completed"
    },
    "tags": []
   },
   "outputs": [],
   "source": [
    "params = orig_params.detach().requires_grad_()"
   ]
  },
  {
   "cell_type": "markdown",
   "id": "0fa8315f",
   "metadata": {
    "papermill": {
     "duration": 0.138776,
     "end_time": "2022-04-25T11:08:57.066014",
     "exception": false,
     "start_time": "2022-04-25T11:08:56.927238",
     "status": "completed"
    },
    "tags": []
   },
   "source": [
    "The loss is going down, just as we hoped! But looking only at these loss numbers disguises the fact that each iteration represents an entirely different quadratic function being tried, on the way to finding the best possible quadratic function. We can see this process visually if, instead of printing out the loss function, we plot the function at every step. Then we can see how the shape is approaching the best possible quadratic function for our data:"
   ]
  },
  {
   "cell_type": "code",
   "execution_count": 42,
   "id": "aa6ea678",
   "metadata": {
    "execution": {
     "iopub.execute_input": "2022-04-25T11:08:57.372721Z",
     "iopub.status.busy": "2022-04-25T11:08:57.351169Z",
     "iopub.status.idle": "2022-04-25T11:08:57.807990Z",
     "shell.execute_reply": "2022-04-25T11:08:57.808458Z",
     "shell.execute_reply.started": "2022-04-15T07:10:27.882818Z"
    },
    "papermill": {
     "duration": 0.608024,
     "end_time": "2022-04-25T11:08:57.808624",
     "exception": false,
     "start_time": "2022-04-25T11:08:57.200600",
     "status": "completed"
    },
    "tags": []
   },
   "outputs": [
    {
     "data": {
      "image/png": "[encoded data removed]",
      "text/plain": [
       "<Figure size 864x216 with 4 Axes>"
      ]
     },
     "metadata": {
      "needs_background": "light"
     },
     "output_type": "display_data"
    }
   ],
   "source": [
    "_,axs = plt.subplots(1,4,figsize=(12,3))\n",
    "for ax in axs: show_preds(apply_step(params, False), ax)\n",
    "plt.tight_layout()"
   ]
  },
  {
   "cell_type": "markdown",
   "id": "c1fae96d",
   "metadata": {
    "papermill": {
     "duration": 0.139772,
     "end_time": "2022-04-25T11:08:58.090295",
     "exception": false,
     "start_time": "2022-04-25T11:08:57.950523",
     "status": "completed"
    },
    "tags": []
   },
   "source": [
    "#### Step 7: stop\n",
    "We just decided to stop after 10 epochs arbitrarily. In practice, we would watch the training and validation losses and our metrics to decide when to stop, as we've discussed."
   ]
  },
  {
   "cell_type": "markdown",
   "id": "113a0046",
   "metadata": {
    "papermill": {
     "duration": 0.137123,
     "end_time": "2022-04-25T11:08:58.365144",
     "exception": false,
     "start_time": "2022-04-25T11:08:58.228021",
     "status": "completed"
    },
    "tags": []
   },
   "source": [
    "### Summarizing Gradient Descent\n",
    "To summarize, at the beginning, the weights of our model can be random (training *from scratch*) or come from a pretrained model (*transfer learning*). In the first case, the output we will get from our inputs won't have anything to do with what we want, and even in the second case, it's very likely the pretrained model won't be very good at the specific task we are targeting. So the model will need to *learn* better weights.\n",
    "\n",
    "We begin by comparing the outputs the model gives us with our targets (we have labeled data, so we know what result the model should give) using a *loss function*, which returns a number that we want to make as low as possible by improving our weights. To do this, we take a few data items (such as images) from the training set and feed them to our model. We compare the corresponding targets using our loss function, and the score we get tells us how wrong our predictions were. We then change the weights a little bit to make it slightly better.\n",
    "\n",
    "To find how to change the weights to make the loss a bit better, we use calculus to calculate the *gradients*. (Actually, we let PyTorch do it for us!) Let's consider an analogy. Imagine you are lost in the mountains with your car parked at the lowest point. To find your way back to it, you might wander in a random direction, but that probably wouldn't help much. Since you know your vehicle is at the lowest point, you would be better off going downhill. By always taking a step in the direction of the steepest downward slope, you should eventually arrive at your destination. We use the magnitude of the gradient (i.e., the steepness of the slope) to tell us how big a step to take; specifically, we multiply the gradient by a number we choose called the *learning rate* to decide on the step size. We then *iterate* until we have reached the lowest point, which will be our parking lot, then we can *stop*.\n",
    "\n",
    "All of that we just saw can be transposed directly to the MNIST dataset, except for the loss function. Let's now see how we can define a good training objective. \n",
    "\n",
    "## The MNIST Loss Function\n",
    "\n",
    "We already have our independent variables `x`—these are the images themselves. We first need to tranform them into tensors and stack them to be able to perform computations on them all together. To do this we first combine all the images in this list into a single three-dimensional tensor. We already know how to create a tensor containing a single image. To create a tensor containing all the images in a directory, we will first use a Python list comprehension to create a plain list of the single image tensors."
   ]
  },
  {
   "cell_type": "code",
   "execution_count": 43,
   "id": "3734b436",
   "metadata": {
    "execution": {
     "iopub.execute_input": "2022-04-25T11:08:58.642310Z",
     "iopub.status.busy": "2022-04-25T11:08:58.641666Z",
     "iopub.status.idle": "2022-04-25T11:09:01.636349Z",
     "shell.execute_reply": "2022-04-25T11:09:01.635894Z",
     "shell.execute_reply.started": "2022-04-15T07:44:03.704795Z"
    },
    "papermill": {
     "duration": 3.136098,
     "end_time": "2022-04-25T11:09:01.636506",
     "exception": false,
     "start_time": "2022-04-25T11:08:58.500408",
     "status": "completed"
    },
    "tags": []
   },
   "outputs": [
    {
     "data": {
      "text/plain": [
       "(6131, 6265)"
      ]
     },
     "execution_count": 43,
     "metadata": {},
     "output_type": "execute_result"
    }
   ],
   "source": [
    "seven_tensors = [tensor(Image.open(o)) for o in sevens]\n",
    "three_tensors = [tensor(Image.open(o)) for o in threes]\n",
    "len(three_tensors),len(seven_tensors)"
   ]
  },
  {
   "cell_type": "markdown",
   "id": "d85fff19",
   "metadata": {
    "papermill": {
     "duration": 0.136171,
     "end_time": "2022-04-25T11:09:01.909052",
     "exception": false,
     "start_time": "2022-04-25T11:09:01.772881",
     "status": "completed"
    },
    "tags": []
   },
   "source": [
    "The most common way to describe such a tensor is to call it a *rank-3 tensor*. We often need to stack up individual tensors in a collection into a single tensor. Unsurprisingly, PyTorch comes with a function called `stack` that we can use for this purpose.\n",
    "\n",
    "Some operations in PyTorch, such as taking a mean, require us to *cast* our integer types to float types. Since we'll be needing this later, we'll also cast our stacked tensor to `float` now. Casting in PyTorch is as simple as typing the name of the type you wish to cast to, and treating it as a method.\n",
    "\n",
    "Generally when images are floats, the pixel values are expected to be between 0 and 1, so we will also divide by 255 here:"
   ]
  },
  {
   "cell_type": "code",
   "execution_count": 44,
   "id": "43f894bd",
   "metadata": {
    "execution": {
     "iopub.execute_input": "2022-04-25T11:09:02.187213Z",
     "iopub.status.busy": "2022-04-25T11:09:02.186587Z",
     "iopub.status.idle": "2022-04-25T11:09:02.255421Z",
     "shell.execute_reply": "2022-04-25T11:09:02.255915Z",
     "shell.execute_reply.started": "2022-04-15T07:45:37.602376Z"
    },
    "papermill": {
     "duration": 0.209899,
     "end_time": "2022-04-25T11:09:02.256081",
     "exception": false,
     "start_time": "2022-04-25T11:09:02.046182",
     "status": "completed"
    },
    "tags": []
   },
   "outputs": [
    {
     "data": {
      "text/plain": [
       "torch.Size([6131, 28, 28])"
      ]
     },
     "execution_count": 44,
     "metadata": {},
     "output_type": "execute_result"
    }
   ],
   "source": [
    "stacked_sevens = torch.stack(seven_tensors).float()/255\n",
    "stacked_threes = torch.stack(three_tensors).float()/255\n",
    "stacked_threes.shape"
   ]
  },
  {
   "cell_type": "markdown",
   "id": "948120bb",
   "metadata": {
    "papermill": {
     "duration": 0.136899,
     "end_time": "2022-04-25T11:09:02.528336",
     "exception": false,
     "start_time": "2022-04-25T11:09:02.391437",
     "status": "completed"
    },
    "tags": []
   },
   "source": [
    "Perhaps the most important attribute of a tensor is its *shape*. This tells you the length of each axis. In this case, we can see that we have 6,131 images, each of size 28×28 pixels. There is nothing specifically about this tensor that says that the first axis is the number of images, the second is the height, and the third is the width—the semantics of a tensor are entirely up to us, and how we construct it. As far as PyTorch is concerned, it is just a bunch of numbers in memory.\n",
    "\n",
    "The *length* of a tensor's shape is its rank:"
   ]
  },
  {
   "cell_type": "code",
   "execution_count": 45,
   "id": "5dd23ab1",
   "metadata": {
    "execution": {
     "iopub.execute_input": "2022-04-25T11:09:02.807807Z",
     "iopub.status.busy": "2022-04-25T11:09:02.807169Z",
     "iopub.status.idle": "2022-04-25T11:09:02.809525Z",
     "shell.execute_reply": "2022-04-25T11:09:02.809976Z",
     "shell.execute_reply.started": "2022-04-15T07:46:44.200231Z"
    },
    "papermill": {
     "duration": 0.145508,
     "end_time": "2022-04-25T11:09:02.810143",
     "exception": false,
     "start_time": "2022-04-25T11:09:02.664635",
     "status": "completed"
    },
    "tags": []
   },
   "outputs": [
    {
     "data": {
      "text/plain": [
       "3"
      ]
     },
     "execution_count": 45,
     "metadata": {},
     "output_type": "execute_result"
    }
   ],
   "source": [
    "len(stacked_threes.shape)"
   ]
  },
  {
   "cell_type": "markdown",
   "id": "3548166f",
   "metadata": {
    "papermill": {
     "duration": 0.137969,
     "end_time": "2022-04-25T11:09:03.086029",
     "exception": false,
     "start_time": "2022-04-25T11:09:02.948060",
     "status": "completed"
    },
    "tags": []
   },
   "source": [
    "We'll concatenate them all into a single tensor, and also change them from a list of matrices (a rank-3 tensor) to a list of vectors (a rank-2 tensor). We can do this using `view`, which is a PyTorch method that changes the shape of a tensor without changing its contents. `-1` is a special parameter to `view` that means \"make this axis as big as necessary to fit all the data\" (i.e. to be able to fit all the rows):"
   ]
  },
  {
   "cell_type": "code",
   "execution_count": 46,
   "id": "1d5f777d",
   "metadata": {
    "execution": {
     "iopub.execute_input": "2022-04-25T11:09:03.362732Z",
     "iopub.status.busy": "2022-04-25T11:09:03.362079Z",
     "iopub.status.idle": "2022-04-25T11:09:03.387282Z",
     "shell.execute_reply": "2022-04-25T11:09:03.386532Z",
     "shell.execute_reply.started": "2022-04-15T07:47:53.685941Z"
    },
    "papermill": {
     "duration": 0.165269,
     "end_time": "2022-04-25T11:09:03.387443",
     "exception": false,
     "start_time": "2022-04-25T11:09:03.222174",
     "status": "completed"
    },
    "tags": []
   },
   "outputs": [],
   "source": [
    "train_x = torch.cat([stacked_threes, stacked_sevens]).view(-1, 28*28)"
   ]
  },
  {
   "cell_type": "markdown",
   "id": "8c34b7be",
   "metadata": {
    "papermill": {
     "duration": 0.137266,
     "end_time": "2022-04-25T11:09:03.660401",
     "exception": false,
     "start_time": "2022-04-25T11:09:03.523135",
     "status": "completed"
    },
    "tags": []
   },
   "source": [
    "We need a label for each image. We'll use `1` for 3s and `0` for 7s. We add the `unsqueeze` bit here as it needs a matrix in pytorch, and the unsqueeze is just going to add an additional unit dimension at the position asked to make it from a vector to a matrix with 1 column:"
   ]
  },
  {
   "cell_type": "code",
   "execution_count": 47,
   "id": "64ef8f58",
   "metadata": {
    "execution": {
     "iopub.execute_input": "2022-04-25T11:09:03.944466Z",
     "iopub.status.busy": "2022-04-25T11:09:03.943743Z",
     "iopub.status.idle": "2022-04-25T11:09:03.947582Z",
     "shell.execute_reply": "2022-04-25T11:09:03.947115Z",
     "shell.execute_reply.started": "2022-04-15T07:48:12.960259Z"
    },
    "papermill": {
     "duration": 0.150172,
     "end_time": "2022-04-25T11:09:03.947723",
     "exception": false,
     "start_time": "2022-04-25T11:09:03.797551",
     "status": "completed"
    },
    "tags": []
   },
   "outputs": [
    {
     "data": {
      "text/plain": [
       "(torch.Size([12396, 784]), torch.Size([12396, 1]))"
      ]
     },
     "execution_count": 47,
     "metadata": {},
     "output_type": "execute_result"
    }
   ],
   "source": [
    "train_y = tensor([1]*len(threes) + [0]*len(sevens)).unsqueeze(1)\n",
    "train_x.shape,train_y.shape"
   ]
  },
  {
   "cell_type": "markdown",
   "id": "579f8eb0",
   "metadata": {
    "papermill": {
     "duration": 0.137507,
     "end_time": "2022-04-25T11:09:04.226539",
     "exception": false,
     "start_time": "2022-04-25T11:09:04.089032",
     "status": "completed"
    },
    "tags": []
   },
   "source": [
    "A `Dataset` in PyTorch is required to return a tuple of `(x,y)` when indexed. Python provides a `zip` function which, when combined with `list`, provides a simple way to get this functionality:"
   ]
  },
  {
   "cell_type": "code",
   "execution_count": 48,
   "id": "6aed58f7",
   "metadata": {
    "execution": {
     "iopub.execute_input": "2022-04-25T11:09:04.506185Z",
     "iopub.status.busy": "2022-04-25T11:09:04.505537Z",
     "iopub.status.idle": "2022-04-25T11:09:04.533290Z",
     "shell.execute_reply": "2022-04-25T11:09:04.533756Z",
     "shell.execute_reply.started": "2022-04-15T08:01:05.56158Z"
    },
    "papermill": {
     "duration": 0.168062,
     "end_time": "2022-04-25T11:09:04.533937",
     "exception": false,
     "start_time": "2022-04-25T11:09:04.365875",
     "status": "completed"
    },
    "tags": []
   },
   "outputs": [
    {
     "data": {
      "text/plain": [
       "(torch.Size([784]), tensor([1]))"
      ]
     },
     "execution_count": 48,
     "metadata": {},
     "output_type": "execute_result"
    }
   ],
   "source": [
    "dset = list(zip(train_x,train_y))\n",
    "x,y = dset[0]\n",
    "x.shape, y"
   ]
  },
  {
   "cell_type": "code",
   "execution_count": 49,
   "id": "267ae053",
   "metadata": {
    "execution": {
     "iopub.execute_input": "2022-04-25T11:09:04.812172Z",
     "iopub.status.busy": "2022-04-25T11:09:04.811210Z",
     "iopub.status.idle": "2022-04-25T11:09:05.286247Z",
     "shell.execute_reply": "2022-04-25T11:09:05.285614Z",
     "shell.execute_reply.started": "2022-04-15T08:02:19.828543Z"
    },
    "papermill": {
     "duration": 0.61437,
     "end_time": "2022-04-25T11:09:05.286398",
     "exception": false,
     "start_time": "2022-04-25T11:09:04.672028",
     "status": "completed"
    },
    "tags": []
   },
   "outputs": [
    {
     "data": {
      "text/plain": [
       "(torch.Size([1010, 28, 28]), torch.Size([1028, 28, 28]))"
      ]
     },
     "execution_count": 49,
     "metadata": {},
     "output_type": "execute_result"
    }
   ],
   "source": [
    "# do the same on the validation set\n",
    "valid_3_tens = torch.stack([tensor(Image.open(o)) \n",
    "                            for o in (path/'valid'/'3').ls()])\n",
    "valid_3_tens = valid_3_tens.float()/255\n",
    "valid_7_tens = torch.stack([tensor(Image.open(o)) \n",
    "                            for o in (path/'valid'/'7').ls()])\n",
    "valid_7_tens = valid_7_tens.float()/255\n",
    "valid_3_tens.shape,valid_7_tens.shape"
   ]
  },
  {
   "cell_type": "code",
   "execution_count": 50,
   "id": "a033e9d8",
   "metadata": {
    "execution": {
     "iopub.execute_input": "2022-04-25T11:09:05.568570Z",
     "iopub.status.busy": "2022-04-25T11:09:05.567983Z",
     "iopub.status.idle": "2022-04-25T11:09:05.582835Z",
     "shell.execute_reply": "2022-04-25T11:09:05.582177Z",
     "shell.execute_reply.started": "2022-04-15T08:04:50.472995Z"
    },
    "papermill": {
     "duration": 0.159862,
     "end_time": "2022-04-25T11:09:05.582999",
     "exception": false,
     "start_time": "2022-04-25T11:09:05.423137",
     "status": "completed"
    },
    "tags": []
   },
   "outputs": [],
   "source": [
    "# do the same on the validation set\n",
    "valid_x = torch.cat([valid_3_tens, valid_7_tens]).view(-1, 28*28)\n",
    "valid_y = tensor([1]*len(valid_3_tens) + [0]*len(valid_7_tens)).unsqueeze(1)\n",
    "valid_dset = list(zip(valid_x,valid_y))"
   ]
  },
  {
   "cell_type": "markdown",
   "id": "ff09a23f",
   "metadata": {
    "papermill": {
     "duration": 0.139906,
     "end_time": "2022-04-25T11:09:05.862894",
     "exception": false,
     "start_time": "2022-04-25T11:09:05.722988",
     "status": "completed"
    },
    "tags": []
   },
   "source": [
    "Now we need an (initially random) weight for every pixel (this is the *initialize* step in our seven-step process):"
   ]
  },
  {
   "cell_type": "code",
   "execution_count": 51,
   "id": "71275994",
   "metadata": {
    "execution": {
     "iopub.execute_input": "2022-04-25T11:09:06.152756Z",
     "iopub.status.busy": "2022-04-25T11:09:06.152145Z",
     "iopub.status.idle": "2022-04-25T11:09:06.158468Z",
     "shell.execute_reply": "2022-04-25T11:09:06.159071Z",
     "shell.execute_reply.started": "2022-04-15T09:18:30.586274Z"
    },
    "papermill": {
     "duration": 0.148942,
     "end_time": "2022-04-25T11:09:06.159241",
     "exception": false,
     "start_time": "2022-04-25T11:09:06.010299",
     "status": "completed"
    },
    "scrolled": true,
    "tags": []
   },
   "outputs": [
    {
     "data": {
      "text/plain": [
       "tensor([[ 1.3123],\n",
       "        [ 0.6872],\n",
       "        [-1.0892],\n",
       "        [-0.3553],\n",
       "        [-0.9138]], grad_fn=<SliceBackward>)"
      ]
     },
     "execution_count": 51,
     "metadata": {},
     "output_type": "execute_result"
    }
   ],
   "source": [
    "def init_params(size, std=1.0): \n",
    "    return (torch.randn(size)*std).requires_grad_()\n",
    "\n",
    "weights = init_params((28*28,1))\n",
    "weights[:5]"
   ]
  },
  {
   "cell_type": "markdown",
   "id": "0d088af1",
   "metadata": {
    "papermill": {
     "duration": 0.141449,
     "end_time": "2022-04-25T11:09:06.442193",
     "exception": false,
     "start_time": "2022-04-25T11:09:06.300744",
     "status": "completed"
    },
    "tags": []
   },
   "source": [
    "The function `weights*pixels` won't be flexible enough—it is always equal to 0 when the pixels are equal to 0 (i.e., its *intercept* is 0). You might remember from high school math that the formula for a line is `y=w*x+b`; we still need the `b`. We'll initialize it to a random number too:"
   ]
  },
  {
   "cell_type": "code",
   "execution_count": 52,
   "id": "0b4a9f6d",
   "metadata": {
    "execution": {
     "iopub.execute_input": "2022-04-25T11:09:06.721075Z",
     "iopub.status.busy": "2022-04-25T11:09:06.720434Z",
     "iopub.status.idle": "2022-04-25T11:09:06.725181Z",
     "shell.execute_reply": "2022-04-25T11:09:06.725712Z",
     "shell.execute_reply.started": "2022-04-15T08:06:21.457393Z"
    },
    "papermill": {
     "duration": 0.144934,
     "end_time": "2022-04-25T11:09:06.725894",
     "exception": false,
     "start_time": "2022-04-25T11:09:06.580960",
     "status": "completed"
    },
    "tags": []
   },
   "outputs": [
    {
     "data": {
      "text/plain": [
       "tensor([0.6863], requires_grad=True)"
      ]
     },
     "execution_count": 52,
     "metadata": {},
     "output_type": "execute_result"
    }
   ],
   "source": [
    "bias = init_params(1)\n",
    "bias"
   ]
  },
  {
   "cell_type": "markdown",
   "id": "b2ad24dc",
   "metadata": {
    "papermill": {
     "duration": 0.142074,
     "end_time": "2022-04-25T11:09:07.013964",
     "exception": false,
     "start_time": "2022-04-25T11:09:06.871890",
     "status": "completed"
    },
    "tags": []
   },
   "source": [
    "In neural networks, the `w` in the equation `y=w*x+b` is called the *weights*, and the `b` is called the *bias*. Together, the weights and bias make up the *parameters*.\n",
    "\n",
    "We can now calculate a prediction for one image:"
   ]
  },
  {
   "cell_type": "code",
   "execution_count": 53,
   "id": "875b8db5",
   "metadata": {
    "execution": {
     "iopub.execute_input": "2022-04-25T11:09:07.297090Z",
     "iopub.status.busy": "2022-04-25T11:09:07.296434Z",
     "iopub.status.idle": "2022-04-25T11:09:07.302103Z",
     "shell.execute_reply": "2022-04-25T11:09:07.302528Z",
     "shell.execute_reply.started": "2022-04-15T08:06:59.648075Z"
    },
    "papermill": {
     "duration": 0.148388,
     "end_time": "2022-04-25T11:09:07.302701",
     "exception": false,
     "start_time": "2022-04-25T11:09:07.154313",
     "status": "completed"
    },
    "tags": []
   },
   "outputs": [
    {
     "data": {
      "text/plain": [
       "tensor([20.2336], grad_fn=<AddBackward0>)"
      ]
     },
     "execution_count": 53,
     "metadata": {},
     "output_type": "execute_result"
    }
   ],
   "source": [
    "(train_x[0]*weights.T).sum() + bias"
   ]
  },
  {
   "cell_type": "markdown",
   "id": "41839edd",
   "metadata": {
    "papermill": {
     "duration": 0.137753,
     "end_time": "2022-04-25T11:09:07.608977",
     "exception": false,
     "start_time": "2022-04-25T11:09:07.471224",
     "status": "completed"
    },
    "tags": []
   },
   "source": [
    "While we could use a Python `for` loop to calculate the prediction for each image, that would be very slow. Because Python loops don't run on the GPU, and because Python is a slow language for loops in general, we need to represent as much of the computation in a model as possible using higher-level functions.\n",
    "\n",
    "In this case, there's an extremely convenient mathematical operation that calculates `w*x` for every row of a matrix—it's called *matrix multiplication*. The image below shows what matrix multiplication looks like.\n",
    "    \n",
    "<img alt=\"Matrix multiplication\" width=\"400\" caption=\"Matrix multiplication\" src=\"https://raw.githubusercontent.com/fastai/fastbook/master/images/matmul2.svg\" id=\"matmul\"/>\n",
    "\n",
    "This image shows two matrices, `A` and `B`, being multiplied together. Each item of the result, which we'll call `AB`, contains each item of its corresponding row of `A` multiplied by each item of its corresponding column of `B`, added together. For instance, row 1, column 2 (the orange dot with a red border) is calculated as $a_{1,1} * b_{1,2} + a_{1,2} * b_{2,2}$. If you need a refresher on matrix multiplication, we suggest you take a look at the [Intro to Matrix Multiplication](https://youtu.be/kT4Mp9EdVqs) on *Khan Academy* or look at this [visual illustration](http://matrixmultiplication.xyz/), since this is the most important mathematical operation in deep learning.\n",
    "\n",
    "In Python, matrix multiplication is represented with the `@` operator. Let's try it:"
   ]
  },
  {
   "cell_type": "code",
   "execution_count": 54,
   "id": "d078c374",
   "metadata": {
    "execution": {
     "iopub.execute_input": "2022-04-25T11:09:07.891759Z",
     "iopub.status.busy": "2022-04-25T11:09:07.891208Z",
     "iopub.status.idle": "2022-04-25T11:09:07.905817Z",
     "shell.execute_reply": "2022-04-25T11:09:07.906420Z",
     "shell.execute_reply.started": "2022-04-15T08:12:29.316624Z"
    },
    "papermill": {
     "duration": 0.159369,
     "end_time": "2022-04-25T11:09:07.906583",
     "exception": false,
     "start_time": "2022-04-25T11:09:07.747214",
     "status": "completed"
    },
    "tags": []
   },
   "outputs": [
    {
     "data": {
      "text/plain": [
       "tensor([[20.2336],\n",
       "        [17.0644],\n",
       "        [15.2384],\n",
       "        ...,\n",
       "        [18.3804],\n",
       "        [23.8567],\n",
       "        [28.6816]], grad_fn=<AddBackward0>)"
      ]
     },
     "execution_count": 54,
     "metadata": {},
     "output_type": "execute_result"
    }
   ],
   "source": [
    "def linear1(xb): \n",
    "    return xb@weights + bias\n",
    "preds = linear1(train_x)\n",
    "preds"
   ]
  },
  {
   "cell_type": "markdown",
   "id": "a238f15e",
   "metadata": {
    "papermill": {
     "duration": 0.139147,
     "end_time": "2022-04-25T11:09:08.185221",
     "exception": false,
     "start_time": "2022-04-25T11:09:08.046074",
     "status": "completed"
    },
    "tags": []
   },
   "source": [
    "The first element is the same as we calculated before, as we'd expect. This equation, `batch@weights + bias`, is one of the two fundamental equations of any neural network (the other one is the *activation function*, which we'll see in a moment).\n",
    "\n",
    "Let's check our accuracy. To decide if an output represents a 3 or a 7, we can just check whether it's greater than 0.5, so our accuracy for each item can be calculated.\n",
    "#### Broadcasting\n",
    "This can be calculated using broadcasting, instead of loops! The magic trick is that PyTorch, when it tries to perform a simple subtraction operation between two tensors of different ranks, will use *broadcasting*. That is, it will automatically expand the tensor with the smaller rank to have the same size as the one with the larger rank. Broadcasting is an important capability that makes tensor code much easier to write.\n",
    "\n",
    "After broadcasting so the two argument tensors have the same rank, PyTorch applies its usual logic for two tensors of the same rank: it performs the operation on each corresponding element of the two tensors, and returns the tensor result. For instance:"
   ]
  },
  {
   "cell_type": "code",
   "execution_count": 55,
   "id": "9abe9600",
   "metadata": {
    "execution": {
     "iopub.execute_input": "2022-04-25T11:09:08.464681Z",
     "iopub.status.busy": "2022-04-25T11:09:08.464105Z",
     "iopub.status.idle": "2022-04-25T11:09:08.468195Z",
     "shell.execute_reply": "2022-04-25T11:09:08.468698Z",
     "shell.execute_reply.started": "2022-04-15T08:18:08.321879Z"
    },
    "papermill": {
     "duration": 0.145819,
     "end_time": "2022-04-25T11:09:08.468875",
     "exception": false,
     "start_time": "2022-04-25T11:09:08.323056",
     "status": "completed"
    },
    "tags": []
   },
   "outputs": [
    {
     "data": {
      "text/plain": [
       "tensor([2, 3, 4])"
      ]
     },
     "execution_count": 55,
     "metadata": {},
     "output_type": "execute_result"
    }
   ],
   "source": [
    "tensor([1,2,3]) + tensor(1)"
   ]
  },
  {
   "cell_type": "markdown",
   "id": "39381546",
   "metadata": {
    "papermill": {
     "duration": 0.141201,
     "end_time": "2022-04-25T11:09:08.750992",
     "exception": false,
     "start_time": "2022-04-25T11:09:08.609791",
     "status": "completed"
    },
    "tags": []
   },
   "source": [
    "In our case we want to compare our prediction with `0.5`. To decide if an output represents a 3 or a 7, we can just check whether it's greater than `0.5`, so our accuracy for each item can be calculated."
   ]
  },
  {
   "cell_type": "code",
   "execution_count": 56,
   "id": "87aeaee7",
   "metadata": {
    "execution": {
     "iopub.execute_input": "2022-04-25T11:09:09.040135Z",
     "iopub.status.busy": "2022-04-25T11:09:09.038654Z",
     "iopub.status.idle": "2022-04-25T11:09:09.045149Z",
     "shell.execute_reply": "2022-04-25T11:09:09.044636Z",
     "shell.execute_reply.started": "2022-04-15T08:20:26.781412Z"
    },
    "papermill": {
     "duration": 0.150157,
     "end_time": "2022-04-25T11:09:09.045284",
     "exception": false,
     "start_time": "2022-04-25T11:09:08.895127",
     "status": "completed"
    },
    "tags": []
   },
   "outputs": [
    {
     "data": {
      "text/plain": [
       "tensor([[ True],\n",
       "        [ True],\n",
       "        [ True],\n",
       "        ...,\n",
       "        [False],\n",
       "        [False],\n",
       "        [False]])"
      ]
     },
     "execution_count": 56,
     "metadata": {},
     "output_type": "execute_result"
    }
   ],
   "source": [
    "corrects = (preds>0.5).float() == train_y\n",
    "corrects"
   ]
  },
  {
   "cell_type": "code",
   "execution_count": 57,
   "id": "7a3aad27",
   "metadata": {
    "execution": {
     "iopub.execute_input": "2022-04-25T11:09:09.329156Z",
     "iopub.status.busy": "2022-04-25T11:09:09.328110Z",
     "iopub.status.idle": "2022-04-25T11:09:09.332040Z",
     "shell.execute_reply": "2022-04-25T11:09:09.332478Z",
     "shell.execute_reply.started": "2022-04-15T08:20:45.511066Z"
    },
    "papermill": {
     "duration": 0.146924,
     "end_time": "2022-04-25T11:09:09.332644",
     "exception": false,
     "start_time": "2022-04-25T11:09:09.185720",
     "status": "completed"
    },
    "tags": []
   },
   "outputs": [
    {
     "data": {
      "text/plain": [
       "0.49080348014831543"
      ]
     },
     "execution_count": 57,
     "metadata": {},
     "output_type": "execute_result"
    }
   ],
   "source": [
    "# check our accuracy\n",
    "corrects.float().mean().item()"
   ]
  },
  {
   "cell_type": "markdown",
   "id": "0b1803ac",
   "metadata": {
    "papermill": {
     "duration": 0.139047,
     "end_time": "2022-04-25T11:09:09.616080",
     "exception": false,
     "start_time": "2022-04-25T11:09:09.477033",
     "status": "completed"
    },
    "tags": []
   },
   "source": [
    "Now let's see what the change in accuracy is for a small change in one of the weights:"
   ]
  },
  {
   "cell_type": "code",
   "execution_count": 58,
   "id": "c6a205eb",
   "metadata": {
    "execution": {
     "iopub.execute_input": "2022-04-25T11:09:09.900566Z",
     "iopub.status.busy": "2022-04-25T11:09:09.899695Z",
     "iopub.status.idle": "2022-04-25T11:09:09.902187Z",
     "shell.execute_reply": "2022-04-25T11:09:09.901658Z",
     "shell.execute_reply.started": "2022-04-15T08:22:46.509589Z"
    },
    "papermill": {
     "duration": 0.147539,
     "end_time": "2022-04-25T11:09:09.902324",
     "exception": false,
     "start_time": "2022-04-25T11:09:09.754785",
     "status": "completed"
    },
    "tags": []
   },
   "outputs": [],
   "source": [
    "weights.data[0] *= 1.0001"
   ]
  },
  {
   "cell_type": "code",
   "execution_count": 59,
   "id": "be005e17",
   "metadata": {
    "execution": {
     "iopub.execute_input": "2022-04-25T11:09:10.189598Z",
     "iopub.status.busy": "2022-04-25T11:09:10.188947Z",
     "iopub.status.idle": "2022-04-25T11:09:10.196955Z",
     "shell.execute_reply": "2022-04-25T11:09:10.197569Z",
     "shell.execute_reply.started": "2022-04-15T08:22:47.827405Z"
    },
    "papermill": {
     "duration": 0.155066,
     "end_time": "2022-04-25T11:09:10.197780",
     "exception": false,
     "start_time": "2022-04-25T11:09:10.042714",
     "status": "completed"
    },
    "tags": []
   },
   "outputs": [
    {
     "data": {
      "text/plain": [
       "0.4912068545818329"
      ]
     },
     "execution_count": 59,
     "metadata": {},
     "output_type": "execute_result"
    }
   ],
   "source": [
    "preds = linear1(train_x)\n",
    "((preds>0.0).float() == train_y).float().mean().item()"
   ]
  },
  {
   "cell_type": "markdown",
   "id": "abbe77ad",
   "metadata": {
    "papermill": {
     "duration": 0.140878,
     "end_time": "2022-04-25T11:09:10.482831",
     "exception": false,
     "start_time": "2022-04-25T11:09:10.341953",
     "status": "completed"
    },
    "tags": []
   },
   "source": [
    "As we've seen, we need gradients in order to improve our model using SGD, and in order to calculate gradients we need some *loss function* that represents how good our model is. That is because the gradients are a measure of how that loss function changes with small tweaks to the weights.\n",
    "\n",
    "So, we need to choose a loss function. The obvious approach would be to use accuracy, which is our metric, as our loss function as well. In this case, we would calculate our prediction for each image, collect these values to calculate an overall accuracy, and then calculate the gradients of each weight with respect to that overall accuracy.\n",
    "\n",
    "Unfortunately, we have a significant technical problem here. The gradient of a function is its *slope*, or its steepness, which can be defined as *rise over run*—that is, how much the value of the function goes up or down, divided by how much we changed the input. We can write this in mathematically as: `(y_new - y_old) / (x_new - x_old)`. This gives us a good approximation of the gradient when `x_new` is very similar to `x_old`, meaning that their difference is very small. But accuracy only changes at all when a prediction changes from a 3 to a 7, or vice versa. The problem is that a small change in weights from `x_old` to `x_new` isn't likely to cause any prediction to change, so `(y_new - y_old)` will almost always be 0. In other words, the gradient is 0 almost everywhere.\n",
    "\n",
    "A very small change in the value of a weight will often not actually change the accuracy at all. This means it is not useful to use accuracy as a loss function—if we do, most of the time our gradients will actually be 0, and the model will not be able to learn from that number.\n",
    "\n",
    "> In mathematical terms, accuracy is a function that is constant almost everywhere (except at the threshold, 0.5), so its derivative is nil almost everywhere (and infinity at the threshold). This then gives gradients that are 0 or infinite, which are useless for updating the model.\n",
    "\n",
    "Instead, we need a loss function which, when our weights result in slightly better predictions, gives us a slightly better loss. So what does a \"slightly better prediction\" look like, exactly? Well, in this case, it means that if the correct answer is a 3 the score is a little higher, or if the correct answer is a 7 the score is a little lower.\n",
    "\n",
    "Let's write such a function now. What form does it take?\n",
    "\n",
    "The loss function receives not the images themselves, but the predictions from the model. Let's make one argument, `prds`, of values between 0 and 1, where each value is the prediction that an image is a 3. It is a vector (i.e., a rank-1 tensor), indexed over the images.\n",
    "\n",
    "The purpose of the loss function is to measure the difference between predicted values and the true values — that is, the targets (aka labels). Let's make another argument, `trgts`, with values of 0 or 1 which tells whether an image actually is a 3 or not. It is also a vector (i.e., another rank-1 tensor), indexed over the images.\n",
    "\n",
    "So, for instance, suppose we had three images which we knew were a 3, a 7, and a 3. And suppose our model predicted with high confidence (`0.9`) that the first was a 3, with slight confidence (`0.4`) that the second was a 7, and with fair confidence (`0.2`), but incorrectly, that the last was a 7. This would mean our loss function would receive these values as its inputs:"
   ]
  },
  {
   "cell_type": "code",
   "execution_count": 60,
   "id": "f0bb3081",
   "metadata": {
    "execution": {
     "iopub.execute_input": "2022-04-25T11:09:10.779138Z",
     "iopub.status.busy": "2022-04-25T11:09:10.778513Z",
     "iopub.status.idle": "2022-04-25T11:09:10.781925Z",
     "shell.execute_reply": "2022-04-25T11:09:10.782440Z",
     "shell.execute_reply.started": "2022-04-15T08:24:17.308436Z"
    },
    "papermill": {
     "duration": 0.153124,
     "end_time": "2022-04-25T11:09:10.782612",
     "exception": false,
     "start_time": "2022-04-25T11:09:10.629488",
     "status": "completed"
    },
    "tags": []
   },
   "outputs": [],
   "source": [
    "trgts  = tensor([1,0,1])\n",
    "prds   = tensor([0.9, 0.4, 0.2])"
   ]
  },
  {
   "cell_type": "markdown",
   "id": "a35e2173",
   "metadata": {
    "papermill": {
     "duration": 0.145257,
     "end_time": "2022-04-25T11:09:11.071932",
     "exception": false,
     "start_time": "2022-04-25T11:09:10.926675",
     "status": "completed"
    },
    "tags": []
   },
   "source": [
    "Here's a first try at a loss function that measures the distance between `predictions` and `targets`:"
   ]
  },
  {
   "cell_type": "code",
   "execution_count": 61,
   "id": "5e19363c",
   "metadata": {
    "execution": {
     "iopub.execute_input": "2022-04-25T11:09:11.355792Z",
     "iopub.status.busy": "2022-04-25T11:09:11.355163Z",
     "iopub.status.idle": "2022-04-25T11:09:11.358550Z",
     "shell.execute_reply": "2022-04-25T11:09:11.359185Z",
     "shell.execute_reply.started": "2022-04-15T08:24:37.413697Z"
    },
    "papermill": {
     "duration": 0.146888,
     "end_time": "2022-04-25T11:09:11.359355",
     "exception": false,
     "start_time": "2022-04-25T11:09:11.212467",
     "status": "completed"
    },
    "tags": []
   },
   "outputs": [],
   "source": [
    "def mnist_loss(predictions, targets):\n",
    "    return torch.where(targets==1, 1-predictions, predictions).mean()"
   ]
  },
  {
   "cell_type": "markdown",
   "id": "0428a0a3",
   "metadata": {
    "papermill": {
     "duration": 0.140895,
     "end_time": "2022-04-25T11:09:11.641299",
     "exception": false,
     "start_time": "2022-04-25T11:09:11.500404",
     "status": "completed"
    },
    "tags": []
   },
   "source": [
    "We're using a new function, `torch.where(a,b,c)`. This is the same as running the list comprehension `[b[i] if a[i] else c[i] for i in range(len(a))]`, except it works on tensors, at C/CUDA speed. In plain English, this function will measure how distant each prediction is from 1 if it should be 1, and how distant it is from 0 if it should be 0, and then it will take the mean of all those distances.\n",
    "\n",
    "> It's important to learn about PyTorch functions like this, because looping over tensors in Python performs at Python speed, not C/CUDA speed! Try running `help(torch.where)` now to read the docs for this function, or, better still, look it up on the PyTorch documentation site."
   ]
  },
  {
   "cell_type": "code",
   "execution_count": 62,
   "id": "c3179cae",
   "metadata": {
    "execution": {
     "iopub.execute_input": "2022-04-25T11:09:11.925481Z",
     "iopub.status.busy": "2022-04-25T11:09:11.924818Z",
     "iopub.status.idle": "2022-04-25T11:09:11.931092Z",
     "shell.execute_reply": "2022-04-25T11:09:11.931646Z",
     "shell.execute_reply.started": "2022-04-15T08:25:23.757512Z"
    },
    "papermill": {
     "duration": 0.150373,
     "end_time": "2022-04-25T11:09:11.931814",
     "exception": false,
     "start_time": "2022-04-25T11:09:11.781441",
     "status": "completed"
    },
    "tags": []
   },
   "outputs": [
    {
     "name": "stdout",
     "output_type": "stream",
     "text": [
      "Help on built-in function where:\n",
      "\n",
      "where(...)\n",
      "    where(condition, x, y) -> Tensor\n",
      "    \n",
      "    Return a tensor of elements selected from either :attr:`x` or :attr:`y`, depending on :attr:`condition`.\n",
      "    \n",
      "    The operation is defined as:\n",
      "    \n",
      "    .. math::\n",
      "        \\text{out}_i = \\begin{cases}\n",
      "            \\text{x}_i & \\text{if } \\text{condition}_i \\\\\n",
      "            \\text{y}_i & \\text{otherwise} \\\\\n",
      "        \\end{cases}\n",
      "    \n",
      "    .. note::\n",
      "        The tensors :attr:`condition`, :attr:`x`, :attr:`y` must be :ref:`broadcastable <broadcasting-semantics>`.\n",
      "    \n",
      "    .. note::\n",
      "        Currently valid scalar and tensor combination are\n",
      "        1. Scalar of floating dtype and torch.double\n",
      "        2. Scalar of integral dtype and torch.long\n",
      "        3. Scalar of complex dtype and torch.complex128\n",
      "    \n",
      "    Arguments:\n",
      "        condition (BoolTensor): When True (nonzero), yield x, otherwise yield y\n",
      "        x (Tensor or Scalar): value (if :attr:x is a scalar) or values selected at indices\n",
      "                              where :attr:`condition` is ``True``\n",
      "        y (Tensor or Scalar): value (if :attr:x is a scalar) or values selected at indices\n",
      "                              where :attr:`condition` is ``False``\n",
      "    \n",
      "    Returns:\n",
      "        Tensor: A tensor of shape equal to the broadcasted shape of :attr:`condition`, :attr:`x`, :attr:`y`\n",
      "    \n",
      "    Example::\n",
      "    \n",
      "        >>> x = torch.randn(3, 2)\n",
      "        >>> y = torch.ones(3, 2)\n",
      "        >>> x\n",
      "        tensor([[-0.4620,  0.3139],\n",
      "                [ 0.3898, -0.7197],\n",
      "                [ 0.0478, -0.1657]])\n",
      "        >>> torch.where(x > 0, x, y)\n",
      "        tensor([[ 1.0000,  0.3139],\n",
      "                [ 0.3898,  1.0000],\n",
      "                [ 0.0478,  1.0000]])\n",
      "        >>> x = torch.randn(2, 2, dtype=torch.double)\n",
      "        >>> x\n",
      "        tensor([[ 1.0779,  0.0383],\n",
      "                [-0.8785, -1.1089]], dtype=torch.float64)\n",
      "        >>> torch.where(x > 0, x, 0.)\n",
      "        tensor([[1.0779, 0.0383],\n",
      "                [0.0000, 0.0000]], dtype=torch.float64)\n",
      "    \n",
      "    .. function:: where(condition) -> tuple of LongTensor\n",
      "    \n",
      "    ``torch.where(condition)`` is identical to\n",
      "    ``torch.nonzero(condition, as_tuple=True)``.\n",
      "    \n",
      "    .. note::\n",
      "        See also :func:`torch.nonzero`.\n",
      "\n"
     ]
    }
   ],
   "source": [
    "help(torch.where)"
   ]
  },
  {
   "cell_type": "markdown",
   "id": "7cf1e2f7",
   "metadata": {
    "papermill": {
     "duration": 0.139747,
     "end_time": "2022-04-25T11:09:12.213905",
     "exception": false,
     "start_time": "2022-04-25T11:09:12.074158",
     "status": "completed"
    },
    "tags": []
   },
   "source": [
    "Let's try it on our `prds` and `trgts`:"
   ]
  },
  {
   "cell_type": "code",
   "execution_count": 63,
   "id": "2b8dd4bd",
   "metadata": {
    "execution": {
     "iopub.execute_input": "2022-04-25T11:09:12.499566Z",
     "iopub.status.busy": "2022-04-25T11:09:12.498560Z",
     "iopub.status.idle": "2022-04-25T11:09:12.508547Z",
     "shell.execute_reply": "2022-04-25T11:09:12.507930Z",
     "shell.execute_reply.started": "2022-04-15T08:25:50.659486Z"
    },
    "papermill": {
     "duration": 0.153493,
     "end_time": "2022-04-25T11:09:12.508683",
     "exception": false,
     "start_time": "2022-04-25T11:09:12.355190",
     "status": "completed"
    },
    "tags": []
   },
   "outputs": [
    {
     "data": {
      "text/plain": [
       "tensor([0.1000, 0.4000, 0.8000])"
      ]
     },
     "execution_count": 63,
     "metadata": {},
     "output_type": "execute_result"
    }
   ],
   "source": [
    "torch.where(trgts==1, 1-prds, prds)"
   ]
  },
  {
   "cell_type": "markdown",
   "id": "2d3374e3",
   "metadata": {
    "papermill": {
     "duration": 0.139881,
     "end_time": "2022-04-25T11:09:12.791764",
     "exception": false,
     "start_time": "2022-04-25T11:09:12.651883",
     "status": "completed"
    },
    "tags": []
   },
   "source": [
    "You can see that this function returns a lower number when predictions are more accurate, when accurate predictions are more confident (higher absolute values), and when inaccurate predictions are less confident. In PyTorch, we always assume that a lower value of a loss function is better. Since we need a scalar for the final loss, `mnist_loss` takes the mean of the previous tensor:"
   ]
  },
  {
   "cell_type": "code",
   "execution_count": 64,
   "id": "f4486e31",
   "metadata": {
    "execution": {
     "iopub.execute_input": "2022-04-25T11:09:13.081026Z",
     "iopub.status.busy": "2022-04-25T11:09:13.080127Z",
     "iopub.status.idle": "2022-04-25T11:09:13.085916Z",
     "shell.execute_reply": "2022-04-25T11:09:13.086478Z",
     "shell.execute_reply.started": "2022-04-15T08:26:23.576921Z"
    },
    "papermill": {
     "duration": 0.153325,
     "end_time": "2022-04-25T11:09:13.086641",
     "exception": false,
     "start_time": "2022-04-25T11:09:12.933316",
     "status": "completed"
    },
    "tags": []
   },
   "outputs": [
    {
     "data": {
      "text/plain": [
       "tensor(0.4333)"
      ]
     },
     "execution_count": 64,
     "metadata": {},
     "output_type": "execute_result"
    }
   ],
   "source": [
    "mnist_loss(prds,trgts)"
   ]
  },
  {
   "cell_type": "markdown",
   "id": "0f558a8a",
   "metadata": {
    "papermill": {
     "duration": 0.141439,
     "end_time": "2022-04-25T11:09:13.368648",
     "exception": false,
     "start_time": "2022-04-25T11:09:13.227209",
     "status": "completed"
    },
    "tags": []
   },
   "source": [
    "For instance, if we change our prediction for the one \"false\" target from `0.2` to `0.8` the loss will go down, indicating that this is a better prediction:"
   ]
  },
  {
   "cell_type": "code",
   "execution_count": 65,
   "id": "847a9dc2",
   "metadata": {
    "execution": {
     "iopub.execute_input": "2022-04-25T11:09:13.663106Z",
     "iopub.status.busy": "2022-04-25T11:09:13.662197Z",
     "iopub.status.idle": "2022-04-25T11:09:13.667949Z",
     "shell.execute_reply": "2022-04-25T11:09:13.668454Z",
     "shell.execute_reply.started": "2022-04-15T08:26:43.310714Z"
    },
    "papermill": {
     "duration": 0.153647,
     "end_time": "2022-04-25T11:09:13.668607",
     "exception": false,
     "start_time": "2022-04-25T11:09:13.514960",
     "status": "completed"
    },
    "tags": []
   },
   "outputs": [
    {
     "data": {
      "text/plain": [
       "tensor(0.2333)"
      ]
     },
     "execution_count": 65,
     "metadata": {},
     "output_type": "execute_result"
    }
   ],
   "source": [
    "mnist_loss(tensor([0.9, 0.4, 0.8]),trgts)"
   ]
  },
  {
   "cell_type": "markdown",
   "id": "0002cbe3",
   "metadata": {
    "papermill": {
     "duration": 0.14257,
     "end_time": "2022-04-25T11:09:13.951625",
     "exception": false,
     "start_time": "2022-04-25T11:09:13.809055",
     "status": "completed"
    },
    "tags": []
   },
   "source": [
    "One problem with `mnist_loss` as currently defined is that it assumes that predictions are always between 0 and 1. We need to ensure, then, that this is actually the case! As it happens, there is a function that does exactly that—let's take a look.\n",
    "\n",
    "### Sigmoid\n",
    "\n",
    "The `sigmoid` function always outputs a number between 0 and 1. It's defined as follows:"
   ]
  },
  {
   "cell_type": "code",
   "execution_count": 66,
   "id": "a7dca497",
   "metadata": {
    "execution": {
     "iopub.execute_input": "2022-04-25T11:09:14.237952Z",
     "iopub.status.busy": "2022-04-25T11:09:14.237318Z",
     "iopub.status.idle": "2022-04-25T11:09:14.240782Z",
     "shell.execute_reply": "2022-04-25T11:09:14.241363Z",
     "shell.execute_reply.started": "2022-04-15T08:32:04.45529Z"
    },
    "papermill": {
     "duration": 0.14866,
     "end_time": "2022-04-25T11:09:14.241525",
     "exception": false,
     "start_time": "2022-04-25T11:09:14.092865",
     "status": "completed"
    },
    "tags": []
   },
   "outputs": [],
   "source": [
    "def sigmoid(x): \n",
    "    return 1/(1+torch.exp(-x))"
   ]
  },
  {
   "cell_type": "markdown",
   "id": "7a97e5bd",
   "metadata": {
    "papermill": {
     "duration": 0.141829,
     "end_time": "2022-04-25T11:09:14.528220",
     "exception": false,
     "start_time": "2022-04-25T11:09:14.386391",
     "status": "completed"
    },
    "tags": []
   },
   "source": [
    "Pytorch defines an accelerated version for us, so we don’t really need our own. This is an important function in deep learning, since we often want to ensure values are between 0 and 1. This is what it looks like:"
   ]
  },
  {
   "cell_type": "code",
   "execution_count": 67,
   "id": "8cdcec99",
   "metadata": {
    "execution": {
     "iopub.execute_input": "2022-04-25T11:09:14.820118Z",
     "iopub.status.busy": "2022-04-25T11:09:14.819155Z",
     "iopub.status.idle": "2022-04-25T11:09:15.017211Z",
     "shell.execute_reply": "2022-04-25T11:09:15.016627Z",
     "shell.execute_reply.started": "2022-04-15T08:32:05.353753Z"
    },
    "papermill": {
     "duration": 0.34456,
     "end_time": "2022-04-25T11:09:15.017363",
     "exception": false,
     "start_time": "2022-04-25T11:09:14.672803",
     "status": "completed"
    },
    "tags": []
   },
   "outputs": [
    {
     "data": {
      "image/png": "[encoded data removed]",
      "text/plain": [
       "<Figure size 432x288 with 1 Axes>"
      ]
     },
     "metadata": {
      "needs_background": "light"
     },
     "output_type": "display_data"
    }
   ],
   "source": [
    "plot_function(torch.sigmoid, title='Sigmoid', min=-4, max=4)"
   ]
  },
  {
   "cell_type": "markdown",
   "id": "f259b9df",
   "metadata": {
    "papermill": {
     "duration": 0.142986,
     "end_time": "2022-04-25T11:09:15.302906",
     "exception": false,
     "start_time": "2022-04-25T11:09:15.159920",
     "status": "completed"
    },
    "tags": []
   },
   "source": [
    "As you can see, it takes any input value, positive or negative, and smooshes it onto an output value between 0 and 1. It's also a smooth curve that only goes up, which makes it easier for SGD to find meaningful gradients. \n",
    "\n",
    "Let's update `mnist_loss` to first apply `sigmoid` to the inputs:"
   ]
  },
  {
   "cell_type": "code",
   "execution_count": 68,
   "id": "fc166329",
   "metadata": {
    "execution": {
     "iopub.execute_input": "2022-04-25T11:09:15.593411Z",
     "iopub.status.busy": "2022-04-25T11:09:15.592455Z",
     "iopub.status.idle": "2022-04-25T11:09:15.596492Z",
     "shell.execute_reply": "2022-04-25T11:09:15.596965Z",
     "shell.execute_reply.started": "2022-04-15T08:32:26.355766Z"
    },
    "papermill": {
     "duration": 0.151922,
     "end_time": "2022-04-25T11:09:15.597141",
     "exception": false,
     "start_time": "2022-04-25T11:09:15.445219",
     "status": "completed"
    },
    "tags": []
   },
   "outputs": [],
   "source": [
    "def mnist_loss(predictions, targets):\n",
    "    predictions = predictions.sigmoid()\n",
    "    return torch.where(targets==1, 1-predictions, predictions).mean()"
   ]
  },
  {
   "cell_type": "markdown",
   "id": "3cc792f9",
   "metadata": {
    "papermill": {
     "duration": 0.145008,
     "end_time": "2022-04-25T11:09:15.885973",
     "exception": false,
     "start_time": "2022-04-25T11:09:15.740965",
     "status": "completed"
    },
    "tags": []
   },
   "source": [
    "Now we can be confident our loss function will work, even if the predictions are not between 0 and 1. All that is required is that a higher prediction corresponds to higher confidence an image is a 3.\n",
    "\n",
    "Having defined a loss function, now is a good moment to recapitulate why we did this. After all, we already had a metric, which was overall accuracy. So why did we define a loss?\n",
    "\n",
    "The key difference is that the metric is to drive human understanding and the loss is to drive automated learning. To drive automated learning, the loss must be a function that has a meaningful derivative. It can't have big flat sections and large jumps, but instead must be reasonably smooth. This is why we designed a loss function that would respond to small changes in confidence level. This requirement means that sometimes it does not really reflect exactly what we are trying to achieve, but is rather a compromise between our real goal, and a function that can be optimized using its gradient. The loss function is calculated for each item in our dataset, and then at the end of an epoch the loss values are all averaged and the overall mean is reported for the epoch.\n",
    "\n",
    "Metrics, on the other hand, are the numbers that we really care about. These are the values that are printed at the end of each epoch that tell us how our model is really doing. It is important that we learn to focus on these metrics, rather than the loss, when judging the performance of a model.\n",
    "\n",
    "### SGD and Mini-Batches\n",
    "\n",
    "Now that we have a loss function that is suitable for driving SGD, we can consider some of the details involved in the next phase of the learning process, which is to change or update the weights based on the gradients. This is called an *optimization step*.\n",
    "\n",
    "In order to take an optimization step we need to calculate the loss over one or more data items. How many should we use? We could calculate it for the whole dataset, and take the average, or we could calculate it for a single data item. But neither of these is ideal. Calculating it for the whole dataset would take a very long time. Calculating it for a single item would not use much information, so it would result in a very imprecise and unstable gradient. That is, you'd be going to the trouble of updating the weights, but taking into account only how that would improve the model's performance on that single item.\n",
    "\n",
    "So instead we take a compromise between the two: we calculate the average loss for a few data items at a time. This is called a *mini-batch*. The number of data items in the mini-batch is called the *batch size*. A larger batch size means that you will get a more accurate and stable estimate of your dataset's gradients from the loss function, but it will take longer, and you will process fewer mini-batches per epoch. Choosing a good batch size is one of the decisions you need to make as a deep learning practitioner to train your model quickly and accurately. We will talk about how to make this choice throughout this book.\n",
    "\n",
    "Another good reason for using mini-batches rather than calculating the gradient on individual data items is that, in practice, we nearly always do our training on an accelerator such as a GPU. These accelerators only perform well if they have lots of work to do at a time, so it's helpful if we can give them lots of data items to work on. Using mini-batches is one of the best ways to do this. However, if you give them too much data to work on at once, they run out of memory—making GPUs happy is also tricky!\n",
    "\n",
    "As we will see in the next lesson in our discussion of data augmentation, we get better generalization if we can vary things during training. One simple and effective thing we can vary is what data items we put in each mini-batch. Rather than simply enumerating our dataset in order for every epoch, instead what we normally do is randomly shuffle it on every epoch, before we create mini-batches. PyTorch and fastai provide a class that will do the shuffling and mini-batch collation for you, called `DataLoader`.\n",
    "\n",
    "A `DataLoader` can take any Python collection and turn it into an iterator over many batches, like so:"
   ]
  },
  {
   "cell_type": "code",
   "execution_count": 69,
   "id": "310e4060",
   "metadata": {
    "execution": {
     "iopub.execute_input": "2022-04-25T11:09:16.179244Z",
     "iopub.status.busy": "2022-04-25T11:09:16.178605Z",
     "iopub.status.idle": "2022-04-25T11:09:16.184597Z",
     "shell.execute_reply": "2022-04-25T11:09:16.185063Z",
     "shell.execute_reply.started": "2022-04-15T08:34:12.400254Z"
    },
    "papermill": {
     "duration": 0.155219,
     "end_time": "2022-04-25T11:09:16.185231",
     "exception": false,
     "start_time": "2022-04-25T11:09:16.030012",
     "status": "completed"
    },
    "tags": []
   },
   "outputs": [
    {
     "data": {
      "text/plain": [
       "[tensor([ 3, 12,  8, 10,  2]),\n",
       " tensor([ 9,  4,  7, 14,  5]),\n",
       " tensor([ 1, 13,  0,  6, 11])]"
      ]
     },
     "execution_count": 69,
     "metadata": {},
     "output_type": "execute_result"
    }
   ],
   "source": [
    "coll = range(15)\n",
    "dl = DataLoader(coll, batch_size=5, shuffle=True)\n",
    "list(dl)"
   ]
  },
  {
   "cell_type": "markdown",
   "id": "5024741e",
   "metadata": {
    "papermill": {
     "duration": 0.142163,
     "end_time": "2022-04-25T11:09:16.474770",
     "exception": false,
     "start_time": "2022-04-25T11:09:16.332607",
     "status": "completed"
    },
    "tags": []
   },
   "source": [
    "For training a model, we don't just want any Python collection, but a collection containing independent and dependent variables (that is, the inputs and targets of the model). A collection that contains tuples of independent and dependent variables is known in PyTorch as a `Dataset`. Here's an example of an extremely simple `Dataset`:"
   ]
  },
  {
   "cell_type": "code",
   "execution_count": 70,
   "id": "b009f0f3",
   "metadata": {
    "execution": {
     "iopub.execute_input": "2022-04-25T11:09:16.780659Z",
     "iopub.status.busy": "2022-04-25T11:09:16.780031Z",
     "iopub.status.idle": "2022-04-25T11:09:16.783064Z",
     "shell.execute_reply": "2022-04-25T11:09:16.783590Z",
     "shell.execute_reply.started": "2022-04-15T08:34:28.314347Z"
    },
    "papermill": {
     "duration": 0.163403,
     "end_time": "2022-04-25T11:09:16.783754",
     "exception": false,
     "start_time": "2022-04-25T11:09:16.620351",
     "status": "completed"
    },
    "tags": []
   },
   "outputs": [
    {
     "data": {
      "text/plain": [
       "(#26) [(0, 'a'),(1, 'b'),(2, 'c'),(3, 'd'),(4, 'e'),(5, 'f'),(6, 'g'),(7, 'h'),(8, 'i'),(9, 'j')...]"
      ]
     },
     "execution_count": 70,
     "metadata": {},
     "output_type": "execute_result"
    }
   ],
   "source": [
    "ds = L(enumerate(string.ascii_lowercase))\n",
    "ds"
   ]
  },
  {
   "cell_type": "markdown",
   "id": "cdcf3c58",
   "metadata": {
    "papermill": {
     "duration": 0.162159,
     "end_time": "2022-04-25T11:09:17.120202",
     "exception": false,
     "start_time": "2022-04-25T11:09:16.958043",
     "status": "completed"
    },
    "tags": []
   },
   "source": [
    "When we pass a `Dataset` to a `DataLoader` we will get back many batches which are themselves tuples of tensors representing batches of independent and dependent variables:"
   ]
  },
  {
   "cell_type": "code",
   "execution_count": 71,
   "id": "6760ab4f",
   "metadata": {
    "execution": {
     "iopub.execute_input": "2022-04-25T11:09:17.425117Z",
     "iopub.status.busy": "2022-04-25T11:09:17.424114Z",
     "iopub.status.idle": "2022-04-25T11:09:17.431172Z",
     "shell.execute_reply": "2022-04-25T11:09:17.431726Z",
     "shell.execute_reply.started": "2022-04-15T08:34:56.708251Z"
    },
    "papermill": {
     "duration": 0.165878,
     "end_time": "2022-04-25T11:09:17.431920",
     "exception": false,
     "start_time": "2022-04-25T11:09:17.266042",
     "status": "completed"
    },
    "tags": []
   },
   "outputs": [
    {
     "data": {
      "text/plain": [
       "[(tensor([17, 18, 10, 22,  8, 14]), ('r', 's', 'k', 'w', 'i', 'o')),\n",
       " (tensor([20, 15,  9, 13, 21, 12]), ('u', 'p', 'j', 'n', 'v', 'm')),\n",
       " (tensor([ 7, 25,  6,  5, 11, 23]), ('h', 'z', 'g', 'f', 'l', 'x')),\n",
       " (tensor([ 1,  3,  0, 24, 19, 16]), ('b', 'd', 'a', 'y', 't', 'q')),\n",
       " (tensor([2, 4]), ('c', 'e'))]"
      ]
     },
     "execution_count": 71,
     "metadata": {},
     "output_type": "execute_result"
    }
   ],
   "source": [
    "dl = DataLoader(ds, batch_size=6, shuffle=True)\n",
    "list(dl)"
   ]
  },
  {
   "cell_type": "markdown",
   "id": "783ac176",
   "metadata": {
    "papermill": {
     "duration": 0.143658,
     "end_time": "2022-04-25T11:09:17.730612",
     "exception": false,
     "start_time": "2022-04-25T11:09:17.586954",
     "status": "completed"
    },
    "tags": []
   },
   "source": [
    "We are now ready to write our first training loop for a model using SGD!\n",
    "\n",
    "## Putting It All Together\n",
    "\n",
    "It's time to implement the process we saw in SGD. In code, our process will be implemented something like this for each epoch:\n",
    "\n",
    "```python\n",
    "for x,y in dl:\n",
    "    pred = model(x)\n",
    "    loss = loss_func(pred, y)\n",
    "    loss.backward()\n",
    "    parameters -= parameters.grad * lr\n",
    "```\n",
    "First, let's re-initialize our parameters:"
   ]
  },
  {
   "cell_type": "code",
   "execution_count": 72,
   "id": "95189537",
   "metadata": {
    "execution": {
     "iopub.execute_input": "2022-04-25T11:09:18.024188Z",
     "iopub.status.busy": "2022-04-25T11:09:18.023595Z",
     "iopub.status.idle": "2022-04-25T11:09:18.027344Z",
     "shell.execute_reply": "2022-04-25T11:09:18.027747Z",
     "shell.execute_reply.started": "2022-04-15T08:36:54.387748Z"
    },
    "papermill": {
     "duration": 0.154702,
     "end_time": "2022-04-25T11:09:18.028109",
     "exception": false,
     "start_time": "2022-04-25T11:09:17.873407",
     "status": "completed"
    },
    "tags": []
   },
   "outputs": [],
   "source": [
    "weights = init_params((28*28,1))\n",
    "bias = init_params(1)"
   ]
  },
  {
   "cell_type": "markdown",
   "id": "412bae03",
   "metadata": {
    "papermill": {
     "duration": 0.142938,
     "end_time": "2022-04-25T11:09:18.318459",
     "exception": false,
     "start_time": "2022-04-25T11:09:18.175521",
     "status": "completed"
    },
    "tags": []
   },
   "source": [
    "A `DataLoader` can be created from a `Dataset`:"
   ]
  },
  {
   "cell_type": "code",
   "execution_count": 73,
   "id": "2a792ffd",
   "metadata": {
    "execution": {
     "iopub.execute_input": "2022-04-25T11:09:18.636947Z",
     "iopub.status.busy": "2022-04-25T11:09:18.636014Z",
     "iopub.status.idle": "2022-04-25T11:09:18.642222Z",
     "shell.execute_reply": "2022-04-25T11:09:18.642784Z",
     "shell.execute_reply.started": "2022-04-15T08:37:14.901027Z"
    },
    "papermill": {
     "duration": 0.154623,
     "end_time": "2022-04-25T11:09:18.642977",
     "exception": false,
     "start_time": "2022-04-25T11:09:18.488354",
     "status": "completed"
    },
    "tags": []
   },
   "outputs": [
    {
     "data": {
      "text/plain": [
       "(torch.Size([256, 784]), torch.Size([256, 1]))"
      ]
     },
     "execution_count": 73,
     "metadata": {},
     "output_type": "execute_result"
    }
   ],
   "source": [
    "dl = DataLoader(dset, batch_size=256)\n",
    "xb,yb = first(dl)\n",
    "xb.shape,yb.shape"
   ]
  },
  {
   "cell_type": "markdown",
   "id": "8eff51db",
   "metadata": {
    "papermill": {
     "duration": 0.142957,
     "end_time": "2022-04-25T11:09:18.929943",
     "exception": false,
     "start_time": "2022-04-25T11:09:18.786986",
     "status": "completed"
    },
    "tags": []
   },
   "source": [
    "We'll do the same for the validation set:"
   ]
  },
  {
   "cell_type": "code",
   "execution_count": 74,
   "id": "d4672264",
   "metadata": {
    "execution": {
     "iopub.execute_input": "2022-04-25T11:09:19.228068Z",
     "iopub.status.busy": "2022-04-25T11:09:19.227074Z",
     "iopub.status.idle": "2022-04-25T11:09:19.231078Z",
     "shell.execute_reply": "2022-04-25T11:09:19.231687Z",
     "shell.execute_reply.started": "2022-04-15T08:37:31.558419Z"
    },
    "papermill": {
     "duration": 0.152729,
     "end_time": "2022-04-25T11:09:19.231987",
     "exception": false,
     "start_time": "2022-04-25T11:09:19.079258",
     "status": "completed"
    },
    "tags": []
   },
   "outputs": [],
   "source": [
    "valid_dl = DataLoader(valid_dset, batch_size=256)"
   ]
  },
  {
   "cell_type": "markdown",
   "id": "57db088f",
   "metadata": {
    "papermill": {
     "duration": 0.142416,
     "end_time": "2022-04-25T11:09:19.521223",
     "exception": false,
     "start_time": "2022-04-25T11:09:19.378807",
     "status": "completed"
    },
    "tags": []
   },
   "source": [
    "Let's create a mini-batch of size 4 for testing:"
   ]
  },
  {
   "cell_type": "code",
   "execution_count": 75,
   "id": "3b09d791",
   "metadata": {
    "execution": {
     "iopub.execute_input": "2022-04-25T11:09:19.810451Z",
     "iopub.status.busy": "2022-04-25T11:09:19.809448Z",
     "iopub.status.idle": "2022-04-25T11:09:19.814885Z",
     "shell.execute_reply": "2022-04-25T11:09:19.815443Z",
     "shell.execute_reply.started": "2022-04-15T08:37:46.41318Z"
    },
    "papermill": {
     "duration": 0.151881,
     "end_time": "2022-04-25T11:09:19.815613",
     "exception": false,
     "start_time": "2022-04-25T11:09:19.663732",
     "status": "completed"
    },
    "tags": []
   },
   "outputs": [
    {
     "data": {
      "text/plain": [
       "torch.Size([4, 784])"
      ]
     },
     "execution_count": 75,
     "metadata": {},
     "output_type": "execute_result"
    }
   ],
   "source": [
    "batch = train_x[:4]\n",
    "batch.shape"
   ]
  },
  {
   "cell_type": "code",
   "execution_count": 76,
   "id": "9f370177",
   "metadata": {
    "execution": {
     "iopub.execute_input": "2022-04-25T11:09:20.110040Z",
     "iopub.status.busy": "2022-04-25T11:09:20.109149Z",
     "iopub.status.idle": "2022-04-25T11:09:20.114718Z",
     "shell.execute_reply": "2022-04-25T11:09:20.115222Z",
     "shell.execute_reply.started": "2022-04-15T08:37:52.318144Z"
    },
    "papermill": {
     "duration": 0.153888,
     "end_time": "2022-04-25T11:09:20.115389",
     "exception": false,
     "start_time": "2022-04-25T11:09:19.961501",
     "status": "completed"
    },
    "tags": []
   },
   "outputs": [
    {
     "data": {
      "text/plain": [
       "tensor([[-2.1876],\n",
       "        [-8.3973],\n",
       "        [ 2.5000],\n",
       "        [-4.9473]], grad_fn=<AddBackward0>)"
      ]
     },
     "execution_count": 76,
     "metadata": {},
     "output_type": "execute_result"
    }
   ],
   "source": [
    "preds = linear1(batch)\n",
    "preds"
   ]
  },
  {
   "cell_type": "code",
   "execution_count": 77,
   "id": "6f6d5187",
   "metadata": {
    "execution": {
     "iopub.execute_input": "2022-04-25T11:09:20.405804Z",
     "iopub.status.busy": "2022-04-25T11:09:20.405268Z",
     "iopub.status.idle": "2022-04-25T11:09:20.411318Z",
     "shell.execute_reply": "2022-04-25T11:09:20.410889Z",
     "shell.execute_reply.started": "2022-04-15T08:37:59.691605Z"
    },
    "papermill": {
     "duration": 0.15252,
     "end_time": "2022-04-25T11:09:20.411445",
     "exception": false,
     "start_time": "2022-04-25T11:09:20.258925",
     "status": "completed"
    },
    "tags": []
   },
   "outputs": [
    {
     "data": {
      "text/plain": [
       "tensor(0.7419, grad_fn=<MeanBackward0>)"
      ]
     },
     "execution_count": 77,
     "metadata": {},
     "output_type": "execute_result"
    }
   ],
   "source": [
    "loss = mnist_loss(preds, train_y[:4])\n",
    "loss"
   ]
  },
  {
   "cell_type": "markdown",
   "id": "bc363ee1",
   "metadata": {
    "papermill": {
     "duration": 0.150017,
     "end_time": "2022-04-25T11:09:20.706326",
     "exception": false,
     "start_time": "2022-04-25T11:09:20.556309",
     "status": "completed"
    },
    "tags": []
   },
   "source": [
    "Now we can calculate the gradients:"
   ]
  },
  {
   "cell_type": "code",
   "execution_count": 78,
   "id": "acd232c1",
   "metadata": {
    "execution": {
     "iopub.execute_input": "2022-04-25T11:09:21.005575Z",
     "iopub.status.busy": "2022-04-25T11:09:21.004942Z",
     "iopub.status.idle": "2022-04-25T11:09:21.015984Z",
     "shell.execute_reply": "2022-04-25T11:09:21.015455Z",
     "shell.execute_reply.started": "2022-04-15T08:38:20.605835Z"
    },
    "papermill": {
     "duration": 0.163574,
     "end_time": "2022-04-25T11:09:21.016122",
     "exception": false,
     "start_time": "2022-04-25T11:09:20.852548",
     "status": "completed"
    },
    "tags": []
   },
   "outputs": [
    {
     "data": {
      "text/plain": [
       "(torch.Size([784, 1]), tensor(-0.0061), tensor([-0.0420]))"
      ]
     },
     "execution_count": 78,
     "metadata": {},
     "output_type": "execute_result"
    }
   ],
   "source": [
    "loss.backward()\n",
    "weights.grad.shape, weights.grad.mean(), bias.grad"
   ]
  },
  {
   "cell_type": "markdown",
   "id": "140ceaee",
   "metadata": {
    "papermill": {
     "duration": 0.145774,
     "end_time": "2022-04-25T11:09:21.309927",
     "exception": false,
     "start_time": "2022-04-25T11:09:21.164153",
     "status": "completed"
    },
    "tags": []
   },
   "source": [
    "The gradients are 784 by 1, so a column where every row is the gradient of the weight and the bias gradient is just a single number.\n",
    "\n",
    "Let's put that all in a function:"
   ]
  },
  {
   "cell_type": "code",
   "execution_count": 79,
   "id": "88fdb354",
   "metadata": {
    "execution": {
     "iopub.execute_input": "2022-04-25T11:09:21.602598Z",
     "iopub.status.busy": "2022-04-25T11:09:21.602039Z",
     "iopub.status.idle": "2022-04-25T11:09:21.604162Z",
     "shell.execute_reply": "2022-04-25T11:09:21.604679Z",
     "shell.execute_reply.started": "2022-04-15T08:42:21.300373Z"
    },
    "papermill": {
     "duration": 0.150468,
     "end_time": "2022-04-25T11:09:21.604833",
     "exception": false,
     "start_time": "2022-04-25T11:09:21.454365",
     "status": "completed"
    },
    "tags": []
   },
   "outputs": [],
   "source": [
    "def calc_grad(xb, yb, model):\n",
    "    preds = model(xb)\n",
    "    loss = mnist_loss(preds, yb)\n",
    "    loss.backward()"
   ]
  },
  {
   "cell_type": "markdown",
   "id": "18931d35",
   "metadata": {
    "papermill": {
     "duration": 0.145277,
     "end_time": "2022-04-25T11:09:21.894003",
     "exception": false,
     "start_time": "2022-04-25T11:09:21.748726",
     "status": "completed"
    },
    "tags": []
   },
   "source": [
    "and test it:"
   ]
  },
  {
   "cell_type": "code",
   "execution_count": 80,
   "id": "5c59d511",
   "metadata": {
    "execution": {
     "iopub.execute_input": "2022-04-25T11:09:22.193147Z",
     "iopub.status.busy": "2022-04-25T11:09:22.192525Z",
     "iopub.status.idle": "2022-04-25T11:09:22.200274Z",
     "shell.execute_reply": "2022-04-25T11:09:22.200764Z",
     "shell.execute_reply.started": "2022-04-15T08:42:36.000456Z"
    },
    "papermill": {
     "duration": 0.159873,
     "end_time": "2022-04-25T11:09:22.200946",
     "exception": false,
     "start_time": "2022-04-25T11:09:22.041073",
     "status": "completed"
    },
    "tags": []
   },
   "outputs": [
    {
     "data": {
      "text/plain": [
       "(tensor(-0.0121), tensor([-0.0840]))"
      ]
     },
     "execution_count": 80,
     "metadata": {},
     "output_type": "execute_result"
    }
   ],
   "source": [
    "calc_grad(batch, train_y[:4], linear1)\n",
    "weights.grad.mean(), bias.grad"
   ]
  },
  {
   "cell_type": "markdown",
   "id": "7d6295bc",
   "metadata": {
    "papermill": {
     "duration": 0.145601,
     "end_time": "2022-04-25T11:09:22.492226",
     "exception": false,
     "start_time": "2022-04-25T11:09:22.346625",
     "status": "completed"
    },
    "tags": []
   },
   "source": [
    "But look what happens if we call it twice:"
   ]
  },
  {
   "cell_type": "code",
   "execution_count": 81,
   "id": "ee33709c",
   "metadata": {
    "execution": {
     "iopub.execute_input": "2022-04-25T11:09:22.789171Z",
     "iopub.status.busy": "2022-04-25T11:09:22.788511Z",
     "iopub.status.idle": "2022-04-25T11:09:22.794632Z",
     "shell.execute_reply": "2022-04-25T11:09:22.795136Z",
     "shell.execute_reply.started": "2022-04-15T08:42:53.761154Z"
    },
    "papermill": {
     "duration": 0.1551,
     "end_time": "2022-04-25T11:09:22.795300",
     "exception": false,
     "start_time": "2022-04-25T11:09:22.640200",
     "status": "completed"
    },
    "tags": []
   },
   "outputs": [
    {
     "data": {
      "text/plain": [
       "(tensor(-0.0182), tensor([-0.1260]))"
      ]
     },
     "execution_count": 81,
     "metadata": {},
     "output_type": "execute_result"
    }
   ],
   "source": [
    "calc_grad(batch, train_y[:4], linear1)\n",
    "weights.grad.mean(), bias.grad"
   ]
  },
  {
   "cell_type": "markdown",
   "id": "ae1ea1ce",
   "metadata": {
    "papermill": {
     "duration": 0.147383,
     "end_time": "2022-04-25T11:09:23.088977",
     "exception": false,
     "start_time": "2022-04-25T11:09:22.941594",
     "status": "completed"
    },
    "tags": []
   },
   "source": [
    "The gradients have changed! The reason for this is that `loss.backward` actually *adds* the gradients of `loss` to any gradients that are currently stored. So, we have to set the current gradients to 0 first:"
   ]
  },
  {
   "cell_type": "code",
   "execution_count": 82,
   "id": "5a675dc2",
   "metadata": {
    "execution": {
     "iopub.execute_input": "2022-04-25T11:09:23.380466Z",
     "iopub.status.busy": "2022-04-25T11:09:23.379895Z",
     "iopub.status.idle": "2022-04-25T11:09:23.383070Z",
     "shell.execute_reply": "2022-04-25T11:09:23.383579Z",
     "shell.execute_reply.started": "2022-04-15T08:43:56.075575Z"
    },
    "papermill": {
     "duration": 0.150473,
     "end_time": "2022-04-25T11:09:23.383736",
     "exception": false,
     "start_time": "2022-04-25T11:09:23.233263",
     "status": "completed"
    },
    "tags": []
   },
   "outputs": [],
   "source": [
    "weights.grad.zero_()\n",
    "bias.grad.zero_();"
   ]
  },
  {
   "cell_type": "markdown",
   "id": "476f5a93",
   "metadata": {
    "papermill": {
     "duration": 0.144447,
     "end_time": "2022-04-25T11:09:23.672417",
     "exception": false,
     "start_time": "2022-04-25T11:09:23.527970",
     "status": "completed"
    },
    "tags": []
   },
   "source": [
    "> note: Inplace Operations: Methods in PyTorch whose names end in an underscore modify their objects _in place_. For instance, `bias.zero_()` sets all elements of the tensor `bias` to 0.\n",
    "\n",
    "Our only remaining step is to update the weights and biases based on the gradient and learning rate. When we do so, we have to tell PyTorch not to take the gradient of this step too—otherwise things will get very confusing when we try to compute the derivative at the next batch! If we assign to the `data` attribute of a tensor then PyTorch will not take the gradient of that step. Here's our basic training loop for an epoch:"
   ]
  },
  {
   "cell_type": "code",
   "execution_count": 83,
   "id": "6fa426ab",
   "metadata": {
    "execution": {
     "iopub.execute_input": "2022-04-25T11:09:23.966043Z",
     "iopub.status.busy": "2022-04-25T11:09:23.965417Z",
     "iopub.status.idle": "2022-04-25T11:09:23.969213Z",
     "shell.execute_reply": "2022-04-25T11:09:23.969656Z",
     "shell.execute_reply.started": "2022-04-15T08:48:13.970649Z"
    },
    "papermill": {
     "duration": 0.153257,
     "end_time": "2022-04-25T11:09:23.969828",
     "exception": false,
     "start_time": "2022-04-25T11:09:23.816571",
     "status": "completed"
    },
    "tags": []
   },
   "outputs": [],
   "source": [
    "def train_epoch(model, lr, params):\n",
    "    for xb,yb in dl:\n",
    "        calc_grad(xb, yb, model)\n",
    "        for p in params:\n",
    "            p.data -= p.grad*lr\n",
    "            p.grad.zero_()"
   ]
  },
  {
   "cell_type": "markdown",
   "id": "afd663ff",
   "metadata": {
    "papermill": {
     "duration": 0.194928,
     "end_time": "2022-04-25T11:09:24.312758",
     "exception": false,
     "start_time": "2022-04-25T11:09:24.117830",
     "status": "completed"
    },
    "tags": []
   },
   "source": [
    "We also want to check how we're doing, by looking at the accuracy of the validation set. To decide if an output represents a 3 or a 7, we can just check whether it's greater than 0. So our accuracy for each item can be calculated with:"
   ]
  },
  {
   "cell_type": "code",
   "execution_count": 84,
   "id": "1d0bd5d5",
   "metadata": {
    "execution": {
     "iopub.execute_input": "2022-04-25T11:09:24.606728Z",
     "iopub.status.busy": "2022-04-25T11:09:24.606146Z",
     "iopub.status.idle": "2022-04-25T11:09:24.610942Z",
     "shell.execute_reply": "2022-04-25T11:09:24.611460Z",
     "shell.execute_reply.started": "2022-04-15T08:44:33.651347Z"
    },
    "papermill": {
     "duration": 0.151867,
     "end_time": "2022-04-25T11:09:24.611620",
     "exception": false,
     "start_time": "2022-04-25T11:09:24.459753",
     "status": "completed"
    },
    "tags": []
   },
   "outputs": [
    {
     "data": {
      "text/plain": [
       "tensor([[False],\n",
       "        [False],\n",
       "        [ True],\n",
       "        [False]])"
      ]
     },
     "execution_count": 84,
     "metadata": {},
     "output_type": "execute_result"
    }
   ],
   "source": [
    "(preds>0.0).float() == train_y[:4]"
   ]
  },
  {
   "cell_type": "markdown",
   "id": "aa1160bb",
   "metadata": {
    "papermill": {
     "duration": 0.148099,
     "end_time": "2022-04-25T11:09:24.905349",
     "exception": false,
     "start_time": "2022-04-25T11:09:24.757250",
     "status": "completed"
    },
    "tags": []
   },
   "source": [
    "That gives us this function to calculate our validation accuracy:"
   ]
  },
  {
   "cell_type": "code",
   "execution_count": 85,
   "id": "a9444039",
   "metadata": {
    "execution": {
     "iopub.execute_input": "2022-04-25T11:09:25.210903Z",
     "iopub.status.busy": "2022-04-25T11:09:25.210305Z",
     "iopub.status.idle": "2022-04-25T11:09:25.213595Z",
     "shell.execute_reply": "2022-04-25T11:09:25.214083Z",
     "shell.execute_reply.started": "2022-04-15T08:44:58.21193Z"
    },
    "papermill": {
     "duration": 0.154745,
     "end_time": "2022-04-25T11:09:25.214249",
     "exception": false,
     "start_time": "2022-04-25T11:09:25.059504",
     "status": "completed"
    },
    "tags": []
   },
   "outputs": [],
   "source": [
    "def batch_accuracy(xb, yb):\n",
    "    preds = xb.sigmoid()\n",
    "    correct = (preds>0.5) == yb\n",
    "    return correct.float().mean()"
   ]
  },
  {
   "cell_type": "markdown",
   "id": "c924fc22",
   "metadata": {
    "papermill": {
     "duration": 0.146854,
     "end_time": "2022-04-25T11:09:25.507288",
     "exception": false,
     "start_time": "2022-04-25T11:09:25.360434",
     "status": "completed"
    },
    "tags": []
   },
   "source": [
    "We can check it works:"
   ]
  },
  {
   "cell_type": "code",
   "execution_count": 86,
   "id": "6d46c7f1",
   "metadata": {
    "execution": {
     "iopub.execute_input": "2022-04-25T11:09:25.803625Z",
     "iopub.status.busy": "2022-04-25T11:09:25.803098Z",
     "iopub.status.idle": "2022-04-25T11:09:25.808086Z",
     "shell.execute_reply": "2022-04-25T11:09:25.808511Z",
     "shell.execute_reply.started": "2022-04-15T08:45:12.085712Z"
    },
    "papermill": {
     "duration": 0.154273,
     "end_time": "2022-04-25T11:09:25.808677",
     "exception": false,
     "start_time": "2022-04-25T11:09:25.654404",
     "status": "completed"
    },
    "tags": []
   },
   "outputs": [
    {
     "data": {
      "text/plain": [
       "tensor(0.2500)"
      ]
     },
     "execution_count": 86,
     "metadata": {},
     "output_type": "execute_result"
    }
   ],
   "source": [
    "batch_accuracy(linear1(batch), train_y[:4])"
   ]
  },
  {
   "cell_type": "markdown",
   "id": "73239de4",
   "metadata": {
    "papermill": {
     "duration": 0.152457,
     "end_time": "2022-04-25T11:09:26.110507",
     "exception": false,
     "start_time": "2022-04-25T11:09:25.958050",
     "status": "completed"
    },
    "tags": []
   },
   "source": [
    "and then put the batches together (i.e. compute the accuracy on all our batches in the validation set):"
   ]
  },
  {
   "cell_type": "code",
   "execution_count": 87,
   "id": "46fdff7a",
   "metadata": {
    "execution": {
     "iopub.execute_input": "2022-04-25T11:09:26.408095Z",
     "iopub.status.busy": "2022-04-25T11:09:26.407375Z",
     "iopub.status.idle": "2022-04-25T11:09:26.410537Z",
     "shell.execute_reply": "2022-04-25T11:09:26.410968Z",
     "shell.execute_reply.started": "2022-04-15T08:47:30.332837Z"
    },
    "papermill": {
     "duration": 0.153342,
     "end_time": "2022-04-25T11:09:26.411137",
     "exception": false,
     "start_time": "2022-04-25T11:09:26.257795",
     "status": "completed"
    },
    "tags": []
   },
   "outputs": [],
   "source": [
    "def validate_epoch(model):\n",
    "    accs = [batch_accuracy(model(xb), yb) for xb,yb in valid_dl]\n",
    "    return round(torch.stack(accs).mean().item(), 4)"
   ]
  },
  {
   "cell_type": "code",
   "execution_count": 88,
   "id": "f5cce53d",
   "metadata": {
    "execution": {
     "iopub.execute_input": "2022-04-25T11:09:26.712377Z",
     "iopub.status.busy": "2022-04-25T11:09:26.711724Z",
     "iopub.status.idle": "2022-04-25T11:09:26.731247Z",
     "shell.execute_reply": "2022-04-25T11:09:26.731766Z",
     "shell.execute_reply.started": "2022-04-15T08:47:30.924705Z"
    },
    "papermill": {
     "duration": 0.173613,
     "end_time": "2022-04-25T11:09:26.731967",
     "exception": false,
     "start_time": "2022-04-25T11:09:26.558354",
     "status": "completed"
    },
    "tags": []
   },
   "outputs": [
    {
     "data": {
      "text/plain": [
       "0.5264"
      ]
     },
     "execution_count": 88,
     "metadata": {},
     "output_type": "execute_result"
    }
   ],
   "source": [
    "validate_epoch(linear1)"
   ]
  },
  {
   "cell_type": "markdown",
   "id": "314dfb96",
   "metadata": {
    "papermill": {
     "duration": 0.151585,
     "end_time": "2022-04-25T11:09:27.031906",
     "exception": false,
     "start_time": "2022-04-25T11:09:26.880321",
     "status": "completed"
    },
    "tags": []
   },
   "source": [
    "That's our starting point. Let's train for one epoch, and see if the accuracy improves:"
   ]
  },
  {
   "cell_type": "code",
   "execution_count": 89,
   "id": "6f2c84e6",
   "metadata": {
    "execution": {
     "iopub.execute_input": "2022-04-25T11:09:27.332359Z",
     "iopub.status.busy": "2022-04-25T11:09:27.331609Z",
     "iopub.status.idle": "2022-04-25T11:09:27.409382Z",
     "shell.execute_reply": "2022-04-25T11:09:27.409818Z",
     "shell.execute_reply.started": "2022-04-15T08:48:17.046995Z"
    },
    "papermill": {
     "duration": 0.231599,
     "end_time": "2022-04-25T11:09:27.410010",
     "exception": false,
     "start_time": "2022-04-25T11:09:27.178411",
     "status": "completed"
    },
    "tags": []
   },
   "outputs": [
    {
     "data": {
      "text/plain": [
       "0.6664"
      ]
     },
     "execution_count": 89,
     "metadata": {},
     "output_type": "execute_result"
    }
   ],
   "source": [
    "lr = 1.\n",
    "params = weights,bias\n",
    "train_epoch(linear1, lr, params)\n",
    "validate_epoch(linear1)"
   ]
  },
  {
   "cell_type": "markdown",
   "id": "82921e96",
   "metadata": {
    "papermill": {
     "duration": 0.146587,
     "end_time": "2022-04-25T11:09:27.702518",
     "exception": false,
     "start_time": "2022-04-25T11:09:27.555931",
     "status": "completed"
    },
    "tags": []
   },
   "source": [
    "Then do a few more:"
   ]
  },
  {
   "cell_type": "code",
   "execution_count": 90,
   "id": "0514fb88",
   "metadata": {
    "execution": {
     "iopub.execute_input": "2022-04-25T11:09:28.009025Z",
     "iopub.status.busy": "2022-04-25T11:09:28.008070Z",
     "iopub.status.idle": "2022-04-25T11:09:29.604383Z",
     "shell.execute_reply": "2022-04-25T11:09:29.605000Z",
     "shell.execute_reply.started": "2022-04-15T08:48:37.193245Z"
    },
    "papermill": {
     "duration": 1.753492,
     "end_time": "2022-04-25T11:09:29.605230",
     "exception": false,
     "start_time": "2022-04-25T11:09:27.851738",
     "status": "completed"
    },
    "tags": []
   },
   "outputs": [
    {
     "name": "stdout",
     "output_type": "stream",
     "text": [
      "0.8265 0.89 0.9183 0.9276 0.9398 0.9467 0.9506 0.9525 0.9559 0.9579 0.9598 0.9608 0.9613 0.9618 0.9633 0.9637 0.9647 0.9657 0.9672 0.9677 "
     ]
    }
   ],
   "source": [
    "for i in range(20):\n",
    "    train_epoch(linear1, lr, params)\n",
    "    print(validate_epoch(linear1), end=' ')"
   ]
  },
  {
   "cell_type": "markdown",
   "id": "49bd63ad",
   "metadata": {
    "papermill": {
     "duration": 0.148283,
     "end_time": "2022-04-25T11:09:29.907565",
     "exception": false,
     "start_time": "2022-04-25T11:09:29.759282",
     "status": "completed"
    },
    "tags": []
   },
   "source": [
    "Looking good! We're already at a good accuracy, and we've created a general-purpose foundation we can build on. Our next step will be to create an object that will handle the SGD step for us. In PyTorch, it's called an *optimizer*.\n",
    "\n",
    "### Creating an Optimizer\n",
    "\n",
    "Because this is such a general foundation, PyTorch provides some useful classes to make it easier to implement. The first thing we can do is replace our `linear1` function with PyTorch's `nn.Linear` module. A *module* is an object of a class that inherits from the PyTorch `nn.Module` class. Objects of this class behave identically to standard Python functions, in that you can call them using parentheses and they will return the activations of a model.\n",
    "\n",
    "`nn.Linear` does the same thing as our `init_params` and `linear` together. It contains both the *weights* and *biases* in a single class. Here's how we replicate our model from the previous section:"
   ]
  },
  {
   "cell_type": "code",
   "execution_count": 91,
   "id": "b868eaeb",
   "metadata": {
    "execution": {
     "iopub.execute_input": "2022-04-25T11:09:30.215945Z",
     "iopub.status.busy": "2022-04-25T11:09:30.215001Z",
     "iopub.status.idle": "2022-04-25T11:09:30.217654Z",
     "shell.execute_reply": "2022-04-25T11:09:30.217124Z",
     "shell.execute_reply.started": "2022-04-15T08:50:15.988672Z"
    },
    "papermill": {
     "duration": 0.156723,
     "end_time": "2022-04-25T11:09:30.217796",
     "exception": false,
     "start_time": "2022-04-25T11:09:30.061073",
     "status": "completed"
    },
    "tags": []
   },
   "outputs": [],
   "source": [
    "linear_model = nn.Linear(28*28,1)"
   ]
  },
  {
   "cell_type": "markdown",
   "id": "808e9c2b",
   "metadata": {
    "papermill": {
     "duration": 0.14758,
     "end_time": "2022-04-25T11:09:30.514696",
     "exception": false,
     "start_time": "2022-04-25T11:09:30.367116",
     "status": "completed"
    },
    "tags": []
   },
   "source": [
    "Every PyTorch module knows what parameters it has that can be trained; they are available through the `parameters` method:"
   ]
  },
  {
   "cell_type": "code",
   "execution_count": 92,
   "id": "ce87773a",
   "metadata": {
    "execution": {
     "iopub.execute_input": "2022-04-25T11:09:30.815443Z",
     "iopub.status.busy": "2022-04-25T11:09:30.814485Z",
     "iopub.status.idle": "2022-04-25T11:09:30.820068Z",
     "shell.execute_reply": "2022-04-25T11:09:30.820544Z",
     "shell.execute_reply.started": "2022-04-15T08:50:36.145367Z"
    },
    "papermill": {
     "duration": 0.158666,
     "end_time": "2022-04-25T11:09:30.820713",
     "exception": false,
     "start_time": "2022-04-25T11:09:30.662047",
     "status": "completed"
    },
    "tags": []
   },
   "outputs": [
    {
     "data": {
      "text/plain": [
       "(torch.Size([1, 784]), torch.Size([1]))"
      ]
     },
     "execution_count": 92,
     "metadata": {},
     "output_type": "execute_result"
    }
   ],
   "source": [
    "w,b = linear_model.parameters()\n",
    "w.shape,b.shape"
   ]
  },
  {
   "cell_type": "markdown",
   "id": "bbe20fe9",
   "metadata": {
    "papermill": {
     "duration": 0.151323,
     "end_time": "2022-04-25T11:09:31.121481",
     "exception": false,
     "start_time": "2022-04-25T11:09:30.970158",
     "status": "completed"
    },
    "tags": []
   },
   "source": [
    "We can use this information to create an optimizer:"
   ]
  },
  {
   "cell_type": "code",
   "execution_count": 93,
   "id": "3aaadcef",
   "metadata": {
    "execution": {
     "iopub.execute_input": "2022-04-25T11:09:31.428029Z",
     "iopub.status.busy": "2022-04-25T11:09:31.427133Z",
     "iopub.status.idle": "2022-04-25T11:09:31.432321Z",
     "shell.execute_reply": "2022-04-25T11:09:31.432814Z",
     "shell.execute_reply.started": "2022-04-15T08:50:55.287566Z"
    },
    "papermill": {
     "duration": 0.157439,
     "end_time": "2022-04-25T11:09:31.433005",
     "exception": false,
     "start_time": "2022-04-25T11:09:31.275566",
     "status": "completed"
    },
    "tags": []
   },
   "outputs": [],
   "source": [
    "class BasicOptim:\n",
    "    def __init__(self,params,lr): \n",
    "        self.params,self.lr = list(params),lr\n",
    "\n",
    "    def step(self, *args, **kwargs):\n",
    "        for p in self.params: \n",
    "            p.data -= p.grad.data * self.lr\n",
    "\n",
    "    def zero_grad(self, *args, **kwargs):\n",
    "        for p in self.params: \n",
    "            p.grad = None"
   ]
  },
  {
   "cell_type": "markdown",
   "id": "fae6df14",
   "metadata": {
    "papermill": {
     "duration": 0.148306,
     "end_time": "2022-04-25T11:09:31.734395",
     "exception": false,
     "start_time": "2022-04-25T11:09:31.586089",
     "status": "completed"
    },
    "tags": []
   },
   "source": [
    "We can create our optimizer by passing in the model's parameters:"
   ]
  },
  {
   "cell_type": "code",
   "execution_count": 94,
   "id": "466c14bb",
   "metadata": {
    "execution": {
     "iopub.execute_input": "2022-04-25T11:09:32.042901Z",
     "iopub.status.busy": "2022-04-25T11:09:32.041979Z",
     "iopub.status.idle": "2022-04-25T11:09:32.045481Z",
     "shell.execute_reply": "2022-04-25T11:09:32.045973Z",
     "shell.execute_reply.started": "2022-04-15T08:51:50.130075Z"
    },
    "papermill": {
     "duration": 0.158677,
     "end_time": "2022-04-25T11:09:32.046133",
     "exception": false,
     "start_time": "2022-04-25T11:09:31.887456",
     "status": "completed"
    },
    "tags": []
   },
   "outputs": [],
   "source": [
    "opt = BasicOptim(linear_model.parameters(), lr)"
   ]
  },
  {
   "cell_type": "markdown",
   "id": "92e1c1ee",
   "metadata": {
    "papermill": {
     "duration": 0.151378,
     "end_time": "2022-04-25T11:09:32.347612",
     "exception": false,
     "start_time": "2022-04-25T11:09:32.196234",
     "status": "completed"
    },
    "tags": []
   },
   "source": [
    "Our training loop can now be simplified to:"
   ]
  },
  {
   "cell_type": "code",
   "execution_count": 95,
   "id": "041997bf",
   "metadata": {
    "execution": {
     "iopub.execute_input": "2022-04-25T11:09:32.658948Z",
     "iopub.status.busy": "2022-04-25T11:09:32.658309Z",
     "iopub.status.idle": "2022-04-25T11:09:32.660576Z",
     "shell.execute_reply": "2022-04-25T11:09:32.660017Z",
     "shell.execute_reply.started": "2022-04-15T08:52:11.561442Z"
    },
    "papermill": {
     "duration": 0.157296,
     "end_time": "2022-04-25T11:09:32.660705",
     "exception": false,
     "start_time": "2022-04-25T11:09:32.503409",
     "status": "completed"
    },
    "tags": []
   },
   "outputs": [],
   "source": [
    "def train_epoch(model):\n",
    "    for xb,yb in dl:\n",
    "        calc_grad(xb, yb, model)\n",
    "        opt.step()\n",
    "        opt.zero_grad()"
   ]
  },
  {
   "cell_type": "markdown",
   "id": "5f13cc57",
   "metadata": {
    "papermill": {
     "duration": 0.150024,
     "end_time": "2022-04-25T11:09:32.959111",
     "exception": false,
     "start_time": "2022-04-25T11:09:32.809087",
     "status": "completed"
    },
    "tags": []
   },
   "source": [
    "Our validation function doesn't need to change at all:"
   ]
  },
  {
   "cell_type": "code",
   "execution_count": 96,
   "id": "87c468b6",
   "metadata": {
    "execution": {
     "iopub.execute_input": "2022-04-25T11:09:33.261662Z",
     "iopub.status.busy": "2022-04-25T11:09:33.260633Z",
     "iopub.status.idle": "2022-04-25T11:09:33.282166Z",
     "shell.execute_reply": "2022-04-25T11:09:33.281658Z",
     "shell.execute_reply.started": "2022-04-15T08:52:26.654175Z"
    },
    "papermill": {
     "duration": 0.172827,
     "end_time": "2022-04-25T11:09:33.282309",
     "exception": false,
     "start_time": "2022-04-25T11:09:33.109482",
     "status": "completed"
    },
    "tags": []
   },
   "outputs": [
    {
     "data": {
      "text/plain": [
       "0.4607"
      ]
     },
     "execution_count": 96,
     "metadata": {},
     "output_type": "execute_result"
    }
   ],
   "source": [
    "validate_epoch(linear_model)"
   ]
  },
  {
   "cell_type": "markdown",
   "id": "57e053f8",
   "metadata": {
    "papermill": {
     "duration": 0.147759,
     "end_time": "2022-04-25T11:09:33.580913",
     "exception": false,
     "start_time": "2022-04-25T11:09:33.433154",
     "status": "completed"
    },
    "tags": []
   },
   "source": [
    "Let's put our little training loop in a function, to make things simpler:"
   ]
  },
  {
   "cell_type": "code",
   "execution_count": 97,
   "id": "d7e3fd06",
   "metadata": {
    "execution": {
     "iopub.execute_input": "2022-04-25T11:09:33.889593Z",
     "iopub.status.busy": "2022-04-25T11:09:33.887428Z",
     "iopub.status.idle": "2022-04-25T11:09:33.891641Z",
     "shell.execute_reply": "2022-04-25T11:09:33.892137Z",
     "shell.execute_reply.started": "2022-04-15T08:52:43.58315Z"
    },
    "papermill": {
     "duration": 0.161958,
     "end_time": "2022-04-25T11:09:33.892338",
     "exception": false,
     "start_time": "2022-04-25T11:09:33.730380",
     "status": "completed"
    },
    "tags": []
   },
   "outputs": [],
   "source": [
    "def train_model(model, epochs):\n",
    "    for i in range(epochs):\n",
    "        train_epoch(model)\n",
    "        print(validate_epoch(model), end=' ')"
   ]
  },
  {
   "cell_type": "markdown",
   "id": "a5600f62",
   "metadata": {
    "papermill": {
     "duration": 0.151665,
     "end_time": "2022-04-25T11:09:34.194236",
     "exception": false,
     "start_time": "2022-04-25T11:09:34.042571",
     "status": "completed"
    },
    "tags": []
   },
   "source": [
    "The results are the same as in the previous section:"
   ]
  },
  {
   "cell_type": "code",
   "execution_count": 98,
   "id": "ca11acfa",
   "metadata": {
    "execution": {
     "iopub.execute_input": "2022-04-25T11:09:34.506173Z",
     "iopub.status.busy": "2022-04-25T11:09:34.505098Z",
     "iopub.status.idle": "2022-04-25T11:09:36.076884Z",
     "shell.execute_reply": "2022-04-25T11:09:36.076101Z",
     "shell.execute_reply.started": "2022-04-15T08:52:57.281974Z"
    },
    "papermill": {
     "duration": 1.731425,
     "end_time": "2022-04-25T11:09:36.077052",
     "exception": false,
     "start_time": "2022-04-25T11:09:34.345627",
     "status": "completed"
    },
    "tags": []
   },
   "outputs": [
    {
     "name": "stdout",
     "output_type": "stream",
     "text": [
      "0.4932 0.7685 0.8554 0.9135 0.9345 0.9482 0.957 0.9633 0.9658 0.9677 0.9697 0.9716 0.9736 0.9745 0.976 0.977 0.9775 0.9775 0.978 0.9785 "
     ]
    }
   ],
   "source": [
    "train_model(linear_model, 20)"
   ]
  },
  {
   "cell_type": "markdown",
   "id": "6ab36ba4",
   "metadata": {
    "papermill": {
     "duration": 0.150008,
     "end_time": "2022-04-25T11:09:36.380351",
     "exception": false,
     "start_time": "2022-04-25T11:09:36.230343",
     "status": "completed"
    },
    "tags": []
   },
   "source": [
    "fastai provides the `SGD` class which, by default, does the same thing as our `BasicOptim`:"
   ]
  },
  {
   "cell_type": "code",
   "execution_count": 99,
   "id": "515c54b5",
   "metadata": {
    "execution": {
     "iopub.execute_input": "2022-04-25T11:09:36.686634Z",
     "iopub.status.busy": "2022-04-25T11:09:36.685668Z",
     "iopub.status.idle": "2022-04-25T11:09:38.357301Z",
     "shell.execute_reply": "2022-04-25T11:09:38.356761Z",
     "shell.execute_reply.started": "2022-04-15T08:53:41.696547Z"
    },
    "papermill": {
     "duration": 1.826294,
     "end_time": "2022-04-25T11:09:38.357450",
     "exception": false,
     "start_time": "2022-04-25T11:09:36.531156",
     "status": "completed"
    },
    "tags": []
   },
   "outputs": [
    {
     "name": "stdout",
     "output_type": "stream",
     "text": [
      "0.4932 0.8178 0.8496 0.914 0.9345 0.9482 0.957 0.9619 0.9658 0.9672 0.9692 0.9711 0.9741 0.975 0.976 0.9775 0.9775 0.978 0.9785 0.9789 "
     ]
    }
   ],
   "source": [
    "linear_model = nn.Linear(28*28,1)\n",
    "opt = SGD(linear_model.parameters(), lr)\n",
    "train_model(linear_model, 20)"
   ]
  },
  {
   "cell_type": "markdown",
   "id": "ec7e10ed",
   "metadata": {
    "papermill": {
     "duration": 0.153038,
     "end_time": "2022-04-25T11:09:38.665484",
     "exception": false,
     "start_time": "2022-04-25T11:09:38.512446",
     "status": "completed"
    },
    "tags": []
   },
   "source": [
    "fastai also provides `Learner.fit`, which we can use instead of `train_model`. To create a `Learner` we first need to create a `DataLoaders`, by passing in our training and validation `DataLoader`s:"
   ]
  },
  {
   "cell_type": "code",
   "execution_count": 100,
   "id": "36c71404",
   "metadata": {
    "execution": {
     "iopub.execute_input": "2022-04-25T11:09:38.976237Z",
     "iopub.status.busy": "2022-04-25T11:09:38.975548Z",
     "iopub.status.idle": "2022-04-25T11:09:38.978962Z",
     "shell.execute_reply": "2022-04-25T11:09:38.979399Z",
     "shell.execute_reply.started": "2022-04-15T08:54:08.549407Z"
    },
    "papermill": {
     "duration": 0.159993,
     "end_time": "2022-04-25T11:09:38.979556",
     "exception": false,
     "start_time": "2022-04-25T11:09:38.819563",
     "status": "completed"
    },
    "tags": []
   },
   "outputs": [],
   "source": [
    "dls = DataLoaders(dl, valid_dl)"
   ]
  },
  {
   "cell_type": "markdown",
   "id": "81319139",
   "metadata": {
    "papermill": {
     "duration": 0.15183,
     "end_time": "2022-04-25T11:09:39.284566",
     "exception": false,
     "start_time": "2022-04-25T11:09:39.132736",
     "status": "completed"
    },
    "tags": []
   },
   "source": [
    "To create a `Learner` without using an application (such as `cnn_learner`) we need to pass in all the elements that we've created in this chapter: the `DataLoaders`, the model, the optimization function (which will be passed the parameters), the loss function, and optionally any metrics to print:"
   ]
  },
  {
   "cell_type": "code",
   "execution_count": 101,
   "id": "18e86756",
   "metadata": {
    "execution": {
     "iopub.execute_input": "2022-04-25T11:09:39.597991Z",
     "iopub.status.busy": "2022-04-25T11:09:39.597032Z",
     "iopub.status.idle": "2022-04-25T11:09:39.602547Z",
     "shell.execute_reply": "2022-04-25T11:09:39.603081Z",
     "shell.execute_reply.started": "2022-04-15T08:54:30.422975Z"
    },
    "papermill": {
     "duration": 0.161051,
     "end_time": "2022-04-25T11:09:39.603262",
     "exception": false,
     "start_time": "2022-04-25T11:09:39.442211",
     "status": "completed"
    },
    "tags": []
   },
   "outputs": [],
   "source": [
    "learn = Learner(dls, nn.Linear(28*28,1), opt_func=SGD,\n",
    "                loss_func=mnist_loss, metrics=batch_accuracy)"
   ]
  },
  {
   "cell_type": "markdown",
   "id": "a51e1642",
   "metadata": {
    "papermill": {
     "duration": 0.154234,
     "end_time": "2022-04-25T11:09:39.911016",
     "exception": false,
     "start_time": "2022-04-25T11:09:39.756782",
     "status": "completed"
    },
    "tags": []
   },
   "source": [
    "Now we can call `fit`:"
   ]
  },
  {
   "cell_type": "code",
   "execution_count": 102,
   "id": "0ffc095f",
   "metadata": {
    "execution": {
     "iopub.execute_input": "2022-04-25T11:09:40.227025Z",
     "iopub.status.busy": "2022-04-25T11:09:40.226448Z",
     "iopub.status.idle": "2022-04-25T11:09:41.801745Z",
     "shell.execute_reply": "2022-04-25T11:09:41.802235Z",
     "shell.execute_reply.started": "2022-04-15T08:54:45.680197Z"
    },
    "papermill": {
     "duration": 1.733534,
     "end_time": "2022-04-25T11:09:41.802397",
     "exception": false,
     "start_time": "2022-04-25T11:09:40.068863",
     "status": "completed"
    },
    "tags": []
   },
   "outputs": [
    {
     "data": {
      "text/html": [
       "\n",
       "<style>\n",
       "    /* Turns off some styling */\n",
       "    progress {\n",
       "        /* gets rid of default border in Firefox and Opera. */\n",
       "        border: none;\n",
       "        /* Needs to be in here for Safari polyfill so background images work as expected. */\n",
       "        background-size: auto;\n",
       "    }\n",
       "    .progress-bar-interrupted, .progress-bar-interrupted::-webkit-progress-bar {\n",
       "        background: #F44336;\n",
       "    }\n",
       "</style>\n"
      ],
      "text/plain": [
       "<IPython.core.display.HTML object>"
      ]
     },
     "metadata": {},
     "output_type": "display_data"
    },
    {
     "data": {
      "text/html": [
       "<table border=\"1\" class=\"dataframe\">\n",
       "  <thead>\n",
       "    <tr style=\"text-align: left;\">\n",
       "      <th>epoch</th>\n",
       "      <th>train_loss</th>\n",
       "      <th>valid_loss</th>\n",
       "      <th>batch_accuracy</th>\n",
       "      <th>time</th>\n",
       "    </tr>\n",
       "  </thead>\n",
       "  <tbody>\n",
       "    <tr>\n",
       "      <td>0</td>\n",
       "      <td>0.636709</td>\n",
       "      <td>0.503144</td>\n",
       "      <td>0.495584</td>\n",
       "      <td>00:00</td>\n",
       "    </tr>\n",
       "    <tr>\n",
       "      <td>1</td>\n",
       "      <td>0.429828</td>\n",
       "      <td>0.248517</td>\n",
       "      <td>0.777233</td>\n",
       "      <td>00:00</td>\n",
       "    </tr>\n",
       "    <tr>\n",
       "      <td>2</td>\n",
       "      <td>0.161680</td>\n",
       "      <td>0.155361</td>\n",
       "      <td>0.861629</td>\n",
       "      <td>00:00</td>\n",
       "    </tr>\n",
       "    <tr>\n",
       "      <td>3</td>\n",
       "      <td>0.072948</td>\n",
       "      <td>0.097722</td>\n",
       "      <td>0.917566</td>\n",
       "      <td>00:00</td>\n",
       "    </tr>\n",
       "    <tr>\n",
       "      <td>4</td>\n",
       "      <td>0.040128</td>\n",
       "      <td>0.073205</td>\n",
       "      <td>0.936212</td>\n",
       "      <td>00:00</td>\n",
       "    </tr>\n",
       "    <tr>\n",
       "      <td>5</td>\n",
       "      <td>0.027210</td>\n",
       "      <td>0.059466</td>\n",
       "      <td>0.950442</td>\n",
       "      <td>00:00</td>\n",
       "    </tr>\n",
       "    <tr>\n",
       "      <td>6</td>\n",
       "      <td>0.021837</td>\n",
       "      <td>0.050799</td>\n",
       "      <td>0.957802</td>\n",
       "      <td>00:00</td>\n",
       "    </tr>\n",
       "    <tr>\n",
       "      <td>7</td>\n",
       "      <td>0.019398</td>\n",
       "      <td>0.044980</td>\n",
       "      <td>0.964181</td>\n",
       "      <td>00:00</td>\n",
       "    </tr>\n",
       "    <tr>\n",
       "      <td>8</td>\n",
       "      <td>0.018122</td>\n",
       "      <td>0.040853</td>\n",
       "      <td>0.966143</td>\n",
       "      <td>00:00</td>\n",
       "    </tr>\n",
       "    <tr>\n",
       "      <td>9</td>\n",
       "      <td>0.017330</td>\n",
       "      <td>0.037788</td>\n",
       "      <td>0.968106</td>\n",
       "      <td>00:00</td>\n",
       "    </tr>\n",
       "  </tbody>\n",
       "</table>"
      ],
      "text/plain": [
       "<IPython.core.display.HTML object>"
      ]
     },
     "metadata": {},
     "output_type": "display_data"
    }
   ],
   "source": [
    "learn.fit(10, lr=lr)"
   ]
  },
  {
   "cell_type": "markdown",
   "id": "3ff88b52",
   "metadata": {
    "papermill": {
     "duration": 0.157419,
     "end_time": "2022-04-25T11:09:42.114461",
     "exception": false,
     "start_time": "2022-04-25T11:09:41.957042",
     "status": "completed"
    },
    "tags": []
   },
   "source": [
    "As you can see, there's nothing magic about the PyTorch and fastai classes. They are just convenient pre-packaged pieces that make your life a bit easier! (They also provide a lot of extra functionality we'll be using in future lessons.)\n",
    "\n",
    "With these classes, we can now replace our linear model with a neural network.\n",
    "\n",
    "## Adding a Nonlinearity\n",
    "\n",
    "So far we have a general procedure for optimizing the parameters of a function, and we have tried it out on a very boring function: a simple linear classifier. A linear classifier is very constrained in terms of what it can do. To make it a bit more complex (and able to handle more tasks), we need to add something nonlinear between two linear classifiers—this is what gives us a neural network.\n",
    "\n",
    "Here is the entire definition of a basic neural network:"
   ]
  },
  {
   "cell_type": "code",
   "execution_count": 103,
   "id": "270ec78d",
   "metadata": {
    "execution": {
     "iopub.execute_input": "2022-04-25T11:09:42.426735Z",
     "iopub.status.busy": "2022-04-25T11:09:42.426135Z",
     "iopub.status.idle": "2022-04-25T11:09:42.428428Z",
     "shell.execute_reply": "2022-04-25T11:09:42.427905Z",
     "shell.execute_reply.started": "2022-04-15T08:56:10.967753Z"
    },
    "papermill": {
     "duration": 0.160038,
     "end_time": "2022-04-25T11:09:42.428554",
     "exception": false,
     "start_time": "2022-04-25T11:09:42.268516",
     "status": "completed"
    },
    "tags": []
   },
   "outputs": [],
   "source": [
    "def simple_net(xb): \n",
    "    res = xb@w1 + b1\n",
    "    res = res.max(tensor(0.0))\n",
    "    res = res@w2 + b2\n",
    "    return res"
   ]
  },
  {
   "cell_type": "markdown",
   "id": "96af6b23",
   "metadata": {
    "papermill": {
     "duration": 0.153087,
     "end_time": "2022-04-25T11:09:42.735651",
     "exception": false,
     "start_time": "2022-04-25T11:09:42.582564",
     "status": "completed"
    },
    "tags": []
   },
   "source": [
    "That's it! All we have in `simple_net` is two linear classifiers with a `max` function between them.\n",
    "\n",
    "Here, `w1` and `w2` are weight tensors, and `b1` and `b2` are bias tensors; that is, parameters that are initially randomly initialized, just like we did in the previous section:"
   ]
  },
  {
   "cell_type": "code",
   "execution_count": 104,
   "id": "930eef2c",
   "metadata": {
    "execution": {
     "iopub.execute_input": "2022-04-25T11:09:43.051340Z",
     "iopub.status.busy": "2022-04-25T11:09:43.050664Z",
     "iopub.status.idle": "2022-04-25T11:09:43.052585Z",
     "shell.execute_reply": "2022-04-25T11:09:43.053193Z",
     "shell.execute_reply.started": "2022-04-15T08:56:30.501592Z"
    },
    "papermill": {
     "duration": 0.164745,
     "end_time": "2022-04-25T11:09:43.053361",
     "exception": false,
     "start_time": "2022-04-25T11:09:42.888616",
     "status": "completed"
    },
    "tags": []
   },
   "outputs": [],
   "source": [
    "w1 = init_params((28*28,30))\n",
    "b1 = init_params(30)\n",
    "w2 = init_params((30,1))\n",
    "b2 = init_params(1)"
   ]
  },
  {
   "cell_type": "markdown",
   "id": "bdf89419",
   "metadata": {
    "papermill": {
     "duration": 0.154514,
     "end_time": "2022-04-25T11:09:43.362095",
     "exception": false,
     "start_time": "2022-04-25T11:09:43.207581",
     "status": "completed"
    },
    "tags": []
   },
   "source": [
    "The key point about this is that `w1` has 30 output activations (which means that `w2` must have 30 input activations, so they match). That means that the first layer can construct 30 different features, each representing some different mix of pixels. You can change that `30` to anything you like, to make the model more or less complex.\n",
    "\n",
    "That little function `res.max(tensor(0.0))` is called a *rectified linear unit*, also known as *ReLU*. We think we can all agree that *rectified linear unit* sounds pretty fancy and complicated... But actually, there's nothing more to it than `res.max(tensor(0.0))`—in other words, replace every negative number with a zero. This tiny function is also available in PyTorch as `F.relu`:"
   ]
  },
  {
   "cell_type": "code",
   "execution_count": 105,
   "id": "2c76c8bd",
   "metadata": {
    "execution": {
     "iopub.execute_input": "2022-04-25T11:09:43.673546Z",
     "iopub.status.busy": "2022-04-25T11:09:43.672978Z",
     "iopub.status.idle": "2022-04-25T11:09:43.832190Z",
     "shell.execute_reply": "2022-04-25T11:09:43.831576Z",
     "shell.execute_reply.started": "2022-04-15T08:56:50.252486Z"
    },
    "papermill": {
     "duration": 0.316407,
     "end_time": "2022-04-25T11:09:43.832323",
     "exception": false,
     "start_time": "2022-04-25T11:09:43.515916",
     "status": "completed"
    },
    "tags": []
   },
   "outputs": [
    {
     "data": {
      "image/png": "[encoded data removed]",
      "text/plain": [
       "<Figure size 432x288 with 1 Axes>"
      ]
     },
     "metadata": {
      "needs_background": "light"
     },
     "output_type": "display_data"
    }
   ],
   "source": [
    "plot_function(F.relu)"
   ]
  },
  {
   "cell_type": "markdown",
   "id": "ff5dd5f6",
   "metadata": {
    "papermill": {
     "duration": 0.153517,
     "end_time": "2022-04-25T11:09:44.143622",
     "exception": false,
     "start_time": "2022-04-25T11:09:43.990105",
     "status": "completed"
    },
    "tags": []
   },
   "source": [
    "> There is an enormous amount of jargon in deep learning, including terms like _rectified linear unit_. The vast vast majority of this jargon is no more complicated than can be implemented in a short line of code, as we saw in this example. The reality is that for academics to get their papers published they need to make them sound as impressive and sophisticated as possible. One of the ways that they do that is to introduce jargon. Unfortunately, this has the result that the field ends up becoming far more intimidating and difficult to get into than it should be. You do have to learn the jargon, because otherwise papers and tutorials are not going to mean much to you. But that doesn't mean you have to find the jargon intimidating. Just remember, when you come across a word or phrase that you haven't seen before, it will almost certainly turn out to be referring to a very simple concept.\n",
    "\n",
    "The basic idea is that by using more linear layers, we can have our model do more computation, and therefore model more complex functions. But there's no point just putting one linear layer directly after another one, because when we multiply things together and then add them up multiple times, that could be replaced by multiplying different things together and adding them up just once! That is to say, a series of any number of linear layers in a row can be replaced with a single linear layer with a different set of parameters.\n",
    "\n",
    "But if we put a nonlinear function between them, such as `max`, then this is no longer true. Now each linear layer is actually somewhat decoupled from the other ones, and can do its own useful work. The `max` function is particularly interesting, because it operates as a simple `if` statement.\n",
    "\n",
    "> Mathematically, we say the composition of two linear functions is another linear function. So, we can stack as many linear classifiers as we want on top of each other, and without nonlinear functions between them, it will just be the same as one linear classifier.\n",
    "\n",
    "Amazingly enough, it can be mathematically proven that this little function can solve any computable problem to an arbitrarily high level of accuracy, if you can find the right parameters for `w1` and `w2` and if you make these matrices big enough. For any arbitrarily wiggly function, we can approximate it as a bunch of lines joined together; to make it closer to the wiggly function, we just have to use shorter lines. This is known as the *universal approximation theorem*. The three lines of code that we have here are known as *layers*. The first and third are known as *linear layers*, and the second line of code is known variously as a *nonlinearity*, or *activation function*.\n",
    "\n",
    "Just like in the previous section, we can replace this code with something a bit simpler, by taking advantage of PyTorch:"
   ]
  },
  {
   "cell_type": "code",
   "execution_count": 106,
   "id": "d56847ed",
   "metadata": {
    "execution": {
     "iopub.execute_input": "2022-04-25T11:09:44.456077Z",
     "iopub.status.busy": "2022-04-25T11:09:44.455207Z",
     "iopub.status.idle": "2022-04-25T11:09:44.458182Z",
     "shell.execute_reply": "2022-04-25T11:09:44.458583Z",
     "shell.execute_reply.started": "2022-04-15T08:57:48.245633Z"
    },
    "papermill": {
     "duration": 0.160756,
     "end_time": "2022-04-25T11:09:44.458745",
     "exception": false,
     "start_time": "2022-04-25T11:09:44.297989",
     "status": "completed"
    },
    "tags": []
   },
   "outputs": [],
   "source": [
    "simple_net = nn.Sequential(\n",
    "    nn.Linear(28*28,30),\n",
    "    nn.ReLU(),\n",
    "    nn.Linear(30,1)\n",
    ")"
   ]
  },
  {
   "cell_type": "markdown",
   "id": "151d1ee2",
   "metadata": {
    "papermill": {
     "duration": 0.157086,
     "end_time": "2022-04-25T11:09:44.770175",
     "exception": false,
     "start_time": "2022-04-25T11:09:44.613089",
     "status": "completed"
    },
    "tags": []
   },
   "source": [
    "`nn.Sequential` creates a module that will call each of the listed layers or functions in turn.\n",
    "\n",
    "`nn.ReLU` is a PyTorch module that does exactly the same thing as the `F.relu` function. Most functions that can appear in a model also have identical forms that are modules. Generally, it's just a case of replacing `F` with `nn` and changing the capitalization. When using `nn.Sequential`, PyTorch requires us to use the module version. Since modules are classes, we have to instantiate them, which is why you see `nn.ReLU()` in this example. \n",
    "\n",
    "Because `nn.Sequential` is a module, we can get its parameters, which will return a list of all the parameters of all the modules it contains. Let's try it out! As this is a deeper model, we'll use a lower learning rate and a few more epochs."
   ]
  },
  {
   "cell_type": "code",
   "execution_count": 107,
   "id": "f2973bd5",
   "metadata": {
    "execution": {
     "iopub.execute_input": "2022-04-25T11:09:45.088912Z",
     "iopub.status.busy": "2022-04-25T11:09:45.088062Z",
     "iopub.status.idle": "2022-04-25T11:09:45.090139Z",
     "shell.execute_reply": "2022-04-25T11:09:45.090578Z",
     "shell.execute_reply.started": "2022-04-15T08:58:08.758622Z"
    },
    "papermill": {
     "duration": 0.164711,
     "end_time": "2022-04-25T11:09:45.090738",
     "exception": false,
     "start_time": "2022-04-25T11:09:44.926027",
     "status": "completed"
    },
    "tags": []
   },
   "outputs": [],
   "source": [
    "learn = Learner(dls, simple_net, opt_func=SGD,\n",
    "                loss_func=mnist_loss, metrics=batch_accuracy)"
   ]
  },
  {
   "cell_type": "code",
   "execution_count": 108,
   "id": "d23683ca",
   "metadata": {
    "execution": {
     "iopub.execute_input": "2022-04-25T11:09:45.405820Z",
     "iopub.status.busy": "2022-04-25T11:09:45.404864Z",
     "iopub.status.idle": "2022-04-25T11:09:53.249632Z",
     "shell.execute_reply": "2022-04-25T11:09:53.250085Z",
     "shell.execute_reply.started": "2022-04-15T08:58:15.278858Z"
    },
    "papermill": {
     "duration": 8.003704,
     "end_time": "2022-04-25T11:09:53.250260",
     "exception": false,
     "start_time": "2022-04-25T11:09:45.246556",
     "status": "completed"
    },
    "scrolled": true,
    "tags": []
   },
   "outputs": [
    {
     "data": {
      "text/html": [
       "\n",
       "<style>\n",
       "    /* Turns off some styling */\n",
       "    progress {\n",
       "        /* gets rid of default border in Firefox and Opera. */\n",
       "        border: none;\n",
       "        /* Needs to be in here for Safari polyfill so background images work as expected. */\n",
       "        background-size: auto;\n",
       "    }\n",
       "    .progress-bar-interrupted, .progress-bar-interrupted::-webkit-progress-bar {\n",
       "        background: #F44336;\n",
       "    }\n",
       "</style>\n"
      ],
      "text/plain": [
       "<IPython.core.display.HTML object>"
      ]
     },
     "metadata": {},
     "output_type": "display_data"
    },
    {
     "data": {
      "text/html": [
       "<table border=\"1\" class=\"dataframe\">\n",
       "  <thead>\n",
       "    <tr style=\"text-align: left;\">\n",
       "      <th>epoch</th>\n",
       "      <th>train_loss</th>\n",
       "      <th>valid_loss</th>\n",
       "      <th>batch_accuracy</th>\n",
       "      <th>time</th>\n",
       "    </tr>\n",
       "  </thead>\n",
       "  <tbody>\n",
       "    <tr>\n",
       "      <td>0</td>\n",
       "      <td>0.333021</td>\n",
       "      <td>0.396112</td>\n",
       "      <td>0.512267</td>\n",
       "      <td>00:00</td>\n",
       "    </tr>\n",
       "    <tr>\n",
       "      <td>1</td>\n",
       "      <td>0.152461</td>\n",
       "      <td>0.235238</td>\n",
       "      <td>0.797350</td>\n",
       "      <td>00:00</td>\n",
       "    </tr>\n",
       "    <tr>\n",
       "      <td>2</td>\n",
       "      <td>0.083573</td>\n",
       "      <td>0.117471</td>\n",
       "      <td>0.911678</td>\n",
       "      <td>00:00</td>\n",
       "    </tr>\n",
       "    <tr>\n",
       "      <td>3</td>\n",
       "      <td>0.054309</td>\n",
       "      <td>0.078720</td>\n",
       "      <td>0.940628</td>\n",
       "      <td>00:00</td>\n",
       "    </tr>\n",
       "    <tr>\n",
       "      <td>4</td>\n",
       "      <td>0.040829</td>\n",
       "      <td>0.061228</td>\n",
       "      <td>0.956330</td>\n",
       "      <td>00:00</td>\n",
       "    </tr>\n",
       "    <tr>\n",
       "      <td>5</td>\n",
       "      <td>0.034006</td>\n",
       "      <td>0.051490</td>\n",
       "      <td>0.963690</td>\n",
       "      <td>00:00</td>\n",
       "    </tr>\n",
       "    <tr>\n",
       "      <td>6</td>\n",
       "      <td>0.030123</td>\n",
       "      <td>0.045381</td>\n",
       "      <td>0.966634</td>\n",
       "      <td>00:00</td>\n",
       "    </tr>\n",
       "    <tr>\n",
       "      <td>7</td>\n",
       "      <td>0.027619</td>\n",
       "      <td>0.041218</td>\n",
       "      <td>0.968106</td>\n",
       "      <td>00:00</td>\n",
       "    </tr>\n",
       "    <tr>\n",
       "      <td>8</td>\n",
       "      <td>0.025825</td>\n",
       "      <td>0.038200</td>\n",
       "      <td>0.969087</td>\n",
       "      <td>00:00</td>\n",
       "    </tr>\n",
       "    <tr>\n",
       "      <td>9</td>\n",
       "      <td>0.024441</td>\n",
       "      <td>0.035901</td>\n",
       "      <td>0.969578</td>\n",
       "      <td>00:00</td>\n",
       "    </tr>\n",
       "    <tr>\n",
       "      <td>10</td>\n",
       "      <td>0.023321</td>\n",
       "      <td>0.034082</td>\n",
       "      <td>0.971541</td>\n",
       "      <td>00:00</td>\n",
       "    </tr>\n",
       "    <tr>\n",
       "      <td>11</td>\n",
       "      <td>0.022387</td>\n",
       "      <td>0.032598</td>\n",
       "      <td>0.972031</td>\n",
       "      <td>00:00</td>\n",
       "    </tr>\n",
       "    <tr>\n",
       "      <td>12</td>\n",
       "      <td>0.021592</td>\n",
       "      <td>0.031353</td>\n",
       "      <td>0.974485</td>\n",
       "      <td>00:00</td>\n",
       "    </tr>\n",
       "    <tr>\n",
       "      <td>13</td>\n",
       "      <td>0.020904</td>\n",
       "      <td>0.030284</td>\n",
       "      <td>0.975466</td>\n",
       "      <td>00:00</td>\n",
       "    </tr>\n",
       "    <tr>\n",
       "      <td>14</td>\n",
       "      <td>0.020300</td>\n",
       "      <td>0.029352</td>\n",
       "      <td>0.975466</td>\n",
       "      <td>00:00</td>\n",
       "    </tr>\n",
       "    <tr>\n",
       "      <td>15</td>\n",
       "      <td>0.019766</td>\n",
       "      <td>0.028526</td>\n",
       "      <td>0.975466</td>\n",
       "      <td>00:00</td>\n",
       "    </tr>\n",
       "    <tr>\n",
       "      <td>16</td>\n",
       "      <td>0.019288</td>\n",
       "      <td>0.027788</td>\n",
       "      <td>0.976448</td>\n",
       "      <td>00:00</td>\n",
       "    </tr>\n",
       "    <tr>\n",
       "      <td>17</td>\n",
       "      <td>0.018857</td>\n",
       "      <td>0.027124</td>\n",
       "      <td>0.977429</td>\n",
       "      <td>00:00</td>\n",
       "    </tr>\n",
       "    <tr>\n",
       "      <td>18</td>\n",
       "      <td>0.018465</td>\n",
       "      <td>0.026523</td>\n",
       "      <td>0.978410</td>\n",
       "      <td>00:00</td>\n",
       "    </tr>\n",
       "    <tr>\n",
       "      <td>19</td>\n",
       "      <td>0.018107</td>\n",
       "      <td>0.025977</td>\n",
       "      <td>0.978901</td>\n",
       "      <td>00:00</td>\n",
       "    </tr>\n",
       "    <tr>\n",
       "      <td>20</td>\n",
       "      <td>0.017777</td>\n",
       "      <td>0.025479</td>\n",
       "      <td>0.978901</td>\n",
       "      <td>00:00</td>\n",
       "    </tr>\n",
       "    <tr>\n",
       "      <td>21</td>\n",
       "      <td>0.017473</td>\n",
       "      <td>0.025022</td>\n",
       "      <td>0.979392</td>\n",
       "      <td>00:00</td>\n",
       "    </tr>\n",
       "    <tr>\n",
       "      <td>22</td>\n",
       "      <td>0.017191</td>\n",
       "      <td>0.024601</td>\n",
       "      <td>0.980373</td>\n",
       "      <td>00:00</td>\n",
       "    </tr>\n",
       "    <tr>\n",
       "      <td>23</td>\n",
       "      <td>0.016927</td>\n",
       "      <td>0.024213</td>\n",
       "      <td>0.980373</td>\n",
       "      <td>00:00</td>\n",
       "    </tr>\n",
       "    <tr>\n",
       "      <td>24</td>\n",
       "      <td>0.016680</td>\n",
       "      <td>0.023855</td>\n",
       "      <td>0.981354</td>\n",
       "      <td>00:00</td>\n",
       "    </tr>\n",
       "    <tr>\n",
       "      <td>25</td>\n",
       "      <td>0.016449</td>\n",
       "      <td>0.023521</td>\n",
       "      <td>0.981354</td>\n",
       "      <td>00:00</td>\n",
       "    </tr>\n",
       "    <tr>\n",
       "      <td>26</td>\n",
       "      <td>0.016230</td>\n",
       "      <td>0.023211</td>\n",
       "      <td>0.981354</td>\n",
       "      <td>00:00</td>\n",
       "    </tr>\n",
       "    <tr>\n",
       "      <td>27</td>\n",
       "      <td>0.016023</td>\n",
       "      <td>0.022922</td>\n",
       "      <td>0.981354</td>\n",
       "      <td>00:00</td>\n",
       "    </tr>\n",
       "    <tr>\n",
       "      <td>28</td>\n",
       "      <td>0.015827</td>\n",
       "      <td>0.022653</td>\n",
       "      <td>0.981845</td>\n",
       "      <td>00:00</td>\n",
       "    </tr>\n",
       "    <tr>\n",
       "      <td>29</td>\n",
       "      <td>0.015641</td>\n",
       "      <td>0.022401</td>\n",
       "      <td>0.981845</td>\n",
       "      <td>00:00</td>\n",
       "    </tr>\n",
       "    <tr>\n",
       "      <td>30</td>\n",
       "      <td>0.015463</td>\n",
       "      <td>0.022165</td>\n",
       "      <td>0.981845</td>\n",
       "      <td>00:00</td>\n",
       "    </tr>\n",
       "    <tr>\n",
       "      <td>31</td>\n",
       "      <td>0.015294</td>\n",
       "      <td>0.021944</td>\n",
       "      <td>0.983317</td>\n",
       "      <td>00:00</td>\n",
       "    </tr>\n",
       "    <tr>\n",
       "      <td>32</td>\n",
       "      <td>0.015132</td>\n",
       "      <td>0.021736</td>\n",
       "      <td>0.982826</td>\n",
       "      <td>00:00</td>\n",
       "    </tr>\n",
       "    <tr>\n",
       "      <td>33</td>\n",
       "      <td>0.014977</td>\n",
       "      <td>0.021541</td>\n",
       "      <td>0.982826</td>\n",
       "      <td>00:00</td>\n",
       "    </tr>\n",
       "    <tr>\n",
       "      <td>34</td>\n",
       "      <td>0.014828</td>\n",
       "      <td>0.021357</td>\n",
       "      <td>0.982336</td>\n",
       "      <td>00:00</td>\n",
       "    </tr>\n",
       "    <tr>\n",
       "      <td>35</td>\n",
       "      <td>0.014686</td>\n",
       "      <td>0.021184</td>\n",
       "      <td>0.982336</td>\n",
       "      <td>00:00</td>\n",
       "    </tr>\n",
       "    <tr>\n",
       "      <td>36</td>\n",
       "      <td>0.014549</td>\n",
       "      <td>0.021019</td>\n",
       "      <td>0.982336</td>\n",
       "      <td>00:00</td>\n",
       "    </tr>\n",
       "    <tr>\n",
       "      <td>37</td>\n",
       "      <td>0.014417</td>\n",
       "      <td>0.020864</td>\n",
       "      <td>0.982336</td>\n",
       "      <td>00:00</td>\n",
       "    </tr>\n",
       "    <tr>\n",
       "      <td>38</td>\n",
       "      <td>0.014290</td>\n",
       "      <td>0.020716</td>\n",
       "      <td>0.982336</td>\n",
       "      <td>00:00</td>\n",
       "    </tr>\n",
       "    <tr>\n",
       "      <td>39</td>\n",
       "      <td>0.014168</td>\n",
       "      <td>0.020576</td>\n",
       "      <td>0.982336</td>\n",
       "      <td>00:00</td>\n",
       "    </tr>\n",
       "  </tbody>\n",
       "</table>"
      ],
      "text/plain": [
       "<IPython.core.display.HTML object>"
      ]
     },
     "metadata": {},
     "output_type": "display_data"
    }
   ],
   "source": [
    "learn.fit(40, 0.1)"
   ]
  },
  {
   "cell_type": "markdown",
   "id": "d843c8ad",
   "metadata": {
    "papermill": {
     "duration": 0.154014,
     "end_time": "2022-04-25T11:09:53.558978",
     "exception": false,
     "start_time": "2022-04-25T11:09:53.404964",
     "status": "completed"
    },
    "tags": []
   },
   "source": [
    "the training process is recorded in `learn.recorder`, with the table of output stored in the `values` attribute, so we can plot the accuracy over training as:"
   ]
  },
  {
   "cell_type": "code",
   "execution_count": 109,
   "id": "4e1f7830",
   "metadata": {
    "execution": {
     "iopub.execute_input": "2022-04-25T11:09:53.925809Z",
     "iopub.status.busy": "2022-04-25T11:09:53.925183Z",
     "iopub.status.idle": "2022-04-25T11:09:54.076575Z",
     "shell.execute_reply": "2022-04-25T11:09:54.075734Z",
     "shell.execute_reply.started": "2022-04-15T08:58:49.497401Z"
    },
    "papermill": {
     "duration": 0.36309,
     "end_time": "2022-04-25T11:09:54.076716",
     "exception": false,
     "start_time": "2022-04-25T11:09:53.713626",
     "status": "completed"
    },
    "tags": []
   },
   "outputs": [
    {
     "data": {
      "image/png": "[encoded data removed]",
      "text/plain": [
       "<Figure size 432x288 with 1 Axes>"
      ]
     },
     "metadata": {
      "needs_background": "light"
     },
     "output_type": "display_data"
    }
   ],
   "source": [
    "plt.plot(L(learn.recorder.values).itemgot(2));"
   ]
  },
  {
   "cell_type": "markdown",
   "id": "b0ea70a3",
   "metadata": {
    "papermill": {
     "duration": 0.155132,
     "end_time": "2022-04-25T11:09:54.389251",
     "exception": false,
     "start_time": "2022-04-25T11:09:54.234119",
     "status": "completed"
    },
    "tags": []
   },
   "source": [
    "And we can view the final accuracy:"
   ]
  },
  {
   "cell_type": "code",
   "execution_count": 110,
   "id": "34977ed8",
   "metadata": {
    "execution": {
     "iopub.execute_input": "2022-04-25T11:09:54.705962Z",
     "iopub.status.busy": "2022-04-25T11:09:54.705316Z",
     "iopub.status.idle": "2022-04-25T11:09:54.709601Z",
     "shell.execute_reply": "2022-04-25T11:09:54.710145Z",
     "shell.execute_reply.started": "2022-04-15T08:59:05.752252Z"
    },
    "papermill": {
     "duration": 0.164126,
     "end_time": "2022-04-25T11:09:54.710312",
     "exception": false,
     "start_time": "2022-04-25T11:09:54.546186",
     "status": "completed"
    },
    "tags": []
   },
   "outputs": [
    {
     "data": {
      "text/plain": [
       "0.98233562707901"
      ]
     },
     "execution_count": 110,
     "metadata": {},
     "output_type": "execute_result"
    }
   ],
   "source": [
    "learn.recorder.values[-1][2]"
   ]
  },
  {
   "cell_type": "markdown",
   "id": "6100885a",
   "metadata": {
    "papermill": {
     "duration": 0.165455,
     "end_time": "2022-04-25T11:09:55.035236",
     "exception": false,
     "start_time": "2022-04-25T11:09:54.869781",
     "status": "completed"
    },
    "tags": []
   },
   "source": [
    "At this point we have something that is rather magical:\n",
    "\n",
    "1. A function that can solve any problem to any level of accuracy (the neural network) given the correct set of parameters\n",
    "1. A way to find the best set of parameters for any function (stochastic gradient descent)\n",
    "\n",
    "This is why deep learning can do things which seem rather magical, such fantastic things. Believing that this combination of simple techniques can really solve any problem is one of the biggest steps that we find many students have to take. It seems too good to be true—surely things should be more difficult and complicated than this? Our recommendation: try it out! We just tried it on the MNIST dataset and you have seen the results. And since we are doing everything from scratch ourselves (except for calculating the gradients) you know that there is no special magic hiding behind the scenes."
   ]
  },
  {
   "cell_type": "markdown",
   "id": "96c93122",
   "metadata": {
    "papermill": {
     "duration": 0.161079,
     "end_time": "2022-04-25T11:09:55.354866",
     "exception": false,
     "start_time": "2022-04-25T11:09:55.193787",
     "status": "completed"
    },
    "tags": []
   },
   "source": [
    "# Excercises\n",
    "\n",
    "Retry to do the \"An End-to-End SGD Example\" but using a smaller and a bigger learning rate and see what happens"
   ]
  },
  {
   "cell_type": "code",
   "execution_count": null,
   "id": "381a9b03",
   "metadata": {
    "papermill": {
     "duration": 0.158917,
     "end_time": "2022-04-25T11:09:55.670882",
     "exception": false,
     "start_time": "2022-04-25T11:09:55.511965",
     "status": "completed"
    },
    "tags": []
   },
   "outputs": [],
   "source": []
  }
 ],
 "metadata": {
  "kernelspec": {
   "display_name": "Python 3",
   "language": "python",
   "name": "python3"
  },
  "language_info": {
   "codemirror_mode": {
    "name": "ipython",
    "version": 3
   },
   "file_extension": ".py",
   "mimetype": "text/x-python",
   "name": "python",
   "nbconvert_exporter": "python",
   "pygments_lexer": "ipython3",
   "version": "3.7.12"
  },
  "papermill": {
   "default_parameters": {},
   "duration": 125.835737,
   "end_time": "2022-04-25T11:09:56.839971",
   "environment_variables": {},
   "exception": null,
   "input_path": "__notebook__.ipynb",
   "output_path": "__notebook__.ipynb",
   "parameters": {},
   "start_time": "2022-04-25T11:07:51.004234",
   "version": "2.3.3"
  }
 },
 "nbformat": 4,
 "nbformat_minor": 5
}
